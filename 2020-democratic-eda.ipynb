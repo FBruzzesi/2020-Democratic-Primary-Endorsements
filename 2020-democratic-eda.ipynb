{
 "cells": [
  {
   "cell_type": "markdown",
   "metadata": {},
   "source": [
    "# 2020 Democratic Primary Endorsements\n",
    "\n",
    "**Remark** I have no domain knoledge, thus let me know if I am missing something useful or misusing/misunderstanding the data.\n",
    "\n",
    "The goal of the notebook is to first analyze various statistics of endorsers which endorsed a candidate, and later do a less in deep analysis for the rest of endorsers in the list with no endorsee.\n",
    "\n",
    "* [Data Cleaning](#cleaning)\n",
    "* [Endorsee Analysis](#endorsee)\n",
    "    - [Endorsee Summary Table](#summarytable)\n",
    "    - [Endorsees Comparision](#comparison)\n",
    "* [Endorsers with no Endorsee](#noend)\n",
    "* [What's Next](#next)"
   ]
  },
  {
   "cell_type": "markdown",
   "metadata": {},
   "source": [
    "<a id=\"cleaning\"></a>\n",
    "# Data Cleaning\n",
    "\n",
    "Let's start by loading libraries and the dataset, deal with its missing values and clean columns."
   ]
  },
  {
   "cell_type": "code",
   "execution_count": 1,
   "metadata": {
    "_cell_guid": "b1076dfc-b9ad-4769-8c92-a6c4dae69d19",
    "_kg_hide-input": true,
    "_uuid": "8f2839f25d086af736a60e9eeb907d3b93b6e0e5"
   },
   "outputs": [
    {
     "data": {
      "text/html": [
       "        <script type=\"text/javascript\">\n",
       "        window.PlotlyConfig = {MathJaxConfig: 'local'};\n",
       "        if (window.MathJax) {MathJax.Hub.Config({SVG: {font: \"STIX-Web\"}});}\n",
       "        if (typeof require !== 'undefined') {\n",
       "        require.undef(\"plotly\");\n",
       "        requirejs.config({\n",
       "            paths: {\n",
       "                'plotly': ['https://cdn.plot.ly/plotly-latest.min']\n",
       "            }\n",
       "        });\n",
       "        require(['plotly'], function(Plotly) {\n",
       "            window._Plotly = Plotly;\n",
       "        });\n",
       "        }\n",
       "        </script>\n",
       "        "
      ]
     },
     "metadata": {},
     "output_type": "display_data"
    },
    {
     "name": "stdout",
     "output_type": "stream",
     "text": [
      "/kaggle/input/2020-democratic-primary-endorsements/endorsements-2020.csv\n"
     ]
    }
   ],
   "source": [
    "import pandas as pd\n",
    "pd.set_option('display.max_columns', 100)\n",
    "pd.set_option('display.max_rows', 100)\n",
    "\n",
    "import numpy as np\n",
    "import matplotlib.pyplot as plt\n",
    "import seaborn as sns\n",
    "import scipy.stats as stats\n",
    "%matplotlib inline\n",
    "\n",
    "import plotly\n",
    "import plotly.express as px\n",
    "import plotly.graph_objs as go\n",
    "from plotly.offline import iplot, init_notebook_mode\n",
    "import plotly.figure_factory as ff\n",
    "from plotly import subplots\n",
    "from plotly.subplots import make_subplots\n",
    "init_notebook_mode(connected=True)\n",
    "\n",
    "from datetime import date, datetime, timedelta\n",
    "import time, re, os\n",
    "\n",
    "for dirname, _, filenames in os.walk('/kaggle/input'):\n",
    "    for filename in filenames:\n",
    "        print(os.path.join(dirname, filename))\n",
    "\n"
   ]
  },
  {
   "cell_type": "code",
   "execution_count": 2,
   "metadata": {
    "_cell_guid": "79c7e3d0-c299-4dcb-8224-4455121ee9b0",
    "_kg_hide-input": true,
    "_uuid": "d629ff2d2480ee46fbb7e2d37f6b5fab8052498a"
   },
   "outputs": [
    {
     "data": {
      "text/html": [
       "<div>\n",
       "<style scoped>\n",
       "    .dataframe tbody tr th:only-of-type {\n",
       "        vertical-align: middle;\n",
       "    }\n",
       "\n",
       "    .dataframe tbody tr th {\n",
       "        vertical-align: top;\n",
       "    }\n",
       "\n",
       "    .dataframe thead th {\n",
       "        text-align: right;\n",
       "    }\n",
       "</style>\n",
       "<table border=\"1\" class=\"dataframe\">\n",
       "  <thead>\n",
       "    <tr style=\"text-align: right;\">\n",
       "      <th></th>\n",
       "      <th>date</th>\n",
       "      <th>position</th>\n",
       "      <th>city</th>\n",
       "      <th>state</th>\n",
       "      <th>endorser</th>\n",
       "      <th>endorsee</th>\n",
       "      <th>endorser party</th>\n",
       "      <th>source</th>\n",
       "      <th>order</th>\n",
       "      <th>category</th>\n",
       "      <th>body</th>\n",
       "      <th>district</th>\n",
       "      <th>points</th>\n",
       "    </tr>\n",
       "  </thead>\n",
       "  <tbody>\n",
       "    <tr>\n",
       "      <th>0</th>\n",
       "      <td>2017-07-28</td>\n",
       "      <td>representative</td>\n",
       "      <td>NaN</td>\n",
       "      <td>MD</td>\n",
       "      <td>David Trone</td>\n",
       "      <td>John Delaney</td>\n",
       "      <td>D</td>\n",
       "      <td>https://twitter.com/davidjtrone/status/8909859...</td>\n",
       "      <td>NaN</td>\n",
       "      <td>Representatives</td>\n",
       "      <td>NaN</td>\n",
       "      <td>6.0</td>\n",
       "      <td>3</td>\n",
       "    </tr>\n",
       "    <tr>\n",
       "      <th>1</th>\n",
       "      <td>2019-01-02</td>\n",
       "      <td>governor</td>\n",
       "      <td>NaN</td>\n",
       "      <td>NY</td>\n",
       "      <td>Andrew Cuomo</td>\n",
       "      <td>Joe Biden</td>\n",
       "      <td>D</td>\n",
       "      <td>https://www.cnn.com/2019/01/02/politics/cuomo-...</td>\n",
       "      <td>NaN</td>\n",
       "      <td>Governors</td>\n",
       "      <td>NaN</td>\n",
       "      <td>NaN</td>\n",
       "      <td>8</td>\n",
       "    </tr>\n",
       "    <tr>\n",
       "      <th>2</th>\n",
       "      <td>2019-01-03</td>\n",
       "      <td>senator</td>\n",
       "      <td>NaN</td>\n",
       "      <td>CA</td>\n",
       "      <td>Dianne Feinstein</td>\n",
       "      <td>Joe Biden</td>\n",
       "      <td>D</td>\n",
       "      <td>https://www.politico.com/story/2019/01/03/dian...</td>\n",
       "      <td>NaN</td>\n",
       "      <td>Senators</td>\n",
       "      <td>NaN</td>\n",
       "      <td>NaN</td>\n",
       "      <td>6</td>\n",
       "    </tr>\n",
       "    <tr>\n",
       "      <th>3</th>\n",
       "      <td>2019-01-08</td>\n",
       "      <td>senator</td>\n",
       "      <td>NaN</td>\n",
       "      <td>DE</td>\n",
       "      <td>Thomas R. Carper</td>\n",
       "      <td>Joe Biden</td>\n",
       "      <td>D</td>\n",
       "      <td>https://fox61.com/2019/01/08/will-he-or-wont-h...</td>\n",
       "      <td>NaN</td>\n",
       "      <td>Senators</td>\n",
       "      <td>NaN</td>\n",
       "      <td>NaN</td>\n",
       "      <td>6</td>\n",
       "    </tr>\n",
       "    <tr>\n",
       "      <th>4</th>\n",
       "      <td>2019-01-12</td>\n",
       "      <td>mayor</td>\n",
       "      <td>San Antonio</td>\n",
       "      <td>TX</td>\n",
       "      <td>Ron Nirenberg</td>\n",
       "      <td>Julian Castro</td>\n",
       "      <td>NaN</td>\n",
       "      <td>https://www.sacurrent.com/the-daily/archives/2...</td>\n",
       "      <td>6.0</td>\n",
       "      <td>Mayors</td>\n",
       "      <td>NaN</td>\n",
       "      <td>NaN</td>\n",
       "      <td>3</td>\n",
       "    </tr>\n",
       "    <tr>\n",
       "      <th>5</th>\n",
       "      <td>2019-01-21</td>\n",
       "      <td>DNC member</td>\n",
       "      <td>NaN</td>\n",
       "      <td>CA</td>\n",
       "      <td>Laphonza Butler</td>\n",
       "      <td>Kamala Harris</td>\n",
       "      <td>D</td>\n",
       "      <td>https://www.politico.com/states/california/sto...</td>\n",
       "      <td>NaN</td>\n",
       "      <td>DNC members</td>\n",
       "      <td>NaN</td>\n",
       "      <td>NaN</td>\n",
       "      <td>1</td>\n",
       "    </tr>\n",
       "    <tr>\n",
       "      <th>6</th>\n",
       "      <td>2019-01-25</td>\n",
       "      <td>DNC member</td>\n",
       "      <td>NaN</td>\n",
       "      <td>DC</td>\n",
       "      <td>James J. Zogby</td>\n",
       "      <td>Bernie Sanders</td>\n",
       "      <td>D</td>\n",
       "      <td>https://twitter.com/jjz1600/status/10889744588...</td>\n",
       "      <td>NaN</td>\n",
       "      <td>DNC members</td>\n",
       "      <td>NaN</td>\n",
       "      <td>NaN</td>\n",
       "      <td>1</td>\n",
       "    </tr>\n",
       "    <tr>\n",
       "      <th>7</th>\n",
       "      <td>2019-01-27</td>\n",
       "      <td>lieutenant governor</td>\n",
       "      <td>NaN</td>\n",
       "      <td>CA</td>\n",
       "      <td>Eleni Kounalakis</td>\n",
       "      <td>Kamala Harris</td>\n",
       "      <td>D</td>\n",
       "      <td>https://twitter.com/EleniForCA/status/10896281...</td>\n",
       "      <td>19.0</td>\n",
       "      <td>Statewide officeholders</td>\n",
       "      <td>NaN</td>\n",
       "      <td>NaN</td>\n",
       "      <td>2</td>\n",
       "    </tr>\n",
       "    <tr>\n",
       "      <th>8</th>\n",
       "      <td>2019-01-27</td>\n",
       "      <td>mayor</td>\n",
       "      <td>Oakland</td>\n",
       "      <td>CA</td>\n",
       "      <td>Libby Schaaf</td>\n",
       "      <td>Kamala Harris</td>\n",
       "      <td>D</td>\n",
       "      <td>https://www.mercurynews.com/2019/01/27/kamala-...</td>\n",
       "      <td>43.0</td>\n",
       "      <td>Mayors</td>\n",
       "      <td>NaN</td>\n",
       "      <td>NaN</td>\n",
       "      <td>3</td>\n",
       "    </tr>\n",
       "    <tr>\n",
       "      <th>9</th>\n",
       "      <td>2019-01-28</td>\n",
       "      <td>representative</td>\n",
       "      <td>NaN</td>\n",
       "      <td>CA</td>\n",
       "      <td>Ted Lieu</td>\n",
       "      <td>Kamala Harris</td>\n",
       "      <td>D</td>\n",
       "      <td>https://thehill.com/homenews/house/427255-ted-...</td>\n",
       "      <td>NaN</td>\n",
       "      <td>Representatives</td>\n",
       "      <td>NaN</td>\n",
       "      <td>33.0</td>\n",
       "      <td>3</td>\n",
       "    </tr>\n",
       "  </tbody>\n",
       "</table>\n",
       "</div>"
      ],
      "text/plain": [
       "         date             position         city state          endorser  \\\n",
       "0  2017-07-28       representative          NaN    MD       David Trone   \n",
       "1  2019-01-02             governor          NaN    NY      Andrew Cuomo   \n",
       "2  2019-01-03              senator          NaN    CA  Dianne Feinstein   \n",
       "3  2019-01-08              senator          NaN    DE  Thomas R. Carper   \n",
       "4  2019-01-12                mayor  San Antonio    TX     Ron Nirenberg   \n",
       "5  2019-01-21           DNC member          NaN    CA   Laphonza Butler   \n",
       "6  2019-01-25           DNC member          NaN    DC    James J. Zogby   \n",
       "7  2019-01-27  lieutenant governor          NaN    CA  Eleni Kounalakis   \n",
       "8  2019-01-27                mayor      Oakland    CA      Libby Schaaf   \n",
       "9  2019-01-28       representative          NaN    CA          Ted Lieu   \n",
       "\n",
       "         endorsee endorser party  \\\n",
       "0    John Delaney              D   \n",
       "1       Joe Biden              D   \n",
       "2       Joe Biden              D   \n",
       "3       Joe Biden              D   \n",
       "4   Julian Castro            NaN   \n",
       "5   Kamala Harris              D   \n",
       "6  Bernie Sanders              D   \n",
       "7   Kamala Harris              D   \n",
       "8   Kamala Harris              D   \n",
       "9   Kamala Harris              D   \n",
       "\n",
       "                                              source  order  \\\n",
       "0  https://twitter.com/davidjtrone/status/8909859...    NaN   \n",
       "1  https://www.cnn.com/2019/01/02/politics/cuomo-...    NaN   \n",
       "2  https://www.politico.com/story/2019/01/03/dian...    NaN   \n",
       "3  https://fox61.com/2019/01/08/will-he-or-wont-h...    NaN   \n",
       "4  https://www.sacurrent.com/the-daily/archives/2...    6.0   \n",
       "5  https://www.politico.com/states/california/sto...    NaN   \n",
       "6  https://twitter.com/jjz1600/status/10889744588...    NaN   \n",
       "7  https://twitter.com/EleniForCA/status/10896281...   19.0   \n",
       "8  https://www.mercurynews.com/2019/01/27/kamala-...   43.0   \n",
       "9  https://thehill.com/homenews/house/427255-ted-...    NaN   \n",
       "\n",
       "                  category body  district  points  \n",
       "0          Representatives  NaN       6.0       3  \n",
       "1                Governors  NaN       NaN       8  \n",
       "2                 Senators  NaN       NaN       6  \n",
       "3                 Senators  NaN       NaN       6  \n",
       "4                   Mayors  NaN       NaN       3  \n",
       "5              DNC members  NaN       NaN       1  \n",
       "6              DNC members  NaN       NaN       1  \n",
       "7  Statewide officeholders  NaN       NaN       2  \n",
       "8                   Mayors  NaN       NaN       3  \n",
       "9          Representatives  NaN      33.0       3  "
      ]
     },
     "execution_count": 2,
     "metadata": {},
     "output_type": "execute_result"
    }
   ],
   "source": [
    "def resumetable(df):\n",
    "    print(f\"Dataset Shape: {df.shape}\")\n",
    "    summary = pd.DataFrame(df.dtypes, columns=['dtypes'])\n",
    "    summary = summary.reset_index()\n",
    "    summary['Name'] = summary['index']\n",
    "    summary = summary[['Name','dtypes']]\n",
    "    summary['Missing'] = df.isnull().sum().values    \n",
    "    summary['Uniques'] = df.nunique().values\n",
    "\n",
    "    return summary\n",
    "\n",
    "df = pd.read_csv('/kaggle/input/2020-democratic-primary-endorsements/endorsements-2020.csv')\n",
    "df.head(10)"
   ]
  },
  {
   "cell_type": "markdown",
   "metadata": {},
   "source": [
    "Let's rename *endorser party* column which is spaced and check some initial statistics."
   ]
  },
  {
   "cell_type": "code",
   "execution_count": 3,
   "metadata": {},
   "outputs": [
    {
     "name": "stdout",
     "output_type": "stream",
     "text": [
      "Dataset Shape: (1006, 13)\n"
     ]
    },
    {
     "data": {
      "text/html": [
       "<div>\n",
       "<style scoped>\n",
       "    .dataframe tbody tr th:only-of-type {\n",
       "        vertical-align: middle;\n",
       "    }\n",
       "\n",
       "    .dataframe tbody tr th {\n",
       "        vertical-align: top;\n",
       "    }\n",
       "\n",
       "    .dataframe thead th {\n",
       "        text-align: right;\n",
       "    }\n",
       "</style>\n",
       "<table border=\"1\" class=\"dataframe\">\n",
       "  <thead>\n",
       "    <tr style=\"text-align: right;\">\n",
       "      <th></th>\n",
       "      <th>Name</th>\n",
       "      <th>dtypes</th>\n",
       "      <th>Missing</th>\n",
       "      <th>Uniques</th>\n",
       "    </tr>\n",
       "  </thead>\n",
       "  <tbody>\n",
       "    <tr>\n",
       "      <th>0</th>\n",
       "      <td>date</td>\n",
       "      <td>object</td>\n",
       "      <td>757</td>\n",
       "      <td>135</td>\n",
       "    </tr>\n",
       "    <tr>\n",
       "      <th>1</th>\n",
       "      <td>position</td>\n",
       "      <td>object</td>\n",
       "      <td>0</td>\n",
       "      <td>51</td>\n",
       "    </tr>\n",
       "    <tr>\n",
       "      <th>2</th>\n",
       "      <td>city</td>\n",
       "      <td>object</td>\n",
       "      <td>959</td>\n",
       "      <td>47</td>\n",
       "    </tr>\n",
       "    <tr>\n",
       "      <th>3</th>\n",
       "      <td>state</td>\n",
       "      <td>object</td>\n",
       "      <td>0</td>\n",
       "      <td>57</td>\n",
       "    </tr>\n",
       "    <tr>\n",
       "      <th>4</th>\n",
       "      <td>endorser</td>\n",
       "      <td>object</td>\n",
       "      <td>0</td>\n",
       "      <td>1006</td>\n",
       "    </tr>\n",
       "    <tr>\n",
       "      <th>5</th>\n",
       "      <td>endorsee</td>\n",
       "      <td>object</td>\n",
       "      <td>757</td>\n",
       "      <td>16</td>\n",
       "    </tr>\n",
       "    <tr>\n",
       "      <th>6</th>\n",
       "      <td>party</td>\n",
       "      <td>object</td>\n",
       "      <td>7</td>\n",
       "      <td>4</td>\n",
       "    </tr>\n",
       "    <tr>\n",
       "      <th>7</th>\n",
       "      <td>source</td>\n",
       "      <td>object</td>\n",
       "      <td>757</td>\n",
       "      <td>210</td>\n",
       "    </tr>\n",
       "    <tr>\n",
       "      <th>8</th>\n",
       "      <td>order</td>\n",
       "      <td>float64</td>\n",
       "      <td>850</td>\n",
       "      <td>129</td>\n",
       "    </tr>\n",
       "    <tr>\n",
       "      <th>9</th>\n",
       "      <td>category</td>\n",
       "      <td>object</td>\n",
       "      <td>0</td>\n",
       "      <td>12</td>\n",
       "    </tr>\n",
       "    <tr>\n",
       "      <th>10</th>\n",
       "      <td>body</td>\n",
       "      <td>object</td>\n",
       "      <td>901</td>\n",
       "      <td>5</td>\n",
       "    </tr>\n",
       "    <tr>\n",
       "      <th>11</th>\n",
       "      <td>district</td>\n",
       "      <td>float64</td>\n",
       "      <td>775</td>\n",
       "      <td>51</td>\n",
       "    </tr>\n",
       "    <tr>\n",
       "      <th>12</th>\n",
       "      <td>points</td>\n",
       "      <td>int64</td>\n",
       "      <td>0</td>\n",
       "      <td>7</td>\n",
       "    </tr>\n",
       "  </tbody>\n",
       "</table>\n",
       "</div>"
      ],
      "text/plain": [
       "        Name   dtypes  Missing  Uniques\n",
       "0       date   object      757      135\n",
       "1   position   object        0       51\n",
       "2       city   object      959       47\n",
       "3      state   object        0       57\n",
       "4   endorser   object        0     1006\n",
       "5   endorsee   object      757       16\n",
       "6      party   object        7        4\n",
       "7     source   object      757      210\n",
       "8      order  float64      850      129\n",
       "9   category   object        0       12\n",
       "10      body   object      901        5\n",
       "11  district  float64      775       51\n",
       "12    points    int64        0        7"
      ]
     },
     "execution_count": 3,
     "metadata": {},
     "output_type": "execute_result"
    }
   ],
   "source": [
    "df.rename(columns={'endorser party': 'party'}, inplace=True)\n",
    "resumetable(df)"
   ]
  },
  {
   "cell_type": "markdown",
   "metadata": {},
   "source": [
    "We can already see that each *Endorser* is unique in the dataframe, however most of them (~75%) do not have an *Endorsee*.\n",
    "Other columns with a high number of missing values are *city*, *body*, *order*, *district*, *date* and *source*."
   ]
  },
  {
   "cell_type": "code",
   "execution_count": 4,
   "metadata": {
    "_kg_hide-input": true
   },
   "outputs": [
    {
     "data": {
      "application/vnd.plotly.v1+json": {
       "config": {
        "plotlyServerURL": "https://plot.ly"
       },
       "data": [
        {
         "marker": {
          "color": "indianred"
         },
         "opacity": 0.9,
         "text": [
          95.33,
          89.56,
          84.49,
          77.04,
          75.25,
          75.25,
          75.25,
          0.7,
          0.0,
          0.0,
          0.0,
          0.0,
          0.0
         ],
         "textposition": "inside",
         "type": "bar",
         "x": [
          "city",
          "body",
          "order",
          "district",
          "date",
          "endorsee",
          "source",
          "party",
          "position",
          "state",
          "endorser",
          "category",
          "points"
         ],
         "y": [
          95.33,
          89.56,
          84.49,
          77.04,
          75.25,
          75.25,
          75.25,
          0.7,
          0.0,
          0.0,
          0.0,
          0.0,
          0.0
         ]
        }
       ],
       "layout": {
        "bargap": 0.1,
        "showlegend": false,
        "template": {
         "data": {
          "bar": [
           {
            "error_x": {
             "color": "#2a3f5f"
            },
            "error_y": {
             "color": "#2a3f5f"
            },
            "marker": {
             "line": {
              "color": "#E5ECF6",
              "width": 0.5
             }
            },
            "type": "bar"
           }
          ],
          "barpolar": [
           {
            "marker": {
             "line": {
              "color": "#E5ECF6",
              "width": 0.5
             }
            },
            "type": "barpolar"
           }
          ],
          "carpet": [
           {
            "aaxis": {
             "endlinecolor": "#2a3f5f",
             "gridcolor": "white",
             "linecolor": "white",
             "minorgridcolor": "white",
             "startlinecolor": "#2a3f5f"
            },
            "baxis": {
             "endlinecolor": "#2a3f5f",
             "gridcolor": "white",
             "linecolor": "white",
             "minorgridcolor": "white",
             "startlinecolor": "#2a3f5f"
            },
            "type": "carpet"
           }
          ],
          "choropleth": [
           {
            "colorbar": {
             "outlinewidth": 0,
             "ticks": ""
            },
            "type": "choropleth"
           }
          ],
          "contour": [
           {
            "colorbar": {
             "outlinewidth": 0,
             "ticks": ""
            },
            "colorscale": [
             [
              0.0,
              "#0d0887"
             ],
             [
              0.1111111111111111,
              "#46039f"
             ],
             [
              0.2222222222222222,
              "#7201a8"
             ],
             [
              0.3333333333333333,
              "#9c179e"
             ],
             [
              0.4444444444444444,
              "#bd3786"
             ],
             [
              0.5555555555555556,
              "#d8576b"
             ],
             [
              0.6666666666666666,
              "#ed7953"
             ],
             [
              0.7777777777777778,
              "#fb9f3a"
             ],
             [
              0.8888888888888888,
              "#fdca26"
             ],
             [
              1.0,
              "#f0f921"
             ]
            ],
            "type": "contour"
           }
          ],
          "contourcarpet": [
           {
            "colorbar": {
             "outlinewidth": 0,
             "ticks": ""
            },
            "type": "contourcarpet"
           }
          ],
          "heatmap": [
           {
            "colorbar": {
             "outlinewidth": 0,
             "ticks": ""
            },
            "colorscale": [
             [
              0.0,
              "#0d0887"
             ],
             [
              0.1111111111111111,
              "#46039f"
             ],
             [
              0.2222222222222222,
              "#7201a8"
             ],
             [
              0.3333333333333333,
              "#9c179e"
             ],
             [
              0.4444444444444444,
              "#bd3786"
             ],
             [
              0.5555555555555556,
              "#d8576b"
             ],
             [
              0.6666666666666666,
              "#ed7953"
             ],
             [
              0.7777777777777778,
              "#fb9f3a"
             ],
             [
              0.8888888888888888,
              "#fdca26"
             ],
             [
              1.0,
              "#f0f921"
             ]
            ],
            "type": "heatmap"
           }
          ],
          "heatmapgl": [
           {
            "colorbar": {
             "outlinewidth": 0,
             "ticks": ""
            },
            "colorscale": [
             [
              0.0,
              "#0d0887"
             ],
             [
              0.1111111111111111,
              "#46039f"
             ],
             [
              0.2222222222222222,
              "#7201a8"
             ],
             [
              0.3333333333333333,
              "#9c179e"
             ],
             [
              0.4444444444444444,
              "#bd3786"
             ],
             [
              0.5555555555555556,
              "#d8576b"
             ],
             [
              0.6666666666666666,
              "#ed7953"
             ],
             [
              0.7777777777777778,
              "#fb9f3a"
             ],
             [
              0.8888888888888888,
              "#fdca26"
             ],
             [
              1.0,
              "#f0f921"
             ]
            ],
            "type": "heatmapgl"
           }
          ],
          "histogram": [
           {
            "marker": {
             "colorbar": {
              "outlinewidth": 0,
              "ticks": ""
             }
            },
            "type": "histogram"
           }
          ],
          "histogram2d": [
           {
            "colorbar": {
             "outlinewidth": 0,
             "ticks": ""
            },
            "colorscale": [
             [
              0.0,
              "#0d0887"
             ],
             [
              0.1111111111111111,
              "#46039f"
             ],
             [
              0.2222222222222222,
              "#7201a8"
             ],
             [
              0.3333333333333333,
              "#9c179e"
             ],
             [
              0.4444444444444444,
              "#bd3786"
             ],
             [
              0.5555555555555556,
              "#d8576b"
             ],
             [
              0.6666666666666666,
              "#ed7953"
             ],
             [
              0.7777777777777778,
              "#fb9f3a"
             ],
             [
              0.8888888888888888,
              "#fdca26"
             ],
             [
              1.0,
              "#f0f921"
             ]
            ],
            "type": "histogram2d"
           }
          ],
          "histogram2dcontour": [
           {
            "colorbar": {
             "outlinewidth": 0,
             "ticks": ""
            },
            "colorscale": [
             [
              0.0,
              "#0d0887"
             ],
             [
              0.1111111111111111,
              "#46039f"
             ],
             [
              0.2222222222222222,
              "#7201a8"
             ],
             [
              0.3333333333333333,
              "#9c179e"
             ],
             [
              0.4444444444444444,
              "#bd3786"
             ],
             [
              0.5555555555555556,
              "#d8576b"
             ],
             [
              0.6666666666666666,
              "#ed7953"
             ],
             [
              0.7777777777777778,
              "#fb9f3a"
             ],
             [
              0.8888888888888888,
              "#fdca26"
             ],
             [
              1.0,
              "#f0f921"
             ]
            ],
            "type": "histogram2dcontour"
           }
          ],
          "mesh3d": [
           {
            "colorbar": {
             "outlinewidth": 0,
             "ticks": ""
            },
            "type": "mesh3d"
           }
          ],
          "parcoords": [
           {
            "line": {
             "colorbar": {
              "outlinewidth": 0,
              "ticks": ""
             }
            },
            "type": "parcoords"
           }
          ],
          "pie": [
           {
            "automargin": true,
            "type": "pie"
           }
          ],
          "scatter": [
           {
            "marker": {
             "colorbar": {
              "outlinewidth": 0,
              "ticks": ""
             }
            },
            "type": "scatter"
           }
          ],
          "scatter3d": [
           {
            "line": {
             "colorbar": {
              "outlinewidth": 0,
              "ticks": ""
             }
            },
            "marker": {
             "colorbar": {
              "outlinewidth": 0,
              "ticks": ""
             }
            },
            "type": "scatter3d"
           }
          ],
          "scattercarpet": [
           {
            "marker": {
             "colorbar": {
              "outlinewidth": 0,
              "ticks": ""
             }
            },
            "type": "scattercarpet"
           }
          ],
          "scattergeo": [
           {
            "marker": {
             "colorbar": {
              "outlinewidth": 0,
              "ticks": ""
             }
            },
            "type": "scattergeo"
           }
          ],
          "scattergl": [
           {
            "marker": {
             "colorbar": {
              "outlinewidth": 0,
              "ticks": ""
             }
            },
            "type": "scattergl"
           }
          ],
          "scattermapbox": [
           {
            "marker": {
             "colorbar": {
              "outlinewidth": 0,
              "ticks": ""
             }
            },
            "type": "scattermapbox"
           }
          ],
          "scatterpolar": [
           {
            "marker": {
             "colorbar": {
              "outlinewidth": 0,
              "ticks": ""
             }
            },
            "type": "scatterpolar"
           }
          ],
          "scatterpolargl": [
           {
            "marker": {
             "colorbar": {
              "outlinewidth": 0,
              "ticks": ""
             }
            },
            "type": "scatterpolargl"
           }
          ],
          "scatterternary": [
           {
            "marker": {
             "colorbar": {
              "outlinewidth": 0,
              "ticks": ""
             }
            },
            "type": "scatterternary"
           }
          ],
          "surface": [
           {
            "colorbar": {
             "outlinewidth": 0,
             "ticks": ""
            },
            "colorscale": [
             [
              0.0,
              "#0d0887"
             ],
             [
              0.1111111111111111,
              "#46039f"
             ],
             [
              0.2222222222222222,
              "#7201a8"
             ],
             [
              0.3333333333333333,
              "#9c179e"
             ],
             [
              0.4444444444444444,
              "#bd3786"
             ],
             [
              0.5555555555555556,
              "#d8576b"
             ],
             [
              0.6666666666666666,
              "#ed7953"
             ],
             [
              0.7777777777777778,
              "#fb9f3a"
             ],
             [
              0.8888888888888888,
              "#fdca26"
             ],
             [
              1.0,
              "#f0f921"
             ]
            ],
            "type": "surface"
           }
          ],
          "table": [
           {
            "cells": {
             "fill": {
              "color": "#EBF0F8"
             },
             "line": {
              "color": "white"
             }
            },
            "header": {
             "fill": {
              "color": "#C8D4E3"
             },
             "line": {
              "color": "white"
             }
            },
            "type": "table"
           }
          ]
         },
         "layout": {
          "annotationdefaults": {
           "arrowcolor": "#2a3f5f",
           "arrowhead": 0,
           "arrowwidth": 1
          },
          "coloraxis": {
           "colorbar": {
            "outlinewidth": 0,
            "ticks": ""
           }
          },
          "colorscale": {
           "diverging": [
            [
             0,
             "#8e0152"
            ],
            [
             0.1,
             "#c51b7d"
            ],
            [
             0.2,
             "#de77ae"
            ],
            [
             0.3,
             "#f1b6da"
            ],
            [
             0.4,
             "#fde0ef"
            ],
            [
             0.5,
             "#f7f7f7"
            ],
            [
             0.6,
             "#e6f5d0"
            ],
            [
             0.7,
             "#b8e186"
            ],
            [
             0.8,
             "#7fbc41"
            ],
            [
             0.9,
             "#4d9221"
            ],
            [
             1,
             "#276419"
            ]
           ],
           "sequential": [
            [
             0.0,
             "#0d0887"
            ],
            [
             0.1111111111111111,
             "#46039f"
            ],
            [
             0.2222222222222222,
             "#7201a8"
            ],
            [
             0.3333333333333333,
             "#9c179e"
            ],
            [
             0.4444444444444444,
             "#bd3786"
            ],
            [
             0.5555555555555556,
             "#d8576b"
            ],
            [
             0.6666666666666666,
             "#ed7953"
            ],
            [
             0.7777777777777778,
             "#fb9f3a"
            ],
            [
             0.8888888888888888,
             "#fdca26"
            ],
            [
             1.0,
             "#f0f921"
            ]
           ],
           "sequentialminus": [
            [
             0.0,
             "#0d0887"
            ],
            [
             0.1111111111111111,
             "#46039f"
            ],
            [
             0.2222222222222222,
             "#7201a8"
            ],
            [
             0.3333333333333333,
             "#9c179e"
            ],
            [
             0.4444444444444444,
             "#bd3786"
            ],
            [
             0.5555555555555556,
             "#d8576b"
            ],
            [
             0.6666666666666666,
             "#ed7953"
            ],
            [
             0.7777777777777778,
             "#fb9f3a"
            ],
            [
             0.8888888888888888,
             "#fdca26"
            ],
            [
             1.0,
             "#f0f921"
            ]
           ]
          },
          "colorway": [
           "#636efa",
           "#EF553B",
           "#00cc96",
           "#ab63fa",
           "#FFA15A",
           "#19d3f3",
           "#FF6692",
           "#B6E880",
           "#FF97FF",
           "#FECB52"
          ],
          "font": {
           "color": "#2a3f5f"
          },
          "geo": {
           "bgcolor": "white",
           "lakecolor": "white",
           "landcolor": "#E5ECF6",
           "showlakes": true,
           "showland": true,
           "subunitcolor": "white"
          },
          "hoverlabel": {
           "align": "left"
          },
          "hovermode": "closest",
          "mapbox": {
           "style": "light"
          },
          "paper_bgcolor": "white",
          "plot_bgcolor": "#E5ECF6",
          "polar": {
           "angularaxis": {
            "gridcolor": "white",
            "linecolor": "white",
            "ticks": ""
           },
           "bgcolor": "#E5ECF6",
           "radialaxis": {
            "gridcolor": "white",
            "linecolor": "white",
            "ticks": ""
           }
          },
          "scene": {
           "xaxis": {
            "backgroundcolor": "#E5ECF6",
            "gridcolor": "white",
            "gridwidth": 2,
            "linecolor": "white",
            "showbackground": true,
            "ticks": "",
            "zerolinecolor": "white"
           },
           "yaxis": {
            "backgroundcolor": "#E5ECF6",
            "gridcolor": "white",
            "gridwidth": 2,
            "linecolor": "white",
            "showbackground": true,
            "ticks": "",
            "zerolinecolor": "white"
           },
           "zaxis": {
            "backgroundcolor": "#E5ECF6",
            "gridcolor": "white",
            "gridwidth": 2,
            "linecolor": "white",
            "showbackground": true,
            "ticks": "",
            "zerolinecolor": "white"
           }
          },
          "shapedefaults": {
           "line": {
            "color": "#2a3f5f"
           }
          },
          "ternary": {
           "aaxis": {
            "gridcolor": "white",
            "linecolor": "white",
            "ticks": ""
           },
           "baxis": {
            "gridcolor": "white",
            "linecolor": "white",
            "ticks": ""
           },
           "bgcolor": "#E5ECF6",
           "caxis": {
            "gridcolor": "white",
            "linecolor": "white",
            "ticks": ""
           }
          },
          "title": {
           "x": 0.05
          },
          "xaxis": {
           "automargin": true,
           "gridcolor": "white",
           "linecolor": "white",
           "ticks": "",
           "title": {
            "standoff": 15
           },
           "zerolinecolor": "white",
           "zerolinewidth": 2
          },
          "yaxis": {
           "automargin": true,
           "gridcolor": "white",
           "linecolor": "white",
           "ticks": "",
           "title": {
            "standoff": 15
           },
           "zerolinecolor": "white",
           "zerolinewidth": 2
          }
         }
        },
        "title": {
         "text": "Percentage Missing by Column",
         "x": 0.5,
         "xanchor": "center",
         "y": 0.95,
         "yanchor": "top"
        },
        "xaxis": {
         "title": {
          "text": "Columns"
         }
        },
        "yaxis": {
         "title": {
          "text": "Percentage"
         }
        }
       }
      },
      "text/html": [
       "<div>\n",
       "        \n",
       "        \n",
       "            <div id=\"e2c1b299-7133-4892-b495-21d068d15029\" class=\"plotly-graph-div\" style=\"height:525px; width:100%;\"></div>\n",
       "            <script type=\"text/javascript\">\n",
       "                require([\"plotly\"], function(Plotly) {\n",
       "                    window.PLOTLYENV=window.PLOTLYENV || {};\n",
       "                    \n",
       "                if (document.getElementById(\"e2c1b299-7133-4892-b495-21d068d15029\")) {\n",
       "                    Plotly.newPlot(\n",
       "                        'e2c1b299-7133-4892-b495-21d068d15029',\n",
       "                        [{\"marker\": {\"color\": \"indianred\"}, \"opacity\": 0.9, \"text\": [95.33, 89.56, 84.49, 77.04, 75.25, 75.25, 75.25, 0.7, 0.0, 0.0, 0.0, 0.0, 0.0], \"textposition\": \"inside\", \"type\": \"bar\", \"x\": [\"city\", \"body\", \"order\", \"district\", \"date\", \"endorsee\", \"source\", \"party\", \"position\", \"state\", \"endorser\", \"category\", \"points\"], \"y\": [95.33, 89.56, 84.49, 77.04, 75.25, 75.25, 75.25, 0.7, 0.0, 0.0, 0.0, 0.0, 0.0]}],\n",
       "                        {\"bargap\": 0.1, \"showlegend\": false, \"template\": {\"data\": {\"bar\": [{\"error_x\": {\"color\": \"#2a3f5f\"}, \"error_y\": {\"color\": \"#2a3f5f\"}, \"marker\": {\"line\": {\"color\": \"#E5ECF6\", \"width\": 0.5}}, \"type\": \"bar\"}], \"barpolar\": [{\"marker\": {\"line\": {\"color\": \"#E5ECF6\", \"width\": 0.5}}, \"type\": \"barpolar\"}], \"carpet\": [{\"aaxis\": {\"endlinecolor\": \"#2a3f5f\", \"gridcolor\": \"white\", \"linecolor\": \"white\", \"minorgridcolor\": \"white\", \"startlinecolor\": \"#2a3f5f\"}, \"baxis\": {\"endlinecolor\": \"#2a3f5f\", \"gridcolor\": \"white\", \"linecolor\": \"white\", \"minorgridcolor\": \"white\", \"startlinecolor\": \"#2a3f5f\"}, \"type\": \"carpet\"}], \"choropleth\": [{\"colorbar\": {\"outlinewidth\": 0, \"ticks\": \"\"}, \"type\": \"choropleth\"}], \"contour\": [{\"colorbar\": {\"outlinewidth\": 0, \"ticks\": \"\"}, \"colorscale\": [[0.0, \"#0d0887\"], [0.1111111111111111, \"#46039f\"], [0.2222222222222222, \"#7201a8\"], [0.3333333333333333, \"#9c179e\"], [0.4444444444444444, \"#bd3786\"], [0.5555555555555556, \"#d8576b\"], [0.6666666666666666, \"#ed7953\"], [0.7777777777777778, \"#fb9f3a\"], [0.8888888888888888, \"#fdca26\"], [1.0, \"#f0f921\"]], \"type\": \"contour\"}], \"contourcarpet\": [{\"colorbar\": {\"outlinewidth\": 0, \"ticks\": \"\"}, \"type\": \"contourcarpet\"}], \"heatmap\": [{\"colorbar\": {\"outlinewidth\": 0, \"ticks\": \"\"}, \"colorscale\": [[0.0, \"#0d0887\"], [0.1111111111111111, \"#46039f\"], [0.2222222222222222, \"#7201a8\"], [0.3333333333333333, \"#9c179e\"], [0.4444444444444444, \"#bd3786\"], [0.5555555555555556, \"#d8576b\"], [0.6666666666666666, \"#ed7953\"], [0.7777777777777778, \"#fb9f3a\"], [0.8888888888888888, \"#fdca26\"], [1.0, \"#f0f921\"]], \"type\": \"heatmap\"}], \"heatmapgl\": [{\"colorbar\": {\"outlinewidth\": 0, \"ticks\": \"\"}, \"colorscale\": [[0.0, \"#0d0887\"], [0.1111111111111111, \"#46039f\"], [0.2222222222222222, \"#7201a8\"], [0.3333333333333333, \"#9c179e\"], [0.4444444444444444, \"#bd3786\"], [0.5555555555555556, \"#d8576b\"], [0.6666666666666666, \"#ed7953\"], [0.7777777777777778, \"#fb9f3a\"], [0.8888888888888888, \"#fdca26\"], [1.0, \"#f0f921\"]], \"type\": \"heatmapgl\"}], \"histogram\": [{\"marker\": {\"colorbar\": {\"outlinewidth\": 0, \"ticks\": \"\"}}, \"type\": \"histogram\"}], \"histogram2d\": [{\"colorbar\": {\"outlinewidth\": 0, \"ticks\": \"\"}, \"colorscale\": [[0.0, \"#0d0887\"], [0.1111111111111111, \"#46039f\"], [0.2222222222222222, \"#7201a8\"], [0.3333333333333333, \"#9c179e\"], [0.4444444444444444, \"#bd3786\"], [0.5555555555555556, \"#d8576b\"], [0.6666666666666666, \"#ed7953\"], [0.7777777777777778, \"#fb9f3a\"], [0.8888888888888888, \"#fdca26\"], [1.0, \"#f0f921\"]], \"type\": \"histogram2d\"}], \"histogram2dcontour\": [{\"colorbar\": {\"outlinewidth\": 0, \"ticks\": \"\"}, \"colorscale\": [[0.0, \"#0d0887\"], [0.1111111111111111, \"#46039f\"], [0.2222222222222222, \"#7201a8\"], [0.3333333333333333, \"#9c179e\"], [0.4444444444444444, \"#bd3786\"], [0.5555555555555556, \"#d8576b\"], [0.6666666666666666, \"#ed7953\"], [0.7777777777777778, \"#fb9f3a\"], [0.8888888888888888, \"#fdca26\"], [1.0, \"#f0f921\"]], \"type\": \"histogram2dcontour\"}], \"mesh3d\": [{\"colorbar\": {\"outlinewidth\": 0, \"ticks\": \"\"}, \"type\": \"mesh3d\"}], \"parcoords\": [{\"line\": {\"colorbar\": {\"outlinewidth\": 0, \"ticks\": \"\"}}, \"type\": \"parcoords\"}], \"pie\": [{\"automargin\": true, \"type\": \"pie\"}], \"scatter\": [{\"marker\": {\"colorbar\": {\"outlinewidth\": 0, \"ticks\": \"\"}}, \"type\": \"scatter\"}], \"scatter3d\": [{\"line\": {\"colorbar\": {\"outlinewidth\": 0, \"ticks\": \"\"}}, \"marker\": {\"colorbar\": {\"outlinewidth\": 0, \"ticks\": \"\"}}, \"type\": \"scatter3d\"}], \"scattercarpet\": [{\"marker\": {\"colorbar\": {\"outlinewidth\": 0, \"ticks\": \"\"}}, \"type\": \"scattercarpet\"}], \"scattergeo\": [{\"marker\": {\"colorbar\": {\"outlinewidth\": 0, \"ticks\": \"\"}}, \"type\": \"scattergeo\"}], \"scattergl\": [{\"marker\": {\"colorbar\": {\"outlinewidth\": 0, \"ticks\": \"\"}}, \"type\": \"scattergl\"}], \"scattermapbox\": [{\"marker\": {\"colorbar\": {\"outlinewidth\": 0, \"ticks\": \"\"}}, \"type\": \"scattermapbox\"}], \"scatterpolar\": [{\"marker\": {\"colorbar\": {\"outlinewidth\": 0, \"ticks\": \"\"}}, \"type\": \"scatterpolar\"}], \"scatterpolargl\": [{\"marker\": {\"colorbar\": {\"outlinewidth\": 0, \"ticks\": \"\"}}, \"type\": \"scatterpolargl\"}], \"scatterternary\": [{\"marker\": {\"colorbar\": {\"outlinewidth\": 0, \"ticks\": \"\"}}, \"type\": \"scatterternary\"}], \"surface\": [{\"colorbar\": {\"outlinewidth\": 0, \"ticks\": \"\"}, \"colorscale\": [[0.0, \"#0d0887\"], [0.1111111111111111, \"#46039f\"], [0.2222222222222222, \"#7201a8\"], [0.3333333333333333, \"#9c179e\"], [0.4444444444444444, \"#bd3786\"], [0.5555555555555556, \"#d8576b\"], [0.6666666666666666, \"#ed7953\"], [0.7777777777777778, \"#fb9f3a\"], [0.8888888888888888, \"#fdca26\"], [1.0, \"#f0f921\"]], \"type\": \"surface\"}], \"table\": [{\"cells\": {\"fill\": {\"color\": \"#EBF0F8\"}, \"line\": {\"color\": \"white\"}}, \"header\": {\"fill\": {\"color\": \"#C8D4E3\"}, \"line\": {\"color\": \"white\"}}, \"type\": \"table\"}]}, \"layout\": {\"annotationdefaults\": {\"arrowcolor\": \"#2a3f5f\", \"arrowhead\": 0, \"arrowwidth\": 1}, \"coloraxis\": {\"colorbar\": {\"outlinewidth\": 0, \"ticks\": \"\"}}, \"colorscale\": {\"diverging\": [[0, \"#8e0152\"], [0.1, \"#c51b7d\"], [0.2, \"#de77ae\"], [0.3, \"#f1b6da\"], [0.4, \"#fde0ef\"], [0.5, \"#f7f7f7\"], [0.6, \"#e6f5d0\"], [0.7, \"#b8e186\"], [0.8, \"#7fbc41\"], [0.9, \"#4d9221\"], [1, \"#276419\"]], \"sequential\": [[0.0, \"#0d0887\"], [0.1111111111111111, \"#46039f\"], [0.2222222222222222, \"#7201a8\"], [0.3333333333333333, \"#9c179e\"], [0.4444444444444444, \"#bd3786\"], [0.5555555555555556, \"#d8576b\"], [0.6666666666666666, \"#ed7953\"], [0.7777777777777778, \"#fb9f3a\"], [0.8888888888888888, \"#fdca26\"], [1.0, \"#f0f921\"]], \"sequentialminus\": [[0.0, \"#0d0887\"], [0.1111111111111111, \"#46039f\"], [0.2222222222222222, \"#7201a8\"], [0.3333333333333333, \"#9c179e\"], [0.4444444444444444, \"#bd3786\"], [0.5555555555555556, \"#d8576b\"], [0.6666666666666666, \"#ed7953\"], [0.7777777777777778, \"#fb9f3a\"], [0.8888888888888888, \"#fdca26\"], [1.0, \"#f0f921\"]]}, \"colorway\": [\"#636efa\", \"#EF553B\", \"#00cc96\", \"#ab63fa\", \"#FFA15A\", \"#19d3f3\", \"#FF6692\", \"#B6E880\", \"#FF97FF\", \"#FECB52\"], \"font\": {\"color\": \"#2a3f5f\"}, \"geo\": {\"bgcolor\": \"white\", \"lakecolor\": \"white\", \"landcolor\": \"#E5ECF6\", \"showlakes\": true, \"showland\": true, \"subunitcolor\": \"white\"}, \"hoverlabel\": {\"align\": \"left\"}, \"hovermode\": \"closest\", \"mapbox\": {\"style\": \"light\"}, \"paper_bgcolor\": \"white\", \"plot_bgcolor\": \"#E5ECF6\", \"polar\": {\"angularaxis\": {\"gridcolor\": \"white\", \"linecolor\": \"white\", \"ticks\": \"\"}, \"bgcolor\": \"#E5ECF6\", \"radialaxis\": {\"gridcolor\": \"white\", \"linecolor\": \"white\", \"ticks\": \"\"}}, \"scene\": {\"xaxis\": {\"backgroundcolor\": \"#E5ECF6\", \"gridcolor\": \"white\", \"gridwidth\": 2, \"linecolor\": \"white\", \"showbackground\": true, \"ticks\": \"\", \"zerolinecolor\": \"white\"}, \"yaxis\": {\"backgroundcolor\": \"#E5ECF6\", \"gridcolor\": \"white\", \"gridwidth\": 2, \"linecolor\": \"white\", \"showbackground\": true, \"ticks\": \"\", \"zerolinecolor\": \"white\"}, \"zaxis\": {\"backgroundcolor\": \"#E5ECF6\", \"gridcolor\": \"white\", \"gridwidth\": 2, \"linecolor\": \"white\", \"showbackground\": true, \"ticks\": \"\", \"zerolinecolor\": \"white\"}}, \"shapedefaults\": {\"line\": {\"color\": \"#2a3f5f\"}}, \"ternary\": {\"aaxis\": {\"gridcolor\": \"white\", \"linecolor\": \"white\", \"ticks\": \"\"}, \"baxis\": {\"gridcolor\": \"white\", \"linecolor\": \"white\", \"ticks\": \"\"}, \"bgcolor\": \"#E5ECF6\", \"caxis\": {\"gridcolor\": \"white\", \"linecolor\": \"white\", \"ticks\": \"\"}}, \"title\": {\"x\": 0.05}, \"xaxis\": {\"automargin\": true, \"gridcolor\": \"white\", \"linecolor\": \"white\", \"ticks\": \"\", \"title\": {\"standoff\": 15}, \"zerolinecolor\": \"white\", \"zerolinewidth\": 2}, \"yaxis\": {\"automargin\": true, \"gridcolor\": \"white\", \"linecolor\": \"white\", \"ticks\": \"\", \"title\": {\"standoff\": 15}, \"zerolinecolor\": \"white\", \"zerolinewidth\": 2}}}, \"title\": {\"text\": \"Percentage Missing by Column\", \"x\": 0.5, \"xanchor\": \"center\", \"y\": 0.95, \"yanchor\": \"top\"}, \"xaxis\": {\"title\": {\"text\": \"Columns\"}}, \"yaxis\": {\"title\": {\"text\": \"Percentage\"}}},\n",
       "                        {\"responsive\": true}\n",
       "                    ).then(function(){\n",
       "                            \n",
       "var gd = document.getElementById('e2c1b299-7133-4892-b495-21d068d15029');\n",
       "var x = new MutationObserver(function (mutations, observer) {{\n",
       "        var display = window.getComputedStyle(gd).display;\n",
       "        if (!display || display === 'none') {{\n",
       "            console.log([gd, 'removed!']);\n",
       "            Plotly.purge(gd);\n",
       "            observer.disconnect();\n",
       "        }}\n",
       "}});\n",
       "\n",
       "// Listen for the removal of the full notebook cells\n",
       "var notebookContainer = gd.closest('#notebook-container');\n",
       "if (notebookContainer) {{\n",
       "    x.observe(notebookContainer, {childList: true});\n",
       "}}\n",
       "\n",
       "// Listen for the clearing of the current output cell\n",
       "var outputEl = gd.closest('.output');\n",
       "if (outputEl) {{\n",
       "    x.observe(outputEl, {childList: true});\n",
       "}}\n",
       "\n",
       "                        })\n",
       "                };\n",
       "                });\n",
       "            </script>\n",
       "        </div>"
      ]
     },
     "metadata": {},
     "output_type": "display_data"
    }
   ],
   "source": [
    "percent_missing = np.round(df.isnull().sum() * 100 / len(df),2)\n",
    "missing_value_df = pd.DataFrame({'column_name': df.columns,\n",
    "                                 'percent_missing': percent_missing}).sort_values('percent_missing', ascending=False)\n",
    "\n",
    "\n",
    "fig = go.Figure()\n",
    "fig.add_trace(\n",
    "        go.Bar(x=missing_value_df['column_name'],\n",
    "               y=missing_value_df['percent_missing'],\n",
    "               opacity=0.9,\n",
    "               text=missing_value_df['percent_missing'],\n",
    "               textposition='inside',\n",
    "               marker={'color':'indianred'}\n",
    "                   ))\n",
    "fig.update_layout(\n",
    "      title={'text': 'Percentage Missing by Column',\n",
    "             'y':0.95, 'x':0.5,\n",
    "            'xanchor': 'center', 'yanchor': 'top'},\n",
    "      showlegend=False,\n",
    "      xaxis_title_text='Columns',\n",
    "      yaxis_title_text='Percentage',\n",
    "      bargap=0.1\n",
    "    )\n",
    "\n",
    "fig.show()"
   ]
  },
  {
   "cell_type": "markdown",
   "metadata": {},
   "source": [
    "Let's drop the *city*, *body*, *order* and *district* column due to their high number of missing values - which I don't know how to fill.\n",
    "\n",
    "Remark that only 24.75% of *endorsers* actually endorsed a candidate, those are the ones which has the triplets *date*, *endorsee* and *source*  columns populated. Otherwise all 3 columns are missing, in fact when plotting the missing values matrix, they correspond in the missing values index location. In the following plot, white corresponds to a missing value."
   ]
  },
  {
   "cell_type": "code",
   "execution_count": 5,
   "metadata": {
    "_kg_hide-input": true
   },
   "outputs": [
    {
     "data": {
      "application/vnd.plotly.v1+json": {
       "config": {
        "plotlyServerURL": "https://plot.ly"
       },
       "data": [
        {
         "colorscale": [
          [
           0.0,
           "rgb(255,255,255)"
          ],
          [
           0.125,
           "rgb(240,240,240)"
          ],
          [
           0.25,
           "rgb(217,217,217)"
          ],
          [
           0.375,
           "rgb(189,189,189)"
          ],
          [
           0.5,
           "rgb(150,150,150)"
          ],
          [
           0.625,
           "rgb(115,115,115)"
          ],
          [
           0.75,
           "rgb(82,82,82)"
          ],
          [
           0.875,
           "rgb(37,37,37)"
          ],
          [
           1.0,
           "rgb(0,0,0)"
          ]
         ],
         "reversescale": true,
         "showscale": false,
         "type": "heatmap",
         "x": [
          "date",
          "position",
          "city",
          "state",
          "endorser",
          "endorsee",
          "party",
          "source",
          "order",
          "category",
          "body",
          "district",
          "points"
         ],
         "y": [
          0,
          1,
          2,
          3,
          4,
          5,
          6,
          7,
          8,
          9,
          10,
          11,
          12,
          13,
          14,
          15,
          16,
          17,
          18,
          19,
          20,
          21,
          22,
          23,
          24,
          25,
          26,
          27,
          28,
          29,
          30,
          31,
          32,
          33,
          34,
          35,
          36,
          37,
          38,
          39,
          40,
          41,
          42,
          43,
          44,
          45,
          46,
          47,
          48,
          49,
          50,
          51,
          52,
          53,
          54,
          55,
          56,
          57,
          58,
          59,
          60,
          61,
          62,
          63,
          64,
          65,
          66,
          67,
          68,
          69,
          70,
          71,
          72,
          73,
          74,
          75,
          76,
          77,
          78,
          79,
          80,
          81,
          82,
          83,
          84,
          85,
          86,
          87,
          88,
          89,
          90,
          91,
          92,
          93,
          94,
          95,
          96,
          97,
          98,
          99,
          100,
          101,
          102,
          103,
          104,
          105,
          106,
          107,
          108,
          109,
          110,
          111,
          112,
          113,
          114,
          115,
          116,
          117,
          118,
          119,
          120,
          121,
          122,
          123,
          124,
          125,
          126,
          127,
          128,
          129,
          130,
          131,
          132,
          133,
          134,
          135,
          136,
          137,
          138,
          139,
          140,
          141,
          142,
          143,
          144,
          145,
          146,
          147,
          148,
          149,
          150,
          151,
          152,
          153,
          154,
          155,
          156,
          157,
          158,
          159,
          160,
          161,
          162,
          163,
          164,
          165,
          166,
          167,
          168,
          169,
          170,
          171,
          172,
          173,
          174,
          175,
          176,
          177,
          178,
          179,
          180,
          181,
          182,
          183,
          184,
          185,
          186,
          187,
          188,
          189,
          190,
          191,
          192,
          193,
          194,
          195,
          196,
          197,
          198,
          199,
          200,
          201,
          202,
          203,
          204,
          205,
          206,
          207,
          208,
          209,
          210,
          211,
          212,
          213,
          214,
          215,
          216,
          217,
          218,
          219,
          220,
          221,
          222,
          223,
          224,
          225,
          226,
          227,
          228,
          229,
          230,
          231,
          232,
          233,
          234,
          235,
          236,
          237,
          238,
          239,
          240,
          241,
          242,
          243,
          244,
          245,
          246,
          247,
          248,
          249,
          250,
          251,
          252,
          253,
          254,
          255,
          256,
          257,
          258,
          259,
          260,
          261,
          262,
          263,
          264,
          265,
          266,
          267,
          268,
          269,
          270,
          271,
          272,
          273,
          274,
          275,
          276,
          277,
          278,
          279,
          280,
          281,
          282,
          283,
          284,
          285,
          286,
          287,
          288,
          289,
          290,
          291,
          292,
          293,
          294,
          295,
          296,
          297,
          298,
          299,
          300,
          301,
          302,
          303,
          304,
          305,
          306,
          307,
          308,
          309,
          310,
          311,
          312,
          313,
          314,
          315,
          316,
          317,
          318,
          319,
          320,
          321,
          322,
          323,
          324,
          325,
          326,
          327,
          328,
          329,
          330,
          331,
          332,
          333,
          334,
          335,
          336,
          337,
          338,
          339,
          340,
          341,
          342,
          343,
          344,
          345,
          346,
          347,
          348,
          349,
          350,
          351,
          352,
          353,
          354,
          355,
          356,
          357,
          358,
          359,
          360,
          361,
          362,
          363,
          364,
          365,
          366,
          367,
          368,
          369,
          370,
          371,
          372,
          373,
          374,
          375,
          376,
          377,
          378,
          379,
          380,
          381,
          382,
          383,
          384,
          385,
          386,
          387,
          388,
          389,
          390,
          391,
          392,
          393,
          394,
          395,
          396,
          397,
          398,
          399,
          400,
          401,
          402,
          403,
          404,
          405,
          406,
          407,
          408,
          409,
          410,
          411,
          412,
          413,
          414,
          415,
          416,
          417,
          418,
          419,
          420,
          421,
          422,
          423,
          424,
          425,
          426,
          427,
          428,
          429,
          430,
          431,
          432,
          433,
          434,
          435,
          436,
          437,
          438,
          439,
          440,
          441,
          442,
          443,
          444,
          445,
          446,
          447,
          448,
          449,
          450,
          451,
          452,
          453,
          454,
          455,
          456,
          457,
          458,
          459,
          460,
          461,
          462,
          463,
          464,
          465,
          466,
          467,
          468,
          469,
          470,
          471,
          472,
          473,
          474,
          475,
          476,
          477,
          478,
          479,
          480,
          481,
          482,
          483,
          484,
          485,
          486,
          487,
          488,
          489,
          490,
          491,
          492,
          493,
          494,
          495,
          496,
          497,
          498,
          499,
          500,
          501,
          502,
          503,
          504,
          505,
          506,
          507,
          508,
          509,
          510,
          511,
          512,
          513,
          514,
          515,
          516,
          517,
          518,
          519,
          520,
          521,
          522,
          523,
          524,
          525,
          526,
          527,
          528,
          529,
          530,
          531,
          532,
          533,
          534,
          535,
          536,
          537,
          538,
          539,
          540,
          541,
          542,
          543,
          544,
          545,
          546,
          547,
          548,
          549,
          550,
          551,
          552,
          553,
          554,
          555,
          556,
          557,
          558,
          559,
          560,
          561,
          562,
          563,
          564,
          565,
          566,
          567,
          568,
          569,
          570,
          571,
          572,
          573,
          574,
          575,
          576,
          577,
          578,
          579,
          580,
          581,
          582,
          583,
          584,
          585,
          586,
          587,
          588,
          589,
          590,
          591,
          592,
          593,
          594,
          595,
          596,
          597,
          598,
          599,
          600,
          601,
          602,
          603,
          604,
          605,
          606,
          607,
          608,
          609,
          610,
          611,
          612,
          613,
          614,
          615,
          616,
          617,
          618,
          619,
          620,
          621,
          622,
          623,
          624,
          625,
          626,
          627,
          628,
          629,
          630,
          631,
          632,
          633,
          634,
          635,
          636,
          637,
          638,
          639,
          640,
          641,
          642,
          643,
          644,
          645,
          646,
          647,
          648,
          649,
          650,
          651,
          652,
          653,
          654,
          655,
          656,
          657,
          658,
          659,
          660,
          661,
          662,
          663,
          664,
          665,
          666,
          667,
          668,
          669,
          670,
          671,
          672,
          673,
          674,
          675,
          676,
          677,
          678,
          679,
          680,
          681,
          682,
          683,
          684,
          685,
          686,
          687,
          688,
          689,
          690,
          691,
          692,
          693,
          694,
          695,
          696,
          697,
          698,
          699,
          700,
          701,
          702,
          703,
          704,
          705,
          706,
          707,
          708,
          709,
          710,
          711,
          712,
          713,
          714,
          715,
          716,
          717,
          718,
          719,
          720,
          721,
          722,
          723,
          724,
          725,
          726,
          727,
          728,
          729,
          730,
          731,
          732,
          733,
          734,
          735,
          736,
          737,
          738,
          739,
          740,
          741,
          742,
          743,
          744,
          745,
          746,
          747,
          748,
          749,
          750,
          751,
          752,
          753,
          754,
          755,
          756,
          757,
          758,
          759,
          760,
          761,
          762,
          763,
          764,
          765,
          766,
          767,
          768,
          769,
          770,
          771,
          772,
          773,
          774,
          775,
          776,
          777,
          778,
          779,
          780,
          781,
          782,
          783,
          784,
          785,
          786,
          787,
          788,
          789,
          790,
          791,
          792,
          793,
          794,
          795,
          796,
          797,
          798,
          799,
          800,
          801,
          802,
          803,
          804,
          805,
          806,
          807,
          808,
          809,
          810,
          811,
          812,
          813,
          814,
          815,
          816,
          817,
          818,
          819,
          820,
          821,
          822,
          823,
          824,
          825,
          826,
          827,
          828,
          829,
          830,
          831,
          832,
          833,
          834,
          835,
          836,
          837,
          838,
          839,
          840,
          841,
          842,
          843,
          844,
          845,
          846,
          847,
          848,
          849,
          850,
          851,
          852,
          853,
          854,
          855,
          856,
          857,
          858,
          859,
          860,
          861,
          862,
          863,
          864,
          865,
          866,
          867,
          868,
          869,
          870,
          871,
          872,
          873,
          874,
          875,
          876,
          877,
          878,
          879,
          880,
          881,
          882,
          883,
          884,
          885,
          886,
          887,
          888,
          889,
          890,
          891,
          892,
          893,
          894,
          895,
          896,
          897,
          898,
          899,
          900,
          901,
          902,
          903,
          904,
          905,
          906,
          907,
          908,
          909,
          910,
          911,
          912,
          913,
          914,
          915,
          916,
          917,
          918,
          919,
          920,
          921,
          922,
          923,
          924,
          925,
          926,
          927,
          928,
          929,
          930,
          931,
          932,
          933,
          934,
          935,
          936,
          937,
          938,
          939,
          940,
          941,
          942,
          943,
          944,
          945,
          946,
          947,
          948,
          949,
          950,
          951,
          952,
          953,
          954,
          955,
          956,
          957,
          958,
          959,
          960,
          961,
          962,
          963,
          964,
          965,
          966,
          967,
          968,
          969,
          970,
          971,
          972,
          973,
          974,
          975,
          976,
          977,
          978,
          979,
          980,
          981,
          982,
          983,
          984,
          985,
          986,
          987,
          988,
          989,
          990,
          991,
          992,
          993,
          994,
          995,
          996,
          997,
          998,
          999,
          1000,
          1001,
          1002,
          1003,
          1004,
          1005
         ],
         "z": [
          [
           0,
           0,
           1,
           0,
           0,
           0,
           0,
           0,
           1,
           0,
           1,
           0,
           0
          ],
          [
           0,
           0,
           1,
           0,
           0,
           0,
           0,
           0,
           1,
           0,
           1,
           1,
           0
          ],
          [
           0,
           0,
           1,
           0,
           0,
           0,
           0,
           0,
           1,
           0,
           1,
           1,
           0
          ],
          [
           0,
           0,
           1,
           0,
           0,
           0,
           0,
           0,
           1,
           0,
           1,
           1,
           0
          ],
          [
           0,
           0,
           0,
           0,
           0,
           0,
           1,
           0,
           0,
           0,
           1,
           1,
           0
          ],
          [
           0,
           0,
           1,
           0,
           0,
           0,
           0,
           0,
           1,
           0,
           1,
           1,
           0
          ],
          [
           0,
           0,
           1,
           0,
           0,
           0,
           0,
           0,
           1,
           0,
           1,
           1,
           0
          ],
          [
           0,
           0,
           1,
           0,
           0,
           0,
           0,
           0,
           0,
           0,
           1,
           1,
           0
          ],
          [
           0,
           0,
           0,
           0,
           0,
           0,
           0,
           0,
           0,
           0,
           1,
           1,
           0
          ],
          [
           0,
           0,
           1,
           0,
           0,
           0,
           0,
           0,
           1,
           0,
           1,
           0,
           0
          ],
          [
           0,
           0,
           1,
           0,
           0,
           0,
           0,
           0,
           1,
           0,
           1,
           0,
           0
          ],
          [
           0,
           0,
           1,
           0,
           0,
           0,
           0,
           0,
           1,
           0,
           1,
           1,
           0
          ],
          [
           0,
           0,
           1,
           0,
           0,
           0,
           0,
           0,
           1,
           0,
           1,
           1,
           0
          ],
          [
           0,
           0,
           1,
           0,
           0,
           0,
           0,
           0,
           1,
           0,
           1,
           1,
           0
          ],
          [
           0,
           0,
           1,
           0,
           0,
           0,
           0,
           0,
           1,
           0,
           1,
           1,
           0
          ],
          [
           0,
           0,
           1,
           0,
           0,
           0,
           0,
           0,
           1,
           0,
           0,
           1,
           0
          ],
          [
           0,
           0,
           1,
           0,
           0,
           0,
           0,
           0,
           1,
           0,
           1,
           0,
           0
          ],
          [
           0,
           0,
           1,
           0,
           0,
           0,
           0,
           0,
           1,
           0,
           0,
           1,
           0
          ],
          [
           0,
           0,
           1,
           0,
           0,
           0,
           0,
           0,
           1,
           0,
           1,
           0,
           0
          ],
          [
           0,
           0,
           1,
           0,
           0,
           0,
           0,
           0,
           1,
           0,
           1,
           0,
           0
          ],
          [
           0,
           0,
           1,
           0,
           0,
           0,
           0,
           0,
           1,
           0,
           1,
           1,
           0
          ],
          [
           0,
           0,
           1,
           0,
           0,
           0,
           0,
           0,
           0,
           0,
           1,
           1,
           0
          ],
          [
           0,
           0,
           1,
           0,
           0,
           0,
           0,
           0,
           0,
           0,
           1,
           1,
           0
          ],
          [
           0,
           0,
           1,
           0,
           0,
           0,
           0,
           0,
           1,
           0,
           0,
           1,
           0
          ],
          [
           0,
           0,
           1,
           0,
           0,
           0,
           0,
           0,
           1,
           0,
           1,
           0,
           0
          ],
          [
           0,
           0,
           1,
           0,
           0,
           0,
           0,
           0,
           1,
           0,
           1,
           0,
           0
          ],
          [
           0,
           0,
           0,
           0,
           0,
           0,
           0,
           0,
           0,
           0,
           1,
           1,
           0
          ],
          [
           0,
           0,
           1,
           0,
           0,
           0,
           0,
           0,
           1,
           0,
           1,
           1,
           0
          ],
          [
           0,
           0,
           1,
           0,
           0,
           0,
           0,
           0,
           1,
           0,
           1,
           1,
           0
          ],
          [
           0,
           0,
           1,
           0,
           0,
           0,
           0,
           0,
           1,
           0,
           1,
           0,
           0
          ],
          [
           0,
           0,
           1,
           0,
           0,
           0,
           0,
           0,
           1,
           0,
           1,
           1,
           0
          ],
          [
           0,
           0,
           1,
           0,
           0,
           0,
           0,
           0,
           0,
           0,
           1,
           1,
           0
          ],
          [
           0,
           0,
           1,
           0,
           0,
           0,
           0,
           0,
           1,
           0,
           1,
           0,
           0
          ],
          [
           0,
           0,
           1,
           0,
           0,
           0,
           0,
           0,
           1,
           0,
           1,
           1,
           0
          ],
          [
           0,
           0,
           1,
           0,
           0,
           0,
           0,
           0,
           1,
           0,
           1,
           1,
           0
          ],
          [
           0,
           0,
           1,
           0,
           0,
           0,
           0,
           0,
           1,
           0,
           1,
           1,
           0
          ],
          [
           0,
           0,
           0,
           0,
           0,
           0,
           0,
           0,
           0,
           0,
           1,
           1,
           0
          ],
          [
           0,
           0,
           1,
           0,
           0,
           0,
           0,
           0,
           1,
           0,
           1,
           1,
           0
          ],
          [
           0,
           0,
           1,
           0,
           0,
           0,
           0,
           0,
           1,
           0,
           1,
           1,
           0
          ],
          [
           0,
           0,
           1,
           0,
           0,
           0,
           0,
           0,
           1,
           0,
           1,
           1,
           0
          ],
          [
           0,
           0,
           1,
           0,
           0,
           0,
           0,
           0,
           0,
           0,
           1,
           1,
           0
          ],
          [
           0,
           0,
           1,
           0,
           0,
           0,
           0,
           0,
           1,
           0,
           0,
           1,
           0
          ],
          [
           0,
           0,
           1,
           0,
           0,
           0,
           0,
           0,
           1,
           0,
           0,
           1,
           0
          ],
          [
           0,
           0,
           1,
           0,
           0,
           0,
           0,
           0,
           1,
           0,
           1,
           0,
           0
          ],
          [
           0,
           0,
           1,
           0,
           0,
           0,
           0,
           0,
           1,
           0,
           1,
           0,
           0
          ],
          [
           0,
           0,
           1,
           0,
           0,
           0,
           0,
           0,
           1,
           0,
           1,
           0,
           0
          ],
          [
           0,
           0,
           1,
           0,
           0,
           0,
           0,
           0,
           1,
           0,
           1,
           0,
           0
          ],
          [
           0,
           0,
           1,
           0,
           0,
           0,
           0,
           0,
           1,
           0,
           1,
           0,
           0
          ],
          [
           0,
           0,
           1,
           0,
           0,
           0,
           0,
           0,
           1,
           0,
           1,
           0,
           0
          ],
          [
           0,
           0,
           1,
           0,
           0,
           0,
           0,
           0,
           1,
           0,
           1,
           0,
           0
          ],
          [
           0,
           0,
           1,
           0,
           0,
           0,
           0,
           0,
           1,
           0,
           1,
           0,
           0
          ],
          [
           0,
           0,
           1,
           0,
           0,
           0,
           0,
           0,
           1,
           0,
           1,
           0,
           0
          ],
          [
           0,
           0,
           1,
           0,
           0,
           0,
           0,
           0,
           1,
           0,
           1,
           0,
           0
          ],
          [
           0,
           0,
           1,
           0,
           0,
           0,
           0,
           0,
           0,
           0,
           1,
           1,
           0
          ],
          [
           0,
           0,
           1,
           0,
           0,
           0,
           0,
           0,
           0,
           0,
           1,
           1,
           0
          ],
          [
           0,
           0,
           1,
           0,
           0,
           0,
           0,
           0,
           1,
           0,
           1,
           1,
           0
          ],
          [
           0,
           0,
           1,
           0,
           0,
           0,
           0,
           0,
           1,
           0,
           1,
           0,
           0
          ],
          [
           0,
           0,
           1,
           0,
           0,
           0,
           0,
           0,
           1,
           0,
           1,
           0,
           0
          ],
          [
           0,
           0,
           1,
           0,
           0,
           0,
           0,
           0,
           0,
           0,
           1,
           1,
           0
          ],
          [
           0,
           0,
           1,
           0,
           0,
           0,
           0,
           0,
           1,
           0,
           1,
           0,
           0
          ],
          [
           0,
           0,
           1,
           0,
           0,
           0,
           0,
           0,
           0,
           0,
           1,
           1,
           0
          ],
          [
           0,
           0,
           1,
           0,
           0,
           0,
           0,
           0,
           1,
           0,
           1,
           0,
           0
          ],
          [
           0,
           0,
           1,
           0,
           0,
           0,
           0,
           0,
           1,
           0,
           1,
           0,
           0
          ],
          [
           0,
           0,
           1,
           0,
           0,
           0,
           0,
           0,
           1,
           0,
           1,
           1,
           0
          ],
          [
           0,
           0,
           1,
           0,
           0,
           0,
           0,
           0,
           1,
           0,
           1,
           1,
           0
          ],
          [
           0,
           0,
           1,
           0,
           0,
           0,
           0,
           0,
           1,
           0,
           1,
           1,
           0
          ],
          [
           0,
           0,
           1,
           0,
           0,
           0,
           0,
           0,
           1,
           0,
           1,
           1,
           0
          ],
          [
           0,
           0,
           1,
           0,
           0,
           0,
           0,
           0,
           1,
           0,
           1,
           1,
           0
          ],
          [
           0,
           0,
           0,
           0,
           0,
           0,
           0,
           0,
           0,
           0,
           1,
           1,
           0
          ],
          [
           0,
           0,
           1,
           0,
           0,
           0,
           0,
           0,
           1,
           0,
           1,
           1,
           0
          ],
          [
           0,
           0,
           1,
           0,
           0,
           0,
           0,
           0,
           1,
           0,
           1,
           1,
           0
          ],
          [
           0,
           0,
           1,
           0,
           0,
           0,
           0,
           0,
           1,
           0,
           1,
           0,
           0
          ],
          [
           0,
           0,
           1,
           0,
           0,
           0,
           0,
           0,
           1,
           0,
           1,
           1,
           0
          ],
          [
           0,
           0,
           1,
           0,
           0,
           0,
           0,
           0,
           1,
           0,
           1,
           0,
           0
          ],
          [
           0,
           0,
           1,
           0,
           0,
           0,
           0,
           0,
           1,
           0,
           1,
           0,
           0
          ],
          [
           0,
           0,
           1,
           0,
           0,
           0,
           0,
           0,
           1,
           0,
           1,
           1,
           0
          ],
          [
           0,
           0,
           1,
           0,
           0,
           0,
           0,
           0,
           1,
           0,
           1,
           1,
           0
          ],
          [
           0,
           0,
           1,
           0,
           0,
           0,
           0,
           0,
           0,
           0,
           1,
           1,
           0
          ],
          [
           0,
           0,
           1,
           0,
           0,
           0,
           0,
           0,
           1,
           0,
           1,
           0,
           0
          ],
          [
           0,
           0,
           1,
           0,
           0,
           0,
           0,
           0,
           1,
           0,
           1,
           0,
           0
          ],
          [
           0,
           0,
           1,
           0,
           0,
           0,
           0,
           0,
           1,
           0,
           1,
           0,
           0
          ],
          [
           0,
           0,
           1,
           0,
           0,
           0,
           0,
           0,
           1,
           0,
           1,
           0,
           0
          ],
          [
           0,
           0,
           1,
           0,
           0,
           0,
           0,
           0,
           1,
           0,
           1,
           0,
           0
          ],
          [
           0,
           0,
           1,
           0,
           0,
           0,
           0,
           0,
           1,
           0,
           1,
           1,
           0
          ],
          [
           0,
           0,
           1,
           0,
           0,
           0,
           0,
           0,
           1,
           0,
           1,
           1,
           0
          ],
          [
           0,
           0,
           1,
           0,
           0,
           0,
           0,
           0,
           1,
           0,
           1,
           1,
           0
          ],
          [
           0,
           0,
           1,
           0,
           0,
           0,
           0,
           0,
           0,
           0,
           1,
           1,
           0
          ],
          [
           0,
           0,
           1,
           0,
           0,
           0,
           0,
           0,
           1,
           0,
           1,
           0,
           0
          ],
          [
           0,
           0,
           1,
           0,
           0,
           0,
           0,
           0,
           0,
           0,
           1,
           1,
           0
          ],
          [
           0,
           0,
           1,
           0,
           0,
           0,
           0,
           0,
           1,
           0,
           1,
           0,
           0
          ],
          [
           0,
           0,
           1,
           0,
           0,
           0,
           0,
           0,
           1,
           0,
           1,
           1,
           0
          ],
          [
           0,
           0,
           1,
           0,
           0,
           0,
           0,
           0,
           1,
           0,
           1,
           0,
           0
          ],
          [
           0,
           0,
           1,
           0,
           0,
           0,
           0,
           0,
           1,
           0,
           0,
           1,
           0
          ],
          [
           0,
           0,
           1,
           0,
           0,
           0,
           0,
           0,
           1,
           0,
           1,
           0,
           0
          ],
          [
           0,
           0,
           1,
           0,
           0,
           0,
           0,
           0,
           1,
           0,
           1,
           1,
           0
          ],
          [
           0,
           0,
           1,
           0,
           0,
           0,
           0,
           0,
           1,
           0,
           1,
           1,
           0
          ],
          [
           0,
           0,
           1,
           0,
           0,
           0,
           0,
           0,
           1,
           0,
           1,
           0,
           0
          ],
          [
           0,
           0,
           1,
           0,
           0,
           0,
           0,
           0,
           1,
           0,
           1,
           0,
           0
          ],
          [
           0,
           0,
           1,
           0,
           0,
           0,
           0,
           0,
           1,
           0,
           1,
           0,
           0
          ],
          [
           0,
           0,
           1,
           0,
           0,
           0,
           0,
           0,
           1,
           0,
           1,
           0,
           0
          ],
          [
           0,
           0,
           1,
           0,
           0,
           0,
           0,
           0,
           1,
           0,
           1,
           1,
           0
          ],
          [
           0,
           0,
           1,
           0,
           0,
           0,
           0,
           0,
           1,
           0,
           1,
           1,
           0
          ],
          [
           0,
           0,
           1,
           0,
           0,
           0,
           0,
           0,
           0,
           0,
           1,
           1,
           0
          ],
          [
           0,
           0,
           1,
           0,
           0,
           0,
           0,
           0,
           1,
           0,
           1,
           0,
           0
          ],
          [
           0,
           0,
           0,
           0,
           0,
           0,
           0,
           0,
           0,
           0,
           1,
           1,
           0
          ],
          [
           0,
           0,
           1,
           0,
           0,
           0,
           0,
           0,
           1,
           0,
           1,
           1,
           0
          ],
          [
           0,
           0,
           1,
           0,
           0,
           0,
           0,
           0,
           1,
           0,
           1,
           0,
           0
          ],
          [
           0,
           0,
           1,
           0,
           0,
           0,
           0,
           0,
           1,
           0,
           0,
           1,
           0
          ],
          [
           0,
           0,
           1,
           0,
           0,
           0,
           0,
           0,
           1,
           0,
           0,
           1,
           0
          ],
          [
           0,
           0,
           1,
           0,
           0,
           0,
           0,
           0,
           1,
           0,
           1,
           1,
           0
          ],
          [
           0,
           0,
           1,
           0,
           0,
           0,
           0,
           0,
           1,
           0,
           1,
           1,
           0
          ],
          [
           0,
           0,
           1,
           0,
           0,
           0,
           0,
           0,
           1,
           0,
           1,
           0,
           0
          ],
          [
           0,
           0,
           0,
           0,
           0,
           0,
           0,
           0,
           0,
           0,
           1,
           1,
           0
          ],
          [
           0,
           0,
           1,
           0,
           0,
           0,
           0,
           0,
           1,
           0,
           1,
           1,
           0
          ],
          [
           0,
           0,
           1,
           0,
           0,
           0,
           0,
           0,
           0,
           0,
           1,
           1,
           0
          ],
          [
           0,
           0,
           1,
           0,
           0,
           0,
           0,
           0,
           0,
           0,
           1,
           1,
           0
          ],
          [
           0,
           0,
           1,
           0,
           0,
           0,
           0,
           0,
           0,
           0,
           1,
           1,
           0
          ],
          [
           0,
           0,
           1,
           0,
           0,
           0,
           0,
           0,
           1,
           0,
           0,
           1,
           0
          ],
          [
           0,
           0,
           1,
           0,
           0,
           0,
           0,
           0,
           1,
           0,
           1,
           1,
           0
          ],
          [
           0,
           0,
           1,
           0,
           0,
           0,
           0,
           0,
           1,
           0,
           1,
           0,
           0
          ],
          [
           0,
           0,
           1,
           0,
           0,
           0,
           0,
           0,
           1,
           0,
           1,
           0,
           0
          ],
          [
           0,
           0,
           1,
           0,
           0,
           0,
           0,
           0,
           1,
           0,
           1,
           0,
           0
          ],
          [
           0,
           0,
           1,
           0,
           0,
           0,
           0,
           0,
           1,
           0,
           1,
           0,
           0
          ],
          [
           0,
           0,
           1,
           0,
           0,
           0,
           0,
           0,
           1,
           0,
           1,
           0,
           0
          ],
          [
           0,
           0,
           1,
           0,
           0,
           0,
           0,
           0,
           1,
           0,
           0,
           1,
           0
          ],
          [
           0,
           0,
           1,
           0,
           0,
           0,
           0,
           0,
           0,
           0,
           1,
           1,
           0
          ],
          [
           0,
           0,
           1,
           0,
           0,
           0,
           0,
           0,
           1,
           0,
           1,
           0,
           0
          ],
          [
           0,
           0,
           1,
           0,
           0,
           0,
           0,
           0,
           1,
           0,
           1,
           0,
           0
          ],
          [
           0,
           0,
           1,
           0,
           0,
           0,
           0,
           0,
           1,
           0,
           1,
           1,
           0
          ],
          [
           0,
           0,
           1,
           0,
           0,
           0,
           0,
           0,
           1,
           0,
           0,
           1,
           0
          ],
          [
           0,
           0,
           1,
           0,
           0,
           0,
           0,
           0,
           1,
           0,
           1,
           0,
           0
          ],
          [
           0,
           0,
           1,
           0,
           0,
           0,
           0,
           0,
           1,
           0,
           1,
           1,
           0
          ],
          [
           0,
           0,
           1,
           0,
           0,
           0,
           0,
           0,
           0,
           0,
           1,
           1,
           0
          ],
          [
           0,
           0,
           1,
           0,
           0,
           0,
           0,
           0,
           1,
           0,
           0,
           1,
           0
          ],
          [
           0,
           0,
           1,
           0,
           0,
           0,
           0,
           0,
           1,
           0,
           1,
           0,
           0
          ],
          [
           0,
           0,
           1,
           0,
           0,
           0,
           0,
           0,
           1,
           0,
           1,
           0,
           0
          ],
          [
           0,
           0,
           1,
           0,
           0,
           0,
           0,
           0,
           0,
           0,
           1,
           1,
           0
          ],
          [
           0,
           0,
           0,
           0,
           0,
           0,
           0,
           0,
           0,
           0,
           1,
           1,
           0
          ],
          [
           0,
           0,
           1,
           0,
           0,
           0,
           0,
           0,
           1,
           0,
           1,
           0,
           0
          ],
          [
           0,
           0,
           1,
           0,
           0,
           0,
           0,
           0,
           1,
           0,
           1,
           0,
           0
          ],
          [
           0,
           0,
           1,
           0,
           0,
           0,
           0,
           0,
           1,
           0,
           1,
           0,
           0
          ],
          [
           0,
           0,
           1,
           0,
           0,
           0,
           0,
           0,
           1,
           0,
           1,
           1,
           0
          ],
          [
           0,
           0,
           1,
           0,
           0,
           0,
           0,
           0,
           1,
           0,
           0,
           1,
           0
          ],
          [
           0,
           0,
           1,
           0,
           0,
           0,
           0,
           0,
           1,
           0,
           1,
           0,
           0
          ],
          [
           0,
           0,
           1,
           0,
           0,
           0,
           0,
           0,
           1,
           0,
           1,
           0,
           0
          ],
          [
           0,
           0,
           1,
           0,
           0,
           0,
           0,
           0,
           1,
           0,
           1,
           1,
           0
          ],
          [
           0,
           0,
           1,
           0,
           0,
           0,
           0,
           0,
           1,
           0,
           1,
           0,
           0
          ],
          [
           0,
           0,
           1,
           0,
           0,
           0,
           0,
           0,
           1,
           0,
           1,
           1,
           0
          ],
          [
           0,
           0,
           1,
           0,
           0,
           0,
           0,
           0,
           1,
           0,
           1,
           1,
           0
          ],
          [
           0,
           0,
           0,
           0,
           0,
           0,
           0,
           0,
           0,
           0,
           1,
           1,
           0
          ],
          [
           0,
           0,
           1,
           0,
           0,
           0,
           0,
           0,
           1,
           0,
           1,
           0,
           0
          ],
          [
           0,
           0,
           1,
           0,
           0,
           0,
           0,
           0,
           1,
           0,
           1,
           0,
           0
          ],
          [
           0,
           0,
           1,
           0,
           0,
           0,
           0,
           0,
           1,
           0,
           1,
           1,
           0
          ],
          [
           0,
           0,
           1,
           0,
           0,
           0,
           0,
           0,
           1,
           0,
           1,
           0,
           0
          ],
          [
           0,
           0,
           1,
           0,
           0,
           0,
           0,
           0,
           1,
           0,
           1,
           0,
           0
          ],
          [
           0,
           0,
           1,
           0,
           0,
           0,
           0,
           0,
           1,
           0,
           1,
           1,
           0
          ],
          [
           0,
           0,
           1,
           0,
           0,
           0,
           0,
           0,
           1,
           0,
           1,
           0,
           0
          ],
          [
           0,
           0,
           1,
           0,
           0,
           0,
           0,
           0,
           1,
           0,
           1,
           1,
           0
          ],
          [
           0,
           0,
           1,
           0,
           0,
           0,
           0,
           0,
           1,
           0,
           1,
           1,
           0
          ],
          [
           0,
           0,
           1,
           0,
           0,
           0,
           0,
           0,
           1,
           0,
           1,
           0,
           0
          ],
          [
           0,
           0,
           1,
           0,
           0,
           0,
           0,
           0,
           1,
           0,
           1,
           0,
           0
          ],
          [
           0,
           0,
           0,
           0,
           0,
           0,
           0,
           0,
           0,
           0,
           1,
           1,
           0
          ],
          [
           0,
           0,
           1,
           0,
           0,
           0,
           0,
           0,
           1,
           0,
           1,
           0,
           0
          ],
          [
           0,
           0,
           1,
           0,
           0,
           0,
           0,
           0,
           1,
           0,
           1,
           0,
           0
          ],
          [
           0,
           0,
           1,
           0,
           0,
           0,
           0,
           0,
           1,
           0,
           1,
           1,
           0
          ],
          [
           0,
           0,
           1,
           0,
           0,
           0,
           0,
           0,
           1,
           0,
           0,
           1,
           0
          ],
          [
           0,
           0,
           1,
           0,
           0,
           0,
           0,
           0,
           1,
           0,
           1,
           0,
           0
          ],
          [
           0,
           0,
           1,
           0,
           0,
           0,
           0,
           0,
           1,
           0,
           1,
           0,
           0
          ],
          [
           0,
           0,
           1,
           0,
           0,
           0,
           0,
           0,
           1,
           0,
           1,
           0,
           0
          ],
          [
           0,
           0,
           1,
           0,
           0,
           0,
           0,
           0,
           1,
           0,
           1,
           0,
           0
          ],
          [
           0,
           0,
           1,
           0,
           0,
           0,
           0,
           0,
           1,
           0,
           1,
           1,
           0
          ],
          [
           0,
           0,
           1,
           0,
           0,
           0,
           0,
           0,
           0,
           0,
           1,
           1,
           0
          ],
          [
           0,
           0,
           1,
           0,
           0,
           0,
           0,
           0,
           1,
           0,
           1,
           1,
           0
          ],
          [
           0,
           0,
           1,
           0,
           0,
           0,
           0,
           0,
           0,
           0,
           1,
           1,
           0
          ],
          [
           0,
           0,
           1,
           0,
           0,
           0,
           0,
           0,
           0,
           0,
           1,
           1,
           0
          ],
          [
           0,
           0,
           0,
           0,
           0,
           0,
           0,
           0,
           0,
           0,
           1,
           1,
           0
          ],
          [
           0,
           0,
           0,
           0,
           0,
           0,
           0,
           0,
           0,
           0,
           1,
           1,
           0
          ],
          [
           0,
           0,
           1,
           0,
           0,
           0,
           0,
           0,
           1,
           0,
           1,
           1,
           0
          ],
          [
           0,
           0,
           1,
           0,
           0,
           0,
           0,
           0,
           0,
           0,
           1,
           1,
           0
          ],
          [
           0,
           0,
           1,
           0,
           0,
           0,
           0,
           0,
           1,
           0,
           1,
           0,
           0
          ],
          [
           0,
           0,
           0,
           0,
           0,
           0,
           0,
           0,
           0,
           0,
           1,
           1,
           0
          ],
          [
           0,
           0,
           1,
           0,
           0,
           0,
           0,
           0,
           1,
           0,
           0,
           1,
           0
          ],
          [
           0,
           0,
           1,
           0,
           0,
           0,
           0,
           0,
           1,
           0,
           1,
           1,
           0
          ],
          [
           0,
           0,
           1,
           0,
           0,
           0,
           0,
           0,
           1,
           0,
           1,
           1,
           0
          ],
          [
           0,
           0,
           1,
           0,
           0,
           0,
           0,
           0,
           1,
           0,
           1,
           1,
           0
          ],
          [
           0,
           0,
           1,
           0,
           0,
           0,
           0,
           0,
           1,
           0,
           1,
           0,
           0
          ],
          [
           0,
           0,
           1,
           0,
           0,
           0,
           0,
           0,
           1,
           0,
           1,
           1,
           0
          ],
          [
           0,
           0,
           1,
           0,
           0,
           0,
           0,
           0,
           1,
           0,
           1,
           0,
           0
          ],
          [
           0,
           0,
           1,
           0,
           0,
           0,
           0,
           0,
           1,
           0,
           1,
           1,
           0
          ],
          [
           0,
           0,
           1,
           0,
           0,
           0,
           0,
           0,
           1,
           0,
           1,
           0,
           0
          ],
          [
           0,
           0,
           1,
           0,
           0,
           0,
           0,
           0,
           1,
           0,
           1,
           0,
           0
          ],
          [
           0,
           0,
           1,
           0,
           0,
           0,
           0,
           0,
           1,
           0,
           1,
           0,
           0
          ],
          [
           0,
           0,
           1,
           0,
           0,
           0,
           0,
           0,
           1,
           0,
           1,
           1,
           0
          ],
          [
           0,
           0,
           1,
           0,
           0,
           0,
           0,
           0,
           1,
           0,
           1,
           1,
           0
          ],
          [
           0,
           0,
           1,
           0,
           0,
           0,
           0,
           0,
           1,
           0,
           1,
           1,
           0
          ],
          [
           0,
           0,
           1,
           0,
           0,
           0,
           0,
           0,
           1,
           0,
           1,
           1,
           0
          ],
          [
           0,
           0,
           1,
           0,
           0,
           0,
           0,
           0,
           1,
           0,
           1,
           0,
           0
          ],
          [
           0,
           0,
           0,
           0,
           0,
           0,
           0,
           0,
           0,
           0,
           1,
           1,
           0
          ],
          [
           0,
           0,
           0,
           0,
           0,
           0,
           0,
           0,
           0,
           0,
           1,
           1,
           0
          ],
          [
           0,
           0,
           1,
           0,
           0,
           0,
           0,
           0,
           1,
           0,
           1,
           1,
           0
          ],
          [
           0,
           0,
           0,
           0,
           0,
           0,
           0,
           0,
           0,
           0,
           1,
           1,
           0
          ],
          [
           0,
           0,
           1,
           0,
           0,
           0,
           0,
           0,
           1,
           0,
           1,
           0,
           0
          ],
          [
           0,
           0,
           1,
           0,
           0,
           0,
           0,
           0,
           0,
           0,
           1,
           1,
           0
          ],
          [
           0,
           0,
           1,
           0,
           0,
           0,
           0,
           0,
           1,
           0,
           1,
           0,
           0
          ],
          [
           0,
           0,
           1,
           0,
           0,
           0,
           0,
           0,
           1,
           0,
           1,
           0,
           0
          ],
          [
           0,
           0,
           1,
           0,
           0,
           0,
           0,
           0,
           1,
           0,
           1,
           0,
           0
          ],
          [
           0,
           0,
           0,
           0,
           0,
           0,
           0,
           0,
           0,
           0,
           1,
           1,
           0
          ],
          [
           0,
           0,
           1,
           0,
           0,
           0,
           0,
           0,
           1,
           0,
           1,
           0,
           0
          ],
          [
           0,
           0,
           1,
           0,
           0,
           0,
           0,
           0,
           1,
           0,
           1,
           0,
           0
          ],
          [
           0,
           0,
           1,
           0,
           0,
           0,
           0,
           0,
           1,
           0,
           1,
           0,
           0
          ],
          [
           0,
           0,
           1,
           0,
           0,
           0,
           0,
           0,
           1,
           0,
           1,
           0,
           0
          ],
          [
           0,
           0,
           1,
           0,
           0,
           0,
           0,
           0,
           1,
           0,
           1,
           0,
           0
          ],
          [
           0,
           0,
           1,
           0,
           0,
           0,
           0,
           0,
           0,
           0,
           1,
           1,
           0
          ],
          [
           0,
           0,
           1,
           0,
           0,
           0,
           0,
           0,
           1,
           0,
           1,
           0,
           0
          ],
          [
           0,
           0,
           1,
           0,
           0,
           0,
           0,
           0,
           1,
           0,
           1,
           0,
           0
          ],
          [
           0,
           0,
           1,
           0,
           0,
           0,
           0,
           0,
           1,
           0,
           0,
           1,
           0
          ],
          [
           0,
           0,
           1,
           0,
           0,
           0,
           0,
           0,
           1,
           0,
           1,
           0,
           0
          ],
          [
           0,
           0,
           1,
           0,
           0,
           0,
           0,
           0,
           1,
           0,
           1,
           1,
           0
          ],
          [
           0,
           0,
           1,
           0,
           0,
           0,
           0,
           0,
           1,
           0,
           1,
           1,
           0
          ],
          [
           0,
           0,
           1,
           0,
           0,
           0,
           0,
           0,
           1,
           0,
           1,
           1,
           0
          ],
          [
           0,
           0,
           1,
           0,
           0,
           0,
           0,
           0,
           1,
           0,
           0,
           1,
           0
          ],
          [
           0,
           0,
           1,
           0,
           0,
           0,
           0,
           0,
           1,
           0,
           1,
           0,
           0
          ],
          [
           0,
           0,
           1,
           0,
           0,
           0,
           0,
           0,
           1,
           0,
           1,
           0,
           0
          ],
          [
           0,
           0,
           1,
           0,
           0,
           0,
           0,
           0,
           1,
           0,
           1,
           0,
           0
          ],
          [
           0,
           0,
           1,
           0,
           0,
           0,
           0,
           0,
           1,
           0,
           1,
           0,
           0
          ],
          [
           0,
           0,
           1,
           0,
           0,
           0,
           0,
           0,
           1,
           0,
           1,
           0,
           0
          ],
          [
           0,
           0,
           0,
           0,
           0,
           0,
           1,
           0,
           0,
           0,
           1,
           1,
           0
          ],
          [
           0,
           0,
           0,
           0,
           0,
           0,
           0,
           0,
           0,
           0,
           1,
           1,
           0
          ],
          [
           0,
           0,
           1,
           0,
           0,
           0,
           0,
           0,
           1,
           0,
           1,
           1,
           0
          ],
          [
           0,
           0,
           1,
           0,
           0,
           0,
           0,
           0,
           1,
           0,
           1,
           1,
           0
          ],
          [
           0,
           0,
           0,
           0,
           0,
           0,
           0,
           0,
           0,
           0,
           1,
           1,
           0
          ],
          [
           0,
           0,
           1,
           0,
           0,
           0,
           0,
           0,
           1,
           0,
           0,
           1,
           0
          ],
          [
           0,
           0,
           1,
           0,
           0,
           0,
           0,
           0,
           1,
           0,
           1,
           0,
           0
          ],
          [
           0,
           0,
           1,
           0,
           0,
           0,
           0,
           0,
           1,
           0,
           0,
           1,
           0
          ],
          [
           0,
           0,
           1,
           0,
           0,
           0,
           0,
           0,
           1,
           0,
           1,
           0,
           0
          ],
          [
           0,
           0,
           1,
           0,
           0,
           0,
           0,
           0,
           1,
           0,
           1,
           0,
           0
          ],
          [
           0,
           0,
           1,
           0,
           0,
           0,
           0,
           0,
           0,
           0,
           1,
           1,
           0
          ],
          [
           0,
           0,
           1,
           0,
           0,
           0,
           0,
           0,
           1,
           0,
           0,
           1,
           0
          ],
          [
           0,
           0,
           1,
           0,
           0,
           0,
           0,
           0,
           1,
           0,
           1,
           0,
           0
          ],
          [
           0,
           0,
           1,
           0,
           0,
           0,
           0,
           0,
           1,
           0,
           1,
           0,
           0
          ],
          [
           0,
           0,
           1,
           0,
           0,
           0,
           0,
           0,
           1,
           0,
           1,
           1,
           0
          ],
          [
           0,
           0,
           1,
           0,
           0,
           0,
           0,
           0,
           1,
           0,
           1,
           0,
           0
          ],
          [
           0,
           0,
           1,
           0,
           0,
           0,
           0,
           0,
           1,
           0,
           1,
           1,
           0
          ],
          [
           0,
           0,
           1,
           0,
           0,
           0,
           0,
           0,
           1,
           0,
           1,
           0,
           0
          ],
          [
           0,
           0,
           1,
           0,
           0,
           0,
           0,
           0,
           1,
           0,
           1,
           0,
           0
          ],
          [
           0,
           0,
           1,
           0,
           0,
           0,
           0,
           0,
           0,
           0,
           1,
           1,
           0
          ],
          [
           0,
           0,
           1,
           0,
           0,
           0,
           0,
           0,
           0,
           0,
           1,
           1,
           0
          ],
          [
           0,
           0,
           1,
           0,
           0,
           0,
           0,
           0,
           0,
           0,
           1,
           1,
           0
          ],
          [
           0,
           0,
           1,
           0,
           0,
           0,
           0,
           0,
           1,
           0,
           0,
           1,
           0
          ],
          [
           1,
           0,
           1,
           0,
           0,
           1,
           0,
           1,
           1,
           0,
           1,
           1,
           0
          ],
          [
           1,
           0,
           1,
           0,
           0,
           1,
           0,
           1,
           1,
           0,
           1,
           1,
           0
          ],
          [
           1,
           0,
           1,
           0,
           0,
           1,
           0,
           1,
           1,
           0,
           1,
           1,
           0
          ],
          [
           1,
           0,
           1,
           0,
           0,
           1,
           0,
           1,
           1,
           0,
           1,
           1,
           0
          ],
          [
           1,
           0,
           1,
           0,
           0,
           1,
           0,
           1,
           1,
           0,
           1,
           1,
           0
          ],
          [
           1,
           0,
           1,
           0,
           0,
           1,
           0,
           1,
           1,
           0,
           1,
           1,
           0
          ],
          [
           1,
           0,
           1,
           0,
           0,
           1,
           0,
           1,
           1,
           0,
           1,
           1,
           0
          ],
          [
           1,
           0,
           1,
           0,
           0,
           1,
           0,
           1,
           1,
           0,
           1,
           1,
           0
          ],
          [
           1,
           0,
           1,
           0,
           0,
           1,
           0,
           1,
           1,
           0,
           1,
           1,
           0
          ],
          [
           1,
           0,
           1,
           0,
           0,
           1,
           0,
           1,
           1,
           0,
           1,
           1,
           0
          ],
          [
           1,
           0,
           1,
           0,
           0,
           1,
           0,
           1,
           1,
           0,
           1,
           1,
           0
          ],
          [
           1,
           0,
           1,
           0,
           0,
           1,
           0,
           1,
           1,
           0,
           1,
           1,
           0
          ],
          [
           1,
           0,
           1,
           0,
           0,
           1,
           0,
           1,
           1,
           0,
           1,
           1,
           0
          ],
          [
           1,
           0,
           1,
           0,
           0,
           1,
           0,
           1,
           1,
           0,
           1,
           1,
           0
          ],
          [
           1,
           0,
           1,
           0,
           0,
           1,
           0,
           1,
           1,
           0,
           1,
           1,
           0
          ],
          [
           1,
           0,
           1,
           0,
           0,
           1,
           0,
           1,
           1,
           0,
           1,
           1,
           0
          ],
          [
           1,
           0,
           1,
           0,
           0,
           1,
           0,
           1,
           1,
           0,
           1,
           1,
           0
          ],
          [
           1,
           0,
           1,
           0,
           0,
           1,
           0,
           1,
           1,
           0,
           1,
           1,
           0
          ],
          [
           1,
           0,
           1,
           0,
           0,
           1,
           0,
           1,
           1,
           0,
           1,
           1,
           0
          ],
          [
           1,
           0,
           1,
           0,
           0,
           1,
           0,
           1,
           1,
           0,
           1,
           1,
           0
          ],
          [
           1,
           0,
           1,
           0,
           0,
           1,
           0,
           1,
           1,
           0,
           1,
           1,
           0
          ],
          [
           1,
           0,
           1,
           0,
           0,
           1,
           0,
           1,
           1,
           0,
           1,
           1,
           0
          ],
          [
           1,
           0,
           1,
           0,
           0,
           1,
           0,
           1,
           1,
           0,
           1,
           1,
           0
          ],
          [
           1,
           0,
           1,
           0,
           0,
           1,
           0,
           1,
           1,
           0,
           1,
           1,
           0
          ],
          [
           1,
           0,
           1,
           0,
           0,
           1,
           0,
           1,
           1,
           0,
           1,
           1,
           0
          ],
          [
           1,
           0,
           1,
           0,
           0,
           1,
           0,
           1,
           1,
           0,
           1,
           1,
           0
          ],
          [
           1,
           0,
           1,
           0,
           0,
           1,
           0,
           1,
           1,
           0,
           1,
           1,
           0
          ],
          [
           1,
           0,
           1,
           0,
           0,
           1,
           0,
           1,
           1,
           0,
           1,
           1,
           0
          ],
          [
           1,
           0,
           1,
           0,
           0,
           1,
           0,
           1,
           1,
           0,
           1,
           1,
           0
          ],
          [
           1,
           0,
           1,
           0,
           0,
           1,
           0,
           1,
           1,
           0,
           1,
           1,
           0
          ],
          [
           1,
           0,
           1,
           0,
           0,
           1,
           0,
           1,
           1,
           0,
           1,
           1,
           0
          ],
          [
           1,
           0,
           1,
           0,
           0,
           1,
           0,
           1,
           1,
           0,
           1,
           1,
           0
          ],
          [
           1,
           0,
           1,
           0,
           0,
           1,
           0,
           1,
           1,
           0,
           1,
           1,
           0
          ],
          [
           1,
           0,
           1,
           0,
           0,
           1,
           0,
           1,
           1,
           0,
           1,
           1,
           0
          ],
          [
           1,
           0,
           1,
           0,
           0,
           1,
           0,
           1,
           1,
           0,
           1,
           1,
           0
          ],
          [
           1,
           0,
           1,
           0,
           0,
           1,
           0,
           1,
           1,
           0,
           1,
           1,
           0
          ],
          [
           1,
           0,
           1,
           0,
           0,
           1,
           0,
           1,
           1,
           0,
           1,
           1,
           0
          ],
          [
           1,
           0,
           1,
           0,
           0,
           1,
           0,
           1,
           1,
           0,
           1,
           1,
           0
          ],
          [
           1,
           0,
           1,
           0,
           0,
           1,
           0,
           1,
           1,
           0,
           1,
           1,
           0
          ],
          [
           1,
           0,
           1,
           0,
           0,
           1,
           0,
           1,
           1,
           0,
           1,
           1,
           0
          ],
          [
           1,
           0,
           1,
           0,
           0,
           1,
           0,
           1,
           1,
           0,
           1,
           1,
           0
          ],
          [
           1,
           0,
           1,
           0,
           0,
           1,
           0,
           1,
           1,
           0,
           1,
           1,
           0
          ],
          [
           1,
           0,
           1,
           0,
           0,
           1,
           0,
           1,
           1,
           0,
           1,
           1,
           0
          ],
          [
           1,
           0,
           1,
           0,
           0,
           1,
           0,
           1,
           1,
           0,
           1,
           1,
           0
          ],
          [
           1,
           0,
           1,
           0,
           0,
           1,
           0,
           1,
           1,
           0,
           1,
           1,
           0
          ],
          [
           1,
           0,
           1,
           0,
           0,
           1,
           0,
           1,
           1,
           0,
           1,
           1,
           0
          ],
          [
           1,
           0,
           1,
           0,
           0,
           1,
           0,
           1,
           1,
           0,
           1,
           1,
           0
          ],
          [
           1,
           0,
           1,
           0,
           0,
           1,
           0,
           1,
           1,
           0,
           1,
           1,
           0
          ],
          [
           1,
           0,
           1,
           0,
           0,
           1,
           0,
           1,
           1,
           0,
           1,
           1,
           0
          ],
          [
           1,
           0,
           1,
           0,
           0,
           1,
           0,
           1,
           1,
           0,
           1,
           1,
           0
          ],
          [
           1,
           0,
           1,
           0,
           0,
           1,
           0,
           1,
           1,
           0,
           1,
           1,
           0
          ],
          [
           1,
           0,
           1,
           0,
           0,
           1,
           0,
           1,
           1,
           0,
           1,
           1,
           0
          ],
          [
           1,
           0,
           1,
           0,
           0,
           1,
           0,
           1,
           1,
           0,
           1,
           1,
           0
          ],
          [
           1,
           0,
           1,
           0,
           0,
           1,
           0,
           1,
           1,
           0,
           1,
           1,
           0
          ],
          [
           1,
           0,
           1,
           0,
           0,
           1,
           0,
           1,
           1,
           0,
           1,
           1,
           0
          ],
          [
           1,
           0,
           1,
           0,
           0,
           1,
           0,
           1,
           1,
           0,
           1,
           1,
           0
          ],
          [
           1,
           0,
           1,
           0,
           0,
           1,
           0,
           1,
           1,
           0,
           1,
           1,
           0
          ],
          [
           1,
           0,
           1,
           0,
           0,
           1,
           0,
           1,
           1,
           0,
           1,
           1,
           0
          ],
          [
           1,
           0,
           1,
           0,
           0,
           1,
           0,
           1,
           1,
           0,
           1,
           1,
           0
          ],
          [
           1,
           0,
           1,
           0,
           0,
           1,
           0,
           1,
           1,
           0,
           1,
           1,
           0
          ],
          [
           1,
           0,
           1,
           0,
           0,
           1,
           0,
           1,
           1,
           0,
           1,
           1,
           0
          ],
          [
           1,
           0,
           1,
           0,
           0,
           1,
           0,
           1,
           1,
           0,
           1,
           1,
           0
          ],
          [
           1,
           0,
           1,
           0,
           0,
           1,
           0,
           1,
           1,
           0,
           1,
           1,
           0
          ],
          [
           1,
           0,
           1,
           0,
           0,
           1,
           0,
           1,
           1,
           0,
           1,
           1,
           0
          ],
          [
           1,
           0,
           1,
           0,
           0,
           1,
           0,
           1,
           1,
           0,
           1,
           1,
           0
          ],
          [
           1,
           0,
           1,
           0,
           0,
           1,
           0,
           1,
           1,
           0,
           1,
           1,
           0
          ],
          [
           1,
           0,
           1,
           0,
           0,
           1,
           0,
           1,
           1,
           0,
           1,
           1,
           0
          ],
          [
           1,
           0,
           1,
           0,
           0,
           1,
           0,
           1,
           1,
           0,
           1,
           1,
           0
          ],
          [
           1,
           0,
           1,
           0,
           0,
           1,
           0,
           1,
           1,
           0,
           1,
           1,
           0
          ],
          [
           1,
           0,
           1,
           0,
           0,
           1,
           0,
           1,
           1,
           0,
           1,
           1,
           0
          ],
          [
           1,
           0,
           1,
           0,
           0,
           1,
           0,
           1,
           1,
           0,
           1,
           1,
           0
          ],
          [
           1,
           0,
           1,
           0,
           0,
           1,
           0,
           1,
           1,
           0,
           1,
           1,
           0
          ],
          [
           1,
           0,
           1,
           0,
           0,
           1,
           0,
           1,
           1,
           0,
           1,
           1,
           0
          ],
          [
           1,
           0,
           1,
           0,
           0,
           1,
           0,
           1,
           1,
           0,
           1,
           1,
           0
          ],
          [
           1,
           0,
           1,
           0,
           0,
           1,
           0,
           1,
           1,
           0,
           1,
           1,
           0
          ],
          [
           1,
           0,
           1,
           0,
           0,
           1,
           0,
           1,
           1,
           0,
           1,
           1,
           0
          ],
          [
           1,
           0,
           1,
           0,
           0,
           1,
           0,
           1,
           1,
           0,
           1,
           1,
           0
          ],
          [
           1,
           0,
           1,
           0,
           0,
           1,
           0,
           1,
           1,
           0,
           1,
           1,
           0
          ],
          [
           1,
           0,
           1,
           0,
           0,
           1,
           0,
           1,
           1,
           0,
           1,
           1,
           0
          ],
          [
           1,
           0,
           1,
           0,
           0,
           1,
           0,
           1,
           1,
           0,
           1,
           1,
           0
          ],
          [
           1,
           0,
           1,
           0,
           0,
           1,
           0,
           1,
           1,
           0,
           1,
           1,
           0
          ],
          [
           1,
           0,
           1,
           0,
           0,
           1,
           0,
           1,
           1,
           0,
           1,
           1,
           0
          ],
          [
           1,
           0,
           1,
           0,
           0,
           1,
           0,
           1,
           1,
           0,
           1,
           1,
           0
          ],
          [
           1,
           0,
           1,
           0,
           0,
           1,
           0,
           1,
           1,
           0,
           1,
           1,
           0
          ],
          [
           1,
           0,
           1,
           0,
           0,
           1,
           0,
           1,
           1,
           0,
           1,
           1,
           0
          ],
          [
           1,
           0,
           1,
           0,
           0,
           1,
           0,
           1,
           1,
           0,
           1,
           1,
           0
          ],
          [
           1,
           0,
           1,
           0,
           0,
           1,
           0,
           1,
           1,
           0,
           1,
           1,
           0
          ],
          [
           1,
           0,
           1,
           0,
           0,
           1,
           0,
           1,
           1,
           0,
           1,
           1,
           0
          ],
          [
           1,
           0,
           1,
           0,
           0,
           1,
           0,
           1,
           1,
           0,
           1,
           1,
           0
          ],
          [
           1,
           0,
           1,
           0,
           0,
           1,
           0,
           1,
           1,
           0,
           1,
           1,
           0
          ],
          [
           1,
           0,
           1,
           0,
           0,
           1,
           0,
           1,
           1,
           0,
           1,
           1,
           0
          ],
          [
           1,
           0,
           1,
           0,
           0,
           1,
           0,
           1,
           1,
           0,
           1,
           1,
           0
          ],
          [
           1,
           0,
           1,
           0,
           0,
           1,
           0,
           1,
           1,
           0,
           1,
           1,
           0
          ],
          [
           1,
           0,
           1,
           0,
           0,
           1,
           0,
           1,
           1,
           0,
           1,
           1,
           0
          ],
          [
           1,
           0,
           1,
           0,
           0,
           1,
           0,
           1,
           1,
           0,
           1,
           1,
           0
          ],
          [
           1,
           0,
           1,
           0,
           0,
           1,
           0,
           1,
           1,
           0,
           1,
           1,
           0
          ],
          [
           1,
           0,
           1,
           0,
           0,
           1,
           0,
           1,
           1,
           0,
           1,
           1,
           0
          ],
          [
           1,
           0,
           1,
           0,
           0,
           1,
           0,
           1,
           1,
           0,
           1,
           1,
           0
          ],
          [
           1,
           0,
           1,
           0,
           0,
           1,
           0,
           1,
           1,
           0,
           1,
           1,
           0
          ],
          [
           1,
           0,
           1,
           0,
           0,
           1,
           0,
           1,
           1,
           0,
           1,
           1,
           0
          ],
          [
           1,
           0,
           1,
           0,
           0,
           1,
           0,
           1,
           1,
           0,
           1,
           1,
           0
          ],
          [
           1,
           0,
           1,
           0,
           0,
           1,
           0,
           1,
           1,
           0,
           1,
           1,
           0
          ],
          [
           1,
           0,
           1,
           0,
           0,
           1,
           0,
           1,
           1,
           0,
           1,
           1,
           0
          ],
          [
           1,
           0,
           1,
           0,
           0,
           1,
           0,
           1,
           1,
           0,
           1,
           1,
           0
          ],
          [
           1,
           0,
           1,
           0,
           0,
           1,
           0,
           1,
           1,
           0,
           1,
           1,
           0
          ],
          [
           1,
           0,
           1,
           0,
           0,
           1,
           0,
           1,
           1,
           0,
           1,
           1,
           0
          ],
          [
           1,
           0,
           1,
           0,
           0,
           1,
           0,
           1,
           1,
           0,
           1,
           1,
           0
          ],
          [
           1,
           0,
           1,
           0,
           0,
           1,
           0,
           1,
           1,
           0,
           1,
           1,
           0
          ],
          [
           1,
           0,
           1,
           0,
           0,
           1,
           0,
           1,
           1,
           0,
           1,
           1,
           0
          ],
          [
           1,
           0,
           1,
           0,
           0,
           1,
           0,
           1,
           0,
           0,
           1,
           1,
           0
          ],
          [
           1,
           0,
           1,
           0,
           0,
           1,
           0,
           1,
           0,
           0,
           1,
           1,
           0
          ],
          [
           1,
           0,
           1,
           0,
           0,
           1,
           0,
           1,
           0,
           0,
           1,
           1,
           0
          ],
          [
           1,
           0,
           1,
           0,
           0,
           1,
           1,
           1,
           0,
           0,
           1,
           1,
           0
          ],
          [
           1,
           0,
           1,
           0,
           0,
           1,
           0,
           1,
           0,
           0,
           1,
           1,
           0
          ],
          [
           1,
           0,
           1,
           0,
           0,
           1,
           1,
           1,
           0,
           0,
           1,
           1,
           0
          ],
          [
           1,
           0,
           1,
           0,
           0,
           1,
           0,
           1,
           0,
           0,
           1,
           1,
           0
          ],
          [
           1,
           0,
           1,
           0,
           0,
           1,
           0,
           1,
           0,
           0,
           1,
           1,
           0
          ],
          [
           1,
           0,
           1,
           0,
           0,
           1,
           0,
           1,
           0,
           0,
           1,
           1,
           0
          ],
          [
           1,
           0,
           1,
           0,
           0,
           1,
           0,
           1,
           0,
           0,
           1,
           1,
           0
          ],
          [
           1,
           0,
           1,
           0,
           0,
           1,
           0,
           1,
           0,
           0,
           1,
           1,
           0
          ],
          [
           1,
           0,
           1,
           0,
           0,
           1,
           0,
           1,
           0,
           0,
           1,
           1,
           0
          ],
          [
           1,
           0,
           1,
           0,
           0,
           1,
           0,
           1,
           0,
           0,
           1,
           1,
           0
          ],
          [
           1,
           0,
           1,
           0,
           0,
           1,
           0,
           1,
           0,
           0,
           1,
           1,
           0
          ],
          [
           1,
           0,
           1,
           0,
           0,
           1,
           0,
           1,
           0,
           0,
           1,
           1,
           0
          ],
          [
           1,
           0,
           1,
           0,
           0,
           1,
           0,
           1,
           0,
           0,
           1,
           1,
           0
          ],
          [
           1,
           0,
           1,
           0,
           0,
           1,
           0,
           1,
           0,
           0,
           1,
           1,
           0
          ],
          [
           1,
           0,
           1,
           0,
           0,
           1,
           0,
           1,
           0,
           0,
           1,
           1,
           0
          ],
          [
           1,
           0,
           1,
           0,
           0,
           1,
           0,
           1,
           0,
           0,
           1,
           1,
           0
          ],
          [
           1,
           0,
           1,
           0,
           0,
           1,
           0,
           1,
           0,
           0,
           1,
           1,
           0
          ],
          [
           1,
           0,
           1,
           0,
           0,
           1,
           0,
           1,
           0,
           0,
           1,
           1,
           0
          ],
          [
           1,
           0,
           1,
           0,
           0,
           1,
           0,
           1,
           0,
           0,
           1,
           1,
           0
          ],
          [
           1,
           0,
           1,
           0,
           0,
           1,
           0,
           1,
           0,
           0,
           1,
           1,
           0
          ],
          [
           1,
           0,
           1,
           0,
           0,
           1,
           0,
           1,
           0,
           0,
           1,
           1,
           0
          ],
          [
           1,
           0,
           1,
           0,
           0,
           1,
           0,
           1,
           0,
           0,
           1,
           1,
           0
          ],
          [
           1,
           0,
           1,
           0,
           0,
           1,
           0,
           1,
           0,
           0,
           1,
           1,
           0
          ],
          [
           1,
           0,
           1,
           0,
           0,
           1,
           0,
           1,
           0,
           0,
           1,
           1,
           0
          ],
          [
           1,
           0,
           1,
           0,
           0,
           1,
           0,
           1,
           0,
           0,
           1,
           1,
           0
          ],
          [
           1,
           0,
           1,
           0,
           0,
           1,
           0,
           1,
           0,
           0,
           1,
           1,
           0
          ],
          [
           1,
           0,
           1,
           0,
           0,
           1,
           0,
           1,
           0,
           0,
           1,
           1,
           0
          ],
          [
           1,
           0,
           1,
           0,
           0,
           1,
           0,
           1,
           0,
           0,
           1,
           1,
           0
          ],
          [
           1,
           0,
           1,
           0,
           0,
           1,
           0,
           1,
           0,
           0,
           1,
           1,
           0
          ],
          [
           1,
           0,
           1,
           0,
           0,
           1,
           0,
           1,
           0,
           0,
           1,
           1,
           0
          ],
          [
           1,
           0,
           1,
           0,
           0,
           1,
           0,
           1,
           0,
           0,
           1,
           1,
           0
          ],
          [
           1,
           0,
           1,
           0,
           0,
           1,
           0,
           1,
           0,
           0,
           1,
           1,
           0
          ],
          [
           1,
           0,
           1,
           0,
           0,
           1,
           0,
           1,
           0,
           0,
           1,
           1,
           0
          ],
          [
           1,
           0,
           1,
           0,
           0,
           1,
           0,
           1,
           0,
           0,
           1,
           1,
           0
          ],
          [
           1,
           0,
           1,
           0,
           0,
           1,
           0,
           1,
           0,
           0,
           1,
           1,
           0
          ],
          [
           1,
           0,
           1,
           0,
           0,
           1,
           0,
           1,
           0,
           0,
           1,
           1,
           0
          ],
          [
           1,
           0,
           1,
           0,
           0,
           1,
           0,
           1,
           0,
           0,
           1,
           1,
           0
          ],
          [
           1,
           0,
           1,
           0,
           0,
           1,
           0,
           1,
           0,
           0,
           1,
           1,
           0
          ],
          [
           1,
           0,
           1,
           0,
           0,
           1,
           0,
           1,
           0,
           0,
           1,
           1,
           0
          ],
          [
           1,
           0,
           1,
           0,
           0,
           1,
           0,
           1,
           0,
           0,
           1,
           1,
           0
          ],
          [
           1,
           0,
           1,
           0,
           0,
           1,
           0,
           1,
           0,
           0,
           1,
           1,
           0
          ],
          [
           1,
           0,
           1,
           0,
           0,
           1,
           0,
           1,
           0,
           0,
           1,
           1,
           0
          ],
          [
           1,
           0,
           1,
           0,
           0,
           1,
           0,
           1,
           0,
           0,
           1,
           1,
           0
          ],
          [
           1,
           0,
           1,
           0,
           0,
           1,
           0,
           1,
           0,
           0,
           1,
           1,
           0
          ],
          [
           1,
           0,
           1,
           0,
           0,
           1,
           0,
           1,
           0,
           0,
           1,
           1,
           0
          ],
          [
           1,
           0,
           1,
           0,
           0,
           1,
           0,
           1,
           0,
           0,
           1,
           1,
           0
          ],
          [
           1,
           0,
           1,
           0,
           0,
           1,
           0,
           1,
           0,
           0,
           1,
           1,
           0
          ],
          [
           1,
           0,
           1,
           0,
           0,
           1,
           0,
           1,
           0,
           0,
           1,
           1,
           0
          ],
          [
           1,
           0,
           1,
           0,
           0,
           1,
           0,
           1,
           0,
           0,
           1,
           1,
           0
          ],
          [
           1,
           0,
           1,
           0,
           0,
           1,
           0,
           1,
           0,
           0,
           1,
           1,
           0
          ],
          [
           1,
           0,
           1,
           0,
           0,
           1,
           0,
           1,
           0,
           0,
           1,
           1,
           0
          ],
          [
           1,
           0,
           1,
           0,
           0,
           1,
           0,
           1,
           0,
           0,
           1,
           1,
           0
          ],
          [
           1,
           0,
           1,
           0,
           0,
           1,
           0,
           1,
           0,
           0,
           1,
           1,
           0
          ],
          [
           1,
           0,
           1,
           0,
           0,
           1,
           0,
           1,
           0,
           0,
           1,
           1,
           0
          ],
          [
           1,
           0,
           1,
           0,
           0,
           1,
           0,
           1,
           0,
           0,
           1,
           1,
           0
          ],
          [
           1,
           0,
           1,
           0,
           0,
           1,
           0,
           1,
           0,
           0,
           1,
           1,
           0
          ],
          [
           1,
           0,
           1,
           0,
           0,
           1,
           0,
           1,
           0,
           0,
           1,
           1,
           0
          ],
          [
           1,
           0,
           1,
           0,
           0,
           1,
           0,
           1,
           0,
           0,
           1,
           1,
           0
          ],
          [
           1,
           0,
           1,
           0,
           0,
           1,
           0,
           1,
           0,
           0,
           1,
           1,
           0
          ],
          [
           1,
           0,
           1,
           0,
           0,
           1,
           0,
           1,
           0,
           0,
           1,
           1,
           0
          ],
          [
           1,
           0,
           1,
           0,
           0,
           1,
           0,
           1,
           0,
           0,
           1,
           1,
           0
          ],
          [
           1,
           0,
           1,
           0,
           0,
           1,
           0,
           1,
           0,
           0,
           1,
           1,
           0
          ],
          [
           1,
           0,
           1,
           0,
           0,
           1,
           0,
           1,
           0,
           0,
           1,
           1,
           0
          ],
          [
           1,
           0,
           1,
           0,
           0,
           1,
           0,
           1,
           0,
           0,
           1,
           1,
           0
          ],
          [
           1,
           0,
           1,
           0,
           0,
           1,
           0,
           1,
           0,
           0,
           1,
           1,
           0
          ],
          [
           1,
           0,
           1,
           0,
           0,
           1,
           0,
           1,
           0,
           0,
           1,
           1,
           0
          ],
          [
           1,
           0,
           1,
           0,
           0,
           1,
           0,
           1,
           0,
           0,
           1,
           1,
           0
          ],
          [
           1,
           0,
           1,
           0,
           0,
           1,
           0,
           1,
           0,
           0,
           1,
           1,
           0
          ],
          [
           1,
           0,
           1,
           0,
           0,
           1,
           0,
           1,
           0,
           0,
           1,
           1,
           0
          ],
          [
           1,
           0,
           1,
           0,
           0,
           1,
           0,
           1,
           0,
           0,
           1,
           1,
           0
          ],
          [
           1,
           0,
           1,
           0,
           0,
           1,
           0,
           1,
           0,
           0,
           1,
           1,
           0
          ],
          [
           1,
           0,
           1,
           0,
           0,
           1,
           0,
           1,
           0,
           0,
           1,
           1,
           0
          ],
          [
           1,
           0,
           1,
           0,
           0,
           1,
           0,
           1,
           0,
           0,
           1,
           1,
           0
          ],
          [
           1,
           0,
           1,
           0,
           0,
           1,
           0,
           1,
           0,
           0,
           1,
           1,
           0
          ],
          [
           1,
           0,
           1,
           0,
           0,
           1,
           0,
           1,
           1,
           0,
           0,
           1,
           0
          ],
          [
           1,
           0,
           1,
           0,
           0,
           1,
           0,
           1,
           1,
           0,
           0,
           1,
           0
          ],
          [
           1,
           0,
           1,
           0,
           0,
           1,
           0,
           1,
           1,
           0,
           0,
           1,
           0
          ],
          [
           1,
           0,
           1,
           0,
           0,
           1,
           0,
           1,
           1,
           0,
           0,
           1,
           0
          ],
          [
           1,
           0,
           1,
           0,
           0,
           1,
           0,
           1,
           1,
           0,
           0,
           1,
           0
          ],
          [
           1,
           0,
           1,
           0,
           0,
           1,
           0,
           1,
           1,
           0,
           0,
           1,
           0
          ],
          [
           1,
           0,
           1,
           0,
           0,
           1,
           0,
           1,
           1,
           0,
           0,
           1,
           0
          ],
          [
           1,
           0,
           1,
           0,
           0,
           1,
           0,
           1,
           1,
           0,
           0,
           1,
           0
          ],
          [
           1,
           0,
           1,
           0,
           0,
           1,
           0,
           1,
           1,
           0,
           0,
           1,
           0
          ],
          [
           1,
           0,
           1,
           0,
           0,
           1,
           0,
           1,
           1,
           0,
           0,
           1,
           0
          ],
          [
           1,
           0,
           1,
           0,
           0,
           1,
           0,
           1,
           1,
           0,
           0,
           1,
           0
          ],
          [
           1,
           0,
           1,
           0,
           0,
           1,
           0,
           1,
           1,
           0,
           0,
           1,
           0
          ],
          [
           1,
           0,
           1,
           0,
           0,
           1,
           0,
           1,
           1,
           0,
           0,
           1,
           0
          ],
          [
           1,
           0,
           1,
           0,
           0,
           1,
           0,
           1,
           1,
           0,
           0,
           1,
           0
          ],
          [
           1,
           0,
           1,
           0,
           0,
           1,
           0,
           1,
           1,
           0,
           0,
           1,
           0
          ],
          [
           1,
           0,
           1,
           0,
           0,
           1,
           0,
           1,
           1,
           0,
           0,
           1,
           0
          ],
          [
           1,
           0,
           1,
           0,
           0,
           1,
           0,
           1,
           1,
           0,
           0,
           1,
           0
          ],
          [
           1,
           0,
           1,
           0,
           0,
           1,
           0,
           1,
           1,
           0,
           0,
           1,
           0
          ],
          [
           1,
           0,
           1,
           0,
           0,
           1,
           0,
           1,
           1,
           0,
           0,
           1,
           0
          ],
          [
           1,
           0,
           1,
           0,
           0,
           1,
           0,
           1,
           1,
           0,
           0,
           1,
           0
          ],
          [
           1,
           0,
           1,
           0,
           0,
           1,
           0,
           1,
           1,
           0,
           0,
           1,
           0
          ],
          [
           1,
           0,
           1,
           0,
           0,
           1,
           0,
           1,
           1,
           0,
           0,
           1,
           0
          ],
          [
           1,
           0,
           1,
           0,
           0,
           1,
           0,
           1,
           1,
           0,
           0,
           1,
           0
          ],
          [
           1,
           0,
           1,
           0,
           0,
           1,
           0,
           1,
           1,
           0,
           0,
           1,
           0
          ],
          [
           1,
           0,
           1,
           0,
           0,
           1,
           0,
           1,
           1,
           0,
           0,
           1,
           0
          ],
          [
           1,
           0,
           1,
           0,
           0,
           1,
           0,
           1,
           1,
           0,
           0,
           1,
           0
          ],
          [
           1,
           0,
           1,
           0,
           0,
           1,
           0,
           1,
           1,
           0,
           0,
           1,
           0
          ],
          [
           1,
           0,
           1,
           0,
           0,
           1,
           0,
           1,
           1,
           0,
           0,
           1,
           0
          ],
          [
           1,
           0,
           1,
           0,
           0,
           1,
           0,
           1,
           1,
           0,
           0,
           1,
           0
          ],
          [
           1,
           0,
           1,
           0,
           0,
           1,
           0,
           1,
           1,
           0,
           0,
           1,
           0
          ],
          [
           1,
           0,
           1,
           0,
           0,
           1,
           0,
           1,
           1,
           0,
           0,
           1,
           0
          ],
          [
           1,
           0,
           1,
           0,
           0,
           1,
           0,
           1,
           1,
           0,
           0,
           1,
           0
          ],
          [
           1,
           0,
           1,
           0,
           0,
           1,
           0,
           1,
           1,
           0,
           0,
           1,
           0
          ],
          [
           1,
           0,
           1,
           0,
           0,
           1,
           0,
           1,
           1,
           0,
           0,
           1,
           0
          ],
          [
           1,
           0,
           1,
           0,
           0,
           1,
           0,
           1,
           1,
           0,
           0,
           1,
           0
          ],
          [
           1,
           0,
           1,
           0,
           0,
           1,
           0,
           1,
           1,
           0,
           0,
           1,
           0
          ],
          [
           1,
           0,
           1,
           0,
           0,
           1,
           0,
           1,
           1,
           0,
           0,
           1,
           0
          ],
          [
           1,
           0,
           1,
           0,
           0,
           1,
           0,
           1,
           1,
           0,
           0,
           1,
           0
          ],
          [
           1,
           0,
           1,
           0,
           0,
           1,
           0,
           1,
           1,
           0,
           0,
           1,
           0
          ],
          [
           1,
           0,
           1,
           0,
           0,
           1,
           0,
           1,
           1,
           0,
           0,
           1,
           0
          ],
          [
           1,
           0,
           1,
           0,
           0,
           1,
           0,
           1,
           1,
           0,
           0,
           1,
           0
          ],
          [
           1,
           0,
           1,
           0,
           0,
           1,
           0,
           1,
           1,
           0,
           0,
           1,
           0
          ],
          [
           1,
           0,
           1,
           0,
           0,
           1,
           0,
           1,
           1,
           0,
           0,
           1,
           0
          ],
          [
           1,
           0,
           1,
           0,
           0,
           1,
           0,
           1,
           1,
           0,
           0,
           1,
           0
          ],
          [
           1,
           0,
           1,
           0,
           0,
           1,
           0,
           1,
           1,
           0,
           0,
           1,
           0
          ],
          [
           1,
           0,
           1,
           0,
           0,
           1,
           0,
           1,
           1,
           0,
           0,
           1,
           0
          ],
          [
           1,
           0,
           1,
           0,
           0,
           1,
           0,
           1,
           1,
           0,
           0,
           1,
           0
          ],
          [
           1,
           0,
           1,
           0,
           0,
           1,
           0,
           1,
           1,
           0,
           0,
           1,
           0
          ],
          [
           1,
           0,
           1,
           0,
           0,
           1,
           0,
           1,
           1,
           0,
           0,
           1,
           0
          ],
          [
           1,
           0,
           1,
           0,
           0,
           1,
           0,
           1,
           1,
           0,
           0,
           1,
           0
          ],
          [
           1,
           0,
           1,
           0,
           0,
           1,
           0,
           1,
           1,
           0,
           0,
           1,
           0
          ],
          [
           1,
           0,
           1,
           0,
           0,
           1,
           0,
           1,
           1,
           0,
           0,
           1,
           0
          ],
          [
           1,
           0,
           1,
           0,
           0,
           1,
           0,
           1,
           1,
           0,
           0,
           1,
           0
          ],
          [
           1,
           0,
           1,
           0,
           0,
           1,
           0,
           1,
           1,
           0,
           0,
           1,
           0
          ],
          [
           1,
           0,
           1,
           0,
           0,
           1,
           0,
           1,
           1,
           0,
           0,
           1,
           0
          ],
          [
           1,
           0,
           1,
           0,
           0,
           1,
           0,
           1,
           1,
           0,
           0,
           1,
           0
          ],
          [
           1,
           0,
           1,
           0,
           0,
           1,
           0,
           1,
           1,
           0,
           0,
           1,
           0
          ],
          [
           1,
           0,
           1,
           0,
           0,
           1,
           0,
           1,
           1,
           0,
           0,
           1,
           0
          ],
          [
           1,
           0,
           1,
           0,
           0,
           1,
           0,
           1,
           1,
           0,
           0,
           1,
           0
          ],
          [
           1,
           0,
           1,
           0,
           0,
           1,
           0,
           1,
           1,
           0,
           0,
           1,
           0
          ],
          [
           1,
           0,
           1,
           0,
           0,
           1,
           0,
           1,
           1,
           0,
           0,
           1,
           0
          ],
          [
           1,
           0,
           1,
           0,
           0,
           1,
           0,
           1,
           1,
           0,
           0,
           1,
           0
          ],
          [
           1,
           0,
           1,
           0,
           0,
           1,
           0,
           1,
           1,
           0,
           0,
           1,
           0
          ],
          [
           1,
           0,
           1,
           0,
           0,
           1,
           0,
           1,
           1,
           0,
           0,
           1,
           0
          ],
          [
           1,
           0,
           1,
           0,
           0,
           1,
           0,
           1,
           1,
           0,
           0,
           1,
           0
          ],
          [
           1,
           0,
           1,
           0,
           0,
           1,
           0,
           1,
           1,
           0,
           0,
           1,
           0
          ],
          [
           1,
           0,
           1,
           0,
           0,
           1,
           0,
           1,
           1,
           0,
           0,
           1,
           0
          ],
          [
           1,
           0,
           1,
           0,
           0,
           1,
           0,
           1,
           1,
           0,
           0,
           1,
           0
          ],
          [
           1,
           0,
           1,
           0,
           0,
           1,
           0,
           1,
           1,
           0,
           0,
           1,
           0
          ],
          [
           1,
           0,
           1,
           0,
           0,
           1,
           0,
           1,
           1,
           0,
           0,
           1,
           0
          ],
          [
           1,
           0,
           1,
           0,
           0,
           1,
           0,
           1,
           1,
           0,
           0,
           1,
           0
          ],
          [
           1,
           0,
           1,
           0,
           0,
           1,
           0,
           1,
           1,
           0,
           0,
           1,
           0
          ],
          [
           1,
           0,
           1,
           0,
           0,
           1,
           0,
           1,
           1,
           0,
           0,
           1,
           0
          ],
          [
           1,
           0,
           1,
           0,
           0,
           1,
           0,
           1,
           1,
           0,
           0,
           1,
           0
          ],
          [
           1,
           0,
           1,
           0,
           0,
           1,
           0,
           1,
           1,
           0,
           0,
           1,
           0
          ],
          [
           1,
           0,
           1,
           0,
           0,
           1,
           0,
           1,
           1,
           0,
           0,
           1,
           0
          ],
          [
           1,
           0,
           1,
           0,
           0,
           1,
           0,
           1,
           1,
           0,
           0,
           1,
           0
          ],
          [
           1,
           0,
           1,
           0,
           0,
           1,
           0,
           1,
           1,
           0,
           0,
           1,
           0
          ],
          [
           1,
           0,
           1,
           0,
           0,
           1,
           0,
           1,
           1,
           0,
           0,
           1,
           0
          ],
          [
           1,
           0,
           1,
           0,
           0,
           1,
           1,
           1,
           1,
           0,
           0,
           1,
           0
          ],
          [
           1,
           0,
           1,
           0,
           0,
           1,
           0,
           1,
           1,
           0,
           0,
           1,
           0
          ],
          [
           1,
           0,
           1,
           0,
           0,
           1,
           0,
           1,
           1,
           0,
           0,
           1,
           0
          ],
          [
           1,
           0,
           1,
           0,
           0,
           1,
           0,
           1,
           1,
           0,
           0,
           1,
           0
          ],
          [
           1,
           0,
           1,
           0,
           0,
           1,
           0,
           1,
           1,
           0,
           0,
           1,
           0
          ],
          [
           1,
           0,
           1,
           0,
           0,
           1,
           0,
           1,
           1,
           0,
           1,
           0,
           0
          ],
          [
           1,
           0,
           1,
           0,
           0,
           1,
           0,
           1,
           1,
           0,
           1,
           0,
           0
          ],
          [
           1,
           0,
           1,
           0,
           0,
           1,
           0,
           1,
           1,
           0,
           1,
           0,
           0
          ],
          [
           1,
           0,
           1,
           0,
           0,
           1,
           0,
           1,
           1,
           0,
           1,
           0,
           0
          ],
          [
           1,
           0,
           1,
           0,
           0,
           1,
           0,
           1,
           1,
           0,
           1,
           0,
           0
          ],
          [
           1,
           0,
           1,
           0,
           0,
           1,
           0,
           1,
           1,
           0,
           1,
           0,
           0
          ],
          [
           1,
           0,
           1,
           0,
           0,
           1,
           0,
           1,
           1,
           0,
           1,
           0,
           0
          ],
          [
           1,
           0,
           1,
           0,
           0,
           1,
           0,
           1,
           1,
           0,
           1,
           0,
           0
          ],
          [
           1,
           0,
           1,
           0,
           0,
           1,
           0,
           1,
           1,
           0,
           1,
           0,
           0
          ],
          [
           1,
           0,
           1,
           0,
           0,
           1,
           0,
           1,
           1,
           0,
           1,
           0,
           0
          ],
          [
           1,
           0,
           1,
           0,
           0,
           1,
           0,
           1,
           1,
           0,
           1,
           0,
           0
          ],
          [
           1,
           0,
           1,
           0,
           0,
           1,
           0,
           1,
           1,
           0,
           1,
           0,
           0
          ],
          [
           1,
           0,
           1,
           0,
           0,
           1,
           0,
           1,
           1,
           0,
           1,
           0,
           0
          ],
          [
           1,
           0,
           1,
           0,
           0,
           1,
           0,
           1,
           1,
           0,
           1,
           0,
           0
          ],
          [
           1,
           0,
           1,
           0,
           0,
           1,
           0,
           1,
           1,
           0,
           1,
           0,
           0
          ],
          [
           1,
           0,
           1,
           0,
           0,
           1,
           0,
           1,
           1,
           0,
           1,
           0,
           0
          ],
          [
           1,
           0,
           1,
           0,
           0,
           1,
           0,
           1,
           1,
           0,
           1,
           0,
           0
          ],
          [
           1,
           0,
           1,
           0,
           0,
           1,
           0,
           1,
           1,
           0,
           1,
           0,
           0
          ],
          [
           1,
           0,
           1,
           0,
           0,
           1,
           0,
           1,
           1,
           0,
           1,
           0,
           0
          ],
          [
           1,
           0,
           1,
           0,
           0,
           1,
           0,
           1,
           1,
           0,
           1,
           0,
           0
          ],
          [
           1,
           0,
           1,
           0,
           0,
           1,
           0,
           1,
           1,
           0,
           1,
           0,
           0
          ],
          [
           1,
           0,
           1,
           0,
           0,
           1,
           0,
           1,
           1,
           0,
           1,
           0,
           0
          ],
          [
           1,
           0,
           1,
           0,
           0,
           1,
           0,
           1,
           1,
           0,
           1,
           0,
           0
          ],
          [
           1,
           0,
           1,
           0,
           0,
           1,
           0,
           1,
           1,
           0,
           1,
           0,
           0
          ],
          [
           1,
           0,
           1,
           0,
           0,
           1,
           0,
           1,
           1,
           0,
           1,
           0,
           0
          ],
          [
           1,
           0,
           1,
           0,
           0,
           1,
           0,
           1,
           1,
           0,
           1,
           0,
           0
          ],
          [
           1,
           0,
           1,
           0,
           0,
           1,
           0,
           1,
           1,
           0,
           1,
           0,
           0
          ],
          [
           1,
           0,
           1,
           0,
           0,
           1,
           0,
           1,
           1,
           0,
           1,
           0,
           0
          ],
          [
           1,
           0,
           1,
           0,
           0,
           1,
           0,
           1,
           1,
           0,
           1,
           0,
           0
          ],
          [
           1,
           0,
           1,
           0,
           0,
           1,
           0,
           1,
           1,
           0,
           1,
           0,
           0
          ],
          [
           1,
           0,
           1,
           0,
           0,
           1,
           0,
           1,
           1,
           0,
           1,
           0,
           0
          ],
          [
           1,
           0,
           1,
           0,
           0,
           1,
           0,
           1,
           1,
           0,
           1,
           0,
           0
          ],
          [
           1,
           0,
           1,
           0,
           0,
           1,
           0,
           1,
           1,
           0,
           1,
           0,
           0
          ],
          [
           1,
           0,
           1,
           0,
           0,
           1,
           0,
           1,
           1,
           0,
           1,
           0,
           0
          ],
          [
           1,
           0,
           1,
           0,
           0,
           1,
           0,
           1,
           1,
           0,
           1,
           0,
           0
          ],
          [
           1,
           0,
           1,
           0,
           0,
           1,
           0,
           1,
           1,
           0,
           1,
           0,
           0
          ],
          [
           1,
           0,
           1,
           0,
           0,
           1,
           0,
           1,
           1,
           0,
           1,
           0,
           0
          ],
          [
           1,
           0,
           1,
           0,
           0,
           1,
           0,
           1,
           1,
           0,
           1,
           0,
           0
          ],
          [
           1,
           0,
           1,
           0,
           0,
           1,
           0,
           1,
           1,
           0,
           1,
           0,
           0
          ],
          [
           1,
           0,
           1,
           0,
           0,
           1,
           0,
           1,
           1,
           0,
           1,
           0,
           0
          ],
          [
           1,
           0,
           1,
           0,
           0,
           1,
           0,
           1,
           1,
           0,
           1,
           0,
           0
          ],
          [
           1,
           0,
           1,
           0,
           0,
           1,
           0,
           1,
           1,
           0,
           1,
           0,
           0
          ],
          [
           1,
           0,
           1,
           0,
           0,
           1,
           0,
           1,
           1,
           0,
           1,
           0,
           0
          ],
          [
           1,
           0,
           1,
           0,
           0,
           1,
           0,
           1,
           1,
           0,
           1,
           0,
           0
          ],
          [
           1,
           0,
           1,
           0,
           0,
           1,
           0,
           1,
           1,
           0,
           1,
           0,
           0
          ],
          [
           1,
           0,
           1,
           0,
           0,
           1,
           0,
           1,
           1,
           0,
           1,
           0,
           0
          ],
          [
           1,
           0,
           1,
           0,
           0,
           1,
           0,
           1,
           1,
           0,
           1,
           0,
           0
          ],
          [
           1,
           0,
           1,
           0,
           0,
           1,
           0,
           1,
           1,
           0,
           1,
           0,
           0
          ],
          [
           1,
           0,
           1,
           0,
           0,
           1,
           0,
           1,
           1,
           0,
           1,
           0,
           0
          ],
          [
           1,
           0,
           1,
           0,
           0,
           1,
           0,
           1,
           1,
           0,
           1,
           0,
           0
          ],
          [
           1,
           0,
           1,
           0,
           0,
           1,
           0,
           1,
           1,
           0,
           1,
           0,
           0
          ],
          [
           1,
           0,
           1,
           0,
           0,
           1,
           0,
           1,
           1,
           0,
           1,
           0,
           0
          ],
          [
           1,
           0,
           1,
           0,
           0,
           1,
           0,
           1,
           1,
           0,
           1,
           0,
           0
          ],
          [
           1,
           0,
           1,
           0,
           0,
           1,
           0,
           1,
           1,
           0,
           1,
           0,
           0
          ],
          [
           1,
           0,
           1,
           0,
           0,
           1,
           0,
           1,
           1,
           0,
           1,
           0,
           0
          ],
          [
           1,
           0,
           1,
           0,
           0,
           1,
           0,
           1,
           1,
           0,
           1,
           0,
           0
          ],
          [
           1,
           0,
           1,
           0,
           0,
           1,
           0,
           1,
           1,
           0,
           1,
           0,
           0
          ],
          [
           1,
           0,
           1,
           0,
           0,
           1,
           0,
           1,
           1,
           0,
           1,
           0,
           0
          ],
          [
           1,
           0,
           1,
           0,
           0,
           1,
           0,
           1,
           1,
           0,
           1,
           0,
           0
          ],
          [
           1,
           0,
           1,
           0,
           0,
           1,
           0,
           1,
           1,
           0,
           1,
           0,
           0
          ],
          [
           1,
           0,
           1,
           0,
           0,
           1,
           0,
           1,
           1,
           0,
           1,
           0,
           0
          ],
          [
           1,
           0,
           1,
           0,
           0,
           1,
           0,
           1,
           1,
           0,
           1,
           0,
           0
          ],
          [
           1,
           0,
           1,
           0,
           0,
           1,
           0,
           1,
           1,
           0,
           1,
           0,
           0
          ],
          [
           1,
           0,
           1,
           0,
           0,
           1,
           0,
           1,
           1,
           0,
           1,
           0,
           0
          ],
          [
           1,
           0,
           1,
           0,
           0,
           1,
           0,
           1,
           1,
           0,
           1,
           0,
           0
          ],
          [
           1,
           0,
           1,
           0,
           0,
           1,
           0,
           1,
           1,
           0,
           1,
           0,
           0
          ],
          [
           1,
           0,
           1,
           0,
           0,
           1,
           0,
           1,
           1,
           0,
           1,
           0,
           0
          ],
          [
           1,
           0,
           1,
           0,
           0,
           1,
           0,
           1,
           1,
           0,
           1,
           0,
           0
          ],
          [
           1,
           0,
           1,
           0,
           0,
           1,
           0,
           1,
           1,
           0,
           1,
           0,
           0
          ],
          [
           1,
           0,
           1,
           0,
           0,
           1,
           0,
           1,
           1,
           0,
           1,
           0,
           0
          ],
          [
           1,
           0,
           1,
           0,
           0,
           1,
           0,
           1,
           1,
           0,
           1,
           0,
           0
          ],
          [
           1,
           0,
           1,
           0,
           0,
           1,
           0,
           1,
           1,
           0,
           1,
           0,
           0
          ],
          [
           1,
           0,
           1,
           0,
           0,
           1,
           0,
           1,
           1,
           0,
           1,
           0,
           0
          ],
          [
           1,
           0,
           1,
           0,
           0,
           1,
           0,
           1,
           1,
           0,
           1,
           0,
           0
          ],
          [
           1,
           0,
           1,
           0,
           0,
           1,
           0,
           1,
           1,
           0,
           1,
           0,
           0
          ],
          [
           1,
           0,
           1,
           0,
           0,
           1,
           0,
           1,
           1,
           0,
           1,
           0,
           0
          ],
          [
           1,
           0,
           1,
           0,
           0,
           1,
           0,
           1,
           1,
           0,
           1,
           0,
           0
          ],
          [
           1,
           0,
           1,
           0,
           0,
           1,
           0,
           1,
           1,
           0,
           1,
           0,
           0
          ],
          [
           1,
           0,
           1,
           0,
           0,
           1,
           0,
           1,
           1,
           0,
           1,
           0,
           0
          ],
          [
           1,
           0,
           1,
           0,
           0,
           1,
           0,
           1,
           1,
           0,
           1,
           0,
           0
          ],
          [
           1,
           0,
           1,
           0,
           0,
           1,
           0,
           1,
           1,
           0,
           1,
           0,
           0
          ],
          [
           1,
           0,
           1,
           0,
           0,
           1,
           0,
           1,
           1,
           0,
           1,
           0,
           0
          ],
          [
           1,
           0,
           1,
           0,
           0,
           1,
           0,
           1,
           1,
           0,
           1,
           0,
           0
          ],
          [
           1,
           0,
           1,
           0,
           0,
           1,
           0,
           1,
           1,
           0,
           1,
           0,
           0
          ],
          [
           1,
           0,
           1,
           0,
           0,
           1,
           0,
           1,
           1,
           0,
           1,
           0,
           0
          ],
          [
           1,
           0,
           1,
           0,
           0,
           1,
           0,
           1,
           1,
           0,
           1,
           0,
           0
          ],
          [
           1,
           0,
           1,
           0,
           0,
           1,
           0,
           1,
           1,
           0,
           1,
           0,
           0
          ],
          [
           1,
           0,
           1,
           0,
           0,
           1,
           0,
           1,
           1,
           0,
           1,
           0,
           0
          ],
          [
           1,
           0,
           1,
           0,
           0,
           1,
           0,
           1,
           1,
           0,
           1,
           0,
           0
          ],
          [
           1,
           0,
           1,
           0,
           0,
           1,
           0,
           1,
           1,
           0,
           1,
           0,
           0
          ],
          [
           1,
           0,
           1,
           0,
           0,
           1,
           0,
           1,
           1,
           0,
           1,
           0,
           0
          ],
          [
           1,
           0,
           1,
           0,
           0,
           1,
           0,
           1,
           1,
           0,
           1,
           0,
           0
          ],
          [
           1,
           0,
           1,
           0,
           0,
           1,
           0,
           1,
           1,
           0,
           1,
           0,
           0
          ],
          [
           1,
           0,
           1,
           0,
           0,
           1,
           0,
           1,
           1,
           0,
           1,
           0,
           0
          ],
          [
           1,
           0,
           1,
           0,
           0,
           1,
           0,
           1,
           1,
           0,
           1,
           0,
           0
          ],
          [
           1,
           0,
           1,
           0,
           0,
           1,
           0,
           1,
           1,
           0,
           1,
           0,
           0
          ],
          [
           1,
           0,
           1,
           0,
           0,
           1,
           0,
           1,
           1,
           0,
           1,
           0,
           0
          ],
          [
           1,
           0,
           1,
           0,
           0,
           1,
           0,
           1,
           1,
           0,
           1,
           0,
           0
          ],
          [
           1,
           0,
           1,
           0,
           0,
           1,
           0,
           1,
           1,
           0,
           1,
           0,
           0
          ],
          [
           1,
           0,
           1,
           0,
           0,
           1,
           0,
           1,
           1,
           0,
           1,
           0,
           0
          ],
          [
           1,
           0,
           1,
           0,
           0,
           1,
           0,
           1,
           1,
           0,
           1,
           0,
           0
          ],
          [
           1,
           0,
           1,
           0,
           0,
           1,
           0,
           1,
           1,
           0,
           1,
           0,
           0
          ],
          [
           1,
           0,
           1,
           0,
           0,
           1,
           0,
           1,
           1,
           0,
           1,
           0,
           0
          ],
          [
           1,
           0,
           1,
           0,
           0,
           1,
           0,
           1,
           1,
           0,
           1,
           0,
           0
          ],
          [
           1,
           0,
           1,
           0,
           0,
           1,
           0,
           1,
           1,
           0,
           1,
           0,
           0
          ],
          [
           1,
           0,
           1,
           0,
           0,
           1,
           0,
           1,
           1,
           0,
           1,
           0,
           0
          ],
          [
           1,
           0,
           1,
           0,
           0,
           1,
           0,
           1,
           1,
           0,
           1,
           0,
           0
          ],
          [
           1,
           0,
           1,
           0,
           0,
           1,
           0,
           1,
           1,
           0,
           1,
           0,
           0
          ],
          [
           1,
           0,
           1,
           0,
           0,
           1,
           0,
           1,
           1,
           0,
           1,
           0,
           0
          ],
          [
           1,
           0,
           1,
           0,
           0,
           1,
           0,
           1,
           1,
           0,
           1,
           0,
           0
          ],
          [
           1,
           0,
           1,
           0,
           0,
           1,
           0,
           1,
           1,
           0,
           1,
           0,
           0
          ],
          [
           1,
           0,
           1,
           0,
           0,
           1,
           0,
           1,
           1,
           0,
           1,
           0,
           0
          ],
          [
           1,
           0,
           1,
           0,
           0,
           1,
           0,
           1,
           1,
           0,
           1,
           0,
           0
          ],
          [
           1,
           0,
           1,
           0,
           0,
           1,
           0,
           1,
           1,
           0,
           1,
           0,
           0
          ],
          [
           1,
           0,
           1,
           0,
           0,
           1,
           0,
           1,
           1,
           0,
           1,
           0,
           0
          ],
          [
           1,
           0,
           1,
           0,
           0,
           1,
           0,
           1,
           1,
           0,
           1,
           0,
           0
          ],
          [
           1,
           0,
           1,
           0,
           0,
           1,
           0,
           1,
           1,
           0,
           1,
           0,
           0
          ],
          [
           1,
           0,
           1,
           0,
           0,
           1,
           0,
           1,
           1,
           0,
           1,
           0,
           0
          ],
          [
           1,
           0,
           1,
           0,
           0,
           1,
           0,
           1,
           1,
           0,
           1,
           0,
           0
          ],
          [
           1,
           0,
           1,
           0,
           0,
           1,
           0,
           1,
           1,
           0,
           1,
           0,
           0
          ],
          [
           1,
           0,
           1,
           0,
           0,
           1,
           0,
           1,
           1,
           0,
           1,
           0,
           0
          ],
          [
           1,
           0,
           1,
           0,
           0,
           1,
           0,
           1,
           1,
           0,
           1,
           0,
           0
          ],
          [
           1,
           0,
           1,
           0,
           0,
           1,
           0,
           1,
           1,
           0,
           1,
           0,
           0
          ],
          [
           1,
           0,
           1,
           0,
           0,
           1,
           0,
           1,
           1,
           0,
           1,
           0,
           0
          ],
          [
           1,
           0,
           1,
           0,
           0,
           1,
           0,
           1,
           1,
           0,
           1,
           0,
           0
          ],
          [
           1,
           0,
           1,
           0,
           0,
           1,
           0,
           1,
           1,
           0,
           1,
           0,
           0
          ],
          [
           1,
           0,
           0,
           0,
           0,
           1,
           0,
           1,
           0,
           0,
           1,
           1,
           0
          ],
          [
           1,
           0,
           0,
           0,
           0,
           1,
           0,
           1,
           0,
           0,
           1,
           1,
           0
          ],
          [
           1,
           0,
           0,
           0,
           0,
           1,
           0,
           1,
           0,
           0,
           1,
           1,
           0
          ],
          [
           1,
           0,
           0,
           0,
           0,
           1,
           0,
           1,
           0,
           0,
           1,
           1,
           0
          ],
          [
           1,
           0,
           0,
           0,
           0,
           1,
           0,
           1,
           0,
           0,
           1,
           1,
           0
          ],
          [
           1,
           0,
           0,
           0,
           0,
           1,
           0,
           1,
           0,
           0,
           1,
           1,
           0
          ],
          [
           1,
           0,
           0,
           0,
           0,
           1,
           0,
           1,
           0,
           0,
           1,
           1,
           0
          ],
          [
           1,
           0,
           0,
           0,
           0,
           1,
           0,
           1,
           0,
           0,
           1,
           1,
           0
          ],
          [
           1,
           0,
           0,
           0,
           0,
           1,
           0,
           1,
           0,
           0,
           1,
           1,
           0
          ],
          [
           1,
           0,
           0,
           0,
           0,
           1,
           0,
           1,
           0,
           0,
           1,
           1,
           0
          ],
          [
           1,
           0,
           0,
           0,
           0,
           1,
           0,
           1,
           0,
           0,
           1,
           1,
           0
          ],
          [
           1,
           0,
           0,
           0,
           0,
           1,
           0,
           1,
           0,
           0,
           1,
           1,
           0
          ],
          [
           1,
           0,
           0,
           0,
           0,
           1,
           0,
           1,
           0,
           0,
           1,
           1,
           0
          ],
          [
           1,
           0,
           0,
           0,
           0,
           1,
           0,
           1,
           0,
           0,
           1,
           1,
           0
          ],
          [
           1,
           0,
           0,
           0,
           0,
           1,
           0,
           1,
           0,
           0,
           1,
           1,
           0
          ],
          [
           1,
           0,
           0,
           0,
           0,
           1,
           1,
           1,
           0,
           0,
           1,
           1,
           0
          ],
          [
           1,
           0,
           0,
           0,
           0,
           1,
           0,
           1,
           0,
           0,
           1,
           1,
           0
          ],
          [
           1,
           0,
           0,
           0,
           0,
           1,
           0,
           1,
           0,
           0,
           1,
           1,
           0
          ],
          [
           1,
           0,
           0,
           0,
           0,
           1,
           0,
           1,
           0,
           0,
           1,
           1,
           0
          ],
          [
           1,
           0,
           0,
           0,
           0,
           1,
           0,
           1,
           0,
           0,
           1,
           1,
           0
          ],
          [
           1,
           0,
           0,
           0,
           0,
           1,
           0,
           1,
           0,
           0,
           1,
           1,
           0
          ],
          [
           1,
           0,
           0,
           0,
           0,
           1,
           0,
           1,
           0,
           0,
           1,
           1,
           0
          ],
          [
           1,
           0,
           0,
           0,
           0,
           1,
           0,
           1,
           0,
           0,
           1,
           1,
           0
          ],
          [
           1,
           0,
           0,
           0,
           0,
           1,
           0,
           1,
           0,
           0,
           1,
           1,
           0
          ],
          [
           1,
           0,
           0,
           0,
           0,
           1,
           0,
           1,
           0,
           0,
           1,
           1,
           0
          ],
          [
           1,
           0,
           0,
           0,
           0,
           1,
           0,
           1,
           0,
           0,
           1,
           1,
           0
          ],
          [
           1,
           0,
           0,
           0,
           0,
           1,
           0,
           1,
           0,
           0,
           1,
           1,
           0
          ],
          [
           1,
           0,
           1,
           0,
           0,
           1,
           0,
           1,
           0,
           0,
           1,
           1,
           0
          ],
          [
           1,
           0,
           1,
           0,
           0,
           1,
           0,
           1,
           0,
           0,
           1,
           1,
           0
          ],
          [
           1,
           0,
           1,
           0,
           0,
           1,
           0,
           1,
           0,
           0,
           1,
           1,
           0
          ],
          [
           1,
           0,
           1,
           0,
           0,
           1,
           0,
           1,
           1,
           0,
           1,
           1,
           0
          ],
          [
           1,
           0,
           1,
           0,
           0,
           1,
           0,
           1,
           1,
           0,
           1,
           1,
           0
          ],
          [
           1,
           0,
           1,
           0,
           0,
           1,
           0,
           1,
           1,
           0,
           1,
           1,
           0
          ],
          [
           1,
           0,
           1,
           0,
           0,
           1,
           0,
           1,
           1,
           0,
           1,
           1,
           0
          ],
          [
           1,
           0,
           1,
           0,
           0,
           1,
           0,
           1,
           1,
           0,
           1,
           1,
           0
          ],
          [
           1,
           0,
           1,
           0,
           0,
           1,
           0,
           1,
           1,
           0,
           1,
           1,
           0
          ],
          [
           1,
           0,
           1,
           0,
           0,
           1,
           0,
           1,
           1,
           0,
           1,
           1,
           0
          ],
          [
           1,
           0,
           1,
           0,
           0,
           1,
           0,
           1,
           1,
           0,
           1,
           1,
           0
          ],
          [
           1,
           0,
           1,
           0,
           0,
           1,
           0,
           1,
           1,
           0,
           1,
           1,
           0
          ],
          [
           1,
           0,
           1,
           0,
           0,
           1,
           0,
           1,
           1,
           0,
           1,
           1,
           0
          ],
          [
           1,
           0,
           1,
           0,
           0,
           1,
           0,
           1,
           1,
           0,
           1,
           1,
           0
          ],
          [
           1,
           0,
           1,
           0,
           0,
           1,
           0,
           1,
           1,
           0,
           1,
           1,
           0
          ],
          [
           1,
           0,
           1,
           0,
           0,
           1,
           0,
           1,
           1,
           0,
           1,
           1,
           0
          ],
          [
           1,
           0,
           1,
           0,
           0,
           1,
           0,
           1,
           1,
           0,
           1,
           1,
           0
          ],
          [
           1,
           0,
           1,
           0,
           0,
           1,
           0,
           1,
           1,
           0,
           1,
           1,
           0
          ],
          [
           1,
           0,
           1,
           0,
           0,
           1,
           0,
           1,
           1,
           0,
           1,
           1,
           0
          ],
          [
           1,
           0,
           1,
           0,
           0,
           1,
           0,
           1,
           1,
           0,
           1,
           1,
           0
          ],
          [
           1,
           0,
           1,
           0,
           0,
           1,
           0,
           1,
           1,
           0,
           1,
           1,
           0
          ],
          [
           1,
           0,
           1,
           0,
           0,
           1,
           0,
           1,
           1,
           0,
           1,
           1,
           0
          ],
          [
           1,
           0,
           1,
           0,
           0,
           1,
           0,
           1,
           1,
           0,
           1,
           1,
           0
          ],
          [
           1,
           0,
           1,
           0,
           0,
           1,
           0,
           1,
           1,
           0,
           1,
           1,
           0
          ],
          [
           1,
           0,
           1,
           0,
           0,
           1,
           0,
           1,
           1,
           0,
           1,
           1,
           0
          ],
          [
           1,
           0,
           1,
           0,
           0,
           1,
           0,
           1,
           1,
           0,
           1,
           1,
           0
          ],
          [
           1,
           0,
           1,
           0,
           0,
           1,
           0,
           1,
           1,
           0,
           1,
           1,
           0
          ],
          [
           1,
           0,
           1,
           0,
           0,
           1,
           0,
           1,
           1,
           0,
           1,
           1,
           0
          ],
          [
           1,
           0,
           1,
           0,
           0,
           1,
           0,
           1,
           1,
           0,
           1,
           1,
           0
          ],
          [
           1,
           0,
           1,
           0,
           0,
           1,
           0,
           1,
           1,
           0,
           1,
           1,
           0
          ],
          [
           1,
           0,
           1,
           0,
           0,
           1,
           0,
           1,
           1,
           0,
           1,
           1,
           0
          ],
          [
           1,
           0,
           1,
           0,
           0,
           1,
           0,
           1,
           1,
           0,
           1,
           1,
           0
          ],
          [
           1,
           0,
           1,
           0,
           0,
           1,
           0,
           1,
           1,
           0,
           1,
           1,
           0
          ],
          [
           1,
           0,
           1,
           0,
           0,
           1,
           0,
           1,
           1,
           0,
           1,
           1,
           0
          ],
          [
           1,
           0,
           1,
           0,
           0,
           1,
           0,
           1,
           1,
           0,
           1,
           1,
           0
          ],
          [
           1,
           0,
           1,
           0,
           0,
           1,
           0,
           1,
           1,
           0,
           1,
           1,
           0
          ],
          [
           1,
           0,
           1,
           0,
           0,
           1,
           0,
           1,
           1,
           0,
           1,
           1,
           0
          ],
          [
           1,
           0,
           1,
           0,
           0,
           1,
           0,
           1,
           1,
           0,
           1,
           1,
           0
          ],
          [
           1,
           0,
           1,
           0,
           0,
           1,
           0,
           1,
           1,
           0,
           1,
           1,
           0
          ],
          [
           1,
           0,
           1,
           0,
           0,
           1,
           0,
           1,
           1,
           0,
           1,
           1,
           0
          ],
          [
           1,
           0,
           1,
           0,
           0,
           1,
           0,
           1,
           1,
           0,
           1,
           1,
           0
          ],
          [
           1,
           0,
           1,
           0,
           0,
           1,
           0,
           1,
           1,
           0,
           1,
           1,
           0
          ],
          [
           1,
           0,
           1,
           0,
           0,
           1,
           0,
           1,
           1,
           0,
           1,
           1,
           0
          ],
          [
           1,
           0,
           1,
           0,
           0,
           1,
           0,
           1,
           1,
           0,
           1,
           1,
           0
          ],
          [
           1,
           0,
           1,
           0,
           0,
           1,
           0,
           1,
           1,
           0,
           1,
           1,
           0
          ],
          [
           1,
           0,
           1,
           0,
           0,
           1,
           0,
           1,
           1,
           0,
           1,
           1,
           0
          ],
          [
           1,
           0,
           1,
           0,
           0,
           1,
           0,
           1,
           1,
           0,
           1,
           1,
           0
          ],
          [
           1,
           0,
           1,
           0,
           0,
           1,
           0,
           1,
           1,
           0,
           1,
           1,
           0
          ],
          [
           1,
           0,
           1,
           0,
           0,
           1,
           0,
           1,
           1,
           0,
           1,
           1,
           0
          ],
          [
           1,
           0,
           1,
           0,
           0,
           1,
           0,
           1,
           1,
           0,
           1,
           1,
           0
          ],
          [
           1,
           0,
           1,
           0,
           0,
           1,
           0,
           1,
           1,
           0,
           1,
           1,
           0
          ],
          [
           1,
           0,
           1,
           0,
           0,
           1,
           0,
           1,
           1,
           0,
           1,
           1,
           0
          ],
          [
           1,
           0,
           1,
           0,
           0,
           1,
           0,
           1,
           1,
           0,
           1,
           1,
           0
          ],
          [
           1,
           0,
           1,
           0,
           0,
           1,
           0,
           1,
           1,
           0,
           1,
           1,
           0
          ],
          [
           1,
           0,
           1,
           0,
           0,
           1,
           0,
           1,
           1,
           0,
           1,
           1,
           0
          ],
          [
           1,
           0,
           1,
           0,
           0,
           1,
           0,
           1,
           1,
           0,
           1,
           1,
           0
          ],
          [
           1,
           0,
           1,
           0,
           0,
           1,
           0,
           1,
           1,
           0,
           1,
           1,
           0
          ],
          [
           1,
           0,
           1,
           0,
           0,
           1,
           0,
           1,
           1,
           0,
           1,
           1,
           0
          ],
          [
           1,
           0,
           1,
           0,
           0,
           1,
           1,
           1,
           1,
           0,
           1,
           1,
           0
          ],
          [
           1,
           0,
           1,
           0,
           0,
           1,
           0,
           1,
           1,
           0,
           1,
           1,
           0
          ],
          [
           1,
           0,
           1,
           0,
           0,
           1,
           0,
           1,
           1,
           0,
           1,
           1,
           0
          ],
          [
           1,
           0,
           1,
           0,
           0,
           1,
           0,
           1,
           1,
           0,
           1,
           1,
           0
          ],
          [
           1,
           0,
           1,
           0,
           0,
           1,
           0,
           1,
           1,
           0,
           1,
           1,
           0
          ],
          [
           1,
           0,
           1,
           0,
           0,
           1,
           0,
           1,
           1,
           0,
           1,
           1,
           0
          ],
          [
           1,
           0,
           1,
           0,
           0,
           1,
           0,
           1,
           1,
           0,
           1,
           1,
           0
          ],
          [
           1,
           0,
           1,
           0,
           0,
           1,
           0,
           1,
           1,
           0,
           1,
           1,
           0
          ],
          [
           1,
           0,
           1,
           0,
           0,
           1,
           0,
           1,
           1,
           0,
           1,
           1,
           0
          ],
          [
           1,
           0,
           1,
           0,
           0,
           1,
           0,
           1,
           1,
           0,
           1,
           1,
           0
          ],
          [
           1,
           0,
           1,
           0,
           0,
           1,
           0,
           1,
           1,
           0,
           1,
           1,
           0
          ],
          [
           1,
           0,
           1,
           0,
           0,
           1,
           0,
           1,
           1,
           0,
           1,
           1,
           0
          ],
          [
           1,
           0,
           1,
           0,
           0,
           1,
           0,
           1,
           1,
           0,
           1,
           1,
           0
          ],
          [
           1,
           0,
           1,
           0,
           0,
           1,
           0,
           1,
           1,
           0,
           1,
           1,
           0
          ],
          [
           1,
           0,
           1,
           0,
           0,
           1,
           0,
           1,
           1,
           0,
           1,
           1,
           0
          ],
          [
           1,
           0,
           1,
           0,
           0,
           1,
           0,
           1,
           1,
           0,
           1,
           1,
           0
          ],
          [
           1,
           0,
           1,
           0,
           0,
           1,
           0,
           1,
           1,
           0,
           1,
           1,
           0
          ],
          [
           1,
           0,
           1,
           0,
           0,
           1,
           0,
           1,
           1,
           0,
           1,
           1,
           0
          ],
          [
           1,
           0,
           1,
           0,
           0,
           1,
           0,
           1,
           1,
           0,
           1,
           1,
           0
          ],
          [
           1,
           0,
           1,
           0,
           0,
           1,
           0,
           1,
           1,
           0,
           1,
           1,
           0
          ],
          [
           1,
           0,
           1,
           0,
           0,
           1,
           0,
           1,
           1,
           0,
           1,
           1,
           0
          ],
          [
           1,
           0,
           1,
           0,
           0,
           1,
           0,
           1,
           1,
           0,
           1,
           1,
           0
          ],
          [
           1,
           0,
           1,
           0,
           0,
           1,
           0,
           1,
           1,
           0,
           1,
           1,
           0
          ],
          [
           1,
           0,
           1,
           0,
           0,
           1,
           0,
           1,
           1,
           0,
           1,
           1,
           0
          ],
          [
           1,
           0,
           1,
           0,
           0,
           1,
           0,
           1,
           1,
           0,
           1,
           1,
           0
          ],
          [
           1,
           0,
           1,
           0,
           0,
           1,
           0,
           1,
           1,
           0,
           1,
           1,
           0
          ],
          [
           1,
           0,
           1,
           0,
           0,
           1,
           0,
           1,
           1,
           0,
           1,
           1,
           0
          ],
          [
           1,
           0,
           1,
           0,
           0,
           1,
           0,
           1,
           1,
           0,
           1,
           1,
           0
          ],
          [
           1,
           0,
           1,
           0,
           0,
           1,
           0,
           1,
           1,
           0,
           1,
           1,
           0
          ],
          [
           1,
           0,
           1,
           0,
           0,
           1,
           0,
           1,
           1,
           0,
           1,
           1,
           0
          ],
          [
           1,
           0,
           1,
           0,
           0,
           1,
           0,
           1,
           1,
           0,
           1,
           1,
           0
          ],
          [
           1,
           0,
           1,
           0,
           0,
           1,
           0,
           1,
           1,
           0,
           1,
           1,
           0
          ],
          [
           1,
           0,
           1,
           0,
           0,
           1,
           0,
           1,
           1,
           0,
           1,
           1,
           0
          ],
          [
           1,
           0,
           1,
           0,
           0,
           1,
           0,
           1,
           1,
           0,
           1,
           1,
           0
          ],
          [
           1,
           0,
           1,
           0,
           0,
           1,
           0,
           1,
           1,
           0,
           1,
           1,
           0
          ],
          [
           1,
           0,
           1,
           0,
           0,
           1,
           0,
           1,
           1,
           0,
           1,
           1,
           0
          ],
          [
           1,
           0,
           1,
           0,
           0,
           1,
           0,
           1,
           1,
           0,
           1,
           1,
           0
          ],
          [
           1,
           0,
           1,
           0,
           0,
           1,
           0,
           1,
           1,
           0,
           1,
           1,
           0
          ],
          [
           1,
           0,
           1,
           0,
           0,
           1,
           0,
           1,
           1,
           0,
           1,
           1,
           0
          ],
          [
           1,
           0,
           1,
           0,
           0,
           1,
           0,
           1,
           1,
           0,
           1,
           1,
           0
          ],
          [
           1,
           0,
           1,
           0,
           0,
           1,
           0,
           1,
           1,
           0,
           1,
           1,
           0
          ],
          [
           1,
           0,
           1,
           0,
           0,
           1,
           0,
           1,
           1,
           0,
           1,
           1,
           0
          ],
          [
           1,
           0,
           1,
           0,
           0,
           1,
           0,
           1,
           1,
           0,
           1,
           1,
           0
          ],
          [
           1,
           0,
           1,
           0,
           0,
           1,
           0,
           1,
           1,
           0,
           1,
           1,
           0
          ],
          [
           1,
           0,
           1,
           0,
           0,
           1,
           0,
           1,
           1,
           0,
           1,
           1,
           0
          ],
          [
           1,
           0,
           1,
           0,
           0,
           1,
           0,
           1,
           1,
           0,
           1,
           1,
           0
          ],
          [
           1,
           0,
           1,
           0,
           0,
           1,
           0,
           1,
           1,
           0,
           1,
           1,
           0
          ],
          [
           1,
           0,
           1,
           0,
           0,
           1,
           0,
           1,
           1,
           0,
           1,
           1,
           0
          ],
          [
           1,
           0,
           1,
           0,
           0,
           1,
           0,
           1,
           1,
           0,
           1,
           1,
           0
          ],
          [
           1,
           0,
           1,
           0,
           0,
           1,
           0,
           1,
           1,
           0,
           1,
           1,
           0
          ],
          [
           1,
           0,
           1,
           0,
           0,
           1,
           0,
           1,
           1,
           0,
           1,
           1,
           0
          ],
          [
           1,
           0,
           1,
           0,
           0,
           1,
           0,
           1,
           1,
           0,
           1,
           1,
           0
          ],
          [
           1,
           0,
           1,
           0,
           0,
           1,
           0,
           1,
           1,
           0,
           1,
           1,
           0
          ],
          [
           1,
           0,
           1,
           0,
           0,
           1,
           0,
           1,
           1,
           0,
           1,
           1,
           0
          ],
          [
           1,
           0,
           1,
           0,
           0,
           1,
           0,
           1,
           1,
           0,
           1,
           1,
           0
          ],
          [
           1,
           0,
           1,
           0,
           0,
           1,
           0,
           1,
           1,
           0,
           1,
           1,
           0
          ],
          [
           1,
           0,
           1,
           0,
           0,
           1,
           0,
           1,
           1,
           0,
           1,
           1,
           0
          ],
          [
           1,
           0,
           1,
           0,
           0,
           1,
           0,
           1,
           1,
           0,
           1,
           1,
           0
          ],
          [
           1,
           0,
           1,
           0,
           0,
           1,
           0,
           1,
           1,
           0,
           1,
           1,
           0
          ],
          [
           1,
           0,
           1,
           0,
           0,
           1,
           0,
           1,
           1,
           0,
           1,
           1,
           0
          ],
          [
           1,
           0,
           1,
           0,
           0,
           1,
           0,
           1,
           1,
           0,
           1,
           1,
           0
          ],
          [
           1,
           0,
           1,
           0,
           0,
           1,
           0,
           1,
           1,
           0,
           1,
           1,
           0
          ],
          [
           1,
           0,
           1,
           0,
           0,
           1,
           0,
           1,
           1,
           0,
           1,
           1,
           0
          ],
          [
           1,
           0,
           1,
           0,
           0,
           1,
           0,
           1,
           1,
           0,
           1,
           1,
           0
          ],
          [
           1,
           0,
           1,
           0,
           0,
           1,
           0,
           1,
           1,
           0,
           1,
           1,
           0
          ],
          [
           1,
           0,
           1,
           0,
           0,
           1,
           0,
           1,
           1,
           0,
           1,
           1,
           0
          ],
          [
           1,
           0,
           1,
           0,
           0,
           1,
           0,
           1,
           1,
           0,
           1,
           1,
           0
          ],
          [
           1,
           0,
           1,
           0,
           0,
           1,
           0,
           1,
           1,
           0,
           1,
           1,
           0
          ],
          [
           1,
           0,
           1,
           0,
           0,
           1,
           0,
           1,
           1,
           0,
           1,
           1,
           0
          ],
          [
           1,
           0,
           1,
           0,
           0,
           1,
           0,
           1,
           1,
           0,
           1,
           1,
           0
          ],
          [
           1,
           0,
           1,
           0,
           0,
           1,
           0,
           1,
           1,
           0,
           1,
           1,
           0
          ],
          [
           1,
           0,
           1,
           0,
           0,
           1,
           0,
           1,
           1,
           0,
           1,
           1,
           0
          ],
          [
           1,
           0,
           1,
           0,
           0,
           1,
           0,
           1,
           1,
           0,
           1,
           1,
           0
          ],
          [
           1,
           0,
           1,
           0,
           0,
           1,
           0,
           1,
           1,
           0,
           1,
           1,
           0
          ],
          [
           1,
           0,
           1,
           0,
           0,
           1,
           0,
           1,
           1,
           0,
           1,
           1,
           0
          ],
          [
           1,
           0,
           1,
           0,
           0,
           1,
           0,
           1,
           1,
           0,
           1,
           1,
           0
          ],
          [
           1,
           0,
           1,
           0,
           0,
           1,
           0,
           1,
           1,
           0,
           1,
           1,
           0
          ],
          [
           1,
           0,
           1,
           0,
           0,
           1,
           0,
           1,
           1,
           0,
           1,
           1,
           0
          ],
          [
           1,
           0,
           1,
           0,
           0,
           1,
           0,
           1,
           1,
           0,
           1,
           1,
           0
          ],
          [
           1,
           0,
           1,
           0,
           0,
           1,
           0,
           1,
           1,
           0,
           1,
           1,
           0
          ],
          [
           1,
           0,
           1,
           0,
           0,
           1,
           0,
           1,
           1,
           0,
           1,
           1,
           0
          ],
          [
           1,
           0,
           1,
           0,
           0,
           1,
           0,
           1,
           1,
           0,
           1,
           1,
           0
          ],
          [
           1,
           0,
           1,
           0,
           0,
           1,
           0,
           1,
           1,
           0,
           1,
           1,
           0
          ],
          [
           1,
           0,
           1,
           0,
           0,
           1,
           0,
           1,
           1,
           0,
           1,
           1,
           0
          ],
          [
           1,
           0,
           1,
           0,
           0,
           1,
           0,
           1,
           1,
           0,
           1,
           1,
           0
          ],
          [
           1,
           0,
           1,
           0,
           0,
           1,
           0,
           1,
           1,
           0,
           1,
           1,
           0
          ],
          [
           1,
           0,
           1,
           0,
           0,
           1,
           0,
           1,
           1,
           0,
           1,
           1,
           0
          ],
          [
           1,
           0,
           1,
           0,
           0,
           1,
           0,
           1,
           1,
           0,
           1,
           1,
           0
          ],
          [
           1,
           0,
           1,
           0,
           0,
           1,
           0,
           1,
           1,
           0,
           1,
           1,
           0
          ],
          [
           1,
           0,
           1,
           0,
           0,
           1,
           0,
           1,
           1,
           0,
           1,
           1,
           0
          ],
          [
           1,
           0,
           1,
           0,
           0,
           1,
           0,
           1,
           1,
           0,
           1,
           1,
           0
          ],
          [
           1,
           0,
           1,
           0,
           0,
           1,
           0,
           1,
           1,
           0,
           1,
           1,
           0
          ],
          [
           1,
           0,
           1,
           0,
           0,
           1,
           0,
           1,
           1,
           0,
           1,
           1,
           0
          ],
          [
           1,
           0,
           1,
           0,
           0,
           1,
           0,
           1,
           1,
           0,
           1,
           1,
           0
          ],
          [
           1,
           0,
           1,
           0,
           0,
           1,
           0,
           1,
           1,
           0,
           1,
           1,
           0
          ],
          [
           1,
           0,
           1,
           0,
           0,
           1,
           0,
           1,
           1,
           0,
           1,
           1,
           0
          ],
          [
           1,
           0,
           1,
           0,
           0,
           1,
           0,
           1,
           1,
           0,
           1,
           1,
           0
          ],
          [
           1,
           0,
           1,
           0,
           0,
           1,
           0,
           1,
           1,
           0,
           1,
           1,
           0
          ],
          [
           1,
           0,
           1,
           0,
           0,
           1,
           0,
           1,
           1,
           0,
           1,
           1,
           0
          ],
          [
           1,
           0,
           1,
           0,
           0,
           1,
           0,
           1,
           1,
           0,
           1,
           1,
           0
          ],
          [
           1,
           0,
           1,
           0,
           0,
           1,
           0,
           1,
           1,
           0,
           1,
           1,
           0
          ],
          [
           1,
           0,
           1,
           0,
           0,
           1,
           0,
           1,
           1,
           0,
           1,
           1,
           0
          ],
          [
           1,
           0,
           1,
           0,
           0,
           1,
           0,
           1,
           1,
           0,
           1,
           1,
           0
          ],
          [
           1,
           0,
           1,
           0,
           0,
           1,
           0,
           1,
           1,
           0,
           1,
           1,
           0
          ],
          [
           1,
           0,
           1,
           0,
           0,
           1,
           0,
           1,
           1,
           0,
           1,
           1,
           0
          ],
          [
           1,
           0,
           1,
           0,
           0,
           1,
           0,
           1,
           1,
           0,
           1,
           1,
           0
          ],
          [
           1,
           0,
           1,
           0,
           0,
           1,
           0,
           1,
           1,
           0,
           1,
           1,
           0
          ],
          [
           1,
           0,
           1,
           0,
           0,
           1,
           0,
           1,
           1,
           0,
           1,
           1,
           0
          ],
          [
           1,
           0,
           1,
           0,
           0,
           1,
           0,
           1,
           1,
           0,
           1,
           1,
           0
          ],
          [
           1,
           0,
           1,
           0,
           0,
           1,
           0,
           1,
           1,
           0,
           1,
           1,
           0
          ],
          [
           1,
           0,
           1,
           0,
           0,
           1,
           0,
           1,
           1,
           0,
           1,
           1,
           0
          ],
          [
           1,
           0,
           1,
           0,
           0,
           1,
           0,
           1,
           1,
           0,
           1,
           1,
           0
          ],
          [
           1,
           0,
           1,
           0,
           0,
           1,
           0,
           1,
           1,
           0,
           1,
           1,
           0
          ],
          [
           1,
           0,
           1,
           0,
           0,
           1,
           0,
           1,
           1,
           0,
           1,
           1,
           0
          ],
          [
           1,
           0,
           1,
           0,
           0,
           1,
           0,
           1,
           1,
           0,
           1,
           1,
           0
          ],
          [
           1,
           0,
           1,
           0,
           0,
           1,
           0,
           1,
           1,
           0,
           1,
           1,
           0
          ],
          [
           1,
           0,
           1,
           0,
           0,
           1,
           0,
           1,
           1,
           0,
           1,
           1,
           0
          ],
          [
           1,
           0,
           1,
           0,
           0,
           1,
           0,
           1,
           1,
           0,
           1,
           1,
           0
          ],
          [
           1,
           0,
           1,
           0,
           0,
           1,
           0,
           1,
           1,
           0,
           1,
           1,
           0
          ],
          [
           1,
           0,
           1,
           0,
           0,
           1,
           0,
           1,
           1,
           0,
           1,
           1,
           0
          ],
          [
           1,
           0,
           1,
           0,
           0,
           1,
           0,
           1,
           1,
           0,
           1,
           1,
           0
          ],
          [
           1,
           0,
           1,
           0,
           0,
           1,
           0,
           1,
           1,
           0,
           1,
           1,
           0
          ],
          [
           1,
           0,
           1,
           0,
           0,
           1,
           0,
           1,
           1,
           0,
           1,
           1,
           0
          ],
          [
           1,
           0,
           1,
           0,
           0,
           1,
           0,
           1,
           1,
           0,
           1,
           1,
           0
          ],
          [
           1,
           0,
           1,
           0,
           0,
           1,
           0,
           1,
           1,
           0,
           1,
           1,
           0
          ],
          [
           1,
           0,
           1,
           0,
           0,
           1,
           0,
           1,
           1,
           0,
           1,
           1,
           0
          ],
          [
           1,
           0,
           1,
           0,
           0,
           1,
           0,
           1,
           1,
           0,
           1,
           1,
           0
          ],
          [
           1,
           0,
           1,
           0,
           0,
           1,
           0,
           1,
           1,
           0,
           1,
           1,
           0
          ],
          [
           1,
           0,
           1,
           0,
           0,
           1,
           0,
           1,
           1,
           0,
           1,
           1,
           0
          ],
          [
           1,
           0,
           1,
           0,
           0,
           1,
           0,
           1,
           1,
           0,
           1,
           1,
           0
          ],
          [
           1,
           0,
           1,
           0,
           0,
           1,
           0,
           1,
           1,
           0,
           1,
           1,
           0
          ],
          [
           1,
           0,
           1,
           0,
           0,
           1,
           0,
           1,
           1,
           0,
           1,
           1,
           0
          ],
          [
           1,
           0,
           1,
           0,
           0,
           1,
           0,
           1,
           1,
           0,
           1,
           1,
           0
          ],
          [
           1,
           0,
           1,
           0,
           0,
           1,
           0,
           1,
           1,
           0,
           1,
           1,
           0
          ],
          [
           1,
           0,
           1,
           0,
           0,
           1,
           0,
           1,
           1,
           0,
           1,
           1,
           0
          ],
          [
           1,
           0,
           1,
           0,
           0,
           1,
           0,
           1,
           1,
           0,
           1,
           1,
           0
          ],
          [
           1,
           0,
           1,
           0,
           0,
           1,
           0,
           1,
           1,
           0,
           1,
           1,
           0
          ],
          [
           1,
           0,
           1,
           0,
           0,
           1,
           0,
           1,
           1,
           0,
           1,
           1,
           0
          ],
          [
           1,
           0,
           1,
           0,
           0,
           1,
           0,
           1,
           1,
           0,
           1,
           1,
           0
          ],
          [
           1,
           0,
           1,
           0,
           0,
           1,
           0,
           1,
           1,
           0,
           1,
           1,
           0
          ],
          [
           1,
           0,
           1,
           0,
           0,
           1,
           0,
           1,
           1,
           0,
           1,
           1,
           0
          ],
          [
           1,
           0,
           1,
           0,
           0,
           1,
           0,
           1,
           1,
           0,
           1,
           1,
           0
          ],
          [
           1,
           0,
           1,
           0,
           0,
           1,
           0,
           1,
           1,
           0,
           1,
           1,
           0
          ],
          [
           1,
           0,
           1,
           0,
           0,
           1,
           0,
           1,
           1,
           0,
           1,
           1,
           0
          ],
          [
           1,
           0,
           1,
           0,
           0,
           1,
           0,
           1,
           1,
           0,
           1,
           1,
           0
          ],
          [
           1,
           0,
           1,
           0,
           0,
           1,
           0,
           1,
           1,
           0,
           1,
           1,
           0
          ],
          [
           1,
           0,
           1,
           0,
           0,
           1,
           0,
           1,
           1,
           0,
           1,
           1,
           0
          ],
          [
           1,
           0,
           1,
           0,
           0,
           1,
           0,
           1,
           1,
           0,
           1,
           1,
           0
          ],
          [
           1,
           0,
           1,
           0,
           0,
           1,
           0,
           1,
           1,
           0,
           1,
           1,
           0
          ],
          [
           1,
           0,
           1,
           0,
           0,
           1,
           0,
           1,
           1,
           0,
           1,
           1,
           0
          ],
          [
           1,
           0,
           1,
           0,
           0,
           1,
           0,
           1,
           1,
           0,
           1,
           1,
           0
          ],
          [
           1,
           0,
           1,
           0,
           0,
           1,
           0,
           1,
           1,
           0,
           1,
           1,
           0
          ],
          [
           1,
           0,
           1,
           0,
           0,
           1,
           0,
           1,
           1,
           0,
           1,
           1,
           0
          ],
          [
           1,
           0,
           1,
           0,
           0,
           1,
           0,
           1,
           1,
           0,
           1,
           1,
           0
          ],
          [
           1,
           0,
           1,
           0,
           0,
           1,
           0,
           1,
           1,
           0,
           1,
           1,
           0
          ],
          [
           1,
           0,
           1,
           0,
           0,
           1,
           0,
           1,
           1,
           0,
           1,
           1,
           0
          ],
          [
           1,
           0,
           1,
           0,
           0,
           1,
           0,
           1,
           1,
           0,
           1,
           1,
           0
          ],
          [
           1,
           0,
           1,
           0,
           0,
           1,
           0,
           1,
           1,
           0,
           1,
           1,
           0
          ],
          [
           1,
           0,
           1,
           0,
           0,
           1,
           0,
           1,
           1,
           0,
           1,
           1,
           0
          ],
          [
           1,
           0,
           1,
           0,
           0,
           1,
           0,
           1,
           1,
           0,
           1,
           1,
           0
          ],
          [
           1,
           0,
           1,
           0,
           0,
           1,
           0,
           1,
           1,
           0,
           1,
           1,
           0
          ],
          [
           1,
           0,
           1,
           0,
           0,
           1,
           0,
           1,
           1,
           0,
           1,
           1,
           0
          ],
          [
           1,
           0,
           1,
           0,
           0,
           1,
           0,
           1,
           1,
           0,
           1,
           1,
           0
          ],
          [
           1,
           0,
           1,
           0,
           0,
           1,
           0,
           1,
           1,
           0,
           1,
           1,
           0
          ],
          [
           1,
           0,
           1,
           0,
           0,
           1,
           0,
           1,
           1,
           0,
           1,
           1,
           0
          ],
          [
           1,
           0,
           1,
           0,
           0,
           1,
           0,
           1,
           1,
           0,
           1,
           1,
           0
          ],
          [
           1,
           0,
           1,
           0,
           0,
           1,
           0,
           1,
           1,
           0,
           1,
           1,
           0
          ],
          [
           1,
           0,
           1,
           0,
           0,
           1,
           0,
           1,
           1,
           0,
           1,
           1,
           0
          ],
          [
           1,
           0,
           1,
           0,
           0,
           1,
           0,
           1,
           1,
           0,
           1,
           1,
           0
          ],
          [
           1,
           0,
           1,
           0,
           0,
           1,
           0,
           1,
           1,
           0,
           1,
           1,
           0
          ],
          [
           1,
           0,
           1,
           0,
           0,
           1,
           0,
           1,
           1,
           0,
           1,
           1,
           0
          ],
          [
           1,
           0,
           1,
           0,
           0,
           1,
           0,
           1,
           1,
           0,
           1,
           1,
           0
          ],
          [
           1,
           0,
           1,
           0,
           0,
           1,
           0,
           1,
           1,
           0,
           1,
           1,
           0
          ],
          [
           1,
           0,
           1,
           0,
           0,
           1,
           0,
           1,
           1,
           0,
           1,
           1,
           0
          ],
          [
           1,
           0,
           1,
           0,
           0,
           1,
           0,
           1,
           1,
           0,
           1,
           1,
           0
          ],
          [
           1,
           0,
           1,
           0,
           0,
           1,
           0,
           1,
           1,
           0,
           1,
           1,
           0
          ],
          [
           1,
           0,
           1,
           0,
           0,
           1,
           0,
           1,
           1,
           0,
           1,
           1,
           0
          ],
          [
           1,
           0,
           1,
           0,
           0,
           1,
           0,
           1,
           1,
           0,
           1,
           1,
           0
          ],
          [
           1,
           0,
           1,
           0,
           0,
           1,
           0,
           1,
           1,
           0,
           1,
           1,
           0
          ],
          [
           1,
           0,
           1,
           0,
           0,
           1,
           0,
           1,
           1,
           0,
           1,
           1,
           0
          ],
          [
           1,
           0,
           1,
           0,
           0,
           1,
           0,
           1,
           1,
           0,
           1,
           1,
           0
          ],
          [
           1,
           0,
           1,
           0,
           0,
           1,
           0,
           1,
           1,
           0,
           1,
           1,
           0
          ],
          [
           1,
           0,
           1,
           0,
           0,
           1,
           0,
           1,
           1,
           0,
           1,
           1,
           0
          ],
          [
           1,
           0,
           1,
           0,
           0,
           1,
           0,
           1,
           1,
           0,
           1,
           1,
           0
          ],
          [
           1,
           0,
           1,
           0,
           0,
           1,
           0,
           1,
           1,
           0,
           1,
           1,
           0
          ],
          [
           1,
           0,
           1,
           0,
           0,
           1,
           0,
           1,
           1,
           0,
           1,
           1,
           0
          ],
          [
           1,
           0,
           1,
           0,
           0,
           1,
           0,
           1,
           1,
           0,
           1,
           1,
           0
          ],
          [
           1,
           0,
           1,
           0,
           0,
           1,
           0,
           1,
           1,
           0,
           1,
           1,
           0
          ],
          [
           1,
           0,
           1,
           0,
           0,
           1,
           0,
           1,
           1,
           0,
           1,
           1,
           0
          ],
          [
           1,
           0,
           1,
           0,
           0,
           1,
           0,
           1,
           1,
           0,
           1,
           1,
           0
          ],
          [
           1,
           0,
           1,
           0,
           0,
           1,
           0,
           1,
           1,
           0,
           1,
           1,
           0
          ],
          [
           1,
           0,
           1,
           0,
           0,
           1,
           0,
           1,
           1,
           0,
           1,
           1,
           0
          ],
          [
           1,
           0,
           1,
           0,
           0,
           1,
           0,
           1,
           1,
           0,
           1,
           1,
           0
          ],
          [
           1,
           0,
           1,
           0,
           0,
           1,
           0,
           1,
           1,
           0,
           1,
           1,
           0
          ],
          [
           1,
           0,
           1,
           0,
           0,
           1,
           0,
           1,
           1,
           0,
           1,
           1,
           0
          ],
          [
           1,
           0,
           1,
           0,
           0,
           1,
           0,
           1,
           1,
           0,
           1,
           1,
           0
          ],
          [
           1,
           0,
           1,
           0,
           0,
           1,
           0,
           1,
           1,
           0,
           1,
           1,
           0
          ],
          [
           1,
           0,
           1,
           0,
           0,
           1,
           0,
           1,
           1,
           0,
           1,
           1,
           0
          ],
          [
           1,
           0,
           1,
           0,
           0,
           1,
           0,
           1,
           1,
           0,
           1,
           1,
           0
          ],
          [
           1,
           0,
           1,
           0,
           0,
           1,
           0,
           1,
           1,
           0,
           1,
           1,
           0
          ],
          [
           1,
           0,
           1,
           0,
           0,
           1,
           0,
           1,
           1,
           0,
           1,
           1,
           0
          ],
          [
           1,
           0,
           1,
           0,
           0,
           1,
           0,
           1,
           1,
           0,
           1,
           1,
           0
          ],
          [
           1,
           0,
           1,
           0,
           0,
           1,
           0,
           1,
           1,
           0,
           1,
           1,
           0
          ],
          [
           1,
           0,
           1,
           0,
           0,
           1,
           0,
           1,
           1,
           0,
           1,
           1,
           0
          ],
          [
           1,
           0,
           1,
           0,
           0,
           1,
           0,
           1,
           1,
           0,
           1,
           1,
           0
          ],
          [
           1,
           0,
           1,
           0,
           0,
           1,
           0,
           1,
           1,
           0,
           1,
           1,
           0
          ],
          [
           1,
           0,
           1,
           0,
           0,
           1,
           0,
           1,
           1,
           0,
           1,
           1,
           0
          ],
          [
           1,
           0,
           1,
           0,
           0,
           1,
           0,
           1,
           1,
           0,
           1,
           1,
           0
          ],
          [
           1,
           0,
           1,
           0,
           0,
           1,
           0,
           1,
           1,
           0,
           1,
           1,
           0
          ],
          [
           1,
           0,
           1,
           0,
           0,
           1,
           0,
           1,
           1,
           0,
           1,
           1,
           0
          ],
          [
           1,
           0,
           1,
           0,
           0,
           1,
           0,
           1,
           1,
           0,
           1,
           1,
           0
          ],
          [
           1,
           0,
           1,
           0,
           0,
           1,
           0,
           1,
           1,
           0,
           1,
           1,
           0
          ],
          [
           1,
           0,
           1,
           0,
           0,
           1,
           0,
           1,
           1,
           0,
           1,
           1,
           0
          ],
          [
           1,
           0,
           1,
           0,
           0,
           1,
           0,
           1,
           1,
           0,
           1,
           1,
           0
          ],
          [
           1,
           0,
           1,
           0,
           0,
           1,
           0,
           1,
           1,
           0,
           1,
           1,
           0
          ],
          [
           1,
           0,
           1,
           0,
           0,
           1,
           0,
           1,
           1,
           0,
           1,
           1,
           0
          ],
          [
           1,
           0,
           1,
           0,
           0,
           1,
           0,
           1,
           1,
           0,
           1,
           1,
           0
          ],
          [
           1,
           0,
           1,
           0,
           0,
           1,
           0,
           1,
           1,
           0,
           1,
           1,
           0
          ],
          [
           1,
           0,
           1,
           0,
           0,
           1,
           0,
           1,
           1,
           0,
           1,
           1,
           0
          ],
          [
           1,
           0,
           1,
           0,
           0,
           1,
           0,
           1,
           1,
           0,
           1,
           1,
           0
          ],
          [
           1,
           0,
           1,
           0,
           0,
           1,
           0,
           1,
           1,
           0,
           1,
           1,
           0
          ],
          [
           1,
           0,
           1,
           0,
           0,
           1,
           0,
           1,
           1,
           0,
           1,
           1,
           0
          ],
          [
           1,
           0,
           1,
           0,
           0,
           1,
           0,
           1,
           1,
           0,
           1,
           1,
           0
          ],
          [
           1,
           0,
           1,
           0,
           0,
           1,
           0,
           1,
           1,
           0,
           1,
           1,
           0
          ],
          [
           1,
           0,
           1,
           0,
           0,
           1,
           0,
           1,
           1,
           0,
           1,
           1,
           0
          ],
          [
           1,
           0,
           1,
           0,
           0,
           1,
           0,
           1,
           1,
           0,
           1,
           1,
           0
          ],
          [
           1,
           0,
           1,
           0,
           0,
           1,
           0,
           1,
           1,
           0,
           1,
           1,
           0
          ],
          [
           1,
           0,
           1,
           0,
           0,
           1,
           0,
           1,
           1,
           0,
           1,
           1,
           0
          ],
          [
           1,
           0,
           1,
           0,
           0,
           1,
           0,
           1,
           1,
           0,
           1,
           1,
           0
          ],
          [
           1,
           0,
           1,
           0,
           0,
           1,
           0,
           1,
           1,
           0,
           1,
           1,
           0
          ],
          [
           1,
           0,
           1,
           0,
           0,
           1,
           0,
           1,
           1,
           0,
           1,
           1,
           0
          ],
          [
           1,
           0,
           1,
           0,
           0,
           1,
           0,
           1,
           1,
           0,
           1,
           1,
           0
          ],
          [
           1,
           0,
           1,
           0,
           0,
           1,
           0,
           1,
           1,
           0,
           1,
           1,
           0
          ],
          [
           1,
           0,
           1,
           0,
           0,
           1,
           0,
           1,
           1,
           0,
           1,
           1,
           0
          ],
          [
           1,
           0,
           1,
           0,
           0,
           1,
           0,
           1,
           1,
           0,
           1,
           1,
           0
          ],
          [
           1,
           0,
           1,
           0,
           0,
           1,
           0,
           1,
           1,
           0,
           1,
           1,
           0
          ],
          [
           1,
           0,
           1,
           0,
           0,
           1,
           0,
           1,
           1,
           0,
           1,
           1,
           0
          ],
          [
           1,
           0,
           1,
           0,
           0,
           1,
           0,
           1,
           1,
           0,
           1,
           1,
           0
          ],
          [
           1,
           0,
           1,
           0,
           0,
           1,
           0,
           1,
           1,
           0,
           1,
           1,
           0
          ],
          [
           1,
           0,
           1,
           0,
           0,
           1,
           0,
           1,
           1,
           0,
           1,
           1,
           0
          ],
          [
           1,
           0,
           1,
           0,
           0,
           1,
           0,
           1,
           1,
           0,
           1,
           1,
           0
          ],
          [
           1,
           0,
           1,
           0,
           0,
           1,
           0,
           1,
           1,
           0,
           1,
           1,
           0
          ],
          [
           1,
           0,
           1,
           0,
           0,
           1,
           0,
           1,
           1,
           0,
           1,
           1,
           0
          ],
          [
           1,
           0,
           1,
           0,
           0,
           1,
           0,
           1,
           1,
           0,
           1,
           1,
           0
          ],
          [
           1,
           0,
           1,
           0,
           0,
           1,
           0,
           1,
           1,
           0,
           1,
           1,
           0
          ],
          [
           1,
           0,
           1,
           0,
           0,
           1,
           0,
           1,
           1,
           0,
           1,
           1,
           0
          ],
          [
           1,
           0,
           1,
           0,
           0,
           1,
           0,
           1,
           1,
           0,
           1,
           1,
           0
          ],
          [
           1,
           0,
           1,
           0,
           0,
           1,
           0,
           1,
           1,
           0,
           1,
           1,
           0
          ],
          [
           1,
           0,
           1,
           0,
           0,
           1,
           0,
           1,
           1,
           0,
           1,
           1,
           0
          ],
          [
           1,
           0,
           1,
           0,
           0,
           1,
           0,
           1,
           1,
           0,
           1,
           1,
           0
          ],
          [
           1,
           0,
           1,
           0,
           0,
           1,
           0,
           1,
           1,
           0,
           1,
           1,
           0
          ],
          [
           1,
           0,
           1,
           0,
           0,
           1,
           0,
           1,
           1,
           0,
           1,
           1,
           0
          ],
          [
           1,
           0,
           1,
           0,
           0,
           1,
           0,
           1,
           1,
           0,
           1,
           1,
           0
          ],
          [
           1,
           0,
           1,
           0,
           0,
           1,
           0,
           1,
           1,
           0,
           1,
           1,
           0
          ],
          [
           1,
           0,
           1,
           0,
           0,
           1,
           0,
           1,
           1,
           0,
           1,
           1,
           0
          ],
          [
           1,
           0,
           1,
           0,
           0,
           1,
           0,
           1,
           1,
           0,
           1,
           1,
           0
          ],
          [
           1,
           0,
           1,
           0,
           0,
           1,
           0,
           1,
           1,
           0,
           1,
           1,
           0
          ],
          [
           1,
           0,
           1,
           0,
           0,
           1,
           0,
           1,
           1,
           0,
           1,
           1,
           0
          ],
          [
           1,
           0,
           1,
           0,
           0,
           1,
           0,
           1,
           1,
           0,
           1,
           1,
           0
          ],
          [
           1,
           0,
           1,
           0,
           0,
           1,
           0,
           1,
           1,
           0,
           1,
           1,
           0
          ],
          [
           1,
           0,
           1,
           0,
           0,
           1,
           0,
           1,
           1,
           0,
           1,
           1,
           0
          ],
          [
           1,
           0,
           1,
           0,
           0,
           1,
           0,
           1,
           1,
           0,
           1,
           1,
           0
          ],
          [
           1,
           0,
           1,
           0,
           0,
           1,
           0,
           1,
           1,
           0,
           1,
           1,
           0
          ],
          [
           1,
           0,
           1,
           0,
           0,
           1,
           0,
           1,
           1,
           0,
           1,
           1,
           0
          ],
          [
           1,
           0,
           1,
           0,
           0,
           1,
           0,
           1,
           1,
           0,
           1,
           1,
           0
          ],
          [
           1,
           0,
           1,
           0,
           0,
           1,
           0,
           1,
           1,
           0,
           1,
           1,
           0
          ],
          [
           1,
           0,
           1,
           0,
           0,
           1,
           0,
           1,
           1,
           0,
           1,
           1,
           0
          ],
          [
           1,
           0,
           1,
           0,
           0,
           1,
           0,
           1,
           1,
           0,
           1,
           1,
           0
          ],
          [
           1,
           0,
           1,
           0,
           0,
           1,
           0,
           1,
           1,
           0,
           1,
           1,
           0
          ],
          [
           1,
           0,
           1,
           0,
           0,
           1,
           0,
           1,
           1,
           0,
           1,
           1,
           0
          ],
          [
           1,
           0,
           1,
           0,
           0,
           1,
           0,
           1,
           1,
           0,
           1,
           1,
           0
          ],
          [
           1,
           0,
           1,
           0,
           0,
           1,
           0,
           1,
           1,
           0,
           1,
           1,
           0
          ],
          [
           1,
           0,
           1,
           0,
           0,
           1,
           0,
           1,
           1,
           0,
           1,
           1,
           0
          ],
          [
           1,
           0,
           1,
           0,
           0,
           1,
           0,
           1,
           1,
           0,
           1,
           1,
           0
          ],
          [
           1,
           0,
           1,
           0,
           0,
           1,
           0,
           1,
           1,
           0,
           1,
           1,
           0
          ],
          [
           1,
           0,
           1,
           0,
           0,
           1,
           0,
           1,
           1,
           0,
           1,
           1,
           0
          ]
         ]
        }
       ],
       "layout": {
        "template": {
         "data": {
          "bar": [
           {
            "error_x": {
             "color": "#2a3f5f"
            },
            "error_y": {
             "color": "#2a3f5f"
            },
            "marker": {
             "line": {
              "color": "#E5ECF6",
              "width": 0.5
             }
            },
            "type": "bar"
           }
          ],
          "barpolar": [
           {
            "marker": {
             "line": {
              "color": "#E5ECF6",
              "width": 0.5
             }
            },
            "type": "barpolar"
           }
          ],
          "carpet": [
           {
            "aaxis": {
             "endlinecolor": "#2a3f5f",
             "gridcolor": "white",
             "linecolor": "white",
             "minorgridcolor": "white",
             "startlinecolor": "#2a3f5f"
            },
            "baxis": {
             "endlinecolor": "#2a3f5f",
             "gridcolor": "white",
             "linecolor": "white",
             "minorgridcolor": "white",
             "startlinecolor": "#2a3f5f"
            },
            "type": "carpet"
           }
          ],
          "choropleth": [
           {
            "colorbar": {
             "outlinewidth": 0,
             "ticks": ""
            },
            "type": "choropleth"
           }
          ],
          "contour": [
           {
            "colorbar": {
             "outlinewidth": 0,
             "ticks": ""
            },
            "colorscale": [
             [
              0.0,
              "#0d0887"
             ],
             [
              0.1111111111111111,
              "#46039f"
             ],
             [
              0.2222222222222222,
              "#7201a8"
             ],
             [
              0.3333333333333333,
              "#9c179e"
             ],
             [
              0.4444444444444444,
              "#bd3786"
             ],
             [
              0.5555555555555556,
              "#d8576b"
             ],
             [
              0.6666666666666666,
              "#ed7953"
             ],
             [
              0.7777777777777778,
              "#fb9f3a"
             ],
             [
              0.8888888888888888,
              "#fdca26"
             ],
             [
              1.0,
              "#f0f921"
             ]
            ],
            "type": "contour"
           }
          ],
          "contourcarpet": [
           {
            "colorbar": {
             "outlinewidth": 0,
             "ticks": ""
            },
            "type": "contourcarpet"
           }
          ],
          "heatmap": [
           {
            "colorbar": {
             "outlinewidth": 0,
             "ticks": ""
            },
            "colorscale": [
             [
              0.0,
              "#0d0887"
             ],
             [
              0.1111111111111111,
              "#46039f"
             ],
             [
              0.2222222222222222,
              "#7201a8"
             ],
             [
              0.3333333333333333,
              "#9c179e"
             ],
             [
              0.4444444444444444,
              "#bd3786"
             ],
             [
              0.5555555555555556,
              "#d8576b"
             ],
             [
              0.6666666666666666,
              "#ed7953"
             ],
             [
              0.7777777777777778,
              "#fb9f3a"
             ],
             [
              0.8888888888888888,
              "#fdca26"
             ],
             [
              1.0,
              "#f0f921"
             ]
            ],
            "type": "heatmap"
           }
          ],
          "heatmapgl": [
           {
            "colorbar": {
             "outlinewidth": 0,
             "ticks": ""
            },
            "colorscale": [
             [
              0.0,
              "#0d0887"
             ],
             [
              0.1111111111111111,
              "#46039f"
             ],
             [
              0.2222222222222222,
              "#7201a8"
             ],
             [
              0.3333333333333333,
              "#9c179e"
             ],
             [
              0.4444444444444444,
              "#bd3786"
             ],
             [
              0.5555555555555556,
              "#d8576b"
             ],
             [
              0.6666666666666666,
              "#ed7953"
             ],
             [
              0.7777777777777778,
              "#fb9f3a"
             ],
             [
              0.8888888888888888,
              "#fdca26"
             ],
             [
              1.0,
              "#f0f921"
             ]
            ],
            "type": "heatmapgl"
           }
          ],
          "histogram": [
           {
            "marker": {
             "colorbar": {
              "outlinewidth": 0,
              "ticks": ""
             }
            },
            "type": "histogram"
           }
          ],
          "histogram2d": [
           {
            "colorbar": {
             "outlinewidth": 0,
             "ticks": ""
            },
            "colorscale": [
             [
              0.0,
              "#0d0887"
             ],
             [
              0.1111111111111111,
              "#46039f"
             ],
             [
              0.2222222222222222,
              "#7201a8"
             ],
             [
              0.3333333333333333,
              "#9c179e"
             ],
             [
              0.4444444444444444,
              "#bd3786"
             ],
             [
              0.5555555555555556,
              "#d8576b"
             ],
             [
              0.6666666666666666,
              "#ed7953"
             ],
             [
              0.7777777777777778,
              "#fb9f3a"
             ],
             [
              0.8888888888888888,
              "#fdca26"
             ],
             [
              1.0,
              "#f0f921"
             ]
            ],
            "type": "histogram2d"
           }
          ],
          "histogram2dcontour": [
           {
            "colorbar": {
             "outlinewidth": 0,
             "ticks": ""
            },
            "colorscale": [
             [
              0.0,
              "#0d0887"
             ],
             [
              0.1111111111111111,
              "#46039f"
             ],
             [
              0.2222222222222222,
              "#7201a8"
             ],
             [
              0.3333333333333333,
              "#9c179e"
             ],
             [
              0.4444444444444444,
              "#bd3786"
             ],
             [
              0.5555555555555556,
              "#d8576b"
             ],
             [
              0.6666666666666666,
              "#ed7953"
             ],
             [
              0.7777777777777778,
              "#fb9f3a"
             ],
             [
              0.8888888888888888,
              "#fdca26"
             ],
             [
              1.0,
              "#f0f921"
             ]
            ],
            "type": "histogram2dcontour"
           }
          ],
          "mesh3d": [
           {
            "colorbar": {
             "outlinewidth": 0,
             "ticks": ""
            },
            "type": "mesh3d"
           }
          ],
          "parcoords": [
           {
            "line": {
             "colorbar": {
              "outlinewidth": 0,
              "ticks": ""
             }
            },
            "type": "parcoords"
           }
          ],
          "pie": [
           {
            "automargin": true,
            "type": "pie"
           }
          ],
          "scatter": [
           {
            "marker": {
             "colorbar": {
              "outlinewidth": 0,
              "ticks": ""
             }
            },
            "type": "scatter"
           }
          ],
          "scatter3d": [
           {
            "line": {
             "colorbar": {
              "outlinewidth": 0,
              "ticks": ""
             }
            },
            "marker": {
             "colorbar": {
              "outlinewidth": 0,
              "ticks": ""
             }
            },
            "type": "scatter3d"
           }
          ],
          "scattercarpet": [
           {
            "marker": {
             "colorbar": {
              "outlinewidth": 0,
              "ticks": ""
             }
            },
            "type": "scattercarpet"
           }
          ],
          "scattergeo": [
           {
            "marker": {
             "colorbar": {
              "outlinewidth": 0,
              "ticks": ""
             }
            },
            "type": "scattergeo"
           }
          ],
          "scattergl": [
           {
            "marker": {
             "colorbar": {
              "outlinewidth": 0,
              "ticks": ""
             }
            },
            "type": "scattergl"
           }
          ],
          "scattermapbox": [
           {
            "marker": {
             "colorbar": {
              "outlinewidth": 0,
              "ticks": ""
             }
            },
            "type": "scattermapbox"
           }
          ],
          "scatterpolar": [
           {
            "marker": {
             "colorbar": {
              "outlinewidth": 0,
              "ticks": ""
             }
            },
            "type": "scatterpolar"
           }
          ],
          "scatterpolargl": [
           {
            "marker": {
             "colorbar": {
              "outlinewidth": 0,
              "ticks": ""
             }
            },
            "type": "scatterpolargl"
           }
          ],
          "scatterternary": [
           {
            "marker": {
             "colorbar": {
              "outlinewidth": 0,
              "ticks": ""
             }
            },
            "type": "scatterternary"
           }
          ],
          "surface": [
           {
            "colorbar": {
             "outlinewidth": 0,
             "ticks": ""
            },
            "colorscale": [
             [
              0.0,
              "#0d0887"
             ],
             [
              0.1111111111111111,
              "#46039f"
             ],
             [
              0.2222222222222222,
              "#7201a8"
             ],
             [
              0.3333333333333333,
              "#9c179e"
             ],
             [
              0.4444444444444444,
              "#bd3786"
             ],
             [
              0.5555555555555556,
              "#d8576b"
             ],
             [
              0.6666666666666666,
              "#ed7953"
             ],
             [
              0.7777777777777778,
              "#fb9f3a"
             ],
             [
              0.8888888888888888,
              "#fdca26"
             ],
             [
              1.0,
              "#f0f921"
             ]
            ],
            "type": "surface"
           }
          ],
          "table": [
           {
            "cells": {
             "fill": {
              "color": "#EBF0F8"
             },
             "line": {
              "color": "white"
             }
            },
            "header": {
             "fill": {
              "color": "#C8D4E3"
             },
             "line": {
              "color": "white"
             }
            },
            "type": "table"
           }
          ]
         },
         "layout": {
          "annotationdefaults": {
           "arrowcolor": "#2a3f5f",
           "arrowhead": 0,
           "arrowwidth": 1
          },
          "coloraxis": {
           "colorbar": {
            "outlinewidth": 0,
            "ticks": ""
           }
          },
          "colorscale": {
           "diverging": [
            [
             0,
             "#8e0152"
            ],
            [
             0.1,
             "#c51b7d"
            ],
            [
             0.2,
             "#de77ae"
            ],
            [
             0.3,
             "#f1b6da"
            ],
            [
             0.4,
             "#fde0ef"
            ],
            [
             0.5,
             "#f7f7f7"
            ],
            [
             0.6,
             "#e6f5d0"
            ],
            [
             0.7,
             "#b8e186"
            ],
            [
             0.8,
             "#7fbc41"
            ],
            [
             0.9,
             "#4d9221"
            ],
            [
             1,
             "#276419"
            ]
           ],
           "sequential": [
            [
             0.0,
             "#0d0887"
            ],
            [
             0.1111111111111111,
             "#46039f"
            ],
            [
             0.2222222222222222,
             "#7201a8"
            ],
            [
             0.3333333333333333,
             "#9c179e"
            ],
            [
             0.4444444444444444,
             "#bd3786"
            ],
            [
             0.5555555555555556,
             "#d8576b"
            ],
            [
             0.6666666666666666,
             "#ed7953"
            ],
            [
             0.7777777777777778,
             "#fb9f3a"
            ],
            [
             0.8888888888888888,
             "#fdca26"
            ],
            [
             1.0,
             "#f0f921"
            ]
           ],
           "sequentialminus": [
            [
             0.0,
             "#0d0887"
            ],
            [
             0.1111111111111111,
             "#46039f"
            ],
            [
             0.2222222222222222,
             "#7201a8"
            ],
            [
             0.3333333333333333,
             "#9c179e"
            ],
            [
             0.4444444444444444,
             "#bd3786"
            ],
            [
             0.5555555555555556,
             "#d8576b"
            ],
            [
             0.6666666666666666,
             "#ed7953"
            ],
            [
             0.7777777777777778,
             "#fb9f3a"
            ],
            [
             0.8888888888888888,
             "#fdca26"
            ],
            [
             1.0,
             "#f0f921"
            ]
           ]
          },
          "colorway": [
           "#636efa",
           "#EF553B",
           "#00cc96",
           "#ab63fa",
           "#FFA15A",
           "#19d3f3",
           "#FF6692",
           "#B6E880",
           "#FF97FF",
           "#FECB52"
          ],
          "font": {
           "color": "#2a3f5f"
          },
          "geo": {
           "bgcolor": "white",
           "lakecolor": "white",
           "landcolor": "#E5ECF6",
           "showlakes": true,
           "showland": true,
           "subunitcolor": "white"
          },
          "hoverlabel": {
           "align": "left"
          },
          "hovermode": "closest",
          "mapbox": {
           "style": "light"
          },
          "paper_bgcolor": "white",
          "plot_bgcolor": "#E5ECF6",
          "polar": {
           "angularaxis": {
            "gridcolor": "white",
            "linecolor": "white",
            "ticks": ""
           },
           "bgcolor": "#E5ECF6",
           "radialaxis": {
            "gridcolor": "white",
            "linecolor": "white",
            "ticks": ""
           }
          },
          "scene": {
           "xaxis": {
            "backgroundcolor": "#E5ECF6",
            "gridcolor": "white",
            "gridwidth": 2,
            "linecolor": "white",
            "showbackground": true,
            "ticks": "",
            "zerolinecolor": "white"
           },
           "yaxis": {
            "backgroundcolor": "#E5ECF6",
            "gridcolor": "white",
            "gridwidth": 2,
            "linecolor": "white",
            "showbackground": true,
            "ticks": "",
            "zerolinecolor": "white"
           },
           "zaxis": {
            "backgroundcolor": "#E5ECF6",
            "gridcolor": "white",
            "gridwidth": 2,
            "linecolor": "white",
            "showbackground": true,
            "ticks": "",
            "zerolinecolor": "white"
           }
          },
          "shapedefaults": {
           "line": {
            "color": "#2a3f5f"
           }
          },
          "ternary": {
           "aaxis": {
            "gridcolor": "white",
            "linecolor": "white",
            "ticks": ""
           },
           "baxis": {
            "gridcolor": "white",
            "linecolor": "white",
            "ticks": ""
           },
           "bgcolor": "#E5ECF6",
           "caxis": {
            "gridcolor": "white",
            "linecolor": "white",
            "ticks": ""
           }
          },
          "title": {
           "x": 0.05
          },
          "xaxis": {
           "automargin": true,
           "gridcolor": "white",
           "linecolor": "white",
           "ticks": "",
           "title": {
            "standoff": 15
           },
           "zerolinecolor": "white",
           "zerolinewidth": 2
          },
          "yaxis": {
           "automargin": true,
           "gridcolor": "white",
           "linecolor": "white",
           "ticks": "",
           "title": {
            "standoff": 15
           },
           "zerolinecolor": "white",
           "zerolinewidth": 2
          }
         }
        },
        "title": {
         "text": "Missing values Matrix",
         "x": 0.5,
         "xanchor": "center",
         "y": 0.95,
         "yanchor": "top"
        },
        "xaxis": {
         "tickangle": 45,
         "title": {
          "text": "Columns"
         }
        },
        "yaxis": {
         "range": [
          1005,
          0
         ],
         "title": {
          "text": "Row Index"
         }
        }
       }
      },
      "text/html": [
       "<div>\n",
       "        \n",
       "        \n",
       "            <div id=\"a13b1305-eb44-426d-a79d-f5ef716716a4\" class=\"plotly-graph-div\" style=\"height:525px; width:100%;\"></div>\n",
       "            <script type=\"text/javascript\">\n",
       "                require([\"plotly\"], function(Plotly) {\n",
       "                    window.PLOTLYENV=window.PLOTLYENV || {};\n",
       "                    \n",
       "                if (document.getElementById(\"a13b1305-eb44-426d-a79d-f5ef716716a4\")) {\n",
       "                    Plotly.newPlot(\n",
       "                        'a13b1305-eb44-426d-a79d-f5ef716716a4',\n",
       "                        [{\"colorscale\": [[0.0, \"rgb(255,255,255)\"], [0.125, \"rgb(240,240,240)\"], [0.25, \"rgb(217,217,217)\"], [0.375, \"rgb(189,189,189)\"], [0.5, \"rgb(150,150,150)\"], [0.625, \"rgb(115,115,115)\"], [0.75, \"rgb(82,82,82)\"], [0.875, \"rgb(37,37,37)\"], [1.0, \"rgb(0,0,0)\"]], \"reversescale\": true, \"showscale\": false, \"type\": \"heatmap\", \"x\": [\"date\", \"position\", \"city\", \"state\", \"endorser\", \"endorsee\", \"party\", \"source\", \"order\", \"category\", \"body\", \"district\", \"points\"], \"y\": [0, 1, 2, 3, 4, 5, 6, 7, 8, 9, 10, 11, 12, 13, 14, 15, 16, 17, 18, 19, 20, 21, 22, 23, 24, 25, 26, 27, 28, 29, 30, 31, 32, 33, 34, 35, 36, 37, 38, 39, 40, 41, 42, 43, 44, 45, 46, 47, 48, 49, 50, 51, 52, 53, 54, 55, 56, 57, 58, 59, 60, 61, 62, 63, 64, 65, 66, 67, 68, 69, 70, 71, 72, 73, 74, 75, 76, 77, 78, 79, 80, 81, 82, 83, 84, 85, 86, 87, 88, 89, 90, 91, 92, 93, 94, 95, 96, 97, 98, 99, 100, 101, 102, 103, 104, 105, 106, 107, 108, 109, 110, 111, 112, 113, 114, 115, 116, 117, 118, 119, 120, 121, 122, 123, 124, 125, 126, 127, 128, 129, 130, 131, 132, 133, 134, 135, 136, 137, 138, 139, 140, 141, 142, 143, 144, 145, 146, 147, 148, 149, 150, 151, 152, 153, 154, 155, 156, 157, 158, 159, 160, 161, 162, 163, 164, 165, 166, 167, 168, 169, 170, 171, 172, 173, 174, 175, 176, 177, 178, 179, 180, 181, 182, 183, 184, 185, 186, 187, 188, 189, 190, 191, 192, 193, 194, 195, 196, 197, 198, 199, 200, 201, 202, 203, 204, 205, 206, 207, 208, 209, 210, 211, 212, 213, 214, 215, 216, 217, 218, 219, 220, 221, 222, 223, 224, 225, 226, 227, 228, 229, 230, 231, 232, 233, 234, 235, 236, 237, 238, 239, 240, 241, 242, 243, 244, 245, 246, 247, 248, 249, 250, 251, 252, 253, 254, 255, 256, 257, 258, 259, 260, 261, 262, 263, 264, 265, 266, 267, 268, 269, 270, 271, 272, 273, 274, 275, 276, 277, 278, 279, 280, 281, 282, 283, 284, 285, 286, 287, 288, 289, 290, 291, 292, 293, 294, 295, 296, 297, 298, 299, 300, 301, 302, 303, 304, 305, 306, 307, 308, 309, 310, 311, 312, 313, 314, 315, 316, 317, 318, 319, 320, 321, 322, 323, 324, 325, 326, 327, 328, 329, 330, 331, 332, 333, 334, 335, 336, 337, 338, 339, 340, 341, 342, 343, 344, 345, 346, 347, 348, 349, 350, 351, 352, 353, 354, 355, 356, 357, 358, 359, 360, 361, 362, 363, 364, 365, 366, 367, 368, 369, 370, 371, 372, 373, 374, 375, 376, 377, 378, 379, 380, 381, 382, 383, 384, 385, 386, 387, 388, 389, 390, 391, 392, 393, 394, 395, 396, 397, 398, 399, 400, 401, 402, 403, 404, 405, 406, 407, 408, 409, 410, 411, 412, 413, 414, 415, 416, 417, 418, 419, 420, 421, 422, 423, 424, 425, 426, 427, 428, 429, 430, 431, 432, 433, 434, 435, 436, 437, 438, 439, 440, 441, 442, 443, 444, 445, 446, 447, 448, 449, 450, 451, 452, 453, 454, 455, 456, 457, 458, 459, 460, 461, 462, 463, 464, 465, 466, 467, 468, 469, 470, 471, 472, 473, 474, 475, 476, 477, 478, 479, 480, 481, 482, 483, 484, 485, 486, 487, 488, 489, 490, 491, 492, 493, 494, 495, 496, 497, 498, 499, 500, 501, 502, 503, 504, 505, 506, 507, 508, 509, 510, 511, 512, 513, 514, 515, 516, 517, 518, 519, 520, 521, 522, 523, 524, 525, 526, 527, 528, 529, 530, 531, 532, 533, 534, 535, 536, 537, 538, 539, 540, 541, 542, 543, 544, 545, 546, 547, 548, 549, 550, 551, 552, 553, 554, 555, 556, 557, 558, 559, 560, 561, 562, 563, 564, 565, 566, 567, 568, 569, 570, 571, 572, 573, 574, 575, 576, 577, 578, 579, 580, 581, 582, 583, 584, 585, 586, 587, 588, 589, 590, 591, 592, 593, 594, 595, 596, 597, 598, 599, 600, 601, 602, 603, 604, 605, 606, 607, 608, 609, 610, 611, 612, 613, 614, 615, 616, 617, 618, 619, 620, 621, 622, 623, 624, 625, 626, 627, 628, 629, 630, 631, 632, 633, 634, 635, 636, 637, 638, 639, 640, 641, 642, 643, 644, 645, 646, 647, 648, 649, 650, 651, 652, 653, 654, 655, 656, 657, 658, 659, 660, 661, 662, 663, 664, 665, 666, 667, 668, 669, 670, 671, 672, 673, 674, 675, 676, 677, 678, 679, 680, 681, 682, 683, 684, 685, 686, 687, 688, 689, 690, 691, 692, 693, 694, 695, 696, 697, 698, 699, 700, 701, 702, 703, 704, 705, 706, 707, 708, 709, 710, 711, 712, 713, 714, 715, 716, 717, 718, 719, 720, 721, 722, 723, 724, 725, 726, 727, 728, 729, 730, 731, 732, 733, 734, 735, 736, 737, 738, 739, 740, 741, 742, 743, 744, 745, 746, 747, 748, 749, 750, 751, 752, 753, 754, 755, 756, 757, 758, 759, 760, 761, 762, 763, 764, 765, 766, 767, 768, 769, 770, 771, 772, 773, 774, 775, 776, 777, 778, 779, 780, 781, 782, 783, 784, 785, 786, 787, 788, 789, 790, 791, 792, 793, 794, 795, 796, 797, 798, 799, 800, 801, 802, 803, 804, 805, 806, 807, 808, 809, 810, 811, 812, 813, 814, 815, 816, 817, 818, 819, 820, 821, 822, 823, 824, 825, 826, 827, 828, 829, 830, 831, 832, 833, 834, 835, 836, 837, 838, 839, 840, 841, 842, 843, 844, 845, 846, 847, 848, 849, 850, 851, 852, 853, 854, 855, 856, 857, 858, 859, 860, 861, 862, 863, 864, 865, 866, 867, 868, 869, 870, 871, 872, 873, 874, 875, 876, 877, 878, 879, 880, 881, 882, 883, 884, 885, 886, 887, 888, 889, 890, 891, 892, 893, 894, 895, 896, 897, 898, 899, 900, 901, 902, 903, 904, 905, 906, 907, 908, 909, 910, 911, 912, 913, 914, 915, 916, 917, 918, 919, 920, 921, 922, 923, 924, 925, 926, 927, 928, 929, 930, 931, 932, 933, 934, 935, 936, 937, 938, 939, 940, 941, 942, 943, 944, 945, 946, 947, 948, 949, 950, 951, 952, 953, 954, 955, 956, 957, 958, 959, 960, 961, 962, 963, 964, 965, 966, 967, 968, 969, 970, 971, 972, 973, 974, 975, 976, 977, 978, 979, 980, 981, 982, 983, 984, 985, 986, 987, 988, 989, 990, 991, 992, 993, 994, 995, 996, 997, 998, 999, 1000, 1001, 1002, 1003, 1004, 1005], \"z\": [[0, 0, 1, 0, 0, 0, 0, 0, 1, 0, 1, 0, 0], [0, 0, 1, 0, 0, 0, 0, 0, 1, 0, 1, 1, 0], [0, 0, 1, 0, 0, 0, 0, 0, 1, 0, 1, 1, 0], [0, 0, 1, 0, 0, 0, 0, 0, 1, 0, 1, 1, 0], [0, 0, 0, 0, 0, 0, 1, 0, 0, 0, 1, 1, 0], [0, 0, 1, 0, 0, 0, 0, 0, 1, 0, 1, 1, 0], [0, 0, 1, 0, 0, 0, 0, 0, 1, 0, 1, 1, 0], [0, 0, 1, 0, 0, 0, 0, 0, 0, 0, 1, 1, 0], [0, 0, 0, 0, 0, 0, 0, 0, 0, 0, 1, 1, 0], [0, 0, 1, 0, 0, 0, 0, 0, 1, 0, 1, 0, 0], [0, 0, 1, 0, 0, 0, 0, 0, 1, 0, 1, 0, 0], [0, 0, 1, 0, 0, 0, 0, 0, 1, 0, 1, 1, 0], [0, 0, 1, 0, 0, 0, 0, 0, 1, 0, 1, 1, 0], [0, 0, 1, 0, 0, 0, 0, 0, 1, 0, 1, 1, 0], [0, 0, 1, 0, 0, 0, 0, 0, 1, 0, 1, 1, 0], [0, 0, 1, 0, 0, 0, 0, 0, 1, 0, 0, 1, 0], [0, 0, 1, 0, 0, 0, 0, 0, 1, 0, 1, 0, 0], [0, 0, 1, 0, 0, 0, 0, 0, 1, 0, 0, 1, 0], [0, 0, 1, 0, 0, 0, 0, 0, 1, 0, 1, 0, 0], [0, 0, 1, 0, 0, 0, 0, 0, 1, 0, 1, 0, 0], [0, 0, 1, 0, 0, 0, 0, 0, 1, 0, 1, 1, 0], [0, 0, 1, 0, 0, 0, 0, 0, 0, 0, 1, 1, 0], [0, 0, 1, 0, 0, 0, 0, 0, 0, 0, 1, 1, 0], [0, 0, 1, 0, 0, 0, 0, 0, 1, 0, 0, 1, 0], [0, 0, 1, 0, 0, 0, 0, 0, 1, 0, 1, 0, 0], [0, 0, 1, 0, 0, 0, 0, 0, 1, 0, 1, 0, 0], [0, 0, 0, 0, 0, 0, 0, 0, 0, 0, 1, 1, 0], [0, 0, 1, 0, 0, 0, 0, 0, 1, 0, 1, 1, 0], [0, 0, 1, 0, 0, 0, 0, 0, 1, 0, 1, 1, 0], [0, 0, 1, 0, 0, 0, 0, 0, 1, 0, 1, 0, 0], [0, 0, 1, 0, 0, 0, 0, 0, 1, 0, 1, 1, 0], [0, 0, 1, 0, 0, 0, 0, 0, 0, 0, 1, 1, 0], [0, 0, 1, 0, 0, 0, 0, 0, 1, 0, 1, 0, 0], [0, 0, 1, 0, 0, 0, 0, 0, 1, 0, 1, 1, 0], [0, 0, 1, 0, 0, 0, 0, 0, 1, 0, 1, 1, 0], [0, 0, 1, 0, 0, 0, 0, 0, 1, 0, 1, 1, 0], [0, 0, 0, 0, 0, 0, 0, 0, 0, 0, 1, 1, 0], [0, 0, 1, 0, 0, 0, 0, 0, 1, 0, 1, 1, 0], [0, 0, 1, 0, 0, 0, 0, 0, 1, 0, 1, 1, 0], [0, 0, 1, 0, 0, 0, 0, 0, 1, 0, 1, 1, 0], [0, 0, 1, 0, 0, 0, 0, 0, 0, 0, 1, 1, 0], [0, 0, 1, 0, 0, 0, 0, 0, 1, 0, 0, 1, 0], [0, 0, 1, 0, 0, 0, 0, 0, 1, 0, 0, 1, 0], [0, 0, 1, 0, 0, 0, 0, 0, 1, 0, 1, 0, 0], [0, 0, 1, 0, 0, 0, 0, 0, 1, 0, 1, 0, 0], [0, 0, 1, 0, 0, 0, 0, 0, 1, 0, 1, 0, 0], [0, 0, 1, 0, 0, 0, 0, 0, 1, 0, 1, 0, 0], [0, 0, 1, 0, 0, 0, 0, 0, 1, 0, 1, 0, 0], [0, 0, 1, 0, 0, 0, 0, 0, 1, 0, 1, 0, 0], [0, 0, 1, 0, 0, 0, 0, 0, 1, 0, 1, 0, 0], [0, 0, 1, 0, 0, 0, 0, 0, 1, 0, 1, 0, 0], [0, 0, 1, 0, 0, 0, 0, 0, 1, 0, 1, 0, 0], [0, 0, 1, 0, 0, 0, 0, 0, 1, 0, 1, 0, 0], [0, 0, 1, 0, 0, 0, 0, 0, 0, 0, 1, 1, 0], [0, 0, 1, 0, 0, 0, 0, 0, 0, 0, 1, 1, 0], [0, 0, 1, 0, 0, 0, 0, 0, 1, 0, 1, 1, 0], [0, 0, 1, 0, 0, 0, 0, 0, 1, 0, 1, 0, 0], [0, 0, 1, 0, 0, 0, 0, 0, 1, 0, 1, 0, 0], [0, 0, 1, 0, 0, 0, 0, 0, 0, 0, 1, 1, 0], [0, 0, 1, 0, 0, 0, 0, 0, 1, 0, 1, 0, 0], [0, 0, 1, 0, 0, 0, 0, 0, 0, 0, 1, 1, 0], [0, 0, 1, 0, 0, 0, 0, 0, 1, 0, 1, 0, 0], [0, 0, 1, 0, 0, 0, 0, 0, 1, 0, 1, 0, 0], [0, 0, 1, 0, 0, 0, 0, 0, 1, 0, 1, 1, 0], [0, 0, 1, 0, 0, 0, 0, 0, 1, 0, 1, 1, 0], [0, 0, 1, 0, 0, 0, 0, 0, 1, 0, 1, 1, 0], [0, 0, 1, 0, 0, 0, 0, 0, 1, 0, 1, 1, 0], [0, 0, 1, 0, 0, 0, 0, 0, 1, 0, 1, 1, 0], [0, 0, 0, 0, 0, 0, 0, 0, 0, 0, 1, 1, 0], [0, 0, 1, 0, 0, 0, 0, 0, 1, 0, 1, 1, 0], [0, 0, 1, 0, 0, 0, 0, 0, 1, 0, 1, 1, 0], [0, 0, 1, 0, 0, 0, 0, 0, 1, 0, 1, 0, 0], [0, 0, 1, 0, 0, 0, 0, 0, 1, 0, 1, 1, 0], [0, 0, 1, 0, 0, 0, 0, 0, 1, 0, 1, 0, 0], [0, 0, 1, 0, 0, 0, 0, 0, 1, 0, 1, 0, 0], [0, 0, 1, 0, 0, 0, 0, 0, 1, 0, 1, 1, 0], [0, 0, 1, 0, 0, 0, 0, 0, 1, 0, 1, 1, 0], [0, 0, 1, 0, 0, 0, 0, 0, 0, 0, 1, 1, 0], [0, 0, 1, 0, 0, 0, 0, 0, 1, 0, 1, 0, 0], [0, 0, 1, 0, 0, 0, 0, 0, 1, 0, 1, 0, 0], [0, 0, 1, 0, 0, 0, 0, 0, 1, 0, 1, 0, 0], [0, 0, 1, 0, 0, 0, 0, 0, 1, 0, 1, 0, 0], [0, 0, 1, 0, 0, 0, 0, 0, 1, 0, 1, 0, 0], [0, 0, 1, 0, 0, 0, 0, 0, 1, 0, 1, 1, 0], [0, 0, 1, 0, 0, 0, 0, 0, 1, 0, 1, 1, 0], [0, 0, 1, 0, 0, 0, 0, 0, 1, 0, 1, 1, 0], [0, 0, 1, 0, 0, 0, 0, 0, 0, 0, 1, 1, 0], [0, 0, 1, 0, 0, 0, 0, 0, 1, 0, 1, 0, 0], [0, 0, 1, 0, 0, 0, 0, 0, 0, 0, 1, 1, 0], [0, 0, 1, 0, 0, 0, 0, 0, 1, 0, 1, 0, 0], [0, 0, 1, 0, 0, 0, 0, 0, 1, 0, 1, 1, 0], [0, 0, 1, 0, 0, 0, 0, 0, 1, 0, 1, 0, 0], [0, 0, 1, 0, 0, 0, 0, 0, 1, 0, 0, 1, 0], [0, 0, 1, 0, 0, 0, 0, 0, 1, 0, 1, 0, 0], [0, 0, 1, 0, 0, 0, 0, 0, 1, 0, 1, 1, 0], [0, 0, 1, 0, 0, 0, 0, 0, 1, 0, 1, 1, 0], [0, 0, 1, 0, 0, 0, 0, 0, 1, 0, 1, 0, 0], [0, 0, 1, 0, 0, 0, 0, 0, 1, 0, 1, 0, 0], [0, 0, 1, 0, 0, 0, 0, 0, 1, 0, 1, 0, 0], [0, 0, 1, 0, 0, 0, 0, 0, 1, 0, 1, 0, 0], [0, 0, 1, 0, 0, 0, 0, 0, 1, 0, 1, 1, 0], [0, 0, 1, 0, 0, 0, 0, 0, 1, 0, 1, 1, 0], [0, 0, 1, 0, 0, 0, 0, 0, 0, 0, 1, 1, 0], [0, 0, 1, 0, 0, 0, 0, 0, 1, 0, 1, 0, 0], [0, 0, 0, 0, 0, 0, 0, 0, 0, 0, 1, 1, 0], [0, 0, 1, 0, 0, 0, 0, 0, 1, 0, 1, 1, 0], [0, 0, 1, 0, 0, 0, 0, 0, 1, 0, 1, 0, 0], [0, 0, 1, 0, 0, 0, 0, 0, 1, 0, 0, 1, 0], [0, 0, 1, 0, 0, 0, 0, 0, 1, 0, 0, 1, 0], [0, 0, 1, 0, 0, 0, 0, 0, 1, 0, 1, 1, 0], [0, 0, 1, 0, 0, 0, 0, 0, 1, 0, 1, 1, 0], [0, 0, 1, 0, 0, 0, 0, 0, 1, 0, 1, 0, 0], [0, 0, 0, 0, 0, 0, 0, 0, 0, 0, 1, 1, 0], [0, 0, 1, 0, 0, 0, 0, 0, 1, 0, 1, 1, 0], [0, 0, 1, 0, 0, 0, 0, 0, 0, 0, 1, 1, 0], [0, 0, 1, 0, 0, 0, 0, 0, 0, 0, 1, 1, 0], [0, 0, 1, 0, 0, 0, 0, 0, 0, 0, 1, 1, 0], [0, 0, 1, 0, 0, 0, 0, 0, 1, 0, 0, 1, 0], [0, 0, 1, 0, 0, 0, 0, 0, 1, 0, 1, 1, 0], [0, 0, 1, 0, 0, 0, 0, 0, 1, 0, 1, 0, 0], [0, 0, 1, 0, 0, 0, 0, 0, 1, 0, 1, 0, 0], [0, 0, 1, 0, 0, 0, 0, 0, 1, 0, 1, 0, 0], [0, 0, 1, 0, 0, 0, 0, 0, 1, 0, 1, 0, 0], [0, 0, 1, 0, 0, 0, 0, 0, 1, 0, 1, 0, 0], [0, 0, 1, 0, 0, 0, 0, 0, 1, 0, 0, 1, 0], [0, 0, 1, 0, 0, 0, 0, 0, 0, 0, 1, 1, 0], [0, 0, 1, 0, 0, 0, 0, 0, 1, 0, 1, 0, 0], [0, 0, 1, 0, 0, 0, 0, 0, 1, 0, 1, 0, 0], [0, 0, 1, 0, 0, 0, 0, 0, 1, 0, 1, 1, 0], [0, 0, 1, 0, 0, 0, 0, 0, 1, 0, 0, 1, 0], [0, 0, 1, 0, 0, 0, 0, 0, 1, 0, 1, 0, 0], [0, 0, 1, 0, 0, 0, 0, 0, 1, 0, 1, 1, 0], [0, 0, 1, 0, 0, 0, 0, 0, 0, 0, 1, 1, 0], [0, 0, 1, 0, 0, 0, 0, 0, 1, 0, 0, 1, 0], [0, 0, 1, 0, 0, 0, 0, 0, 1, 0, 1, 0, 0], [0, 0, 1, 0, 0, 0, 0, 0, 1, 0, 1, 0, 0], [0, 0, 1, 0, 0, 0, 0, 0, 0, 0, 1, 1, 0], [0, 0, 0, 0, 0, 0, 0, 0, 0, 0, 1, 1, 0], [0, 0, 1, 0, 0, 0, 0, 0, 1, 0, 1, 0, 0], [0, 0, 1, 0, 0, 0, 0, 0, 1, 0, 1, 0, 0], [0, 0, 1, 0, 0, 0, 0, 0, 1, 0, 1, 0, 0], [0, 0, 1, 0, 0, 0, 0, 0, 1, 0, 1, 1, 0], [0, 0, 1, 0, 0, 0, 0, 0, 1, 0, 0, 1, 0], [0, 0, 1, 0, 0, 0, 0, 0, 1, 0, 1, 0, 0], [0, 0, 1, 0, 0, 0, 0, 0, 1, 0, 1, 0, 0], [0, 0, 1, 0, 0, 0, 0, 0, 1, 0, 1, 1, 0], [0, 0, 1, 0, 0, 0, 0, 0, 1, 0, 1, 0, 0], [0, 0, 1, 0, 0, 0, 0, 0, 1, 0, 1, 1, 0], [0, 0, 1, 0, 0, 0, 0, 0, 1, 0, 1, 1, 0], [0, 0, 0, 0, 0, 0, 0, 0, 0, 0, 1, 1, 0], [0, 0, 1, 0, 0, 0, 0, 0, 1, 0, 1, 0, 0], [0, 0, 1, 0, 0, 0, 0, 0, 1, 0, 1, 0, 0], [0, 0, 1, 0, 0, 0, 0, 0, 1, 0, 1, 1, 0], [0, 0, 1, 0, 0, 0, 0, 0, 1, 0, 1, 0, 0], [0, 0, 1, 0, 0, 0, 0, 0, 1, 0, 1, 0, 0], [0, 0, 1, 0, 0, 0, 0, 0, 1, 0, 1, 1, 0], [0, 0, 1, 0, 0, 0, 0, 0, 1, 0, 1, 0, 0], [0, 0, 1, 0, 0, 0, 0, 0, 1, 0, 1, 1, 0], [0, 0, 1, 0, 0, 0, 0, 0, 1, 0, 1, 1, 0], [0, 0, 1, 0, 0, 0, 0, 0, 1, 0, 1, 0, 0], [0, 0, 1, 0, 0, 0, 0, 0, 1, 0, 1, 0, 0], [0, 0, 0, 0, 0, 0, 0, 0, 0, 0, 1, 1, 0], [0, 0, 1, 0, 0, 0, 0, 0, 1, 0, 1, 0, 0], [0, 0, 1, 0, 0, 0, 0, 0, 1, 0, 1, 0, 0], [0, 0, 1, 0, 0, 0, 0, 0, 1, 0, 1, 1, 0], [0, 0, 1, 0, 0, 0, 0, 0, 1, 0, 0, 1, 0], [0, 0, 1, 0, 0, 0, 0, 0, 1, 0, 1, 0, 0], [0, 0, 1, 0, 0, 0, 0, 0, 1, 0, 1, 0, 0], [0, 0, 1, 0, 0, 0, 0, 0, 1, 0, 1, 0, 0], [0, 0, 1, 0, 0, 0, 0, 0, 1, 0, 1, 0, 0], [0, 0, 1, 0, 0, 0, 0, 0, 1, 0, 1, 1, 0], [0, 0, 1, 0, 0, 0, 0, 0, 0, 0, 1, 1, 0], [0, 0, 1, 0, 0, 0, 0, 0, 1, 0, 1, 1, 0], [0, 0, 1, 0, 0, 0, 0, 0, 0, 0, 1, 1, 0], [0, 0, 1, 0, 0, 0, 0, 0, 0, 0, 1, 1, 0], [0, 0, 0, 0, 0, 0, 0, 0, 0, 0, 1, 1, 0], [0, 0, 0, 0, 0, 0, 0, 0, 0, 0, 1, 1, 0], [0, 0, 1, 0, 0, 0, 0, 0, 1, 0, 1, 1, 0], [0, 0, 1, 0, 0, 0, 0, 0, 0, 0, 1, 1, 0], [0, 0, 1, 0, 0, 0, 0, 0, 1, 0, 1, 0, 0], [0, 0, 0, 0, 0, 0, 0, 0, 0, 0, 1, 1, 0], [0, 0, 1, 0, 0, 0, 0, 0, 1, 0, 0, 1, 0], [0, 0, 1, 0, 0, 0, 0, 0, 1, 0, 1, 1, 0], [0, 0, 1, 0, 0, 0, 0, 0, 1, 0, 1, 1, 0], [0, 0, 1, 0, 0, 0, 0, 0, 1, 0, 1, 1, 0], [0, 0, 1, 0, 0, 0, 0, 0, 1, 0, 1, 0, 0], [0, 0, 1, 0, 0, 0, 0, 0, 1, 0, 1, 1, 0], [0, 0, 1, 0, 0, 0, 0, 0, 1, 0, 1, 0, 0], [0, 0, 1, 0, 0, 0, 0, 0, 1, 0, 1, 1, 0], [0, 0, 1, 0, 0, 0, 0, 0, 1, 0, 1, 0, 0], [0, 0, 1, 0, 0, 0, 0, 0, 1, 0, 1, 0, 0], [0, 0, 1, 0, 0, 0, 0, 0, 1, 0, 1, 0, 0], [0, 0, 1, 0, 0, 0, 0, 0, 1, 0, 1, 1, 0], [0, 0, 1, 0, 0, 0, 0, 0, 1, 0, 1, 1, 0], [0, 0, 1, 0, 0, 0, 0, 0, 1, 0, 1, 1, 0], [0, 0, 1, 0, 0, 0, 0, 0, 1, 0, 1, 1, 0], [0, 0, 1, 0, 0, 0, 0, 0, 1, 0, 1, 0, 0], [0, 0, 0, 0, 0, 0, 0, 0, 0, 0, 1, 1, 0], [0, 0, 0, 0, 0, 0, 0, 0, 0, 0, 1, 1, 0], [0, 0, 1, 0, 0, 0, 0, 0, 1, 0, 1, 1, 0], [0, 0, 0, 0, 0, 0, 0, 0, 0, 0, 1, 1, 0], [0, 0, 1, 0, 0, 0, 0, 0, 1, 0, 1, 0, 0], [0, 0, 1, 0, 0, 0, 0, 0, 0, 0, 1, 1, 0], [0, 0, 1, 0, 0, 0, 0, 0, 1, 0, 1, 0, 0], [0, 0, 1, 0, 0, 0, 0, 0, 1, 0, 1, 0, 0], [0, 0, 1, 0, 0, 0, 0, 0, 1, 0, 1, 0, 0], [0, 0, 0, 0, 0, 0, 0, 0, 0, 0, 1, 1, 0], [0, 0, 1, 0, 0, 0, 0, 0, 1, 0, 1, 0, 0], [0, 0, 1, 0, 0, 0, 0, 0, 1, 0, 1, 0, 0], [0, 0, 1, 0, 0, 0, 0, 0, 1, 0, 1, 0, 0], [0, 0, 1, 0, 0, 0, 0, 0, 1, 0, 1, 0, 0], [0, 0, 1, 0, 0, 0, 0, 0, 1, 0, 1, 0, 0], [0, 0, 1, 0, 0, 0, 0, 0, 0, 0, 1, 1, 0], [0, 0, 1, 0, 0, 0, 0, 0, 1, 0, 1, 0, 0], [0, 0, 1, 0, 0, 0, 0, 0, 1, 0, 1, 0, 0], [0, 0, 1, 0, 0, 0, 0, 0, 1, 0, 0, 1, 0], [0, 0, 1, 0, 0, 0, 0, 0, 1, 0, 1, 0, 0], [0, 0, 1, 0, 0, 0, 0, 0, 1, 0, 1, 1, 0], [0, 0, 1, 0, 0, 0, 0, 0, 1, 0, 1, 1, 0], [0, 0, 1, 0, 0, 0, 0, 0, 1, 0, 1, 1, 0], [0, 0, 1, 0, 0, 0, 0, 0, 1, 0, 0, 1, 0], [0, 0, 1, 0, 0, 0, 0, 0, 1, 0, 1, 0, 0], [0, 0, 1, 0, 0, 0, 0, 0, 1, 0, 1, 0, 0], [0, 0, 1, 0, 0, 0, 0, 0, 1, 0, 1, 0, 0], [0, 0, 1, 0, 0, 0, 0, 0, 1, 0, 1, 0, 0], [0, 0, 1, 0, 0, 0, 0, 0, 1, 0, 1, 0, 0], [0, 0, 0, 0, 0, 0, 1, 0, 0, 0, 1, 1, 0], [0, 0, 0, 0, 0, 0, 0, 0, 0, 0, 1, 1, 0], [0, 0, 1, 0, 0, 0, 0, 0, 1, 0, 1, 1, 0], [0, 0, 1, 0, 0, 0, 0, 0, 1, 0, 1, 1, 0], [0, 0, 0, 0, 0, 0, 0, 0, 0, 0, 1, 1, 0], [0, 0, 1, 0, 0, 0, 0, 0, 1, 0, 0, 1, 0], [0, 0, 1, 0, 0, 0, 0, 0, 1, 0, 1, 0, 0], [0, 0, 1, 0, 0, 0, 0, 0, 1, 0, 0, 1, 0], [0, 0, 1, 0, 0, 0, 0, 0, 1, 0, 1, 0, 0], [0, 0, 1, 0, 0, 0, 0, 0, 1, 0, 1, 0, 0], [0, 0, 1, 0, 0, 0, 0, 0, 0, 0, 1, 1, 0], [0, 0, 1, 0, 0, 0, 0, 0, 1, 0, 0, 1, 0], [0, 0, 1, 0, 0, 0, 0, 0, 1, 0, 1, 0, 0], [0, 0, 1, 0, 0, 0, 0, 0, 1, 0, 1, 0, 0], [0, 0, 1, 0, 0, 0, 0, 0, 1, 0, 1, 1, 0], [0, 0, 1, 0, 0, 0, 0, 0, 1, 0, 1, 0, 0], [0, 0, 1, 0, 0, 0, 0, 0, 1, 0, 1, 1, 0], [0, 0, 1, 0, 0, 0, 0, 0, 1, 0, 1, 0, 0], [0, 0, 1, 0, 0, 0, 0, 0, 1, 0, 1, 0, 0], [0, 0, 1, 0, 0, 0, 0, 0, 0, 0, 1, 1, 0], [0, 0, 1, 0, 0, 0, 0, 0, 0, 0, 1, 1, 0], [0, 0, 1, 0, 0, 0, 0, 0, 0, 0, 1, 1, 0], [0, 0, 1, 0, 0, 0, 0, 0, 1, 0, 0, 1, 0], [1, 0, 1, 0, 0, 1, 0, 1, 1, 0, 1, 1, 0], [1, 0, 1, 0, 0, 1, 0, 1, 1, 0, 1, 1, 0], [1, 0, 1, 0, 0, 1, 0, 1, 1, 0, 1, 1, 0], [1, 0, 1, 0, 0, 1, 0, 1, 1, 0, 1, 1, 0], [1, 0, 1, 0, 0, 1, 0, 1, 1, 0, 1, 1, 0], [1, 0, 1, 0, 0, 1, 0, 1, 1, 0, 1, 1, 0], [1, 0, 1, 0, 0, 1, 0, 1, 1, 0, 1, 1, 0], [1, 0, 1, 0, 0, 1, 0, 1, 1, 0, 1, 1, 0], [1, 0, 1, 0, 0, 1, 0, 1, 1, 0, 1, 1, 0], [1, 0, 1, 0, 0, 1, 0, 1, 1, 0, 1, 1, 0], [1, 0, 1, 0, 0, 1, 0, 1, 1, 0, 1, 1, 0], [1, 0, 1, 0, 0, 1, 0, 1, 1, 0, 1, 1, 0], [1, 0, 1, 0, 0, 1, 0, 1, 1, 0, 1, 1, 0], [1, 0, 1, 0, 0, 1, 0, 1, 1, 0, 1, 1, 0], [1, 0, 1, 0, 0, 1, 0, 1, 1, 0, 1, 1, 0], [1, 0, 1, 0, 0, 1, 0, 1, 1, 0, 1, 1, 0], [1, 0, 1, 0, 0, 1, 0, 1, 1, 0, 1, 1, 0], [1, 0, 1, 0, 0, 1, 0, 1, 1, 0, 1, 1, 0], [1, 0, 1, 0, 0, 1, 0, 1, 1, 0, 1, 1, 0], [1, 0, 1, 0, 0, 1, 0, 1, 1, 0, 1, 1, 0], [1, 0, 1, 0, 0, 1, 0, 1, 1, 0, 1, 1, 0], [1, 0, 1, 0, 0, 1, 0, 1, 1, 0, 1, 1, 0], [1, 0, 1, 0, 0, 1, 0, 1, 1, 0, 1, 1, 0], [1, 0, 1, 0, 0, 1, 0, 1, 1, 0, 1, 1, 0], [1, 0, 1, 0, 0, 1, 0, 1, 1, 0, 1, 1, 0], [1, 0, 1, 0, 0, 1, 0, 1, 1, 0, 1, 1, 0], [1, 0, 1, 0, 0, 1, 0, 1, 1, 0, 1, 1, 0], [1, 0, 1, 0, 0, 1, 0, 1, 1, 0, 1, 1, 0], [1, 0, 1, 0, 0, 1, 0, 1, 1, 0, 1, 1, 0], [1, 0, 1, 0, 0, 1, 0, 1, 1, 0, 1, 1, 0], [1, 0, 1, 0, 0, 1, 0, 1, 1, 0, 1, 1, 0], [1, 0, 1, 0, 0, 1, 0, 1, 1, 0, 1, 1, 0], [1, 0, 1, 0, 0, 1, 0, 1, 1, 0, 1, 1, 0], [1, 0, 1, 0, 0, 1, 0, 1, 1, 0, 1, 1, 0], [1, 0, 1, 0, 0, 1, 0, 1, 1, 0, 1, 1, 0], [1, 0, 1, 0, 0, 1, 0, 1, 1, 0, 1, 1, 0], [1, 0, 1, 0, 0, 1, 0, 1, 1, 0, 1, 1, 0], [1, 0, 1, 0, 0, 1, 0, 1, 1, 0, 1, 1, 0], [1, 0, 1, 0, 0, 1, 0, 1, 1, 0, 1, 1, 0], [1, 0, 1, 0, 0, 1, 0, 1, 1, 0, 1, 1, 0], [1, 0, 1, 0, 0, 1, 0, 1, 1, 0, 1, 1, 0], [1, 0, 1, 0, 0, 1, 0, 1, 1, 0, 1, 1, 0], [1, 0, 1, 0, 0, 1, 0, 1, 1, 0, 1, 1, 0], [1, 0, 1, 0, 0, 1, 0, 1, 1, 0, 1, 1, 0], [1, 0, 1, 0, 0, 1, 0, 1, 1, 0, 1, 1, 0], [1, 0, 1, 0, 0, 1, 0, 1, 1, 0, 1, 1, 0], [1, 0, 1, 0, 0, 1, 0, 1, 1, 0, 1, 1, 0], [1, 0, 1, 0, 0, 1, 0, 1, 1, 0, 1, 1, 0], [1, 0, 1, 0, 0, 1, 0, 1, 1, 0, 1, 1, 0], [1, 0, 1, 0, 0, 1, 0, 1, 1, 0, 1, 1, 0], [1, 0, 1, 0, 0, 1, 0, 1, 1, 0, 1, 1, 0], [1, 0, 1, 0, 0, 1, 0, 1, 1, 0, 1, 1, 0], [1, 0, 1, 0, 0, 1, 0, 1, 1, 0, 1, 1, 0], [1, 0, 1, 0, 0, 1, 0, 1, 1, 0, 1, 1, 0], [1, 0, 1, 0, 0, 1, 0, 1, 1, 0, 1, 1, 0], [1, 0, 1, 0, 0, 1, 0, 1, 1, 0, 1, 1, 0], [1, 0, 1, 0, 0, 1, 0, 1, 1, 0, 1, 1, 0], [1, 0, 1, 0, 0, 1, 0, 1, 1, 0, 1, 1, 0], [1, 0, 1, 0, 0, 1, 0, 1, 1, 0, 1, 1, 0], [1, 0, 1, 0, 0, 1, 0, 1, 1, 0, 1, 1, 0], [1, 0, 1, 0, 0, 1, 0, 1, 1, 0, 1, 1, 0], [1, 0, 1, 0, 0, 1, 0, 1, 1, 0, 1, 1, 0], [1, 0, 1, 0, 0, 1, 0, 1, 1, 0, 1, 1, 0], [1, 0, 1, 0, 0, 1, 0, 1, 1, 0, 1, 1, 0], [1, 0, 1, 0, 0, 1, 0, 1, 1, 0, 1, 1, 0], [1, 0, 1, 0, 0, 1, 0, 1, 1, 0, 1, 1, 0], [1, 0, 1, 0, 0, 1, 0, 1, 1, 0, 1, 1, 0], [1, 0, 1, 0, 0, 1, 0, 1, 1, 0, 1, 1, 0], [1, 0, 1, 0, 0, 1, 0, 1, 1, 0, 1, 1, 0], [1, 0, 1, 0, 0, 1, 0, 1, 1, 0, 1, 1, 0], [1, 0, 1, 0, 0, 1, 0, 1, 1, 0, 1, 1, 0], [1, 0, 1, 0, 0, 1, 0, 1, 1, 0, 1, 1, 0], [1, 0, 1, 0, 0, 1, 0, 1, 1, 0, 1, 1, 0], [1, 0, 1, 0, 0, 1, 0, 1, 1, 0, 1, 1, 0], [1, 0, 1, 0, 0, 1, 0, 1, 1, 0, 1, 1, 0], [1, 0, 1, 0, 0, 1, 0, 1, 1, 0, 1, 1, 0], [1, 0, 1, 0, 0, 1, 0, 1, 1, 0, 1, 1, 0], [1, 0, 1, 0, 0, 1, 0, 1, 1, 0, 1, 1, 0], [1, 0, 1, 0, 0, 1, 0, 1, 1, 0, 1, 1, 0], [1, 0, 1, 0, 0, 1, 0, 1, 1, 0, 1, 1, 0], [1, 0, 1, 0, 0, 1, 0, 1, 1, 0, 1, 1, 0], [1, 0, 1, 0, 0, 1, 0, 1, 1, 0, 1, 1, 0], [1, 0, 1, 0, 0, 1, 0, 1, 1, 0, 1, 1, 0], [1, 0, 1, 0, 0, 1, 0, 1, 1, 0, 1, 1, 0], [1, 0, 1, 0, 0, 1, 0, 1, 1, 0, 1, 1, 0], [1, 0, 1, 0, 0, 1, 0, 1, 1, 0, 1, 1, 0], [1, 0, 1, 0, 0, 1, 0, 1, 1, 0, 1, 1, 0], [1, 0, 1, 0, 0, 1, 0, 1, 1, 0, 1, 1, 0], [1, 0, 1, 0, 0, 1, 0, 1, 1, 0, 1, 1, 0], [1, 0, 1, 0, 0, 1, 0, 1, 1, 0, 1, 1, 0], [1, 0, 1, 0, 0, 1, 0, 1, 1, 0, 1, 1, 0], [1, 0, 1, 0, 0, 1, 0, 1, 1, 0, 1, 1, 0], [1, 0, 1, 0, 0, 1, 0, 1, 1, 0, 1, 1, 0], [1, 0, 1, 0, 0, 1, 0, 1, 1, 0, 1, 1, 0], [1, 0, 1, 0, 0, 1, 0, 1, 1, 0, 1, 1, 0], [1, 0, 1, 0, 0, 1, 0, 1, 1, 0, 1, 1, 0], [1, 0, 1, 0, 0, 1, 0, 1, 1, 0, 1, 1, 0], [1, 0, 1, 0, 0, 1, 0, 1, 1, 0, 1, 1, 0], [1, 0, 1, 0, 0, 1, 0, 1, 1, 0, 1, 1, 0], [1, 0, 1, 0, 0, 1, 0, 1, 1, 0, 1, 1, 0], [1, 0, 1, 0, 0, 1, 0, 1, 1, 0, 1, 1, 0], [1, 0, 1, 0, 0, 1, 0, 1, 1, 0, 1, 1, 0], [1, 0, 1, 0, 0, 1, 0, 1, 1, 0, 1, 1, 0], [1, 0, 1, 0, 0, 1, 0, 1, 1, 0, 1, 1, 0], [1, 0, 1, 0, 0, 1, 0, 1, 1, 0, 1, 1, 0], [1, 0, 1, 0, 0, 1, 0, 1, 1, 0, 1, 1, 0], [1, 0, 1, 0, 0, 1, 0, 1, 1, 0, 1, 1, 0], [1, 0, 1, 0, 0, 1, 0, 1, 1, 0, 1, 1, 0], [1, 0, 1, 0, 0, 1, 0, 1, 1, 0, 1, 1, 0], [1, 0, 1, 0, 0, 1, 0, 1, 0, 0, 1, 1, 0], [1, 0, 1, 0, 0, 1, 0, 1, 0, 0, 1, 1, 0], [1, 0, 1, 0, 0, 1, 0, 1, 0, 0, 1, 1, 0], [1, 0, 1, 0, 0, 1, 1, 1, 0, 0, 1, 1, 0], [1, 0, 1, 0, 0, 1, 0, 1, 0, 0, 1, 1, 0], [1, 0, 1, 0, 0, 1, 1, 1, 0, 0, 1, 1, 0], [1, 0, 1, 0, 0, 1, 0, 1, 0, 0, 1, 1, 0], [1, 0, 1, 0, 0, 1, 0, 1, 0, 0, 1, 1, 0], [1, 0, 1, 0, 0, 1, 0, 1, 0, 0, 1, 1, 0], [1, 0, 1, 0, 0, 1, 0, 1, 0, 0, 1, 1, 0], [1, 0, 1, 0, 0, 1, 0, 1, 0, 0, 1, 1, 0], [1, 0, 1, 0, 0, 1, 0, 1, 0, 0, 1, 1, 0], [1, 0, 1, 0, 0, 1, 0, 1, 0, 0, 1, 1, 0], [1, 0, 1, 0, 0, 1, 0, 1, 0, 0, 1, 1, 0], [1, 0, 1, 0, 0, 1, 0, 1, 0, 0, 1, 1, 0], [1, 0, 1, 0, 0, 1, 0, 1, 0, 0, 1, 1, 0], [1, 0, 1, 0, 0, 1, 0, 1, 0, 0, 1, 1, 0], [1, 0, 1, 0, 0, 1, 0, 1, 0, 0, 1, 1, 0], [1, 0, 1, 0, 0, 1, 0, 1, 0, 0, 1, 1, 0], [1, 0, 1, 0, 0, 1, 0, 1, 0, 0, 1, 1, 0], [1, 0, 1, 0, 0, 1, 0, 1, 0, 0, 1, 1, 0], [1, 0, 1, 0, 0, 1, 0, 1, 0, 0, 1, 1, 0], [1, 0, 1, 0, 0, 1, 0, 1, 0, 0, 1, 1, 0], [1, 0, 1, 0, 0, 1, 0, 1, 0, 0, 1, 1, 0], [1, 0, 1, 0, 0, 1, 0, 1, 0, 0, 1, 1, 0], [1, 0, 1, 0, 0, 1, 0, 1, 0, 0, 1, 1, 0], [1, 0, 1, 0, 0, 1, 0, 1, 0, 0, 1, 1, 0], [1, 0, 1, 0, 0, 1, 0, 1, 0, 0, 1, 1, 0], [1, 0, 1, 0, 0, 1, 0, 1, 0, 0, 1, 1, 0], [1, 0, 1, 0, 0, 1, 0, 1, 0, 0, 1, 1, 0], [1, 0, 1, 0, 0, 1, 0, 1, 0, 0, 1, 1, 0], [1, 0, 1, 0, 0, 1, 0, 1, 0, 0, 1, 1, 0], [1, 0, 1, 0, 0, 1, 0, 1, 0, 0, 1, 1, 0], [1, 0, 1, 0, 0, 1, 0, 1, 0, 0, 1, 1, 0], [1, 0, 1, 0, 0, 1, 0, 1, 0, 0, 1, 1, 0], [1, 0, 1, 0, 0, 1, 0, 1, 0, 0, 1, 1, 0], [1, 0, 1, 0, 0, 1, 0, 1, 0, 0, 1, 1, 0], [1, 0, 1, 0, 0, 1, 0, 1, 0, 0, 1, 1, 0], [1, 0, 1, 0, 0, 1, 0, 1, 0, 0, 1, 1, 0], [1, 0, 1, 0, 0, 1, 0, 1, 0, 0, 1, 1, 0], [1, 0, 1, 0, 0, 1, 0, 1, 0, 0, 1, 1, 0], [1, 0, 1, 0, 0, 1, 0, 1, 0, 0, 1, 1, 0], [1, 0, 1, 0, 0, 1, 0, 1, 0, 0, 1, 1, 0], [1, 0, 1, 0, 0, 1, 0, 1, 0, 0, 1, 1, 0], [1, 0, 1, 0, 0, 1, 0, 1, 0, 0, 1, 1, 0], [1, 0, 1, 0, 0, 1, 0, 1, 0, 0, 1, 1, 0], [1, 0, 1, 0, 0, 1, 0, 1, 0, 0, 1, 1, 0], [1, 0, 1, 0, 0, 1, 0, 1, 0, 0, 1, 1, 0], [1, 0, 1, 0, 0, 1, 0, 1, 0, 0, 1, 1, 0], [1, 0, 1, 0, 0, 1, 0, 1, 0, 0, 1, 1, 0], [1, 0, 1, 0, 0, 1, 0, 1, 0, 0, 1, 1, 0], [1, 0, 1, 0, 0, 1, 0, 1, 0, 0, 1, 1, 0], [1, 0, 1, 0, 0, 1, 0, 1, 0, 0, 1, 1, 0], [1, 0, 1, 0, 0, 1, 0, 1, 0, 0, 1, 1, 0], [1, 0, 1, 0, 0, 1, 0, 1, 0, 0, 1, 1, 0], [1, 0, 1, 0, 0, 1, 0, 1, 0, 0, 1, 1, 0], [1, 0, 1, 0, 0, 1, 0, 1, 0, 0, 1, 1, 0], [1, 0, 1, 0, 0, 1, 0, 1, 0, 0, 1, 1, 0], [1, 0, 1, 0, 0, 1, 0, 1, 0, 0, 1, 1, 0], [1, 0, 1, 0, 0, 1, 0, 1, 0, 0, 1, 1, 0], [1, 0, 1, 0, 0, 1, 0, 1, 0, 0, 1, 1, 0], [1, 0, 1, 0, 0, 1, 0, 1, 0, 0, 1, 1, 0], [1, 0, 1, 0, 0, 1, 0, 1, 0, 0, 1, 1, 0], [1, 0, 1, 0, 0, 1, 0, 1, 0, 0, 1, 1, 0], [1, 0, 1, 0, 0, 1, 0, 1, 0, 0, 1, 1, 0], [1, 0, 1, 0, 0, 1, 0, 1, 0, 0, 1, 1, 0], [1, 0, 1, 0, 0, 1, 0, 1, 0, 0, 1, 1, 0], [1, 0, 1, 0, 0, 1, 0, 1, 0, 0, 1, 1, 0], [1, 0, 1, 0, 0, 1, 0, 1, 0, 0, 1, 1, 0], [1, 0, 1, 0, 0, 1, 0, 1, 0, 0, 1, 1, 0], [1, 0, 1, 0, 0, 1, 0, 1, 0, 0, 1, 1, 0], [1, 0, 1, 0, 0, 1, 0, 1, 0, 0, 1, 1, 0], [1, 0, 1, 0, 0, 1, 0, 1, 0, 0, 1, 1, 0], [1, 0, 1, 0, 0, 1, 0, 1, 0, 0, 1, 1, 0], [1, 0, 1, 0, 0, 1, 0, 1, 0, 0, 1, 1, 0], [1, 0, 1, 0, 0, 1, 0, 1, 0, 0, 1, 1, 0], [1, 0, 1, 0, 0, 1, 0, 1, 0, 0, 1, 1, 0], [1, 0, 1, 0, 0, 1, 0, 1, 1, 0, 0, 1, 0], [1, 0, 1, 0, 0, 1, 0, 1, 1, 0, 0, 1, 0], [1, 0, 1, 0, 0, 1, 0, 1, 1, 0, 0, 1, 0], [1, 0, 1, 0, 0, 1, 0, 1, 1, 0, 0, 1, 0], [1, 0, 1, 0, 0, 1, 0, 1, 1, 0, 0, 1, 0], [1, 0, 1, 0, 0, 1, 0, 1, 1, 0, 0, 1, 0], [1, 0, 1, 0, 0, 1, 0, 1, 1, 0, 0, 1, 0], [1, 0, 1, 0, 0, 1, 0, 1, 1, 0, 0, 1, 0], [1, 0, 1, 0, 0, 1, 0, 1, 1, 0, 0, 1, 0], [1, 0, 1, 0, 0, 1, 0, 1, 1, 0, 0, 1, 0], [1, 0, 1, 0, 0, 1, 0, 1, 1, 0, 0, 1, 0], [1, 0, 1, 0, 0, 1, 0, 1, 1, 0, 0, 1, 0], [1, 0, 1, 0, 0, 1, 0, 1, 1, 0, 0, 1, 0], [1, 0, 1, 0, 0, 1, 0, 1, 1, 0, 0, 1, 0], [1, 0, 1, 0, 0, 1, 0, 1, 1, 0, 0, 1, 0], [1, 0, 1, 0, 0, 1, 0, 1, 1, 0, 0, 1, 0], [1, 0, 1, 0, 0, 1, 0, 1, 1, 0, 0, 1, 0], [1, 0, 1, 0, 0, 1, 0, 1, 1, 0, 0, 1, 0], [1, 0, 1, 0, 0, 1, 0, 1, 1, 0, 0, 1, 0], [1, 0, 1, 0, 0, 1, 0, 1, 1, 0, 0, 1, 0], [1, 0, 1, 0, 0, 1, 0, 1, 1, 0, 0, 1, 0], [1, 0, 1, 0, 0, 1, 0, 1, 1, 0, 0, 1, 0], [1, 0, 1, 0, 0, 1, 0, 1, 1, 0, 0, 1, 0], [1, 0, 1, 0, 0, 1, 0, 1, 1, 0, 0, 1, 0], [1, 0, 1, 0, 0, 1, 0, 1, 1, 0, 0, 1, 0], [1, 0, 1, 0, 0, 1, 0, 1, 1, 0, 0, 1, 0], [1, 0, 1, 0, 0, 1, 0, 1, 1, 0, 0, 1, 0], [1, 0, 1, 0, 0, 1, 0, 1, 1, 0, 0, 1, 0], [1, 0, 1, 0, 0, 1, 0, 1, 1, 0, 0, 1, 0], [1, 0, 1, 0, 0, 1, 0, 1, 1, 0, 0, 1, 0], [1, 0, 1, 0, 0, 1, 0, 1, 1, 0, 0, 1, 0], [1, 0, 1, 0, 0, 1, 0, 1, 1, 0, 0, 1, 0], [1, 0, 1, 0, 0, 1, 0, 1, 1, 0, 0, 1, 0], [1, 0, 1, 0, 0, 1, 0, 1, 1, 0, 0, 1, 0], [1, 0, 1, 0, 0, 1, 0, 1, 1, 0, 0, 1, 0], [1, 0, 1, 0, 0, 1, 0, 1, 1, 0, 0, 1, 0], [1, 0, 1, 0, 0, 1, 0, 1, 1, 0, 0, 1, 0], [1, 0, 1, 0, 0, 1, 0, 1, 1, 0, 0, 1, 0], [1, 0, 1, 0, 0, 1, 0, 1, 1, 0, 0, 1, 0], [1, 0, 1, 0, 0, 1, 0, 1, 1, 0, 0, 1, 0], [1, 0, 1, 0, 0, 1, 0, 1, 1, 0, 0, 1, 0], [1, 0, 1, 0, 0, 1, 0, 1, 1, 0, 0, 1, 0], [1, 0, 1, 0, 0, 1, 0, 1, 1, 0, 0, 1, 0], [1, 0, 1, 0, 0, 1, 0, 1, 1, 0, 0, 1, 0], [1, 0, 1, 0, 0, 1, 0, 1, 1, 0, 0, 1, 0], [1, 0, 1, 0, 0, 1, 0, 1, 1, 0, 0, 1, 0], [1, 0, 1, 0, 0, 1, 0, 1, 1, 0, 0, 1, 0], [1, 0, 1, 0, 0, 1, 0, 1, 1, 0, 0, 1, 0], [1, 0, 1, 0, 0, 1, 0, 1, 1, 0, 0, 1, 0], [1, 0, 1, 0, 0, 1, 0, 1, 1, 0, 0, 1, 0], [1, 0, 1, 0, 0, 1, 0, 1, 1, 0, 0, 1, 0], [1, 0, 1, 0, 0, 1, 0, 1, 1, 0, 0, 1, 0], [1, 0, 1, 0, 0, 1, 0, 1, 1, 0, 0, 1, 0], [1, 0, 1, 0, 0, 1, 0, 1, 1, 0, 0, 1, 0], [1, 0, 1, 0, 0, 1, 0, 1, 1, 0, 0, 1, 0], [1, 0, 1, 0, 0, 1, 0, 1, 1, 0, 0, 1, 0], [1, 0, 1, 0, 0, 1, 0, 1, 1, 0, 0, 1, 0], [1, 0, 1, 0, 0, 1, 0, 1, 1, 0, 0, 1, 0], [1, 0, 1, 0, 0, 1, 0, 1, 1, 0, 0, 1, 0], [1, 0, 1, 0, 0, 1, 0, 1, 1, 0, 0, 1, 0], [1, 0, 1, 0, 0, 1, 0, 1, 1, 0, 0, 1, 0], [1, 0, 1, 0, 0, 1, 0, 1, 1, 0, 0, 1, 0], [1, 0, 1, 0, 0, 1, 0, 1, 1, 0, 0, 1, 0], [1, 0, 1, 0, 0, 1, 0, 1, 1, 0, 0, 1, 0], [1, 0, 1, 0, 0, 1, 0, 1, 1, 0, 0, 1, 0], [1, 0, 1, 0, 0, 1, 0, 1, 1, 0, 0, 1, 0], [1, 0, 1, 0, 0, 1, 0, 1, 1, 0, 0, 1, 0], [1, 0, 1, 0, 0, 1, 0, 1, 1, 0, 0, 1, 0], [1, 0, 1, 0, 0, 1, 0, 1, 1, 0, 0, 1, 0], [1, 0, 1, 0, 0, 1, 0, 1, 1, 0, 0, 1, 0], [1, 0, 1, 0, 0, 1, 0, 1, 1, 0, 0, 1, 0], [1, 0, 1, 0, 0, 1, 0, 1, 1, 0, 0, 1, 0], [1, 0, 1, 0, 0, 1, 0, 1, 1, 0, 0, 1, 0], [1, 0, 1, 0, 0, 1, 0, 1, 1, 0, 0, 1, 0], [1, 0, 1, 0, 0, 1, 0, 1, 1, 0, 0, 1, 0], [1, 0, 1, 0, 0, 1, 0, 1, 1, 0, 0, 1, 0], [1, 0, 1, 0, 0, 1, 0, 1, 1, 0, 0, 1, 0], [1, 0, 1, 0, 0, 1, 0, 1, 1, 0, 0, 1, 0], [1, 0, 1, 0, 0, 1, 0, 1, 1, 0, 0, 1, 0], [1, 0, 1, 0, 0, 1, 1, 1, 1, 0, 0, 1, 0], [1, 0, 1, 0, 0, 1, 0, 1, 1, 0, 0, 1, 0], [1, 0, 1, 0, 0, 1, 0, 1, 1, 0, 0, 1, 0], [1, 0, 1, 0, 0, 1, 0, 1, 1, 0, 0, 1, 0], [1, 0, 1, 0, 0, 1, 0, 1, 1, 0, 0, 1, 0], [1, 0, 1, 0, 0, 1, 0, 1, 1, 0, 1, 0, 0], [1, 0, 1, 0, 0, 1, 0, 1, 1, 0, 1, 0, 0], [1, 0, 1, 0, 0, 1, 0, 1, 1, 0, 1, 0, 0], [1, 0, 1, 0, 0, 1, 0, 1, 1, 0, 1, 0, 0], [1, 0, 1, 0, 0, 1, 0, 1, 1, 0, 1, 0, 0], [1, 0, 1, 0, 0, 1, 0, 1, 1, 0, 1, 0, 0], [1, 0, 1, 0, 0, 1, 0, 1, 1, 0, 1, 0, 0], [1, 0, 1, 0, 0, 1, 0, 1, 1, 0, 1, 0, 0], [1, 0, 1, 0, 0, 1, 0, 1, 1, 0, 1, 0, 0], [1, 0, 1, 0, 0, 1, 0, 1, 1, 0, 1, 0, 0], [1, 0, 1, 0, 0, 1, 0, 1, 1, 0, 1, 0, 0], [1, 0, 1, 0, 0, 1, 0, 1, 1, 0, 1, 0, 0], [1, 0, 1, 0, 0, 1, 0, 1, 1, 0, 1, 0, 0], [1, 0, 1, 0, 0, 1, 0, 1, 1, 0, 1, 0, 0], [1, 0, 1, 0, 0, 1, 0, 1, 1, 0, 1, 0, 0], [1, 0, 1, 0, 0, 1, 0, 1, 1, 0, 1, 0, 0], [1, 0, 1, 0, 0, 1, 0, 1, 1, 0, 1, 0, 0], [1, 0, 1, 0, 0, 1, 0, 1, 1, 0, 1, 0, 0], [1, 0, 1, 0, 0, 1, 0, 1, 1, 0, 1, 0, 0], [1, 0, 1, 0, 0, 1, 0, 1, 1, 0, 1, 0, 0], [1, 0, 1, 0, 0, 1, 0, 1, 1, 0, 1, 0, 0], [1, 0, 1, 0, 0, 1, 0, 1, 1, 0, 1, 0, 0], [1, 0, 1, 0, 0, 1, 0, 1, 1, 0, 1, 0, 0], [1, 0, 1, 0, 0, 1, 0, 1, 1, 0, 1, 0, 0], [1, 0, 1, 0, 0, 1, 0, 1, 1, 0, 1, 0, 0], [1, 0, 1, 0, 0, 1, 0, 1, 1, 0, 1, 0, 0], [1, 0, 1, 0, 0, 1, 0, 1, 1, 0, 1, 0, 0], [1, 0, 1, 0, 0, 1, 0, 1, 1, 0, 1, 0, 0], [1, 0, 1, 0, 0, 1, 0, 1, 1, 0, 1, 0, 0], [1, 0, 1, 0, 0, 1, 0, 1, 1, 0, 1, 0, 0], [1, 0, 1, 0, 0, 1, 0, 1, 1, 0, 1, 0, 0], [1, 0, 1, 0, 0, 1, 0, 1, 1, 0, 1, 0, 0], [1, 0, 1, 0, 0, 1, 0, 1, 1, 0, 1, 0, 0], [1, 0, 1, 0, 0, 1, 0, 1, 1, 0, 1, 0, 0], [1, 0, 1, 0, 0, 1, 0, 1, 1, 0, 1, 0, 0], [1, 0, 1, 0, 0, 1, 0, 1, 1, 0, 1, 0, 0], [1, 0, 1, 0, 0, 1, 0, 1, 1, 0, 1, 0, 0], [1, 0, 1, 0, 0, 1, 0, 1, 1, 0, 1, 0, 0], [1, 0, 1, 0, 0, 1, 0, 1, 1, 0, 1, 0, 0], [1, 0, 1, 0, 0, 1, 0, 1, 1, 0, 1, 0, 0], [1, 0, 1, 0, 0, 1, 0, 1, 1, 0, 1, 0, 0], [1, 0, 1, 0, 0, 1, 0, 1, 1, 0, 1, 0, 0], [1, 0, 1, 0, 0, 1, 0, 1, 1, 0, 1, 0, 0], [1, 0, 1, 0, 0, 1, 0, 1, 1, 0, 1, 0, 0], [1, 0, 1, 0, 0, 1, 0, 1, 1, 0, 1, 0, 0], [1, 0, 1, 0, 0, 1, 0, 1, 1, 0, 1, 0, 0], [1, 0, 1, 0, 0, 1, 0, 1, 1, 0, 1, 0, 0], [1, 0, 1, 0, 0, 1, 0, 1, 1, 0, 1, 0, 0], [1, 0, 1, 0, 0, 1, 0, 1, 1, 0, 1, 0, 0], [1, 0, 1, 0, 0, 1, 0, 1, 1, 0, 1, 0, 0], [1, 0, 1, 0, 0, 1, 0, 1, 1, 0, 1, 0, 0], [1, 0, 1, 0, 0, 1, 0, 1, 1, 0, 1, 0, 0], [1, 0, 1, 0, 0, 1, 0, 1, 1, 0, 1, 0, 0], [1, 0, 1, 0, 0, 1, 0, 1, 1, 0, 1, 0, 0], [1, 0, 1, 0, 0, 1, 0, 1, 1, 0, 1, 0, 0], [1, 0, 1, 0, 0, 1, 0, 1, 1, 0, 1, 0, 0], [1, 0, 1, 0, 0, 1, 0, 1, 1, 0, 1, 0, 0], [1, 0, 1, 0, 0, 1, 0, 1, 1, 0, 1, 0, 0], [1, 0, 1, 0, 0, 1, 0, 1, 1, 0, 1, 0, 0], [1, 0, 1, 0, 0, 1, 0, 1, 1, 0, 1, 0, 0], [1, 0, 1, 0, 0, 1, 0, 1, 1, 0, 1, 0, 0], [1, 0, 1, 0, 0, 1, 0, 1, 1, 0, 1, 0, 0], [1, 0, 1, 0, 0, 1, 0, 1, 1, 0, 1, 0, 0], [1, 0, 1, 0, 0, 1, 0, 1, 1, 0, 1, 0, 0], [1, 0, 1, 0, 0, 1, 0, 1, 1, 0, 1, 0, 0], [1, 0, 1, 0, 0, 1, 0, 1, 1, 0, 1, 0, 0], [1, 0, 1, 0, 0, 1, 0, 1, 1, 0, 1, 0, 0], [1, 0, 1, 0, 0, 1, 0, 1, 1, 0, 1, 0, 0], [1, 0, 1, 0, 0, 1, 0, 1, 1, 0, 1, 0, 0], [1, 0, 1, 0, 0, 1, 0, 1, 1, 0, 1, 0, 0], [1, 0, 1, 0, 0, 1, 0, 1, 1, 0, 1, 0, 0], [1, 0, 1, 0, 0, 1, 0, 1, 1, 0, 1, 0, 0], [1, 0, 1, 0, 0, 1, 0, 1, 1, 0, 1, 0, 0], [1, 0, 1, 0, 0, 1, 0, 1, 1, 0, 1, 0, 0], [1, 0, 1, 0, 0, 1, 0, 1, 1, 0, 1, 0, 0], [1, 0, 1, 0, 0, 1, 0, 1, 1, 0, 1, 0, 0], [1, 0, 1, 0, 0, 1, 0, 1, 1, 0, 1, 0, 0], [1, 0, 1, 0, 0, 1, 0, 1, 1, 0, 1, 0, 0], [1, 0, 1, 0, 0, 1, 0, 1, 1, 0, 1, 0, 0], [1, 0, 1, 0, 0, 1, 0, 1, 1, 0, 1, 0, 0], [1, 0, 1, 0, 0, 1, 0, 1, 1, 0, 1, 0, 0], [1, 0, 1, 0, 0, 1, 0, 1, 1, 0, 1, 0, 0], [1, 0, 1, 0, 0, 1, 0, 1, 1, 0, 1, 0, 0], [1, 0, 1, 0, 0, 1, 0, 1, 1, 0, 1, 0, 0], [1, 0, 1, 0, 0, 1, 0, 1, 1, 0, 1, 0, 0], [1, 0, 1, 0, 0, 1, 0, 1, 1, 0, 1, 0, 0], [1, 0, 1, 0, 0, 1, 0, 1, 1, 0, 1, 0, 0], [1, 0, 1, 0, 0, 1, 0, 1, 1, 0, 1, 0, 0], [1, 0, 1, 0, 0, 1, 0, 1, 1, 0, 1, 0, 0], [1, 0, 1, 0, 0, 1, 0, 1, 1, 0, 1, 0, 0], [1, 0, 1, 0, 0, 1, 0, 1, 1, 0, 1, 0, 0], [1, 0, 1, 0, 0, 1, 0, 1, 1, 0, 1, 0, 0], [1, 0, 1, 0, 0, 1, 0, 1, 1, 0, 1, 0, 0], [1, 0, 1, 0, 0, 1, 0, 1, 1, 0, 1, 0, 0], [1, 0, 1, 0, 0, 1, 0, 1, 1, 0, 1, 0, 0], [1, 0, 1, 0, 0, 1, 0, 1, 1, 0, 1, 0, 0], [1, 0, 1, 0, 0, 1, 0, 1, 1, 0, 1, 0, 0], [1, 0, 1, 0, 0, 1, 0, 1, 1, 0, 1, 0, 0], [1, 0, 1, 0, 0, 1, 0, 1, 1, 0, 1, 0, 0], [1, 0, 1, 0, 0, 1, 0, 1, 1, 0, 1, 0, 0], [1, 0, 1, 0, 0, 1, 0, 1, 1, 0, 1, 0, 0], [1, 0, 1, 0, 0, 1, 0, 1, 1, 0, 1, 0, 0], [1, 0, 1, 0, 0, 1, 0, 1, 1, 0, 1, 0, 0], [1, 0, 1, 0, 0, 1, 0, 1, 1, 0, 1, 0, 0], [1, 0, 1, 0, 0, 1, 0, 1, 1, 0, 1, 0, 0], [1, 0, 1, 0, 0, 1, 0, 1, 1, 0, 1, 0, 0], [1, 0, 1, 0, 0, 1, 0, 1, 1, 0, 1, 0, 0], [1, 0, 1, 0, 0, 1, 0, 1, 1, 0, 1, 0, 0], [1, 0, 1, 0, 0, 1, 0, 1, 1, 0, 1, 0, 0], [1, 0, 1, 0, 0, 1, 0, 1, 1, 0, 1, 0, 0], [1, 0, 1, 0, 0, 1, 0, 1, 1, 0, 1, 0, 0], [1, 0, 1, 0, 0, 1, 0, 1, 1, 0, 1, 0, 0], [1, 0, 1, 0, 0, 1, 0, 1, 1, 0, 1, 0, 0], [1, 0, 1, 0, 0, 1, 0, 1, 1, 0, 1, 0, 0], [1, 0, 1, 0, 0, 1, 0, 1, 1, 0, 1, 0, 0], [1, 0, 1, 0, 0, 1, 0, 1, 1, 0, 1, 0, 0], [1, 0, 1, 0, 0, 1, 0, 1, 1, 0, 1, 0, 0], [1, 0, 1, 0, 0, 1, 0, 1, 1, 0, 1, 0, 0], [1, 0, 1, 0, 0, 1, 0, 1, 1, 0, 1, 0, 0], [1, 0, 1, 0, 0, 1, 0, 1, 1, 0, 1, 0, 0], [1, 0, 1, 0, 0, 1, 0, 1, 1, 0, 1, 0, 0], [1, 0, 1, 0, 0, 1, 0, 1, 1, 0, 1, 0, 0], [1, 0, 1, 0, 0, 1, 0, 1, 1, 0, 1, 0, 0], [1, 0, 1, 0, 0, 1, 0, 1, 1, 0, 1, 0, 0], [1, 0, 1, 0, 0, 1, 0, 1, 1, 0, 1, 0, 0], [1, 0, 1, 0, 0, 1, 0, 1, 1, 0, 1, 0, 0], [1, 0, 0, 0, 0, 1, 0, 1, 0, 0, 1, 1, 0], [1, 0, 0, 0, 0, 1, 0, 1, 0, 0, 1, 1, 0], [1, 0, 0, 0, 0, 1, 0, 1, 0, 0, 1, 1, 0], [1, 0, 0, 0, 0, 1, 0, 1, 0, 0, 1, 1, 0], [1, 0, 0, 0, 0, 1, 0, 1, 0, 0, 1, 1, 0], [1, 0, 0, 0, 0, 1, 0, 1, 0, 0, 1, 1, 0], [1, 0, 0, 0, 0, 1, 0, 1, 0, 0, 1, 1, 0], [1, 0, 0, 0, 0, 1, 0, 1, 0, 0, 1, 1, 0], [1, 0, 0, 0, 0, 1, 0, 1, 0, 0, 1, 1, 0], [1, 0, 0, 0, 0, 1, 0, 1, 0, 0, 1, 1, 0], [1, 0, 0, 0, 0, 1, 0, 1, 0, 0, 1, 1, 0], [1, 0, 0, 0, 0, 1, 0, 1, 0, 0, 1, 1, 0], [1, 0, 0, 0, 0, 1, 0, 1, 0, 0, 1, 1, 0], [1, 0, 0, 0, 0, 1, 0, 1, 0, 0, 1, 1, 0], [1, 0, 0, 0, 0, 1, 0, 1, 0, 0, 1, 1, 0], [1, 0, 0, 0, 0, 1, 1, 1, 0, 0, 1, 1, 0], [1, 0, 0, 0, 0, 1, 0, 1, 0, 0, 1, 1, 0], [1, 0, 0, 0, 0, 1, 0, 1, 0, 0, 1, 1, 0], [1, 0, 0, 0, 0, 1, 0, 1, 0, 0, 1, 1, 0], [1, 0, 0, 0, 0, 1, 0, 1, 0, 0, 1, 1, 0], [1, 0, 0, 0, 0, 1, 0, 1, 0, 0, 1, 1, 0], [1, 0, 0, 0, 0, 1, 0, 1, 0, 0, 1, 1, 0], [1, 0, 0, 0, 0, 1, 0, 1, 0, 0, 1, 1, 0], [1, 0, 0, 0, 0, 1, 0, 1, 0, 0, 1, 1, 0], [1, 0, 0, 0, 0, 1, 0, 1, 0, 0, 1, 1, 0], [1, 0, 0, 0, 0, 1, 0, 1, 0, 0, 1, 1, 0], [1, 0, 0, 0, 0, 1, 0, 1, 0, 0, 1, 1, 0], [1, 0, 1, 0, 0, 1, 0, 1, 0, 0, 1, 1, 0], [1, 0, 1, 0, 0, 1, 0, 1, 0, 0, 1, 1, 0], [1, 0, 1, 0, 0, 1, 0, 1, 0, 0, 1, 1, 0], [1, 0, 1, 0, 0, 1, 0, 1, 1, 0, 1, 1, 0], [1, 0, 1, 0, 0, 1, 0, 1, 1, 0, 1, 1, 0], [1, 0, 1, 0, 0, 1, 0, 1, 1, 0, 1, 1, 0], [1, 0, 1, 0, 0, 1, 0, 1, 1, 0, 1, 1, 0], [1, 0, 1, 0, 0, 1, 0, 1, 1, 0, 1, 1, 0], [1, 0, 1, 0, 0, 1, 0, 1, 1, 0, 1, 1, 0], [1, 0, 1, 0, 0, 1, 0, 1, 1, 0, 1, 1, 0], [1, 0, 1, 0, 0, 1, 0, 1, 1, 0, 1, 1, 0], [1, 0, 1, 0, 0, 1, 0, 1, 1, 0, 1, 1, 0], [1, 0, 1, 0, 0, 1, 0, 1, 1, 0, 1, 1, 0], [1, 0, 1, 0, 0, 1, 0, 1, 1, 0, 1, 1, 0], [1, 0, 1, 0, 0, 1, 0, 1, 1, 0, 1, 1, 0], [1, 0, 1, 0, 0, 1, 0, 1, 1, 0, 1, 1, 0], [1, 0, 1, 0, 0, 1, 0, 1, 1, 0, 1, 1, 0], [1, 0, 1, 0, 0, 1, 0, 1, 1, 0, 1, 1, 0], [1, 0, 1, 0, 0, 1, 0, 1, 1, 0, 1, 1, 0], [1, 0, 1, 0, 0, 1, 0, 1, 1, 0, 1, 1, 0], [1, 0, 1, 0, 0, 1, 0, 1, 1, 0, 1, 1, 0], [1, 0, 1, 0, 0, 1, 0, 1, 1, 0, 1, 1, 0], [1, 0, 1, 0, 0, 1, 0, 1, 1, 0, 1, 1, 0], [1, 0, 1, 0, 0, 1, 0, 1, 1, 0, 1, 1, 0], [1, 0, 1, 0, 0, 1, 0, 1, 1, 0, 1, 1, 0], [1, 0, 1, 0, 0, 1, 0, 1, 1, 0, 1, 1, 0], [1, 0, 1, 0, 0, 1, 0, 1, 1, 0, 1, 1, 0], [1, 0, 1, 0, 0, 1, 0, 1, 1, 0, 1, 1, 0], [1, 0, 1, 0, 0, 1, 0, 1, 1, 0, 1, 1, 0], [1, 0, 1, 0, 0, 1, 0, 1, 1, 0, 1, 1, 0], [1, 0, 1, 0, 0, 1, 0, 1, 1, 0, 1, 1, 0], [1, 0, 1, 0, 0, 1, 0, 1, 1, 0, 1, 1, 0], [1, 0, 1, 0, 0, 1, 0, 1, 1, 0, 1, 1, 0], [1, 0, 1, 0, 0, 1, 0, 1, 1, 0, 1, 1, 0], [1, 0, 1, 0, 0, 1, 0, 1, 1, 0, 1, 1, 0], [1, 0, 1, 0, 0, 1, 0, 1, 1, 0, 1, 1, 0], [1, 0, 1, 0, 0, 1, 0, 1, 1, 0, 1, 1, 0], [1, 0, 1, 0, 0, 1, 0, 1, 1, 0, 1, 1, 0], [1, 0, 1, 0, 0, 1, 0, 1, 1, 0, 1, 1, 0], [1, 0, 1, 0, 0, 1, 0, 1, 1, 0, 1, 1, 0], [1, 0, 1, 0, 0, 1, 0, 1, 1, 0, 1, 1, 0], [1, 0, 1, 0, 0, 1, 0, 1, 1, 0, 1, 1, 0], [1, 0, 1, 0, 0, 1, 0, 1, 1, 0, 1, 1, 0], [1, 0, 1, 0, 0, 1, 0, 1, 1, 0, 1, 1, 0], [1, 0, 1, 0, 0, 1, 0, 1, 1, 0, 1, 1, 0], [1, 0, 1, 0, 0, 1, 0, 1, 1, 0, 1, 1, 0], [1, 0, 1, 0, 0, 1, 0, 1, 1, 0, 1, 1, 0], [1, 0, 1, 0, 0, 1, 0, 1, 1, 0, 1, 1, 0], [1, 0, 1, 0, 0, 1, 0, 1, 1, 0, 1, 1, 0], [1, 0, 1, 0, 0, 1, 0, 1, 1, 0, 1, 1, 0], [1, 0, 1, 0, 0, 1, 0, 1, 1, 0, 1, 1, 0], [1, 0, 1, 0, 0, 1, 0, 1, 1, 0, 1, 1, 0], [1, 0, 1, 0, 0, 1, 0, 1, 1, 0, 1, 1, 0], [1, 0, 1, 0, 0, 1, 0, 1, 1, 0, 1, 1, 0], [1, 0, 1, 0, 0, 1, 0, 1, 1, 0, 1, 1, 0], [1, 0, 1, 0, 0, 1, 0, 1, 1, 0, 1, 1, 0], [1, 0, 1, 0, 0, 1, 0, 1, 1, 0, 1, 1, 0], [1, 0, 1, 0, 0, 1, 0, 1, 1, 0, 1, 1, 0], [1, 0, 1, 0, 0, 1, 1, 1, 1, 0, 1, 1, 0], [1, 0, 1, 0, 0, 1, 0, 1, 1, 0, 1, 1, 0], [1, 0, 1, 0, 0, 1, 0, 1, 1, 0, 1, 1, 0], [1, 0, 1, 0, 0, 1, 0, 1, 1, 0, 1, 1, 0], [1, 0, 1, 0, 0, 1, 0, 1, 1, 0, 1, 1, 0], [1, 0, 1, 0, 0, 1, 0, 1, 1, 0, 1, 1, 0], [1, 0, 1, 0, 0, 1, 0, 1, 1, 0, 1, 1, 0], [1, 0, 1, 0, 0, 1, 0, 1, 1, 0, 1, 1, 0], [1, 0, 1, 0, 0, 1, 0, 1, 1, 0, 1, 1, 0], [1, 0, 1, 0, 0, 1, 0, 1, 1, 0, 1, 1, 0], [1, 0, 1, 0, 0, 1, 0, 1, 1, 0, 1, 1, 0], [1, 0, 1, 0, 0, 1, 0, 1, 1, 0, 1, 1, 0], [1, 0, 1, 0, 0, 1, 0, 1, 1, 0, 1, 1, 0], [1, 0, 1, 0, 0, 1, 0, 1, 1, 0, 1, 1, 0], [1, 0, 1, 0, 0, 1, 0, 1, 1, 0, 1, 1, 0], [1, 0, 1, 0, 0, 1, 0, 1, 1, 0, 1, 1, 0], [1, 0, 1, 0, 0, 1, 0, 1, 1, 0, 1, 1, 0], [1, 0, 1, 0, 0, 1, 0, 1, 1, 0, 1, 1, 0], [1, 0, 1, 0, 0, 1, 0, 1, 1, 0, 1, 1, 0], [1, 0, 1, 0, 0, 1, 0, 1, 1, 0, 1, 1, 0], [1, 0, 1, 0, 0, 1, 0, 1, 1, 0, 1, 1, 0], [1, 0, 1, 0, 0, 1, 0, 1, 1, 0, 1, 1, 0], [1, 0, 1, 0, 0, 1, 0, 1, 1, 0, 1, 1, 0], [1, 0, 1, 0, 0, 1, 0, 1, 1, 0, 1, 1, 0], [1, 0, 1, 0, 0, 1, 0, 1, 1, 0, 1, 1, 0], [1, 0, 1, 0, 0, 1, 0, 1, 1, 0, 1, 1, 0], [1, 0, 1, 0, 0, 1, 0, 1, 1, 0, 1, 1, 0], [1, 0, 1, 0, 0, 1, 0, 1, 1, 0, 1, 1, 0], [1, 0, 1, 0, 0, 1, 0, 1, 1, 0, 1, 1, 0], [1, 0, 1, 0, 0, 1, 0, 1, 1, 0, 1, 1, 0], [1, 0, 1, 0, 0, 1, 0, 1, 1, 0, 1, 1, 0], [1, 0, 1, 0, 0, 1, 0, 1, 1, 0, 1, 1, 0], [1, 0, 1, 0, 0, 1, 0, 1, 1, 0, 1, 1, 0], [1, 0, 1, 0, 0, 1, 0, 1, 1, 0, 1, 1, 0], [1, 0, 1, 0, 0, 1, 0, 1, 1, 0, 1, 1, 0], [1, 0, 1, 0, 0, 1, 0, 1, 1, 0, 1, 1, 0], [1, 0, 1, 0, 0, 1, 0, 1, 1, 0, 1, 1, 0], [1, 0, 1, 0, 0, 1, 0, 1, 1, 0, 1, 1, 0], [1, 0, 1, 0, 0, 1, 0, 1, 1, 0, 1, 1, 0], [1, 0, 1, 0, 0, 1, 0, 1, 1, 0, 1, 1, 0], [1, 0, 1, 0, 0, 1, 0, 1, 1, 0, 1, 1, 0], [1, 0, 1, 0, 0, 1, 0, 1, 1, 0, 1, 1, 0], [1, 0, 1, 0, 0, 1, 0, 1, 1, 0, 1, 1, 0], [1, 0, 1, 0, 0, 1, 0, 1, 1, 0, 1, 1, 0], [1, 0, 1, 0, 0, 1, 0, 1, 1, 0, 1, 1, 0], [1, 0, 1, 0, 0, 1, 0, 1, 1, 0, 1, 1, 0], [1, 0, 1, 0, 0, 1, 0, 1, 1, 0, 1, 1, 0], [1, 0, 1, 0, 0, 1, 0, 1, 1, 0, 1, 1, 0], [1, 0, 1, 0, 0, 1, 0, 1, 1, 0, 1, 1, 0], [1, 0, 1, 0, 0, 1, 0, 1, 1, 0, 1, 1, 0], [1, 0, 1, 0, 0, 1, 0, 1, 1, 0, 1, 1, 0], [1, 0, 1, 0, 0, 1, 0, 1, 1, 0, 1, 1, 0], [1, 0, 1, 0, 0, 1, 0, 1, 1, 0, 1, 1, 0], [1, 0, 1, 0, 0, 1, 0, 1, 1, 0, 1, 1, 0], [1, 0, 1, 0, 0, 1, 0, 1, 1, 0, 1, 1, 0], [1, 0, 1, 0, 0, 1, 0, 1, 1, 0, 1, 1, 0], [1, 0, 1, 0, 0, 1, 0, 1, 1, 0, 1, 1, 0], [1, 0, 1, 0, 0, 1, 0, 1, 1, 0, 1, 1, 0], [1, 0, 1, 0, 0, 1, 0, 1, 1, 0, 1, 1, 0], [1, 0, 1, 0, 0, 1, 0, 1, 1, 0, 1, 1, 0], [1, 0, 1, 0, 0, 1, 0, 1, 1, 0, 1, 1, 0], [1, 0, 1, 0, 0, 1, 0, 1, 1, 0, 1, 1, 0], [1, 0, 1, 0, 0, 1, 0, 1, 1, 0, 1, 1, 0], [1, 0, 1, 0, 0, 1, 0, 1, 1, 0, 1, 1, 0], [1, 0, 1, 0, 0, 1, 0, 1, 1, 0, 1, 1, 0], [1, 0, 1, 0, 0, 1, 0, 1, 1, 0, 1, 1, 0], [1, 0, 1, 0, 0, 1, 0, 1, 1, 0, 1, 1, 0], [1, 0, 1, 0, 0, 1, 0, 1, 1, 0, 1, 1, 0], [1, 0, 1, 0, 0, 1, 0, 1, 1, 0, 1, 1, 0], [1, 0, 1, 0, 0, 1, 0, 1, 1, 0, 1, 1, 0], [1, 0, 1, 0, 0, 1, 0, 1, 1, 0, 1, 1, 0], [1, 0, 1, 0, 0, 1, 0, 1, 1, 0, 1, 1, 0], [1, 0, 1, 0, 0, 1, 0, 1, 1, 0, 1, 1, 0], [1, 0, 1, 0, 0, 1, 0, 1, 1, 0, 1, 1, 0], [1, 0, 1, 0, 0, 1, 0, 1, 1, 0, 1, 1, 0], [1, 0, 1, 0, 0, 1, 0, 1, 1, 0, 1, 1, 0], [1, 0, 1, 0, 0, 1, 0, 1, 1, 0, 1, 1, 0], [1, 0, 1, 0, 0, 1, 0, 1, 1, 0, 1, 1, 0], [1, 0, 1, 0, 0, 1, 0, 1, 1, 0, 1, 1, 0], [1, 0, 1, 0, 0, 1, 0, 1, 1, 0, 1, 1, 0], [1, 0, 1, 0, 0, 1, 0, 1, 1, 0, 1, 1, 0], [1, 0, 1, 0, 0, 1, 0, 1, 1, 0, 1, 1, 0], [1, 0, 1, 0, 0, 1, 0, 1, 1, 0, 1, 1, 0], [1, 0, 1, 0, 0, 1, 0, 1, 1, 0, 1, 1, 0], [1, 0, 1, 0, 0, 1, 0, 1, 1, 0, 1, 1, 0], [1, 0, 1, 0, 0, 1, 0, 1, 1, 0, 1, 1, 0], [1, 0, 1, 0, 0, 1, 0, 1, 1, 0, 1, 1, 0], [1, 0, 1, 0, 0, 1, 0, 1, 1, 0, 1, 1, 0], [1, 0, 1, 0, 0, 1, 0, 1, 1, 0, 1, 1, 0], [1, 0, 1, 0, 0, 1, 0, 1, 1, 0, 1, 1, 0], [1, 0, 1, 0, 0, 1, 0, 1, 1, 0, 1, 1, 0], [1, 0, 1, 0, 0, 1, 0, 1, 1, 0, 1, 1, 0], [1, 0, 1, 0, 0, 1, 0, 1, 1, 0, 1, 1, 0], [1, 0, 1, 0, 0, 1, 0, 1, 1, 0, 1, 1, 0], [1, 0, 1, 0, 0, 1, 0, 1, 1, 0, 1, 1, 0], [1, 0, 1, 0, 0, 1, 0, 1, 1, 0, 1, 1, 0], [1, 0, 1, 0, 0, 1, 0, 1, 1, 0, 1, 1, 0], [1, 0, 1, 0, 0, 1, 0, 1, 1, 0, 1, 1, 0], [1, 0, 1, 0, 0, 1, 0, 1, 1, 0, 1, 1, 0], [1, 0, 1, 0, 0, 1, 0, 1, 1, 0, 1, 1, 0], [1, 0, 1, 0, 0, 1, 0, 1, 1, 0, 1, 1, 0], [1, 0, 1, 0, 0, 1, 0, 1, 1, 0, 1, 1, 0], [1, 0, 1, 0, 0, 1, 0, 1, 1, 0, 1, 1, 0], [1, 0, 1, 0, 0, 1, 0, 1, 1, 0, 1, 1, 0], [1, 0, 1, 0, 0, 1, 0, 1, 1, 0, 1, 1, 0], [1, 0, 1, 0, 0, 1, 0, 1, 1, 0, 1, 1, 0], [1, 0, 1, 0, 0, 1, 0, 1, 1, 0, 1, 1, 0], [1, 0, 1, 0, 0, 1, 0, 1, 1, 0, 1, 1, 0], [1, 0, 1, 0, 0, 1, 0, 1, 1, 0, 1, 1, 0], [1, 0, 1, 0, 0, 1, 0, 1, 1, 0, 1, 1, 0], [1, 0, 1, 0, 0, 1, 0, 1, 1, 0, 1, 1, 0], [1, 0, 1, 0, 0, 1, 0, 1, 1, 0, 1, 1, 0], [1, 0, 1, 0, 0, 1, 0, 1, 1, 0, 1, 1, 0], [1, 0, 1, 0, 0, 1, 0, 1, 1, 0, 1, 1, 0], [1, 0, 1, 0, 0, 1, 0, 1, 1, 0, 1, 1, 0], [1, 0, 1, 0, 0, 1, 0, 1, 1, 0, 1, 1, 0], [1, 0, 1, 0, 0, 1, 0, 1, 1, 0, 1, 1, 0], [1, 0, 1, 0, 0, 1, 0, 1, 1, 0, 1, 1, 0], [1, 0, 1, 0, 0, 1, 0, 1, 1, 0, 1, 1, 0], [1, 0, 1, 0, 0, 1, 0, 1, 1, 0, 1, 1, 0], [1, 0, 1, 0, 0, 1, 0, 1, 1, 0, 1, 1, 0], [1, 0, 1, 0, 0, 1, 0, 1, 1, 0, 1, 1, 0], [1, 0, 1, 0, 0, 1, 0, 1, 1, 0, 1, 1, 0], [1, 0, 1, 0, 0, 1, 0, 1, 1, 0, 1, 1, 0], [1, 0, 1, 0, 0, 1, 0, 1, 1, 0, 1, 1, 0], [1, 0, 1, 0, 0, 1, 0, 1, 1, 0, 1, 1, 0], [1, 0, 1, 0, 0, 1, 0, 1, 1, 0, 1, 1, 0], [1, 0, 1, 0, 0, 1, 0, 1, 1, 0, 1, 1, 0], [1, 0, 1, 0, 0, 1, 0, 1, 1, 0, 1, 1, 0], [1, 0, 1, 0, 0, 1, 0, 1, 1, 0, 1, 1, 0], [1, 0, 1, 0, 0, 1, 0, 1, 1, 0, 1, 1, 0], [1, 0, 1, 0, 0, 1, 0, 1, 1, 0, 1, 1, 0], [1, 0, 1, 0, 0, 1, 0, 1, 1, 0, 1, 1, 0], [1, 0, 1, 0, 0, 1, 0, 1, 1, 0, 1, 1, 0], [1, 0, 1, 0, 0, 1, 0, 1, 1, 0, 1, 1, 0], [1, 0, 1, 0, 0, 1, 0, 1, 1, 0, 1, 1, 0], [1, 0, 1, 0, 0, 1, 0, 1, 1, 0, 1, 1, 0], [1, 0, 1, 0, 0, 1, 0, 1, 1, 0, 1, 1, 0], [1, 0, 1, 0, 0, 1, 0, 1, 1, 0, 1, 1, 0], [1, 0, 1, 0, 0, 1, 0, 1, 1, 0, 1, 1, 0], [1, 0, 1, 0, 0, 1, 0, 1, 1, 0, 1, 1, 0], [1, 0, 1, 0, 0, 1, 0, 1, 1, 0, 1, 1, 0], [1, 0, 1, 0, 0, 1, 0, 1, 1, 0, 1, 1, 0], [1, 0, 1, 0, 0, 1, 0, 1, 1, 0, 1, 1, 0], [1, 0, 1, 0, 0, 1, 0, 1, 1, 0, 1, 1, 0], [1, 0, 1, 0, 0, 1, 0, 1, 1, 0, 1, 1, 0], [1, 0, 1, 0, 0, 1, 0, 1, 1, 0, 1, 1, 0], [1, 0, 1, 0, 0, 1, 0, 1, 1, 0, 1, 1, 0], [1, 0, 1, 0, 0, 1, 0, 1, 1, 0, 1, 1, 0], [1, 0, 1, 0, 0, 1, 0, 1, 1, 0, 1, 1, 0], [1, 0, 1, 0, 0, 1, 0, 1, 1, 0, 1, 1, 0], [1, 0, 1, 0, 0, 1, 0, 1, 1, 0, 1, 1, 0], [1, 0, 1, 0, 0, 1, 0, 1, 1, 0, 1, 1, 0], [1, 0, 1, 0, 0, 1, 0, 1, 1, 0, 1, 1, 0], [1, 0, 1, 0, 0, 1, 0, 1, 1, 0, 1, 1, 0], [1, 0, 1, 0, 0, 1, 0, 1, 1, 0, 1, 1, 0], [1, 0, 1, 0, 0, 1, 0, 1, 1, 0, 1, 1, 0], [1, 0, 1, 0, 0, 1, 0, 1, 1, 0, 1, 1, 0], [1, 0, 1, 0, 0, 1, 0, 1, 1, 0, 1, 1, 0], [1, 0, 1, 0, 0, 1, 0, 1, 1, 0, 1, 1, 0], [1, 0, 1, 0, 0, 1, 0, 1, 1, 0, 1, 1, 0], [1, 0, 1, 0, 0, 1, 0, 1, 1, 0, 1, 1, 0], [1, 0, 1, 0, 0, 1, 0, 1, 1, 0, 1, 1, 0], [1, 0, 1, 0, 0, 1, 0, 1, 1, 0, 1, 1, 0], [1, 0, 1, 0, 0, 1, 0, 1, 1, 0, 1, 1, 0], [1, 0, 1, 0, 0, 1, 0, 1, 1, 0, 1, 1, 0], [1, 0, 1, 0, 0, 1, 0, 1, 1, 0, 1, 1, 0], [1, 0, 1, 0, 0, 1, 0, 1, 1, 0, 1, 1, 0], [1, 0, 1, 0, 0, 1, 0, 1, 1, 0, 1, 1, 0], [1, 0, 1, 0, 0, 1, 0, 1, 1, 0, 1, 1, 0], [1, 0, 1, 0, 0, 1, 0, 1, 1, 0, 1, 1, 0], [1, 0, 1, 0, 0, 1, 0, 1, 1, 0, 1, 1, 0], [1, 0, 1, 0, 0, 1, 0, 1, 1, 0, 1, 1, 0], [1, 0, 1, 0, 0, 1, 0, 1, 1, 0, 1, 1, 0], [1, 0, 1, 0, 0, 1, 0, 1, 1, 0, 1, 1, 0], [1, 0, 1, 0, 0, 1, 0, 1, 1, 0, 1, 1, 0], [1, 0, 1, 0, 0, 1, 0, 1, 1, 0, 1, 1, 0], [1, 0, 1, 0, 0, 1, 0, 1, 1, 0, 1, 1, 0], [1, 0, 1, 0, 0, 1, 0, 1, 1, 0, 1, 1, 0], [1, 0, 1, 0, 0, 1, 0, 1, 1, 0, 1, 1, 0], [1, 0, 1, 0, 0, 1, 0, 1, 1, 0, 1, 1, 0], [1, 0, 1, 0, 0, 1, 0, 1, 1, 0, 1, 1, 0], [1, 0, 1, 0, 0, 1, 0, 1, 1, 0, 1, 1, 0], [1, 0, 1, 0, 0, 1, 0, 1, 1, 0, 1, 1, 0], [1, 0, 1, 0, 0, 1, 0, 1, 1, 0, 1, 1, 0], [1, 0, 1, 0, 0, 1, 0, 1, 1, 0, 1, 1, 0], [1, 0, 1, 0, 0, 1, 0, 1, 1, 0, 1, 1, 0], [1, 0, 1, 0, 0, 1, 0, 1, 1, 0, 1, 1, 0], [1, 0, 1, 0, 0, 1, 0, 1, 1, 0, 1, 1, 0], [1, 0, 1, 0, 0, 1, 0, 1, 1, 0, 1, 1, 0], [1, 0, 1, 0, 0, 1, 0, 1, 1, 0, 1, 1, 0], [1, 0, 1, 0, 0, 1, 0, 1, 1, 0, 1, 1, 0], [1, 0, 1, 0, 0, 1, 0, 1, 1, 0, 1, 1, 0], [1, 0, 1, 0, 0, 1, 0, 1, 1, 0, 1, 1, 0], [1, 0, 1, 0, 0, 1, 0, 1, 1, 0, 1, 1, 0], [1, 0, 1, 0, 0, 1, 0, 1, 1, 0, 1, 1, 0], [1, 0, 1, 0, 0, 1, 0, 1, 1, 0, 1, 1, 0], [1, 0, 1, 0, 0, 1, 0, 1, 1, 0, 1, 1, 0], [1, 0, 1, 0, 0, 1, 0, 1, 1, 0, 1, 1, 0], [1, 0, 1, 0, 0, 1, 0, 1, 1, 0, 1, 1, 0], [1, 0, 1, 0, 0, 1, 0, 1, 1, 0, 1, 1, 0], [1, 0, 1, 0, 0, 1, 0, 1, 1, 0, 1, 1, 0], [1, 0, 1, 0, 0, 1, 0, 1, 1, 0, 1, 1, 0], [1, 0, 1, 0, 0, 1, 0, 1, 1, 0, 1, 1, 0], [1, 0, 1, 0, 0, 1, 0, 1, 1, 0, 1, 1, 0], [1, 0, 1, 0, 0, 1, 0, 1, 1, 0, 1, 1, 0], [1, 0, 1, 0, 0, 1, 0, 1, 1, 0, 1, 1, 0], [1, 0, 1, 0, 0, 1, 0, 1, 1, 0, 1, 1, 0], [1, 0, 1, 0, 0, 1, 0, 1, 1, 0, 1, 1, 0], [1, 0, 1, 0, 0, 1, 0, 1, 1, 0, 1, 1, 0], [1, 0, 1, 0, 0, 1, 0, 1, 1, 0, 1, 1, 0], [1, 0, 1, 0, 0, 1, 0, 1, 1, 0, 1, 1, 0], [1, 0, 1, 0, 0, 1, 0, 1, 1, 0, 1, 1, 0], [1, 0, 1, 0, 0, 1, 0, 1, 1, 0, 1, 1, 0], [1, 0, 1, 0, 0, 1, 0, 1, 1, 0, 1, 1, 0], [1, 0, 1, 0, 0, 1, 0, 1, 1, 0, 1, 1, 0], [1, 0, 1, 0, 0, 1, 0, 1, 1, 0, 1, 1, 0], [1, 0, 1, 0, 0, 1, 0, 1, 1, 0, 1, 1, 0], [1, 0, 1, 0, 0, 1, 0, 1, 1, 0, 1, 1, 0], [1, 0, 1, 0, 0, 1, 0, 1, 1, 0, 1, 1, 0], [1, 0, 1, 0, 0, 1, 0, 1, 1, 0, 1, 1, 0], [1, 0, 1, 0, 0, 1, 0, 1, 1, 0, 1, 1, 0], [1, 0, 1, 0, 0, 1, 0, 1, 1, 0, 1, 1, 0], [1, 0, 1, 0, 0, 1, 0, 1, 1, 0, 1, 1, 0], [1, 0, 1, 0, 0, 1, 0, 1, 1, 0, 1, 1, 0], [1, 0, 1, 0, 0, 1, 0, 1, 1, 0, 1, 1, 0], [1, 0, 1, 0, 0, 1, 0, 1, 1, 0, 1, 1, 0], [1, 0, 1, 0, 0, 1, 0, 1, 1, 0, 1, 1, 0], [1, 0, 1, 0, 0, 1, 0, 1, 1, 0, 1, 1, 0], [1, 0, 1, 0, 0, 1, 0, 1, 1, 0, 1, 1, 0], [1, 0, 1, 0, 0, 1, 0, 1, 1, 0, 1, 1, 0], [1, 0, 1, 0, 0, 1, 0, 1, 1, 0, 1, 1, 0], [1, 0, 1, 0, 0, 1, 0, 1, 1, 0, 1, 1, 0], [1, 0, 1, 0, 0, 1, 0, 1, 1, 0, 1, 1, 0], [1, 0, 1, 0, 0, 1, 0, 1, 1, 0, 1, 1, 0], [1, 0, 1, 0, 0, 1, 0, 1, 1, 0, 1, 1, 0], [1, 0, 1, 0, 0, 1, 0, 1, 1, 0, 1, 1, 0], [1, 0, 1, 0, 0, 1, 0, 1, 1, 0, 1, 1, 0], [1, 0, 1, 0, 0, 1, 0, 1, 1, 0, 1, 1, 0], [1, 0, 1, 0, 0, 1, 0, 1, 1, 0, 1, 1, 0], [1, 0, 1, 0, 0, 1, 0, 1, 1, 0, 1, 1, 0], [1, 0, 1, 0, 0, 1, 0, 1, 1, 0, 1, 1, 0], [1, 0, 1, 0, 0, 1, 0, 1, 1, 0, 1, 1, 0], [1, 0, 1, 0, 0, 1, 0, 1, 1, 0, 1, 1, 0], [1, 0, 1, 0, 0, 1, 0, 1, 1, 0, 1, 1, 0], [1, 0, 1, 0, 0, 1, 0, 1, 1, 0, 1, 1, 0], [1, 0, 1, 0, 0, 1, 0, 1, 1, 0, 1, 1, 0], [1, 0, 1, 0, 0, 1, 0, 1, 1, 0, 1, 1, 0], [1, 0, 1, 0, 0, 1, 0, 1, 1, 0, 1, 1, 0], [1, 0, 1, 0, 0, 1, 0, 1, 1, 0, 1, 1, 0], [1, 0, 1, 0, 0, 1, 0, 1, 1, 0, 1, 1, 0], [1, 0, 1, 0, 0, 1, 0, 1, 1, 0, 1, 1, 0], [1, 0, 1, 0, 0, 1, 0, 1, 1, 0, 1, 1, 0], [1, 0, 1, 0, 0, 1, 0, 1, 1, 0, 1, 1, 0], [1, 0, 1, 0, 0, 1, 0, 1, 1, 0, 1, 1, 0], [1, 0, 1, 0, 0, 1, 0, 1, 1, 0, 1, 1, 0], [1, 0, 1, 0, 0, 1, 0, 1, 1, 0, 1, 1, 0], [1, 0, 1, 0, 0, 1, 0, 1, 1, 0, 1, 1, 0], [1, 0, 1, 0, 0, 1, 0, 1, 1, 0, 1, 1, 0], [1, 0, 1, 0, 0, 1, 0, 1, 1, 0, 1, 1, 0], [1, 0, 1, 0, 0, 1, 0, 1, 1, 0, 1, 1, 0], [1, 0, 1, 0, 0, 1, 0, 1, 1, 0, 1, 1, 0], [1, 0, 1, 0, 0, 1, 0, 1, 1, 0, 1, 1, 0], [1, 0, 1, 0, 0, 1, 0, 1, 1, 0, 1, 1, 0], [1, 0, 1, 0, 0, 1, 0, 1, 1, 0, 1, 1, 0], [1, 0, 1, 0, 0, 1, 0, 1, 1, 0, 1, 1, 0], [1, 0, 1, 0, 0, 1, 0, 1, 1, 0, 1, 1, 0], [1, 0, 1, 0, 0, 1, 0, 1, 1, 0, 1, 1, 0], [1, 0, 1, 0, 0, 1, 0, 1, 1, 0, 1, 1, 0], [1, 0, 1, 0, 0, 1, 0, 1, 1, 0, 1, 1, 0], [1, 0, 1, 0, 0, 1, 0, 1, 1, 0, 1, 1, 0], [1, 0, 1, 0, 0, 1, 0, 1, 1, 0, 1, 1, 0], [1, 0, 1, 0, 0, 1, 0, 1, 1, 0, 1, 1, 0], [1, 0, 1, 0, 0, 1, 0, 1, 1, 0, 1, 1, 0], [1, 0, 1, 0, 0, 1, 0, 1, 1, 0, 1, 1, 0], [1, 0, 1, 0, 0, 1, 0, 1, 1, 0, 1, 1, 0]]}],\n",
       "                        {\"template\": {\"data\": {\"bar\": [{\"error_x\": {\"color\": \"#2a3f5f\"}, \"error_y\": {\"color\": \"#2a3f5f\"}, \"marker\": {\"line\": {\"color\": \"#E5ECF6\", \"width\": 0.5}}, \"type\": \"bar\"}], \"barpolar\": [{\"marker\": {\"line\": {\"color\": \"#E5ECF6\", \"width\": 0.5}}, \"type\": \"barpolar\"}], \"carpet\": [{\"aaxis\": {\"endlinecolor\": \"#2a3f5f\", \"gridcolor\": \"white\", \"linecolor\": \"white\", \"minorgridcolor\": \"white\", \"startlinecolor\": \"#2a3f5f\"}, \"baxis\": {\"endlinecolor\": \"#2a3f5f\", \"gridcolor\": \"white\", \"linecolor\": \"white\", \"minorgridcolor\": \"white\", \"startlinecolor\": \"#2a3f5f\"}, \"type\": \"carpet\"}], \"choropleth\": [{\"colorbar\": {\"outlinewidth\": 0, \"ticks\": \"\"}, \"type\": \"choropleth\"}], \"contour\": [{\"colorbar\": {\"outlinewidth\": 0, \"ticks\": \"\"}, \"colorscale\": [[0.0, \"#0d0887\"], [0.1111111111111111, \"#46039f\"], [0.2222222222222222, \"#7201a8\"], [0.3333333333333333, \"#9c179e\"], [0.4444444444444444, \"#bd3786\"], [0.5555555555555556, \"#d8576b\"], [0.6666666666666666, \"#ed7953\"], [0.7777777777777778, \"#fb9f3a\"], [0.8888888888888888, \"#fdca26\"], [1.0, \"#f0f921\"]], \"type\": \"contour\"}], \"contourcarpet\": [{\"colorbar\": {\"outlinewidth\": 0, \"ticks\": \"\"}, \"type\": \"contourcarpet\"}], \"heatmap\": [{\"colorbar\": {\"outlinewidth\": 0, \"ticks\": \"\"}, \"colorscale\": [[0.0, \"#0d0887\"], [0.1111111111111111, \"#46039f\"], [0.2222222222222222, \"#7201a8\"], [0.3333333333333333, \"#9c179e\"], [0.4444444444444444, \"#bd3786\"], [0.5555555555555556, \"#d8576b\"], [0.6666666666666666, \"#ed7953\"], [0.7777777777777778, \"#fb9f3a\"], [0.8888888888888888, \"#fdca26\"], [1.0, \"#f0f921\"]], \"type\": \"heatmap\"}], \"heatmapgl\": [{\"colorbar\": {\"outlinewidth\": 0, \"ticks\": \"\"}, \"colorscale\": [[0.0, \"#0d0887\"], [0.1111111111111111, \"#46039f\"], [0.2222222222222222, \"#7201a8\"], [0.3333333333333333, \"#9c179e\"], [0.4444444444444444, \"#bd3786\"], [0.5555555555555556, \"#d8576b\"], [0.6666666666666666, \"#ed7953\"], [0.7777777777777778, \"#fb9f3a\"], [0.8888888888888888, \"#fdca26\"], [1.0, \"#f0f921\"]], \"type\": \"heatmapgl\"}], \"histogram\": [{\"marker\": {\"colorbar\": {\"outlinewidth\": 0, \"ticks\": \"\"}}, \"type\": \"histogram\"}], \"histogram2d\": [{\"colorbar\": {\"outlinewidth\": 0, \"ticks\": \"\"}, \"colorscale\": [[0.0, \"#0d0887\"], [0.1111111111111111, \"#46039f\"], [0.2222222222222222, \"#7201a8\"], [0.3333333333333333, \"#9c179e\"], [0.4444444444444444, \"#bd3786\"], [0.5555555555555556, \"#d8576b\"], [0.6666666666666666, \"#ed7953\"], [0.7777777777777778, \"#fb9f3a\"], [0.8888888888888888, \"#fdca26\"], [1.0, \"#f0f921\"]], \"type\": \"histogram2d\"}], \"histogram2dcontour\": [{\"colorbar\": {\"outlinewidth\": 0, \"ticks\": \"\"}, \"colorscale\": [[0.0, \"#0d0887\"], [0.1111111111111111, \"#46039f\"], [0.2222222222222222, \"#7201a8\"], [0.3333333333333333, \"#9c179e\"], [0.4444444444444444, \"#bd3786\"], [0.5555555555555556, \"#d8576b\"], [0.6666666666666666, \"#ed7953\"], [0.7777777777777778, \"#fb9f3a\"], [0.8888888888888888, \"#fdca26\"], [1.0, \"#f0f921\"]], \"type\": \"histogram2dcontour\"}], \"mesh3d\": [{\"colorbar\": {\"outlinewidth\": 0, \"ticks\": \"\"}, \"type\": \"mesh3d\"}], \"parcoords\": [{\"line\": {\"colorbar\": {\"outlinewidth\": 0, \"ticks\": \"\"}}, \"type\": \"parcoords\"}], \"pie\": [{\"automargin\": true, \"type\": \"pie\"}], \"scatter\": [{\"marker\": {\"colorbar\": {\"outlinewidth\": 0, \"ticks\": \"\"}}, \"type\": \"scatter\"}], \"scatter3d\": [{\"line\": {\"colorbar\": {\"outlinewidth\": 0, \"ticks\": \"\"}}, \"marker\": {\"colorbar\": {\"outlinewidth\": 0, \"ticks\": \"\"}}, \"type\": \"scatter3d\"}], \"scattercarpet\": [{\"marker\": {\"colorbar\": {\"outlinewidth\": 0, \"ticks\": \"\"}}, \"type\": \"scattercarpet\"}], \"scattergeo\": [{\"marker\": {\"colorbar\": {\"outlinewidth\": 0, \"ticks\": \"\"}}, \"type\": \"scattergeo\"}], \"scattergl\": [{\"marker\": {\"colorbar\": {\"outlinewidth\": 0, \"ticks\": \"\"}}, \"type\": \"scattergl\"}], \"scattermapbox\": [{\"marker\": {\"colorbar\": {\"outlinewidth\": 0, \"ticks\": \"\"}}, \"type\": \"scattermapbox\"}], \"scatterpolar\": [{\"marker\": {\"colorbar\": {\"outlinewidth\": 0, \"ticks\": \"\"}}, \"type\": \"scatterpolar\"}], \"scatterpolargl\": [{\"marker\": {\"colorbar\": {\"outlinewidth\": 0, \"ticks\": \"\"}}, \"type\": \"scatterpolargl\"}], \"scatterternary\": [{\"marker\": {\"colorbar\": {\"outlinewidth\": 0, \"ticks\": \"\"}}, \"type\": \"scatterternary\"}], \"surface\": [{\"colorbar\": {\"outlinewidth\": 0, \"ticks\": \"\"}, \"colorscale\": [[0.0, \"#0d0887\"], [0.1111111111111111, \"#46039f\"], [0.2222222222222222, \"#7201a8\"], [0.3333333333333333, \"#9c179e\"], [0.4444444444444444, \"#bd3786\"], [0.5555555555555556, \"#d8576b\"], [0.6666666666666666, \"#ed7953\"], [0.7777777777777778, \"#fb9f3a\"], [0.8888888888888888, \"#fdca26\"], [1.0, \"#f0f921\"]], \"type\": \"surface\"}], \"table\": [{\"cells\": {\"fill\": {\"color\": \"#EBF0F8\"}, \"line\": {\"color\": \"white\"}}, \"header\": {\"fill\": {\"color\": \"#C8D4E3\"}, \"line\": {\"color\": \"white\"}}, \"type\": \"table\"}]}, \"layout\": {\"annotationdefaults\": {\"arrowcolor\": \"#2a3f5f\", \"arrowhead\": 0, \"arrowwidth\": 1}, \"coloraxis\": {\"colorbar\": {\"outlinewidth\": 0, \"ticks\": \"\"}}, \"colorscale\": {\"diverging\": [[0, \"#8e0152\"], [0.1, \"#c51b7d\"], [0.2, \"#de77ae\"], [0.3, \"#f1b6da\"], [0.4, \"#fde0ef\"], [0.5, \"#f7f7f7\"], [0.6, \"#e6f5d0\"], [0.7, \"#b8e186\"], [0.8, \"#7fbc41\"], [0.9, \"#4d9221\"], [1, \"#276419\"]], \"sequential\": [[0.0, \"#0d0887\"], [0.1111111111111111, \"#46039f\"], [0.2222222222222222, \"#7201a8\"], [0.3333333333333333, \"#9c179e\"], [0.4444444444444444, \"#bd3786\"], [0.5555555555555556, \"#d8576b\"], [0.6666666666666666, \"#ed7953\"], [0.7777777777777778, \"#fb9f3a\"], [0.8888888888888888, \"#fdca26\"], [1.0, \"#f0f921\"]], \"sequentialminus\": [[0.0, \"#0d0887\"], [0.1111111111111111, \"#46039f\"], [0.2222222222222222, \"#7201a8\"], [0.3333333333333333, \"#9c179e\"], [0.4444444444444444, \"#bd3786\"], [0.5555555555555556, \"#d8576b\"], [0.6666666666666666, \"#ed7953\"], [0.7777777777777778, \"#fb9f3a\"], [0.8888888888888888, \"#fdca26\"], [1.0, \"#f0f921\"]]}, \"colorway\": [\"#636efa\", \"#EF553B\", \"#00cc96\", \"#ab63fa\", \"#FFA15A\", \"#19d3f3\", \"#FF6692\", \"#B6E880\", \"#FF97FF\", \"#FECB52\"], \"font\": {\"color\": \"#2a3f5f\"}, \"geo\": {\"bgcolor\": \"white\", \"lakecolor\": \"white\", \"landcolor\": \"#E5ECF6\", \"showlakes\": true, \"showland\": true, \"subunitcolor\": \"white\"}, \"hoverlabel\": {\"align\": \"left\"}, \"hovermode\": \"closest\", \"mapbox\": {\"style\": \"light\"}, \"paper_bgcolor\": \"white\", \"plot_bgcolor\": \"#E5ECF6\", \"polar\": {\"angularaxis\": {\"gridcolor\": \"white\", \"linecolor\": \"white\", \"ticks\": \"\"}, \"bgcolor\": \"#E5ECF6\", \"radialaxis\": {\"gridcolor\": \"white\", \"linecolor\": \"white\", \"ticks\": \"\"}}, \"scene\": {\"xaxis\": {\"backgroundcolor\": \"#E5ECF6\", \"gridcolor\": \"white\", \"gridwidth\": 2, \"linecolor\": \"white\", \"showbackground\": true, \"ticks\": \"\", \"zerolinecolor\": \"white\"}, \"yaxis\": {\"backgroundcolor\": \"#E5ECF6\", \"gridcolor\": \"white\", \"gridwidth\": 2, \"linecolor\": \"white\", \"showbackground\": true, \"ticks\": \"\", \"zerolinecolor\": \"white\"}, \"zaxis\": {\"backgroundcolor\": \"#E5ECF6\", \"gridcolor\": \"white\", \"gridwidth\": 2, \"linecolor\": \"white\", \"showbackground\": true, \"ticks\": \"\", \"zerolinecolor\": \"white\"}}, \"shapedefaults\": {\"line\": {\"color\": \"#2a3f5f\"}}, \"ternary\": {\"aaxis\": {\"gridcolor\": \"white\", \"linecolor\": \"white\", \"ticks\": \"\"}, \"baxis\": {\"gridcolor\": \"white\", \"linecolor\": \"white\", \"ticks\": \"\"}, \"bgcolor\": \"#E5ECF6\", \"caxis\": {\"gridcolor\": \"white\", \"linecolor\": \"white\", \"ticks\": \"\"}}, \"title\": {\"x\": 0.05}, \"xaxis\": {\"automargin\": true, \"gridcolor\": \"white\", \"linecolor\": \"white\", \"ticks\": \"\", \"title\": {\"standoff\": 15}, \"zerolinecolor\": \"white\", \"zerolinewidth\": 2}, \"yaxis\": {\"automargin\": true, \"gridcolor\": \"white\", \"linecolor\": \"white\", \"ticks\": \"\", \"title\": {\"standoff\": 15}, \"zerolinecolor\": \"white\", \"zerolinewidth\": 2}}}, \"title\": {\"text\": \"Missing values Matrix\", \"x\": 0.5, \"xanchor\": \"center\", \"y\": 0.95, \"yanchor\": \"top\"}, \"xaxis\": {\"tickangle\": 45, \"title\": {\"text\": \"Columns\"}}, \"yaxis\": {\"range\": [1005, 0], \"title\": {\"text\": \"Row Index\"}}},\n",
       "                        {\"responsive\": true}\n",
       "                    ).then(function(){\n",
       "                            \n",
       "var gd = document.getElementById('a13b1305-eb44-426d-a79d-f5ef716716a4');\n",
       "var x = new MutationObserver(function (mutations, observer) {{\n",
       "        var display = window.getComputedStyle(gd).display;\n",
       "        if (!display || display === 'none') {{\n",
       "            console.log([gd, 'removed!']);\n",
       "            Plotly.purge(gd);\n",
       "            observer.disconnect();\n",
       "        }}\n",
       "}});\n",
       "\n",
       "// Listen for the removal of the full notebook cells\n",
       "var notebookContainer = gd.closest('#notebook-container');\n",
       "if (notebookContainer) {{\n",
       "    x.observe(notebookContainer, {childList: true});\n",
       "}}\n",
       "\n",
       "// Listen for the clearing of the current output cell\n",
       "var outputEl = gd.closest('.output');\n",
       "if (outputEl) {{\n",
       "    x.observe(outputEl, {childList: true});\n",
       "}}\n",
       "\n",
       "                        })\n",
       "                };\n",
       "                });\n",
       "            </script>\n",
       "        </div>"
      ]
     },
     "metadata": {},
     "output_type": "display_data"
    }
   ],
   "source": [
    "fig = go.Figure(\n",
    "        go.Heatmap(\n",
    "            z=df.isnull().astype(int),\n",
    "            x=df.columns,\n",
    "            y=df.index.values,\n",
    "            colorscale='Greys',\n",
    "            reversescale=True,\n",
    "            showscale=False))\n",
    "\n",
    "fig.update_layout(\n",
    "    title={'text': 'Missing values Matrix',\n",
    "             'y':0.95, 'x':0.5,\n",
    "            'xanchor': 'center', 'yanchor': 'top'},\n",
    "    xaxis=dict(tickangle=45, title='Columns'),\n",
    "    yaxis=dict(range=[np.max(df.index.values), np.min(df.index.values)], title='Row Index'),\n",
    "    )\n",
    "fig.show()\n",
    "\n"
   ]
  },
  {
   "cell_type": "markdown",
   "metadata": {},
   "source": [
    "Checking this numerically we get what we espected:"
   ]
  },
  {
   "cell_type": "code",
   "execution_count": 6,
   "metadata": {},
   "outputs": [
    {
     "data": {
      "text/plain": [
       "3    757\n",
       "0    249\n",
       "dtype: int64"
      ]
     },
     "execution_count": 6,
     "metadata": {},
     "output_type": "execute_result"
    }
   ],
   "source": [
    "df.drop(['city', 'body', 'order', 'district'], axis=1, inplace=True)\n",
    "((df[['source', 'date', 'endorsee']].isnull()).astype(int).sum(axis=1)).value_counts()"
   ]
  },
  {
   "cell_type": "markdown",
   "metadata": {},
   "source": [
    "Let's do some preprocess for filling and/or mapping *source*, *endorsee* and *state* columns."
   ]
  },
  {
   "cell_type": "code",
   "execution_count": 7,
   "metadata": {
    "_kg_hide-input": false
   },
   "outputs": [
    {
     "name": "stdout",
     "output_type": "stream",
     "text": [
      "Dataset Shape: (1006, 9)\n"
     ]
    },
    {
     "data": {
      "text/html": [
       "<div>\n",
       "<style scoped>\n",
       "    .dataframe tbody tr th:only-of-type {\n",
       "        vertical-align: middle;\n",
       "    }\n",
       "\n",
       "    .dataframe tbody tr th {\n",
       "        vertical-align: top;\n",
       "    }\n",
       "\n",
       "    .dataframe thead th {\n",
       "        text-align: right;\n",
       "    }\n",
       "</style>\n",
       "<table border=\"1\" class=\"dataframe\">\n",
       "  <thead>\n",
       "    <tr style=\"text-align: right;\">\n",
       "      <th></th>\n",
       "      <th>Name</th>\n",
       "      <th>dtypes</th>\n",
       "      <th>Missing</th>\n",
       "      <th>Uniques</th>\n",
       "    </tr>\n",
       "  </thead>\n",
       "  <tbody>\n",
       "    <tr>\n",
       "      <th>0</th>\n",
       "      <td>date</td>\n",
       "      <td>object</td>\n",
       "      <td>757</td>\n",
       "      <td>135</td>\n",
       "    </tr>\n",
       "    <tr>\n",
       "      <th>1</th>\n",
       "      <td>position</td>\n",
       "      <td>object</td>\n",
       "      <td>0</td>\n",
       "      <td>51</td>\n",
       "    </tr>\n",
       "    <tr>\n",
       "      <th>2</th>\n",
       "      <td>state</td>\n",
       "      <td>object</td>\n",
       "      <td>0</td>\n",
       "      <td>57</td>\n",
       "    </tr>\n",
       "    <tr>\n",
       "      <th>3</th>\n",
       "      <td>endorser</td>\n",
       "      <td>object</td>\n",
       "      <td>0</td>\n",
       "      <td>1006</td>\n",
       "    </tr>\n",
       "    <tr>\n",
       "      <th>4</th>\n",
       "      <td>endorsee</td>\n",
       "      <td>object</td>\n",
       "      <td>0</td>\n",
       "      <td>17</td>\n",
       "    </tr>\n",
       "    <tr>\n",
       "      <th>5</th>\n",
       "      <td>party</td>\n",
       "      <td>object</td>\n",
       "      <td>0</td>\n",
       "      <td>5</td>\n",
       "    </tr>\n",
       "    <tr>\n",
       "      <th>6</th>\n",
       "      <td>category</td>\n",
       "      <td>object</td>\n",
       "      <td>0</td>\n",
       "      <td>12</td>\n",
       "    </tr>\n",
       "    <tr>\n",
       "      <th>7</th>\n",
       "      <td>points</td>\n",
       "      <td>int64</td>\n",
       "      <td>0</td>\n",
       "      <td>7</td>\n",
       "    </tr>\n",
       "    <tr>\n",
       "      <th>8</th>\n",
       "      <td>source</td>\n",
       "      <td>object</td>\n",
       "      <td>0</td>\n",
       "      <td>7</td>\n",
       "    </tr>\n",
       "  </tbody>\n",
       "</table>\n",
       "</div>"
      ],
      "text/plain": [
       "       Name  dtypes  Missing  Uniques\n",
       "0      date  object      757      135\n",
       "1  position  object        0       51\n",
       "2     state  object        0       57\n",
       "3  endorser  object        0     1006\n",
       "4  endorsee  object        0       17\n",
       "5     party  object        0        5\n",
       "6  category  object        0       12\n",
       "7    points   int64        0        7\n",
       "8    source  object        0        7"
      ]
     },
     "execution_count": 7,
     "metadata": {},
     "output_type": "execute_result"
    }
   ],
   "source": [
    "df.rename(columns={'source': 'raw_source'}, inplace=True)\n",
    "df['raw_source'] = df.loc[:,'raw_source'].fillna('other')\n",
    "df['source'] = 'other'\n",
    "\n",
    "keys=['twitter', 'politico', 'youtube', '4president', 'cnn', 'apnews']\n",
    "\n",
    "for k in keys:\n",
    "    df['source'] =  np.where(df['raw_source'].str.contains(k), k,  df['source'])\n",
    "    \n",
    "df.drop('raw_source', axis=1, inplace=True)\n",
    "df['endorsee'] = df.loc[:,'endorsee'].fillna('no_endorsee')\n",
    "df['party'] = df.loc[:, 'party'].fillna('None')\n",
    "resumetable(df)"
   ]
  },
  {
   "cell_type": "code",
   "execution_count": 8,
   "metadata": {
    "_kg_hide-input": true
   },
   "outputs": [],
   "source": [
    "state_to_s = {\n",
    " 'Alabama': 'AL',\n",
    " 'Alaska':'AK',\n",
    " 'Arizona':'AZ',\n",
    " 'Arkansas':'AR',\n",
    " 'California':'CA',\n",
    " 'Colorado':'CO',\n",
    " 'Connecticut':'CT',\n",
    " 'Delaware':'DE',\n",
    " 'Florida':'FL',\n",
    " 'Georgia':'GA',\n",
    " 'Hawaii':'HI',\n",
    " 'Idaho':'ID',\n",
    " 'Illinois':'IL',\n",
    " 'Indiana':'IN',\n",
    " 'Iowa':'IA',\n",
    " 'Kansas':'KS',\n",
    " 'Kentucky':'KY',\n",
    " 'Louisiana':'LA',\n",
    " 'Maine':'ME',\n",
    " 'Maryland':'MD',\n",
    " 'Massachusetts':'MA',\n",
    " 'Michigan':'MI',\n",
    " 'Minnesota':'MN',\n",
    " 'Mississippi':'MS',\n",
    " 'Missouri':'MO',\n",
    " 'Montana':'MT',\n",
    " 'Nebraska':'NE',\n",
    " 'Nevada':'NV',\n",
    " 'New Hampshire':'NH',\n",
    " 'New Jersey':'NJ',\n",
    " 'New Mexico':'NM',\n",
    " 'New York':'NY',\n",
    " 'North Carolina' :'NC',\n",
    " 'North Dakota':'ND',\n",
    " 'Ohio':'OH',\n",
    " 'Oklahoma':'OK',\n",
    " 'Oregon':'OR',\n",
    " 'Pennsylvania':'PA',\n",
    " 'Rhode Island':'RI',\n",
    " 'South Carolina':'SC',\n",
    " 'South Dakota':'SD',\n",
    " 'Tennessee':'TN',\n",
    " 'Texas':'TX',\n",
    " 'Utah':'UT',\n",
    " 'Vermont':'VT',\n",
    " 'Virginia':'VA',\n",
    " 'Washington':'WA',\n",
    " 'West Virginia':'WV',\n",
    " 'Wisconsin':'WI',\n",
    " 'Wyoming':'WY',\n",
    " 'District of Columbia':'DC',\n",
    " 'Marshall Islands':'MH'}\n",
    "\n",
    "s_to_state = {}\n",
    "\n",
    "for k,v in state_to_s.items():\n",
    "    s_to_state[v]=k\n",
    "    \n",
    "df['full_state'] = df['state'].map(s_to_state)"
   ]
  },
  {
   "cell_type": "markdown",
   "metadata": {},
   "source": [
    "<a id=\"endorsee\"></a>\n",
    "# Endorsee Anlysis\n",
    "\n",
    "Let's start to analyze and confront endorsees."
   ]
  },
  {
   "cell_type": "code",
   "execution_count": 9,
   "metadata": {
    "_kg_hide-input": true
   },
   "outputs": [
    {
     "data": {
      "text/html": [
       "<div>\n",
       "<style scoped>\n",
       "    .dataframe tbody tr th:only-of-type {\n",
       "        vertical-align: middle;\n",
       "    }\n",
       "\n",
       "    .dataframe tbody tr th {\n",
       "        vertical-align: top;\n",
       "    }\n",
       "\n",
       "    .dataframe thead th {\n",
       "        text-align: right;\n",
       "    }\n",
       "</style>\n",
       "<table border=\"1\" class=\"dataframe\">\n",
       "  <thead>\n",
       "    <tr style=\"text-align: right;\">\n",
       "      <th></th>\n",
       "      <th>date</th>\n",
       "      <th>position</th>\n",
       "      <th>state</th>\n",
       "      <th>endorser</th>\n",
       "      <th>endorsee</th>\n",
       "      <th>party</th>\n",
       "      <th>category</th>\n",
       "      <th>points</th>\n",
       "      <th>source</th>\n",
       "      <th>full_state</th>\n",
       "    </tr>\n",
       "  </thead>\n",
       "  <tbody>\n",
       "    <tr>\n",
       "      <th>0</th>\n",
       "      <td>2017-07-28</td>\n",
       "      <td>representative</td>\n",
       "      <td>MD</td>\n",
       "      <td>David Trone</td>\n",
       "      <td>Delaney</td>\n",
       "      <td>D</td>\n",
       "      <td>Representatives</td>\n",
       "      <td>3</td>\n",
       "      <td>twitter</td>\n",
       "      <td>Maryland</td>\n",
       "    </tr>\n",
       "    <tr>\n",
       "      <th>1</th>\n",
       "      <td>2019-01-02</td>\n",
       "      <td>governor</td>\n",
       "      <td>NY</td>\n",
       "      <td>Andrew Cuomo</td>\n",
       "      <td>Biden</td>\n",
       "      <td>D</td>\n",
       "      <td>Governors</td>\n",
       "      <td>8</td>\n",
       "      <td>cnn</td>\n",
       "      <td>New York</td>\n",
       "    </tr>\n",
       "    <tr>\n",
       "      <th>2</th>\n",
       "      <td>2019-01-03</td>\n",
       "      <td>senator</td>\n",
       "      <td>CA</td>\n",
       "      <td>Dianne Feinstein</td>\n",
       "      <td>Biden</td>\n",
       "      <td>D</td>\n",
       "      <td>Senators</td>\n",
       "      <td>6</td>\n",
       "      <td>politico</td>\n",
       "      <td>California</td>\n",
       "    </tr>\n",
       "    <tr>\n",
       "      <th>3</th>\n",
       "      <td>2019-01-08</td>\n",
       "      <td>senator</td>\n",
       "      <td>DE</td>\n",
       "      <td>Thomas R. Carper</td>\n",
       "      <td>Biden</td>\n",
       "      <td>D</td>\n",
       "      <td>Senators</td>\n",
       "      <td>6</td>\n",
       "      <td>other</td>\n",
       "      <td>Delaware</td>\n",
       "    </tr>\n",
       "    <tr>\n",
       "      <th>4</th>\n",
       "      <td>2019-01-12</td>\n",
       "      <td>mayor</td>\n",
       "      <td>TX</td>\n",
       "      <td>Ron Nirenberg</td>\n",
       "      <td>Castro</td>\n",
       "      <td>None</td>\n",
       "      <td>Mayors</td>\n",
       "      <td>3</td>\n",
       "      <td>other</td>\n",
       "      <td>Texas</td>\n",
       "    </tr>\n",
       "    <tr>\n",
       "      <th>5</th>\n",
       "      <td>2019-01-21</td>\n",
       "      <td>DNC member</td>\n",
       "      <td>CA</td>\n",
       "      <td>Laphonza Butler</td>\n",
       "      <td>Harris</td>\n",
       "      <td>D</td>\n",
       "      <td>DNC members</td>\n",
       "      <td>1</td>\n",
       "      <td>politico</td>\n",
       "      <td>California</td>\n",
       "    </tr>\n",
       "    <tr>\n",
       "      <th>6</th>\n",
       "      <td>2019-01-25</td>\n",
       "      <td>DNC member</td>\n",
       "      <td>DC</td>\n",
       "      <td>James J. Zogby</td>\n",
       "      <td>Sanders</td>\n",
       "      <td>D</td>\n",
       "      <td>DNC members</td>\n",
       "      <td>1</td>\n",
       "      <td>twitter</td>\n",
       "      <td>District of Columbia</td>\n",
       "    </tr>\n",
       "    <tr>\n",
       "      <th>7</th>\n",
       "      <td>2019-01-27</td>\n",
       "      <td>lieutenant governor</td>\n",
       "      <td>CA</td>\n",
       "      <td>Eleni Kounalakis</td>\n",
       "      <td>Harris</td>\n",
       "      <td>D</td>\n",
       "      <td>Statewide officeholders</td>\n",
       "      <td>2</td>\n",
       "      <td>twitter</td>\n",
       "      <td>California</td>\n",
       "    </tr>\n",
       "    <tr>\n",
       "      <th>8</th>\n",
       "      <td>2019-01-27</td>\n",
       "      <td>mayor</td>\n",
       "      <td>CA</td>\n",
       "      <td>Libby Schaaf</td>\n",
       "      <td>Harris</td>\n",
       "      <td>D</td>\n",
       "      <td>Mayors</td>\n",
       "      <td>3</td>\n",
       "      <td>other</td>\n",
       "      <td>California</td>\n",
       "    </tr>\n",
       "    <tr>\n",
       "      <th>9</th>\n",
       "      <td>2019-01-28</td>\n",
       "      <td>representative</td>\n",
       "      <td>CA</td>\n",
       "      <td>Ted Lieu</td>\n",
       "      <td>Harris</td>\n",
       "      <td>D</td>\n",
       "      <td>Representatives</td>\n",
       "      <td>3</td>\n",
       "      <td>other</td>\n",
       "      <td>California</td>\n",
       "    </tr>\n",
       "  </tbody>\n",
       "</table>\n",
       "</div>"
      ],
      "text/plain": [
       "         date             position state          endorser endorsee party  \\\n",
       "0  2017-07-28       representative    MD       David Trone  Delaney     D   \n",
       "1  2019-01-02             governor    NY      Andrew Cuomo    Biden     D   \n",
       "2  2019-01-03              senator    CA  Dianne Feinstein    Biden     D   \n",
       "3  2019-01-08              senator    DE  Thomas R. Carper    Biden     D   \n",
       "4  2019-01-12                mayor    TX     Ron Nirenberg   Castro  None   \n",
       "5  2019-01-21           DNC member    CA   Laphonza Butler   Harris     D   \n",
       "6  2019-01-25           DNC member    DC    James J. Zogby  Sanders     D   \n",
       "7  2019-01-27  lieutenant governor    CA  Eleni Kounalakis   Harris     D   \n",
       "8  2019-01-27                mayor    CA      Libby Schaaf   Harris     D   \n",
       "9  2019-01-28       representative    CA          Ted Lieu   Harris     D   \n",
       "\n",
       "                  category  points    source            full_state  \n",
       "0          Representatives       3   twitter              Maryland  \n",
       "1                Governors       8       cnn              New York  \n",
       "2                 Senators       6  politico            California  \n",
       "3                 Senators       6     other              Delaware  \n",
       "4                   Mayors       3     other                 Texas  \n",
       "5              DNC members       1  politico            California  \n",
       "6              DNC members       1   twitter  District of Columbia  \n",
       "7  Statewide officeholders       2   twitter            California  \n",
       "8                   Mayors       3     other            California  \n",
       "9          Representatives       3     other            California  "
      ]
     },
     "execution_count": 9,
     "metadata": {},
     "output_type": "execute_result"
    }
   ],
   "source": [
    "endorsee_df = df[df['endorsee']!='no_endorsee']\n",
    "endorsee_df['endorsee'] = endorsee_df['endorsee'].str.split(' ').apply(lambda r: r[-1])\n",
    "endorsee_df.head(10)"
   ]
  },
  {
   "cell_type": "code",
   "execution_count": 10,
   "metadata": {
    "_kg_hide-input": true
   },
   "outputs": [],
   "source": [
    "end_df = endorsee_df.groupby('endorsee').agg({'endorser': 'count', 'points': 'sum'})\n",
    "\n",
    "end_df.rename(columns={'endorser': 'n_endorsements',\n",
    "                       'points': 'tot_points'},\n",
    "              inplace=True)\n",
    "\n",
    "end_df['points_endorser_ratio'] = np.round(np.divide(end_df['tot_points'].to_numpy(), end_df['n_endorsements'].to_numpy()), 2)\n",
    "end_df.reset_index(inplace=True)"
   ]
  },
  {
   "cell_type": "code",
   "execution_count": 11,
   "metadata": {
    "_kg_hide-input": true
   },
   "outputs": [
    {
     "data": {
      "application/vnd.plotly.v1+json": {
       "config": {
        "plotlyServerURL": "https://plot.ly"
       },
       "data": [
        {
         "marker": {
          "color": [
           3.75,
           3.11,
           2.78,
           2.57,
           3.5,
           2.57,
           2.0,
           3.0,
           3.0,
           2.75,
           2.75,
           3.79,
           3.0,
           2.04,
           1.0,
           2.64
          ],
          "colorscale": [
           [
            0.0,
            "rgb(0, 128, 128)"
           ],
           [
            0.16666666666666666,
            "rgb(112, 164, 148)"
           ],
           [
            0.3333333333333333,
            "rgb(180, 200, 168)"
           ],
           [
            0.5,
            "rgb(246, 237, 189)"
           ],
           [
            0.6666666666666666,
            "rgb(237, 187, 138)"
           ],
           [
            0.8333333333333334,
            "rgb(222, 138, 90)"
           ],
           [
            1.0,
            "rgb(202, 86, 44)"
           ]
          ],
          "opacity": 0.7,
          "size": [
           45.5625,
           37.33209999999999,
           33.40839999999999,
           31.024900000000002,
           42.25,
           31.024900000000002,
           25.0,
           36.0,
           36.0,
           33.0625,
           33.0625,
           46.1041,
           36.0,
           25.401600000000002,
           16.0,
           31.809600000000007
          ]
         },
         "mode": "markers+text",
         "text": [
          "Bennet",
          "Biden",
          "Bloomberg",
          "Booker",
          "Bullock",
          "Buttigieg",
          "Castro",
          "Delaney",
          "Gillibrand",
          "Harris",
          "Inslee",
          "Klobuchar",
          "O'Rourke",
          "Sanders",
          "Steyer",
          "Warren"
         ],
         "textposition": "bottom right",
         "type": "scatter",
         "x": [
          4,
          81,
          18,
          21,
          2,
          14,
          2,
          2,
          1,
          24,
          4,
          14,
          1,
          27,
          1,
          33
         ],
         "y": [
          15,
          252,
          50,
          54,
          7,
          36,
          4,
          6,
          3,
          66,
          11,
          53,
          3,
          55,
          1,
          87
         ]
        }
       ],
       "layout": {
        "annotations": [
         {
          "align": "left",
          "showarrow": false,
          "text": "Select Axis Scale",
          "x": -0.2,
          "xref": "paper",
          "y": 1.13,
          "yref": "paper"
         }
        ],
        "showlegend": false,
        "template": {
         "data": {
          "bar": [
           {
            "error_x": {
             "color": "#2a3f5f"
            },
            "error_y": {
             "color": "#2a3f5f"
            },
            "marker": {
             "line": {
              "color": "#E5ECF6",
              "width": 0.5
             }
            },
            "type": "bar"
           }
          ],
          "barpolar": [
           {
            "marker": {
             "line": {
              "color": "#E5ECF6",
              "width": 0.5
             }
            },
            "type": "barpolar"
           }
          ],
          "carpet": [
           {
            "aaxis": {
             "endlinecolor": "#2a3f5f",
             "gridcolor": "white",
             "linecolor": "white",
             "minorgridcolor": "white",
             "startlinecolor": "#2a3f5f"
            },
            "baxis": {
             "endlinecolor": "#2a3f5f",
             "gridcolor": "white",
             "linecolor": "white",
             "minorgridcolor": "white",
             "startlinecolor": "#2a3f5f"
            },
            "type": "carpet"
           }
          ],
          "choropleth": [
           {
            "colorbar": {
             "outlinewidth": 0,
             "ticks": ""
            },
            "type": "choropleth"
           }
          ],
          "contour": [
           {
            "colorbar": {
             "outlinewidth": 0,
             "ticks": ""
            },
            "colorscale": [
             [
              0.0,
              "#0d0887"
             ],
             [
              0.1111111111111111,
              "#46039f"
             ],
             [
              0.2222222222222222,
              "#7201a8"
             ],
             [
              0.3333333333333333,
              "#9c179e"
             ],
             [
              0.4444444444444444,
              "#bd3786"
             ],
             [
              0.5555555555555556,
              "#d8576b"
             ],
             [
              0.6666666666666666,
              "#ed7953"
             ],
             [
              0.7777777777777778,
              "#fb9f3a"
             ],
             [
              0.8888888888888888,
              "#fdca26"
             ],
             [
              1.0,
              "#f0f921"
             ]
            ],
            "type": "contour"
           }
          ],
          "contourcarpet": [
           {
            "colorbar": {
             "outlinewidth": 0,
             "ticks": ""
            },
            "type": "contourcarpet"
           }
          ],
          "heatmap": [
           {
            "colorbar": {
             "outlinewidth": 0,
             "ticks": ""
            },
            "colorscale": [
             [
              0.0,
              "#0d0887"
             ],
             [
              0.1111111111111111,
              "#46039f"
             ],
             [
              0.2222222222222222,
              "#7201a8"
             ],
             [
              0.3333333333333333,
              "#9c179e"
             ],
             [
              0.4444444444444444,
              "#bd3786"
             ],
             [
              0.5555555555555556,
              "#d8576b"
             ],
             [
              0.6666666666666666,
              "#ed7953"
             ],
             [
              0.7777777777777778,
              "#fb9f3a"
             ],
             [
              0.8888888888888888,
              "#fdca26"
             ],
             [
              1.0,
              "#f0f921"
             ]
            ],
            "type": "heatmap"
           }
          ],
          "heatmapgl": [
           {
            "colorbar": {
             "outlinewidth": 0,
             "ticks": ""
            },
            "colorscale": [
             [
              0.0,
              "#0d0887"
             ],
             [
              0.1111111111111111,
              "#46039f"
             ],
             [
              0.2222222222222222,
              "#7201a8"
             ],
             [
              0.3333333333333333,
              "#9c179e"
             ],
             [
              0.4444444444444444,
              "#bd3786"
             ],
             [
              0.5555555555555556,
              "#d8576b"
             ],
             [
              0.6666666666666666,
              "#ed7953"
             ],
             [
              0.7777777777777778,
              "#fb9f3a"
             ],
             [
              0.8888888888888888,
              "#fdca26"
             ],
             [
              1.0,
              "#f0f921"
             ]
            ],
            "type": "heatmapgl"
           }
          ],
          "histogram": [
           {
            "marker": {
             "colorbar": {
              "outlinewidth": 0,
              "ticks": ""
             }
            },
            "type": "histogram"
           }
          ],
          "histogram2d": [
           {
            "colorbar": {
             "outlinewidth": 0,
             "ticks": ""
            },
            "colorscale": [
             [
              0.0,
              "#0d0887"
             ],
             [
              0.1111111111111111,
              "#46039f"
             ],
             [
              0.2222222222222222,
              "#7201a8"
             ],
             [
              0.3333333333333333,
              "#9c179e"
             ],
             [
              0.4444444444444444,
              "#bd3786"
             ],
             [
              0.5555555555555556,
              "#d8576b"
             ],
             [
              0.6666666666666666,
              "#ed7953"
             ],
             [
              0.7777777777777778,
              "#fb9f3a"
             ],
             [
              0.8888888888888888,
              "#fdca26"
             ],
             [
              1.0,
              "#f0f921"
             ]
            ],
            "type": "histogram2d"
           }
          ],
          "histogram2dcontour": [
           {
            "colorbar": {
             "outlinewidth": 0,
             "ticks": ""
            },
            "colorscale": [
             [
              0.0,
              "#0d0887"
             ],
             [
              0.1111111111111111,
              "#46039f"
             ],
             [
              0.2222222222222222,
              "#7201a8"
             ],
             [
              0.3333333333333333,
              "#9c179e"
             ],
             [
              0.4444444444444444,
              "#bd3786"
             ],
             [
              0.5555555555555556,
              "#d8576b"
             ],
             [
              0.6666666666666666,
              "#ed7953"
             ],
             [
              0.7777777777777778,
              "#fb9f3a"
             ],
             [
              0.8888888888888888,
              "#fdca26"
             ],
             [
              1.0,
              "#f0f921"
             ]
            ],
            "type": "histogram2dcontour"
           }
          ],
          "mesh3d": [
           {
            "colorbar": {
             "outlinewidth": 0,
             "ticks": ""
            },
            "type": "mesh3d"
           }
          ],
          "parcoords": [
           {
            "line": {
             "colorbar": {
              "outlinewidth": 0,
              "ticks": ""
             }
            },
            "type": "parcoords"
           }
          ],
          "pie": [
           {
            "automargin": true,
            "type": "pie"
           }
          ],
          "scatter": [
           {
            "marker": {
             "colorbar": {
              "outlinewidth": 0,
              "ticks": ""
             }
            },
            "type": "scatter"
           }
          ],
          "scatter3d": [
           {
            "line": {
             "colorbar": {
              "outlinewidth": 0,
              "ticks": ""
             }
            },
            "marker": {
             "colorbar": {
              "outlinewidth": 0,
              "ticks": ""
             }
            },
            "type": "scatter3d"
           }
          ],
          "scattercarpet": [
           {
            "marker": {
             "colorbar": {
              "outlinewidth": 0,
              "ticks": ""
             }
            },
            "type": "scattercarpet"
           }
          ],
          "scattergeo": [
           {
            "marker": {
             "colorbar": {
              "outlinewidth": 0,
              "ticks": ""
             }
            },
            "type": "scattergeo"
           }
          ],
          "scattergl": [
           {
            "marker": {
             "colorbar": {
              "outlinewidth": 0,
              "ticks": ""
             }
            },
            "type": "scattergl"
           }
          ],
          "scattermapbox": [
           {
            "marker": {
             "colorbar": {
              "outlinewidth": 0,
              "ticks": ""
             }
            },
            "type": "scattermapbox"
           }
          ],
          "scatterpolar": [
           {
            "marker": {
             "colorbar": {
              "outlinewidth": 0,
              "ticks": ""
             }
            },
            "type": "scatterpolar"
           }
          ],
          "scatterpolargl": [
           {
            "marker": {
             "colorbar": {
              "outlinewidth": 0,
              "ticks": ""
             }
            },
            "type": "scatterpolargl"
           }
          ],
          "scatterternary": [
           {
            "marker": {
             "colorbar": {
              "outlinewidth": 0,
              "ticks": ""
             }
            },
            "type": "scatterternary"
           }
          ],
          "surface": [
           {
            "colorbar": {
             "outlinewidth": 0,
             "ticks": ""
            },
            "colorscale": [
             [
              0.0,
              "#0d0887"
             ],
             [
              0.1111111111111111,
              "#46039f"
             ],
             [
              0.2222222222222222,
              "#7201a8"
             ],
             [
              0.3333333333333333,
              "#9c179e"
             ],
             [
              0.4444444444444444,
              "#bd3786"
             ],
             [
              0.5555555555555556,
              "#d8576b"
             ],
             [
              0.6666666666666666,
              "#ed7953"
             ],
             [
              0.7777777777777778,
              "#fb9f3a"
             ],
             [
              0.8888888888888888,
              "#fdca26"
             ],
             [
              1.0,
              "#f0f921"
             ]
            ],
            "type": "surface"
           }
          ],
          "table": [
           {
            "cells": {
             "fill": {
              "color": "#EBF0F8"
             },
             "line": {
              "color": "white"
             }
            },
            "header": {
             "fill": {
              "color": "#C8D4E3"
             },
             "line": {
              "color": "white"
             }
            },
            "type": "table"
           }
          ]
         },
         "layout": {
          "annotationdefaults": {
           "arrowcolor": "#2a3f5f",
           "arrowhead": 0,
           "arrowwidth": 1
          },
          "coloraxis": {
           "colorbar": {
            "outlinewidth": 0,
            "ticks": ""
           }
          },
          "colorscale": {
           "diverging": [
            [
             0,
             "#8e0152"
            ],
            [
             0.1,
             "#c51b7d"
            ],
            [
             0.2,
             "#de77ae"
            ],
            [
             0.3,
             "#f1b6da"
            ],
            [
             0.4,
             "#fde0ef"
            ],
            [
             0.5,
             "#f7f7f7"
            ],
            [
             0.6,
             "#e6f5d0"
            ],
            [
             0.7,
             "#b8e186"
            ],
            [
             0.8,
             "#7fbc41"
            ],
            [
             0.9,
             "#4d9221"
            ],
            [
             1,
             "#276419"
            ]
           ],
           "sequential": [
            [
             0.0,
             "#0d0887"
            ],
            [
             0.1111111111111111,
             "#46039f"
            ],
            [
             0.2222222222222222,
             "#7201a8"
            ],
            [
             0.3333333333333333,
             "#9c179e"
            ],
            [
             0.4444444444444444,
             "#bd3786"
            ],
            [
             0.5555555555555556,
             "#d8576b"
            ],
            [
             0.6666666666666666,
             "#ed7953"
            ],
            [
             0.7777777777777778,
             "#fb9f3a"
            ],
            [
             0.8888888888888888,
             "#fdca26"
            ],
            [
             1.0,
             "#f0f921"
            ]
           ],
           "sequentialminus": [
            [
             0.0,
             "#0d0887"
            ],
            [
             0.1111111111111111,
             "#46039f"
            ],
            [
             0.2222222222222222,
             "#7201a8"
            ],
            [
             0.3333333333333333,
             "#9c179e"
            ],
            [
             0.4444444444444444,
             "#bd3786"
            ],
            [
             0.5555555555555556,
             "#d8576b"
            ],
            [
             0.6666666666666666,
             "#ed7953"
            ],
            [
             0.7777777777777778,
             "#fb9f3a"
            ],
            [
             0.8888888888888888,
             "#fdca26"
            ],
            [
             1.0,
             "#f0f921"
            ]
           ]
          },
          "colorway": [
           "#636efa",
           "#EF553B",
           "#00cc96",
           "#ab63fa",
           "#FFA15A",
           "#19d3f3",
           "#FF6692",
           "#B6E880",
           "#FF97FF",
           "#FECB52"
          ],
          "font": {
           "color": "#2a3f5f"
          },
          "geo": {
           "bgcolor": "white",
           "lakecolor": "white",
           "landcolor": "#E5ECF6",
           "showlakes": true,
           "showland": true,
           "subunitcolor": "white"
          },
          "hoverlabel": {
           "align": "left"
          },
          "hovermode": "closest",
          "mapbox": {
           "style": "light"
          },
          "paper_bgcolor": "white",
          "plot_bgcolor": "#E5ECF6",
          "polar": {
           "angularaxis": {
            "gridcolor": "white",
            "linecolor": "white",
            "ticks": ""
           },
           "bgcolor": "#E5ECF6",
           "radialaxis": {
            "gridcolor": "white",
            "linecolor": "white",
            "ticks": ""
           }
          },
          "scene": {
           "xaxis": {
            "backgroundcolor": "#E5ECF6",
            "gridcolor": "white",
            "gridwidth": 2,
            "linecolor": "white",
            "showbackground": true,
            "ticks": "",
            "zerolinecolor": "white"
           },
           "yaxis": {
            "backgroundcolor": "#E5ECF6",
            "gridcolor": "white",
            "gridwidth": 2,
            "linecolor": "white",
            "showbackground": true,
            "ticks": "",
            "zerolinecolor": "white"
           },
           "zaxis": {
            "backgroundcolor": "#E5ECF6",
            "gridcolor": "white",
            "gridwidth": 2,
            "linecolor": "white",
            "showbackground": true,
            "ticks": "",
            "zerolinecolor": "white"
           }
          },
          "shapedefaults": {
           "line": {
            "color": "#2a3f5f"
           }
          },
          "ternary": {
           "aaxis": {
            "gridcolor": "white",
            "linecolor": "white",
            "ticks": ""
           },
           "baxis": {
            "gridcolor": "white",
            "linecolor": "white",
            "ticks": ""
           },
           "bgcolor": "#E5ECF6",
           "caxis": {
            "gridcolor": "white",
            "linecolor": "white",
            "ticks": ""
           }
          },
          "title": {
           "x": 0.05
          },
          "xaxis": {
           "automargin": true,
           "gridcolor": "white",
           "linecolor": "white",
           "ticks": "",
           "title": {
            "standoff": 15
           },
           "zerolinecolor": "white",
           "zerolinewidth": 2
          },
          "yaxis": {
           "automargin": true,
           "gridcolor": "white",
           "linecolor": "white",
           "ticks": "",
           "title": {
            "standoff": 15
           },
           "zerolinecolor": "white",
           "zerolinewidth": 2
          }
         }
        },
        "title": {
         "text": "Total Points per Number of Endorsers",
         "x": 0.5,
         "xanchor": "center",
         "y": 0.95,
         "yanchor": "top"
        },
        "updatemenus": [
         {
          "active": 0,
          "buttons": [
           {
            "args": [
             {
              "visible": true
             },
             {
              "title": "Log scale",
              "xaxis": {
               "type": "log"
              },
              "yaxis": {
               "type": "log"
              }
             }
            ],
            "label": "Log Scale",
            "method": "update"
           },
           {
            "args": [
             {
              "visible": true
             },
             {
              "title": "Linear scale",
              "xaxis": {
               "type": "log"
              },
              "yaxis": {
               "type": "linear"
              }
             }
            ],
            "label": "Log X",
            "method": "update"
           },
           {
            "args": [
             {
              "visible": true
             },
             {
              "title": "Linear scale",
              "xaxis": {
               "type": "linear"
              },
              "yaxis": {
               "type": "log"
              }
             }
            ],
            "label": "Log Y",
            "method": "update"
           },
           {
            "args": [
             {
              "visible": true
             },
             {
              "title": "Linear scale",
              "xaxis": {
               "type": "linear"
              },
              "yaxis": {
               "type": "linear"
              }
             }
            ],
            "label": "Linear Scale",
            "method": "update"
           }
          ],
          "direction": "down",
          "pad": {
           "r": 10,
           "t": 10
          },
          "showactive": true,
          "x": -0.2,
          "xanchor": "left",
          "y": 1.1,
          "yanchor": "top"
         }
        ],
        "xaxis": {
         "title": {
          "text": "Number of Endorsers"
         },
         "type": "log"
        },
        "yaxis": {
         "title": {
          "text": "Total Points"
         },
         "type": "log"
        }
       }
      },
      "text/html": [
       "<div>\n",
       "        \n",
       "        \n",
       "            <div id=\"b36dd9d8-c849-4da9-bfb8-9165886102ef\" class=\"plotly-graph-div\" style=\"height:525px; width:100%;\"></div>\n",
       "            <script type=\"text/javascript\">\n",
       "                require([\"plotly\"], function(Plotly) {\n",
       "                    window.PLOTLYENV=window.PLOTLYENV || {};\n",
       "                    \n",
       "                if (document.getElementById(\"b36dd9d8-c849-4da9-bfb8-9165886102ef\")) {\n",
       "                    Plotly.newPlot(\n",
       "                        'b36dd9d8-c849-4da9-bfb8-9165886102ef',\n",
       "                        [{\"marker\": {\"color\": [3.75, 3.11, 2.78, 2.57, 3.5, 2.57, 2.0, 3.0, 3.0, 2.75, 2.75, 3.79, 3.0, 2.04, 1.0, 2.64], \"colorscale\": [[0.0, \"rgb(0, 128, 128)\"], [0.16666666666666666, \"rgb(112, 164, 148)\"], [0.3333333333333333, \"rgb(180, 200, 168)\"], [0.5, \"rgb(246, 237, 189)\"], [0.6666666666666666, \"rgb(237, 187, 138)\"], [0.8333333333333334, \"rgb(222, 138, 90)\"], [1.0, \"rgb(202, 86, 44)\"]], \"opacity\": 0.7, \"size\": [45.5625, 37.33209999999999, 33.40839999999999, 31.024900000000002, 42.25, 31.024900000000002, 25.0, 36.0, 36.0, 33.0625, 33.0625, 46.1041, 36.0, 25.401600000000002, 16.0, 31.809600000000007]}, \"mode\": \"markers+text\", \"text\": [\"Bennet\", \"Biden\", \"Bloomberg\", \"Booker\", \"Bullock\", \"Buttigieg\", \"Castro\", \"Delaney\", \"Gillibrand\", \"Harris\", \"Inslee\", \"Klobuchar\", \"O'Rourke\", \"Sanders\", \"Steyer\", \"Warren\"], \"textposition\": \"bottom right\", \"type\": \"scatter\", \"x\": [4, 81, 18, 21, 2, 14, 2, 2, 1, 24, 4, 14, 1, 27, 1, 33], \"y\": [15, 252, 50, 54, 7, 36, 4, 6, 3, 66, 11, 53, 3, 55, 1, 87]}],\n",
       "                        {\"annotations\": [{\"align\": \"left\", \"showarrow\": false, \"text\": \"Select Axis Scale\", \"x\": -0.2, \"xref\": \"paper\", \"y\": 1.13, \"yref\": \"paper\"}], \"showlegend\": false, \"template\": {\"data\": {\"bar\": [{\"error_x\": {\"color\": \"#2a3f5f\"}, \"error_y\": {\"color\": \"#2a3f5f\"}, \"marker\": {\"line\": {\"color\": \"#E5ECF6\", \"width\": 0.5}}, \"type\": \"bar\"}], \"barpolar\": [{\"marker\": {\"line\": {\"color\": \"#E5ECF6\", \"width\": 0.5}}, \"type\": \"barpolar\"}], \"carpet\": [{\"aaxis\": {\"endlinecolor\": \"#2a3f5f\", \"gridcolor\": \"white\", \"linecolor\": \"white\", \"minorgridcolor\": \"white\", \"startlinecolor\": \"#2a3f5f\"}, \"baxis\": {\"endlinecolor\": \"#2a3f5f\", \"gridcolor\": \"white\", \"linecolor\": \"white\", \"minorgridcolor\": \"white\", \"startlinecolor\": \"#2a3f5f\"}, \"type\": \"carpet\"}], \"choropleth\": [{\"colorbar\": {\"outlinewidth\": 0, \"ticks\": \"\"}, \"type\": \"choropleth\"}], \"contour\": [{\"colorbar\": {\"outlinewidth\": 0, \"ticks\": \"\"}, \"colorscale\": [[0.0, \"#0d0887\"], [0.1111111111111111, \"#46039f\"], [0.2222222222222222, \"#7201a8\"], [0.3333333333333333, \"#9c179e\"], [0.4444444444444444, \"#bd3786\"], [0.5555555555555556, \"#d8576b\"], [0.6666666666666666, \"#ed7953\"], [0.7777777777777778, \"#fb9f3a\"], [0.8888888888888888, \"#fdca26\"], [1.0, \"#f0f921\"]], \"type\": \"contour\"}], \"contourcarpet\": [{\"colorbar\": {\"outlinewidth\": 0, \"ticks\": \"\"}, \"type\": \"contourcarpet\"}], \"heatmap\": [{\"colorbar\": {\"outlinewidth\": 0, \"ticks\": \"\"}, \"colorscale\": [[0.0, \"#0d0887\"], [0.1111111111111111, \"#46039f\"], [0.2222222222222222, \"#7201a8\"], [0.3333333333333333, \"#9c179e\"], [0.4444444444444444, \"#bd3786\"], [0.5555555555555556, \"#d8576b\"], [0.6666666666666666, \"#ed7953\"], [0.7777777777777778, \"#fb9f3a\"], [0.8888888888888888, \"#fdca26\"], [1.0, \"#f0f921\"]], \"type\": \"heatmap\"}], \"heatmapgl\": [{\"colorbar\": {\"outlinewidth\": 0, \"ticks\": \"\"}, \"colorscale\": [[0.0, \"#0d0887\"], [0.1111111111111111, \"#46039f\"], [0.2222222222222222, \"#7201a8\"], [0.3333333333333333, \"#9c179e\"], [0.4444444444444444, \"#bd3786\"], [0.5555555555555556, \"#d8576b\"], [0.6666666666666666, \"#ed7953\"], [0.7777777777777778, \"#fb9f3a\"], [0.8888888888888888, \"#fdca26\"], [1.0, \"#f0f921\"]], \"type\": \"heatmapgl\"}], \"histogram\": [{\"marker\": {\"colorbar\": {\"outlinewidth\": 0, \"ticks\": \"\"}}, \"type\": \"histogram\"}], \"histogram2d\": [{\"colorbar\": {\"outlinewidth\": 0, \"ticks\": \"\"}, \"colorscale\": [[0.0, \"#0d0887\"], [0.1111111111111111, \"#46039f\"], [0.2222222222222222, \"#7201a8\"], [0.3333333333333333, \"#9c179e\"], [0.4444444444444444, \"#bd3786\"], [0.5555555555555556, \"#d8576b\"], [0.6666666666666666, \"#ed7953\"], [0.7777777777777778, \"#fb9f3a\"], [0.8888888888888888, \"#fdca26\"], [1.0, \"#f0f921\"]], \"type\": \"histogram2d\"}], \"histogram2dcontour\": [{\"colorbar\": {\"outlinewidth\": 0, \"ticks\": \"\"}, \"colorscale\": [[0.0, \"#0d0887\"], [0.1111111111111111, \"#46039f\"], [0.2222222222222222, \"#7201a8\"], [0.3333333333333333, \"#9c179e\"], [0.4444444444444444, \"#bd3786\"], [0.5555555555555556, \"#d8576b\"], [0.6666666666666666, \"#ed7953\"], [0.7777777777777778, \"#fb9f3a\"], [0.8888888888888888, \"#fdca26\"], [1.0, \"#f0f921\"]], \"type\": \"histogram2dcontour\"}], \"mesh3d\": [{\"colorbar\": {\"outlinewidth\": 0, \"ticks\": \"\"}, \"type\": \"mesh3d\"}], \"parcoords\": [{\"line\": {\"colorbar\": {\"outlinewidth\": 0, \"ticks\": \"\"}}, \"type\": \"parcoords\"}], \"pie\": [{\"automargin\": true, \"type\": \"pie\"}], \"scatter\": [{\"marker\": {\"colorbar\": {\"outlinewidth\": 0, \"ticks\": \"\"}}, \"type\": \"scatter\"}], \"scatter3d\": [{\"line\": {\"colorbar\": {\"outlinewidth\": 0, \"ticks\": \"\"}}, \"marker\": {\"colorbar\": {\"outlinewidth\": 0, \"ticks\": \"\"}}, \"type\": \"scatter3d\"}], \"scattercarpet\": [{\"marker\": {\"colorbar\": {\"outlinewidth\": 0, \"ticks\": \"\"}}, \"type\": \"scattercarpet\"}], \"scattergeo\": [{\"marker\": {\"colorbar\": {\"outlinewidth\": 0, \"ticks\": \"\"}}, \"type\": \"scattergeo\"}], \"scattergl\": [{\"marker\": {\"colorbar\": {\"outlinewidth\": 0, \"ticks\": \"\"}}, \"type\": \"scattergl\"}], \"scattermapbox\": [{\"marker\": {\"colorbar\": {\"outlinewidth\": 0, \"ticks\": \"\"}}, \"type\": \"scattermapbox\"}], \"scatterpolar\": [{\"marker\": {\"colorbar\": {\"outlinewidth\": 0, \"ticks\": \"\"}}, \"type\": \"scatterpolar\"}], \"scatterpolargl\": [{\"marker\": {\"colorbar\": {\"outlinewidth\": 0, \"ticks\": \"\"}}, \"type\": \"scatterpolargl\"}], \"scatterternary\": [{\"marker\": {\"colorbar\": {\"outlinewidth\": 0, \"ticks\": \"\"}}, \"type\": \"scatterternary\"}], \"surface\": [{\"colorbar\": {\"outlinewidth\": 0, \"ticks\": \"\"}, \"colorscale\": [[0.0, \"#0d0887\"], [0.1111111111111111, \"#46039f\"], [0.2222222222222222, \"#7201a8\"], [0.3333333333333333, \"#9c179e\"], [0.4444444444444444, \"#bd3786\"], [0.5555555555555556, \"#d8576b\"], [0.6666666666666666, \"#ed7953\"], [0.7777777777777778, \"#fb9f3a\"], [0.8888888888888888, \"#fdca26\"], [1.0, \"#f0f921\"]], \"type\": \"surface\"}], \"table\": [{\"cells\": {\"fill\": {\"color\": \"#EBF0F8\"}, \"line\": {\"color\": \"white\"}}, \"header\": {\"fill\": {\"color\": \"#C8D4E3\"}, \"line\": {\"color\": \"white\"}}, \"type\": \"table\"}]}, \"layout\": {\"annotationdefaults\": {\"arrowcolor\": \"#2a3f5f\", \"arrowhead\": 0, \"arrowwidth\": 1}, \"coloraxis\": {\"colorbar\": {\"outlinewidth\": 0, \"ticks\": \"\"}}, \"colorscale\": {\"diverging\": [[0, \"#8e0152\"], [0.1, \"#c51b7d\"], [0.2, \"#de77ae\"], [0.3, \"#f1b6da\"], [0.4, \"#fde0ef\"], [0.5, \"#f7f7f7\"], [0.6, \"#e6f5d0\"], [0.7, \"#b8e186\"], [0.8, \"#7fbc41\"], [0.9, \"#4d9221\"], [1, \"#276419\"]], \"sequential\": [[0.0, \"#0d0887\"], [0.1111111111111111, \"#46039f\"], [0.2222222222222222, \"#7201a8\"], [0.3333333333333333, \"#9c179e\"], [0.4444444444444444, \"#bd3786\"], [0.5555555555555556, \"#d8576b\"], [0.6666666666666666, \"#ed7953\"], [0.7777777777777778, \"#fb9f3a\"], [0.8888888888888888, \"#fdca26\"], [1.0, \"#f0f921\"]], \"sequentialminus\": [[0.0, \"#0d0887\"], [0.1111111111111111, \"#46039f\"], [0.2222222222222222, \"#7201a8\"], [0.3333333333333333, \"#9c179e\"], [0.4444444444444444, \"#bd3786\"], [0.5555555555555556, \"#d8576b\"], [0.6666666666666666, \"#ed7953\"], [0.7777777777777778, \"#fb9f3a\"], [0.8888888888888888, \"#fdca26\"], [1.0, \"#f0f921\"]]}, \"colorway\": [\"#636efa\", \"#EF553B\", \"#00cc96\", \"#ab63fa\", \"#FFA15A\", \"#19d3f3\", \"#FF6692\", \"#B6E880\", \"#FF97FF\", \"#FECB52\"], \"font\": {\"color\": \"#2a3f5f\"}, \"geo\": {\"bgcolor\": \"white\", \"lakecolor\": \"white\", \"landcolor\": \"#E5ECF6\", \"showlakes\": true, \"showland\": true, \"subunitcolor\": \"white\"}, \"hoverlabel\": {\"align\": \"left\"}, \"hovermode\": \"closest\", \"mapbox\": {\"style\": \"light\"}, \"paper_bgcolor\": \"white\", \"plot_bgcolor\": \"#E5ECF6\", \"polar\": {\"angularaxis\": {\"gridcolor\": \"white\", \"linecolor\": \"white\", \"ticks\": \"\"}, \"bgcolor\": \"#E5ECF6\", \"radialaxis\": {\"gridcolor\": \"white\", \"linecolor\": \"white\", \"ticks\": \"\"}}, \"scene\": {\"xaxis\": {\"backgroundcolor\": \"#E5ECF6\", \"gridcolor\": \"white\", \"gridwidth\": 2, \"linecolor\": \"white\", \"showbackground\": true, \"ticks\": \"\", \"zerolinecolor\": \"white\"}, \"yaxis\": {\"backgroundcolor\": \"#E5ECF6\", \"gridcolor\": \"white\", \"gridwidth\": 2, \"linecolor\": \"white\", \"showbackground\": true, \"ticks\": \"\", \"zerolinecolor\": \"white\"}, \"zaxis\": {\"backgroundcolor\": \"#E5ECF6\", \"gridcolor\": \"white\", \"gridwidth\": 2, \"linecolor\": \"white\", \"showbackground\": true, \"ticks\": \"\", \"zerolinecolor\": \"white\"}}, \"shapedefaults\": {\"line\": {\"color\": \"#2a3f5f\"}}, \"ternary\": {\"aaxis\": {\"gridcolor\": \"white\", \"linecolor\": \"white\", \"ticks\": \"\"}, \"baxis\": {\"gridcolor\": \"white\", \"linecolor\": \"white\", \"ticks\": \"\"}, \"bgcolor\": \"#E5ECF6\", \"caxis\": {\"gridcolor\": \"white\", \"linecolor\": \"white\", \"ticks\": \"\"}}, \"title\": {\"x\": 0.05}, \"xaxis\": {\"automargin\": true, \"gridcolor\": \"white\", \"linecolor\": \"white\", \"ticks\": \"\", \"title\": {\"standoff\": 15}, \"zerolinecolor\": \"white\", \"zerolinewidth\": 2}, \"yaxis\": {\"automargin\": true, \"gridcolor\": \"white\", \"linecolor\": \"white\", \"ticks\": \"\", \"title\": {\"standoff\": 15}, \"zerolinecolor\": \"white\", \"zerolinewidth\": 2}}}, \"title\": {\"text\": \"Total Points per Number of Endorsers\", \"x\": 0.5, \"xanchor\": \"center\", \"y\": 0.95, \"yanchor\": \"top\"}, \"updatemenus\": [{\"active\": 0, \"buttons\": [{\"args\": [{\"visible\": true}, {\"title\": \"Log scale\", \"xaxis\": {\"type\": \"log\"}, \"yaxis\": {\"type\": \"log\"}}], \"label\": \"Log Scale\", \"method\": \"update\"}, {\"args\": [{\"visible\": true}, {\"title\": \"Linear scale\", \"xaxis\": {\"type\": \"log\"}, \"yaxis\": {\"type\": \"linear\"}}], \"label\": \"Log X\", \"method\": \"update\"}, {\"args\": [{\"visible\": true}, {\"title\": \"Linear scale\", \"xaxis\": {\"type\": \"linear\"}, \"yaxis\": {\"type\": \"log\"}}], \"label\": \"Log Y\", \"method\": \"update\"}, {\"args\": [{\"visible\": true}, {\"title\": \"Linear scale\", \"xaxis\": {\"type\": \"linear\"}, \"yaxis\": {\"type\": \"linear\"}}], \"label\": \"Linear Scale\", \"method\": \"update\"}], \"direction\": \"down\", \"pad\": {\"r\": 10, \"t\": 10}, \"showactive\": true, \"x\": -0.2, \"xanchor\": \"left\", \"y\": 1.1, \"yanchor\": \"top\"}], \"xaxis\": {\"title\": {\"text\": \"Number of Endorsers\"}, \"type\": \"log\"}, \"yaxis\": {\"title\": {\"text\": \"Total Points\"}, \"type\": \"log\"}},\n",
       "                        {\"responsive\": true}\n",
       "                    ).then(function(){\n",
       "                            \n",
       "var gd = document.getElementById('b36dd9d8-c849-4da9-bfb8-9165886102ef');\n",
       "var x = new MutationObserver(function (mutations, observer) {{\n",
       "        var display = window.getComputedStyle(gd).display;\n",
       "        if (!display || display === 'none') {{\n",
       "            console.log([gd, 'removed!']);\n",
       "            Plotly.purge(gd);\n",
       "            observer.disconnect();\n",
       "        }}\n",
       "}});\n",
       "\n",
       "// Listen for the removal of the full notebook cells\n",
       "var notebookContainer = gd.closest('#notebook-container');\n",
       "if (notebookContainer) {{\n",
       "    x.observe(notebookContainer, {childList: true});\n",
       "}}\n",
       "\n",
       "// Listen for the clearing of the current output cell\n",
       "var outputEl = gd.closest('.output');\n",
       "if (outputEl) {{\n",
       "    x.observe(outputEl, {childList: true});\n",
       "}}\n",
       "\n",
       "                        })\n",
       "                };\n",
       "                });\n",
       "            </script>\n",
       "        </div>"
      ]
     },
     "metadata": {},
     "output_type": "display_data"
    }
   ],
   "source": [
    "fig = go.Figure()\n",
    "\n",
    "fig.add_trace( \n",
    "        go.Scatter(\n",
    "            x=end_df['n_endorsements'], \n",
    "            y=end_df['tot_points'],\n",
    "            mode='markers+text',\n",
    "            marker=dict(\n",
    "                size=(end_df['points_endorser_ratio']+3)**2,\n",
    "                color=end_df[\"points_endorser_ratio\"],\n",
    "                colorscale='geyser',\n",
    "                opacity = 0.7),\n",
    "            text=end_df['endorsee'],\n",
    "            textposition='bottom right'\n",
    "    ))\n",
    "\n",
    "fig.update_layout(\n",
    "        xaxis_type=\"log\",\n",
    "        yaxis_type=\"log\",\n",
    "        title={'text': 'Total Points per Number of Endorsers',\n",
    "               'y':0.95, 'x':0.5,\n",
    "               'xanchor': 'center', 'yanchor': 'top'},\n",
    "        showlegend=False,\n",
    "        xaxis_title_text='Number of Endorsers',\n",
    "        yaxis_title_text='Total Points',\n",
    "        updatemenus = list([\n",
    "            dict(active=0,\n",
    "                 buttons=list([\n",
    "                    dict(label='Log Scale',\n",
    "                         method='update',\n",
    "                         args=[{'visible': True},\n",
    "                               {'title': 'Log scale',\n",
    "                                'xaxis': {'type': 'log'},\n",
    "                                'yaxis': {'type': 'log'}}]),\n",
    "                    dict(label='Log X',\n",
    "                         method='update',\n",
    "                         args=[{'visible': True},\n",
    "                               {'title': 'Linear scale',\n",
    "                                'xaxis': {'type': 'log'},\n",
    "                                'yaxis': {'type': 'linear'}}]),\n",
    "                    dict(label='Log Y',\n",
    "                        method='update',\n",
    "                       args=[{'visible': True},\n",
    "                              {'title': 'Linear scale',\n",
    "                               'xaxis': {'type': 'linear'},\n",
    "                               'yaxis': {'type': 'log'}}]),\n",
    "                    dict(label='Linear Scale',\n",
    "                        method='update',\n",
    "                       args=[{'visible': True},\n",
    "                              {'title': 'Linear scale',\n",
    "                               'xaxis': {'type': 'linear'},\n",
    "                               'yaxis': {'type': 'linear'}}]),\n",
    "                            ]),\n",
    "                direction=\"down\",\n",
    "                pad={\"r\": 10, \"t\": 10},\n",
    "                showactive=True,\n",
    "                x=-0.2,\n",
    "                xanchor=\"left\",\n",
    "                y=1.1,\n",
    "                yanchor=\"top\"\n",
    "                )]),\n",
    "        annotations=[\n",
    "            go.layout.Annotation(text=\"Select Axis Scale\", \n",
    "                                 x=-0.2, xref=\"paper\", \n",
    "                                 y=1.13, yref=\"paper\",\n",
    "                                 align=\"left\", showarrow=False),\n",
    "        ])\n",
    "\n",
    "fig.show()"
   ]
  },
  {
   "cell_type": "markdown",
   "metadata": {},
   "source": [
    "Both the size and the color of each Endorsee is proportional to his by his Points-to-Votes ratio.\n",
    "\n",
    "We can see that Biden is quite far from the rest, having almost 3 times the number of votes and number of points of the \"second\" in the list.\n",
    "Using a linear scale is more clear that we have kind of 2 clusters, plus Biden on his own.\n",
    "\n",
    "Finally, let's remark that Klobuchar has the highest Points-to-Votes ratio, followed by Bennet."
   ]
  },
  {
   "cell_type": "markdown",
   "metadata": {},
   "source": [
    "<a id=\"summarytable\"></a>\n",
    "### Endorsee Table Summary\n",
    "\n",
    "Let's create a chart summarizing, for each endorsee, the points received by *category*, *party*, *position*, *source* and *state*."
   ]
  },
  {
   "cell_type": "code",
   "execution_count": 12,
   "metadata": {
    "_kg_hide-input": true
   },
   "outputs": [],
   "source": [
    "cols = ['category', 'source', 'position', 'party', 'state']\n",
    "lc = len(cols)\n",
    "\n",
    "d={}\n",
    "\n",
    "for c in cols:\n",
    "    tmp = endorsee_df.groupby(['endorsee', c]).agg({'points':'sum', 'endorser':'count'}).reset_index()\n",
    "    tmp.rename(columns={'points': f'pt_by_{c}', 'endorser': f'votes_by_{c}'}, inplace=True)\n",
    "    d[c] = tmp\n",
    "\n",
    "cat_df = d['category']\n",
    "source_df = d['source']\n",
    "position_df = d['position']\n",
    "party_df = d['party']\n",
    "state_df = d['state']\n",
    "state_df['full_state'] = state_df['state'].map(s_to_state)\n",
    "\n",
    "buttons=[]\n",
    "l=endorsee_df['endorsee'].nunique()\n",
    "n_plots=5\n",
    "colors = ['cadetblue', 'indianred',  'goldenrod']\n",
    "pie_colors = [ 'mediumpurple', 'beige']"
   ]
  },
  {
   "cell_type": "code",
   "execution_count": 13,
   "metadata": {
    "_kg_hide-input": true
   },
   "outputs": [
    {
     "data": {
      "application/vnd.plotly.v1+json": {
       "config": {
        "plotlyServerURL": "https://plot.ly"
       },
       "data": [
        {
         "marker": {
          "color": "cadetblue",
          "opacity": 0.9
         },
         "opacity": 0.9,
         "showlegend": false,
         "text": [
          6.0
         ],
         "textposition": "outside",
         "type": "bar",
         "visible": false,
         "x": [
          "Representatives"
         ],
         "xaxis": "x",
         "y": [
          6
         ],
         "yaxis": "y"
        },
        {
         "marker": {
          "color": "indianred",
          "opacity": 0.9
         },
         "opacity": 0.9,
         "showlegend": false,
         "text": [
          6.0
         ],
         "textposition": "outside",
         "type": "bar",
         "visible": false,
         "x": [
          "representative"
         ],
         "xaxis": "x2",
         "y": [
          6
         ],
         "yaxis": "y2"
        },
        {
         "domain": {
          "x": [
           0.55,
           1.0
          ],
          "y": [
           0.3888888888888889,
           0.6111111111111112
          ]
         },
         "hole": 0.4,
         "hoverinfo": "label+percent+name",
         "labels": [
          "D"
         ],
         "marker": {
          "colors": [
           "rgb(0, 128, 128)",
           "rgb(112, 164, 148)",
           "rgb(180, 200, 168)",
           "rgb(246, 237, 189)",
           "rgb(237, 187, 138)",
           "rgb(222, 138, 90)",
           "rgb(202, 86, 44)"
          ]
         },
         "showlegend": false,
         "text": [
          "D"
         ],
         "textinfo": "percent+label",
         "textposition": "inside",
         "type": "pie",
         "values": [
          6
         ],
         "visible": false
        },
        {
         "marker": {
          "color": "goldenrod",
          "opacity": 0.9
         },
         "opacity": 0.9,
         "showlegend": false,
         "text": [
          2.0
         ],
         "textposition": "outside",
         "type": "bar",
         "visible": false,
         "x": [
          "twitter"
         ],
         "xaxis": "x3",
         "y": [
          2
         ],
         "yaxis": "y3"
        },
        {
         "domain": {
          "x": [
           0.55,
           1.0
          ],
          "y": [
           0.0,
           0.22222222222222224
          ]
         },
         "hole": 0.4,
         "hoverinfo": "label+percent+name",
         "labels": [
          "CA",
          "MD"
         ],
         "marker": {
          "colors": [
           "rgb(0, 128, 128)",
           "rgb(112, 164, 148)",
           "rgb(180, 200, 168)",
           "rgb(246, 237, 189)",
           "rgb(237, 187, 138)",
           "rgb(222, 138, 90)",
           "rgb(202, 86, 44)"
          ]
         },
         "showlegend": false,
         "text": [
          "California",
          "Maryland"
         ],
         "textinfo": "percent+label",
         "textposition": "inside",
         "type": "pie",
         "values": [
          1,
          1
         ],
         "visible": false
        },
        {
         "marker": {
          "color": "cadetblue",
          "opacity": 0.9
         },
         "opacity": 0.9,
         "showlegend": false,
         "text": [
          5.0,
          11.0,
          20.0,
          24.0,
          15.0,
          5.0,
          120.0,
          30.0,
          12.0,
          10.0
         ],
         "textposition": "outside",
         "type": "bar",
         "visible": true,
         "x": [
          "Candidates who have dropped out",
          "DNC members",
          "Former party leaders",
          "Governors",
          "Mayors",
          "Past nominees",
          "Representatives",
          "Senators",
          "State legislative leaders",
          "Statewide officeholders"
         ],
         "xaxis": "x",
         "y": [
          5,
          11,
          20,
          24,
          15,
          5,
          120,
          30,
          12,
          10
         ],
         "yaxis": "y"
        },
        {
         "marker": {
          "color": "indianred",
          "opacity": 0.9
         },
         "opacity": 0.9,
         "showlegend": false,
         "text": [
          11.0,
          2.0,
          5.0,
          4.0,
          15.0,
          5.0,
          24.0,
          4.0,
          15.0,
          4.0,
          5.0,
          2.0,
          120.0,
          2.0,
          30.0,
          4.0
         ],
         "textposition": "outside",
         "type": "bar",
         "visible": true,
         "x": [
          "DNC member",
          "Democratic caucus chairman",
          "Former 2020 candidate",
          "attorney general",
          "former DNC chair",
          "former U.S. Senate majority leader",
          "governor",
          "lieutenant governor",
          "mayor",
          "minority leader",
          "past presidential nominee",
          "president",
          "representative",
          "secretary of state",
          "senator",
          "speaker"
         ],
         "xaxis": "x2",
         "y": [
          11,
          2,
          5,
          4,
          15,
          5,
          24,
          4,
          15,
          4,
          5,
          2,
          120,
          2,
          30,
          4
         ],
         "yaxis": "y2"
        },
        {
         "domain": {
          "x": [
           0.55,
           1.0
          ],
          "y": [
           0.3888888888888889,
           0.6111111111111112
          ]
         },
         "hole": 0.4,
         "hoverinfo": "label+percent+name",
         "labels": [
          "D"
         ],
         "marker": {
          "colors": [
           "rgb(0, 128, 128)",
           "rgb(112, 164, 148)",
           "rgb(180, 200, 168)",
           "rgb(246, 237, 189)",
           "rgb(237, 187, 138)",
           "rgb(222, 138, 90)",
           "rgb(202, 86, 44)"
          ]
         },
         "showlegend": false,
         "text": [
          "D"
         ],
         "textinfo": "percent+label",
         "textposition": "inside",
         "type": "pie",
         "values": [
          252
         ],
         "visible": true
        },
        {
         "marker": {
          "color": "goldenrod",
          "opacity": 0.9
         },
         "opacity": 0.9,
         "showlegend": false,
         "text": [
          7.0,
          3.0,
          2.0,
          36.0,
          11.0,
          22.0
         ],
         "textposition": "outside",
         "type": "bar",
         "visible": true,
         "x": [
          "4president",
          "apnews",
          "cnn",
          "other",
          "politico",
          "twitter"
         ],
         "xaxis": "x3",
         "y": [
          7,
          3,
          2,
          36,
          11,
          22
         ],
         "yaxis": "y3"
        },
        {
         "domain": {
          "x": [
           0.55,
           1.0
          ],
          "y": [
           0.0,
           0.22222222222222224
          ]
         },
         "hole": 0.4,
         "hoverinfo": "label+percent+name",
         "labels": [
          "AL",
          "AR",
          "CA",
          "CO",
          "CT",
          "DC",
          "DE",
          "FL",
          "GA",
          "IA",
          "IL",
          "LA",
          "MA",
          "MI",
          "MO",
          "MS",
          "NC",
          "NH",
          "NJ",
          "NV",
          "NY",
          "OH",
          "OR",
          "PA",
          "PR",
          "RI",
          "SD",
          "TN",
          "TX",
          "VA"
         ],
         "marker": {
          "colors": [
           "rgb(0, 128, 128)",
           "rgb(112, 164, 148)",
           "rgb(180, 200, 168)",
           "rgb(246, 237, 189)",
           "rgb(237, 187, 138)",
           "rgb(222, 138, 90)",
           "rgb(202, 86, 44)"
          ]
         },
         "showlegend": false,
         "text": [
          "Alabama",
          "Arkansas",
          "California",
          "Colorado",
          "Connecticut",
          "District of Columbia",
          "Delaware",
          "Florida",
          "Georgia",
          "Iowa",
          "Illinois",
          "Louisiana",
          "Massachusetts",
          "Michigan",
          "Missouri",
          "Mississippi",
          "North Carolina",
          "New Hampshire",
          "New Jersey",
          "Nevada",
          "New York",
          "Ohio",
          "Oregon",
          "Pennsylvania",
          null,
          "Rhode Island",
          "South Dakota",
          "Tennessee",
          "Texas",
          "Virginia"
         ],
         "textinfo": "percent+label",
         "textposition": "inside",
         "type": "pie",
         "values": [
          2,
          1,
          12,
          1,
          3,
          2,
          5,
          5,
          2,
          4,
          2,
          1,
          4,
          2,
          1,
          1,
          2,
          3,
          2,
          1,
          3,
          1,
          1,
          7,
          1,
          2,
          1,
          1,
          5,
          3
         ],
         "visible": true
        },
        {
         "marker": {
          "color": "cadetblue",
          "opacity": 0.9
         },
         "opacity": 0.9,
         "showlegend": false,
         "text": [
          1.0,
          3.0
         ],
         "textposition": "outside",
         "type": "bar",
         "visible": false,
         "x": [
          "DNC members",
          "Mayors"
         ],
         "xaxis": "x",
         "y": [
          1,
          3
         ],
         "yaxis": "y"
        },
        {
         "marker": {
          "color": "indianred",
          "opacity": 0.9
         },
         "opacity": 0.9,
         "showlegend": false,
         "text": [
          1.0,
          3.0
         ],
         "textposition": "outside",
         "type": "bar",
         "visible": false,
         "x": [
          "DNC member",
          "mayor"
         ],
         "xaxis": "x2",
         "y": [
          1,
          3
         ],
         "yaxis": "y2"
        },
        {
         "domain": {
          "x": [
           0.55,
           1.0
          ],
          "y": [
           0.3888888888888889,
           0.6111111111111112
          ]
         },
         "hole": 0.4,
         "hoverinfo": "label+percent+name",
         "labels": [
          "D",
          "None"
         ],
         "marker": {
          "colors": [
           "rgb(0, 128, 128)",
           "rgb(112, 164, 148)",
           "rgb(180, 200, 168)",
           "rgb(246, 237, 189)",
           "rgb(237, 187, 138)",
           "rgb(222, 138, 90)",
           "rgb(202, 86, 44)"
          ]
         },
         "showlegend": false,
         "text": [
          "D",
          "None"
         ],
         "textinfo": "percent+label",
         "textposition": "inside",
         "type": "pie",
         "values": [
          1,
          3
         ],
         "visible": false
        },
        {
         "marker": {
          "color": "goldenrod",
          "opacity": 0.9
         },
         "opacity": 0.9,
         "showlegend": false,
         "text": [
          1.0,
          1.0
         ],
         "textposition": "outside",
         "type": "bar",
         "visible": false,
         "x": [
          "4president",
          "other"
         ],
         "xaxis": "x3",
         "y": [
          1,
          1
         ],
         "yaxis": "y3"
        },
        {
         "domain": {
          "x": [
           0.55,
           1.0
          ],
          "y": [
           0.0,
           0.22222222222222224
          ]
         },
         "hole": 0.4,
         "hoverinfo": "label+percent+name",
         "labels": [
          "TX"
         ],
         "marker": {
          "colors": [
           "rgb(0, 128, 128)",
           "rgb(112, 164, 148)",
           "rgb(180, 200, 168)",
           "rgb(246, 237, 189)",
           "rgb(237, 187, 138)",
           "rgb(222, 138, 90)",
           "rgb(202, 86, 44)"
          ]
         },
         "showlegend": false,
         "text": [
          "Texas"
         ],
         "textinfo": "percent+label",
         "textposition": "inside",
         "type": "pie",
         "values": [
          2
         ],
         "visible": false
        },
        {
         "marker": {
          "color": "cadetblue",
          "opacity": 0.9
         },
         "opacity": 0.9,
         "showlegend": false,
         "text": [
          2.0,
          8.0,
          3.0,
          39.0,
          6.0,
          8.0
         ],
         "textposition": "outside",
         "type": "bar",
         "visible": false,
         "x": [
          "DNC members",
          "Governors",
          "Mayors",
          "Representatives",
          "State legislative leaders",
          "Statewide officeholders"
         ],
         "xaxis": "x",
         "y": [
          2,
          8,
          3,
          39,
          6,
          8
         ],
         "yaxis": "y"
        },
        {
         "marker": {
          "color": "indianred",
          "opacity": 0.9
         },
         "opacity": 0.9,
         "showlegend": false,
         "text": [
          2.0,
          2.0,
          3.0,
          8.0,
          2.0,
          2.0,
          3.0,
          2.0,
          2.0,
          36.0,
          2.0,
          2.0
         ],
         "textposition": "outside",
         "type": "bar",
         "visible": false,
         "x": [
          "DNC member",
          "attorney general",
          "delegate",
          "governor",
          "insurance commissioner",
          "lieutenant governor",
          "mayor",
          "minority leader",
          "president pro tem",
          "representative",
          "speaker",
          "superintendent of public instruction"
         ],
         "xaxis": "x2",
         "y": [
          2,
          2,
          3,
          8,
          2,
          2,
          3,
          2,
          2,
          36,
          2,
          2
         ],
         "yaxis": "y2"
        },
        {
         "domain": {
          "x": [
           0.55,
           1.0
          ],
          "y": [
           0.3888888888888889,
           0.6111111111111112
          ]
         },
         "hole": 0.4,
         "hoverinfo": "label+percent+name",
         "labels": [
          "D"
         ],
         "marker": {
          "colors": [
           "rgb(0, 128, 128)",
           "rgb(112, 164, 148)",
           "rgb(180, 200, 168)",
           "rgb(246, 237, 189)",
           "rgb(237, 187, 138)",
           "rgb(222, 138, 90)",
           "rgb(202, 86, 44)"
          ]
         },
         "showlegend": false,
         "text": [
          "D"
         ],
         "textinfo": "percent+label",
         "textposition": "inside",
         "type": "pie",
         "values": [
          66
         ],
         "visible": false
        },
        {
         "marker": {
          "color": "goldenrod",
          "opacity": 0.9
         },
         "opacity": 0.9,
         "showlegend": false,
         "text": [
          1.0,
          2.0,
          10.0,
          8.0,
          3.0
         ],
         "textposition": "outside",
         "type": "bar",
         "visible": false,
         "x": [
          "4president",
          "cnn",
          "other",
          "politico",
          "twitter"
         ],
         "xaxis": "x3",
         "y": [
          1,
          2,
          10,
          8,
          3
         ],
         "yaxis": "y3"
        },
        {
         "domain": {
          "x": [
           0.55,
           1.0
          ],
          "y": [
           0.0,
           0.22222222222222224
          ]
         },
         "hole": 0.4,
         "hoverinfo": "label+percent+name",
         "labels": [
          "AZ",
          "CA",
          "CT",
          "DC",
          "GA",
          "MI",
          "MO",
          "OH",
          "TX",
          "VI"
         ],
         "marker": {
          "colors": [
           "rgb(0, 128, 128)",
           "rgb(112, 164, 148)",
           "rgb(180, 200, 168)",
           "rgb(246, 237, 189)",
           "rgb(237, 187, 138)",
           "rgb(222, 138, 90)",
           "rgb(202, 86, 44)"
          ]
         },
         "showlegend": false,
         "text": [
          "Arizona",
          "California",
          "Connecticut",
          "District of Columbia",
          "Georgia",
          "Michigan",
          "Missouri",
          "Ohio",
          "Texas",
          null
         ],
         "textinfo": "percent+label",
         "textposition": "inside",
         "type": "pie",
         "values": [
          1,
          14,
          1,
          1,
          1,
          1,
          1,
          1,
          2,
          1
         ],
         "visible": false
        },
        {
         "marker": {
          "color": "cadetblue",
          "opacity": 0.9
         },
         "opacity": 0.9,
         "showlegend": false,
         "text": [
          11.0,
          3.0,
          21.0,
          6.0,
          4.0,
          10.0
         ],
         "textposition": "outside",
         "type": "bar",
         "visible": false,
         "x": [
          "DNC members",
          "Mayors",
          "Representatives",
          "Senators",
          "State legislative leaders",
          "Statewide officeholders"
         ],
         "xaxis": "x",
         "y": [
          11,
          3,
          21,
          6,
          4,
          10
         ],
         "yaxis": "y"
        },
        {
         "marker": {
          "color": "indianred",
          "opacity": 0.9
         },
         "opacity": 0.9,
         "showlegend": false,
         "text": [
          11.0,
          4.0,
          2.0,
          3.0,
          2.0,
          2.0,
          21.0,
          6.0,
          2.0,
          2.0
         ],
         "textposition": "outside",
         "type": "bar",
         "visible": false,
         "x": [
          "DNC member",
          "attorney general",
          "lieutenant governor",
          "mayor",
          "president",
          "president pro tem",
          "representative",
          "senator",
          "state auditor",
          "state treasurer"
         ],
         "xaxis": "x2",
         "y": [
          11,
          4,
          2,
          3,
          2,
          2,
          21,
          6,
          2,
          2
         ],
         "yaxis": "y2"
        },
        {
         "domain": {
          "x": [
           0.55,
           1.0
          ],
          "y": [
           0.3888888888888889,
           0.6111111111111112
          ]
         },
         "hole": 0.4,
         "hoverinfo": "label+percent+name",
         "labels": [
          "D"
         ],
         "marker": {
          "colors": [
           "rgb(0, 128, 128)",
           "rgb(112, 164, 148)",
           "rgb(180, 200, 168)",
           "rgb(246, 237, 189)",
           "rgb(237, 187, 138)",
           "rgb(222, 138, 90)",
           "rgb(202, 86, 44)"
          ]
         },
         "showlegend": false,
         "text": [
          "D"
         ],
         "textinfo": "percent+label",
         "textposition": "inside",
         "type": "pie",
         "values": [
          55
         ],
         "visible": false
        },
        {
         "marker": {
          "color": "goldenrod",
          "opacity": 0.9
         },
         "opacity": 0.9,
         "showlegend": false,
         "text": [
          2.0,
          10.0,
          14.0,
          1.0
         ],
         "textposition": "outside",
         "type": "bar",
         "visible": false,
         "x": [
          "apnews",
          "other",
          "twitter",
          "youtube"
         ],
         "xaxis": "x3",
         "y": [
          2,
          10,
          14,
          1
         ],
         "yaxis": "y3"
        },
        {
         "domain": {
          "x": [
           0.55,
           1.0
          ],
          "y": [
           0.0,
           0.22222222222222224
          ]
         },
         "hole": 0.4,
         "hoverinfo": "label+percent+name",
         "labels": [
          "CA",
          "CO",
          "DC",
          "GA",
          "ME",
          "MI",
          "MN",
          "MO",
          "NY",
          "OH",
          "PR",
          "VT",
          "WA",
          "WI"
         ],
         "marker": {
          "colors": [
           "rgb(0, 128, 128)",
           "rgb(112, 164, 148)",
           "rgb(180, 200, 168)",
           "rgb(246, 237, 189)",
           "rgb(237, 187, 138)",
           "rgb(222, 138, 90)",
           "rgb(202, 86, 44)"
          ]
         },
         "showlegend": false,
         "text": [
          "California",
          "Colorado",
          "District of Columbia",
          "Georgia",
          "Maine",
          "Michigan",
          "Minnesota",
          "Missouri",
          "New York",
          "Ohio",
          null,
          "Vermont",
          "Washington",
          "Wisconsin"
         ],
         "textinfo": "percent+label",
         "textposition": "inside",
         "type": "pie",
         "values": [
          2,
          2,
          2,
          1,
          1,
          2,
          2,
          2,
          1,
          1,
          1,
          8,
          1,
          1
         ],
         "visible": false
        },
        {
         "marker": {
          "color": "cadetblue",
          "opacity": 0.9
         },
         "opacity": 0.9,
         "showlegend": false,
         "text": [
          7.0,
          8.0,
          27.0,
          6.0,
          4.0,
          2.0
         ],
         "textposition": "outside",
         "type": "bar",
         "visible": false,
         "x": [
          "DNC members",
          "Governors",
          "Representatives",
          "Senators",
          "State legislative leaders",
          "Statewide officeholders"
         ],
         "xaxis": "x",
         "y": [
          7,
          8,
          27,
          6,
          4,
          2
         ],
         "yaxis": "y"
        },
        {
         "marker": {
          "color": "indianred",
          "opacity": 0.9
         },
         "opacity": 0.9,
         "showlegend": false,
         "text": [
          7.0,
          8.0,
          2.0,
          2.0,
          27.0,
          6.0,
          2.0
         ],
         "textposition": "outside",
         "type": "bar",
         "visible": false,
         "x": [
          "DNC member",
          "governor",
          "lieutenant governor",
          "president",
          "representative",
          "senator",
          "speaker"
         ],
         "xaxis": "x2",
         "y": [
          7,
          8,
          2,
          2,
          27,
          6,
          2
         ],
         "yaxis": "y2"
        },
        {
         "domain": {
          "x": [
           0.55,
           1.0
          ],
          "y": [
           0.3888888888888889,
           0.6111111111111112
          ]
         },
         "hole": 0.4,
         "hoverinfo": "label+percent+name",
         "labels": [
          "D",
          "R"
         ],
         "marker": {
          "colors": [
           "rgb(0, 128, 128)",
           "rgb(112, 164, 148)",
           "rgb(180, 200, 168)",
           "rgb(246, 237, 189)",
           "rgb(237, 187, 138)",
           "rgb(222, 138, 90)",
           "rgb(202, 86, 44)"
          ]
         },
         "showlegend": false,
         "text": [
          "D",
          "R"
         ],
         "textinfo": "percent+label",
         "textposition": "inside",
         "type": "pie",
         "values": [
          51,
          3
         ],
         "visible": false
        },
        {
         "marker": {
          "color": "goldenrod",
          "opacity": 0.9
         },
         "opacity": 0.9,
         "showlegend": false,
         "text": [
          19.0,
          2.0
         ],
         "textposition": "outside",
         "type": "bar",
         "visible": false,
         "x": [
          "other",
          "twitter"
         ],
         "xaxis": "x3",
         "y": [
          19,
          2
         ],
         "yaxis": "y3"
        },
        {
         "domain": {
          "x": [
           0.55,
           1.0
          ],
          "y": [
           0.0,
           0.22222222222222224
          ]
         },
         "hole": 0.4,
         "hoverinfo": "label+percent+name",
         "labels": [
          "FL",
          "NJ",
          "SC"
         ],
         "marker": {
          "colors": [
           "rgb(0, 128, 128)",
           "rgb(112, 164, 148)",
           "rgb(180, 200, 168)",
           "rgb(246, 237, 189)",
           "rgb(237, 187, 138)",
           "rgb(222, 138, 90)",
           "rgb(202, 86, 44)"
          ]
         },
         "showlegend": false,
         "text": [
          "Florida",
          "New Jersey",
          "South Carolina"
         ],
         "textinfo": "percent+label",
         "textposition": "inside",
         "type": "pie",
         "values": [
          1,
          19,
          1
         ],
         "visible": false
        },
        {
         "marker": {
          "color": "cadetblue",
          "opacity": 0.9
         },
         "opacity": 0.9,
         "showlegend": false,
         "text": [
          8.0,
          6.0,
          10.0,
          15.0,
          6.0,
          4.0,
          4.0
         ],
         "textposition": "outside",
         "type": "bar",
         "visible": false,
         "x": [
          "Governors",
          "Mayors",
          "Past presidents and vice presidents",
          "Representatives",
          "Senators",
          "State legislative leaders",
          "Statewide officeholders"
         ],
         "xaxis": "x",
         "y": [
          8,
          6,
          10,
          15,
          6,
          4,
          4
         ],
         "yaxis": "y"
        },
        {
         "marker": {
          "color": "indianred",
          "opacity": 0.9
         },
         "opacity": 0.9,
         "showlegend": false,
         "text": [
          8.0,
          2.0,
          6.0,
          2.0,
          10.0,
          15.0,
          6.0,
          2.0,
          2.0
         ],
         "textposition": "outside",
         "type": "bar",
         "visible": false,
         "x": [
          "governor",
          "lieutenant governor",
          "mayor",
          "minority leader",
          "past vice president",
          "representative",
          "senator",
          "speaker",
          "state auditor"
         ],
         "xaxis": "x2",
         "y": [
          8,
          2,
          6,
          2,
          10,
          15,
          6,
          2,
          2
         ],
         "yaxis": "y2"
        },
        {
         "domain": {
          "x": [
           0.55,
           1.0
          ],
          "y": [
           0.3888888888888889,
           0.6111111111111112
          ]
         },
         "hole": 0.4,
         "hoverinfo": "label+percent+name",
         "labels": [
          "D"
         ],
         "marker": {
          "colors": [
           "rgb(0, 128, 128)",
           "rgb(112, 164, 148)",
           "rgb(180, 200, 168)",
           "rgb(246, 237, 189)",
           "rgb(237, 187, 138)",
           "rgb(222, 138, 90)",
           "rgb(202, 86, 44)"
          ]
         },
         "showlegend": false,
         "text": [
          "D"
         ],
         "textinfo": "percent+label",
         "textposition": "inside",
         "type": "pie",
         "values": [
          53
         ],
         "visible": false
        },
        {
         "marker": {
          "color": "goldenrod",
          "opacity": 0.9
         },
         "opacity": 0.9,
         "showlegend": false,
         "text": [
          2.0,
          5.0,
          5.0,
          2.0
         ],
         "textposition": "outside",
         "type": "bar",
         "visible": false,
         "x": [
          "4president",
          "other",
          "twitter",
          "youtube"
         ],
         "xaxis": "x3",
         "y": [
          2,
          5,
          5,
          2
         ],
         "yaxis": "y3"
        },
        {
         "domain": {
          "x": [
           0.55,
           1.0
          ],
          "y": [
           0.0,
           0.22222222222222224
          ]
         },
         "hole": 0.4,
         "hoverinfo": "label+percent+name",
         "labels": [
          "CA",
          "MN"
         ],
         "marker": {
          "colors": [
           "rgb(0, 128, 128)",
           "rgb(112, 164, 148)",
           "rgb(180, 200, 168)",
           "rgb(246, 237, 189)",
           "rgb(237, 187, 138)",
           "rgb(222, 138, 90)",
           "rgb(202, 86, 44)"
          ]
         },
         "showlegend": false,
         "text": [
          "California",
          "Minnesota"
         ],
         "textinfo": "percent+label",
         "textposition": "inside",
         "type": "pie",
         "values": [
          1,
          13
         ],
         "visible": false
        },
        {
         "marker": {
          "color": "cadetblue",
          "opacity": 0.9
         },
         "opacity": 0.9,
         "showlegend": false,
         "text": [
          5.0,
          5.0,
          5.0,
          3.0,
          5.0,
          36.0,
          6.0,
          8.0,
          14.0
         ],
         "textposition": "outside",
         "type": "bar",
         "visible": false,
         "x": [
          "Candidates who have dropped out",
          "DNC members",
          "Former party leaders",
          "Mayors",
          "Past nominees",
          "Representatives",
          "Senators",
          "State legislative leaders",
          "Statewide officeholders"
         ],
         "xaxis": "x",
         "y": [
          5,
          5,
          5,
          3,
          5,
          36,
          6,
          8,
          14
         ],
         "yaxis": "y"
        },
        {
         "marker": {
          "color": "indianred",
          "opacity": 0.9
         },
         "opacity": 0.9,
         "showlegend": false,
         "text": [
          5.0,
          5.0,
          2.0,
          2.0,
          5.0,
          3.0,
          2.0,
          5.0,
          2.0,
          36.0,
          2.0,
          6.0,
          2.0,
          2.0,
          2.0,
          2.0,
          4.0
         ],
         "textposition": "outside",
         "type": "bar",
         "visible": false,
         "x": [
          "DNC member",
          "Former 2020 candidate",
          "attorney general",
          "commissioner of labor and industries",
          "former U.S. House Democratic whip",
          "mayor",
          "minority leader",
          "past presidential nominee",
          "president",
          "representative",
          "secretary of state",
          "senator",
          "speaker",
          "speaker pro tem",
          "state comptroller",
          "state controller",
          "state treasurer"
         ],
         "xaxis": "x2",
         "y": [
          5,
          5,
          2,
          2,
          5,
          3,
          2,
          5,
          2,
          36,
          2,
          6,
          2,
          2,
          2,
          2,
          4
         ],
         "yaxis": "y2"
        },
        {
         "domain": {
          "x": [
           0.55,
           1.0
          ],
          "y": [
           0.3888888888888889,
           0.6111111111111112
          ]
         },
         "hole": 0.4,
         "hoverinfo": "label+percent+name",
         "labels": [
          "D"
         ],
         "marker": {
          "colors": [
           "rgb(0, 128, 128)",
           "rgb(112, 164, 148)",
           "rgb(180, 200, 168)",
           "rgb(246, 237, 189)",
           "rgb(237, 187, 138)",
           "rgb(222, 138, 90)",
           "rgb(202, 86, 44)"
          ]
         },
         "showlegend": false,
         "text": [
          "D"
         ],
         "textinfo": "percent+label",
         "textposition": "inside",
         "type": "pie",
         "values": [
          87
         ],
         "visible": false
        },
        {
         "marker": {
          "color": "goldenrod",
          "opacity": 0.9
         },
         "opacity": 0.9,
         "showlegend": false,
         "text": [
          1.0,
          17.0,
          15.0
         ],
         "textposition": "outside",
         "type": "bar",
         "visible": false,
         "x": [
          "apnews",
          "other",
          "twitter"
         ],
         "xaxis": "x3",
         "y": [
          1,
          17,
          15
         ],
         "yaxis": "y3"
        },
        {
         "domain": {
          "x": [
           0.55,
           1.0
          ],
          "y": [
           0.0,
           0.22222222222222224
          ]
         },
         "hole": 0.4,
         "hoverinfo": "label+percent+name",
         "labels": [
          "AZ",
          "CA",
          "CT",
          "IA",
          "IL",
          "MA",
          "MD",
          "MI",
          "NH",
          "NM",
          "NV",
          "OR",
          "PA",
          "TX"
         ],
         "marker": {
          "colors": [
           "rgb(0, 128, 128)",
           "rgb(112, 164, 148)",
           "rgb(180, 200, 168)",
           "rgb(246, 237, 189)",
           "rgb(237, 187, 138)",
           "rgb(222, 138, 90)",
           "rgb(202, 86, 44)"
          ]
         },
         "showlegend": false,
         "text": [
          "Arizona",
          "California",
          "Connecticut",
          "Iowa",
          "Illinois",
          "Massachusetts",
          "Maryland",
          "Michigan",
          "New Hampshire",
          "New Mexico",
          "Nevada",
          "Oregon",
          "Pennsylvania",
          "Texas"
         ],
         "textinfo": "percent+label",
         "textposition": "inside",
         "type": "pie",
         "values": [
          1,
          1,
          2,
          2,
          2,
          10,
          1,
          2,
          1,
          1,
          3,
          2,
          1,
          4
         ],
         "visible": false
        },
        {
         "marker": {
          "color": "cadetblue",
          "opacity": 0.9
         },
         "opacity": 0.9,
         "showlegend": false,
         "text": [
          9.0,
          2.0
         ],
         "textposition": "outside",
         "type": "bar",
         "visible": false,
         "x": [
          "Representatives",
          "Statewide officeholders"
         ],
         "xaxis": "x",
         "y": [
          9,
          2
         ],
         "yaxis": "y"
        },
        {
         "marker": {
          "color": "indianred",
          "opacity": 0.9
         },
         "opacity": 0.9,
         "showlegend": false,
         "text": [
          2.0,
          9.0
         ],
         "textposition": "outside",
         "type": "bar",
         "visible": false,
         "x": [
          "attorney general",
          "representative"
         ],
         "xaxis": "x2",
         "y": [
          2,
          9
         ],
         "yaxis": "y2"
        },
        {
         "domain": {
          "x": [
           0.55,
           1.0
          ],
          "y": [
           0.3888888888888889,
           0.6111111111111112
          ]
         },
         "hole": 0.4,
         "hoverinfo": "label+percent+name",
         "labels": [
          "D"
         ],
         "marker": {
          "colors": [
           "rgb(0, 128, 128)",
           "rgb(112, 164, 148)",
           "rgb(180, 200, 168)",
           "rgb(246, 237, 189)",
           "rgb(237, 187, 138)",
           "rgb(222, 138, 90)",
           "rgb(202, 86, 44)"
          ]
         },
         "showlegend": false,
         "text": [
          "D"
         ],
         "textinfo": "percent+label",
         "textposition": "inside",
         "type": "pie",
         "values": [
          11
         ],
         "visible": false
        },
        {
         "marker": {
          "color": "goldenrod",
          "opacity": 0.9
         },
         "opacity": 0.9,
         "showlegend": false,
         "text": [
          2.0,
          2.0
         ],
         "textposition": "outside",
         "type": "bar",
         "visible": false,
         "x": [
          "other",
          "twitter"
         ],
         "xaxis": "x3",
         "y": [
          2,
          2
         ],
         "yaxis": "y3"
        },
        {
         "domain": {
          "x": [
           0.55,
           1.0
          ],
          "y": [
           0.0,
           0.22222222222222224
          ]
         },
         "hole": 0.4,
         "hoverinfo": "label+percent+name",
         "labels": [
          "WA"
         ],
         "marker": {
          "colors": [
           "rgb(0, 128, 128)",
           "rgb(112, 164, 148)",
           "rgb(180, 200, 168)",
           "rgb(246, 237, 189)",
           "rgb(237, 187, 138)",
           "rgb(222, 138, 90)",
           "rgb(202, 86, 44)"
          ]
         },
         "showlegend": false,
         "text": [
          "Washington"
         ],
         "textinfo": "percent+label",
         "textposition": "inside",
         "type": "pie",
         "values": [
          4
         ],
         "visible": false
        },
        {
         "marker": {
          "color": "cadetblue",
          "opacity": 0.9
         },
         "opacity": 0.9,
         "showlegend": false,
         "text": [
          3.0
         ],
         "textposition": "outside",
         "type": "bar",
         "visible": false,
         "x": [
          "Representatives"
         ],
         "xaxis": "x",
         "y": [
          3
         ],
         "yaxis": "y"
        },
        {
         "marker": {
          "color": "indianred",
          "opacity": 0.9
         },
         "opacity": 0.9,
         "showlegend": false,
         "text": [
          3.0
         ],
         "textposition": "outside",
         "type": "bar",
         "visible": false,
         "x": [
          "representative"
         ],
         "xaxis": "x2",
         "y": [
          3
         ],
         "yaxis": "y2"
        },
        {
         "domain": {
          "x": [
           0.55,
           1.0
          ],
          "y": [
           0.3888888888888889,
           0.6111111111111112
          ]
         },
         "hole": 0.4,
         "hoverinfo": "label+percent+name",
         "labels": [
          "D"
         ],
         "marker": {
          "colors": [
           "rgb(0, 128, 128)",
           "rgb(112, 164, 148)",
           "rgb(180, 200, 168)",
           "rgb(246, 237, 189)",
           "rgb(237, 187, 138)",
           "rgb(222, 138, 90)",
           "rgb(202, 86, 44)"
          ]
         },
         "showlegend": false,
         "text": [
          "D"
         ],
         "textinfo": "percent+label",
         "textposition": "inside",
         "type": "pie",
         "values": [
          3
         ],
         "visible": false
        },
        {
         "marker": {
          "color": "goldenrod",
          "opacity": 0.9
         },
         "opacity": 0.9,
         "showlegend": false,
         "text": [
          1.0
         ],
         "textposition": "outside",
         "type": "bar",
         "visible": false,
         "x": [
          "other"
         ],
         "xaxis": "x3",
         "y": [
          1
         ],
         "yaxis": "y3"
        },
        {
         "domain": {
          "x": [
           0.55,
           1.0
          ],
          "y": [
           0.0,
           0.22222222222222224
          ]
         },
         "hole": 0.4,
         "hoverinfo": "label+percent+name",
         "labels": [
          "TX"
         ],
         "marker": {
          "colors": [
           "rgb(0, 128, 128)",
           "rgb(112, 164, 148)",
           "rgb(180, 200, 168)",
           "rgb(246, 237, 189)",
           "rgb(237, 187, 138)",
           "rgb(222, 138, 90)",
           "rgb(202, 86, 44)"
          ]
         },
         "showlegend": false,
         "text": [
          "Texas"
         ],
         "textinfo": "percent+label",
         "textposition": "inside",
         "type": "pie",
         "values": [
          1
         ],
         "visible": false
        },
        {
         "marker": {
          "color": "cadetblue",
          "opacity": 0.9
         },
         "opacity": 0.9,
         "showlegend": false,
         "text": [
          3.0
         ],
         "textposition": "outside",
         "type": "bar",
         "visible": false,
         "x": [
          "Representatives"
         ],
         "xaxis": "x",
         "y": [
          3
         ],
         "yaxis": "y"
        },
        {
         "marker": {
          "color": "indianred",
          "opacity": 0.9
         },
         "opacity": 0.9,
         "showlegend": false,
         "text": [
          3.0
         ],
         "textposition": "outside",
         "type": "bar",
         "visible": false,
         "x": [
          "representative"
         ],
         "xaxis": "x2",
         "y": [
          3
         ],
         "yaxis": "y2"
        },
        {
         "domain": {
          "x": [
           0.55,
           1.0
          ],
          "y": [
           0.3888888888888889,
           0.6111111111111112
          ]
         },
         "hole": 0.4,
         "hoverinfo": "label+percent+name",
         "labels": [
          "D"
         ],
         "marker": {
          "colors": [
           "rgb(0, 128, 128)",
           "rgb(112, 164, 148)",
           "rgb(180, 200, 168)",
           "rgb(246, 237, 189)",
           "rgb(237, 187, 138)",
           "rgb(222, 138, 90)",
           "rgb(202, 86, 44)"
          ]
         },
         "showlegend": false,
         "text": [
          "D"
         ],
         "textinfo": "percent+label",
         "textposition": "inside",
         "type": "pie",
         "values": [
          3
         ],
         "visible": false
        },
        {
         "marker": {
          "color": "goldenrod",
          "opacity": 0.9
         },
         "opacity": 0.9,
         "showlegend": false,
         "text": [
          1.0
         ],
         "textposition": "outside",
         "type": "bar",
         "visible": false,
         "x": [
          "twitter"
         ],
         "xaxis": "x3",
         "y": [
          1
         ],
         "yaxis": "y3"
        },
        {
         "domain": {
          "x": [
           0.55,
           1.0
          ],
          "y": [
           0.0,
           0.22222222222222224
          ]
         },
         "hole": 0.4,
         "hoverinfo": "label+percent+name",
         "labels": [
          "NY"
         ],
         "marker": {
          "colors": [
           "rgb(0, 128, 128)",
           "rgb(112, 164, 148)",
           "rgb(180, 200, 168)",
           "rgb(246, 237, 189)",
           "rgb(237, 187, 138)",
           "rgb(222, 138, 90)",
           "rgb(202, 86, 44)"
          ]
         },
         "showlegend": false,
         "text": [
          "New York"
         ],
         "textinfo": "percent+label",
         "textposition": "inside",
         "type": "pie",
         "values": [
          1
         ],
         "visible": false
        },
        {
         "marker": {
          "color": "cadetblue",
          "opacity": 0.9
         },
         "opacity": 0.9,
         "showlegend": false,
         "text": [
          3.0,
          5.0,
          6.0,
          18.0,
          4.0
         ],
         "textposition": "outside",
         "type": "bar",
         "visible": false,
         "x": [
          "DNC members",
          "Former party leaders",
          "Mayors",
          "Representatives",
          "State legislative leaders"
         ],
         "xaxis": "x",
         "y": [
          3,
          5,
          6,
          18,
          4
         ],
         "yaxis": "y"
        },
        {
         "marker": {
          "color": "indianred",
          "opacity": 0.9
         },
         "opacity": 0.9,
         "showlegend": false,
         "text": [
          3.0,
          5.0,
          6.0,
          4.0,
          18.0
         ],
         "textposition": "outside",
         "type": "bar",
         "visible": false,
         "x": [
          "DNC member",
          "former DNC chair",
          "mayor",
          "minority leader",
          "representative"
         ],
         "xaxis": "x2",
         "y": [
          3,
          5,
          6,
          4,
          18
         ],
         "yaxis": "y2"
        },
        {
         "domain": {
          "x": [
           0.55,
           1.0
          ],
          "y": [
           0.3888888888888889,
           0.6111111111111112
          ]
         },
         "hole": 0.4,
         "hoverinfo": "label+percent+name",
         "labels": [
          "D"
         ],
         "marker": {
          "colors": [
           "rgb(0, 128, 128)",
           "rgb(112, 164, 148)",
           "rgb(180, 200, 168)",
           "rgb(246, 237, 189)",
           "rgb(237, 187, 138)",
           "rgb(222, 138, 90)",
           "rgb(202, 86, 44)"
          ]
         },
         "showlegend": false,
         "text": [
          "D"
         ],
         "textinfo": "percent+label",
         "textposition": "inside",
         "type": "pie",
         "values": [
          36
         ],
         "visible": false
        },
        {
         "marker": {
          "color": "goldenrod",
          "opacity": 0.9
         },
         "opacity": 0.9,
         "showlegend": false,
         "text": [
          1.0,
          12.0,
          1.0
         ],
         "textposition": "outside",
         "type": "bar",
         "visible": false,
         "x": [
          "cnn",
          "other",
          "twitter"
         ],
         "xaxis": "x3",
         "y": [
          1,
          12,
          1
         ],
         "yaxis": "y3"
        },
        {
         "domain": {
          "x": [
           0.55,
           1.0
          ],
          "y": [
           0.0,
           0.22222222222222224
          ]
         },
         "hole": 0.4,
         "hoverinfo": "label+percent+name",
         "labels": [
          "DC",
          "IA",
          "IN",
          "MA",
          "MD",
          "MI",
          "ND",
          "NH",
          "NY",
          "OH",
          "TN",
          "TX",
          "VA"
         ],
         "marker": {
          "colors": [
           "rgb(0, 128, 128)",
           "rgb(112, 164, 148)",
           "rgb(180, 200, 168)",
           "rgb(246, 237, 189)",
           "rgb(237, 187, 138)",
           "rgb(222, 138, 90)",
           "rgb(202, 86, 44)"
          ]
         },
         "showlegend": false,
         "text": [
          "District of Columbia",
          "Iowa",
          "Indiana",
          "Massachusetts",
          "Maryland",
          "Michigan",
          "North Dakota",
          "New Hampshire",
          "New York",
          "Ohio",
          "Tennessee",
          "Texas",
          "Virginia"
         ],
         "textinfo": "percent+label",
         "textposition": "inside",
         "type": "pie",
         "values": [
          1,
          1,
          1,
          1,
          1,
          1,
          1,
          1,
          1,
          2,
          1,
          1,
          1
         ],
         "visible": false
        },
        {
         "marker": {
          "color": "cadetblue",
          "opacity": 0.9
         },
         "opacity": 0.9,
         "showlegend": false,
         "text": [
          1.0,
          6.0
         ],
         "textposition": "outside",
         "type": "bar",
         "visible": false,
         "x": [
          "DNC members",
          "Senators"
         ],
         "xaxis": "x",
         "y": [
          1,
          6
         ],
         "yaxis": "y"
        },
        {
         "marker": {
          "color": "indianred",
          "opacity": 0.9
         },
         "opacity": 0.9,
         "showlegend": false,
         "text": [
          1.0,
          6.0
         ],
         "textposition": "outside",
         "type": "bar",
         "visible": false,
         "x": [
          "DNC member",
          "senator"
         ],
         "xaxis": "x2",
         "y": [
          1,
          6
         ],
         "yaxis": "y2"
        },
        {
         "domain": {
          "x": [
           0.55,
           1.0
          ],
          "y": [
           0.3888888888888889,
           0.6111111111111112
          ]
         },
         "hole": 0.4,
         "hoverinfo": "label+percent+name",
         "labels": [
          "D"
         ],
         "marker": {
          "colors": [
           "rgb(0, 128, 128)",
           "rgb(112, 164, 148)",
           "rgb(180, 200, 168)",
           "rgb(246, 237, 189)",
           "rgb(237, 187, 138)",
           "rgb(222, 138, 90)",
           "rgb(202, 86, 44)"
          ]
         },
         "showlegend": false,
         "text": [
          "D"
         ],
         "textinfo": "percent+label",
         "textposition": "inside",
         "type": "pie",
         "values": [
          7
         ],
         "visible": false
        },
        {
         "marker": {
          "color": "goldenrod",
          "opacity": 0.9
         },
         "opacity": 0.9,
         "showlegend": false,
         "text": [
          1.0,
          1.0
         ],
         "textposition": "outside",
         "type": "bar",
         "visible": false,
         "x": [
          "other",
          "politico"
         ],
         "xaxis": "x3",
         "y": [
          1,
          1
         ],
         "yaxis": "y3"
        },
        {
         "domain": {
          "x": [
           0.55,
           1.0
          ],
          "y": [
           0.0,
           0.22222222222222224
          ]
         },
         "hole": 0.4,
         "hoverinfo": "label+percent+name",
         "labels": [
          "IA",
          "MT"
         ],
         "marker": {
          "colors": [
           "rgb(0, 128, 128)",
           "rgb(112, 164, 148)",
           "rgb(180, 200, 168)",
           "rgb(246, 237, 189)",
           "rgb(237, 187, 138)",
           "rgb(222, 138, 90)",
           "rgb(202, 86, 44)"
          ]
         },
         "showlegend": false,
         "text": [
          "Iowa",
          "Montana"
         ],
         "textinfo": "percent+label",
         "textposition": "inside",
         "type": "pie",
         "values": [
          1,
          1
         ],
         "visible": false
        },
        {
         "marker": {
          "color": "cadetblue",
          "opacity": 0.9
         },
         "opacity": 0.9,
         "showlegend": false,
         "text": [
          5.0,
          5.0,
          3.0,
          2.0
         ],
         "textposition": "outside",
         "type": "bar",
         "visible": false,
         "x": [
          "Candidates who have dropped out",
          "Former party leaders",
          "Mayors",
          "Statewide officeholders"
         ],
         "xaxis": "x",
         "y": [
          5,
          5,
          3,
          2
         ],
         "yaxis": "y"
        },
        {
         "marker": {
          "color": "indianred",
          "opacity": 0.9
         },
         "opacity": 0.9,
         "showlegend": false,
         "text": [
          5.0,
          2.0,
          5.0,
          3.0
         ],
         "textposition": "outside",
         "type": "bar",
         "visible": false,
         "x": [
          "Former 2020 candidate",
          "attorney general",
          "former DNC chair",
          "mayor"
         ],
         "xaxis": "x2",
         "y": [
          5,
          2,
          5,
          3
         ],
         "yaxis": "y2"
        },
        {
         "domain": {
          "x": [
           0.55,
           1.0
          ],
          "y": [
           0.3888888888888889,
           0.6111111111111112
          ]
         },
         "hole": 0.4,
         "hoverinfo": "label+percent+name",
         "labels": [
          "D"
         ],
         "marker": {
          "colors": [
           "rgb(0, 128, 128)",
           "rgb(112, 164, 148)",
           "rgb(180, 200, 168)",
           "rgb(246, 237, 189)",
           "rgb(237, 187, 138)",
           "rgb(222, 138, 90)",
           "rgb(202, 86, 44)"
          ]
         },
         "showlegend": false,
         "text": [
          "D"
         ],
         "textinfo": "percent+label",
         "textposition": "inside",
         "type": "pie",
         "values": [
          15
         ],
         "visible": false
        },
        {
         "marker": {
          "color": "goldenrod",
          "opacity": 0.9
         },
         "opacity": 0.9,
         "showlegend": false,
         "text": [
          1.0,
          3.0
         ],
         "textposition": "outside",
         "type": "bar",
         "visible": false,
         "x": [
          "apnews",
          "other"
         ],
         "xaxis": "x3",
         "y": [
          1,
          3
         ],
         "yaxis": "y3"
        },
        {
         "domain": {
          "x": [
           0.55,
           1.0
          ],
          "y": [
           0.0,
           0.22222222222222224
          ]
         },
         "hole": 0.4,
         "hoverinfo": "label+percent+name",
         "labels": [
          "CO"
         ],
         "marker": {
          "colors": [
           "rgb(0, 128, 128)",
           "rgb(112, 164, 148)",
           "rgb(180, 200, 168)",
           "rgb(246, 237, 189)",
           "rgb(237, 187, 138)",
           "rgb(222, 138, 90)",
           "rgb(202, 86, 44)"
          ]
         },
         "showlegend": false,
         "text": [
          "Colorado"
         ],
         "textinfo": "percent+label",
         "textposition": "inside",
         "type": "pie",
         "values": [
          4
         ],
         "visible": false
        },
        {
         "marker": {
          "color": "cadetblue",
          "opacity": 0.9
         },
         "opacity": 0.9,
         "showlegend": false,
         "text": [
          4.0,
          8.0,
          18.0,
          18.0,
          2.0
         ],
         "textposition": "outside",
         "type": "bar",
         "visible": false,
         "x": [
          "DNC members",
          "Governors",
          "Mayors",
          "Representatives",
          "Statewide officeholders"
         ],
         "xaxis": "x",
         "y": [
          4,
          8,
          18,
          18,
          2
         ],
         "yaxis": "y"
        },
        {
         "marker": {
          "color": "indianred",
          "opacity": 0.9
         },
         "opacity": 0.9,
         "showlegend": false,
         "text": [
          4.0,
          26.0,
          18.0,
          2.0
         ],
         "textposition": "outside",
         "type": "bar",
         "visible": false,
         "x": [
          "DNC member",
          "mayor",
          "representative",
          "state treasurer"
         ],
         "xaxis": "x2",
         "y": [
          4,
          26,
          18,
          2
         ],
         "yaxis": "y2"
        },
        {
         "domain": {
          "x": [
           0.55,
           1.0
          ],
          "y": [
           0.3888888888888889,
           0.6111111111111112
          ]
         },
         "hole": 0.4,
         "hoverinfo": "label+percent+name",
         "labels": [
          "D",
          "None"
         ],
         "marker": {
          "colors": [
           "rgb(0, 128, 128)",
           "rgb(112, 164, 148)",
           "rgb(180, 200, 168)",
           "rgb(246, 237, 189)",
           "rgb(237, 187, 138)",
           "rgb(222, 138, 90)",
           "rgb(202, 86, 44)"
          ]
         },
         "showlegend": false,
         "text": [
          "D",
          "None"
         ],
         "textinfo": "percent+label",
         "textposition": "inside",
         "type": "pie",
         "values": [
          47,
          3
         ],
         "visible": false
        },
        {
         "marker": {
          "color": "goldenrod",
          "opacity": 0.9
         },
         "opacity": 0.9,
         "showlegend": false,
         "text": [
          1.0,
          11.0,
          3.0,
          3.0
         ],
         "textposition": "outside",
         "type": "bar",
         "visible": false,
         "x": [
          "apnews",
          "other",
          "politico",
          "twitter"
         ],
         "xaxis": "x3",
         "y": [
          1,
          11,
          3,
          3
         ],
         "yaxis": "y3"
        },
        {
         "domain": {
          "x": [
           0.55,
           1.0
          ],
          "y": [
           0.0,
           0.22222222222222224
          ]
         },
         "hole": 0.4,
         "hoverinfo": "label+percent+name",
         "labels": [
          "CA",
          "DC",
          "FL",
          "IL",
          "KY",
          "NY",
          "PA",
          "TN",
          "TX",
          "UT",
          "WI"
         ],
         "marker": {
          "colors": [
           "rgb(0, 128, 128)",
           "rgb(112, 164, 148)",
           "rgb(180, 200, 168)",
           "rgb(246, 237, 189)",
           "rgb(237, 187, 138)",
           "rgb(222, 138, 90)",
           "rgb(202, 86, 44)"
          ]
         },
         "showlegend": false,
         "text": [
          "California",
          "District of Columbia",
          "Florida",
          "Illinois",
          "Kentucky",
          "New York",
          "Pennsylvania",
          "Tennessee",
          "Texas",
          "Utah",
          "Wisconsin"
         ],
         "textinfo": "percent+label",
         "textposition": "inside",
         "type": "pie",
         "values": [
          8,
          1,
          1,
          1,
          1,
          1,
          1,
          1,
          1,
          1,
          1
         ],
         "visible": false
        },
        {
         "marker": {
          "color": "cadetblue",
          "opacity": 0.9
         },
         "opacity": 0.9,
         "showlegend": false,
         "text": [
          1.0
         ],
         "textposition": "outside",
         "type": "bar",
         "visible": false,
         "x": [
          "DNC members"
         ],
         "xaxis": "x",
         "y": [
          1
         ],
         "yaxis": "y"
        },
        {
         "marker": {
          "color": "indianred",
          "opacity": 0.9
         },
         "opacity": 0.9,
         "showlegend": false,
         "text": [
          1.0
         ],
         "textposition": "outside",
         "type": "bar",
         "visible": false,
         "x": [
          "DNC member"
         ],
         "xaxis": "x2",
         "y": [
          1
         ],
         "yaxis": "y2"
        },
        {
         "domain": {
          "x": [
           0.55,
           1.0
          ],
          "y": [
           0.3888888888888889,
           0.6111111111111112
          ]
         },
         "hole": 0.4,
         "hoverinfo": "label+percent+name",
         "labels": [
          "D"
         ],
         "marker": {
          "colors": [
           "rgb(0, 128, 128)",
           "rgb(112, 164, 148)",
           "rgb(180, 200, 168)",
           "rgb(246, 237, 189)",
           "rgb(237, 187, 138)",
           "rgb(222, 138, 90)",
           "rgb(202, 86, 44)"
          ]
         },
         "showlegend": false,
         "text": [
          "D"
         ],
         "textinfo": "percent+label",
         "textposition": "inside",
         "type": "pie",
         "values": [
          1
         ],
         "visible": false
        },
        {
         "marker": {
          "color": "goldenrod",
          "opacity": 0.9
         },
         "opacity": 0.9,
         "showlegend": false,
         "text": [
          1.0
         ],
         "textposition": "outside",
         "type": "bar",
         "visible": false,
         "x": [
          "4president"
         ],
         "xaxis": "x3",
         "y": [
          1
         ],
         "yaxis": "y3"
        },
        {
         "domain": {
          "x": [
           0.55,
           1.0
          ],
          "y": [
           0.0,
           0.22222222222222224
          ]
         },
         "hole": 0.4,
         "hoverinfo": "label+percent+name",
         "labels": [
          "DC"
         ],
         "marker": {
          "colors": [
           "rgb(0, 128, 128)",
           "rgb(112, 164, 148)",
           "rgb(180, 200, 168)",
           "rgb(246, 237, 189)",
           "rgb(237, 187, 138)",
           "rgb(222, 138, 90)",
           "rgb(202, 86, 44)"
          ]
         },
         "showlegend": false,
         "text": [
          "District of Columbia"
         ],
         "textinfo": "percent+label",
         "textposition": "inside",
         "type": "pie",
         "values": [
          1
         ],
         "visible": false
        }
       ],
       "layout": {
        "annotations": [
         {
          "font": {
           "size": 16
          },
          "showarrow": false,
          "text": "Points by Endorser Category",
          "x": 0.5,
          "xanchor": "center",
          "xref": "paper",
          "y": 1.0,
          "yanchor": "bottom",
          "yref": "paper"
         },
         {
          "font": {
           "size": 16
          },
          "showarrow": false,
          "text": "Points by Endorser Position",
          "x": 0.225,
          "xanchor": "center",
          "xref": "paper",
          "y": 0.6111111111111112,
          "yanchor": "bottom",
          "yref": "paper"
         },
         {
          "font": {
           "size": 16
          },
          "showarrow": false,
          "text": "Percentage of Points by Endorser Party",
          "x": 0.775,
          "xanchor": "center",
          "xref": "paper",
          "y": 0.6111111111111112,
          "yanchor": "bottom",
          "yref": "paper"
         },
         {
          "font": {
           "size": 16
          },
          "showarrow": false,
          "text": "Number of Votes by Endorser Source",
          "x": 0.225,
          "xanchor": "center",
          "xref": "paper",
          "y": 0.22222222222222224,
          "yanchor": "bottom",
          "yref": "paper"
         },
         {
          "font": {
           "size": 16
          },
          "showarrow": false,
          "text": "Percentage of Votes by Endorser State",
          "x": 0.775,
          "xanchor": "center",
          "xref": "paper",
          "y": 0.22222222222222224,
          "yanchor": "bottom",
          "yref": "paper"
         },
         {
          "align": "left",
          "showarrow": false,
          "text": "Select Endorsee",
          "x": -0.15,
          "xref": "paper",
          "y": 1.05,
          "yref": "paper"
         }
        ],
        "bargap": 0.1,
        "height": 1350,
        "margin": {
         "t": 150
        },
        "showlegend": true,
        "template": {
         "data": {
          "bar": [
           {
            "error_x": {
             "color": "#2a3f5f"
            },
            "error_y": {
             "color": "#2a3f5f"
            },
            "marker": {
             "line": {
              "color": "#E5ECF6",
              "width": 0.5
             }
            },
            "type": "bar"
           }
          ],
          "barpolar": [
           {
            "marker": {
             "line": {
              "color": "#E5ECF6",
              "width": 0.5
             }
            },
            "type": "barpolar"
           }
          ],
          "carpet": [
           {
            "aaxis": {
             "endlinecolor": "#2a3f5f",
             "gridcolor": "white",
             "linecolor": "white",
             "minorgridcolor": "white",
             "startlinecolor": "#2a3f5f"
            },
            "baxis": {
             "endlinecolor": "#2a3f5f",
             "gridcolor": "white",
             "linecolor": "white",
             "minorgridcolor": "white",
             "startlinecolor": "#2a3f5f"
            },
            "type": "carpet"
           }
          ],
          "choropleth": [
           {
            "colorbar": {
             "outlinewidth": 0,
             "ticks": ""
            },
            "type": "choropleth"
           }
          ],
          "contour": [
           {
            "colorbar": {
             "outlinewidth": 0,
             "ticks": ""
            },
            "colorscale": [
             [
              0.0,
              "#0d0887"
             ],
             [
              0.1111111111111111,
              "#46039f"
             ],
             [
              0.2222222222222222,
              "#7201a8"
             ],
             [
              0.3333333333333333,
              "#9c179e"
             ],
             [
              0.4444444444444444,
              "#bd3786"
             ],
             [
              0.5555555555555556,
              "#d8576b"
             ],
             [
              0.6666666666666666,
              "#ed7953"
             ],
             [
              0.7777777777777778,
              "#fb9f3a"
             ],
             [
              0.8888888888888888,
              "#fdca26"
             ],
             [
              1.0,
              "#f0f921"
             ]
            ],
            "type": "contour"
           }
          ],
          "contourcarpet": [
           {
            "colorbar": {
             "outlinewidth": 0,
             "ticks": ""
            },
            "type": "contourcarpet"
           }
          ],
          "heatmap": [
           {
            "colorbar": {
             "outlinewidth": 0,
             "ticks": ""
            },
            "colorscale": [
             [
              0.0,
              "#0d0887"
             ],
             [
              0.1111111111111111,
              "#46039f"
             ],
             [
              0.2222222222222222,
              "#7201a8"
             ],
             [
              0.3333333333333333,
              "#9c179e"
             ],
             [
              0.4444444444444444,
              "#bd3786"
             ],
             [
              0.5555555555555556,
              "#d8576b"
             ],
             [
              0.6666666666666666,
              "#ed7953"
             ],
             [
              0.7777777777777778,
              "#fb9f3a"
             ],
             [
              0.8888888888888888,
              "#fdca26"
             ],
             [
              1.0,
              "#f0f921"
             ]
            ],
            "type": "heatmap"
           }
          ],
          "heatmapgl": [
           {
            "colorbar": {
             "outlinewidth": 0,
             "ticks": ""
            },
            "colorscale": [
             [
              0.0,
              "#0d0887"
             ],
             [
              0.1111111111111111,
              "#46039f"
             ],
             [
              0.2222222222222222,
              "#7201a8"
             ],
             [
              0.3333333333333333,
              "#9c179e"
             ],
             [
              0.4444444444444444,
              "#bd3786"
             ],
             [
              0.5555555555555556,
              "#d8576b"
             ],
             [
              0.6666666666666666,
              "#ed7953"
             ],
             [
              0.7777777777777778,
              "#fb9f3a"
             ],
             [
              0.8888888888888888,
              "#fdca26"
             ],
             [
              1.0,
              "#f0f921"
             ]
            ],
            "type": "heatmapgl"
           }
          ],
          "histogram": [
           {
            "marker": {
             "colorbar": {
              "outlinewidth": 0,
              "ticks": ""
             }
            },
            "type": "histogram"
           }
          ],
          "histogram2d": [
           {
            "colorbar": {
             "outlinewidth": 0,
             "ticks": ""
            },
            "colorscale": [
             [
              0.0,
              "#0d0887"
             ],
             [
              0.1111111111111111,
              "#46039f"
             ],
             [
              0.2222222222222222,
              "#7201a8"
             ],
             [
              0.3333333333333333,
              "#9c179e"
             ],
             [
              0.4444444444444444,
              "#bd3786"
             ],
             [
              0.5555555555555556,
              "#d8576b"
             ],
             [
              0.6666666666666666,
              "#ed7953"
             ],
             [
              0.7777777777777778,
              "#fb9f3a"
             ],
             [
              0.8888888888888888,
              "#fdca26"
             ],
             [
              1.0,
              "#f0f921"
             ]
            ],
            "type": "histogram2d"
           }
          ],
          "histogram2dcontour": [
           {
            "colorbar": {
             "outlinewidth": 0,
             "ticks": ""
            },
            "colorscale": [
             [
              0.0,
              "#0d0887"
             ],
             [
              0.1111111111111111,
              "#46039f"
             ],
             [
              0.2222222222222222,
              "#7201a8"
             ],
             [
              0.3333333333333333,
              "#9c179e"
             ],
             [
              0.4444444444444444,
              "#bd3786"
             ],
             [
              0.5555555555555556,
              "#d8576b"
             ],
             [
              0.6666666666666666,
              "#ed7953"
             ],
             [
              0.7777777777777778,
              "#fb9f3a"
             ],
             [
              0.8888888888888888,
              "#fdca26"
             ],
             [
              1.0,
              "#f0f921"
             ]
            ],
            "type": "histogram2dcontour"
           }
          ],
          "mesh3d": [
           {
            "colorbar": {
             "outlinewidth": 0,
             "ticks": ""
            },
            "type": "mesh3d"
           }
          ],
          "parcoords": [
           {
            "line": {
             "colorbar": {
              "outlinewidth": 0,
              "ticks": ""
             }
            },
            "type": "parcoords"
           }
          ],
          "pie": [
           {
            "automargin": true,
            "type": "pie"
           }
          ],
          "scatter": [
           {
            "marker": {
             "colorbar": {
              "outlinewidth": 0,
              "ticks": ""
             }
            },
            "type": "scatter"
           }
          ],
          "scatter3d": [
           {
            "line": {
             "colorbar": {
              "outlinewidth": 0,
              "ticks": ""
             }
            },
            "marker": {
             "colorbar": {
              "outlinewidth": 0,
              "ticks": ""
             }
            },
            "type": "scatter3d"
           }
          ],
          "scattercarpet": [
           {
            "marker": {
             "colorbar": {
              "outlinewidth": 0,
              "ticks": ""
             }
            },
            "type": "scattercarpet"
           }
          ],
          "scattergeo": [
           {
            "marker": {
             "colorbar": {
              "outlinewidth": 0,
              "ticks": ""
             }
            },
            "type": "scattergeo"
           }
          ],
          "scattergl": [
           {
            "marker": {
             "colorbar": {
              "outlinewidth": 0,
              "ticks": ""
             }
            },
            "type": "scattergl"
           }
          ],
          "scattermapbox": [
           {
            "marker": {
             "colorbar": {
              "outlinewidth": 0,
              "ticks": ""
             }
            },
            "type": "scattermapbox"
           }
          ],
          "scatterpolar": [
           {
            "marker": {
             "colorbar": {
              "outlinewidth": 0,
              "ticks": ""
             }
            },
            "type": "scatterpolar"
           }
          ],
          "scatterpolargl": [
           {
            "marker": {
             "colorbar": {
              "outlinewidth": 0,
              "ticks": ""
             }
            },
            "type": "scatterpolargl"
           }
          ],
          "scatterternary": [
           {
            "marker": {
             "colorbar": {
              "outlinewidth": 0,
              "ticks": ""
             }
            },
            "type": "scatterternary"
           }
          ],
          "surface": [
           {
            "colorbar": {
             "outlinewidth": 0,
             "ticks": ""
            },
            "colorscale": [
             [
              0.0,
              "#0d0887"
             ],
             [
              0.1111111111111111,
              "#46039f"
             ],
             [
              0.2222222222222222,
              "#7201a8"
             ],
             [
              0.3333333333333333,
              "#9c179e"
             ],
             [
              0.4444444444444444,
              "#bd3786"
             ],
             [
              0.5555555555555556,
              "#d8576b"
             ],
             [
              0.6666666666666666,
              "#ed7953"
             ],
             [
              0.7777777777777778,
              "#fb9f3a"
             ],
             [
              0.8888888888888888,
              "#fdca26"
             ],
             [
              1.0,
              "#f0f921"
             ]
            ],
            "type": "surface"
           }
          ],
          "table": [
           {
            "cells": {
             "fill": {
              "color": "#EBF0F8"
             },
             "line": {
              "color": "white"
             }
            },
            "header": {
             "fill": {
              "color": "#C8D4E3"
             },
             "line": {
              "color": "white"
             }
            },
            "type": "table"
           }
          ]
         },
         "layout": {
          "annotationdefaults": {
           "arrowcolor": "#2a3f5f",
           "arrowhead": 0,
           "arrowwidth": 1
          },
          "coloraxis": {
           "colorbar": {
            "outlinewidth": 0,
            "ticks": ""
           }
          },
          "colorscale": {
           "diverging": [
            [
             0,
             "#8e0152"
            ],
            [
             0.1,
             "#c51b7d"
            ],
            [
             0.2,
             "#de77ae"
            ],
            [
             0.3,
             "#f1b6da"
            ],
            [
             0.4,
             "#fde0ef"
            ],
            [
             0.5,
             "#f7f7f7"
            ],
            [
             0.6,
             "#e6f5d0"
            ],
            [
             0.7,
             "#b8e186"
            ],
            [
             0.8,
             "#7fbc41"
            ],
            [
             0.9,
             "#4d9221"
            ],
            [
             1,
             "#276419"
            ]
           ],
           "sequential": [
            [
             0.0,
             "#0d0887"
            ],
            [
             0.1111111111111111,
             "#46039f"
            ],
            [
             0.2222222222222222,
             "#7201a8"
            ],
            [
             0.3333333333333333,
             "#9c179e"
            ],
            [
             0.4444444444444444,
             "#bd3786"
            ],
            [
             0.5555555555555556,
             "#d8576b"
            ],
            [
             0.6666666666666666,
             "#ed7953"
            ],
            [
             0.7777777777777778,
             "#fb9f3a"
            ],
            [
             0.8888888888888888,
             "#fdca26"
            ],
            [
             1.0,
             "#f0f921"
            ]
           ],
           "sequentialminus": [
            [
             0.0,
             "#0d0887"
            ],
            [
             0.1111111111111111,
             "#46039f"
            ],
            [
             0.2222222222222222,
             "#7201a8"
            ],
            [
             0.3333333333333333,
             "#9c179e"
            ],
            [
             0.4444444444444444,
             "#bd3786"
            ],
            [
             0.5555555555555556,
             "#d8576b"
            ],
            [
             0.6666666666666666,
             "#ed7953"
            ],
            [
             0.7777777777777778,
             "#fb9f3a"
            ],
            [
             0.8888888888888888,
             "#fdca26"
            ],
            [
             1.0,
             "#f0f921"
            ]
           ]
          },
          "colorway": [
           "#636efa",
           "#EF553B",
           "#00cc96",
           "#ab63fa",
           "#FFA15A",
           "#19d3f3",
           "#FF6692",
           "#B6E880",
           "#FF97FF",
           "#FECB52"
          ],
          "font": {
           "color": "#2a3f5f"
          },
          "geo": {
           "bgcolor": "white",
           "lakecolor": "white",
           "landcolor": "#E5ECF6",
           "showlakes": true,
           "showland": true,
           "subunitcolor": "white"
          },
          "hoverlabel": {
           "align": "left"
          },
          "hovermode": "closest",
          "mapbox": {
           "style": "light"
          },
          "paper_bgcolor": "white",
          "plot_bgcolor": "#E5ECF6",
          "polar": {
           "angularaxis": {
            "gridcolor": "white",
            "linecolor": "white",
            "ticks": ""
           },
           "bgcolor": "#E5ECF6",
           "radialaxis": {
            "gridcolor": "white",
            "linecolor": "white",
            "ticks": ""
           }
          },
          "scene": {
           "xaxis": {
            "backgroundcolor": "#E5ECF6",
            "gridcolor": "white",
            "gridwidth": 2,
            "linecolor": "white",
            "showbackground": true,
            "ticks": "",
            "zerolinecolor": "white"
           },
           "yaxis": {
            "backgroundcolor": "#E5ECF6",
            "gridcolor": "white",
            "gridwidth": 2,
            "linecolor": "white",
            "showbackground": true,
            "ticks": "",
            "zerolinecolor": "white"
           },
           "zaxis": {
            "backgroundcolor": "#E5ECF6",
            "gridcolor": "white",
            "gridwidth": 2,
            "linecolor": "white",
            "showbackground": true,
            "ticks": "",
            "zerolinecolor": "white"
           }
          },
          "shapedefaults": {
           "line": {
            "color": "#2a3f5f"
           }
          },
          "ternary": {
           "aaxis": {
            "gridcolor": "white",
            "linecolor": "white",
            "ticks": ""
           },
           "baxis": {
            "gridcolor": "white",
            "linecolor": "white",
            "ticks": ""
           },
           "bgcolor": "#E5ECF6",
           "caxis": {
            "gridcolor": "white",
            "linecolor": "white",
            "ticks": ""
           }
          },
          "title": {
           "x": 0.05
          },
          "xaxis": {
           "automargin": true,
           "gridcolor": "white",
           "linecolor": "white",
           "ticks": "",
           "title": {
            "standoff": 15
           },
           "zerolinecolor": "white",
           "zerolinewidth": 2
          },
          "yaxis": {
           "automargin": true,
           "gridcolor": "white",
           "linecolor": "white",
           "ticks": "",
           "title": {
            "standoff": 15
           },
           "zerolinecolor": "white",
           "zerolinewidth": 2
          }
         }
        },
        "title": {
         "font": {
          "size": 22
         },
         "text": "<b> Endorsee Summary <b>",
         "x": 0.5,
         "xanchor": "center",
         "y": 0.95,
         "yanchor": "top"
        },
        "updatemenus": [
         {
          "active": 1,
          "buttons": [
           {
            "args": [
             {
              "visible": [
               true,
               true,
               true,
               true,
               true,
               false,
               false,
               false,
               false,
               false,
               false,
               false,
               false,
               false,
               false,
               false,
               false,
               false,
               false,
               false,
               false,
               false,
               false,
               false,
               false,
               false,
               false,
               false,
               false,
               false,
               false,
               false,
               false,
               false,
               false,
               false,
               false,
               false,
               false,
               false,
               false,
               false,
               false,
               false,
               false,
               false,
               false,
               false,
               false,
               false,
               false,
               false,
               false,
               false,
               false,
               false,
               false,
               false,
               false,
               false,
               false,
               false,
               false,
               false,
               false,
               false,
               false,
               false,
               false,
               false,
               false,
               false,
               false,
               false,
               false,
               false,
               false,
               false,
               false,
               false
              ]
             }
            ],
            "label": "Delaney",
            "method": "update"
           },
           {
            "args": [
             {
              "visible": [
               false,
               false,
               false,
               false,
               false,
               true,
               true,
               true,
               true,
               true,
               false,
               false,
               false,
               false,
               false,
               false,
               false,
               false,
               false,
               false,
               false,
               false,
               false,
               false,
               false,
               false,
               false,
               false,
               false,
               false,
               false,
               false,
               false,
               false,
               false,
               false,
               false,
               false,
               false,
               false,
               false,
               false,
               false,
               false,
               false,
               false,
               false,
               false,
               false,
               false,
               false,
               false,
               false,
               false,
               false,
               false,
               false,
               false,
               false,
               false,
               false,
               false,
               false,
               false,
               false,
               false,
               false,
               false,
               false,
               false,
               false,
               false,
               false,
               false,
               false,
               false,
               false,
               false,
               false,
               false
              ]
             }
            ],
            "label": "Biden",
            "method": "update"
           },
           {
            "args": [
             {
              "visible": [
               false,
               false,
               false,
               false,
               false,
               false,
               false,
               false,
               false,
               false,
               true,
               true,
               true,
               true,
               true,
               false,
               false,
               false,
               false,
               false,
               false,
               false,
               false,
               false,
               false,
               false,
               false,
               false,
               false,
               false,
               false,
               false,
               false,
               false,
               false,
               false,
               false,
               false,
               false,
               false,
               false,
               false,
               false,
               false,
               false,
               false,
               false,
               false,
               false,
               false,
               false,
               false,
               false,
               false,
               false,
               false,
               false,
               false,
               false,
               false,
               false,
               false,
               false,
               false,
               false,
               false,
               false,
               false,
               false,
               false,
               false,
               false,
               false,
               false,
               false,
               false,
               false,
               false,
               false,
               false
              ]
             }
            ],
            "label": "Castro",
            "method": "update"
           },
           {
            "args": [
             {
              "visible": [
               false,
               false,
               false,
               false,
               false,
               false,
               false,
               false,
               false,
               false,
               false,
               false,
               false,
               false,
               false,
               true,
               true,
               true,
               true,
               true,
               false,
               false,
               false,
               false,
               false,
               false,
               false,
               false,
               false,
               false,
               false,
               false,
               false,
               false,
               false,
               false,
               false,
               false,
               false,
               false,
               false,
               false,
               false,
               false,
               false,
               false,
               false,
               false,
               false,
               false,
               false,
               false,
               false,
               false,
               false,
               false,
               false,
               false,
               false,
               false,
               false,
               false,
               false,
               false,
               false,
               false,
               false,
               false,
               false,
               false,
               false,
               false,
               false,
               false,
               false,
               false,
               false,
               false,
               false,
               false
              ]
             }
            ],
            "label": "Harris",
            "method": "update"
           },
           {
            "args": [
             {
              "visible": [
               false,
               false,
               false,
               false,
               false,
               false,
               false,
               false,
               false,
               false,
               false,
               false,
               false,
               false,
               false,
               false,
               false,
               false,
               false,
               false,
               true,
               true,
               true,
               true,
               true,
               false,
               false,
               false,
               false,
               false,
               false,
               false,
               false,
               false,
               false,
               false,
               false,
               false,
               false,
               false,
               false,
               false,
               false,
               false,
               false,
               false,
               false,
               false,
               false,
               false,
               false,
               false,
               false,
               false,
               false,
               false,
               false,
               false,
               false,
               false,
               false,
               false,
               false,
               false,
               false,
               false,
               false,
               false,
               false,
               false,
               false,
               false,
               false,
               false,
               false,
               false,
               false,
               false,
               false,
               false
              ]
             }
            ],
            "label": "Sanders",
            "method": "update"
           },
           {
            "args": [
             {
              "visible": [
               false,
               false,
               false,
               false,
               false,
               false,
               false,
               false,
               false,
               false,
               false,
               false,
               false,
               false,
               false,
               false,
               false,
               false,
               false,
               false,
               false,
               false,
               false,
               false,
               false,
               true,
               true,
               true,
               true,
               true,
               false,
               false,
               false,
               false,
               false,
               false,
               false,
               false,
               false,
               false,
               false,
               false,
               false,
               false,
               false,
               false,
               false,
               false,
               false,
               false,
               false,
               false,
               false,
               false,
               false,
               false,
               false,
               false,
               false,
               false,
               false,
               false,
               false,
               false,
               false,
               false,
               false,
               false,
               false,
               false,
               false,
               false,
               false,
               false,
               false,
               false,
               false,
               false,
               false,
               false
              ]
             }
            ],
            "label": "Booker",
            "method": "update"
           },
           {
            "args": [
             {
              "visible": [
               false,
               false,
               false,
               false,
               false,
               false,
               false,
               false,
               false,
               false,
               false,
               false,
               false,
               false,
               false,
               false,
               false,
               false,
               false,
               false,
               false,
               false,
               false,
               false,
               false,
               false,
               false,
               false,
               false,
               false,
               true,
               true,
               true,
               true,
               true,
               false,
               false,
               false,
               false,
               false,
               false,
               false,
               false,
               false,
               false,
               false,
               false,
               false,
               false,
               false,
               false,
               false,
               false,
               false,
               false,
               false,
               false,
               false,
               false,
               false,
               false,
               false,
               false,
               false,
               false,
               false,
               false,
               false,
               false,
               false,
               false,
               false,
               false,
               false,
               false,
               false,
               false,
               false,
               false,
               false
              ]
             }
            ],
            "label": "Klobuchar",
            "method": "update"
           },
           {
            "args": [
             {
              "visible": [
               false,
               false,
               false,
               false,
               false,
               false,
               false,
               false,
               false,
               false,
               false,
               false,
               false,
               false,
               false,
               false,
               false,
               false,
               false,
               false,
               false,
               false,
               false,
               false,
               false,
               false,
               false,
               false,
               false,
               false,
               false,
               false,
               false,
               false,
               false,
               true,
               true,
               true,
               true,
               true,
               false,
               false,
               false,
               false,
               false,
               false,
               false,
               false,
               false,
               false,
               false,
               false,
               false,
               false,
               false,
               false,
               false,
               false,
               false,
               false,
               false,
               false,
               false,
               false,
               false,
               false,
               false,
               false,
               false,
               false,
               false,
               false,
               false,
               false,
               false,
               false,
               false,
               false,
               false,
               false
              ]
             }
            ],
            "label": "Warren",
            "method": "update"
           },
           {
            "args": [
             {
              "visible": [
               false,
               false,
               false,
               false,
               false,
               false,
               false,
               false,
               false,
               false,
               false,
               false,
               false,
               false,
               false,
               false,
               false,
               false,
               false,
               false,
               false,
               false,
               false,
               false,
               false,
               false,
               false,
               false,
               false,
               false,
               false,
               false,
               false,
               false,
               false,
               false,
               false,
               false,
               false,
               false,
               true,
               true,
               true,
               true,
               true,
               false,
               false,
               false,
               false,
               false,
               false,
               false,
               false,
               false,
               false,
               false,
               false,
               false,
               false,
               false,
               false,
               false,
               false,
               false,
               false,
               false,
               false,
               false,
               false,
               false,
               false,
               false,
               false,
               false,
               false,
               false,
               false,
               false,
               false,
               false
              ]
             }
            ],
            "label": "Inslee",
            "method": "update"
           },
           {
            "args": [
             {
              "visible": [
               false,
               false,
               false,
               false,
               false,
               false,
               false,
               false,
               false,
               false,
               false,
               false,
               false,
               false,
               false,
               false,
               false,
               false,
               false,
               false,
               false,
               false,
               false,
               false,
               false,
               false,
               false,
               false,
               false,
               false,
               false,
               false,
               false,
               false,
               false,
               false,
               false,
               false,
               false,
               false,
               false,
               false,
               false,
               false,
               false,
               true,
               true,
               true,
               true,
               true,
               false,
               false,
               false,
               false,
               false,
               false,
               false,
               false,
               false,
               false,
               false,
               false,
               false,
               false,
               false,
               false,
               false,
               false,
               false,
               false,
               false,
               false,
               false,
               false,
               false,
               false,
               false,
               false,
               false,
               false
              ]
             }
            ],
            "label": "O'Rourke",
            "method": "update"
           },
           {
            "args": [
             {
              "visible": [
               false,
               false,
               false,
               false,
               false,
               false,
               false,
               false,
               false,
               false,
               false,
               false,
               false,
               false,
               false,
               false,
               false,
               false,
               false,
               false,
               false,
               false,
               false,
               false,
               false,
               false,
               false,
               false,
               false,
               false,
               false,
               false,
               false,
               false,
               false,
               false,
               false,
               false,
               false,
               false,
               false,
               false,
               false,
               false,
               false,
               false,
               false,
               false,
               false,
               false,
               true,
               true,
               true,
               true,
               true,
               false,
               false,
               false,
               false,
               false,
               false,
               false,
               false,
               false,
               false,
               false,
               false,
               false,
               false,
               false,
               false,
               false,
               false,
               false,
               false,
               false,
               false,
               false,
               false,
               false
              ]
             }
            ],
            "label": "Gillibrand",
            "method": "update"
           },
           {
            "args": [
             {
              "visible": [
               false,
               false,
               false,
               false,
               false,
               false,
               false,
               false,
               false,
               false,
               false,
               false,
               false,
               false,
               false,
               false,
               false,
               false,
               false,
               false,
               false,
               false,
               false,
               false,
               false,
               false,
               false,
               false,
               false,
               false,
               false,
               false,
               false,
               false,
               false,
               false,
               false,
               false,
               false,
               false,
               false,
               false,
               false,
               false,
               false,
               false,
               false,
               false,
               false,
               false,
               false,
               false,
               false,
               false,
               false,
               true,
               true,
               true,
               true,
               true,
               false,
               false,
               false,
               false,
               false,
               false,
               false,
               false,
               false,
               false,
               false,
               false,
               false,
               false,
               false,
               false,
               false,
               false,
               false,
               false
              ]
             }
            ],
            "label": "Buttigieg",
            "method": "update"
           },
           {
            "args": [
             {
              "visible": [
               false,
               false,
               false,
               false,
               false,
               false,
               false,
               false,
               false,
               false,
               false,
               false,
               false,
               false,
               false,
               false,
               false,
               false,
               false,
               false,
               false,
               false,
               false,
               false,
               false,
               false,
               false,
               false,
               false,
               false,
               false,
               false,
               false,
               false,
               false,
               false,
               false,
               false,
               false,
               false,
               false,
               false,
               false,
               false,
               false,
               false,
               false,
               false,
               false,
               false,
               false,
               false,
               false,
               false,
               false,
               false,
               false,
               false,
               false,
               false,
               true,
               true,
               true,
               true,
               true,
               false,
               false,
               false,
               false,
               false,
               false,
               false,
               false,
               false,
               false,
               false,
               false,
               false,
               false,
               false
              ]
             }
            ],
            "label": "Bullock",
            "method": "update"
           },
           {
            "args": [
             {
              "visible": [
               false,
               false,
               false,
               false,
               false,
               false,
               false,
               false,
               false,
               false,
               false,
               false,
               false,
               false,
               false,
               false,
               false,
               false,
               false,
               false,
               false,
               false,
               false,
               false,
               false,
               false,
               false,
               false,
               false,
               false,
               false,
               false,
               false,
               false,
               false,
               false,
               false,
               false,
               false,
               false,
               false,
               false,
               false,
               false,
               false,
               false,
               false,
               false,
               false,
               false,
               false,
               false,
               false,
               false,
               false,
               false,
               false,
               false,
               false,
               false,
               false,
               false,
               false,
               false,
               false,
               true,
               true,
               true,
               true,
               true,
               false,
               false,
               false,
               false,
               false,
               false,
               false,
               false,
               false,
               false
              ]
             }
            ],
            "label": "Bennet",
            "method": "update"
           },
           {
            "args": [
             {
              "visible": [
               false,
               false,
               false,
               false,
               false,
               false,
               false,
               false,
               false,
               false,
               false,
               false,
               false,
               false,
               false,
               false,
               false,
               false,
               false,
               false,
               false,
               false,
               false,
               false,
               false,
               false,
               false,
               false,
               false,
               false,
               false,
               false,
               false,
               false,
               false,
               false,
               false,
               false,
               false,
               false,
               false,
               false,
               false,
               false,
               false,
               false,
               false,
               false,
               false,
               false,
               false,
               false,
               false,
               false,
               false,
               false,
               false,
               false,
               false,
               false,
               false,
               false,
               false,
               false,
               false,
               false,
               false,
               false,
               false,
               false,
               true,
               true,
               true,
               true,
               true,
               false,
               false,
               false,
               false,
               false
              ]
             }
            ],
            "label": "Bloomberg",
            "method": "update"
           },
           {
            "args": [
             {
              "visible": [
               false,
               false,
               false,
               false,
               false,
               false,
               false,
               false,
               false,
               false,
               false,
               false,
               false,
               false,
               false,
               false,
               false,
               false,
               false,
               false,
               false,
               false,
               false,
               false,
               false,
               false,
               false,
               false,
               false,
               false,
               false,
               false,
               false,
               false,
               false,
               false,
               false,
               false,
               false,
               false,
               false,
               false,
               false,
               false,
               false,
               false,
               false,
               false,
               false,
               false,
               false,
               false,
               false,
               false,
               false,
               false,
               false,
               false,
               false,
               false,
               false,
               false,
               false,
               false,
               false,
               false,
               false,
               false,
               false,
               false,
               false,
               false,
               false,
               false,
               false,
               true,
               true,
               true,
               true,
               true
              ]
             }
            ],
            "label": "Steyer",
            "method": "update"
           }
          ],
          "direction": "down",
          "pad": {
           "r": 10,
           "t": 10
          },
          "showactive": true,
          "x": -0.15,
          "xanchor": "left",
          "y": 1.04,
          "yanchor": "top"
         }
        ],
        "xaxis": {
         "anchor": "y",
         "domain": [
          0.0,
          1.0
         ],
         "tickangle": 45,
         "ticktext": [
          "Candidates who have dropped out",
          "Former party leaders",
          "Mayors",
          "Statewide officeholders",
          "DNC members",
          "Governors",
          "Past nominees",
          "Representatives",
          "Senators",
          "State legislative leaders",
          "Past presidents and vice presidents"
         ],
         "tickvals": [
          "Candidates who have dropped out",
          "Former party leaders",
          "Mayors",
          "Statewide officeholders",
          "DNC members",
          "Governors",
          "Past nominees",
          "Representatives",
          "Senators",
          "State legislative leaders",
          "Past presidents and vice presidents"
         ]
        },
        "xaxis2": {
         "anchor": "y2",
         "domain": [
          0.0,
          0.45
         ],
         "tickangle": 45,
         "ticktext": [
          "Former 2020 candidate",
          "attorney general",
          "former DNC chair",
          "mayor",
          "DNC member",
          "Democratic caucus chairman",
          "former U.S. Senate majority leader",
          "governor",
          "lieutenant governor",
          "minority leader",
          "past presidential nominee",
          "president",
          "representative",
          "secretary of state",
          "senator",
          "speaker",
          "state treasurer",
          "delegate",
          "insurance commissioner",
          "president pro tem",
          "superintendent of public instruction",
          "past vice president",
          "state auditor",
          "commissioner of labor and industries",
          "former U.S. House Democratic whip",
          "speaker pro tem",
          "state comptroller",
          "state controller"
         ],
         "tickvals": [
          "Former 2020 candidate",
          "attorney general",
          "former DNC chair",
          "mayor",
          "DNC member",
          "Democratic caucus chairman",
          "former U.S. Senate majority leader",
          "governor",
          "lieutenant governor",
          "minority leader",
          "past presidential nominee",
          "president",
          "representative",
          "secretary of state",
          "senator",
          "speaker",
          "state treasurer",
          "delegate",
          "insurance commissioner",
          "president pro tem",
          "superintendent of public instruction",
          "past vice president",
          "state auditor",
          "commissioner of labor and industries",
          "former U.S. House Democratic whip",
          "speaker pro tem",
          "state comptroller",
          "state controller"
         ]
        },
        "xaxis3": {
         "anchor": "y3",
         "domain": [
          0.0,
          0.45
         ],
         "tickangle": 45,
         "ticktext": [
          "apnews",
          "other",
          "4president",
          "cnn",
          "politico",
          "twitter",
          "youtube"
         ],
         "tickvals": [
          "apnews",
          "other",
          "4president",
          "cnn",
          "politico",
          "twitter",
          "youtube"
         ]
        },
        "yaxis": {
         "anchor": "x",
         "domain": [
          0.7777777777777778,
          1.0
         ],
         "range": [
          0,
          135
         ]
        },
        "yaxis2": {
         "anchor": "x2",
         "domain": [
          0.3888888888888889,
          0.6111111111111112
         ],
         "range": [
          0,
          135
         ]
        },
        "yaxis3": {
         "anchor": "x3",
         "domain": [
          0.0,
          0.22222222222222224
         ],
         "range": [
          0,
          51
         ]
        }
       }
      },
      "text/html": [
       "<div>\n",
       "        \n",
       "        \n",
       "            <div id=\"3e89ffd0-7ec3-4782-a11d-e9651f47a9cb\" class=\"plotly-graph-div\" style=\"height:1350px; width:100%;\"></div>\n",
       "            <script type=\"text/javascript\">\n",
       "                require([\"plotly\"], function(Plotly) {\n",
       "                    window.PLOTLYENV=window.PLOTLYENV || {};\n",
       "                    \n",
       "                if (document.getElementById(\"3e89ffd0-7ec3-4782-a11d-e9651f47a9cb\")) {\n",
       "                    Plotly.newPlot(\n",
       "                        '3e89ffd0-7ec3-4782-a11d-e9651f47a9cb',\n",
       "                        [{\"marker\": {\"color\": \"cadetblue\", \"opacity\": 0.9}, \"opacity\": 0.9, \"showlegend\": false, \"text\": [6.0], \"textposition\": \"outside\", \"type\": \"bar\", \"visible\": false, \"x\": [\"Representatives\"], \"xaxis\": \"x\", \"y\": [6], \"yaxis\": \"y\"}, {\"marker\": {\"color\": \"indianred\", \"opacity\": 0.9}, \"opacity\": 0.9, \"showlegend\": false, \"text\": [6.0], \"textposition\": \"outside\", \"type\": \"bar\", \"visible\": false, \"x\": [\"representative\"], \"xaxis\": \"x2\", \"y\": [6], \"yaxis\": \"y2\"}, {\"domain\": {\"x\": [0.55, 1.0], \"y\": [0.3888888888888889, 0.6111111111111112]}, \"hole\": 0.4, \"hoverinfo\": \"label+percent+name\", \"labels\": [\"D\"], \"marker\": {\"colors\": [\"rgb(0, 128, 128)\", \"rgb(112, 164, 148)\", \"rgb(180, 200, 168)\", \"rgb(246, 237, 189)\", \"rgb(237, 187, 138)\", \"rgb(222, 138, 90)\", \"rgb(202, 86, 44)\"]}, \"showlegend\": false, \"text\": [\"D\"], \"textinfo\": \"percent+label\", \"textposition\": \"inside\", \"type\": \"pie\", \"values\": [6], \"visible\": false}, {\"marker\": {\"color\": \"goldenrod\", \"opacity\": 0.9}, \"opacity\": 0.9, \"showlegend\": false, \"text\": [2.0], \"textposition\": \"outside\", \"type\": \"bar\", \"visible\": false, \"x\": [\"twitter\"], \"xaxis\": \"x3\", \"y\": [2], \"yaxis\": \"y3\"}, {\"domain\": {\"x\": [0.55, 1.0], \"y\": [0.0, 0.22222222222222224]}, \"hole\": 0.4, \"hoverinfo\": \"label+percent+name\", \"labels\": [\"CA\", \"MD\"], \"marker\": {\"colors\": [\"rgb(0, 128, 128)\", \"rgb(112, 164, 148)\", \"rgb(180, 200, 168)\", \"rgb(246, 237, 189)\", \"rgb(237, 187, 138)\", \"rgb(222, 138, 90)\", \"rgb(202, 86, 44)\"]}, \"showlegend\": false, \"text\": [\"California\", \"Maryland\"], \"textinfo\": \"percent+label\", \"textposition\": \"inside\", \"type\": \"pie\", \"values\": [1, 1], \"visible\": false}, {\"marker\": {\"color\": \"cadetblue\", \"opacity\": 0.9}, \"opacity\": 0.9, \"showlegend\": false, \"text\": [5.0, 11.0, 20.0, 24.0, 15.0, 5.0, 120.0, 30.0, 12.0, 10.0], \"textposition\": \"outside\", \"type\": \"bar\", \"visible\": true, \"x\": [\"Candidates who have dropped out\", \"DNC members\", \"Former party leaders\", \"Governors\", \"Mayors\", \"Past nominees\", \"Representatives\", \"Senators\", \"State legislative leaders\", \"Statewide officeholders\"], \"xaxis\": \"x\", \"y\": [5, 11, 20, 24, 15, 5, 120, 30, 12, 10], \"yaxis\": \"y\"}, {\"marker\": {\"color\": \"indianred\", \"opacity\": 0.9}, \"opacity\": 0.9, \"showlegend\": false, \"text\": [11.0, 2.0, 5.0, 4.0, 15.0, 5.0, 24.0, 4.0, 15.0, 4.0, 5.0, 2.0, 120.0, 2.0, 30.0, 4.0], \"textposition\": \"outside\", \"type\": \"bar\", \"visible\": true, \"x\": [\"DNC member\", \"Democratic caucus chairman\", \"Former 2020 candidate\", \"attorney general\", \"former DNC chair\", \"former U.S. Senate majority leader\", \"governor\", \"lieutenant governor\", \"mayor\", \"minority leader\", \"past presidential nominee\", \"president\", \"representative\", \"secretary of state\", \"senator\", \"speaker\"], \"xaxis\": \"x2\", \"y\": [11, 2, 5, 4, 15, 5, 24, 4, 15, 4, 5, 2, 120, 2, 30, 4], \"yaxis\": \"y2\"}, {\"domain\": {\"x\": [0.55, 1.0], \"y\": [0.3888888888888889, 0.6111111111111112]}, \"hole\": 0.4, \"hoverinfo\": \"label+percent+name\", \"labels\": [\"D\"], \"marker\": {\"colors\": [\"rgb(0, 128, 128)\", \"rgb(112, 164, 148)\", \"rgb(180, 200, 168)\", \"rgb(246, 237, 189)\", \"rgb(237, 187, 138)\", \"rgb(222, 138, 90)\", \"rgb(202, 86, 44)\"]}, \"showlegend\": false, \"text\": [\"D\"], \"textinfo\": \"percent+label\", \"textposition\": \"inside\", \"type\": \"pie\", \"values\": [252], \"visible\": true}, {\"marker\": {\"color\": \"goldenrod\", \"opacity\": 0.9}, \"opacity\": 0.9, \"showlegend\": false, \"text\": [7.0, 3.0, 2.0, 36.0, 11.0, 22.0], \"textposition\": \"outside\", \"type\": \"bar\", \"visible\": true, \"x\": [\"4president\", \"apnews\", \"cnn\", \"other\", \"politico\", \"twitter\"], \"xaxis\": \"x3\", \"y\": [7, 3, 2, 36, 11, 22], \"yaxis\": \"y3\"}, {\"domain\": {\"x\": [0.55, 1.0], \"y\": [0.0, 0.22222222222222224]}, \"hole\": 0.4, \"hoverinfo\": \"label+percent+name\", \"labels\": [\"AL\", \"AR\", \"CA\", \"CO\", \"CT\", \"DC\", \"DE\", \"FL\", \"GA\", \"IA\", \"IL\", \"LA\", \"MA\", \"MI\", \"MO\", \"MS\", \"NC\", \"NH\", \"NJ\", \"NV\", \"NY\", \"OH\", \"OR\", \"PA\", \"PR\", \"RI\", \"SD\", \"TN\", \"TX\", \"VA\"], \"marker\": {\"colors\": [\"rgb(0, 128, 128)\", \"rgb(112, 164, 148)\", \"rgb(180, 200, 168)\", \"rgb(246, 237, 189)\", \"rgb(237, 187, 138)\", \"rgb(222, 138, 90)\", \"rgb(202, 86, 44)\"]}, \"showlegend\": false, \"text\": [\"Alabama\", \"Arkansas\", \"California\", \"Colorado\", \"Connecticut\", \"District of Columbia\", \"Delaware\", \"Florida\", \"Georgia\", \"Iowa\", \"Illinois\", \"Louisiana\", \"Massachusetts\", \"Michigan\", \"Missouri\", \"Mississippi\", \"North Carolina\", \"New Hampshire\", \"New Jersey\", \"Nevada\", \"New York\", \"Ohio\", \"Oregon\", \"Pennsylvania\", null, \"Rhode Island\", \"South Dakota\", \"Tennessee\", \"Texas\", \"Virginia\"], \"textinfo\": \"percent+label\", \"textposition\": \"inside\", \"type\": \"pie\", \"values\": [2, 1, 12, 1, 3, 2, 5, 5, 2, 4, 2, 1, 4, 2, 1, 1, 2, 3, 2, 1, 3, 1, 1, 7, 1, 2, 1, 1, 5, 3], \"visible\": true}, {\"marker\": {\"color\": \"cadetblue\", \"opacity\": 0.9}, \"opacity\": 0.9, \"showlegend\": false, \"text\": [1.0, 3.0], \"textposition\": \"outside\", \"type\": \"bar\", \"visible\": false, \"x\": [\"DNC members\", \"Mayors\"], \"xaxis\": \"x\", \"y\": [1, 3], \"yaxis\": \"y\"}, {\"marker\": {\"color\": \"indianred\", \"opacity\": 0.9}, \"opacity\": 0.9, \"showlegend\": false, \"text\": [1.0, 3.0], \"textposition\": \"outside\", \"type\": \"bar\", \"visible\": false, \"x\": [\"DNC member\", \"mayor\"], \"xaxis\": \"x2\", \"y\": [1, 3], \"yaxis\": \"y2\"}, {\"domain\": {\"x\": [0.55, 1.0], \"y\": [0.3888888888888889, 0.6111111111111112]}, \"hole\": 0.4, \"hoverinfo\": \"label+percent+name\", \"labels\": [\"D\", \"None\"], \"marker\": {\"colors\": [\"rgb(0, 128, 128)\", \"rgb(112, 164, 148)\", \"rgb(180, 200, 168)\", \"rgb(246, 237, 189)\", \"rgb(237, 187, 138)\", \"rgb(222, 138, 90)\", \"rgb(202, 86, 44)\"]}, \"showlegend\": false, \"text\": [\"D\", \"None\"], \"textinfo\": \"percent+label\", \"textposition\": \"inside\", \"type\": \"pie\", \"values\": [1, 3], \"visible\": false}, {\"marker\": {\"color\": \"goldenrod\", \"opacity\": 0.9}, \"opacity\": 0.9, \"showlegend\": false, \"text\": [1.0, 1.0], \"textposition\": \"outside\", \"type\": \"bar\", \"visible\": false, \"x\": [\"4president\", \"other\"], \"xaxis\": \"x3\", \"y\": [1, 1], \"yaxis\": \"y3\"}, {\"domain\": {\"x\": [0.55, 1.0], \"y\": [0.0, 0.22222222222222224]}, \"hole\": 0.4, \"hoverinfo\": \"label+percent+name\", \"labels\": [\"TX\"], \"marker\": {\"colors\": [\"rgb(0, 128, 128)\", \"rgb(112, 164, 148)\", \"rgb(180, 200, 168)\", \"rgb(246, 237, 189)\", \"rgb(237, 187, 138)\", \"rgb(222, 138, 90)\", \"rgb(202, 86, 44)\"]}, \"showlegend\": false, \"text\": [\"Texas\"], \"textinfo\": \"percent+label\", \"textposition\": \"inside\", \"type\": \"pie\", \"values\": [2], \"visible\": false}, {\"marker\": {\"color\": \"cadetblue\", \"opacity\": 0.9}, \"opacity\": 0.9, \"showlegend\": false, \"text\": [2.0, 8.0, 3.0, 39.0, 6.0, 8.0], \"textposition\": \"outside\", \"type\": \"bar\", \"visible\": false, \"x\": [\"DNC members\", \"Governors\", \"Mayors\", \"Representatives\", \"State legislative leaders\", \"Statewide officeholders\"], \"xaxis\": \"x\", \"y\": [2, 8, 3, 39, 6, 8], \"yaxis\": \"y\"}, {\"marker\": {\"color\": \"indianred\", \"opacity\": 0.9}, \"opacity\": 0.9, \"showlegend\": false, \"text\": [2.0, 2.0, 3.0, 8.0, 2.0, 2.0, 3.0, 2.0, 2.0, 36.0, 2.0, 2.0], \"textposition\": \"outside\", \"type\": \"bar\", \"visible\": false, \"x\": [\"DNC member\", \"attorney general\", \"delegate\", \"governor\", \"insurance commissioner\", \"lieutenant governor\", \"mayor\", \"minority leader\", \"president pro tem\", \"representative\", \"speaker\", \"superintendent of public instruction\"], \"xaxis\": \"x2\", \"y\": [2, 2, 3, 8, 2, 2, 3, 2, 2, 36, 2, 2], \"yaxis\": \"y2\"}, {\"domain\": {\"x\": [0.55, 1.0], \"y\": [0.3888888888888889, 0.6111111111111112]}, \"hole\": 0.4, \"hoverinfo\": \"label+percent+name\", \"labels\": [\"D\"], \"marker\": {\"colors\": [\"rgb(0, 128, 128)\", \"rgb(112, 164, 148)\", \"rgb(180, 200, 168)\", \"rgb(246, 237, 189)\", \"rgb(237, 187, 138)\", \"rgb(222, 138, 90)\", \"rgb(202, 86, 44)\"]}, \"showlegend\": false, \"text\": [\"D\"], \"textinfo\": \"percent+label\", \"textposition\": \"inside\", \"type\": \"pie\", \"values\": [66], \"visible\": false}, {\"marker\": {\"color\": \"goldenrod\", \"opacity\": 0.9}, \"opacity\": 0.9, \"showlegend\": false, \"text\": [1.0, 2.0, 10.0, 8.0, 3.0], \"textposition\": \"outside\", \"type\": \"bar\", \"visible\": false, \"x\": [\"4president\", \"cnn\", \"other\", \"politico\", \"twitter\"], \"xaxis\": \"x3\", \"y\": [1, 2, 10, 8, 3], \"yaxis\": \"y3\"}, {\"domain\": {\"x\": [0.55, 1.0], \"y\": [0.0, 0.22222222222222224]}, \"hole\": 0.4, \"hoverinfo\": \"label+percent+name\", \"labels\": [\"AZ\", \"CA\", \"CT\", \"DC\", \"GA\", \"MI\", \"MO\", \"OH\", \"TX\", \"VI\"], \"marker\": {\"colors\": [\"rgb(0, 128, 128)\", \"rgb(112, 164, 148)\", \"rgb(180, 200, 168)\", \"rgb(246, 237, 189)\", \"rgb(237, 187, 138)\", \"rgb(222, 138, 90)\", \"rgb(202, 86, 44)\"]}, \"showlegend\": false, \"text\": [\"Arizona\", \"California\", \"Connecticut\", \"District of Columbia\", \"Georgia\", \"Michigan\", \"Missouri\", \"Ohio\", \"Texas\", null], \"textinfo\": \"percent+label\", \"textposition\": \"inside\", \"type\": \"pie\", \"values\": [1, 14, 1, 1, 1, 1, 1, 1, 2, 1], \"visible\": false}, {\"marker\": {\"color\": \"cadetblue\", \"opacity\": 0.9}, \"opacity\": 0.9, \"showlegend\": false, \"text\": [11.0, 3.0, 21.0, 6.0, 4.0, 10.0], \"textposition\": \"outside\", \"type\": \"bar\", \"visible\": false, \"x\": [\"DNC members\", \"Mayors\", \"Representatives\", \"Senators\", \"State legislative leaders\", \"Statewide officeholders\"], \"xaxis\": \"x\", \"y\": [11, 3, 21, 6, 4, 10], \"yaxis\": \"y\"}, {\"marker\": {\"color\": \"indianred\", \"opacity\": 0.9}, \"opacity\": 0.9, \"showlegend\": false, \"text\": [11.0, 4.0, 2.0, 3.0, 2.0, 2.0, 21.0, 6.0, 2.0, 2.0], \"textposition\": \"outside\", \"type\": \"bar\", \"visible\": false, \"x\": [\"DNC member\", \"attorney general\", \"lieutenant governor\", \"mayor\", \"president\", \"president pro tem\", \"representative\", \"senator\", \"state auditor\", \"state treasurer\"], \"xaxis\": \"x2\", \"y\": [11, 4, 2, 3, 2, 2, 21, 6, 2, 2], \"yaxis\": \"y2\"}, {\"domain\": {\"x\": [0.55, 1.0], \"y\": [0.3888888888888889, 0.6111111111111112]}, \"hole\": 0.4, \"hoverinfo\": \"label+percent+name\", \"labels\": [\"D\"], \"marker\": {\"colors\": [\"rgb(0, 128, 128)\", \"rgb(112, 164, 148)\", \"rgb(180, 200, 168)\", \"rgb(246, 237, 189)\", \"rgb(237, 187, 138)\", \"rgb(222, 138, 90)\", \"rgb(202, 86, 44)\"]}, \"showlegend\": false, \"text\": [\"D\"], \"textinfo\": \"percent+label\", \"textposition\": \"inside\", \"type\": \"pie\", \"values\": [55], \"visible\": false}, {\"marker\": {\"color\": \"goldenrod\", \"opacity\": 0.9}, \"opacity\": 0.9, \"showlegend\": false, \"text\": [2.0, 10.0, 14.0, 1.0], \"textposition\": \"outside\", \"type\": \"bar\", \"visible\": false, \"x\": [\"apnews\", \"other\", \"twitter\", \"youtube\"], \"xaxis\": \"x3\", \"y\": [2, 10, 14, 1], \"yaxis\": \"y3\"}, {\"domain\": {\"x\": [0.55, 1.0], \"y\": [0.0, 0.22222222222222224]}, \"hole\": 0.4, \"hoverinfo\": \"label+percent+name\", \"labels\": [\"CA\", \"CO\", \"DC\", \"GA\", \"ME\", \"MI\", \"MN\", \"MO\", \"NY\", \"OH\", \"PR\", \"VT\", \"WA\", \"WI\"], \"marker\": {\"colors\": [\"rgb(0, 128, 128)\", \"rgb(112, 164, 148)\", \"rgb(180, 200, 168)\", \"rgb(246, 237, 189)\", \"rgb(237, 187, 138)\", \"rgb(222, 138, 90)\", \"rgb(202, 86, 44)\"]}, \"showlegend\": false, \"text\": [\"California\", \"Colorado\", \"District of Columbia\", \"Georgia\", \"Maine\", \"Michigan\", \"Minnesota\", \"Missouri\", \"New York\", \"Ohio\", null, \"Vermont\", \"Washington\", \"Wisconsin\"], \"textinfo\": \"percent+label\", \"textposition\": \"inside\", \"type\": \"pie\", \"values\": [2, 2, 2, 1, 1, 2, 2, 2, 1, 1, 1, 8, 1, 1], \"visible\": false}, {\"marker\": {\"color\": \"cadetblue\", \"opacity\": 0.9}, \"opacity\": 0.9, \"showlegend\": false, \"text\": [7.0, 8.0, 27.0, 6.0, 4.0, 2.0], \"textposition\": \"outside\", \"type\": \"bar\", \"visible\": false, \"x\": [\"DNC members\", \"Governors\", \"Representatives\", \"Senators\", \"State legislative leaders\", \"Statewide officeholders\"], \"xaxis\": \"x\", \"y\": [7, 8, 27, 6, 4, 2], \"yaxis\": \"y\"}, {\"marker\": {\"color\": \"indianred\", \"opacity\": 0.9}, \"opacity\": 0.9, \"showlegend\": false, \"text\": [7.0, 8.0, 2.0, 2.0, 27.0, 6.0, 2.0], \"textposition\": \"outside\", \"type\": \"bar\", \"visible\": false, \"x\": [\"DNC member\", \"governor\", \"lieutenant governor\", \"president\", \"representative\", \"senator\", \"speaker\"], \"xaxis\": \"x2\", \"y\": [7, 8, 2, 2, 27, 6, 2], \"yaxis\": \"y2\"}, {\"domain\": {\"x\": [0.55, 1.0], \"y\": [0.3888888888888889, 0.6111111111111112]}, \"hole\": 0.4, \"hoverinfo\": \"label+percent+name\", \"labels\": [\"D\", \"R\"], \"marker\": {\"colors\": [\"rgb(0, 128, 128)\", \"rgb(112, 164, 148)\", \"rgb(180, 200, 168)\", \"rgb(246, 237, 189)\", \"rgb(237, 187, 138)\", \"rgb(222, 138, 90)\", \"rgb(202, 86, 44)\"]}, \"showlegend\": false, \"text\": [\"D\", \"R\"], \"textinfo\": \"percent+label\", \"textposition\": \"inside\", \"type\": \"pie\", \"values\": [51, 3], \"visible\": false}, {\"marker\": {\"color\": \"goldenrod\", \"opacity\": 0.9}, \"opacity\": 0.9, \"showlegend\": false, \"text\": [19.0, 2.0], \"textposition\": \"outside\", \"type\": \"bar\", \"visible\": false, \"x\": [\"other\", \"twitter\"], \"xaxis\": \"x3\", \"y\": [19, 2], \"yaxis\": \"y3\"}, {\"domain\": {\"x\": [0.55, 1.0], \"y\": [0.0, 0.22222222222222224]}, \"hole\": 0.4, \"hoverinfo\": \"label+percent+name\", \"labels\": [\"FL\", \"NJ\", \"SC\"], \"marker\": {\"colors\": [\"rgb(0, 128, 128)\", \"rgb(112, 164, 148)\", \"rgb(180, 200, 168)\", \"rgb(246, 237, 189)\", \"rgb(237, 187, 138)\", \"rgb(222, 138, 90)\", \"rgb(202, 86, 44)\"]}, \"showlegend\": false, \"text\": [\"Florida\", \"New Jersey\", \"South Carolina\"], \"textinfo\": \"percent+label\", \"textposition\": \"inside\", \"type\": \"pie\", \"values\": [1, 19, 1], \"visible\": false}, {\"marker\": {\"color\": \"cadetblue\", \"opacity\": 0.9}, \"opacity\": 0.9, \"showlegend\": false, \"text\": [8.0, 6.0, 10.0, 15.0, 6.0, 4.0, 4.0], \"textposition\": \"outside\", \"type\": \"bar\", \"visible\": false, \"x\": [\"Governors\", \"Mayors\", \"Past presidents and vice presidents\", \"Representatives\", \"Senators\", \"State legislative leaders\", \"Statewide officeholders\"], \"xaxis\": \"x\", \"y\": [8, 6, 10, 15, 6, 4, 4], \"yaxis\": \"y\"}, {\"marker\": {\"color\": \"indianred\", \"opacity\": 0.9}, \"opacity\": 0.9, \"showlegend\": false, \"text\": [8.0, 2.0, 6.0, 2.0, 10.0, 15.0, 6.0, 2.0, 2.0], \"textposition\": \"outside\", \"type\": \"bar\", \"visible\": false, \"x\": [\"governor\", \"lieutenant governor\", \"mayor\", \"minority leader\", \"past vice president\", \"representative\", \"senator\", \"speaker\", \"state auditor\"], \"xaxis\": \"x2\", \"y\": [8, 2, 6, 2, 10, 15, 6, 2, 2], \"yaxis\": \"y2\"}, {\"domain\": {\"x\": [0.55, 1.0], \"y\": [0.3888888888888889, 0.6111111111111112]}, \"hole\": 0.4, \"hoverinfo\": \"label+percent+name\", \"labels\": [\"D\"], \"marker\": {\"colors\": [\"rgb(0, 128, 128)\", \"rgb(112, 164, 148)\", \"rgb(180, 200, 168)\", \"rgb(246, 237, 189)\", \"rgb(237, 187, 138)\", \"rgb(222, 138, 90)\", \"rgb(202, 86, 44)\"]}, \"showlegend\": false, \"text\": [\"D\"], \"textinfo\": \"percent+label\", \"textposition\": \"inside\", \"type\": \"pie\", \"values\": [53], \"visible\": false}, {\"marker\": {\"color\": \"goldenrod\", \"opacity\": 0.9}, \"opacity\": 0.9, \"showlegend\": false, \"text\": [2.0, 5.0, 5.0, 2.0], \"textposition\": \"outside\", \"type\": \"bar\", \"visible\": false, \"x\": [\"4president\", \"other\", \"twitter\", \"youtube\"], \"xaxis\": \"x3\", \"y\": [2, 5, 5, 2], \"yaxis\": \"y3\"}, {\"domain\": {\"x\": [0.55, 1.0], \"y\": [0.0, 0.22222222222222224]}, \"hole\": 0.4, \"hoverinfo\": \"label+percent+name\", \"labels\": [\"CA\", \"MN\"], \"marker\": {\"colors\": [\"rgb(0, 128, 128)\", \"rgb(112, 164, 148)\", \"rgb(180, 200, 168)\", \"rgb(246, 237, 189)\", \"rgb(237, 187, 138)\", \"rgb(222, 138, 90)\", \"rgb(202, 86, 44)\"]}, \"showlegend\": false, \"text\": [\"California\", \"Minnesota\"], \"textinfo\": \"percent+label\", \"textposition\": \"inside\", \"type\": \"pie\", \"values\": [1, 13], \"visible\": false}, {\"marker\": {\"color\": \"cadetblue\", \"opacity\": 0.9}, \"opacity\": 0.9, \"showlegend\": false, \"text\": [5.0, 5.0, 5.0, 3.0, 5.0, 36.0, 6.0, 8.0, 14.0], \"textposition\": \"outside\", \"type\": \"bar\", \"visible\": false, \"x\": [\"Candidates who have dropped out\", \"DNC members\", \"Former party leaders\", \"Mayors\", \"Past nominees\", \"Representatives\", \"Senators\", \"State legislative leaders\", \"Statewide officeholders\"], \"xaxis\": \"x\", \"y\": [5, 5, 5, 3, 5, 36, 6, 8, 14], \"yaxis\": \"y\"}, {\"marker\": {\"color\": \"indianred\", \"opacity\": 0.9}, \"opacity\": 0.9, \"showlegend\": false, \"text\": [5.0, 5.0, 2.0, 2.0, 5.0, 3.0, 2.0, 5.0, 2.0, 36.0, 2.0, 6.0, 2.0, 2.0, 2.0, 2.0, 4.0], \"textposition\": \"outside\", \"type\": \"bar\", \"visible\": false, \"x\": [\"DNC member\", \"Former 2020 candidate\", \"attorney general\", \"commissioner of labor and industries\", \"former U.S. House Democratic whip\", \"mayor\", \"minority leader\", \"past presidential nominee\", \"president\", \"representative\", \"secretary of state\", \"senator\", \"speaker\", \"speaker pro tem\", \"state comptroller\", \"state controller\", \"state treasurer\"], \"xaxis\": \"x2\", \"y\": [5, 5, 2, 2, 5, 3, 2, 5, 2, 36, 2, 6, 2, 2, 2, 2, 4], \"yaxis\": \"y2\"}, {\"domain\": {\"x\": [0.55, 1.0], \"y\": [0.3888888888888889, 0.6111111111111112]}, \"hole\": 0.4, \"hoverinfo\": \"label+percent+name\", \"labels\": [\"D\"], \"marker\": {\"colors\": [\"rgb(0, 128, 128)\", \"rgb(112, 164, 148)\", \"rgb(180, 200, 168)\", \"rgb(246, 237, 189)\", \"rgb(237, 187, 138)\", \"rgb(222, 138, 90)\", \"rgb(202, 86, 44)\"]}, \"showlegend\": false, \"text\": [\"D\"], \"textinfo\": \"percent+label\", \"textposition\": \"inside\", \"type\": \"pie\", \"values\": [87], \"visible\": false}, {\"marker\": {\"color\": \"goldenrod\", \"opacity\": 0.9}, \"opacity\": 0.9, \"showlegend\": false, \"text\": [1.0, 17.0, 15.0], \"textposition\": \"outside\", \"type\": \"bar\", \"visible\": false, \"x\": [\"apnews\", \"other\", \"twitter\"], \"xaxis\": \"x3\", \"y\": [1, 17, 15], \"yaxis\": \"y3\"}, {\"domain\": {\"x\": [0.55, 1.0], \"y\": [0.0, 0.22222222222222224]}, \"hole\": 0.4, \"hoverinfo\": \"label+percent+name\", \"labels\": [\"AZ\", \"CA\", \"CT\", \"IA\", \"IL\", \"MA\", \"MD\", \"MI\", \"NH\", \"NM\", \"NV\", \"OR\", \"PA\", \"TX\"], \"marker\": {\"colors\": [\"rgb(0, 128, 128)\", \"rgb(112, 164, 148)\", \"rgb(180, 200, 168)\", \"rgb(246, 237, 189)\", \"rgb(237, 187, 138)\", \"rgb(222, 138, 90)\", \"rgb(202, 86, 44)\"]}, \"showlegend\": false, \"text\": [\"Arizona\", \"California\", \"Connecticut\", \"Iowa\", \"Illinois\", \"Massachusetts\", \"Maryland\", \"Michigan\", \"New Hampshire\", \"New Mexico\", \"Nevada\", \"Oregon\", \"Pennsylvania\", \"Texas\"], \"textinfo\": \"percent+label\", \"textposition\": \"inside\", \"type\": \"pie\", \"values\": [1, 1, 2, 2, 2, 10, 1, 2, 1, 1, 3, 2, 1, 4], \"visible\": false}, {\"marker\": {\"color\": \"cadetblue\", \"opacity\": 0.9}, \"opacity\": 0.9, \"showlegend\": false, \"text\": [9.0, 2.0], \"textposition\": \"outside\", \"type\": \"bar\", \"visible\": false, \"x\": [\"Representatives\", \"Statewide officeholders\"], \"xaxis\": \"x\", \"y\": [9, 2], \"yaxis\": \"y\"}, {\"marker\": {\"color\": \"indianred\", \"opacity\": 0.9}, \"opacity\": 0.9, \"showlegend\": false, \"text\": [2.0, 9.0], \"textposition\": \"outside\", \"type\": \"bar\", \"visible\": false, \"x\": [\"attorney general\", \"representative\"], \"xaxis\": \"x2\", \"y\": [2, 9], \"yaxis\": \"y2\"}, {\"domain\": {\"x\": [0.55, 1.0], \"y\": [0.3888888888888889, 0.6111111111111112]}, \"hole\": 0.4, \"hoverinfo\": \"label+percent+name\", \"labels\": [\"D\"], \"marker\": {\"colors\": [\"rgb(0, 128, 128)\", \"rgb(112, 164, 148)\", \"rgb(180, 200, 168)\", \"rgb(246, 237, 189)\", \"rgb(237, 187, 138)\", \"rgb(222, 138, 90)\", \"rgb(202, 86, 44)\"]}, \"showlegend\": false, \"text\": [\"D\"], \"textinfo\": \"percent+label\", \"textposition\": \"inside\", \"type\": \"pie\", \"values\": [11], \"visible\": false}, {\"marker\": {\"color\": \"goldenrod\", \"opacity\": 0.9}, \"opacity\": 0.9, \"showlegend\": false, \"text\": [2.0, 2.0], \"textposition\": \"outside\", \"type\": \"bar\", \"visible\": false, \"x\": [\"other\", \"twitter\"], \"xaxis\": \"x3\", \"y\": [2, 2], \"yaxis\": \"y3\"}, {\"domain\": {\"x\": [0.55, 1.0], \"y\": [0.0, 0.22222222222222224]}, \"hole\": 0.4, \"hoverinfo\": \"label+percent+name\", \"labels\": [\"WA\"], \"marker\": {\"colors\": [\"rgb(0, 128, 128)\", \"rgb(112, 164, 148)\", \"rgb(180, 200, 168)\", \"rgb(246, 237, 189)\", \"rgb(237, 187, 138)\", \"rgb(222, 138, 90)\", \"rgb(202, 86, 44)\"]}, \"showlegend\": false, \"text\": [\"Washington\"], \"textinfo\": \"percent+label\", \"textposition\": \"inside\", \"type\": \"pie\", \"values\": [4], \"visible\": false}, {\"marker\": {\"color\": \"cadetblue\", \"opacity\": 0.9}, \"opacity\": 0.9, \"showlegend\": false, \"text\": [3.0], \"textposition\": \"outside\", \"type\": \"bar\", \"visible\": false, \"x\": [\"Representatives\"], \"xaxis\": \"x\", \"y\": [3], \"yaxis\": \"y\"}, {\"marker\": {\"color\": \"indianred\", \"opacity\": 0.9}, \"opacity\": 0.9, \"showlegend\": false, \"text\": [3.0], \"textposition\": \"outside\", \"type\": \"bar\", \"visible\": false, \"x\": [\"representative\"], \"xaxis\": \"x2\", \"y\": [3], \"yaxis\": \"y2\"}, {\"domain\": {\"x\": [0.55, 1.0], \"y\": [0.3888888888888889, 0.6111111111111112]}, \"hole\": 0.4, \"hoverinfo\": \"label+percent+name\", \"labels\": [\"D\"], \"marker\": {\"colors\": [\"rgb(0, 128, 128)\", \"rgb(112, 164, 148)\", \"rgb(180, 200, 168)\", \"rgb(246, 237, 189)\", \"rgb(237, 187, 138)\", \"rgb(222, 138, 90)\", \"rgb(202, 86, 44)\"]}, \"showlegend\": false, \"text\": [\"D\"], \"textinfo\": \"percent+label\", \"textposition\": \"inside\", \"type\": \"pie\", \"values\": [3], \"visible\": false}, {\"marker\": {\"color\": \"goldenrod\", \"opacity\": 0.9}, \"opacity\": 0.9, \"showlegend\": false, \"text\": [1.0], \"textposition\": \"outside\", \"type\": \"bar\", \"visible\": false, \"x\": [\"other\"], \"xaxis\": \"x3\", \"y\": [1], \"yaxis\": \"y3\"}, {\"domain\": {\"x\": [0.55, 1.0], \"y\": [0.0, 0.22222222222222224]}, \"hole\": 0.4, \"hoverinfo\": \"label+percent+name\", \"labels\": [\"TX\"], \"marker\": {\"colors\": [\"rgb(0, 128, 128)\", \"rgb(112, 164, 148)\", \"rgb(180, 200, 168)\", \"rgb(246, 237, 189)\", \"rgb(237, 187, 138)\", \"rgb(222, 138, 90)\", \"rgb(202, 86, 44)\"]}, \"showlegend\": false, \"text\": [\"Texas\"], \"textinfo\": \"percent+label\", \"textposition\": \"inside\", \"type\": \"pie\", \"values\": [1], \"visible\": false}, {\"marker\": {\"color\": \"cadetblue\", \"opacity\": 0.9}, \"opacity\": 0.9, \"showlegend\": false, \"text\": [3.0], \"textposition\": \"outside\", \"type\": \"bar\", \"visible\": false, \"x\": [\"Representatives\"], \"xaxis\": \"x\", \"y\": [3], \"yaxis\": \"y\"}, {\"marker\": {\"color\": \"indianred\", \"opacity\": 0.9}, \"opacity\": 0.9, \"showlegend\": false, \"text\": [3.0], \"textposition\": \"outside\", \"type\": \"bar\", \"visible\": false, \"x\": [\"representative\"], \"xaxis\": \"x2\", \"y\": [3], \"yaxis\": \"y2\"}, {\"domain\": {\"x\": [0.55, 1.0], \"y\": [0.3888888888888889, 0.6111111111111112]}, \"hole\": 0.4, \"hoverinfo\": \"label+percent+name\", \"labels\": [\"D\"], \"marker\": {\"colors\": [\"rgb(0, 128, 128)\", \"rgb(112, 164, 148)\", \"rgb(180, 200, 168)\", \"rgb(246, 237, 189)\", \"rgb(237, 187, 138)\", \"rgb(222, 138, 90)\", \"rgb(202, 86, 44)\"]}, \"showlegend\": false, \"text\": [\"D\"], \"textinfo\": \"percent+label\", \"textposition\": \"inside\", \"type\": \"pie\", \"values\": [3], \"visible\": false}, {\"marker\": {\"color\": \"goldenrod\", \"opacity\": 0.9}, \"opacity\": 0.9, \"showlegend\": false, \"text\": [1.0], \"textposition\": \"outside\", \"type\": \"bar\", \"visible\": false, \"x\": [\"twitter\"], \"xaxis\": \"x3\", \"y\": [1], \"yaxis\": \"y3\"}, {\"domain\": {\"x\": [0.55, 1.0], \"y\": [0.0, 0.22222222222222224]}, \"hole\": 0.4, \"hoverinfo\": \"label+percent+name\", \"labels\": [\"NY\"], \"marker\": {\"colors\": [\"rgb(0, 128, 128)\", \"rgb(112, 164, 148)\", \"rgb(180, 200, 168)\", \"rgb(246, 237, 189)\", \"rgb(237, 187, 138)\", \"rgb(222, 138, 90)\", \"rgb(202, 86, 44)\"]}, \"showlegend\": false, \"text\": [\"New York\"], \"textinfo\": \"percent+label\", \"textposition\": \"inside\", \"type\": \"pie\", \"values\": [1], \"visible\": false}, {\"marker\": {\"color\": \"cadetblue\", \"opacity\": 0.9}, \"opacity\": 0.9, \"showlegend\": false, \"text\": [3.0, 5.0, 6.0, 18.0, 4.0], \"textposition\": \"outside\", \"type\": \"bar\", \"visible\": false, \"x\": [\"DNC members\", \"Former party leaders\", \"Mayors\", \"Representatives\", \"State legislative leaders\"], \"xaxis\": \"x\", \"y\": [3, 5, 6, 18, 4], \"yaxis\": \"y\"}, {\"marker\": {\"color\": \"indianred\", \"opacity\": 0.9}, \"opacity\": 0.9, \"showlegend\": false, \"text\": [3.0, 5.0, 6.0, 4.0, 18.0], \"textposition\": \"outside\", \"type\": \"bar\", \"visible\": false, \"x\": [\"DNC member\", \"former DNC chair\", \"mayor\", \"minority leader\", \"representative\"], \"xaxis\": \"x2\", \"y\": [3, 5, 6, 4, 18], \"yaxis\": \"y2\"}, {\"domain\": {\"x\": [0.55, 1.0], \"y\": [0.3888888888888889, 0.6111111111111112]}, \"hole\": 0.4, \"hoverinfo\": \"label+percent+name\", \"labels\": [\"D\"], \"marker\": {\"colors\": [\"rgb(0, 128, 128)\", \"rgb(112, 164, 148)\", \"rgb(180, 200, 168)\", \"rgb(246, 237, 189)\", \"rgb(237, 187, 138)\", \"rgb(222, 138, 90)\", \"rgb(202, 86, 44)\"]}, \"showlegend\": false, \"text\": [\"D\"], \"textinfo\": \"percent+label\", \"textposition\": \"inside\", \"type\": \"pie\", \"values\": [36], \"visible\": false}, {\"marker\": {\"color\": \"goldenrod\", \"opacity\": 0.9}, \"opacity\": 0.9, \"showlegend\": false, \"text\": [1.0, 12.0, 1.0], \"textposition\": \"outside\", \"type\": \"bar\", \"visible\": false, \"x\": [\"cnn\", \"other\", \"twitter\"], \"xaxis\": \"x3\", \"y\": [1, 12, 1], \"yaxis\": \"y3\"}, {\"domain\": {\"x\": [0.55, 1.0], \"y\": [0.0, 0.22222222222222224]}, \"hole\": 0.4, \"hoverinfo\": \"label+percent+name\", \"labels\": [\"DC\", \"IA\", \"IN\", \"MA\", \"MD\", \"MI\", \"ND\", \"NH\", \"NY\", \"OH\", \"TN\", \"TX\", \"VA\"], \"marker\": {\"colors\": [\"rgb(0, 128, 128)\", \"rgb(112, 164, 148)\", \"rgb(180, 200, 168)\", \"rgb(246, 237, 189)\", \"rgb(237, 187, 138)\", \"rgb(222, 138, 90)\", \"rgb(202, 86, 44)\"]}, \"showlegend\": false, \"text\": [\"District of Columbia\", \"Iowa\", \"Indiana\", \"Massachusetts\", \"Maryland\", \"Michigan\", \"North Dakota\", \"New Hampshire\", \"New York\", \"Ohio\", \"Tennessee\", \"Texas\", \"Virginia\"], \"textinfo\": \"percent+label\", \"textposition\": \"inside\", \"type\": \"pie\", \"values\": [1, 1, 1, 1, 1, 1, 1, 1, 1, 2, 1, 1, 1], \"visible\": false}, {\"marker\": {\"color\": \"cadetblue\", \"opacity\": 0.9}, \"opacity\": 0.9, \"showlegend\": false, \"text\": [1.0, 6.0], \"textposition\": \"outside\", \"type\": \"bar\", \"visible\": false, \"x\": [\"DNC members\", \"Senators\"], \"xaxis\": \"x\", \"y\": [1, 6], \"yaxis\": \"y\"}, {\"marker\": {\"color\": \"indianred\", \"opacity\": 0.9}, \"opacity\": 0.9, \"showlegend\": false, \"text\": [1.0, 6.0], \"textposition\": \"outside\", \"type\": \"bar\", \"visible\": false, \"x\": [\"DNC member\", \"senator\"], \"xaxis\": \"x2\", \"y\": [1, 6], \"yaxis\": \"y2\"}, {\"domain\": {\"x\": [0.55, 1.0], \"y\": [0.3888888888888889, 0.6111111111111112]}, \"hole\": 0.4, \"hoverinfo\": \"label+percent+name\", \"labels\": [\"D\"], \"marker\": {\"colors\": [\"rgb(0, 128, 128)\", \"rgb(112, 164, 148)\", \"rgb(180, 200, 168)\", \"rgb(246, 237, 189)\", \"rgb(237, 187, 138)\", \"rgb(222, 138, 90)\", \"rgb(202, 86, 44)\"]}, \"showlegend\": false, \"text\": [\"D\"], \"textinfo\": \"percent+label\", \"textposition\": \"inside\", \"type\": \"pie\", \"values\": [7], \"visible\": false}, {\"marker\": {\"color\": \"goldenrod\", \"opacity\": 0.9}, \"opacity\": 0.9, \"showlegend\": false, \"text\": [1.0, 1.0], \"textposition\": \"outside\", \"type\": \"bar\", \"visible\": false, \"x\": [\"other\", \"politico\"], \"xaxis\": \"x3\", \"y\": [1, 1], \"yaxis\": \"y3\"}, {\"domain\": {\"x\": [0.55, 1.0], \"y\": [0.0, 0.22222222222222224]}, \"hole\": 0.4, \"hoverinfo\": \"label+percent+name\", \"labels\": [\"IA\", \"MT\"], \"marker\": {\"colors\": [\"rgb(0, 128, 128)\", \"rgb(112, 164, 148)\", \"rgb(180, 200, 168)\", \"rgb(246, 237, 189)\", \"rgb(237, 187, 138)\", \"rgb(222, 138, 90)\", \"rgb(202, 86, 44)\"]}, \"showlegend\": false, \"text\": [\"Iowa\", \"Montana\"], \"textinfo\": \"percent+label\", \"textposition\": \"inside\", \"type\": \"pie\", \"values\": [1, 1], \"visible\": false}, {\"marker\": {\"color\": \"cadetblue\", \"opacity\": 0.9}, \"opacity\": 0.9, \"showlegend\": false, \"text\": [5.0, 5.0, 3.0, 2.0], \"textposition\": \"outside\", \"type\": \"bar\", \"visible\": false, \"x\": [\"Candidates who have dropped out\", \"Former party leaders\", \"Mayors\", \"Statewide officeholders\"], \"xaxis\": \"x\", \"y\": [5, 5, 3, 2], \"yaxis\": \"y\"}, {\"marker\": {\"color\": \"indianred\", \"opacity\": 0.9}, \"opacity\": 0.9, \"showlegend\": false, \"text\": [5.0, 2.0, 5.0, 3.0], \"textposition\": \"outside\", \"type\": \"bar\", \"visible\": false, \"x\": [\"Former 2020 candidate\", \"attorney general\", \"former DNC chair\", \"mayor\"], \"xaxis\": \"x2\", \"y\": [5, 2, 5, 3], \"yaxis\": \"y2\"}, {\"domain\": {\"x\": [0.55, 1.0], \"y\": [0.3888888888888889, 0.6111111111111112]}, \"hole\": 0.4, \"hoverinfo\": \"label+percent+name\", \"labels\": [\"D\"], \"marker\": {\"colors\": [\"rgb(0, 128, 128)\", \"rgb(112, 164, 148)\", \"rgb(180, 200, 168)\", \"rgb(246, 237, 189)\", \"rgb(237, 187, 138)\", \"rgb(222, 138, 90)\", \"rgb(202, 86, 44)\"]}, \"showlegend\": false, \"text\": [\"D\"], \"textinfo\": \"percent+label\", \"textposition\": \"inside\", \"type\": \"pie\", \"values\": [15], \"visible\": false}, {\"marker\": {\"color\": \"goldenrod\", \"opacity\": 0.9}, \"opacity\": 0.9, \"showlegend\": false, \"text\": [1.0, 3.0], \"textposition\": \"outside\", \"type\": \"bar\", \"visible\": false, \"x\": [\"apnews\", \"other\"], \"xaxis\": \"x3\", \"y\": [1, 3], \"yaxis\": \"y3\"}, {\"domain\": {\"x\": [0.55, 1.0], \"y\": [0.0, 0.22222222222222224]}, \"hole\": 0.4, \"hoverinfo\": \"label+percent+name\", \"labels\": [\"CO\"], \"marker\": {\"colors\": [\"rgb(0, 128, 128)\", \"rgb(112, 164, 148)\", \"rgb(180, 200, 168)\", \"rgb(246, 237, 189)\", \"rgb(237, 187, 138)\", \"rgb(222, 138, 90)\", \"rgb(202, 86, 44)\"]}, \"showlegend\": false, \"text\": [\"Colorado\"], \"textinfo\": \"percent+label\", \"textposition\": \"inside\", \"type\": \"pie\", \"values\": [4], \"visible\": false}, {\"marker\": {\"color\": \"cadetblue\", \"opacity\": 0.9}, \"opacity\": 0.9, \"showlegend\": false, \"text\": [4.0, 8.0, 18.0, 18.0, 2.0], \"textposition\": \"outside\", \"type\": \"bar\", \"visible\": false, \"x\": [\"DNC members\", \"Governors\", \"Mayors\", \"Representatives\", \"Statewide officeholders\"], \"xaxis\": \"x\", \"y\": [4, 8, 18, 18, 2], \"yaxis\": \"y\"}, {\"marker\": {\"color\": \"indianred\", \"opacity\": 0.9}, \"opacity\": 0.9, \"showlegend\": false, \"text\": [4.0, 26.0, 18.0, 2.0], \"textposition\": \"outside\", \"type\": \"bar\", \"visible\": false, \"x\": [\"DNC member\", \"mayor\", \"representative\", \"state treasurer\"], \"xaxis\": \"x2\", \"y\": [4, 26, 18, 2], \"yaxis\": \"y2\"}, {\"domain\": {\"x\": [0.55, 1.0], \"y\": [0.3888888888888889, 0.6111111111111112]}, \"hole\": 0.4, \"hoverinfo\": \"label+percent+name\", \"labels\": [\"D\", \"None\"], \"marker\": {\"colors\": [\"rgb(0, 128, 128)\", \"rgb(112, 164, 148)\", \"rgb(180, 200, 168)\", \"rgb(246, 237, 189)\", \"rgb(237, 187, 138)\", \"rgb(222, 138, 90)\", \"rgb(202, 86, 44)\"]}, \"showlegend\": false, \"text\": [\"D\", \"None\"], \"textinfo\": \"percent+label\", \"textposition\": \"inside\", \"type\": \"pie\", \"values\": [47, 3], \"visible\": false}, {\"marker\": {\"color\": \"goldenrod\", \"opacity\": 0.9}, \"opacity\": 0.9, \"showlegend\": false, \"text\": [1.0, 11.0, 3.0, 3.0], \"textposition\": \"outside\", \"type\": \"bar\", \"visible\": false, \"x\": [\"apnews\", \"other\", \"politico\", \"twitter\"], \"xaxis\": \"x3\", \"y\": [1, 11, 3, 3], \"yaxis\": \"y3\"}, {\"domain\": {\"x\": [0.55, 1.0], \"y\": [0.0, 0.22222222222222224]}, \"hole\": 0.4, \"hoverinfo\": \"label+percent+name\", \"labels\": [\"CA\", \"DC\", \"FL\", \"IL\", \"KY\", \"NY\", \"PA\", \"TN\", \"TX\", \"UT\", \"WI\"], \"marker\": {\"colors\": [\"rgb(0, 128, 128)\", \"rgb(112, 164, 148)\", \"rgb(180, 200, 168)\", \"rgb(246, 237, 189)\", \"rgb(237, 187, 138)\", \"rgb(222, 138, 90)\", \"rgb(202, 86, 44)\"]}, \"showlegend\": false, \"text\": [\"California\", \"District of Columbia\", \"Florida\", \"Illinois\", \"Kentucky\", \"New York\", \"Pennsylvania\", \"Tennessee\", \"Texas\", \"Utah\", \"Wisconsin\"], \"textinfo\": \"percent+label\", \"textposition\": \"inside\", \"type\": \"pie\", \"values\": [8, 1, 1, 1, 1, 1, 1, 1, 1, 1, 1], \"visible\": false}, {\"marker\": {\"color\": \"cadetblue\", \"opacity\": 0.9}, \"opacity\": 0.9, \"showlegend\": false, \"text\": [1.0], \"textposition\": \"outside\", \"type\": \"bar\", \"visible\": false, \"x\": [\"DNC members\"], \"xaxis\": \"x\", \"y\": [1], \"yaxis\": \"y\"}, {\"marker\": {\"color\": \"indianred\", \"opacity\": 0.9}, \"opacity\": 0.9, \"showlegend\": false, \"text\": [1.0], \"textposition\": \"outside\", \"type\": \"bar\", \"visible\": false, \"x\": [\"DNC member\"], \"xaxis\": \"x2\", \"y\": [1], \"yaxis\": \"y2\"}, {\"domain\": {\"x\": [0.55, 1.0], \"y\": [0.3888888888888889, 0.6111111111111112]}, \"hole\": 0.4, \"hoverinfo\": \"label+percent+name\", \"labels\": [\"D\"], \"marker\": {\"colors\": [\"rgb(0, 128, 128)\", \"rgb(112, 164, 148)\", \"rgb(180, 200, 168)\", \"rgb(246, 237, 189)\", \"rgb(237, 187, 138)\", \"rgb(222, 138, 90)\", \"rgb(202, 86, 44)\"]}, \"showlegend\": false, \"text\": [\"D\"], \"textinfo\": \"percent+label\", \"textposition\": \"inside\", \"type\": \"pie\", \"values\": [1], \"visible\": false}, {\"marker\": {\"color\": \"goldenrod\", \"opacity\": 0.9}, \"opacity\": 0.9, \"showlegend\": false, \"text\": [1.0], \"textposition\": \"outside\", \"type\": \"bar\", \"visible\": false, \"x\": [\"4president\"], \"xaxis\": \"x3\", \"y\": [1], \"yaxis\": \"y3\"}, {\"domain\": {\"x\": [0.55, 1.0], \"y\": [0.0, 0.22222222222222224]}, \"hole\": 0.4, \"hoverinfo\": \"label+percent+name\", \"labels\": [\"DC\"], \"marker\": {\"colors\": [\"rgb(0, 128, 128)\", \"rgb(112, 164, 148)\", \"rgb(180, 200, 168)\", \"rgb(246, 237, 189)\", \"rgb(237, 187, 138)\", \"rgb(222, 138, 90)\", \"rgb(202, 86, 44)\"]}, \"showlegend\": false, \"text\": [\"District of Columbia\"], \"textinfo\": \"percent+label\", \"textposition\": \"inside\", \"type\": \"pie\", \"values\": [1], \"visible\": false}],\n",
       "                        {\"annotations\": [{\"font\": {\"size\": 16}, \"showarrow\": false, \"text\": \"Points by Endorser Category\", \"x\": 0.5, \"xanchor\": \"center\", \"xref\": \"paper\", \"y\": 1.0, \"yanchor\": \"bottom\", \"yref\": \"paper\"}, {\"font\": {\"size\": 16}, \"showarrow\": false, \"text\": \"Points by Endorser Position\", \"x\": 0.225, \"xanchor\": \"center\", \"xref\": \"paper\", \"y\": 0.6111111111111112, \"yanchor\": \"bottom\", \"yref\": \"paper\"}, {\"font\": {\"size\": 16}, \"showarrow\": false, \"text\": \"Percentage of Points by Endorser Party\", \"x\": 0.775, \"xanchor\": \"center\", \"xref\": \"paper\", \"y\": 0.6111111111111112, \"yanchor\": \"bottom\", \"yref\": \"paper\"}, {\"font\": {\"size\": 16}, \"showarrow\": false, \"text\": \"Number of Votes by Endorser Source\", \"x\": 0.225, \"xanchor\": \"center\", \"xref\": \"paper\", \"y\": 0.22222222222222224, \"yanchor\": \"bottom\", \"yref\": \"paper\"}, {\"font\": {\"size\": 16}, \"showarrow\": false, \"text\": \"Percentage of Votes by Endorser State\", \"x\": 0.775, \"xanchor\": \"center\", \"xref\": \"paper\", \"y\": 0.22222222222222224, \"yanchor\": \"bottom\", \"yref\": \"paper\"}, {\"align\": \"left\", \"showarrow\": false, \"text\": \"Select Endorsee\", \"x\": -0.15, \"xref\": \"paper\", \"y\": 1.05, \"yref\": \"paper\"}], \"bargap\": 0.1, \"height\": 1350, \"margin\": {\"t\": 150}, \"showlegend\": true, \"template\": {\"data\": {\"bar\": [{\"error_x\": {\"color\": \"#2a3f5f\"}, \"error_y\": {\"color\": \"#2a3f5f\"}, \"marker\": {\"line\": {\"color\": \"#E5ECF6\", \"width\": 0.5}}, \"type\": \"bar\"}], \"barpolar\": [{\"marker\": {\"line\": {\"color\": \"#E5ECF6\", \"width\": 0.5}}, \"type\": \"barpolar\"}], \"carpet\": [{\"aaxis\": {\"endlinecolor\": \"#2a3f5f\", \"gridcolor\": \"white\", \"linecolor\": \"white\", \"minorgridcolor\": \"white\", \"startlinecolor\": \"#2a3f5f\"}, \"baxis\": {\"endlinecolor\": \"#2a3f5f\", \"gridcolor\": \"white\", \"linecolor\": \"white\", \"minorgridcolor\": \"white\", \"startlinecolor\": \"#2a3f5f\"}, \"type\": \"carpet\"}], \"choropleth\": [{\"colorbar\": {\"outlinewidth\": 0, \"ticks\": \"\"}, \"type\": \"choropleth\"}], \"contour\": [{\"colorbar\": {\"outlinewidth\": 0, \"ticks\": \"\"}, \"colorscale\": [[0.0, \"#0d0887\"], [0.1111111111111111, \"#46039f\"], [0.2222222222222222, \"#7201a8\"], [0.3333333333333333, \"#9c179e\"], [0.4444444444444444, \"#bd3786\"], [0.5555555555555556, \"#d8576b\"], [0.6666666666666666, \"#ed7953\"], [0.7777777777777778, \"#fb9f3a\"], [0.8888888888888888, \"#fdca26\"], [1.0, \"#f0f921\"]], \"type\": \"contour\"}], \"contourcarpet\": [{\"colorbar\": {\"outlinewidth\": 0, \"ticks\": \"\"}, \"type\": \"contourcarpet\"}], \"heatmap\": [{\"colorbar\": {\"outlinewidth\": 0, \"ticks\": \"\"}, \"colorscale\": [[0.0, \"#0d0887\"], [0.1111111111111111, \"#46039f\"], [0.2222222222222222, \"#7201a8\"], [0.3333333333333333, \"#9c179e\"], [0.4444444444444444, \"#bd3786\"], [0.5555555555555556, \"#d8576b\"], [0.6666666666666666, \"#ed7953\"], [0.7777777777777778, \"#fb9f3a\"], [0.8888888888888888, \"#fdca26\"], [1.0, \"#f0f921\"]], \"type\": \"heatmap\"}], \"heatmapgl\": [{\"colorbar\": {\"outlinewidth\": 0, \"ticks\": \"\"}, \"colorscale\": [[0.0, \"#0d0887\"], [0.1111111111111111, \"#46039f\"], [0.2222222222222222, \"#7201a8\"], [0.3333333333333333, \"#9c179e\"], [0.4444444444444444, \"#bd3786\"], [0.5555555555555556, \"#d8576b\"], [0.6666666666666666, \"#ed7953\"], [0.7777777777777778, \"#fb9f3a\"], [0.8888888888888888, \"#fdca26\"], [1.0, \"#f0f921\"]], \"type\": \"heatmapgl\"}], \"histogram\": [{\"marker\": {\"colorbar\": {\"outlinewidth\": 0, \"ticks\": \"\"}}, \"type\": \"histogram\"}], \"histogram2d\": [{\"colorbar\": {\"outlinewidth\": 0, \"ticks\": \"\"}, \"colorscale\": [[0.0, \"#0d0887\"], [0.1111111111111111, \"#46039f\"], [0.2222222222222222, \"#7201a8\"], [0.3333333333333333, \"#9c179e\"], [0.4444444444444444, \"#bd3786\"], [0.5555555555555556, \"#d8576b\"], [0.6666666666666666, \"#ed7953\"], [0.7777777777777778, \"#fb9f3a\"], [0.8888888888888888, \"#fdca26\"], [1.0, \"#f0f921\"]], \"type\": \"histogram2d\"}], \"histogram2dcontour\": [{\"colorbar\": {\"outlinewidth\": 0, \"ticks\": \"\"}, \"colorscale\": [[0.0, \"#0d0887\"], [0.1111111111111111, \"#46039f\"], [0.2222222222222222, \"#7201a8\"], [0.3333333333333333, \"#9c179e\"], [0.4444444444444444, \"#bd3786\"], [0.5555555555555556, \"#d8576b\"], [0.6666666666666666, \"#ed7953\"], [0.7777777777777778, \"#fb9f3a\"], [0.8888888888888888, \"#fdca26\"], [1.0, \"#f0f921\"]], \"type\": \"histogram2dcontour\"}], \"mesh3d\": [{\"colorbar\": {\"outlinewidth\": 0, \"ticks\": \"\"}, \"type\": \"mesh3d\"}], \"parcoords\": [{\"line\": {\"colorbar\": {\"outlinewidth\": 0, \"ticks\": \"\"}}, \"type\": \"parcoords\"}], \"pie\": [{\"automargin\": true, \"type\": \"pie\"}], \"scatter\": [{\"marker\": {\"colorbar\": {\"outlinewidth\": 0, \"ticks\": \"\"}}, \"type\": \"scatter\"}], \"scatter3d\": [{\"line\": {\"colorbar\": {\"outlinewidth\": 0, \"ticks\": \"\"}}, \"marker\": {\"colorbar\": {\"outlinewidth\": 0, \"ticks\": \"\"}}, \"type\": \"scatter3d\"}], \"scattercarpet\": [{\"marker\": {\"colorbar\": {\"outlinewidth\": 0, \"ticks\": \"\"}}, \"type\": \"scattercarpet\"}], \"scattergeo\": [{\"marker\": {\"colorbar\": {\"outlinewidth\": 0, \"ticks\": \"\"}}, \"type\": \"scattergeo\"}], \"scattergl\": [{\"marker\": {\"colorbar\": {\"outlinewidth\": 0, \"ticks\": \"\"}}, \"type\": \"scattergl\"}], \"scattermapbox\": [{\"marker\": {\"colorbar\": {\"outlinewidth\": 0, \"ticks\": \"\"}}, \"type\": \"scattermapbox\"}], \"scatterpolar\": [{\"marker\": {\"colorbar\": {\"outlinewidth\": 0, \"ticks\": \"\"}}, \"type\": \"scatterpolar\"}], \"scatterpolargl\": [{\"marker\": {\"colorbar\": {\"outlinewidth\": 0, \"ticks\": \"\"}}, \"type\": \"scatterpolargl\"}], \"scatterternary\": [{\"marker\": {\"colorbar\": {\"outlinewidth\": 0, \"ticks\": \"\"}}, \"type\": \"scatterternary\"}], \"surface\": [{\"colorbar\": {\"outlinewidth\": 0, \"ticks\": \"\"}, \"colorscale\": [[0.0, \"#0d0887\"], [0.1111111111111111, \"#46039f\"], [0.2222222222222222, \"#7201a8\"], [0.3333333333333333, \"#9c179e\"], [0.4444444444444444, \"#bd3786\"], [0.5555555555555556, \"#d8576b\"], [0.6666666666666666, \"#ed7953\"], [0.7777777777777778, \"#fb9f3a\"], [0.8888888888888888, \"#fdca26\"], [1.0, \"#f0f921\"]], \"type\": \"surface\"}], \"table\": [{\"cells\": {\"fill\": {\"color\": \"#EBF0F8\"}, \"line\": {\"color\": \"white\"}}, \"header\": {\"fill\": {\"color\": \"#C8D4E3\"}, \"line\": {\"color\": \"white\"}}, \"type\": \"table\"}]}, \"layout\": {\"annotationdefaults\": {\"arrowcolor\": \"#2a3f5f\", \"arrowhead\": 0, \"arrowwidth\": 1}, \"coloraxis\": {\"colorbar\": {\"outlinewidth\": 0, \"ticks\": \"\"}}, \"colorscale\": {\"diverging\": [[0, \"#8e0152\"], [0.1, \"#c51b7d\"], [0.2, \"#de77ae\"], [0.3, \"#f1b6da\"], [0.4, \"#fde0ef\"], [0.5, \"#f7f7f7\"], [0.6, \"#e6f5d0\"], [0.7, \"#b8e186\"], [0.8, \"#7fbc41\"], [0.9, \"#4d9221\"], [1, \"#276419\"]], \"sequential\": [[0.0, \"#0d0887\"], [0.1111111111111111, \"#46039f\"], [0.2222222222222222, \"#7201a8\"], [0.3333333333333333, \"#9c179e\"], [0.4444444444444444, \"#bd3786\"], [0.5555555555555556, \"#d8576b\"], [0.6666666666666666, \"#ed7953\"], [0.7777777777777778, \"#fb9f3a\"], [0.8888888888888888, \"#fdca26\"], [1.0, \"#f0f921\"]], \"sequentialminus\": [[0.0, \"#0d0887\"], [0.1111111111111111, \"#46039f\"], [0.2222222222222222, \"#7201a8\"], [0.3333333333333333, \"#9c179e\"], [0.4444444444444444, \"#bd3786\"], [0.5555555555555556, \"#d8576b\"], [0.6666666666666666, \"#ed7953\"], [0.7777777777777778, \"#fb9f3a\"], [0.8888888888888888, \"#fdca26\"], [1.0, \"#f0f921\"]]}, \"colorway\": [\"#636efa\", \"#EF553B\", \"#00cc96\", \"#ab63fa\", \"#FFA15A\", \"#19d3f3\", \"#FF6692\", \"#B6E880\", \"#FF97FF\", \"#FECB52\"], \"font\": {\"color\": \"#2a3f5f\"}, \"geo\": {\"bgcolor\": \"white\", \"lakecolor\": \"white\", \"landcolor\": \"#E5ECF6\", \"showlakes\": true, \"showland\": true, \"subunitcolor\": \"white\"}, \"hoverlabel\": {\"align\": \"left\"}, \"hovermode\": \"closest\", \"mapbox\": {\"style\": \"light\"}, \"paper_bgcolor\": \"white\", \"plot_bgcolor\": \"#E5ECF6\", \"polar\": {\"angularaxis\": {\"gridcolor\": \"white\", \"linecolor\": \"white\", \"ticks\": \"\"}, \"bgcolor\": \"#E5ECF6\", \"radialaxis\": {\"gridcolor\": \"white\", \"linecolor\": \"white\", \"ticks\": \"\"}}, \"scene\": {\"xaxis\": {\"backgroundcolor\": \"#E5ECF6\", \"gridcolor\": \"white\", \"gridwidth\": 2, \"linecolor\": \"white\", \"showbackground\": true, \"ticks\": \"\", \"zerolinecolor\": \"white\"}, \"yaxis\": {\"backgroundcolor\": \"#E5ECF6\", \"gridcolor\": \"white\", \"gridwidth\": 2, \"linecolor\": \"white\", \"showbackground\": true, \"ticks\": \"\", \"zerolinecolor\": \"white\"}, \"zaxis\": {\"backgroundcolor\": \"#E5ECF6\", \"gridcolor\": \"white\", \"gridwidth\": 2, \"linecolor\": \"white\", \"showbackground\": true, \"ticks\": \"\", \"zerolinecolor\": \"white\"}}, \"shapedefaults\": {\"line\": {\"color\": \"#2a3f5f\"}}, \"ternary\": {\"aaxis\": {\"gridcolor\": \"white\", \"linecolor\": \"white\", \"ticks\": \"\"}, \"baxis\": {\"gridcolor\": \"white\", \"linecolor\": \"white\", \"ticks\": \"\"}, \"bgcolor\": \"#E5ECF6\", \"caxis\": {\"gridcolor\": \"white\", \"linecolor\": \"white\", \"ticks\": \"\"}}, \"title\": {\"x\": 0.05}, \"xaxis\": {\"automargin\": true, \"gridcolor\": \"white\", \"linecolor\": \"white\", \"ticks\": \"\", \"title\": {\"standoff\": 15}, \"zerolinecolor\": \"white\", \"zerolinewidth\": 2}, \"yaxis\": {\"automargin\": true, \"gridcolor\": \"white\", \"linecolor\": \"white\", \"ticks\": \"\", \"title\": {\"standoff\": 15}, \"zerolinecolor\": \"white\", \"zerolinewidth\": 2}}}, \"title\": {\"font\": {\"size\": 22}, \"text\": \"<b> Endorsee Summary <b>\", \"x\": 0.5, \"xanchor\": \"center\", \"y\": 0.95, \"yanchor\": \"top\"}, \"updatemenus\": [{\"active\": 1, \"buttons\": [{\"args\": [{\"visible\": [true, true, true, true, true, false, false, false, false, false, false, false, false, false, false, false, false, false, false, false, false, false, false, false, false, false, false, false, false, false, false, false, false, false, false, false, false, false, false, false, false, false, false, false, false, false, false, false, false, false, false, false, false, false, false, false, false, false, false, false, false, false, false, false, false, false, false, false, false, false, false, false, false, false, false, false, false, false, false, false]}], \"label\": \"Delaney\", \"method\": \"update\"}, {\"args\": [{\"visible\": [false, false, false, false, false, true, true, true, true, true, false, false, false, false, false, false, false, false, false, false, false, false, false, false, false, false, false, false, false, false, false, false, false, false, false, false, false, false, false, false, false, false, false, false, false, false, false, false, false, false, false, false, false, false, false, false, false, false, false, false, false, false, false, false, false, false, false, false, false, false, false, false, false, false, false, false, false, false, false, false]}], \"label\": \"Biden\", \"method\": \"update\"}, {\"args\": [{\"visible\": [false, false, false, false, false, false, false, false, false, false, true, true, true, true, true, false, false, false, false, false, false, false, false, false, false, false, false, false, false, false, false, false, false, false, false, false, false, false, false, false, false, false, false, false, false, false, false, false, false, false, false, false, false, false, false, false, false, false, false, false, false, false, false, false, false, false, false, false, false, false, false, false, false, false, false, false, false, false, false, false]}], \"label\": \"Castro\", \"method\": \"update\"}, {\"args\": [{\"visible\": [false, false, false, false, false, false, false, false, false, false, false, false, false, false, false, true, true, true, true, true, false, false, false, false, false, false, false, false, false, false, false, false, false, false, false, false, false, false, false, false, false, false, false, false, false, false, false, false, false, false, false, false, false, false, false, false, false, false, false, false, false, false, false, false, false, false, false, false, false, false, false, false, false, false, false, false, false, false, false, false]}], \"label\": \"Harris\", \"method\": \"update\"}, {\"args\": [{\"visible\": [false, false, false, false, false, false, false, false, false, false, false, false, false, false, false, false, false, false, false, false, true, true, true, true, true, false, false, false, false, false, false, false, false, false, false, false, false, false, false, false, false, false, false, false, false, false, false, false, false, false, false, false, false, false, false, false, false, false, false, false, false, false, false, false, false, false, false, false, false, false, false, false, false, false, false, false, false, false, false, false]}], \"label\": \"Sanders\", \"method\": \"update\"}, {\"args\": [{\"visible\": [false, false, false, false, false, false, false, false, false, false, false, false, false, false, false, false, false, false, false, false, false, false, false, false, false, true, true, true, true, true, false, false, false, false, false, false, false, false, false, false, false, false, false, false, false, false, false, false, false, false, false, false, false, false, false, false, false, false, false, false, false, false, false, false, false, false, false, false, false, false, false, false, false, false, false, false, false, false, false, false]}], \"label\": \"Booker\", \"method\": \"update\"}, {\"args\": [{\"visible\": [false, false, false, false, false, false, false, false, false, false, false, false, false, false, false, false, false, false, false, false, false, false, false, false, false, false, false, false, false, false, true, true, true, true, true, false, false, false, false, false, false, false, false, false, false, false, false, false, false, false, false, false, false, false, false, false, false, false, false, false, false, false, false, false, false, false, false, false, false, false, false, false, false, false, false, false, false, false, false, false]}], \"label\": \"Klobuchar\", \"method\": \"update\"}, {\"args\": [{\"visible\": [false, false, false, false, false, false, false, false, false, false, false, false, false, false, false, false, false, false, false, false, false, false, false, false, false, false, false, false, false, false, false, false, false, false, false, true, true, true, true, true, false, false, false, false, false, false, false, false, false, false, false, false, false, false, false, false, false, false, false, false, false, false, false, false, false, false, false, false, false, false, false, false, false, false, false, false, false, false, false, false]}], \"label\": \"Warren\", \"method\": \"update\"}, {\"args\": [{\"visible\": [false, false, false, false, false, false, false, false, false, false, false, false, false, false, false, false, false, false, false, false, false, false, false, false, false, false, false, false, false, false, false, false, false, false, false, false, false, false, false, false, true, true, true, true, true, false, false, false, false, false, false, false, false, false, false, false, false, false, false, false, false, false, false, false, false, false, false, false, false, false, false, false, false, false, false, false, false, false, false, false]}], \"label\": \"Inslee\", \"method\": \"update\"}, {\"args\": [{\"visible\": [false, false, false, false, false, false, false, false, false, false, false, false, false, false, false, false, false, false, false, false, false, false, false, false, false, false, false, false, false, false, false, false, false, false, false, false, false, false, false, false, false, false, false, false, false, true, true, true, true, true, false, false, false, false, false, false, false, false, false, false, false, false, false, false, false, false, false, false, false, false, false, false, false, false, false, false, false, false, false, false]}], \"label\": \"O'Rourke\", \"method\": \"update\"}, {\"args\": [{\"visible\": [false, false, false, false, false, false, false, false, false, false, false, false, false, false, false, false, false, false, false, false, false, false, false, false, false, false, false, false, false, false, false, false, false, false, false, false, false, false, false, false, false, false, false, false, false, false, false, false, false, false, true, true, true, true, true, false, false, false, false, false, false, false, false, false, false, false, false, false, false, false, false, false, false, false, false, false, false, false, false, false]}], \"label\": \"Gillibrand\", \"method\": \"update\"}, {\"args\": [{\"visible\": [false, false, false, false, false, false, false, false, false, false, false, false, false, false, false, false, false, false, false, false, false, false, false, false, false, false, false, false, false, false, false, false, false, false, false, false, false, false, false, false, false, false, false, false, false, false, false, false, false, false, false, false, false, false, false, true, true, true, true, true, false, false, false, false, false, false, false, false, false, false, false, false, false, false, false, false, false, false, false, false]}], \"label\": \"Buttigieg\", \"method\": \"update\"}, {\"args\": [{\"visible\": [false, false, false, false, false, false, false, false, false, false, false, false, false, false, false, false, false, false, false, false, false, false, false, false, false, false, false, false, false, false, false, false, false, false, false, false, false, false, false, false, false, false, false, false, false, false, false, false, false, false, false, false, false, false, false, false, false, false, false, false, true, true, true, true, true, false, false, false, false, false, false, false, false, false, false, false, false, false, false, false]}], \"label\": \"Bullock\", \"method\": \"update\"}, {\"args\": [{\"visible\": [false, false, false, false, false, false, false, false, false, false, false, false, false, false, false, false, false, false, false, false, false, false, false, false, false, false, false, false, false, false, false, false, false, false, false, false, false, false, false, false, false, false, false, false, false, false, false, false, false, false, false, false, false, false, false, false, false, false, false, false, false, false, false, false, false, true, true, true, true, true, false, false, false, false, false, false, false, false, false, false]}], \"label\": \"Bennet\", \"method\": \"update\"}, {\"args\": [{\"visible\": [false, false, false, false, false, false, false, false, false, false, false, false, false, false, false, false, false, false, false, false, false, false, false, false, false, false, false, false, false, false, false, false, false, false, false, false, false, false, false, false, false, false, false, false, false, false, false, false, false, false, false, false, false, false, false, false, false, false, false, false, false, false, false, false, false, false, false, false, false, false, true, true, true, true, true, false, false, false, false, false]}], \"label\": \"Bloomberg\", \"method\": \"update\"}, {\"args\": [{\"visible\": [false, false, false, false, false, false, false, false, false, false, false, false, false, false, false, false, false, false, false, false, false, false, false, false, false, false, false, false, false, false, false, false, false, false, false, false, false, false, false, false, false, false, false, false, false, false, false, false, false, false, false, false, false, false, false, false, false, false, false, false, false, false, false, false, false, false, false, false, false, false, false, false, false, false, false, true, true, true, true, true]}], \"label\": \"Steyer\", \"method\": \"update\"}], \"direction\": \"down\", \"pad\": {\"r\": 10, \"t\": 10}, \"showactive\": true, \"x\": -0.15, \"xanchor\": \"left\", \"y\": 1.04, \"yanchor\": \"top\"}], \"xaxis\": {\"anchor\": \"y\", \"domain\": [0.0, 1.0], \"tickangle\": 45, \"ticktext\": [\"Candidates who have dropped out\", \"Former party leaders\", \"Mayors\", \"Statewide officeholders\", \"DNC members\", \"Governors\", \"Past nominees\", \"Representatives\", \"Senators\", \"State legislative leaders\", \"Past presidents and vice presidents\"], \"tickvals\": [\"Candidates who have dropped out\", \"Former party leaders\", \"Mayors\", \"Statewide officeholders\", \"DNC members\", \"Governors\", \"Past nominees\", \"Representatives\", \"Senators\", \"State legislative leaders\", \"Past presidents and vice presidents\"]}, \"xaxis2\": {\"anchor\": \"y2\", \"domain\": [0.0, 0.45], \"tickangle\": 45, \"ticktext\": [\"Former 2020 candidate\", \"attorney general\", \"former DNC chair\", \"mayor\", \"DNC member\", \"Democratic caucus chairman\", \"former U.S. Senate majority leader\", \"governor\", \"lieutenant governor\", \"minority leader\", \"past presidential nominee\", \"president\", \"representative\", \"secretary of state\", \"senator\", \"speaker\", \"state treasurer\", \"delegate\", \"insurance commissioner\", \"president pro tem\", \"superintendent of public instruction\", \"past vice president\", \"state auditor\", \"commissioner of labor and industries\", \"former U.S. House Democratic whip\", \"speaker pro tem\", \"state comptroller\", \"state controller\"], \"tickvals\": [\"Former 2020 candidate\", \"attorney general\", \"former DNC chair\", \"mayor\", \"DNC member\", \"Democratic caucus chairman\", \"former U.S. Senate majority leader\", \"governor\", \"lieutenant governor\", \"minority leader\", \"past presidential nominee\", \"president\", \"representative\", \"secretary of state\", \"senator\", \"speaker\", \"state treasurer\", \"delegate\", \"insurance commissioner\", \"president pro tem\", \"superintendent of public instruction\", \"past vice president\", \"state auditor\", \"commissioner of labor and industries\", \"former U.S. House Democratic whip\", \"speaker pro tem\", \"state comptroller\", \"state controller\"]}, \"xaxis3\": {\"anchor\": \"y3\", \"domain\": [0.0, 0.45], \"tickangle\": 45, \"ticktext\": [\"apnews\", \"other\", \"4president\", \"cnn\", \"politico\", \"twitter\", \"youtube\"], \"tickvals\": [\"apnews\", \"other\", \"4president\", \"cnn\", \"politico\", \"twitter\", \"youtube\"]}, \"yaxis\": {\"anchor\": \"x\", \"domain\": [0.7777777777777778, 1.0], \"range\": [0, 135]}, \"yaxis2\": {\"anchor\": \"x2\", \"domain\": [0.3888888888888889, 0.6111111111111112], \"range\": [0, 135]}, \"yaxis3\": {\"anchor\": \"x3\", \"domain\": [0.0, 0.22222222222222224], \"range\": [0, 51]}},\n",
       "                        {\"responsive\": true}\n",
       "                    ).then(function(){\n",
       "                            \n",
       "var gd = document.getElementById('3e89ffd0-7ec3-4782-a11d-e9651f47a9cb');\n",
       "var x = new MutationObserver(function (mutations, observer) {{\n",
       "        var display = window.getComputedStyle(gd).display;\n",
       "        if (!display || display === 'none') {{\n",
       "            console.log([gd, 'removed!']);\n",
       "            Plotly.purge(gd);\n",
       "            observer.disconnect();\n",
       "        }}\n",
       "}});\n",
       "\n",
       "// Listen for the removal of the full notebook cells\n",
       "var notebookContainer = gd.closest('#notebook-container');\n",
       "if (notebookContainer) {{\n",
       "    x.observe(notebookContainer, {childList: true});\n",
       "}}\n",
       "\n",
       "// Listen for the clearing of the current output cell\n",
       "var outputEl = gd.closest('.output');\n",
       "if (outputEl) {{\n",
       "    x.observe(outputEl, {childList: true});\n",
       "}}\n",
       "\n",
       "                        })\n",
       "                };\n",
       "                });\n",
       "            </script>\n",
       "        </div>"
      ]
     },
     "metadata": {},
     "output_type": "display_data"
    }
   ],
   "source": [
    "fig = make_subplots(\n",
    "    rows=3, cols=2,\n",
    "    specs=[[{'colspan':2}, None],\n",
    "           [{}, {\"type\": \"pie\"}],\n",
    "           [{}, {\"type\": 'pie'}]],\n",
    "    subplot_titles=('Points by Endorser Category', \n",
    "                    'Points by Endorser Position', 'Percentage of Points by Endorser Party', \n",
    "                    'Number of Votes by Endorser Source', 'Percentage of Votes by Endorser State')\n",
    ")\n",
    "\n",
    "\n",
    "for i,e in enumerate(endorsee_df['endorsee'].unique()):\n",
    "        \n",
    "    visible = [False]*l*n_plots\n",
    "    \n",
    "    visible[i*lc:(i+1)*lc] = [True]*lc\n",
    "        \n",
    "    fig.add_trace(\n",
    "            go.Bar(\n",
    "                x=cat_df.loc[cat_df['endorsee']==e, 'category'],\n",
    "                y=cat_df.loc[cat_df['endorsee']==e, 'pt_by_category'],\n",
    "                text=cat_df.loc[cat_df['endorsee']==e, 'pt_by_category'],\n",
    "                textposition='outside',\n",
    "                opacity=0.9,\n",
    "                marker={'color':colors[0],\n",
    "                       'opacity':0.9},\n",
    "                visible=False if i!=1 else True,\n",
    "                showlegend=False),\n",
    "        row=1, col=1)\n",
    "\n",
    "\n",
    "    \n",
    "    fig.add_trace(\n",
    "            go.Bar(\n",
    "                x=position_df.loc[position_df['endorsee']==e, 'position'],\n",
    "                y=position_df.loc[position_df['endorsee']==e,'pt_by_position'],\n",
    "                text=position_df.loc[position_df['endorsee']==e,'pt_by_position'],\n",
    "                textposition='outside',\n",
    "                opacity=0.9,\n",
    "                marker={'color':colors[1],\n",
    "                       'opacity':0.9},\n",
    "                visible=False if i!=1 else True,\n",
    "                showlegend=False),\n",
    "        row=2, col=1)\n",
    "    \n",
    "    fig.add_trace(\n",
    "            go.Pie(\n",
    "                values=party_df.loc[party_df['endorsee']==e, 'pt_by_party'].to_numpy(),\n",
    "                labels=party_df.loc[party_df['endorsee']==e, 'party'].to_numpy(),\n",
    "                hole=0.4,\n",
    "                visible=False if i!=1 else True,\n",
    "                text=party_df.loc[party_df['endorsee']==e, 'party'],\n",
    "                hoverinfo='label+percent+name',\n",
    "                textinfo= 'percent+label',\n",
    "                textposition = 'inside',\n",
    "                showlegend=False,\n",
    "                marker = dict(colors = plotly.colors.diverging.Geyser)),\n",
    "        row=2, col=2)\n",
    "    \n",
    "    fig.add_trace(\n",
    "            go.Bar(\n",
    "                x=source_df.loc[source_df['endorsee']==e, 'source'],\n",
    "                y=source_df.loc[source_df['endorsee']==e,'votes_by_source'],\n",
    "                text=source_df.loc[source_df['endorsee']==e,'votes_by_source'],\n",
    "                textposition='outside',\n",
    "                opacity=0.9,\n",
    "                marker={'color':colors[2],\n",
    "                       'opacity':0.9},\n",
    "                visible=False if i!=1 else True,\n",
    "                showlegend=False\n",
    "                       ),\n",
    "        row=3, col=1)\n",
    "    \n",
    "    fig.add_trace(\n",
    "            go.Pie(\n",
    "                values=state_df.loc[state_df['endorsee']==e, 'votes_by_state'].to_numpy(),\n",
    "                labels=state_df.loc[state_df['endorsee']==e, 'state'].to_numpy(),\n",
    "                hole=0.4,\n",
    "                visible=False if i!=1 else True,\n",
    "                text=state_df.loc[state_df['endorsee']==e, 'full_state'],\n",
    "                hoverinfo='label+percent+name',\n",
    "                textinfo= 'percent+label',\n",
    "                textposition = 'inside',\n",
    "                showlegend=False,\n",
    "                marker = dict(colors = plotly.colors.diverging.Geyser)),\n",
    "        row=3, col=2)\n",
    "    \n",
    "\n",
    "    buttons.append(\n",
    "        dict(label=e,\n",
    "             method='update',\n",
    "             args=[{'visible': visible},\n",
    "                   #{'title': e}\n",
    "                  ]))\n",
    "    \n",
    "\n",
    "fig.update_layout(\n",
    "    title={'text': '<b> Endorsee Summary <b>', 'font':{'size':22},\n",
    "            'y':0.95, 'x':0.5, 'xanchor': 'center', 'yanchor': 'top'},\n",
    "    margin=dict(t=150),\n",
    "    height=1350,\n",
    "    xaxis1=dict(tickangle=45, tickvals=cat_df['category'].unique(), ticktext=cat_df['category'].unique()),\n",
    "    yaxis1=dict(range=[0, np.max(cat_df['pt_by_category']+15)]),\n",
    "    \n",
    "    xaxis2=dict(tickangle=45, tickvals=position_df['position'].unique(), ticktext=position_df['position'].unique()),\n",
    "    yaxis2=dict(range=[0, np.max(position_df['pt_by_position']+15)]),\n",
    "    \n",
    "    xaxis3=dict(tickangle=45, tickvals=source_df['source'].unique(), ticktext=source_df['source'].unique()), \n",
    "    yaxis3=dict(range=[0, np.max(source_df['votes_by_source']+15)]), \n",
    "    \n",
    "    bargap=0.1,\n",
    "    showlegend=True,\n",
    "    updatemenus = list([\n",
    "        dict(active=1,\n",
    "             buttons=buttons,\n",
    "             direction=\"down\",\n",
    "             pad={\"r\": 10, \"t\": 10},\n",
    "             showactive=True,\n",
    "             x=-0.15,\n",
    "             xanchor=\"left\",\n",
    "             y=1.04,\n",
    "             yanchor=\"top\"\n",
    "         )\n",
    "     ]))\n",
    "\n",
    "fig['layout']['annotations'] += go.layout.Annotation(text=\"Select Endorsee\", \n",
    "                                                     x=-0.15, xref=\"paper\", \n",
    "                                                     y=1.05, yref=\"paper\",\n",
    "                                                     align=\"left\", showarrow=False),\n",
    "    \n",
    "    \n",
    "\n",
    "fig.show()"
   ]
  },
  {
   "cell_type": "markdown",
   "metadata": {},
   "source": [
    "<a id=\"comparison\"></a>\n",
    "\n",
    "### Endorsees Comparison\n",
    "\n",
    "First and foremost, let's plot each Endosee cumulative points over time."
   ]
  },
  {
   "cell_type": "code",
   "execution_count": 14,
   "metadata": {
    "_kg_hide-input": true
   },
   "outputs": [],
   "source": [
    "endorsee_df['date'] = pd.to_datetime(endorsee_df['date'])\n",
    "e = endorsee_df.set_index('date')\n",
    "pt_over_time = e.groupby(\"endorsee\").resample('15D').agg({\"endorser\": np.size, \"points\": np.sum})\n",
    "pt_over_time.reset_index(inplace=True)\n",
    "pt_over_time['cum_points'] = pt_over_time.sort_values('date').groupby(by=['endorsee'])['points'].transform(lambda x: x.cumsum())\n",
    "pt_over_time['cum_votes'] = pt_over_time.sort_values('date').groupby(by=['endorsee'])['endorser'].transform(lambda x: x.cumsum())"
   ]
  },
  {
   "cell_type": "code",
   "execution_count": 15,
   "metadata": {
    "_kg_hide-input": true
   },
   "outputs": [
    {
     "data": {
      "application/vnd.plotly.v1+json": {
       "config": {
        "plotlyServerURL": "https://plot.ly"
       },
       "data": [
        {
         "mode": "markers+lines",
         "name": "Delaney",
         "showlegend": true,
         "type": "scatter",
         "x": [
          "2017-07-28T00:00:00",
          "2017-08-12T00:00:00",
          "2017-08-27T00:00:00",
          "2017-09-11T00:00:00",
          "2017-09-26T00:00:00",
          "2017-10-11T00:00:00",
          "2017-10-26T00:00:00",
          "2017-11-10T00:00:00",
          "2017-11-25T00:00:00",
          "2017-12-10T00:00:00",
          "2017-12-25T00:00:00",
          "2018-01-09T00:00:00",
          "2018-01-24T00:00:00",
          "2018-02-08T00:00:00",
          "2018-02-23T00:00:00",
          "2018-03-10T00:00:00",
          "2018-03-25T00:00:00",
          "2018-04-09T00:00:00",
          "2018-04-24T00:00:00",
          "2018-05-09T00:00:00",
          "2018-05-24T00:00:00",
          "2018-06-08T00:00:00",
          "2018-06-23T00:00:00",
          "2018-07-08T00:00:00",
          "2018-07-23T00:00:00",
          "2018-08-07T00:00:00",
          "2018-08-22T00:00:00",
          "2018-09-06T00:00:00",
          "2018-09-21T00:00:00",
          "2018-10-06T00:00:00",
          "2018-10-21T00:00:00",
          "2018-11-05T00:00:00",
          "2018-11-20T00:00:00",
          "2018-12-05T00:00:00",
          "2018-12-20T00:00:00",
          "2019-01-04T00:00:00",
          "2019-01-19T00:00:00",
          "2019-02-03T00:00:00",
          "2019-02-18T00:00:00"
         ],
         "y": [
          3,
          3,
          3,
          3,
          3,
          3,
          3,
          3,
          3,
          3,
          3,
          3,
          3,
          3,
          3,
          3,
          3,
          3,
          3,
          3,
          3,
          3,
          3,
          3,
          3,
          3,
          3,
          3,
          3,
          3,
          3,
          3,
          3,
          3,
          3,
          3,
          3,
          3,
          6
         ]
        },
        {
         "mode": "markers+lines",
         "name": "Biden",
         "showlegend": true,
         "type": "scatter",
         "x": [
          "2019-01-02T00:00:00",
          "2019-01-17T00:00:00",
          "2019-02-01T00:00:00",
          "2019-02-16T00:00:00",
          "2019-03-03T00:00:00",
          "2019-03-18T00:00:00",
          "2019-04-02T00:00:00",
          "2019-04-17T00:00:00",
          "2019-05-02T00:00:00",
          "2019-05-17T00:00:00",
          "2019-06-01T00:00:00",
          "2019-06-16T00:00:00",
          "2019-07-01T00:00:00",
          "2019-07-16T00:00:00",
          "2019-07-31T00:00:00",
          "2019-08-15T00:00:00",
          "2019-08-30T00:00:00",
          "2019-09-14T00:00:00",
          "2019-09-29T00:00:00",
          "2019-10-14T00:00:00",
          "2019-10-29T00:00:00",
          "2019-11-13T00:00:00",
          "2019-11-28T00:00:00",
          "2019-12-13T00:00:00",
          "2019-12-28T00:00:00",
          "2020-01-12T00:00:00",
          "2020-01-27T00:00:00"
         ],
         "y": [
          20,
          20,
          20,
          26,
          26,
          26,
          26,
          76,
          82,
          90,
          90,
          94,
          102,
          110,
          110,
          113,
          115,
          127,
          127,
          132,
          135,
          149,
          164,
          172,
          191,
          229,
          252
         ]
        },
        {
         "mode": "markers+lines",
         "name": "Castro",
         "showlegend": true,
         "type": "scatter",
         "x": [
          "2019-01-12T00:00:00",
          "2019-01-27T00:00:00",
          "2019-02-11T00:00:00",
          "2019-02-26T00:00:00",
          "2019-03-13T00:00:00",
          "2019-03-28T00:00:00",
          "2019-04-12T00:00:00",
          "2019-04-27T00:00:00",
          "2019-05-12T00:00:00",
          "2019-05-27T00:00:00",
          "2019-06-11T00:00:00",
          "2019-06-26T00:00:00",
          "2019-07-11T00:00:00",
          "2019-07-26T00:00:00",
          "2019-08-10T00:00:00",
          "2019-08-25T00:00:00",
          "2019-09-09T00:00:00",
          "2019-09-24T00:00:00",
          "2019-10-09T00:00:00",
          "2019-10-24T00:00:00",
          "2019-11-08T00:00:00"
         ],
         "y": [
          3,
          3,
          3,
          3,
          3,
          3,
          3,
          3,
          3,
          3,
          3,
          3,
          3,
          3,
          3,
          3,
          3,
          3,
          3,
          3,
          4
         ]
        },
        {
         "mode": "markers+lines",
         "name": "Harris",
         "showlegend": true,
         "type": "scatter",
         "x": [
          "2019-01-21T00:00:00",
          "2019-02-05T00:00:00",
          "2019-02-20T00:00:00",
          "2019-03-07T00:00:00",
          "2019-03-22T00:00:00",
          "2019-04-06T00:00:00",
          "2019-04-21T00:00:00",
          "2019-05-06T00:00:00",
          "2019-05-21T00:00:00",
          "2019-06-05T00:00:00",
          "2019-06-20T00:00:00",
          "2019-07-05T00:00:00",
          "2019-07-20T00:00:00",
          "2019-08-04T00:00:00",
          "2019-08-19T00:00:00",
          "2019-09-03T00:00:00",
          "2019-09-18T00:00:00",
          "2019-10-03T00:00:00",
          "2019-10-18T00:00:00",
          "2019-11-02T00:00:00",
          "2019-11-17T00:00:00"
         ],
         "y": [
          12,
          25,
          33,
          35,
          35,
          35,
          35,
          35,
          37,
          40,
          49,
          51,
          54,
          57,
          57,
          60,
          60,
          60,
          60,
          60,
          66
         ]
        },
        {
         "mode": "markers+lines",
         "name": "Sanders",
         "showlegend": true,
         "type": "scatter",
         "x": [
          "2019-01-25T00:00:00",
          "2019-02-09T00:00:00",
          "2019-02-24T00:00:00",
          "2019-03-11T00:00:00",
          "2019-03-26T00:00:00",
          "2019-04-10T00:00:00",
          "2019-04-25T00:00:00",
          "2019-05-10T00:00:00",
          "2019-05-25T00:00:00",
          "2019-06-09T00:00:00",
          "2019-06-24T00:00:00",
          "2019-07-09T00:00:00",
          "2019-07-24T00:00:00",
          "2019-08-08T00:00:00",
          "2019-08-23T00:00:00",
          "2019-09-07T00:00:00",
          "2019-09-22T00:00:00",
          "2019-10-07T00:00:00",
          "2019-10-22T00:00:00",
          "2019-11-06T00:00:00",
          "2019-11-21T00:00:00",
          "2019-12-06T00:00:00",
          "2019-12-21T00:00:00",
          "2020-01-05T00:00:00"
         ],
         "y": [
          1,
          20,
          20,
          21,
          21,
          22,
          22,
          22,
          22,
          22,
          24,
          33,
          33,
          33,
          36,
          36,
          36,
          42,
          47,
          47,
          48,
          48,
          48,
          55
         ]
        },
        {
         "mode": "markers+lines",
         "name": "Booker",
         "showlegend": true,
         "type": "scatter",
         "x": [
          "2019-02-01T00:00:00",
          "2019-02-16T00:00:00",
          "2019-03-03T00:00:00",
          "2019-03-18T00:00:00",
          "2019-04-02T00:00:00",
          "2019-04-17T00:00:00",
          "2019-05-02T00:00:00",
          "2019-05-17T00:00:00",
          "2019-06-01T00:00:00",
          "2019-06-16T00:00:00",
          "2019-07-01T00:00:00",
          "2019-07-16T00:00:00",
          "2019-07-31T00:00:00",
          "2019-08-15T00:00:00",
          "2019-08-30T00:00:00"
         ],
         "y": [
          15,
          50,
          50,
          50,
          52,
          52,
          52,
          52,
          53,
          53,
          53,
          53,
          53,
          53,
          54
         ]
        },
        {
         "mode": "markers+lines",
         "name": "Klobuchar",
         "showlegend": true,
         "type": "scatter",
         "x": [
          "2019-02-06T00:00:00",
          "2019-02-21T00:00:00",
          "2019-03-08T00:00:00",
          "2019-03-23T00:00:00",
          "2019-04-07T00:00:00",
          "2019-04-22T00:00:00",
          "2019-05-07T00:00:00",
          "2019-05-22T00:00:00",
          "2019-06-06T00:00:00",
          "2019-06-21T00:00:00",
          "2019-07-06T00:00:00",
          "2019-07-21T00:00:00",
          "2019-08-05T00:00:00",
          "2019-08-20T00:00:00",
          "2019-09-04T00:00:00",
          "2019-09-19T00:00:00",
          "2019-10-04T00:00:00",
          "2019-10-19T00:00:00",
          "2019-11-03T00:00:00",
          "2019-11-18T00:00:00",
          "2019-12-03T00:00:00",
          "2019-12-18T00:00:00",
          "2020-01-02T00:00:00",
          "2020-01-17T00:00:00",
          "2020-02-01T00:00:00"
         ],
         "y": [
          39,
          39,
          39,
          39,
          39,
          39,
          39,
          39,
          39,
          42,
          42,
          42,
          42,
          42,
          42,
          42,
          47,
          47,
          47,
          47,
          50,
          50,
          50,
          50,
          53
         ]
        },
        {
         "mode": "markers+lines",
         "name": "Warren",
         "showlegend": true,
         "type": "scatter",
         "x": [
          "2019-02-08T00:00:00",
          "2019-02-23T00:00:00",
          "2019-03-10T00:00:00",
          "2019-03-25T00:00:00",
          "2019-04-09T00:00:00",
          "2019-04-24T00:00:00",
          "2019-05-09T00:00:00",
          "2019-05-24T00:00:00",
          "2019-06-08T00:00:00",
          "2019-06-23T00:00:00",
          "2019-07-08T00:00:00",
          "2019-07-23T00:00:00",
          "2019-08-07T00:00:00",
          "2019-08-22T00:00:00",
          "2019-09-06T00:00:00",
          "2019-09-21T00:00:00",
          "2019-10-06T00:00:00",
          "2019-10-21T00:00:00",
          "2019-11-05T00:00:00",
          "2019-11-20T00:00:00",
          "2019-12-05T00:00:00",
          "2019-12-20T00:00:00",
          "2020-01-04T00:00:00",
          "2020-01-19T00:00:00",
          "2020-02-03T00:00:00"
         ],
         "y": [
          17,
          17,
          17,
          17,
          18,
          23,
          25,
          25,
          25,
          25,
          30,
          42,
          44,
          44,
          51,
          51,
          52,
          58,
          61,
          64,
          66,
          66,
          77,
          85,
          87
         ]
        },
        {
         "mode": "markers+lines",
         "name": "Inslee",
         "showlegend": true,
         "type": "scatter",
         "x": [
          "2019-03-01T00:00:00",
          "2019-03-16T00:00:00",
          "2019-03-31T00:00:00",
          "2019-04-15T00:00:00",
          "2019-04-30T00:00:00",
          "2019-05-15T00:00:00",
          "2019-05-30T00:00:00",
          "2019-06-14T00:00:00"
         ],
         "y": [
          5,
          5,
          5,
          5,
          5,
          8,
          8,
          11
         ]
        },
        {
         "mode": "markers+lines",
         "name": "O'Rourke",
         "showlegend": true,
         "type": "scatter",
         "x": [
          "2019-03-14T00:00:00"
         ],
         "y": [
          3
         ]
        },
        {
         "mode": "markers+lines",
         "name": "Gillibrand",
         "showlegend": true,
         "type": "scatter",
         "x": [
          "2019-03-17T00:00:00"
         ],
         "y": [
          3
         ]
        },
        {
         "mode": "markers+lines",
         "name": "Buttigieg",
         "showlegend": true,
         "type": "scatter",
         "x": [
          "2019-04-11T00:00:00",
          "2019-04-26T00:00:00",
          "2019-05-11T00:00:00",
          "2019-05-26T00:00:00",
          "2019-06-10T00:00:00",
          "2019-06-25T00:00:00",
          "2019-07-10T00:00:00",
          "2019-07-25T00:00:00",
          "2019-08-09T00:00:00",
          "2019-08-24T00:00:00",
          "2019-09-08T00:00:00",
          "2019-09-23T00:00:00",
          "2019-10-08T00:00:00",
          "2019-10-23T00:00:00",
          "2019-11-07T00:00:00",
          "2019-11-22T00:00:00",
          "2019-12-07T00:00:00",
          "2019-12-22T00:00:00",
          "2020-01-06T00:00:00"
         ],
         "y": [
          12,
          12,
          12,
          12,
          12,
          12,
          14,
          14,
          16,
          16,
          19,
          19,
          19,
          19,
          19,
          25,
          25,
          27,
          36
         ]
        },
        {
         "mode": "markers+lines",
         "name": "Bullock",
         "showlegend": true,
         "type": "scatter",
         "x": [
          "2019-06-09T00:00:00",
          "2019-06-24T00:00:00"
         ],
         "y": [
          6,
          7
         ]
        },
        {
         "mode": "markers+lines",
         "name": "Bennet",
         "showlegend": true,
         "type": "scatter",
         "x": [
          "2019-11-05T00:00:00",
          "2019-11-20T00:00:00",
          "2019-12-05T00:00:00",
          "2019-12-20T00:00:00",
          "2020-01-04T00:00:00"
         ],
         "y": [
          5,
          5,
          12,
          12,
          15
         ]
        },
        {
         "mode": "markers+lines",
         "name": "Bloomberg",
         "showlegend": true,
         "type": "scatter",
         "x": [
          "2019-11-24T00:00:00",
          "2019-12-09T00:00:00",
          "2019-12-24T00:00:00",
          "2020-01-08T00:00:00",
          "2020-01-23T00:00:00"
         ],
         "y": [
          3,
          11,
          11,
          30,
          50
         ]
        },
        {
         "mode": "markers+lines",
         "name": "Steyer",
         "showlegend": true,
         "type": "scatter",
         "x": [
          "2020-01-03T00:00:00"
         ],
         "y": [
          1
         ]
        }
       ],
       "layout": {
        "height": 550,
        "template": {
         "data": {
          "bar": [
           {
            "error_x": {
             "color": "#2a3f5f"
            },
            "error_y": {
             "color": "#2a3f5f"
            },
            "marker": {
             "line": {
              "color": "#E5ECF6",
              "width": 0.5
             }
            },
            "type": "bar"
           }
          ],
          "barpolar": [
           {
            "marker": {
             "line": {
              "color": "#E5ECF6",
              "width": 0.5
             }
            },
            "type": "barpolar"
           }
          ],
          "carpet": [
           {
            "aaxis": {
             "endlinecolor": "#2a3f5f",
             "gridcolor": "white",
             "linecolor": "white",
             "minorgridcolor": "white",
             "startlinecolor": "#2a3f5f"
            },
            "baxis": {
             "endlinecolor": "#2a3f5f",
             "gridcolor": "white",
             "linecolor": "white",
             "minorgridcolor": "white",
             "startlinecolor": "#2a3f5f"
            },
            "type": "carpet"
           }
          ],
          "choropleth": [
           {
            "colorbar": {
             "outlinewidth": 0,
             "ticks": ""
            },
            "type": "choropleth"
           }
          ],
          "contour": [
           {
            "colorbar": {
             "outlinewidth": 0,
             "ticks": ""
            },
            "colorscale": [
             [
              0.0,
              "#0d0887"
             ],
             [
              0.1111111111111111,
              "#46039f"
             ],
             [
              0.2222222222222222,
              "#7201a8"
             ],
             [
              0.3333333333333333,
              "#9c179e"
             ],
             [
              0.4444444444444444,
              "#bd3786"
             ],
             [
              0.5555555555555556,
              "#d8576b"
             ],
             [
              0.6666666666666666,
              "#ed7953"
             ],
             [
              0.7777777777777778,
              "#fb9f3a"
             ],
             [
              0.8888888888888888,
              "#fdca26"
             ],
             [
              1.0,
              "#f0f921"
             ]
            ],
            "type": "contour"
           }
          ],
          "contourcarpet": [
           {
            "colorbar": {
             "outlinewidth": 0,
             "ticks": ""
            },
            "type": "contourcarpet"
           }
          ],
          "heatmap": [
           {
            "colorbar": {
             "outlinewidth": 0,
             "ticks": ""
            },
            "colorscale": [
             [
              0.0,
              "#0d0887"
             ],
             [
              0.1111111111111111,
              "#46039f"
             ],
             [
              0.2222222222222222,
              "#7201a8"
             ],
             [
              0.3333333333333333,
              "#9c179e"
             ],
             [
              0.4444444444444444,
              "#bd3786"
             ],
             [
              0.5555555555555556,
              "#d8576b"
             ],
             [
              0.6666666666666666,
              "#ed7953"
             ],
             [
              0.7777777777777778,
              "#fb9f3a"
             ],
             [
              0.8888888888888888,
              "#fdca26"
             ],
             [
              1.0,
              "#f0f921"
             ]
            ],
            "type": "heatmap"
           }
          ],
          "heatmapgl": [
           {
            "colorbar": {
             "outlinewidth": 0,
             "ticks": ""
            },
            "colorscale": [
             [
              0.0,
              "#0d0887"
             ],
             [
              0.1111111111111111,
              "#46039f"
             ],
             [
              0.2222222222222222,
              "#7201a8"
             ],
             [
              0.3333333333333333,
              "#9c179e"
             ],
             [
              0.4444444444444444,
              "#bd3786"
             ],
             [
              0.5555555555555556,
              "#d8576b"
             ],
             [
              0.6666666666666666,
              "#ed7953"
             ],
             [
              0.7777777777777778,
              "#fb9f3a"
             ],
             [
              0.8888888888888888,
              "#fdca26"
             ],
             [
              1.0,
              "#f0f921"
             ]
            ],
            "type": "heatmapgl"
           }
          ],
          "histogram": [
           {
            "marker": {
             "colorbar": {
              "outlinewidth": 0,
              "ticks": ""
             }
            },
            "type": "histogram"
           }
          ],
          "histogram2d": [
           {
            "colorbar": {
             "outlinewidth": 0,
             "ticks": ""
            },
            "colorscale": [
             [
              0.0,
              "#0d0887"
             ],
             [
              0.1111111111111111,
              "#46039f"
             ],
             [
              0.2222222222222222,
              "#7201a8"
             ],
             [
              0.3333333333333333,
              "#9c179e"
             ],
             [
              0.4444444444444444,
              "#bd3786"
             ],
             [
              0.5555555555555556,
              "#d8576b"
             ],
             [
              0.6666666666666666,
              "#ed7953"
             ],
             [
              0.7777777777777778,
              "#fb9f3a"
             ],
             [
              0.8888888888888888,
              "#fdca26"
             ],
             [
              1.0,
              "#f0f921"
             ]
            ],
            "type": "histogram2d"
           }
          ],
          "histogram2dcontour": [
           {
            "colorbar": {
             "outlinewidth": 0,
             "ticks": ""
            },
            "colorscale": [
             [
              0.0,
              "#0d0887"
             ],
             [
              0.1111111111111111,
              "#46039f"
             ],
             [
              0.2222222222222222,
              "#7201a8"
             ],
             [
              0.3333333333333333,
              "#9c179e"
             ],
             [
              0.4444444444444444,
              "#bd3786"
             ],
             [
              0.5555555555555556,
              "#d8576b"
             ],
             [
              0.6666666666666666,
              "#ed7953"
             ],
             [
              0.7777777777777778,
              "#fb9f3a"
             ],
             [
              0.8888888888888888,
              "#fdca26"
             ],
             [
              1.0,
              "#f0f921"
             ]
            ],
            "type": "histogram2dcontour"
           }
          ],
          "mesh3d": [
           {
            "colorbar": {
             "outlinewidth": 0,
             "ticks": ""
            },
            "type": "mesh3d"
           }
          ],
          "parcoords": [
           {
            "line": {
             "colorbar": {
              "outlinewidth": 0,
              "ticks": ""
             }
            },
            "type": "parcoords"
           }
          ],
          "pie": [
           {
            "automargin": true,
            "type": "pie"
           }
          ],
          "scatter": [
           {
            "marker": {
             "colorbar": {
              "outlinewidth": 0,
              "ticks": ""
             }
            },
            "type": "scatter"
           }
          ],
          "scatter3d": [
           {
            "line": {
             "colorbar": {
              "outlinewidth": 0,
              "ticks": ""
             }
            },
            "marker": {
             "colorbar": {
              "outlinewidth": 0,
              "ticks": ""
             }
            },
            "type": "scatter3d"
           }
          ],
          "scattercarpet": [
           {
            "marker": {
             "colorbar": {
              "outlinewidth": 0,
              "ticks": ""
             }
            },
            "type": "scattercarpet"
           }
          ],
          "scattergeo": [
           {
            "marker": {
             "colorbar": {
              "outlinewidth": 0,
              "ticks": ""
             }
            },
            "type": "scattergeo"
           }
          ],
          "scattergl": [
           {
            "marker": {
             "colorbar": {
              "outlinewidth": 0,
              "ticks": ""
             }
            },
            "type": "scattergl"
           }
          ],
          "scattermapbox": [
           {
            "marker": {
             "colorbar": {
              "outlinewidth": 0,
              "ticks": ""
             }
            },
            "type": "scattermapbox"
           }
          ],
          "scatterpolar": [
           {
            "marker": {
             "colorbar": {
              "outlinewidth": 0,
              "ticks": ""
             }
            },
            "type": "scatterpolar"
           }
          ],
          "scatterpolargl": [
           {
            "marker": {
             "colorbar": {
              "outlinewidth": 0,
              "ticks": ""
             }
            },
            "type": "scatterpolargl"
           }
          ],
          "scatterternary": [
           {
            "marker": {
             "colorbar": {
              "outlinewidth": 0,
              "ticks": ""
             }
            },
            "type": "scatterternary"
           }
          ],
          "surface": [
           {
            "colorbar": {
             "outlinewidth": 0,
             "ticks": ""
            },
            "colorscale": [
             [
              0.0,
              "#0d0887"
             ],
             [
              0.1111111111111111,
              "#46039f"
             ],
             [
              0.2222222222222222,
              "#7201a8"
             ],
             [
              0.3333333333333333,
              "#9c179e"
             ],
             [
              0.4444444444444444,
              "#bd3786"
             ],
             [
              0.5555555555555556,
              "#d8576b"
             ],
             [
              0.6666666666666666,
              "#ed7953"
             ],
             [
              0.7777777777777778,
              "#fb9f3a"
             ],
             [
              0.8888888888888888,
              "#fdca26"
             ],
             [
              1.0,
              "#f0f921"
             ]
            ],
            "type": "surface"
           }
          ],
          "table": [
           {
            "cells": {
             "fill": {
              "color": "#EBF0F8"
             },
             "line": {
              "color": "white"
             }
            },
            "header": {
             "fill": {
              "color": "#C8D4E3"
             },
             "line": {
              "color": "white"
             }
            },
            "type": "table"
           }
          ]
         },
         "layout": {
          "annotationdefaults": {
           "arrowcolor": "#2a3f5f",
           "arrowhead": 0,
           "arrowwidth": 1
          },
          "coloraxis": {
           "colorbar": {
            "outlinewidth": 0,
            "ticks": ""
           }
          },
          "colorscale": {
           "diverging": [
            [
             0,
             "#8e0152"
            ],
            [
             0.1,
             "#c51b7d"
            ],
            [
             0.2,
             "#de77ae"
            ],
            [
             0.3,
             "#f1b6da"
            ],
            [
             0.4,
             "#fde0ef"
            ],
            [
             0.5,
             "#f7f7f7"
            ],
            [
             0.6,
             "#e6f5d0"
            ],
            [
             0.7,
             "#b8e186"
            ],
            [
             0.8,
             "#7fbc41"
            ],
            [
             0.9,
             "#4d9221"
            ],
            [
             1,
             "#276419"
            ]
           ],
           "sequential": [
            [
             0.0,
             "#0d0887"
            ],
            [
             0.1111111111111111,
             "#46039f"
            ],
            [
             0.2222222222222222,
             "#7201a8"
            ],
            [
             0.3333333333333333,
             "#9c179e"
            ],
            [
             0.4444444444444444,
             "#bd3786"
            ],
            [
             0.5555555555555556,
             "#d8576b"
            ],
            [
             0.6666666666666666,
             "#ed7953"
            ],
            [
             0.7777777777777778,
             "#fb9f3a"
            ],
            [
             0.8888888888888888,
             "#fdca26"
            ],
            [
             1.0,
             "#f0f921"
            ]
           ],
           "sequentialminus": [
            [
             0.0,
             "#0d0887"
            ],
            [
             0.1111111111111111,
             "#46039f"
            ],
            [
             0.2222222222222222,
             "#7201a8"
            ],
            [
             0.3333333333333333,
             "#9c179e"
            ],
            [
             0.4444444444444444,
             "#bd3786"
            ],
            [
             0.5555555555555556,
             "#d8576b"
            ],
            [
             0.6666666666666666,
             "#ed7953"
            ],
            [
             0.7777777777777778,
             "#fb9f3a"
            ],
            [
             0.8888888888888888,
             "#fdca26"
            ],
            [
             1.0,
             "#f0f921"
            ]
           ]
          },
          "colorway": [
           "#636efa",
           "#EF553B",
           "#00cc96",
           "#ab63fa",
           "#FFA15A",
           "#19d3f3",
           "#FF6692",
           "#B6E880",
           "#FF97FF",
           "#FECB52"
          ],
          "font": {
           "color": "#2a3f5f"
          },
          "geo": {
           "bgcolor": "white",
           "lakecolor": "white",
           "landcolor": "#E5ECF6",
           "showlakes": true,
           "showland": true,
           "subunitcolor": "white"
          },
          "hoverlabel": {
           "align": "left"
          },
          "hovermode": "closest",
          "mapbox": {
           "style": "light"
          },
          "paper_bgcolor": "white",
          "plot_bgcolor": "#E5ECF6",
          "polar": {
           "angularaxis": {
            "gridcolor": "white",
            "linecolor": "white",
            "ticks": ""
           },
           "bgcolor": "#E5ECF6",
           "radialaxis": {
            "gridcolor": "white",
            "linecolor": "white",
            "ticks": ""
           }
          },
          "scene": {
           "xaxis": {
            "backgroundcolor": "#E5ECF6",
            "gridcolor": "white",
            "gridwidth": 2,
            "linecolor": "white",
            "showbackground": true,
            "ticks": "",
            "zerolinecolor": "white"
           },
           "yaxis": {
            "backgroundcolor": "#E5ECF6",
            "gridcolor": "white",
            "gridwidth": 2,
            "linecolor": "white",
            "showbackground": true,
            "ticks": "",
            "zerolinecolor": "white"
           },
           "zaxis": {
            "backgroundcolor": "#E5ECF6",
            "gridcolor": "white",
            "gridwidth": 2,
            "linecolor": "white",
            "showbackground": true,
            "ticks": "",
            "zerolinecolor": "white"
           }
          },
          "shapedefaults": {
           "line": {
            "color": "#2a3f5f"
           }
          },
          "ternary": {
           "aaxis": {
            "gridcolor": "white",
            "linecolor": "white",
            "ticks": ""
           },
           "baxis": {
            "gridcolor": "white",
            "linecolor": "white",
            "ticks": ""
           },
           "bgcolor": "#E5ECF6",
           "caxis": {
            "gridcolor": "white",
            "linecolor": "white",
            "ticks": ""
           }
          },
          "title": {
           "x": 0.05
          },
          "xaxis": {
           "automargin": true,
           "gridcolor": "white",
           "linecolor": "white",
           "ticks": "",
           "title": {
            "standoff": 15
           },
           "zerolinecolor": "white",
           "zerolinewidth": 2
          },
          "yaxis": {
           "automargin": true,
           "gridcolor": "white",
           "linecolor": "white",
           "ticks": "",
           "title": {
            "standoff": 15
           },
           "zerolinecolor": "white",
           "zerolinewidth": 2
          }
         }
        },
        "title": {
         "text": "Total Points per over Time",
         "x": 0.5,
         "xanchor": "center",
         "y": 0.95,
         "yanchor": "top"
        },
        "xaxis": {
         "range": [
          "2019-01-01",
          "2020-02-03T00:00:00"
         ]
        },
        "yaxis": {
         "title": {
          "text": "Points"
         }
        }
       }
      },
      "text/html": [
       "<div>\n",
       "        \n",
       "        \n",
       "            <div id=\"5beb2814-3d39-42b1-97f7-e22f7bebde1b\" class=\"plotly-graph-div\" style=\"height:550px; width:100%;\"></div>\n",
       "            <script type=\"text/javascript\">\n",
       "                require([\"plotly\"], function(Plotly) {\n",
       "                    window.PLOTLYENV=window.PLOTLYENV || {};\n",
       "                    \n",
       "                if (document.getElementById(\"5beb2814-3d39-42b1-97f7-e22f7bebde1b\")) {\n",
       "                    Plotly.newPlot(\n",
       "                        '5beb2814-3d39-42b1-97f7-e22f7bebde1b',\n",
       "                        [{\"mode\": \"markers+lines\", \"name\": \"Delaney\", \"showlegend\": true, \"type\": \"scatter\", \"x\": [\"2017-07-28T00:00:00\", \"2017-08-12T00:00:00\", \"2017-08-27T00:00:00\", \"2017-09-11T00:00:00\", \"2017-09-26T00:00:00\", \"2017-10-11T00:00:00\", \"2017-10-26T00:00:00\", \"2017-11-10T00:00:00\", \"2017-11-25T00:00:00\", \"2017-12-10T00:00:00\", \"2017-12-25T00:00:00\", \"2018-01-09T00:00:00\", \"2018-01-24T00:00:00\", \"2018-02-08T00:00:00\", \"2018-02-23T00:00:00\", \"2018-03-10T00:00:00\", \"2018-03-25T00:00:00\", \"2018-04-09T00:00:00\", \"2018-04-24T00:00:00\", \"2018-05-09T00:00:00\", \"2018-05-24T00:00:00\", \"2018-06-08T00:00:00\", \"2018-06-23T00:00:00\", \"2018-07-08T00:00:00\", \"2018-07-23T00:00:00\", \"2018-08-07T00:00:00\", \"2018-08-22T00:00:00\", \"2018-09-06T00:00:00\", \"2018-09-21T00:00:00\", \"2018-10-06T00:00:00\", \"2018-10-21T00:00:00\", \"2018-11-05T00:00:00\", \"2018-11-20T00:00:00\", \"2018-12-05T00:00:00\", \"2018-12-20T00:00:00\", \"2019-01-04T00:00:00\", \"2019-01-19T00:00:00\", \"2019-02-03T00:00:00\", \"2019-02-18T00:00:00\"], \"y\": [3, 3, 3, 3, 3, 3, 3, 3, 3, 3, 3, 3, 3, 3, 3, 3, 3, 3, 3, 3, 3, 3, 3, 3, 3, 3, 3, 3, 3, 3, 3, 3, 3, 3, 3, 3, 3, 3, 6]}, {\"mode\": \"markers+lines\", \"name\": \"Biden\", \"showlegend\": true, \"type\": \"scatter\", \"x\": [\"2019-01-02T00:00:00\", \"2019-01-17T00:00:00\", \"2019-02-01T00:00:00\", \"2019-02-16T00:00:00\", \"2019-03-03T00:00:00\", \"2019-03-18T00:00:00\", \"2019-04-02T00:00:00\", \"2019-04-17T00:00:00\", \"2019-05-02T00:00:00\", \"2019-05-17T00:00:00\", \"2019-06-01T00:00:00\", \"2019-06-16T00:00:00\", \"2019-07-01T00:00:00\", \"2019-07-16T00:00:00\", \"2019-07-31T00:00:00\", \"2019-08-15T00:00:00\", \"2019-08-30T00:00:00\", \"2019-09-14T00:00:00\", \"2019-09-29T00:00:00\", \"2019-10-14T00:00:00\", \"2019-10-29T00:00:00\", \"2019-11-13T00:00:00\", \"2019-11-28T00:00:00\", \"2019-12-13T00:00:00\", \"2019-12-28T00:00:00\", \"2020-01-12T00:00:00\", \"2020-01-27T00:00:00\"], \"y\": [20, 20, 20, 26, 26, 26, 26, 76, 82, 90, 90, 94, 102, 110, 110, 113, 115, 127, 127, 132, 135, 149, 164, 172, 191, 229, 252]}, {\"mode\": \"markers+lines\", \"name\": \"Castro\", \"showlegend\": true, \"type\": \"scatter\", \"x\": [\"2019-01-12T00:00:00\", \"2019-01-27T00:00:00\", \"2019-02-11T00:00:00\", \"2019-02-26T00:00:00\", \"2019-03-13T00:00:00\", \"2019-03-28T00:00:00\", \"2019-04-12T00:00:00\", \"2019-04-27T00:00:00\", \"2019-05-12T00:00:00\", \"2019-05-27T00:00:00\", \"2019-06-11T00:00:00\", \"2019-06-26T00:00:00\", \"2019-07-11T00:00:00\", \"2019-07-26T00:00:00\", \"2019-08-10T00:00:00\", \"2019-08-25T00:00:00\", \"2019-09-09T00:00:00\", \"2019-09-24T00:00:00\", \"2019-10-09T00:00:00\", \"2019-10-24T00:00:00\", \"2019-11-08T00:00:00\"], \"y\": [3, 3, 3, 3, 3, 3, 3, 3, 3, 3, 3, 3, 3, 3, 3, 3, 3, 3, 3, 3, 4]}, {\"mode\": \"markers+lines\", \"name\": \"Harris\", \"showlegend\": true, \"type\": \"scatter\", \"x\": [\"2019-01-21T00:00:00\", \"2019-02-05T00:00:00\", \"2019-02-20T00:00:00\", \"2019-03-07T00:00:00\", \"2019-03-22T00:00:00\", \"2019-04-06T00:00:00\", \"2019-04-21T00:00:00\", \"2019-05-06T00:00:00\", \"2019-05-21T00:00:00\", \"2019-06-05T00:00:00\", \"2019-06-20T00:00:00\", \"2019-07-05T00:00:00\", \"2019-07-20T00:00:00\", \"2019-08-04T00:00:00\", \"2019-08-19T00:00:00\", \"2019-09-03T00:00:00\", \"2019-09-18T00:00:00\", \"2019-10-03T00:00:00\", \"2019-10-18T00:00:00\", \"2019-11-02T00:00:00\", \"2019-11-17T00:00:00\"], \"y\": [12, 25, 33, 35, 35, 35, 35, 35, 37, 40, 49, 51, 54, 57, 57, 60, 60, 60, 60, 60, 66]}, {\"mode\": \"markers+lines\", \"name\": \"Sanders\", \"showlegend\": true, \"type\": \"scatter\", \"x\": [\"2019-01-25T00:00:00\", \"2019-02-09T00:00:00\", \"2019-02-24T00:00:00\", \"2019-03-11T00:00:00\", \"2019-03-26T00:00:00\", \"2019-04-10T00:00:00\", \"2019-04-25T00:00:00\", \"2019-05-10T00:00:00\", \"2019-05-25T00:00:00\", \"2019-06-09T00:00:00\", \"2019-06-24T00:00:00\", \"2019-07-09T00:00:00\", \"2019-07-24T00:00:00\", \"2019-08-08T00:00:00\", \"2019-08-23T00:00:00\", \"2019-09-07T00:00:00\", \"2019-09-22T00:00:00\", \"2019-10-07T00:00:00\", \"2019-10-22T00:00:00\", \"2019-11-06T00:00:00\", \"2019-11-21T00:00:00\", \"2019-12-06T00:00:00\", \"2019-12-21T00:00:00\", \"2020-01-05T00:00:00\"], \"y\": [1, 20, 20, 21, 21, 22, 22, 22, 22, 22, 24, 33, 33, 33, 36, 36, 36, 42, 47, 47, 48, 48, 48, 55]}, {\"mode\": \"markers+lines\", \"name\": \"Booker\", \"showlegend\": true, \"type\": \"scatter\", \"x\": [\"2019-02-01T00:00:00\", \"2019-02-16T00:00:00\", \"2019-03-03T00:00:00\", \"2019-03-18T00:00:00\", \"2019-04-02T00:00:00\", \"2019-04-17T00:00:00\", \"2019-05-02T00:00:00\", \"2019-05-17T00:00:00\", \"2019-06-01T00:00:00\", \"2019-06-16T00:00:00\", \"2019-07-01T00:00:00\", \"2019-07-16T00:00:00\", \"2019-07-31T00:00:00\", \"2019-08-15T00:00:00\", \"2019-08-30T00:00:00\"], \"y\": [15, 50, 50, 50, 52, 52, 52, 52, 53, 53, 53, 53, 53, 53, 54]}, {\"mode\": \"markers+lines\", \"name\": \"Klobuchar\", \"showlegend\": true, \"type\": \"scatter\", \"x\": [\"2019-02-06T00:00:00\", \"2019-02-21T00:00:00\", \"2019-03-08T00:00:00\", \"2019-03-23T00:00:00\", \"2019-04-07T00:00:00\", \"2019-04-22T00:00:00\", \"2019-05-07T00:00:00\", \"2019-05-22T00:00:00\", \"2019-06-06T00:00:00\", \"2019-06-21T00:00:00\", \"2019-07-06T00:00:00\", \"2019-07-21T00:00:00\", \"2019-08-05T00:00:00\", \"2019-08-20T00:00:00\", \"2019-09-04T00:00:00\", \"2019-09-19T00:00:00\", \"2019-10-04T00:00:00\", \"2019-10-19T00:00:00\", \"2019-11-03T00:00:00\", \"2019-11-18T00:00:00\", \"2019-12-03T00:00:00\", \"2019-12-18T00:00:00\", \"2020-01-02T00:00:00\", \"2020-01-17T00:00:00\", \"2020-02-01T00:00:00\"], \"y\": [39, 39, 39, 39, 39, 39, 39, 39, 39, 42, 42, 42, 42, 42, 42, 42, 47, 47, 47, 47, 50, 50, 50, 50, 53]}, {\"mode\": \"markers+lines\", \"name\": \"Warren\", \"showlegend\": true, \"type\": \"scatter\", \"x\": [\"2019-02-08T00:00:00\", \"2019-02-23T00:00:00\", \"2019-03-10T00:00:00\", \"2019-03-25T00:00:00\", \"2019-04-09T00:00:00\", \"2019-04-24T00:00:00\", \"2019-05-09T00:00:00\", \"2019-05-24T00:00:00\", \"2019-06-08T00:00:00\", \"2019-06-23T00:00:00\", \"2019-07-08T00:00:00\", \"2019-07-23T00:00:00\", \"2019-08-07T00:00:00\", \"2019-08-22T00:00:00\", \"2019-09-06T00:00:00\", \"2019-09-21T00:00:00\", \"2019-10-06T00:00:00\", \"2019-10-21T00:00:00\", \"2019-11-05T00:00:00\", \"2019-11-20T00:00:00\", \"2019-12-05T00:00:00\", \"2019-12-20T00:00:00\", \"2020-01-04T00:00:00\", \"2020-01-19T00:00:00\", \"2020-02-03T00:00:00\"], \"y\": [17, 17, 17, 17, 18, 23, 25, 25, 25, 25, 30, 42, 44, 44, 51, 51, 52, 58, 61, 64, 66, 66, 77, 85, 87]}, {\"mode\": \"markers+lines\", \"name\": \"Inslee\", \"showlegend\": true, \"type\": \"scatter\", \"x\": [\"2019-03-01T00:00:00\", \"2019-03-16T00:00:00\", \"2019-03-31T00:00:00\", \"2019-04-15T00:00:00\", \"2019-04-30T00:00:00\", \"2019-05-15T00:00:00\", \"2019-05-30T00:00:00\", \"2019-06-14T00:00:00\"], \"y\": [5, 5, 5, 5, 5, 8, 8, 11]}, {\"mode\": \"markers+lines\", \"name\": \"O'Rourke\", \"showlegend\": true, \"type\": \"scatter\", \"x\": [\"2019-03-14T00:00:00\"], \"y\": [3]}, {\"mode\": \"markers+lines\", \"name\": \"Gillibrand\", \"showlegend\": true, \"type\": \"scatter\", \"x\": [\"2019-03-17T00:00:00\"], \"y\": [3]}, {\"mode\": \"markers+lines\", \"name\": \"Buttigieg\", \"showlegend\": true, \"type\": \"scatter\", \"x\": [\"2019-04-11T00:00:00\", \"2019-04-26T00:00:00\", \"2019-05-11T00:00:00\", \"2019-05-26T00:00:00\", \"2019-06-10T00:00:00\", \"2019-06-25T00:00:00\", \"2019-07-10T00:00:00\", \"2019-07-25T00:00:00\", \"2019-08-09T00:00:00\", \"2019-08-24T00:00:00\", \"2019-09-08T00:00:00\", \"2019-09-23T00:00:00\", \"2019-10-08T00:00:00\", \"2019-10-23T00:00:00\", \"2019-11-07T00:00:00\", \"2019-11-22T00:00:00\", \"2019-12-07T00:00:00\", \"2019-12-22T00:00:00\", \"2020-01-06T00:00:00\"], \"y\": [12, 12, 12, 12, 12, 12, 14, 14, 16, 16, 19, 19, 19, 19, 19, 25, 25, 27, 36]}, {\"mode\": \"markers+lines\", \"name\": \"Bullock\", \"showlegend\": true, \"type\": \"scatter\", \"x\": [\"2019-06-09T00:00:00\", \"2019-06-24T00:00:00\"], \"y\": [6, 7]}, {\"mode\": \"markers+lines\", \"name\": \"Bennet\", \"showlegend\": true, \"type\": \"scatter\", \"x\": [\"2019-11-05T00:00:00\", \"2019-11-20T00:00:00\", \"2019-12-05T00:00:00\", \"2019-12-20T00:00:00\", \"2020-01-04T00:00:00\"], \"y\": [5, 5, 12, 12, 15]}, {\"mode\": \"markers+lines\", \"name\": \"Bloomberg\", \"showlegend\": true, \"type\": \"scatter\", \"x\": [\"2019-11-24T00:00:00\", \"2019-12-09T00:00:00\", \"2019-12-24T00:00:00\", \"2020-01-08T00:00:00\", \"2020-01-23T00:00:00\"], \"y\": [3, 11, 11, 30, 50]}, {\"mode\": \"markers+lines\", \"name\": \"Steyer\", \"showlegend\": true, \"type\": \"scatter\", \"x\": [\"2020-01-03T00:00:00\"], \"y\": [1]}],\n",
       "                        {\"height\": 550, \"template\": {\"data\": {\"bar\": [{\"error_x\": {\"color\": \"#2a3f5f\"}, \"error_y\": {\"color\": \"#2a3f5f\"}, \"marker\": {\"line\": {\"color\": \"#E5ECF6\", \"width\": 0.5}}, \"type\": \"bar\"}], \"barpolar\": [{\"marker\": {\"line\": {\"color\": \"#E5ECF6\", \"width\": 0.5}}, \"type\": \"barpolar\"}], \"carpet\": [{\"aaxis\": {\"endlinecolor\": \"#2a3f5f\", \"gridcolor\": \"white\", \"linecolor\": \"white\", \"minorgridcolor\": \"white\", \"startlinecolor\": \"#2a3f5f\"}, \"baxis\": {\"endlinecolor\": \"#2a3f5f\", \"gridcolor\": \"white\", \"linecolor\": \"white\", \"minorgridcolor\": \"white\", \"startlinecolor\": \"#2a3f5f\"}, \"type\": \"carpet\"}], \"choropleth\": [{\"colorbar\": {\"outlinewidth\": 0, \"ticks\": \"\"}, \"type\": \"choropleth\"}], \"contour\": [{\"colorbar\": {\"outlinewidth\": 0, \"ticks\": \"\"}, \"colorscale\": [[0.0, \"#0d0887\"], [0.1111111111111111, \"#46039f\"], [0.2222222222222222, \"#7201a8\"], [0.3333333333333333, \"#9c179e\"], [0.4444444444444444, \"#bd3786\"], [0.5555555555555556, \"#d8576b\"], [0.6666666666666666, \"#ed7953\"], [0.7777777777777778, \"#fb9f3a\"], [0.8888888888888888, \"#fdca26\"], [1.0, \"#f0f921\"]], \"type\": \"contour\"}], \"contourcarpet\": [{\"colorbar\": {\"outlinewidth\": 0, \"ticks\": \"\"}, \"type\": \"contourcarpet\"}], \"heatmap\": [{\"colorbar\": {\"outlinewidth\": 0, \"ticks\": \"\"}, \"colorscale\": [[0.0, \"#0d0887\"], [0.1111111111111111, \"#46039f\"], [0.2222222222222222, \"#7201a8\"], [0.3333333333333333, \"#9c179e\"], [0.4444444444444444, \"#bd3786\"], [0.5555555555555556, \"#d8576b\"], [0.6666666666666666, \"#ed7953\"], [0.7777777777777778, \"#fb9f3a\"], [0.8888888888888888, \"#fdca26\"], [1.0, \"#f0f921\"]], \"type\": \"heatmap\"}], \"heatmapgl\": [{\"colorbar\": {\"outlinewidth\": 0, \"ticks\": \"\"}, \"colorscale\": [[0.0, \"#0d0887\"], [0.1111111111111111, \"#46039f\"], [0.2222222222222222, \"#7201a8\"], [0.3333333333333333, \"#9c179e\"], [0.4444444444444444, \"#bd3786\"], [0.5555555555555556, \"#d8576b\"], [0.6666666666666666, \"#ed7953\"], [0.7777777777777778, \"#fb9f3a\"], [0.8888888888888888, \"#fdca26\"], [1.0, \"#f0f921\"]], \"type\": \"heatmapgl\"}], \"histogram\": [{\"marker\": {\"colorbar\": {\"outlinewidth\": 0, \"ticks\": \"\"}}, \"type\": \"histogram\"}], \"histogram2d\": [{\"colorbar\": {\"outlinewidth\": 0, \"ticks\": \"\"}, \"colorscale\": [[0.0, \"#0d0887\"], [0.1111111111111111, \"#46039f\"], [0.2222222222222222, \"#7201a8\"], [0.3333333333333333, \"#9c179e\"], [0.4444444444444444, \"#bd3786\"], [0.5555555555555556, \"#d8576b\"], [0.6666666666666666, \"#ed7953\"], [0.7777777777777778, \"#fb9f3a\"], [0.8888888888888888, \"#fdca26\"], [1.0, \"#f0f921\"]], \"type\": \"histogram2d\"}], \"histogram2dcontour\": [{\"colorbar\": {\"outlinewidth\": 0, \"ticks\": \"\"}, \"colorscale\": [[0.0, \"#0d0887\"], [0.1111111111111111, \"#46039f\"], [0.2222222222222222, \"#7201a8\"], [0.3333333333333333, \"#9c179e\"], [0.4444444444444444, \"#bd3786\"], [0.5555555555555556, \"#d8576b\"], [0.6666666666666666, \"#ed7953\"], [0.7777777777777778, \"#fb9f3a\"], [0.8888888888888888, \"#fdca26\"], [1.0, \"#f0f921\"]], \"type\": \"histogram2dcontour\"}], \"mesh3d\": [{\"colorbar\": {\"outlinewidth\": 0, \"ticks\": \"\"}, \"type\": \"mesh3d\"}], \"parcoords\": [{\"line\": {\"colorbar\": {\"outlinewidth\": 0, \"ticks\": \"\"}}, \"type\": \"parcoords\"}], \"pie\": [{\"automargin\": true, \"type\": \"pie\"}], \"scatter\": [{\"marker\": {\"colorbar\": {\"outlinewidth\": 0, \"ticks\": \"\"}}, \"type\": \"scatter\"}], \"scatter3d\": [{\"line\": {\"colorbar\": {\"outlinewidth\": 0, \"ticks\": \"\"}}, \"marker\": {\"colorbar\": {\"outlinewidth\": 0, \"ticks\": \"\"}}, \"type\": \"scatter3d\"}], \"scattercarpet\": [{\"marker\": {\"colorbar\": {\"outlinewidth\": 0, \"ticks\": \"\"}}, \"type\": \"scattercarpet\"}], \"scattergeo\": [{\"marker\": {\"colorbar\": {\"outlinewidth\": 0, \"ticks\": \"\"}}, \"type\": \"scattergeo\"}], \"scattergl\": [{\"marker\": {\"colorbar\": {\"outlinewidth\": 0, \"ticks\": \"\"}}, \"type\": \"scattergl\"}], \"scattermapbox\": [{\"marker\": {\"colorbar\": {\"outlinewidth\": 0, \"ticks\": \"\"}}, \"type\": \"scattermapbox\"}], \"scatterpolar\": [{\"marker\": {\"colorbar\": {\"outlinewidth\": 0, \"ticks\": \"\"}}, \"type\": \"scatterpolar\"}], \"scatterpolargl\": [{\"marker\": {\"colorbar\": {\"outlinewidth\": 0, \"ticks\": \"\"}}, \"type\": \"scatterpolargl\"}], \"scatterternary\": [{\"marker\": {\"colorbar\": {\"outlinewidth\": 0, \"ticks\": \"\"}}, \"type\": \"scatterternary\"}], \"surface\": [{\"colorbar\": {\"outlinewidth\": 0, \"ticks\": \"\"}, \"colorscale\": [[0.0, \"#0d0887\"], [0.1111111111111111, \"#46039f\"], [0.2222222222222222, \"#7201a8\"], [0.3333333333333333, \"#9c179e\"], [0.4444444444444444, \"#bd3786\"], [0.5555555555555556, \"#d8576b\"], [0.6666666666666666, \"#ed7953\"], [0.7777777777777778, \"#fb9f3a\"], [0.8888888888888888, \"#fdca26\"], [1.0, \"#f0f921\"]], \"type\": \"surface\"}], \"table\": [{\"cells\": {\"fill\": {\"color\": \"#EBF0F8\"}, \"line\": {\"color\": \"white\"}}, \"header\": {\"fill\": {\"color\": \"#C8D4E3\"}, \"line\": {\"color\": \"white\"}}, \"type\": \"table\"}]}, \"layout\": {\"annotationdefaults\": {\"arrowcolor\": \"#2a3f5f\", \"arrowhead\": 0, \"arrowwidth\": 1}, \"coloraxis\": {\"colorbar\": {\"outlinewidth\": 0, \"ticks\": \"\"}}, \"colorscale\": {\"diverging\": [[0, \"#8e0152\"], [0.1, \"#c51b7d\"], [0.2, \"#de77ae\"], [0.3, \"#f1b6da\"], [0.4, \"#fde0ef\"], [0.5, \"#f7f7f7\"], [0.6, \"#e6f5d0\"], [0.7, \"#b8e186\"], [0.8, \"#7fbc41\"], [0.9, \"#4d9221\"], [1, \"#276419\"]], \"sequential\": [[0.0, \"#0d0887\"], [0.1111111111111111, \"#46039f\"], [0.2222222222222222, \"#7201a8\"], [0.3333333333333333, \"#9c179e\"], [0.4444444444444444, \"#bd3786\"], [0.5555555555555556, \"#d8576b\"], [0.6666666666666666, \"#ed7953\"], [0.7777777777777778, \"#fb9f3a\"], [0.8888888888888888, \"#fdca26\"], [1.0, \"#f0f921\"]], \"sequentialminus\": [[0.0, \"#0d0887\"], [0.1111111111111111, \"#46039f\"], [0.2222222222222222, \"#7201a8\"], [0.3333333333333333, \"#9c179e\"], [0.4444444444444444, \"#bd3786\"], [0.5555555555555556, \"#d8576b\"], [0.6666666666666666, \"#ed7953\"], [0.7777777777777778, \"#fb9f3a\"], [0.8888888888888888, \"#fdca26\"], [1.0, \"#f0f921\"]]}, \"colorway\": [\"#636efa\", \"#EF553B\", \"#00cc96\", \"#ab63fa\", \"#FFA15A\", \"#19d3f3\", \"#FF6692\", \"#B6E880\", \"#FF97FF\", \"#FECB52\"], \"font\": {\"color\": \"#2a3f5f\"}, \"geo\": {\"bgcolor\": \"white\", \"lakecolor\": \"white\", \"landcolor\": \"#E5ECF6\", \"showlakes\": true, \"showland\": true, \"subunitcolor\": \"white\"}, \"hoverlabel\": {\"align\": \"left\"}, \"hovermode\": \"closest\", \"mapbox\": {\"style\": \"light\"}, \"paper_bgcolor\": \"white\", \"plot_bgcolor\": \"#E5ECF6\", \"polar\": {\"angularaxis\": {\"gridcolor\": \"white\", \"linecolor\": \"white\", \"ticks\": \"\"}, \"bgcolor\": \"#E5ECF6\", \"radialaxis\": {\"gridcolor\": \"white\", \"linecolor\": \"white\", \"ticks\": \"\"}}, \"scene\": {\"xaxis\": {\"backgroundcolor\": \"#E5ECF6\", \"gridcolor\": \"white\", \"gridwidth\": 2, \"linecolor\": \"white\", \"showbackground\": true, \"ticks\": \"\", \"zerolinecolor\": \"white\"}, \"yaxis\": {\"backgroundcolor\": \"#E5ECF6\", \"gridcolor\": \"white\", \"gridwidth\": 2, \"linecolor\": \"white\", \"showbackground\": true, \"ticks\": \"\", \"zerolinecolor\": \"white\"}, \"zaxis\": {\"backgroundcolor\": \"#E5ECF6\", \"gridcolor\": \"white\", \"gridwidth\": 2, \"linecolor\": \"white\", \"showbackground\": true, \"ticks\": \"\", \"zerolinecolor\": \"white\"}}, \"shapedefaults\": {\"line\": {\"color\": \"#2a3f5f\"}}, \"ternary\": {\"aaxis\": {\"gridcolor\": \"white\", \"linecolor\": \"white\", \"ticks\": \"\"}, \"baxis\": {\"gridcolor\": \"white\", \"linecolor\": \"white\", \"ticks\": \"\"}, \"bgcolor\": \"#E5ECF6\", \"caxis\": {\"gridcolor\": \"white\", \"linecolor\": \"white\", \"ticks\": \"\"}}, \"title\": {\"x\": 0.05}, \"xaxis\": {\"automargin\": true, \"gridcolor\": \"white\", \"linecolor\": \"white\", \"ticks\": \"\", \"title\": {\"standoff\": 15}, \"zerolinecolor\": \"white\", \"zerolinewidth\": 2}, \"yaxis\": {\"automargin\": true, \"gridcolor\": \"white\", \"linecolor\": \"white\", \"ticks\": \"\", \"title\": {\"standoff\": 15}, \"zerolinecolor\": \"white\", \"zerolinewidth\": 2}}}, \"title\": {\"text\": \"Total Points per over Time\", \"x\": 0.5, \"xanchor\": \"center\", \"y\": 0.95, \"yanchor\": \"top\"}, \"xaxis\": {\"range\": [\"2019-01-01\", \"2020-02-03T00:00:00\"]}, \"yaxis\": {\"title\": {\"text\": \"Points\"}}},\n",
       "                        {\"responsive\": true}\n",
       "                    ).then(function(){\n",
       "                            \n",
       "var gd = document.getElementById('5beb2814-3d39-42b1-97f7-e22f7bebde1b');\n",
       "var x = new MutationObserver(function (mutations, observer) {{\n",
       "        var display = window.getComputedStyle(gd).display;\n",
       "        if (!display || display === 'none') {{\n",
       "            console.log([gd, 'removed!']);\n",
       "            Plotly.purge(gd);\n",
       "            observer.disconnect();\n",
       "        }}\n",
       "}});\n",
       "\n",
       "// Listen for the removal of the full notebook cells\n",
       "var notebookContainer = gd.closest('#notebook-container');\n",
       "if (notebookContainer) {{\n",
       "    x.observe(notebookContainer, {childList: true});\n",
       "}}\n",
       "\n",
       "// Listen for the clearing of the current output cell\n",
       "var outputEl = gd.closest('.output');\n",
       "if (outputEl) {{\n",
       "    x.observe(outputEl, {childList: true});\n",
       "}}\n",
       "\n",
       "                        })\n",
       "                };\n",
       "                });\n",
       "            </script>\n",
       "        </div>"
      ]
     },
     "metadata": {},
     "output_type": "display_data"
    }
   ],
   "source": [
    "fig = go.Figure()\n",
    "\n",
    "for i,e in enumerate(endorsee_df['endorsee'].unique()):\n",
    "    \n",
    "    fig.add_trace(\n",
    "        go.Scatter(\n",
    "            x=pt_over_time.loc[pt_over_time['endorsee']==e, 'date'],\n",
    "            y=pt_over_time.loc[pt_over_time['endorsee']==e, 'cum_points'],\n",
    "            name=e,\n",
    "            mode ='markers+lines',\n",
    "            showlegend=True)\n",
    "        )\n",
    "    \n",
    "fig.update_layout(\n",
    "    height=550,\n",
    "    #width=800,\n",
    "    title={'text': 'Total Points per over Time',\n",
    "           'y':0.95, 'x':0.5,\n",
    "           'xanchor': 'center', 'yanchor': 'top'},\n",
    "    xaxis=dict(range=[date(2019,1,1), np.max(pt_over_time['date'])]),\n",
    "    yaxis=dict(title='Points')\n",
    "    )\n",
    "\n",
    "fig.show()"
   ]
  },
  {
   "cell_type": "markdown",
   "metadata": {},
   "source": [
    "Now let's compare candidates using the *category*, *party*, *state* columns as source of points. \n",
    "\n",
    "The first plot shows each candidate points split among one of the possible column to select - this makes it easy to compare candidates points over the same value of the selected column.\n",
    "\n",
    "On the other hand the bar plot quantifies the total amount of points, split by the above aggregation selected above. "
   ]
  },
  {
   "cell_type": "code",
   "execution_count": 16,
   "metadata": {
    "_kg_hide-input": true
   },
   "outputs": [
    {
     "data": {
      "application/vnd.plotly.v1+json": {
       "config": {
        "plotlyServerURL": "https://plot.ly"
       },
       "data": [
        {
         "marker": {
          "color": [
           1,
           1,
           1,
           1,
           1,
           11,
           4,
           3,
           5,
           1,
           40,
           5,
           6,
           5,
           4,
           1,
           6,
           6,
           1,
           7,
           1,
           9,
           1,
           2,
           1,
           1,
           1,
           3,
           1,
           2,
           6,
           2,
           1,
           1,
           2,
           1,
           2,
           1,
           1,
           13,
           3,
           4,
           3,
           1,
           1,
           2,
           1,
           5,
           1,
           2,
           2,
           1,
           11,
           1,
           7,
           1,
           2,
           5,
           1,
           1,
           5,
           1,
           1,
           1,
           12,
           1,
           4,
           7
          ],
          "colorscale": [
           [
            0.0,
            "rgb(0, 128, 128)"
           ],
           [
            0.16666666666666666,
            "rgb(112, 164, 148)"
           ],
           [
            0.3333333333333333,
            "rgb(180, 200, 168)"
           ],
           [
            0.5,
            "rgb(246, 237, 189)"
           ],
           [
            0.6666666666666666,
            "rgb(237, 187, 138)"
           ],
           [
            0.8333333333333334,
            "rgb(222, 138, 90)"
           ],
           [
            1.0,
            "rgb(202, 86, 44)"
           ]
          ],
          "opacity": 0.7,
          "showscale": false,
          "size": [
           25,
           25,
           23,
           22,
           25,
           31,
           40,
           44,
           35,
           25,
           60,
           50,
           32,
           30,
           24,
           28,
           38,
           38,
           22,
           27,
           28,
           47,
           26,
           24,
           22,
           21,
           26,
           23,
           25,
           26,
           38,
           24,
           21,
           23,
           26,
           23,
           22,
           28,
           23,
           59,
           26,
           28,
           29,
           22,
           28,
           26,
           30,
           35,
           26,
           24,
           24,
           23,
           31,
           23,
           41,
           26,
           24,
           30,
           21,
           25,
           25,
           25,
           23,
           25,
           56,
           26,
           28,
           34
          ]
         },
         "mode": "markers+text",
         "text": [
          5.0,
          5.0,
          3.0,
          2.0,
          5.0,
          11.0,
          20.0,
          24.0,
          15.0,
          5.0,
          120.0,
          30.0,
          12.0,
          10.0,
          4.0,
          8.0,
          18.0,
          18.0,
          2.0,
          7.0,
          8.0,
          27.0,
          6.0,
          4.0,
          2.0,
          1.0,
          6.0,
          3.0,
          5.0,
          6.0,
          18.0,
          4.0,
          1.0,
          3.0,
          6.0,
          3.0,
          2.0,
          8.0,
          3.0,
          39.0,
          6.0,
          8.0,
          9.0,
          2.0,
          8.0,
          6.0,
          10.0,
          15.0,
          6.0,
          4.0,
          4.0,
          3.0,
          11.0,
          3.0,
          21.0,
          6.0,
          4.0,
          10.0,
          1.0,
          5.0,
          5.0,
          5.0,
          3.0,
          5.0,
          36.0,
          6.0,
          8.0,
          14.0
         ],
         "textposition": "middle center",
         "type": "scatter",
         "visible": true,
         "x": [
          "Bennet",
          "Bennet",
          "Bennet",
          "Bennet",
          "Biden",
          "Biden",
          "Biden",
          "Biden",
          "Biden",
          "Biden",
          "Biden",
          "Biden",
          "Biden",
          "Biden",
          "Bloomberg",
          "Bloomberg",
          "Bloomberg",
          "Bloomberg",
          "Bloomberg",
          "Booker",
          "Booker",
          "Booker",
          "Booker",
          "Booker",
          "Booker",
          "Bullock",
          "Bullock",
          "Buttigieg",
          "Buttigieg",
          "Buttigieg",
          "Buttigieg",
          "Buttigieg",
          "Castro",
          "Castro",
          "Delaney",
          "Gillibrand",
          "Harris",
          "Harris",
          "Harris",
          "Harris",
          "Harris",
          "Harris",
          "Inslee",
          "Inslee",
          "Klobuchar",
          "Klobuchar",
          "Klobuchar",
          "Klobuchar",
          "Klobuchar",
          "Klobuchar",
          "Klobuchar",
          "O'Rourke",
          "Sanders",
          "Sanders",
          "Sanders",
          "Sanders",
          "Sanders",
          "Sanders",
          "Steyer",
          "Warren",
          "Warren",
          "Warren",
          "Warren",
          "Warren",
          "Warren",
          "Warren",
          "Warren",
          "Warren"
         ],
         "xaxis": "x",
         "y": [
          "Candidates who have dropped out",
          "Former party leaders",
          "Mayors",
          "Statewide officeholders",
          "Candidates who have dropped out",
          "DNC members",
          "Former party leaders",
          "Governors",
          "Mayors",
          "Past nominees",
          "Representatives",
          "Senators",
          "State legislative leaders",
          "Statewide officeholders",
          "DNC members",
          "Governors",
          "Mayors",
          "Representatives",
          "Statewide officeholders",
          "DNC members",
          "Governors",
          "Representatives",
          "Senators",
          "State legislative leaders",
          "Statewide officeholders",
          "DNC members",
          "Senators",
          "DNC members",
          "Former party leaders",
          "Mayors",
          "Representatives",
          "State legislative leaders",
          "DNC members",
          "Mayors",
          "Representatives",
          "Representatives",
          "DNC members",
          "Governors",
          "Mayors",
          "Representatives",
          "State legislative leaders",
          "Statewide officeholders",
          "Representatives",
          "Statewide officeholders",
          "Governors",
          "Mayors",
          "Past presidents and vice presidents",
          "Representatives",
          "Senators",
          "State legislative leaders",
          "Statewide officeholders",
          "Representatives",
          "DNC members",
          "Mayors",
          "Representatives",
          "Senators",
          "State legislative leaders",
          "Statewide officeholders",
          "DNC members",
          "Candidates who have dropped out",
          "DNC members",
          "Former party leaders",
          "Mayors",
          "Past nominees",
          "Representatives",
          "Senators",
          "State legislative leaders",
          "Statewide officeholders"
         ],
         "yaxis": "y"
        },
        {
         "marker": {
          "color": [
           5,
           5,
           3,
           2,
           5,
           11,
           20,
           24,
           15,
           5,
           120,
           30,
           12,
           10,
           4,
           8,
           18,
           18,
           2,
           7,
           8,
           27,
           6,
           4,
           2,
           1,
           6,
           3,
           5,
           6,
           18,
           4,
           1,
           3,
           6,
           3,
           2,
           8,
           3,
           39,
           6,
           8,
           9,
           2,
           8,
           6,
           10,
           15,
           6,
           4,
           4,
           3,
           11,
           3,
           21,
           6,
           4,
           10,
           1,
           5,
           5,
           5,
           3,
           5,
           36,
           6,
           8,
           14
          ],
          "colorscale": [
           [
            0.0,
            "rgb(0, 128, 128)"
           ],
           [
            0.16666666666666666,
            "rgb(112, 164, 148)"
           ],
           [
            0.3333333333333333,
            "rgb(180, 200, 168)"
           ],
           [
            0.5,
            "rgb(246, 237, 189)"
           ],
           [
            0.6666666666666666,
            "rgb(237, 187, 138)"
           ],
           [
            0.8333333333333334,
            "rgb(222, 138, 90)"
           ],
           [
            1.0,
            "rgb(202, 86, 44)"
           ]
          ]
         },
         "text": [
          5.0,
          5.0,
          3.0,
          2.0,
          5.0,
          11.0,
          20.0,
          24.0,
          15.0,
          5.0,
          120.0,
          30.0,
          12.0,
          10.0,
          4.0,
          8.0,
          18.0,
          18.0,
          2.0,
          7.0,
          8.0,
          27.0,
          6.0,
          4.0,
          2.0,
          1.0,
          6.0,
          3.0,
          5.0,
          6.0,
          18.0,
          4.0,
          1.0,
          3.0,
          6.0,
          3.0,
          2.0,
          8.0,
          3.0,
          39.0,
          6.0,
          8.0,
          9.0,
          2.0,
          8.0,
          6.0,
          10.0,
          15.0,
          6.0,
          4.0,
          4.0,
          3.0,
          11.0,
          3.0,
          21.0,
          6.0,
          4.0,
          10.0,
          1.0,
          5.0,
          5.0,
          5.0,
          3.0,
          5.0,
          36.0,
          6.0,
          8.0,
          14.0
         ],
         "textposition": "inside",
         "type": "bar",
         "visible": true,
         "x": [
          "Bennet",
          "Bennet",
          "Bennet",
          "Bennet",
          "Biden",
          "Biden",
          "Biden",
          "Biden",
          "Biden",
          "Biden",
          "Biden",
          "Biden",
          "Biden",
          "Biden",
          "Bloomberg",
          "Bloomberg",
          "Bloomberg",
          "Bloomberg",
          "Bloomberg",
          "Booker",
          "Booker",
          "Booker",
          "Booker",
          "Booker",
          "Booker",
          "Bullock",
          "Bullock",
          "Buttigieg",
          "Buttigieg",
          "Buttigieg",
          "Buttigieg",
          "Buttigieg",
          "Castro",
          "Castro",
          "Delaney",
          "Gillibrand",
          "Harris",
          "Harris",
          "Harris",
          "Harris",
          "Harris",
          "Harris",
          "Inslee",
          "Inslee",
          "Klobuchar",
          "Klobuchar",
          "Klobuchar",
          "Klobuchar",
          "Klobuchar",
          "Klobuchar",
          "Klobuchar",
          "O'Rourke",
          "Sanders",
          "Sanders",
          "Sanders",
          "Sanders",
          "Sanders",
          "Sanders",
          "Steyer",
          "Warren",
          "Warren",
          "Warren",
          "Warren",
          "Warren",
          "Warren",
          "Warren",
          "Warren",
          "Warren"
         ],
         "xaxis": "x2",
         "y": [
          5,
          5,
          3,
          2,
          5,
          11,
          20,
          24,
          15,
          5,
          120,
          30,
          12,
          10,
          4,
          8,
          18,
          18,
          2,
          7,
          8,
          27,
          6,
          4,
          2,
          1,
          6,
          3,
          5,
          6,
          18,
          4,
          1,
          3,
          6,
          3,
          2,
          8,
          3,
          39,
          6,
          8,
          9,
          2,
          8,
          6,
          10,
          15,
          6,
          4,
          4,
          3,
          11,
          3,
          21,
          6,
          4,
          10,
          1,
          5,
          5,
          5,
          3,
          5,
          36,
          6,
          8,
          14
         ],
         "yaxis": "y2"
        },
        {
         "marker": {
          "color": [
           4,
           81,
           17,
           1,
           20,
           1,
           2,
           14,
           1,
           1,
           2,
           1,
           24,
           4,
           14,
           1,
           27,
           1,
           33
          ],
          "colorscale": [
           [
            0.0,
            "rgb(0, 128, 128)"
           ],
           [
            0.16666666666666666,
            "rgb(112, 164, 148)"
           ],
           [
            0.3333333333333333,
            "rgb(180, 200, 168)"
           ],
           [
            0.5,
            "rgb(246, 237, 189)"
           ],
           [
            0.6666666666666666,
            "rgb(237, 187, 138)"
           ],
           [
            0.8333333333333334,
            "rgb(222, 138, 90)"
           ],
           [
            1.0,
            "rgb(202, 86, 44)"
           ]
          ],
          "opacity": 0.7,
          "showscale": false,
          "size": [
           35,
           60,
           67,
           23,
           60,
           23,
           27,
           56,
           21,
           23,
           26,
           23,
           60,
           31,
           60,
           23,
           60,
           21,
           60
          ]
         },
         "mode": "markers+text",
         "text": [
          15.0,
          252.0,
          47.0,
          3.0,
          51.0,
          3.0,
          7.0,
          36.0,
          1.0,
          3.0,
          6.0,
          3.0,
          66.0,
          11.0,
          53.0,
          3.0,
          55.0,
          1.0,
          87.0
         ],
         "textposition": "middle center",
         "type": "scatter",
         "visible": false,
         "x": [
          "Bennet",
          "Biden",
          "Bloomberg",
          "Bloomberg",
          "Booker",
          "Booker",
          "Bullock",
          "Buttigieg",
          "Castro",
          "Castro",
          "Delaney",
          "Gillibrand",
          "Harris",
          "Inslee",
          "Klobuchar",
          "O'Rourke",
          "Sanders",
          "Steyer",
          "Warren"
         ],
         "xaxis": "x",
         "y": [
          "D",
          "D",
          "D",
          "None",
          "D",
          "R",
          "D",
          "D",
          "D",
          "None",
          "D",
          "D",
          "D",
          "D",
          "D",
          "D",
          "D",
          "D",
          "D"
         ],
         "yaxis": "y"
        },
        {
         "marker": {
          "color": [
           15,
           252,
           47,
           3,
           51,
           3,
           7,
           36,
           1,
           3,
           6,
           3,
           66,
           11,
           53,
           3,
           55,
           1,
           87
          ],
          "colorscale": [
           [
            0.0,
            "rgb(0, 128, 128)"
           ],
           [
            0.16666666666666666,
            "rgb(112, 164, 148)"
           ],
           [
            0.3333333333333333,
            "rgb(180, 200, 168)"
           ],
           [
            0.5,
            "rgb(246, 237, 189)"
           ],
           [
            0.6666666666666666,
            "rgb(237, 187, 138)"
           ],
           [
            0.8333333333333334,
            "rgb(222, 138, 90)"
           ],
           [
            1.0,
            "rgb(202, 86, 44)"
           ]
          ]
         },
         "text": [
          15.0,
          252.0,
          47.0,
          3.0,
          51.0,
          3.0,
          7.0,
          36.0,
          1.0,
          3.0,
          6.0,
          3.0,
          66.0,
          11.0,
          53.0,
          3.0,
          55.0,
          1.0,
          87.0
         ],
         "textposition": "inside",
         "type": "bar",
         "visible": false,
         "x": [
          "Bennet",
          "Biden",
          "Bloomberg",
          "Bloomberg",
          "Booker",
          "Booker",
          "Bullock",
          "Buttigieg",
          "Castro",
          "Castro",
          "Delaney",
          "Gillibrand",
          "Harris",
          "Inslee",
          "Klobuchar",
          "O'Rourke",
          "Sanders",
          "Steyer",
          "Warren"
         ],
         "xaxis": "x2",
         "y": [
          15,
          252,
          47,
          3,
          51,
          3,
          7,
          36,
          1,
          3,
          6,
          3,
          66,
          11,
          53,
          3,
          55,
          1,
          87
         ],
         "yaxis": "y2"
        },
        {
         "marker": {
          "color": [
           4,
           2,
           1,
           12,
           1,
           3,
           2,
           5,
           5,
           2,
           4,
           2,
           1,
           4,
           2,
           1,
           1,
           2,
           3,
           2,
           1,
           3,
           1,
           1,
           7,
           1,
           2,
           1,
           1,
           5,
           3,
           8,
           1,
           1,
           1,
           1,
           1,
           1,
           1,
           1,
           1,
           1,
           1,
           19,
           1,
           1,
           1,
           1,
           1,
           1,
           1,
           1,
           1,
           1,
           1,
           1,
           2,
           1,
           1,
           1,
           2,
           1,
           1,
           1,
           1,
           14,
           1,
           1,
           1,
           1,
           1,
           1,
           2,
           1,
           4,
           1,
           13,
           1,
           2,
           2,
           2,
           1,
           1,
           2,
           2,
           2,
           1,
           1,
           1,
           8,
           1,
           1,
           1,
           1,
           1,
           2,
           2,
           2,
           10,
           1,
           2,
           1,
           1,
           3,
           2,
           1,
           4
          ],
          "colorscale": [
           [
            0.0,
            "rgb(0, 128, 128)"
           ],
           [
            0.16666666666666666,
            "rgb(112, 164, 148)"
           ],
           [
            0.3333333333333333,
            "rgb(180, 200, 168)"
           ],
           [
            0.5,
            "rgb(246, 237, 189)"
           ],
           [
            0.6666666666666666,
            "rgb(237, 187, 138)"
           ],
           [
            0.8333333333333334,
            "rgb(222, 138, 90)"
           ],
           [
            1.0,
            "rgb(202, 86, 44)"
           ]
          ],
          "opacity": 0.7,
          "showscale": false,
          "size": [
           35,
           29,
           22,
           54,
           22,
           35,
           22,
           45,
           34,
           26,
           29,
           26,
           23,
           36,
           24,
           23,
           22,
           26,
           24,
           26,
           23,
           34,
           25,
           23,
           46,
           21,
           24,
           25,
           21,
           35,
           27,
           41,
           28,
           23,
           23,
           23,
           23,
           21,
           23,
           21,
           23,
           21,
           21,
           60,
           21,
           21,
           26,
           21,
           23,
           23,
           25,
           23,
           21,
           22,
           23,
           23,
           24,
           22,
           23,
           23,
           24,
           23,
           23,
           23,
           23,
           60,
           23,
           22,
           22,
           23,
           23,
           23,
           24,
           23,
           31,
           23,
           60,
           23,
           24,
           22,
           22,
           21,
           22,
           24,
           25,
           22,
           23,
           21,
           23,
           40,
           23,
           23,
           21,
           23,
           23,
           24,
           24,
           25,
           51,
           23,
           28,
           21,
           23,
           24,
           24,
           23,
           31
          ]
         },
         "mode": "markers+text",
         "text": [
          15.0,
          9.0,
          2.0,
          34.0,
          2.0,
          15.0,
          2.0,
          25.0,
          14.0,
          6.0,
          9.0,
          6.0,
          3.0,
          16.0,
          4.0,
          3.0,
          2.0,
          6.0,
          4.0,
          6.0,
          3.0,
          14.0,
          5.0,
          3.0,
          26.0,
          1.0,
          4.0,
          5.0,
          1.0,
          15.0,
          7.0,
          21.0,
          8.0,
          3.0,
          3.0,
          3.0,
          3.0,
          1.0,
          3.0,
          1.0,
          3.0,
          1.0,
          1.0,
          52.0,
          1.0,
          1.0,
          6.0,
          1.0,
          3.0,
          3.0,
          5.0,
          3.0,
          1.0,
          2.0,
          3.0,
          3.0,
          4.0,
          2.0,
          3.0,
          3.0,
          4.0,
          3.0,
          3.0,
          3.0,
          3.0,
          40.0,
          3.0,
          2.0,
          2.0,
          3.0,
          3.0,
          3.0,
          4.0,
          3.0,
          11.0,
          3.0,
          50.0,
          3.0,
          4.0,
          2.0,
          2.0,
          1.0,
          2.0,
          4.0,
          5.0,
          2.0,
          3.0,
          1.0,
          3.0,
          20.0,
          3.0,
          3.0,
          1.0,
          3.0,
          3.0,
          4.0,
          4.0,
          5.0,
          31.0,
          3.0,
          8.0,
          1.0,
          3.0,
          4.0,
          4.0,
          3.0,
          11.0
         ],
         "textposition": "middle center",
         "type": "scatter",
         "visible": false,
         "x": [
          "Bennet",
          "Biden",
          "Biden",
          "Biden",
          "Biden",
          "Biden",
          "Biden",
          "Biden",
          "Biden",
          "Biden",
          "Biden",
          "Biden",
          "Biden",
          "Biden",
          "Biden",
          "Biden",
          "Biden",
          "Biden",
          "Biden",
          "Biden",
          "Biden",
          "Biden",
          "Biden",
          "Biden",
          "Biden",
          "Biden",
          "Biden",
          "Biden",
          "Biden",
          "Biden",
          "Biden",
          "Bloomberg",
          "Bloomberg",
          "Bloomberg",
          "Bloomberg",
          "Bloomberg",
          "Bloomberg",
          "Bloomberg",
          "Bloomberg",
          "Bloomberg",
          "Bloomberg",
          "Bloomberg",
          "Booker",
          "Booker",
          "Booker",
          "Bullock",
          "Bullock",
          "Buttigieg",
          "Buttigieg",
          "Buttigieg",
          "Buttigieg",
          "Buttigieg",
          "Buttigieg",
          "Buttigieg",
          "Buttigieg",
          "Buttigieg",
          "Buttigieg",
          "Buttigieg",
          "Buttigieg",
          "Buttigieg",
          "Castro",
          "Delaney",
          "Delaney",
          "Gillibrand",
          "Harris",
          "Harris",
          "Harris",
          "Harris",
          "Harris",
          "Harris",
          "Harris",
          "Harris",
          "Harris",
          "Harris",
          "Inslee",
          "Klobuchar",
          "Klobuchar",
          "O'Rourke",
          "Sanders",
          "Sanders",
          "Sanders",
          "Sanders",
          "Sanders",
          "Sanders",
          "Sanders",
          "Sanders",
          "Sanders",
          "Sanders",
          "Sanders",
          "Sanders",
          "Sanders",
          "Sanders",
          "Steyer",
          "Warren",
          "Warren",
          "Warren",
          "Warren",
          "Warren",
          "Warren",
          "Warren",
          "Warren",
          "Warren",
          "Warren",
          "Warren",
          "Warren",
          "Warren",
          "Warren"
         ],
         "xaxis": "x",
         "y": [
          "CO",
          "AL",
          "AR",
          "CA",
          "CO",
          "CT",
          "DC",
          "DE",
          "FL",
          "GA",
          "IA",
          "IL",
          "LA",
          "MA",
          "MI",
          "MO",
          "MS",
          "NC",
          "NH",
          "NJ",
          "NV",
          "NY",
          "OH",
          "OR",
          "PA",
          "PR",
          "RI",
          "SD",
          "TN",
          "TX",
          "VA",
          "CA",
          "DC",
          "FL",
          "IL",
          "KY",
          "NY",
          "PA",
          "TN",
          "TX",
          "UT",
          "WI",
          "FL",
          "NJ",
          "SC",
          "IA",
          "MT",
          "DC",
          "IA",
          "IN",
          "MA",
          "MD",
          "MI",
          "ND",
          "NH",
          "NY",
          "OH",
          "TN",
          "TX",
          "VA",
          "TX",
          "CA",
          "MD",
          "NY",
          "AZ",
          "CA",
          "CT",
          "DC",
          "GA",
          "MI",
          "MO",
          "OH",
          "TX",
          "VI",
          "WA",
          "CA",
          "MN",
          "TX",
          "CA",
          "CO",
          "DC",
          "GA",
          "ME",
          "MI",
          "MN",
          "MO",
          "NY",
          "OH",
          "PR",
          "VT",
          "WA",
          "WI",
          "DC",
          "AZ",
          "CA",
          "CT",
          "IA",
          "IL",
          "MA",
          "MD",
          "MI",
          "NH",
          "NM",
          "NV",
          "OR",
          "PA",
          "TX"
         ],
         "yaxis": "y"
        },
        {
         "marker": {
          "color": [
           15,
           9,
           2,
           34,
           2,
           15,
           2,
           25,
           14,
           6,
           9,
           6,
           3,
           16,
           4,
           3,
           2,
           6,
           4,
           6,
           3,
           14,
           5,
           3,
           26,
           1,
           4,
           5,
           1,
           15,
           7,
           21,
           8,
           3,
           3,
           3,
           3,
           1,
           3,
           1,
           3,
           1,
           1,
           52,
           1,
           1,
           6,
           1,
           3,
           3,
           5,
           3,
           1,
           2,
           3,
           3,
           4,
           2,
           3,
           3,
           4,
           3,
           3,
           3,
           3,
           40,
           3,
           2,
           2,
           3,
           3,
           3,
           4,
           3,
           11,
           3,
           50,
           3,
           4,
           2,
           2,
           1,
           2,
           4,
           5,
           2,
           3,
           1,
           3,
           20,
           3,
           3,
           1,
           3,
           3,
           4,
           4,
           5,
           31,
           3,
           8,
           1,
           3,
           4,
           4,
           3,
           11
          ],
          "colorscale": [
           [
            0.0,
            "rgb(0, 128, 128)"
           ],
           [
            0.16666666666666666,
            "rgb(112, 164, 148)"
           ],
           [
            0.3333333333333333,
            "rgb(180, 200, 168)"
           ],
           [
            0.5,
            "rgb(246, 237, 189)"
           ],
           [
            0.6666666666666666,
            "rgb(237, 187, 138)"
           ],
           [
            0.8333333333333334,
            "rgb(222, 138, 90)"
           ],
           [
            1.0,
            "rgb(202, 86, 44)"
           ]
          ]
         },
         "text": [
          15.0,
          9.0,
          2.0,
          34.0,
          2.0,
          15.0,
          2.0,
          25.0,
          14.0,
          6.0,
          9.0,
          6.0,
          3.0,
          16.0,
          4.0,
          3.0,
          2.0,
          6.0,
          4.0,
          6.0,
          3.0,
          14.0,
          5.0,
          3.0,
          26.0,
          1.0,
          4.0,
          5.0,
          1.0,
          15.0,
          7.0,
          21.0,
          8.0,
          3.0,
          3.0,
          3.0,
          3.0,
          1.0,
          3.0,
          1.0,
          3.0,
          1.0,
          1.0,
          52.0,
          1.0,
          1.0,
          6.0,
          1.0,
          3.0,
          3.0,
          5.0,
          3.0,
          1.0,
          2.0,
          3.0,
          3.0,
          4.0,
          2.0,
          3.0,
          3.0,
          4.0,
          3.0,
          3.0,
          3.0,
          3.0,
          40.0,
          3.0,
          2.0,
          2.0,
          3.0,
          3.0,
          3.0,
          4.0,
          3.0,
          11.0,
          3.0,
          50.0,
          3.0,
          4.0,
          2.0,
          2.0,
          1.0,
          2.0,
          4.0,
          5.0,
          2.0,
          3.0,
          1.0,
          3.0,
          20.0,
          3.0,
          3.0,
          1.0,
          3.0,
          3.0,
          4.0,
          4.0,
          5.0,
          31.0,
          3.0,
          8.0,
          1.0,
          3.0,
          4.0,
          4.0,
          3.0,
          11.0
         ],
         "textposition": "inside",
         "type": "bar",
         "visible": false,
         "x": [
          "Bennet",
          "Biden",
          "Biden",
          "Biden",
          "Biden",
          "Biden",
          "Biden",
          "Biden",
          "Biden",
          "Biden",
          "Biden",
          "Biden",
          "Biden",
          "Biden",
          "Biden",
          "Biden",
          "Biden",
          "Biden",
          "Biden",
          "Biden",
          "Biden",
          "Biden",
          "Biden",
          "Biden",
          "Biden",
          "Biden",
          "Biden",
          "Biden",
          "Biden",
          "Biden",
          "Biden",
          "Bloomberg",
          "Bloomberg",
          "Bloomberg",
          "Bloomberg",
          "Bloomberg",
          "Bloomberg",
          "Bloomberg",
          "Bloomberg",
          "Bloomberg",
          "Bloomberg",
          "Bloomberg",
          "Booker",
          "Booker",
          "Booker",
          "Bullock",
          "Bullock",
          "Buttigieg",
          "Buttigieg",
          "Buttigieg",
          "Buttigieg",
          "Buttigieg",
          "Buttigieg",
          "Buttigieg",
          "Buttigieg",
          "Buttigieg",
          "Buttigieg",
          "Buttigieg",
          "Buttigieg",
          "Buttigieg",
          "Castro",
          "Delaney",
          "Delaney",
          "Gillibrand",
          "Harris",
          "Harris",
          "Harris",
          "Harris",
          "Harris",
          "Harris",
          "Harris",
          "Harris",
          "Harris",
          "Harris",
          "Inslee",
          "Klobuchar",
          "Klobuchar",
          "O'Rourke",
          "Sanders",
          "Sanders",
          "Sanders",
          "Sanders",
          "Sanders",
          "Sanders",
          "Sanders",
          "Sanders",
          "Sanders",
          "Sanders",
          "Sanders",
          "Sanders",
          "Sanders",
          "Sanders",
          "Steyer",
          "Warren",
          "Warren",
          "Warren",
          "Warren",
          "Warren",
          "Warren",
          "Warren",
          "Warren",
          "Warren",
          "Warren",
          "Warren",
          "Warren",
          "Warren",
          "Warren"
         ],
         "xaxis": "x2",
         "y": [
          15,
          9,
          2,
          34,
          2,
          15,
          2,
          25,
          14,
          6,
          9,
          6,
          3,
          16,
          4,
          3,
          2,
          6,
          4,
          6,
          3,
          14,
          5,
          3,
          26,
          1,
          4,
          5,
          1,
          15,
          7,
          21,
          8,
          3,
          3,
          3,
          3,
          1,
          3,
          1,
          3,
          1,
          1,
          52,
          1,
          1,
          6,
          1,
          3,
          3,
          5,
          3,
          1,
          2,
          3,
          3,
          4,
          2,
          3,
          3,
          4,
          3,
          3,
          3,
          3,
          40,
          3,
          2,
          2,
          3,
          3,
          3,
          4,
          3,
          11,
          3,
          50,
          3,
          4,
          2,
          2,
          1,
          2,
          4,
          5,
          2,
          3,
          1,
          3,
          20,
          3,
          3,
          1,
          3,
          3,
          4,
          4,
          5,
          31,
          3,
          8,
          1,
          3,
          4,
          4,
          3,
          11
         ],
         "yaxis": "y2"
        }
       ],
       "layout": {
        "annotations": [
         {
          "align": "left",
          "showarrow": false,
          "text": "Select Aggregation",
          "x": -0.12,
          "xref": "paper",
          "y": 1.06,
          "yref": "paper"
         }
        ],
        "height": 1350,
        "showlegend": false,
        "template": {
         "data": {
          "bar": [
           {
            "error_x": {
             "color": "#2a3f5f"
            },
            "error_y": {
             "color": "#2a3f5f"
            },
            "marker": {
             "line": {
              "color": "#E5ECF6",
              "width": 0.5
             }
            },
            "type": "bar"
           }
          ],
          "barpolar": [
           {
            "marker": {
             "line": {
              "color": "#E5ECF6",
              "width": 0.5
             }
            },
            "type": "barpolar"
           }
          ],
          "carpet": [
           {
            "aaxis": {
             "endlinecolor": "#2a3f5f",
             "gridcolor": "white",
             "linecolor": "white",
             "minorgridcolor": "white",
             "startlinecolor": "#2a3f5f"
            },
            "baxis": {
             "endlinecolor": "#2a3f5f",
             "gridcolor": "white",
             "linecolor": "white",
             "minorgridcolor": "white",
             "startlinecolor": "#2a3f5f"
            },
            "type": "carpet"
           }
          ],
          "choropleth": [
           {
            "colorbar": {
             "outlinewidth": 0,
             "ticks": ""
            },
            "type": "choropleth"
           }
          ],
          "contour": [
           {
            "colorbar": {
             "outlinewidth": 0,
             "ticks": ""
            },
            "colorscale": [
             [
              0.0,
              "#0d0887"
             ],
             [
              0.1111111111111111,
              "#46039f"
             ],
             [
              0.2222222222222222,
              "#7201a8"
             ],
             [
              0.3333333333333333,
              "#9c179e"
             ],
             [
              0.4444444444444444,
              "#bd3786"
             ],
             [
              0.5555555555555556,
              "#d8576b"
             ],
             [
              0.6666666666666666,
              "#ed7953"
             ],
             [
              0.7777777777777778,
              "#fb9f3a"
             ],
             [
              0.8888888888888888,
              "#fdca26"
             ],
             [
              1.0,
              "#f0f921"
             ]
            ],
            "type": "contour"
           }
          ],
          "contourcarpet": [
           {
            "colorbar": {
             "outlinewidth": 0,
             "ticks": ""
            },
            "type": "contourcarpet"
           }
          ],
          "heatmap": [
           {
            "colorbar": {
             "outlinewidth": 0,
             "ticks": ""
            },
            "colorscale": [
             [
              0.0,
              "#0d0887"
             ],
             [
              0.1111111111111111,
              "#46039f"
             ],
             [
              0.2222222222222222,
              "#7201a8"
             ],
             [
              0.3333333333333333,
              "#9c179e"
             ],
             [
              0.4444444444444444,
              "#bd3786"
             ],
             [
              0.5555555555555556,
              "#d8576b"
             ],
             [
              0.6666666666666666,
              "#ed7953"
             ],
             [
              0.7777777777777778,
              "#fb9f3a"
             ],
             [
              0.8888888888888888,
              "#fdca26"
             ],
             [
              1.0,
              "#f0f921"
             ]
            ],
            "type": "heatmap"
           }
          ],
          "heatmapgl": [
           {
            "colorbar": {
             "outlinewidth": 0,
             "ticks": ""
            },
            "colorscale": [
             [
              0.0,
              "#0d0887"
             ],
             [
              0.1111111111111111,
              "#46039f"
             ],
             [
              0.2222222222222222,
              "#7201a8"
             ],
             [
              0.3333333333333333,
              "#9c179e"
             ],
             [
              0.4444444444444444,
              "#bd3786"
             ],
             [
              0.5555555555555556,
              "#d8576b"
             ],
             [
              0.6666666666666666,
              "#ed7953"
             ],
             [
              0.7777777777777778,
              "#fb9f3a"
             ],
             [
              0.8888888888888888,
              "#fdca26"
             ],
             [
              1.0,
              "#f0f921"
             ]
            ],
            "type": "heatmapgl"
           }
          ],
          "histogram": [
           {
            "marker": {
             "colorbar": {
              "outlinewidth": 0,
              "ticks": ""
             }
            },
            "type": "histogram"
           }
          ],
          "histogram2d": [
           {
            "colorbar": {
             "outlinewidth": 0,
             "ticks": ""
            },
            "colorscale": [
             [
              0.0,
              "#0d0887"
             ],
             [
              0.1111111111111111,
              "#46039f"
             ],
             [
              0.2222222222222222,
              "#7201a8"
             ],
             [
              0.3333333333333333,
              "#9c179e"
             ],
             [
              0.4444444444444444,
              "#bd3786"
             ],
             [
              0.5555555555555556,
              "#d8576b"
             ],
             [
              0.6666666666666666,
              "#ed7953"
             ],
             [
              0.7777777777777778,
              "#fb9f3a"
             ],
             [
              0.8888888888888888,
              "#fdca26"
             ],
             [
              1.0,
              "#f0f921"
             ]
            ],
            "type": "histogram2d"
           }
          ],
          "histogram2dcontour": [
           {
            "colorbar": {
             "outlinewidth": 0,
             "ticks": ""
            },
            "colorscale": [
             [
              0.0,
              "#0d0887"
             ],
             [
              0.1111111111111111,
              "#46039f"
             ],
             [
              0.2222222222222222,
              "#7201a8"
             ],
             [
              0.3333333333333333,
              "#9c179e"
             ],
             [
              0.4444444444444444,
              "#bd3786"
             ],
             [
              0.5555555555555556,
              "#d8576b"
             ],
             [
              0.6666666666666666,
              "#ed7953"
             ],
             [
              0.7777777777777778,
              "#fb9f3a"
             ],
             [
              0.8888888888888888,
              "#fdca26"
             ],
             [
              1.0,
              "#f0f921"
             ]
            ],
            "type": "histogram2dcontour"
           }
          ],
          "mesh3d": [
           {
            "colorbar": {
             "outlinewidth": 0,
             "ticks": ""
            },
            "type": "mesh3d"
           }
          ],
          "parcoords": [
           {
            "line": {
             "colorbar": {
              "outlinewidth": 0,
              "ticks": ""
             }
            },
            "type": "parcoords"
           }
          ],
          "pie": [
           {
            "automargin": true,
            "type": "pie"
           }
          ],
          "scatter": [
           {
            "marker": {
             "colorbar": {
              "outlinewidth": 0,
              "ticks": ""
             }
            },
            "type": "scatter"
           }
          ],
          "scatter3d": [
           {
            "line": {
             "colorbar": {
              "outlinewidth": 0,
              "ticks": ""
             }
            },
            "marker": {
             "colorbar": {
              "outlinewidth": 0,
              "ticks": ""
             }
            },
            "type": "scatter3d"
           }
          ],
          "scattercarpet": [
           {
            "marker": {
             "colorbar": {
              "outlinewidth": 0,
              "ticks": ""
             }
            },
            "type": "scattercarpet"
           }
          ],
          "scattergeo": [
           {
            "marker": {
             "colorbar": {
              "outlinewidth": 0,
              "ticks": ""
             }
            },
            "type": "scattergeo"
           }
          ],
          "scattergl": [
           {
            "marker": {
             "colorbar": {
              "outlinewidth": 0,
              "ticks": ""
             }
            },
            "type": "scattergl"
           }
          ],
          "scattermapbox": [
           {
            "marker": {
             "colorbar": {
              "outlinewidth": 0,
              "ticks": ""
             }
            },
            "type": "scattermapbox"
           }
          ],
          "scatterpolar": [
           {
            "marker": {
             "colorbar": {
              "outlinewidth": 0,
              "ticks": ""
             }
            },
            "type": "scatterpolar"
           }
          ],
          "scatterpolargl": [
           {
            "marker": {
             "colorbar": {
              "outlinewidth": 0,
              "ticks": ""
             }
            },
            "type": "scatterpolargl"
           }
          ],
          "scatterternary": [
           {
            "marker": {
             "colorbar": {
              "outlinewidth": 0,
              "ticks": ""
             }
            },
            "type": "scatterternary"
           }
          ],
          "surface": [
           {
            "colorbar": {
             "outlinewidth": 0,
             "ticks": ""
            },
            "colorscale": [
             [
              0.0,
              "#0d0887"
             ],
             [
              0.1111111111111111,
              "#46039f"
             ],
             [
              0.2222222222222222,
              "#7201a8"
             ],
             [
              0.3333333333333333,
              "#9c179e"
             ],
             [
              0.4444444444444444,
              "#bd3786"
             ],
             [
              0.5555555555555556,
              "#d8576b"
             ],
             [
              0.6666666666666666,
              "#ed7953"
             ],
             [
              0.7777777777777778,
              "#fb9f3a"
             ],
             [
              0.8888888888888888,
              "#fdca26"
             ],
             [
              1.0,
              "#f0f921"
             ]
            ],
            "type": "surface"
           }
          ],
          "table": [
           {
            "cells": {
             "fill": {
              "color": "#EBF0F8"
             },
             "line": {
              "color": "white"
             }
            },
            "header": {
             "fill": {
              "color": "#C8D4E3"
             },
             "line": {
              "color": "white"
             }
            },
            "type": "table"
           }
          ]
         },
         "layout": {
          "annotationdefaults": {
           "arrowcolor": "#2a3f5f",
           "arrowhead": 0,
           "arrowwidth": 1
          },
          "coloraxis": {
           "colorbar": {
            "outlinewidth": 0,
            "ticks": ""
           }
          },
          "colorscale": {
           "diverging": [
            [
             0,
             "#8e0152"
            ],
            [
             0.1,
             "#c51b7d"
            ],
            [
             0.2,
             "#de77ae"
            ],
            [
             0.3,
             "#f1b6da"
            ],
            [
             0.4,
             "#fde0ef"
            ],
            [
             0.5,
             "#f7f7f7"
            ],
            [
             0.6,
             "#e6f5d0"
            ],
            [
             0.7,
             "#b8e186"
            ],
            [
             0.8,
             "#7fbc41"
            ],
            [
             0.9,
             "#4d9221"
            ],
            [
             1,
             "#276419"
            ]
           ],
           "sequential": [
            [
             0.0,
             "#0d0887"
            ],
            [
             0.1111111111111111,
             "#46039f"
            ],
            [
             0.2222222222222222,
             "#7201a8"
            ],
            [
             0.3333333333333333,
             "#9c179e"
            ],
            [
             0.4444444444444444,
             "#bd3786"
            ],
            [
             0.5555555555555556,
             "#d8576b"
            ],
            [
             0.6666666666666666,
             "#ed7953"
            ],
            [
             0.7777777777777778,
             "#fb9f3a"
            ],
            [
             0.8888888888888888,
             "#fdca26"
            ],
            [
             1.0,
             "#f0f921"
            ]
           ],
           "sequentialminus": [
            [
             0.0,
             "#0d0887"
            ],
            [
             0.1111111111111111,
             "#46039f"
            ],
            [
             0.2222222222222222,
             "#7201a8"
            ],
            [
             0.3333333333333333,
             "#9c179e"
            ],
            [
             0.4444444444444444,
             "#bd3786"
            ],
            [
             0.5555555555555556,
             "#d8576b"
            ],
            [
             0.6666666666666666,
             "#ed7953"
            ],
            [
             0.7777777777777778,
             "#fb9f3a"
            ],
            [
             0.8888888888888888,
             "#fdca26"
            ],
            [
             1.0,
             "#f0f921"
            ]
           ]
          },
          "colorway": [
           "#636efa",
           "#EF553B",
           "#00cc96",
           "#ab63fa",
           "#FFA15A",
           "#19d3f3",
           "#FF6692",
           "#B6E880",
           "#FF97FF",
           "#FECB52"
          ],
          "font": {
           "color": "#2a3f5f"
          },
          "geo": {
           "bgcolor": "white",
           "lakecolor": "white",
           "landcolor": "#E5ECF6",
           "showlakes": true,
           "showland": true,
           "subunitcolor": "white"
          },
          "hoverlabel": {
           "align": "left"
          },
          "hovermode": "closest",
          "mapbox": {
           "style": "light"
          },
          "paper_bgcolor": "white",
          "plot_bgcolor": "#E5ECF6",
          "polar": {
           "angularaxis": {
            "gridcolor": "white",
            "linecolor": "white",
            "ticks": ""
           },
           "bgcolor": "#E5ECF6",
           "radialaxis": {
            "gridcolor": "white",
            "linecolor": "white",
            "ticks": ""
           }
          },
          "scene": {
           "xaxis": {
            "backgroundcolor": "#E5ECF6",
            "gridcolor": "white",
            "gridwidth": 2,
            "linecolor": "white",
            "showbackground": true,
            "ticks": "",
            "zerolinecolor": "white"
           },
           "yaxis": {
            "backgroundcolor": "#E5ECF6",
            "gridcolor": "white",
            "gridwidth": 2,
            "linecolor": "white",
            "showbackground": true,
            "ticks": "",
            "zerolinecolor": "white"
           },
           "zaxis": {
            "backgroundcolor": "#E5ECF6",
            "gridcolor": "white",
            "gridwidth": 2,
            "linecolor": "white",
            "showbackground": true,
            "ticks": "",
            "zerolinecolor": "white"
           }
          },
          "shapedefaults": {
           "line": {
            "color": "#2a3f5f"
           }
          },
          "ternary": {
           "aaxis": {
            "gridcolor": "white",
            "linecolor": "white",
            "ticks": ""
           },
           "baxis": {
            "gridcolor": "white",
            "linecolor": "white",
            "ticks": ""
           },
           "bgcolor": "#E5ECF6",
           "caxis": {
            "gridcolor": "white",
            "linecolor": "white",
            "ticks": ""
           }
          },
          "title": {
           "x": 0.05
          },
          "xaxis": {
           "automargin": true,
           "gridcolor": "white",
           "linecolor": "white",
           "ticks": "",
           "title": {
            "standoff": 15
           },
           "zerolinecolor": "white",
           "zerolinewidth": 2
          },
          "yaxis": {
           "automargin": true,
           "gridcolor": "white",
           "linecolor": "white",
           "ticks": "",
           "title": {
            "standoff": 15
           },
           "zerolinecolor": "white",
           "zerolinewidth": 2
          }
         }
        },
        "updatemenus": [
         {
          "active": 0,
          "buttons": [
           {
            "args": [
             {
              "visible": [
               true,
               true,
               false,
               false,
               false,
               false
              ]
             },
             {
              "title": {
               "text": "Points by Category",
               "x": 0.5,
               "xanchor": "center",
               "y": 0.95,
               "yanchor": "top"
              }
             }
            ],
            "label": "Category",
            "method": "update"
           },
           {
            "args": [
             {
              "visible": [
               false,
               false,
               true,
               true,
               false,
               false
              ]
             },
             {
              "title": {
               "text": "Points by Party",
               "x": 0.5,
               "xanchor": "center",
               "y": 0.95,
               "yanchor": "top"
              }
             }
            ],
            "label": "Party",
            "method": "update"
           },
           {
            "args": [
             {
              "visible": [
               false,
               false,
               false,
               false,
               true,
               true
              ]
             },
             {
              "title": {
               "text": "Points by State",
               "x": 0.5,
               "xanchor": "center",
               "y": 0.95,
               "yanchor": "top"
              }
             }
            ],
            "label": "State",
            "method": "update"
           }
          ],
          "direction": "right",
          "pad": {
           "r": 10,
           "t": 10
          },
          "x": 0.15,
          "xanchor": "left",
          "y": 1.08,
          "yanchor": "top"
         }
        ],
        "xaxis": {
         "anchor": "y",
         "domain": [
          0.0,
          1.0
         ],
         "tickangle": 45,
         "title": {
          "text": "Endorsee"
         }
        },
        "xaxis2": {
         "anchor": "y2",
         "domain": [
          0.0,
          1.0
         ],
         "tickangle": 45,
         "title": {
          "text": "Endorsee"
         }
        },
        "yaxis": {
         "anchor": "x",
         "domain": [
          0.4475,
          1.0
         ]
        },
        "yaxis2": {
         "anchor": "x2",
         "domain": [
          0.0,
          0.2975
         ],
         "title": {
          "text": "Points"
         },
         "type": "log"
        }
       }
      },
      "text/html": [
       "<div>\n",
       "        \n",
       "        \n",
       "            <div id=\"8c9115ff-0d28-405c-b3b0-8e449f0e0fb3\" class=\"plotly-graph-div\" style=\"height:1350px; width:100%;\"></div>\n",
       "            <script type=\"text/javascript\">\n",
       "                require([\"plotly\"], function(Plotly) {\n",
       "                    window.PLOTLYENV=window.PLOTLYENV || {};\n",
       "                    \n",
       "                if (document.getElementById(\"8c9115ff-0d28-405c-b3b0-8e449f0e0fb3\")) {\n",
       "                    Plotly.newPlot(\n",
       "                        '8c9115ff-0d28-405c-b3b0-8e449f0e0fb3',\n",
       "                        [{\"marker\": {\"color\": [1, 1, 1, 1, 1, 11, 4, 3, 5, 1, 40, 5, 6, 5, 4, 1, 6, 6, 1, 7, 1, 9, 1, 2, 1, 1, 1, 3, 1, 2, 6, 2, 1, 1, 2, 1, 2, 1, 1, 13, 3, 4, 3, 1, 1, 2, 1, 5, 1, 2, 2, 1, 11, 1, 7, 1, 2, 5, 1, 1, 5, 1, 1, 1, 12, 1, 4, 7], \"colorscale\": [[0.0, \"rgb(0, 128, 128)\"], [0.16666666666666666, \"rgb(112, 164, 148)\"], [0.3333333333333333, \"rgb(180, 200, 168)\"], [0.5, \"rgb(246, 237, 189)\"], [0.6666666666666666, \"rgb(237, 187, 138)\"], [0.8333333333333334, \"rgb(222, 138, 90)\"], [1.0, \"rgb(202, 86, 44)\"]], \"opacity\": 0.7, \"showscale\": false, \"size\": [25, 25, 23, 22, 25, 31, 40, 44, 35, 25, 60, 50, 32, 30, 24, 28, 38, 38, 22, 27, 28, 47, 26, 24, 22, 21, 26, 23, 25, 26, 38, 24, 21, 23, 26, 23, 22, 28, 23, 59, 26, 28, 29, 22, 28, 26, 30, 35, 26, 24, 24, 23, 31, 23, 41, 26, 24, 30, 21, 25, 25, 25, 23, 25, 56, 26, 28, 34]}, \"mode\": \"markers+text\", \"text\": [5.0, 5.0, 3.0, 2.0, 5.0, 11.0, 20.0, 24.0, 15.0, 5.0, 120.0, 30.0, 12.0, 10.0, 4.0, 8.0, 18.0, 18.0, 2.0, 7.0, 8.0, 27.0, 6.0, 4.0, 2.0, 1.0, 6.0, 3.0, 5.0, 6.0, 18.0, 4.0, 1.0, 3.0, 6.0, 3.0, 2.0, 8.0, 3.0, 39.0, 6.0, 8.0, 9.0, 2.0, 8.0, 6.0, 10.0, 15.0, 6.0, 4.0, 4.0, 3.0, 11.0, 3.0, 21.0, 6.0, 4.0, 10.0, 1.0, 5.0, 5.0, 5.0, 3.0, 5.0, 36.0, 6.0, 8.0, 14.0], \"textposition\": \"middle center\", \"type\": \"scatter\", \"visible\": true, \"x\": [\"Bennet\", \"Bennet\", \"Bennet\", \"Bennet\", \"Biden\", \"Biden\", \"Biden\", \"Biden\", \"Biden\", \"Biden\", \"Biden\", \"Biden\", \"Biden\", \"Biden\", \"Bloomberg\", \"Bloomberg\", \"Bloomberg\", \"Bloomberg\", \"Bloomberg\", \"Booker\", \"Booker\", \"Booker\", \"Booker\", \"Booker\", \"Booker\", \"Bullock\", \"Bullock\", \"Buttigieg\", \"Buttigieg\", \"Buttigieg\", \"Buttigieg\", \"Buttigieg\", \"Castro\", \"Castro\", \"Delaney\", \"Gillibrand\", \"Harris\", \"Harris\", \"Harris\", \"Harris\", \"Harris\", \"Harris\", \"Inslee\", \"Inslee\", \"Klobuchar\", \"Klobuchar\", \"Klobuchar\", \"Klobuchar\", \"Klobuchar\", \"Klobuchar\", \"Klobuchar\", \"O'Rourke\", \"Sanders\", \"Sanders\", \"Sanders\", \"Sanders\", \"Sanders\", \"Sanders\", \"Steyer\", \"Warren\", \"Warren\", \"Warren\", \"Warren\", \"Warren\", \"Warren\", \"Warren\", \"Warren\", \"Warren\"], \"xaxis\": \"x\", \"y\": [\"Candidates who have dropped out\", \"Former party leaders\", \"Mayors\", \"Statewide officeholders\", \"Candidates who have dropped out\", \"DNC members\", \"Former party leaders\", \"Governors\", \"Mayors\", \"Past nominees\", \"Representatives\", \"Senators\", \"State legislative leaders\", \"Statewide officeholders\", \"DNC members\", \"Governors\", \"Mayors\", \"Representatives\", \"Statewide officeholders\", \"DNC members\", \"Governors\", \"Representatives\", \"Senators\", \"State legislative leaders\", \"Statewide officeholders\", \"DNC members\", \"Senators\", \"DNC members\", \"Former party leaders\", \"Mayors\", \"Representatives\", \"State legislative leaders\", \"DNC members\", \"Mayors\", \"Representatives\", \"Representatives\", \"DNC members\", \"Governors\", \"Mayors\", \"Representatives\", \"State legislative leaders\", \"Statewide officeholders\", \"Representatives\", \"Statewide officeholders\", \"Governors\", \"Mayors\", \"Past presidents and vice presidents\", \"Representatives\", \"Senators\", \"State legislative leaders\", \"Statewide officeholders\", \"Representatives\", \"DNC members\", \"Mayors\", \"Representatives\", \"Senators\", \"State legislative leaders\", \"Statewide officeholders\", \"DNC members\", \"Candidates who have dropped out\", \"DNC members\", \"Former party leaders\", \"Mayors\", \"Past nominees\", \"Representatives\", \"Senators\", \"State legislative leaders\", \"Statewide officeholders\"], \"yaxis\": \"y\"}, {\"marker\": {\"color\": [5, 5, 3, 2, 5, 11, 20, 24, 15, 5, 120, 30, 12, 10, 4, 8, 18, 18, 2, 7, 8, 27, 6, 4, 2, 1, 6, 3, 5, 6, 18, 4, 1, 3, 6, 3, 2, 8, 3, 39, 6, 8, 9, 2, 8, 6, 10, 15, 6, 4, 4, 3, 11, 3, 21, 6, 4, 10, 1, 5, 5, 5, 3, 5, 36, 6, 8, 14], \"colorscale\": [[0.0, \"rgb(0, 128, 128)\"], [0.16666666666666666, \"rgb(112, 164, 148)\"], [0.3333333333333333, \"rgb(180, 200, 168)\"], [0.5, \"rgb(246, 237, 189)\"], [0.6666666666666666, \"rgb(237, 187, 138)\"], [0.8333333333333334, \"rgb(222, 138, 90)\"], [1.0, \"rgb(202, 86, 44)\"]]}, \"text\": [5.0, 5.0, 3.0, 2.0, 5.0, 11.0, 20.0, 24.0, 15.0, 5.0, 120.0, 30.0, 12.0, 10.0, 4.0, 8.0, 18.0, 18.0, 2.0, 7.0, 8.0, 27.0, 6.0, 4.0, 2.0, 1.0, 6.0, 3.0, 5.0, 6.0, 18.0, 4.0, 1.0, 3.0, 6.0, 3.0, 2.0, 8.0, 3.0, 39.0, 6.0, 8.0, 9.0, 2.0, 8.0, 6.0, 10.0, 15.0, 6.0, 4.0, 4.0, 3.0, 11.0, 3.0, 21.0, 6.0, 4.0, 10.0, 1.0, 5.0, 5.0, 5.0, 3.0, 5.0, 36.0, 6.0, 8.0, 14.0], \"textposition\": \"inside\", \"type\": \"bar\", \"visible\": true, \"x\": [\"Bennet\", \"Bennet\", \"Bennet\", \"Bennet\", \"Biden\", \"Biden\", \"Biden\", \"Biden\", \"Biden\", \"Biden\", \"Biden\", \"Biden\", \"Biden\", \"Biden\", \"Bloomberg\", \"Bloomberg\", \"Bloomberg\", \"Bloomberg\", \"Bloomberg\", \"Booker\", \"Booker\", \"Booker\", \"Booker\", \"Booker\", \"Booker\", \"Bullock\", \"Bullock\", \"Buttigieg\", \"Buttigieg\", \"Buttigieg\", \"Buttigieg\", \"Buttigieg\", \"Castro\", \"Castro\", \"Delaney\", \"Gillibrand\", \"Harris\", \"Harris\", \"Harris\", \"Harris\", \"Harris\", \"Harris\", \"Inslee\", \"Inslee\", \"Klobuchar\", \"Klobuchar\", \"Klobuchar\", \"Klobuchar\", \"Klobuchar\", \"Klobuchar\", \"Klobuchar\", \"O'Rourke\", \"Sanders\", \"Sanders\", \"Sanders\", \"Sanders\", \"Sanders\", \"Sanders\", \"Steyer\", \"Warren\", \"Warren\", \"Warren\", \"Warren\", \"Warren\", \"Warren\", \"Warren\", \"Warren\", \"Warren\"], \"xaxis\": \"x2\", \"y\": [5, 5, 3, 2, 5, 11, 20, 24, 15, 5, 120, 30, 12, 10, 4, 8, 18, 18, 2, 7, 8, 27, 6, 4, 2, 1, 6, 3, 5, 6, 18, 4, 1, 3, 6, 3, 2, 8, 3, 39, 6, 8, 9, 2, 8, 6, 10, 15, 6, 4, 4, 3, 11, 3, 21, 6, 4, 10, 1, 5, 5, 5, 3, 5, 36, 6, 8, 14], \"yaxis\": \"y2\"}, {\"marker\": {\"color\": [4, 81, 17, 1, 20, 1, 2, 14, 1, 1, 2, 1, 24, 4, 14, 1, 27, 1, 33], \"colorscale\": [[0.0, \"rgb(0, 128, 128)\"], [0.16666666666666666, \"rgb(112, 164, 148)\"], [0.3333333333333333, \"rgb(180, 200, 168)\"], [0.5, \"rgb(246, 237, 189)\"], [0.6666666666666666, \"rgb(237, 187, 138)\"], [0.8333333333333334, \"rgb(222, 138, 90)\"], [1.0, \"rgb(202, 86, 44)\"]], \"opacity\": 0.7, \"showscale\": false, \"size\": [35, 60, 67, 23, 60, 23, 27, 56, 21, 23, 26, 23, 60, 31, 60, 23, 60, 21, 60]}, \"mode\": \"markers+text\", \"text\": [15.0, 252.0, 47.0, 3.0, 51.0, 3.0, 7.0, 36.0, 1.0, 3.0, 6.0, 3.0, 66.0, 11.0, 53.0, 3.0, 55.0, 1.0, 87.0], \"textposition\": \"middle center\", \"type\": \"scatter\", \"visible\": false, \"x\": [\"Bennet\", \"Biden\", \"Bloomberg\", \"Bloomberg\", \"Booker\", \"Booker\", \"Bullock\", \"Buttigieg\", \"Castro\", \"Castro\", \"Delaney\", \"Gillibrand\", \"Harris\", \"Inslee\", \"Klobuchar\", \"O'Rourke\", \"Sanders\", \"Steyer\", \"Warren\"], \"xaxis\": \"x\", \"y\": [\"D\", \"D\", \"D\", \"None\", \"D\", \"R\", \"D\", \"D\", \"D\", \"None\", \"D\", \"D\", \"D\", \"D\", \"D\", \"D\", \"D\", \"D\", \"D\"], \"yaxis\": \"y\"}, {\"marker\": {\"color\": [15, 252, 47, 3, 51, 3, 7, 36, 1, 3, 6, 3, 66, 11, 53, 3, 55, 1, 87], \"colorscale\": [[0.0, \"rgb(0, 128, 128)\"], [0.16666666666666666, \"rgb(112, 164, 148)\"], [0.3333333333333333, \"rgb(180, 200, 168)\"], [0.5, \"rgb(246, 237, 189)\"], [0.6666666666666666, \"rgb(237, 187, 138)\"], [0.8333333333333334, \"rgb(222, 138, 90)\"], [1.0, \"rgb(202, 86, 44)\"]]}, \"text\": [15.0, 252.0, 47.0, 3.0, 51.0, 3.0, 7.0, 36.0, 1.0, 3.0, 6.0, 3.0, 66.0, 11.0, 53.0, 3.0, 55.0, 1.0, 87.0], \"textposition\": \"inside\", \"type\": \"bar\", \"visible\": false, \"x\": [\"Bennet\", \"Biden\", \"Bloomberg\", \"Bloomberg\", \"Booker\", \"Booker\", \"Bullock\", \"Buttigieg\", \"Castro\", \"Castro\", \"Delaney\", \"Gillibrand\", \"Harris\", \"Inslee\", \"Klobuchar\", \"O'Rourke\", \"Sanders\", \"Steyer\", \"Warren\"], \"xaxis\": \"x2\", \"y\": [15, 252, 47, 3, 51, 3, 7, 36, 1, 3, 6, 3, 66, 11, 53, 3, 55, 1, 87], \"yaxis\": \"y2\"}, {\"marker\": {\"color\": [4, 2, 1, 12, 1, 3, 2, 5, 5, 2, 4, 2, 1, 4, 2, 1, 1, 2, 3, 2, 1, 3, 1, 1, 7, 1, 2, 1, 1, 5, 3, 8, 1, 1, 1, 1, 1, 1, 1, 1, 1, 1, 1, 19, 1, 1, 1, 1, 1, 1, 1, 1, 1, 1, 1, 1, 2, 1, 1, 1, 2, 1, 1, 1, 1, 14, 1, 1, 1, 1, 1, 1, 2, 1, 4, 1, 13, 1, 2, 2, 2, 1, 1, 2, 2, 2, 1, 1, 1, 8, 1, 1, 1, 1, 1, 2, 2, 2, 10, 1, 2, 1, 1, 3, 2, 1, 4], \"colorscale\": [[0.0, \"rgb(0, 128, 128)\"], [0.16666666666666666, \"rgb(112, 164, 148)\"], [0.3333333333333333, \"rgb(180, 200, 168)\"], [0.5, \"rgb(246, 237, 189)\"], [0.6666666666666666, \"rgb(237, 187, 138)\"], [0.8333333333333334, \"rgb(222, 138, 90)\"], [1.0, \"rgb(202, 86, 44)\"]], \"opacity\": 0.7, \"showscale\": false, \"size\": [35, 29, 22, 54, 22, 35, 22, 45, 34, 26, 29, 26, 23, 36, 24, 23, 22, 26, 24, 26, 23, 34, 25, 23, 46, 21, 24, 25, 21, 35, 27, 41, 28, 23, 23, 23, 23, 21, 23, 21, 23, 21, 21, 60, 21, 21, 26, 21, 23, 23, 25, 23, 21, 22, 23, 23, 24, 22, 23, 23, 24, 23, 23, 23, 23, 60, 23, 22, 22, 23, 23, 23, 24, 23, 31, 23, 60, 23, 24, 22, 22, 21, 22, 24, 25, 22, 23, 21, 23, 40, 23, 23, 21, 23, 23, 24, 24, 25, 51, 23, 28, 21, 23, 24, 24, 23, 31]}, \"mode\": \"markers+text\", \"text\": [15.0, 9.0, 2.0, 34.0, 2.0, 15.0, 2.0, 25.0, 14.0, 6.0, 9.0, 6.0, 3.0, 16.0, 4.0, 3.0, 2.0, 6.0, 4.0, 6.0, 3.0, 14.0, 5.0, 3.0, 26.0, 1.0, 4.0, 5.0, 1.0, 15.0, 7.0, 21.0, 8.0, 3.0, 3.0, 3.0, 3.0, 1.0, 3.0, 1.0, 3.0, 1.0, 1.0, 52.0, 1.0, 1.0, 6.0, 1.0, 3.0, 3.0, 5.0, 3.0, 1.0, 2.0, 3.0, 3.0, 4.0, 2.0, 3.0, 3.0, 4.0, 3.0, 3.0, 3.0, 3.0, 40.0, 3.0, 2.0, 2.0, 3.0, 3.0, 3.0, 4.0, 3.0, 11.0, 3.0, 50.0, 3.0, 4.0, 2.0, 2.0, 1.0, 2.0, 4.0, 5.0, 2.0, 3.0, 1.0, 3.0, 20.0, 3.0, 3.0, 1.0, 3.0, 3.0, 4.0, 4.0, 5.0, 31.0, 3.0, 8.0, 1.0, 3.0, 4.0, 4.0, 3.0, 11.0], \"textposition\": \"middle center\", \"type\": \"scatter\", \"visible\": false, \"x\": [\"Bennet\", \"Biden\", \"Biden\", \"Biden\", \"Biden\", \"Biden\", \"Biden\", \"Biden\", \"Biden\", \"Biden\", \"Biden\", \"Biden\", \"Biden\", \"Biden\", \"Biden\", \"Biden\", \"Biden\", \"Biden\", \"Biden\", \"Biden\", \"Biden\", \"Biden\", \"Biden\", \"Biden\", \"Biden\", \"Biden\", \"Biden\", \"Biden\", \"Biden\", \"Biden\", \"Biden\", \"Bloomberg\", \"Bloomberg\", \"Bloomberg\", \"Bloomberg\", \"Bloomberg\", \"Bloomberg\", \"Bloomberg\", \"Bloomberg\", \"Bloomberg\", \"Bloomberg\", \"Bloomberg\", \"Booker\", \"Booker\", \"Booker\", \"Bullock\", \"Bullock\", \"Buttigieg\", \"Buttigieg\", \"Buttigieg\", \"Buttigieg\", \"Buttigieg\", \"Buttigieg\", \"Buttigieg\", \"Buttigieg\", \"Buttigieg\", \"Buttigieg\", \"Buttigieg\", \"Buttigieg\", \"Buttigieg\", \"Castro\", \"Delaney\", \"Delaney\", \"Gillibrand\", \"Harris\", \"Harris\", \"Harris\", \"Harris\", \"Harris\", \"Harris\", \"Harris\", \"Harris\", \"Harris\", \"Harris\", \"Inslee\", \"Klobuchar\", \"Klobuchar\", \"O'Rourke\", \"Sanders\", \"Sanders\", \"Sanders\", \"Sanders\", \"Sanders\", \"Sanders\", \"Sanders\", \"Sanders\", \"Sanders\", \"Sanders\", \"Sanders\", \"Sanders\", \"Sanders\", \"Sanders\", \"Steyer\", \"Warren\", \"Warren\", \"Warren\", \"Warren\", \"Warren\", \"Warren\", \"Warren\", \"Warren\", \"Warren\", \"Warren\", \"Warren\", \"Warren\", \"Warren\", \"Warren\"], \"xaxis\": \"x\", \"y\": [\"CO\", \"AL\", \"AR\", \"CA\", \"CO\", \"CT\", \"DC\", \"DE\", \"FL\", \"GA\", \"IA\", \"IL\", \"LA\", \"MA\", \"MI\", \"MO\", \"MS\", \"NC\", \"NH\", \"NJ\", \"NV\", \"NY\", \"OH\", \"OR\", \"PA\", \"PR\", \"RI\", \"SD\", \"TN\", \"TX\", \"VA\", \"CA\", \"DC\", \"FL\", \"IL\", \"KY\", \"NY\", \"PA\", \"TN\", \"TX\", \"UT\", \"WI\", \"FL\", \"NJ\", \"SC\", \"IA\", \"MT\", \"DC\", \"IA\", \"IN\", \"MA\", \"MD\", \"MI\", \"ND\", \"NH\", \"NY\", \"OH\", \"TN\", \"TX\", \"VA\", \"TX\", \"CA\", \"MD\", \"NY\", \"AZ\", \"CA\", \"CT\", \"DC\", \"GA\", \"MI\", \"MO\", \"OH\", \"TX\", \"VI\", \"WA\", \"CA\", \"MN\", \"TX\", \"CA\", \"CO\", \"DC\", \"GA\", \"ME\", \"MI\", \"MN\", \"MO\", \"NY\", \"OH\", \"PR\", \"VT\", \"WA\", \"WI\", \"DC\", \"AZ\", \"CA\", \"CT\", \"IA\", \"IL\", \"MA\", \"MD\", \"MI\", \"NH\", \"NM\", \"NV\", \"OR\", \"PA\", \"TX\"], \"yaxis\": \"y\"}, {\"marker\": {\"color\": [15, 9, 2, 34, 2, 15, 2, 25, 14, 6, 9, 6, 3, 16, 4, 3, 2, 6, 4, 6, 3, 14, 5, 3, 26, 1, 4, 5, 1, 15, 7, 21, 8, 3, 3, 3, 3, 1, 3, 1, 3, 1, 1, 52, 1, 1, 6, 1, 3, 3, 5, 3, 1, 2, 3, 3, 4, 2, 3, 3, 4, 3, 3, 3, 3, 40, 3, 2, 2, 3, 3, 3, 4, 3, 11, 3, 50, 3, 4, 2, 2, 1, 2, 4, 5, 2, 3, 1, 3, 20, 3, 3, 1, 3, 3, 4, 4, 5, 31, 3, 8, 1, 3, 4, 4, 3, 11], \"colorscale\": [[0.0, \"rgb(0, 128, 128)\"], [0.16666666666666666, \"rgb(112, 164, 148)\"], [0.3333333333333333, \"rgb(180, 200, 168)\"], [0.5, \"rgb(246, 237, 189)\"], [0.6666666666666666, \"rgb(237, 187, 138)\"], [0.8333333333333334, \"rgb(222, 138, 90)\"], [1.0, \"rgb(202, 86, 44)\"]]}, \"text\": [15.0, 9.0, 2.0, 34.0, 2.0, 15.0, 2.0, 25.0, 14.0, 6.0, 9.0, 6.0, 3.0, 16.0, 4.0, 3.0, 2.0, 6.0, 4.0, 6.0, 3.0, 14.0, 5.0, 3.0, 26.0, 1.0, 4.0, 5.0, 1.0, 15.0, 7.0, 21.0, 8.0, 3.0, 3.0, 3.0, 3.0, 1.0, 3.0, 1.0, 3.0, 1.0, 1.0, 52.0, 1.0, 1.0, 6.0, 1.0, 3.0, 3.0, 5.0, 3.0, 1.0, 2.0, 3.0, 3.0, 4.0, 2.0, 3.0, 3.0, 4.0, 3.0, 3.0, 3.0, 3.0, 40.0, 3.0, 2.0, 2.0, 3.0, 3.0, 3.0, 4.0, 3.0, 11.0, 3.0, 50.0, 3.0, 4.0, 2.0, 2.0, 1.0, 2.0, 4.0, 5.0, 2.0, 3.0, 1.0, 3.0, 20.0, 3.0, 3.0, 1.0, 3.0, 3.0, 4.0, 4.0, 5.0, 31.0, 3.0, 8.0, 1.0, 3.0, 4.0, 4.0, 3.0, 11.0], \"textposition\": \"inside\", \"type\": \"bar\", \"visible\": false, \"x\": [\"Bennet\", \"Biden\", \"Biden\", \"Biden\", \"Biden\", \"Biden\", \"Biden\", \"Biden\", \"Biden\", \"Biden\", \"Biden\", \"Biden\", \"Biden\", \"Biden\", \"Biden\", \"Biden\", \"Biden\", \"Biden\", \"Biden\", \"Biden\", \"Biden\", \"Biden\", \"Biden\", \"Biden\", \"Biden\", \"Biden\", \"Biden\", \"Biden\", \"Biden\", \"Biden\", \"Biden\", \"Bloomberg\", \"Bloomberg\", \"Bloomberg\", \"Bloomberg\", \"Bloomberg\", \"Bloomberg\", \"Bloomberg\", \"Bloomberg\", \"Bloomberg\", \"Bloomberg\", \"Bloomberg\", \"Booker\", \"Booker\", \"Booker\", \"Bullock\", \"Bullock\", \"Buttigieg\", \"Buttigieg\", \"Buttigieg\", \"Buttigieg\", \"Buttigieg\", \"Buttigieg\", \"Buttigieg\", \"Buttigieg\", \"Buttigieg\", \"Buttigieg\", \"Buttigieg\", \"Buttigieg\", \"Buttigieg\", \"Castro\", \"Delaney\", \"Delaney\", \"Gillibrand\", \"Harris\", \"Harris\", \"Harris\", \"Harris\", \"Harris\", \"Harris\", \"Harris\", \"Harris\", \"Harris\", \"Harris\", \"Inslee\", \"Klobuchar\", \"Klobuchar\", \"O'Rourke\", \"Sanders\", \"Sanders\", \"Sanders\", \"Sanders\", \"Sanders\", \"Sanders\", \"Sanders\", \"Sanders\", \"Sanders\", \"Sanders\", \"Sanders\", \"Sanders\", \"Sanders\", \"Sanders\", \"Steyer\", \"Warren\", \"Warren\", \"Warren\", \"Warren\", \"Warren\", \"Warren\", \"Warren\", \"Warren\", \"Warren\", \"Warren\", \"Warren\", \"Warren\", \"Warren\", \"Warren\"], \"xaxis\": \"x2\", \"y\": [15, 9, 2, 34, 2, 15, 2, 25, 14, 6, 9, 6, 3, 16, 4, 3, 2, 6, 4, 6, 3, 14, 5, 3, 26, 1, 4, 5, 1, 15, 7, 21, 8, 3, 3, 3, 3, 1, 3, 1, 3, 1, 1, 52, 1, 1, 6, 1, 3, 3, 5, 3, 1, 2, 3, 3, 4, 2, 3, 3, 4, 3, 3, 3, 3, 40, 3, 2, 2, 3, 3, 3, 4, 3, 11, 3, 50, 3, 4, 2, 2, 1, 2, 4, 5, 2, 3, 1, 3, 20, 3, 3, 1, 3, 3, 4, 4, 5, 31, 3, 8, 1, 3, 4, 4, 3, 11], \"yaxis\": \"y2\"}],\n",
       "                        {\"annotations\": [{\"align\": \"left\", \"showarrow\": false, \"text\": \"Select Aggregation\", \"x\": -0.12, \"xref\": \"paper\", \"y\": 1.06, \"yref\": \"paper\"}], \"height\": 1350, \"showlegend\": false, \"template\": {\"data\": {\"bar\": [{\"error_x\": {\"color\": \"#2a3f5f\"}, \"error_y\": {\"color\": \"#2a3f5f\"}, \"marker\": {\"line\": {\"color\": \"#E5ECF6\", \"width\": 0.5}}, \"type\": \"bar\"}], \"barpolar\": [{\"marker\": {\"line\": {\"color\": \"#E5ECF6\", \"width\": 0.5}}, \"type\": \"barpolar\"}], \"carpet\": [{\"aaxis\": {\"endlinecolor\": \"#2a3f5f\", \"gridcolor\": \"white\", \"linecolor\": \"white\", \"minorgridcolor\": \"white\", \"startlinecolor\": \"#2a3f5f\"}, \"baxis\": {\"endlinecolor\": \"#2a3f5f\", \"gridcolor\": \"white\", \"linecolor\": \"white\", \"minorgridcolor\": \"white\", \"startlinecolor\": \"#2a3f5f\"}, \"type\": \"carpet\"}], \"choropleth\": [{\"colorbar\": {\"outlinewidth\": 0, \"ticks\": \"\"}, \"type\": \"choropleth\"}], \"contour\": [{\"colorbar\": {\"outlinewidth\": 0, \"ticks\": \"\"}, \"colorscale\": [[0.0, \"#0d0887\"], [0.1111111111111111, \"#46039f\"], [0.2222222222222222, \"#7201a8\"], [0.3333333333333333, \"#9c179e\"], [0.4444444444444444, \"#bd3786\"], [0.5555555555555556, \"#d8576b\"], [0.6666666666666666, \"#ed7953\"], [0.7777777777777778, \"#fb9f3a\"], [0.8888888888888888, \"#fdca26\"], [1.0, \"#f0f921\"]], \"type\": \"contour\"}], \"contourcarpet\": [{\"colorbar\": {\"outlinewidth\": 0, \"ticks\": \"\"}, \"type\": \"contourcarpet\"}], \"heatmap\": [{\"colorbar\": {\"outlinewidth\": 0, \"ticks\": \"\"}, \"colorscale\": [[0.0, \"#0d0887\"], [0.1111111111111111, \"#46039f\"], [0.2222222222222222, \"#7201a8\"], [0.3333333333333333, \"#9c179e\"], [0.4444444444444444, \"#bd3786\"], [0.5555555555555556, \"#d8576b\"], [0.6666666666666666, \"#ed7953\"], [0.7777777777777778, \"#fb9f3a\"], [0.8888888888888888, \"#fdca26\"], [1.0, \"#f0f921\"]], \"type\": \"heatmap\"}], \"heatmapgl\": [{\"colorbar\": {\"outlinewidth\": 0, \"ticks\": \"\"}, \"colorscale\": [[0.0, \"#0d0887\"], [0.1111111111111111, \"#46039f\"], [0.2222222222222222, \"#7201a8\"], [0.3333333333333333, \"#9c179e\"], [0.4444444444444444, \"#bd3786\"], [0.5555555555555556, \"#d8576b\"], [0.6666666666666666, \"#ed7953\"], [0.7777777777777778, \"#fb9f3a\"], [0.8888888888888888, \"#fdca26\"], [1.0, \"#f0f921\"]], \"type\": \"heatmapgl\"}], \"histogram\": [{\"marker\": {\"colorbar\": {\"outlinewidth\": 0, \"ticks\": \"\"}}, \"type\": \"histogram\"}], \"histogram2d\": [{\"colorbar\": {\"outlinewidth\": 0, \"ticks\": \"\"}, \"colorscale\": [[0.0, \"#0d0887\"], [0.1111111111111111, \"#46039f\"], [0.2222222222222222, \"#7201a8\"], [0.3333333333333333, \"#9c179e\"], [0.4444444444444444, \"#bd3786\"], [0.5555555555555556, \"#d8576b\"], [0.6666666666666666, \"#ed7953\"], [0.7777777777777778, \"#fb9f3a\"], [0.8888888888888888, \"#fdca26\"], [1.0, \"#f0f921\"]], \"type\": \"histogram2d\"}], \"histogram2dcontour\": [{\"colorbar\": {\"outlinewidth\": 0, \"ticks\": \"\"}, \"colorscale\": [[0.0, \"#0d0887\"], [0.1111111111111111, \"#46039f\"], [0.2222222222222222, \"#7201a8\"], [0.3333333333333333, \"#9c179e\"], [0.4444444444444444, \"#bd3786\"], [0.5555555555555556, \"#d8576b\"], [0.6666666666666666, \"#ed7953\"], [0.7777777777777778, \"#fb9f3a\"], [0.8888888888888888, \"#fdca26\"], [1.0, \"#f0f921\"]], \"type\": \"histogram2dcontour\"}], \"mesh3d\": [{\"colorbar\": {\"outlinewidth\": 0, \"ticks\": \"\"}, \"type\": \"mesh3d\"}], \"parcoords\": [{\"line\": {\"colorbar\": {\"outlinewidth\": 0, \"ticks\": \"\"}}, \"type\": \"parcoords\"}], \"pie\": [{\"automargin\": true, \"type\": \"pie\"}], \"scatter\": [{\"marker\": {\"colorbar\": {\"outlinewidth\": 0, \"ticks\": \"\"}}, \"type\": \"scatter\"}], \"scatter3d\": [{\"line\": {\"colorbar\": {\"outlinewidth\": 0, \"ticks\": \"\"}}, \"marker\": {\"colorbar\": {\"outlinewidth\": 0, \"ticks\": \"\"}}, \"type\": \"scatter3d\"}], \"scattercarpet\": [{\"marker\": {\"colorbar\": {\"outlinewidth\": 0, \"ticks\": \"\"}}, \"type\": \"scattercarpet\"}], \"scattergeo\": [{\"marker\": {\"colorbar\": {\"outlinewidth\": 0, \"ticks\": \"\"}}, \"type\": \"scattergeo\"}], \"scattergl\": [{\"marker\": {\"colorbar\": {\"outlinewidth\": 0, \"ticks\": \"\"}}, \"type\": \"scattergl\"}], \"scattermapbox\": [{\"marker\": {\"colorbar\": {\"outlinewidth\": 0, \"ticks\": \"\"}}, \"type\": \"scattermapbox\"}], \"scatterpolar\": [{\"marker\": {\"colorbar\": {\"outlinewidth\": 0, \"ticks\": \"\"}}, \"type\": \"scatterpolar\"}], \"scatterpolargl\": [{\"marker\": {\"colorbar\": {\"outlinewidth\": 0, \"ticks\": \"\"}}, \"type\": \"scatterpolargl\"}], \"scatterternary\": [{\"marker\": {\"colorbar\": {\"outlinewidth\": 0, \"ticks\": \"\"}}, \"type\": \"scatterternary\"}], \"surface\": [{\"colorbar\": {\"outlinewidth\": 0, \"ticks\": \"\"}, \"colorscale\": [[0.0, \"#0d0887\"], [0.1111111111111111, \"#46039f\"], [0.2222222222222222, \"#7201a8\"], [0.3333333333333333, \"#9c179e\"], [0.4444444444444444, \"#bd3786\"], [0.5555555555555556, \"#d8576b\"], [0.6666666666666666, \"#ed7953\"], [0.7777777777777778, \"#fb9f3a\"], [0.8888888888888888, \"#fdca26\"], [1.0, \"#f0f921\"]], \"type\": \"surface\"}], \"table\": [{\"cells\": {\"fill\": {\"color\": \"#EBF0F8\"}, \"line\": {\"color\": \"white\"}}, \"header\": {\"fill\": {\"color\": \"#C8D4E3\"}, \"line\": {\"color\": \"white\"}}, \"type\": \"table\"}]}, \"layout\": {\"annotationdefaults\": {\"arrowcolor\": \"#2a3f5f\", \"arrowhead\": 0, \"arrowwidth\": 1}, \"coloraxis\": {\"colorbar\": {\"outlinewidth\": 0, \"ticks\": \"\"}}, \"colorscale\": {\"diverging\": [[0, \"#8e0152\"], [0.1, \"#c51b7d\"], [0.2, \"#de77ae\"], [0.3, \"#f1b6da\"], [0.4, \"#fde0ef\"], [0.5, \"#f7f7f7\"], [0.6, \"#e6f5d0\"], [0.7, \"#b8e186\"], [0.8, \"#7fbc41\"], [0.9, \"#4d9221\"], [1, \"#276419\"]], \"sequential\": [[0.0, \"#0d0887\"], [0.1111111111111111, \"#46039f\"], [0.2222222222222222, \"#7201a8\"], [0.3333333333333333, \"#9c179e\"], [0.4444444444444444, \"#bd3786\"], [0.5555555555555556, \"#d8576b\"], [0.6666666666666666, \"#ed7953\"], [0.7777777777777778, \"#fb9f3a\"], [0.8888888888888888, \"#fdca26\"], [1.0, \"#f0f921\"]], \"sequentialminus\": [[0.0, \"#0d0887\"], [0.1111111111111111, \"#46039f\"], [0.2222222222222222, \"#7201a8\"], [0.3333333333333333, \"#9c179e\"], [0.4444444444444444, \"#bd3786\"], [0.5555555555555556, \"#d8576b\"], [0.6666666666666666, \"#ed7953\"], [0.7777777777777778, \"#fb9f3a\"], [0.8888888888888888, \"#fdca26\"], [1.0, \"#f0f921\"]]}, \"colorway\": [\"#636efa\", \"#EF553B\", \"#00cc96\", \"#ab63fa\", \"#FFA15A\", \"#19d3f3\", \"#FF6692\", \"#B6E880\", \"#FF97FF\", \"#FECB52\"], \"font\": {\"color\": \"#2a3f5f\"}, \"geo\": {\"bgcolor\": \"white\", \"lakecolor\": \"white\", \"landcolor\": \"#E5ECF6\", \"showlakes\": true, \"showland\": true, \"subunitcolor\": \"white\"}, \"hoverlabel\": {\"align\": \"left\"}, \"hovermode\": \"closest\", \"mapbox\": {\"style\": \"light\"}, \"paper_bgcolor\": \"white\", \"plot_bgcolor\": \"#E5ECF6\", \"polar\": {\"angularaxis\": {\"gridcolor\": \"white\", \"linecolor\": \"white\", \"ticks\": \"\"}, \"bgcolor\": \"#E5ECF6\", \"radialaxis\": {\"gridcolor\": \"white\", \"linecolor\": \"white\", \"ticks\": \"\"}}, \"scene\": {\"xaxis\": {\"backgroundcolor\": \"#E5ECF6\", \"gridcolor\": \"white\", \"gridwidth\": 2, \"linecolor\": \"white\", \"showbackground\": true, \"ticks\": \"\", \"zerolinecolor\": \"white\"}, \"yaxis\": {\"backgroundcolor\": \"#E5ECF6\", \"gridcolor\": \"white\", \"gridwidth\": 2, \"linecolor\": \"white\", \"showbackground\": true, \"ticks\": \"\", \"zerolinecolor\": \"white\"}, \"zaxis\": {\"backgroundcolor\": \"#E5ECF6\", \"gridcolor\": \"white\", \"gridwidth\": 2, \"linecolor\": \"white\", \"showbackground\": true, \"ticks\": \"\", \"zerolinecolor\": \"white\"}}, \"shapedefaults\": {\"line\": {\"color\": \"#2a3f5f\"}}, \"ternary\": {\"aaxis\": {\"gridcolor\": \"white\", \"linecolor\": \"white\", \"ticks\": \"\"}, \"baxis\": {\"gridcolor\": \"white\", \"linecolor\": \"white\", \"ticks\": \"\"}, \"bgcolor\": \"#E5ECF6\", \"caxis\": {\"gridcolor\": \"white\", \"linecolor\": \"white\", \"ticks\": \"\"}}, \"title\": {\"x\": 0.05}, \"xaxis\": {\"automargin\": true, \"gridcolor\": \"white\", \"linecolor\": \"white\", \"ticks\": \"\", \"title\": {\"standoff\": 15}, \"zerolinecolor\": \"white\", \"zerolinewidth\": 2}, \"yaxis\": {\"automargin\": true, \"gridcolor\": \"white\", \"linecolor\": \"white\", \"ticks\": \"\", \"title\": {\"standoff\": 15}, \"zerolinecolor\": \"white\", \"zerolinewidth\": 2}}}, \"updatemenus\": [{\"active\": 0, \"buttons\": [{\"args\": [{\"visible\": [true, true, false, false, false, false]}, {\"title\": {\"text\": \"Points by Category\", \"x\": 0.5, \"xanchor\": \"center\", \"y\": 0.95, \"yanchor\": \"top\"}}], \"label\": \"Category\", \"method\": \"update\"}, {\"args\": [{\"visible\": [false, false, true, true, false, false]}, {\"title\": {\"text\": \"Points by Party\", \"x\": 0.5, \"xanchor\": \"center\", \"y\": 0.95, \"yanchor\": \"top\"}}], \"label\": \"Party\", \"method\": \"update\"}, {\"args\": [{\"visible\": [false, false, false, false, true, true]}, {\"title\": {\"text\": \"Points by State\", \"x\": 0.5, \"xanchor\": \"center\", \"y\": 0.95, \"yanchor\": \"top\"}}], \"label\": \"State\", \"method\": \"update\"}], \"direction\": \"right\", \"pad\": {\"r\": 10, \"t\": 10}, \"x\": 0.15, \"xanchor\": \"left\", \"y\": 1.08, \"yanchor\": \"top\"}], \"xaxis\": {\"anchor\": \"y\", \"domain\": [0.0, 1.0], \"tickangle\": 45, \"title\": {\"text\": \"Endorsee\"}}, \"xaxis2\": {\"anchor\": \"y2\", \"domain\": [0.0, 1.0], \"tickangle\": 45, \"title\": {\"text\": \"Endorsee\"}}, \"yaxis\": {\"anchor\": \"x\", \"domain\": [0.4475, 1.0]}, \"yaxis2\": {\"anchor\": \"x2\", \"domain\": [0.0, 0.2975], \"title\": {\"text\": \"Points\"}, \"type\": \"log\"}},\n",
       "                        {\"responsive\": true}\n",
       "                    ).then(function(){\n",
       "                            \n",
       "var gd = document.getElementById('8c9115ff-0d28-405c-b3b0-8e449f0e0fb3');\n",
       "var x = new MutationObserver(function (mutations, observer) {{\n",
       "        var display = window.getComputedStyle(gd).display;\n",
       "        if (!display || display === 'none') {{\n",
       "            console.log([gd, 'removed!']);\n",
       "            Plotly.purge(gd);\n",
       "            observer.disconnect();\n",
       "        }}\n",
       "}});\n",
       "\n",
       "// Listen for the removal of the full notebook cells\n",
       "var notebookContainer = gd.closest('#notebook-container');\n",
       "if (notebookContainer) {{\n",
       "    x.observe(notebookContainer, {childList: true});\n",
       "}}\n",
       "\n",
       "// Listen for the clearing of the current output cell\n",
       "var outputEl = gd.closest('.output');\n",
       "if (outputEl) {{\n",
       "    x.observe(outputEl, {childList: true});\n",
       "}}\n",
       "\n",
       "                        })\n",
       "                };\n",
       "                });\n",
       "            </script>\n",
       "        </div>"
      ]
     },
     "metadata": {},
     "output_type": "display_data"
    }
   ],
   "source": [
    "cols = ['category', 'party', 'state']\n",
    "d={}\n",
    "\n",
    "for c in cols:\n",
    "    tmp = endorsee_df.groupby(['endorsee', c]).agg({'points':'sum', 'endorser':'count'}).reset_index()\n",
    "    tmp.rename(columns={'points': f'pt_by_{c}', 'endorser': f'votes_by_{c}'}, inplace=True)\n",
    "    d[c] = tmp\n",
    "    \n",
    "    \n",
    "n_plots=2\n",
    "l=len(cols)\n",
    "buttons=[]\n",
    "\n",
    "fig = make_subplots(\n",
    "    rows=2, cols=1,\n",
    "    specs=[[{}],\n",
    "           [{}]],\n",
    "    row_heights=[0.65, 0.35]\n",
    ")\n",
    "\n",
    "\n",
    "for i,c in enumerate(cols):\n",
    "\n",
    "    visible = [False]*l*n_plots\n",
    "    visible[i*n_plots:(i+1)*n_plots] = [True]*n_plots\n",
    "\n",
    "    tmp = d[c]\n",
    "    \n",
    "    fig.add_trace( \n",
    "        go.Scatter(\n",
    "            y=tmp[c],\n",
    "            x=tmp['endorsee'],\n",
    "            mode='markers+text',\n",
    "            marker=dict(\n",
    "                size=np.where(tmp[f'pt_by_{c}']<50, tmp[f'pt_by_{c}']+20, 60),\n",
    "                color=tmp[f'votes_by_{c}'],\n",
    "                colorscale='geyser',\n",
    "                showscale=False,\n",
    "                opacity = 0.7),\n",
    "            text=tmp[f'pt_by_{c}'],\n",
    "            visible=True if i==0 else False,\n",
    "            textposition='middle center'),\n",
    "        row=1, col=1)\n",
    "\n",
    "    fig.add_trace(\n",
    "        go.Bar(\n",
    "            x=tmp['endorsee'],\n",
    "            y=tmp[f'pt_by_{c}'],\n",
    "            text = tmp[f'pt_by_{c}'],\n",
    "            textposition='inside',\n",
    "            visible=True if i==0 else False,\n",
    "            marker=dict(\n",
    "                color=tmp[f'pt_by_{c}'],\n",
    "                colorscale='geyser')),\n",
    "        row=2, col=1)\n",
    "\n",
    "    buttons.append(\n",
    "        dict(label= ' '.join([s.capitalize() for s in c.split('_')]),\n",
    "             method='update',\n",
    "             args=[{'visible': visible},\n",
    "                   {'title': {'text': 'Points by ' + [s.capitalize() for s in c.split(\"_\")][-1],\n",
    "                              'y':0.95, 'x':0.5, 'xanchor': 'center', 'yanchor': 'top'},\n",
    "                   #'yaxis1': {'title': f'Endorser {c.capitalize()}'},\n",
    "                   #'yaxis2': {'title': f'Points by Endorser {c.capitalize()}'}\n",
    "                   }]\n",
    "            )\n",
    "        )\n",
    "\n",
    "    \n",
    "fig.update_layout(\n",
    "      height=1350,\n",
    "      showlegend=False,\n",
    "      xaxis1=dict(tickangle=45, title='Endorsee'),\n",
    "      #yaxis1=dict(title='Endorsee Category'),\n",
    "      xaxis2=dict(tickangle=45, title='Endorsee'),\n",
    "      yaxis2=dict(title='Points', type='log'),\n",
    "      updatemenus = list([\n",
    "          dict(active=0,\n",
    "             buttons=buttons,\n",
    "             direction=\"right\",\n",
    "             pad={\"r\": 10, \"t\": 10},\n",
    "             #showactive=True,\n",
    "             x=0.15,\n",
    "             xanchor=\"left\",\n",
    "             y=1.08,\n",
    "             yanchor=\"top\"\n",
    "         )\n",
    "     ]),\n",
    "    annotations=[\n",
    "        go.layout.Annotation(text=\"Select Aggregation\", x=-0.12, xref=\"paper\", y=1.06, yref=\"paper\",\n",
    "                             align=\"left\", showarrow=False),\n",
    "    ])\n",
    "    \n",
    "\n",
    "fig.show()"
   ]
  },
  {
   "cell_type": "markdown",
   "metadata": {},
   "source": [
    "Takeaways:\n",
    " 1. Category:\n",
    "     * Bloomberg has the highest points by majors endorsers.\n",
    "     * Warren has the highest points from statewide officeholders.\n",
    "     * Klobuchar is the only one with points coming from endorsement of past president or vicepresident.\n",
    "     * For every other category, Biden gets the highest score.\n",
    " 2. Party:\n",
    "     * All endorsers except 3 are Democrats.\n",
    "     * Booker is the only one endorsed by a Republican.\n",
    " 3. State:\n",
    "     * California is split between Biden and Harris\n",
    "     * Booker is strong in New Jersey, Harris is California, Klobuchar in Minnesota, Warren in Massachusetts.\n",
    "     * Biden has votes from 29 states, followed by Warren from 14, Sanders and Buttigieg from 13."
   ]
  },
  {
   "cell_type": "markdown",
   "metadata": {},
   "source": [
    "<a id=\"noend\"></a>\n",
    "# Endorsers with no Endorsee Analysis\n",
    "\n",
    "Let's plot what's the \"bivariate distribution\" of Endorsers which did not endorse any candidate."
   ]
  },
  {
   "cell_type": "code",
   "execution_count": 17,
   "metadata": {},
   "outputs": [
    {
     "data": {
      "text/html": [
       "<div>\n",
       "<style scoped>\n",
       "    .dataframe tbody tr th:only-of-type {\n",
       "        vertical-align: middle;\n",
       "    }\n",
       "\n",
       "    .dataframe tbody tr th {\n",
       "        vertical-align: top;\n",
       "    }\n",
       "\n",
       "    .dataframe thead th {\n",
       "        text-align: right;\n",
       "    }\n",
       "</style>\n",
       "<table border=\"1\" class=\"dataframe\">\n",
       "  <thead>\n",
       "    <tr style=\"text-align: right;\">\n",
       "      <th></th>\n",
       "      <th>date</th>\n",
       "      <th>position</th>\n",
       "      <th>state</th>\n",
       "      <th>endorser</th>\n",
       "      <th>endorsee</th>\n",
       "      <th>party</th>\n",
       "      <th>category</th>\n",
       "      <th>points</th>\n",
       "      <th>source</th>\n",
       "      <th>full_state</th>\n",
       "    </tr>\n",
       "  </thead>\n",
       "  <tbody>\n",
       "    <tr>\n",
       "      <th>249</th>\n",
       "      <td>NaN</td>\n",
       "      <td>DNC member</td>\n",
       "      <td>NY</td>\n",
       "      <td>Christine Quinn</td>\n",
       "      <td>no_endorsee</td>\n",
       "      <td>D</td>\n",
       "      <td>DNC members</td>\n",
       "      <td>1</td>\n",
       "      <td>other</td>\n",
       "      <td>New York</td>\n",
       "    </tr>\n",
       "    <tr>\n",
       "      <th>250</th>\n",
       "      <td>NaN</td>\n",
       "      <td>DNC member</td>\n",
       "      <td>GA</td>\n",
       "      <td>Louis Elrod</td>\n",
       "      <td>no_endorsee</td>\n",
       "      <td>D</td>\n",
       "      <td>DNC members</td>\n",
       "      <td>1</td>\n",
       "      <td>other</td>\n",
       "      <td>Georgia</td>\n",
       "    </tr>\n",
       "    <tr>\n",
       "      <th>251</th>\n",
       "      <td>NaN</td>\n",
       "      <td>DNC member</td>\n",
       "      <td>GA</td>\n",
       "      <td>Wendy Davis</td>\n",
       "      <td>no_endorsee</td>\n",
       "      <td>D</td>\n",
       "      <td>DNC members</td>\n",
       "      <td>1</td>\n",
       "      <td>other</td>\n",
       "      <td>Georgia</td>\n",
       "    </tr>\n",
       "    <tr>\n",
       "      <th>252</th>\n",
       "      <td>NaN</td>\n",
       "      <td>DNC member</td>\n",
       "      <td>FL</td>\n",
       "      <td>Craig Smith</td>\n",
       "      <td>no_endorsee</td>\n",
       "      <td>D</td>\n",
       "      <td>DNC members</td>\n",
       "      <td>1</td>\n",
       "      <td>other</td>\n",
       "      <td>Florida</td>\n",
       "    </tr>\n",
       "    <tr>\n",
       "      <th>253</th>\n",
       "      <td>NaN</td>\n",
       "      <td>DNC member</td>\n",
       "      <td>FL</td>\n",
       "      <td>Casmore Shaw</td>\n",
       "      <td>no_endorsee</td>\n",
       "      <td>D</td>\n",
       "      <td>DNC members</td>\n",
       "      <td>1</td>\n",
       "      <td>other</td>\n",
       "      <td>Florida</td>\n",
       "    </tr>\n",
       "    <tr>\n",
       "      <th>254</th>\n",
       "      <td>NaN</td>\n",
       "      <td>DNC member</td>\n",
       "      <td>FL</td>\n",
       "      <td>Terrie Lorraine Rizzo</td>\n",
       "      <td>no_endorsee</td>\n",
       "      <td>D</td>\n",
       "      <td>DNC members</td>\n",
       "      <td>1</td>\n",
       "      <td>other</td>\n",
       "      <td>Florida</td>\n",
       "    </tr>\n",
       "    <tr>\n",
       "      <th>255</th>\n",
       "      <td>NaN</td>\n",
       "      <td>DNC member</td>\n",
       "      <td>FL</td>\n",
       "      <td>John A. Ramos</td>\n",
       "      <td>no_endorsee</td>\n",
       "      <td>D</td>\n",
       "      <td>DNC members</td>\n",
       "      <td>1</td>\n",
       "      <td>other</td>\n",
       "      <td>Florida</td>\n",
       "    </tr>\n",
       "    <tr>\n",
       "      <th>256</th>\n",
       "      <td>NaN</td>\n",
       "      <td>DNC member</td>\n",
       "      <td>FL</td>\n",
       "      <td>Judy C. Mount</td>\n",
       "      <td>no_endorsee</td>\n",
       "      <td>D</td>\n",
       "      <td>DNC members</td>\n",
       "      <td>1</td>\n",
       "      <td>other</td>\n",
       "      <td>Florida</td>\n",
       "    </tr>\n",
       "    <tr>\n",
       "      <th>257</th>\n",
       "      <td>NaN</td>\n",
       "      <td>DNC member</td>\n",
       "      <td>FL</td>\n",
       "      <td>Maureen A. McKenna</td>\n",
       "      <td>no_endorsee</td>\n",
       "      <td>D</td>\n",
       "      <td>DNC members</td>\n",
       "      <td>1</td>\n",
       "      <td>other</td>\n",
       "      <td>Florida</td>\n",
       "    </tr>\n",
       "    <tr>\n",
       "      <th>258</th>\n",
       "      <td>NaN</td>\n",
       "      <td>DNC member</td>\n",
       "      <td>FL</td>\n",
       "      <td>Shawn W. Kinsey</td>\n",
       "      <td>no_endorsee</td>\n",
       "      <td>D</td>\n",
       "      <td>DNC members</td>\n",
       "      <td>1</td>\n",
       "      <td>other</td>\n",
       "      <td>Florida</td>\n",
       "    </tr>\n",
       "  </tbody>\n",
       "</table>\n",
       "</div>"
      ],
      "text/plain": [
       "    date    position state               endorser     endorsee party  \\\n",
       "249  NaN  DNC member    NY        Christine Quinn  no_endorsee     D   \n",
       "250  NaN  DNC member    GA            Louis Elrod  no_endorsee     D   \n",
       "251  NaN  DNC member    GA            Wendy Davis  no_endorsee     D   \n",
       "252  NaN  DNC member    FL            Craig Smith  no_endorsee     D   \n",
       "253  NaN  DNC member    FL           Casmore Shaw  no_endorsee     D   \n",
       "254  NaN  DNC member    FL  Terrie Lorraine Rizzo  no_endorsee     D   \n",
       "255  NaN  DNC member    FL          John A. Ramos  no_endorsee     D   \n",
       "256  NaN  DNC member    FL          Judy C. Mount  no_endorsee     D   \n",
       "257  NaN  DNC member    FL     Maureen A. McKenna  no_endorsee     D   \n",
       "258  NaN  DNC member    FL        Shawn W. Kinsey  no_endorsee     D   \n",
       "\n",
       "        category  points source full_state  \n",
       "249  DNC members       1  other   New York  \n",
       "250  DNC members       1  other    Georgia  \n",
       "251  DNC members       1  other    Georgia  \n",
       "252  DNC members       1  other    Florida  \n",
       "253  DNC members       1  other    Florida  \n",
       "254  DNC members       1  other    Florida  \n",
       "255  DNC members       1  other    Florida  \n",
       "256  DNC members       1  other    Florida  \n",
       "257  DNC members       1  other    Florida  \n",
       "258  DNC members       1  other    Florida  "
      ]
     },
     "execution_count": 17,
     "metadata": {},
     "output_type": "execute_result"
    }
   ],
   "source": [
    "noend = df.loc[df['endorsee']=='no_endorsee']\n",
    "noend.head(10)"
   ]
  },
  {
   "cell_type": "code",
   "execution_count": 18,
   "metadata": {
    "_kg_hide-input": true
   },
   "outputs": [],
   "source": [
    "from itertools import product \n",
    "cols = ['category', 'party', 'position', 'state']\n",
    "col_pairs=[]\n",
    "d={}\n",
    "for i,c1 in enumerate(cols):\n",
    "    for c2 in cols[i+1:]:\n",
    "        col_pair=c1.capitalize() + '-' + c2.capitalize()\n",
    "        tmp = noend.groupby([c1,c2]).agg({'points':'sum', 'endorser':'count'}).reset_index()\n",
    "        tmp.rename(columns={'points': f'pt_by_{col_pair}', 'endorser': f'votes_by_{col_pair}'}, inplace=True)\n",
    "        d[col_pair] = tmp\n",
    "        col_pairs.append((c1,c2))\n"
   ]
  },
  {
   "cell_type": "code",
   "execution_count": 19,
   "metadata": {
    "_kg_hide-input": true
   },
   "outputs": [
    {
     "data": {
      "application/vnd.plotly.v1+json": {
       "config": {
        "plotlyServerURL": "https://plot.ly"
       },
       "data": [
        {
         "marker": {
          "color": [
           5,
           6,
           358,
           14,
           21,
           1,
           26,
           1,
           3,
           4,
           125,
           1,
           30,
           1,
           80,
           1,
           2,
           1,
           75,
           2
          ],
          "colorscale": [
           [
            0.0,
            "rgb(0, 128, 128)"
           ],
           [
            0.16666666666666666,
            "rgb(112, 164, 148)"
           ],
           [
            0.3333333333333333,
            "rgb(180, 200, 168)"
           ],
           [
            0.5,
            "rgb(246, 237, 189)"
           ],
           [
            0.6666666666666666,
            "rgb(237, 187, 138)"
           ],
           [
            0.8333333333333334,
            "rgb(222, 138, 90)"
           ],
           [
            1.0,
            "rgb(202, 86, 44)"
           ]
          ],
          "opacity": 0.7,
          "showscale": false,
          "size": [
           45,
           60,
           60,
           60,
           60,
           28,
           60,
           23,
           35,
           60,
           60,
           23,
           60,
           26,
           60,
           22,
           24,
           22,
           60,
           24
          ]
         },
         "mode": "markers+text",
         "text": [
          25.0,
          60.0,
          358.0,
          70.0,
          168.0,
          8.0,
          78.0,
          3.0,
          15.0,
          40.0,
          375.0,
          3.0,
          180.0,
          6.0,
          160.0,
          2.0,
          4.0,
          2.0,
          150.0,
          4.0
         ],
         "textposition": "middle center",
         "type": "scatter",
         "visible": true,
         "x": [
          "Candidates who have dropped out",
          "Current party leaders",
          "DNC members",
          "Former party leaders",
          "Governors",
          "Governors",
          "Mayors",
          "Mayors",
          "Past nominees",
          "Past presidents and vice presidents",
          "Representatives",
          "Representatives",
          "Senators",
          "Senators",
          "State legislative leaders",
          "State legislative leaders",
          "State legislative leaders",
          "State legislative leaders",
          "Statewide officeholders",
          "Statewide officeholders"
         ],
         "y": [
          "D",
          "D",
          "D",
          "D",
          "D",
          "None",
          "D",
          "None",
          "D",
          "D",
          "D",
          "I",
          "D",
          "I",
          "D",
          "I",
          "NPP",
          "None",
          "D",
          "None"
         ]
        },
        {
         "marker": {
          "color": [
           5,
           1,
           1,
           1,
           1,
           1,
           1,
           358,
           10,
           1,
           1,
           2,
           22,
           27,
           1,
           2,
           3,
           1,
           3,
           123,
           31,
           1,
           1,
           1,
           1,
           1,
           2,
           44,
           10,
           5,
           17,
           1,
           16,
           1,
           1,
           1,
           1,
           2,
           1,
           1,
           18,
           1,
           10,
           1,
           6,
           3,
           1,
           9,
           1,
           3
          ],
          "colorscale": [
           [
            0.0,
            "rgb(0, 128, 128)"
           ],
           [
            0.16666666666666666,
            "rgb(112, 164, 148)"
           ],
           [
            0.3333333333333333,
            "rgb(180, 200, 168)"
           ],
           [
            0.5,
            "rgb(246, 237, 189)"
           ],
           [
            0.6666666666666666,
            "rgb(237, 187, 138)"
           ],
           [
            0.8333333333333334,
            "rgb(222, 138, 90)"
           ],
           [
            1.0,
            "rgb(202, 86, 44)"
           ]
          ],
          "opacity": 0.7,
          "showscale": false,
          "size": [
           45,
           30,
           30,
           30,
           30,
           30,
           30,
           60,
           60,
           25,
           25,
           30,
           60,
           60,
           25,
           30,
           50,
           30,
           29,
           60,
           60,
           22,
           22,
           22,
           22,
           22,
           24,
           60,
           40,
           30,
           54,
           22,
           52,
           22,
           22,
           22,
           22,
           24,
           22,
           22,
           56,
           22,
           40,
           22,
           32,
           26,
           22,
           38,
           22,
           26
          ]
         },
         "mode": "markers+text",
         "text": [
          25.0,
          10.0,
          10.0,
          10.0,
          10.0,
          10.0,
          10.0,
          358.0,
          50.0,
          5.0,
          5.0,
          10.0,
          176.0,
          81.0,
          5.0,
          10.0,
          30.0,
          10.0,
          9.0,
          369.0,
          186.0,
          2.0,
          2.0,
          2.0,
          2.0,
          2.0,
          4.0,
          88.0,
          20.0,
          10.0,
          34.0,
          2.0,
          32.0,
          2.0,
          2.0,
          2.0,
          2.0,
          4.0,
          2.0,
          2.0,
          36.0,
          2.0,
          20.0,
          2.0,
          12.0,
          6.0,
          2.0,
          18.0,
          2.0,
          6.0
         ],
         "textposition": "middle center",
         "type": "scatter",
         "visible": false,
         "x": [
          "Candidates who have dropped out",
          "Current party leaders",
          "Current party leaders",
          "Current party leaders",
          "Current party leaders",
          "Current party leaders",
          "Current party leaders",
          "DNC members",
          "Former party leaders",
          "Former party leaders",
          "Former party leaders",
          "Former party leaders",
          "Governors",
          "Mayors",
          "Past nominees",
          "Past nominees",
          "Past presidents and vice presidents",
          "Past presidents and vice presidents",
          "Representatives",
          "Representatives",
          "Senators",
          "State legislative leaders",
          "State legislative leaders",
          "State legislative leaders",
          "State legislative leaders",
          "State legislative leaders",
          "State legislative leaders",
          "State legislative leaders",
          "State legislative leaders",
          "State legislative leaders",
          "State legislative leaders",
          "State legislative leaders",
          "Statewide officeholders",
          "Statewide officeholders",
          "Statewide officeholders",
          "Statewide officeholders",
          "Statewide officeholders",
          "Statewide officeholders",
          "Statewide officeholders",
          "Statewide officeholders",
          "Statewide officeholders",
          "Statewide officeholders",
          "Statewide officeholders",
          "Statewide officeholders",
          "Statewide officeholders",
          "Statewide officeholders",
          "Statewide officeholders",
          "Statewide officeholders",
          "Statewide officeholders",
          "Statewide officeholders"
         ],
         "y": [
          "Former 2020 candidate",
          "DNC chair",
          "U.S. House Democratic whip",
          "U.S. House majority leader",
          "U.S. House speaker",
          "U.S. Senate Democratic whip",
          "U.S. Senate minority leader",
          "DNC member",
          "former DNC chair",
          "former U.S. House Democratic whip",
          "former U.S. House majority leader",
          "former U.S. Senate majority leader",
          "governor",
          "mayor",
          "past presidential nominee",
          "past vice-presidential nominee",
          "past president",
          "past vice president",
          "delegate",
          "representative",
          "senator",
          "Democratic caucus chairman",
          "Executive Board chairman",
          "Executive Board member",
          "chairman",
          "majority leader",
          "minority floor leader",
          "minority leader",
          "president",
          "president pro tem",
          "speaker",
          "speaker pro tem",
          "attorney general",
          "auditor general",
          "auditor of accounts",
          "commissioner of agriculture and consumer services",
          "commissioner of insurance",
          "commissioner of public lands",
          "general treasurer",
          "insurance commissioner",
          "lieutenant governor",
          "public auditor",
          "secretary of state",
          "secretary of the commonwealth",
          "state auditor",
          "state comptroller",
          "state controller",
          "state treasurer",
          "state treasurer and receiver-general",
          "superintendent of public instruction"
         ]
        },
        {
         "marker": {
          "color": [
           2,
           1,
           1,
           1,
           1,
           1,
           2,
           1,
           1,
           4,
           6,
           5,
           4,
           7,
           23,
           3,
           4,
           8,
           22,
           5,
           15,
           8,
           4,
           3,
           3,
           5,
           9,
           5,
           4,
           5,
           4,
           7,
           10,
           3,
           8,
           7,
           6,
           3,
           4,
           4,
           7,
           3,
           4,
           1,
           2,
           4,
           3,
           15,
           9,
           4,
           5,
           11,
           6,
           4,
           5,
           4,
           5,
           13,
           4,
           12,
           4,
           3,
           8,
           6,
           4,
           4,
           1,
           1,
           2,
           1,
           1,
           1,
           1,
           1,
           1,
           1,
           1,
           1,
           1,
           1,
           1,
           1,
           1,
           1,
           1,
           1,
           1,
           1,
           1,
           1,
           1,
           1,
           1,
           1,
           1,
           1,
           1,
           1,
           1,
           1,
           1,
           2,
           1,
           1,
           1,
           1,
           1,
           1,
           1,
           1,
           1,
           2,
           2,
           1,
           2,
           2,
           1,
           1,
           1,
           2,
           1,
           1,
           1,
           1,
           1,
           1,
           1,
           1,
           1,
           3,
           26,
           4,
           4,
           1,
           7,
           4,
           1,
           1,
           9,
           1,
           1,
           1,
           2,
           2,
           2,
           5,
           1,
           1,
           1,
           1,
           2,
           2,
           15,
           2,
           1,
           3,
           4,
           2,
           1,
           2,
           5,
           4,
           3,
           2,
           1,
           1,
           2,
           2,
           1,
           2,
           1,
           2,
           2,
           1,
           2,
           2,
           1,
           1,
           2,
           2,
           2,
           2,
           1,
           1,
           2,
           2,
           1,
           1,
           2,
           1,
           2,
           1,
           2,
           1,
           1,
           1,
           2,
           1,
           2,
           2,
           2,
           2,
           2,
           2,
           1,
           2,
           1,
           2,
           2,
           1,
           2,
           2,
           1,
           2,
           1,
           2,
           2,
           2,
           2,
           2,
           1,
           2,
           2,
           1,
           2,
           2,
           1,
           2,
           2,
           1,
           1,
           2,
           2,
           2,
           2,
           1,
           2,
           2,
           3,
           2,
           4,
           1,
           3,
           1,
           1,
           4,
           1,
           1,
           3,
           2,
           3,
           1,
           1,
           1,
           1,
           3,
           6,
           3,
           3,
           2,
           4,
           3,
           2,
           1,
           1,
           5,
           5,
           1
          ],
          "colorscale": [
           [
            0.0,
            "rgb(0, 128, 128)"
           ],
           [
            0.16666666666666666,
            "rgb(112, 164, 148)"
           ],
           [
            0.3333333333333333,
            "rgb(180, 200, 168)"
           ],
           [
            0.5,
            "rgb(246, 237, 189)"
           ],
           [
            0.6666666666666666,
            "rgb(237, 187, 138)"
           ],
           [
            0.8333333333333334,
            "rgb(222, 138, 90)"
           ],
           [
            1.0,
            "rgb(202, 86, 44)"
           ]
          ],
          "opacity": 0.7,
          "showscale": false,
          "size": [
           30,
           25,
           25,
           25,
           30,
           30,
           40,
           30,
           30,
           24,
           26,
           25,
           24,
           27,
           43,
           23,
           24,
           28,
           42,
           25,
           35,
           28,
           24,
           23,
           23,
           25,
           29,
           25,
           24,
           25,
           24,
           27,
           30,
           23,
           28,
           27,
           26,
           23,
           24,
           24,
           27,
           23,
           24,
           21,
           22,
           24,
           23,
           35,
           29,
           24,
           25,
           31,
           26,
           24,
           25,
           24,
           25,
           33,
           24,
           32,
           24,
           23,
           28,
           26,
           24,
           24,
           25,
           25,
           30,
           25,
           25,
           25,
           25,
           25,
           25,
           25,
           25,
           25,
           25,
           28,
           28,
           28,
           28,
           28,
           28,
           28,
           28,
           28,
           28,
           28,
           28,
           28,
           28,
           28,
           28,
           28,
           28,
           28,
           28,
           28,
           28,
           26,
           23,
           23,
           23,
           23,
           23,
           23,
           23,
           23,
           23,
           26,
           26,
           23,
           26,
           26,
           23,
           23,
           23,
           26,
           23,
           23,
           25,
           25,
           25,
           30,
           30,
           30,
           30,
           29,
           60,
           32,
           32,
           23,
           41,
           32,
           23,
           23,
           47,
           23,
           23,
           23,
           26,
           26,
           26,
           35,
           23,
           23,
           23,
           23,
           26,
           26,
           65,
           26,
           23,
           29,
           32,
           26,
           23,
           26,
           35,
           32,
           29,
           26,
           26,
           26,
           32,
           32,
           26,
           32,
           26,
           32,
           32,
           26,
           32,
           32,
           26,
           26,
           32,
           32,
           32,
           32,
           26,
           26,
           24,
           24,
           22,
           22,
           24,
           22,
           24,
           22,
           24,
           22,
           22,
           22,
           24,
           22,
           24,
           24,
           24,
           24,
           24,
           24,
           22,
           24,
           22,
           24,
           24,
           22,
           24,
           24,
           22,
           24,
           22,
           24,
           24,
           24,
           24,
           24,
           22,
           24,
           24,
           22,
           24,
           24,
           22,
           24,
           24,
           22,
           22,
           24,
           24,
           24,
           24,
           22,
           24,
           24,
           26,
           24,
           28,
           22,
           26,
           22,
           22,
           28,
           22,
           22,
           26,
           24,
           26,
           22,
           22,
           22,
           22,
           26,
           32,
           26,
           26,
           24,
           28,
           26,
           24,
           22,
           22,
           30,
           30,
           22
          ]
         },
         "mode": "markers+text",
         "text": [
          10.0,
          5.0,
          5.0,
          5.0,
          10.0,
          10.0,
          20.0,
          10.0,
          10.0,
          4.0,
          6.0,
          5.0,
          4.0,
          7.0,
          23.0,
          3.0,
          4.0,
          8.0,
          22.0,
          5.0,
          15.0,
          8.0,
          4.0,
          3.0,
          3.0,
          5.0,
          9.0,
          5.0,
          4.0,
          5.0,
          4.0,
          7.0,
          10.0,
          3.0,
          8.0,
          7.0,
          6.0,
          3.0,
          4.0,
          4.0,
          7.0,
          3.0,
          4.0,
          1.0,
          2.0,
          4.0,
          3.0,
          15.0,
          9.0,
          4.0,
          5.0,
          11.0,
          6.0,
          4.0,
          5.0,
          4.0,
          5.0,
          13.0,
          4.0,
          12.0,
          4.0,
          3.0,
          8.0,
          6.0,
          4.0,
          4.0,
          5.0,
          5.0,
          10.0,
          5.0,
          5.0,
          5.0,
          5.0,
          5.0,
          5.0,
          5.0,
          5.0,
          5.0,
          5.0,
          8.0,
          8.0,
          8.0,
          8.0,
          8.0,
          8.0,
          8.0,
          8.0,
          8.0,
          8.0,
          8.0,
          8.0,
          8.0,
          8.0,
          8.0,
          8.0,
          8.0,
          8.0,
          8.0,
          8.0,
          8.0,
          8.0,
          6.0,
          3.0,
          3.0,
          3.0,
          3.0,
          3.0,
          3.0,
          3.0,
          3.0,
          3.0,
          6.0,
          6.0,
          3.0,
          6.0,
          6.0,
          3.0,
          3.0,
          3.0,
          6.0,
          3.0,
          3.0,
          5.0,
          5.0,
          5.0,
          10.0,
          10.0,
          10.0,
          10.0,
          9.0,
          78.0,
          12.0,
          12.0,
          3.0,
          21.0,
          12.0,
          3.0,
          3.0,
          27.0,
          3.0,
          3.0,
          3.0,
          6.0,
          6.0,
          6.0,
          15.0,
          3.0,
          3.0,
          3.0,
          3.0,
          6.0,
          6.0,
          45.0,
          6.0,
          3.0,
          9.0,
          12.0,
          6.0,
          3.0,
          6.0,
          15.0,
          12.0,
          9.0,
          6.0,
          6.0,
          6.0,
          12.0,
          12.0,
          6.0,
          12.0,
          6.0,
          12.0,
          12.0,
          6.0,
          12.0,
          12.0,
          6.0,
          6.0,
          12.0,
          12.0,
          12.0,
          12.0,
          6.0,
          6.0,
          4.0,
          4.0,
          2.0,
          2.0,
          4.0,
          2.0,
          4.0,
          2.0,
          4.0,
          2.0,
          2.0,
          2.0,
          4.0,
          2.0,
          4.0,
          4.0,
          4.0,
          4.0,
          4.0,
          4.0,
          2.0,
          4.0,
          2.0,
          4.0,
          4.0,
          2.0,
          4.0,
          4.0,
          2.0,
          4.0,
          2.0,
          4.0,
          4.0,
          4.0,
          4.0,
          4.0,
          2.0,
          4.0,
          4.0,
          2.0,
          4.0,
          4.0,
          2.0,
          4.0,
          4.0,
          2.0,
          2.0,
          4.0,
          4.0,
          4.0,
          4.0,
          2.0,
          4.0,
          4.0,
          6.0,
          4.0,
          8.0,
          2.0,
          6.0,
          2.0,
          2.0,
          8.0,
          2.0,
          2.0,
          6.0,
          4.0,
          6.0,
          2.0,
          2.0,
          2.0,
          2.0,
          6.0,
          12.0,
          6.0,
          6.0,
          4.0,
          8.0,
          6.0,
          4.0,
          2.0,
          2.0,
          10.0,
          10.0,
          2.0
         ],
         "textposition": "middle center",
         "type": "scatter",
         "visible": false,
         "x": [
          "Candidates who have dropped out",
          "Candidates who have dropped out",
          "Candidates who have dropped out",
          "Candidates who have dropped out",
          "Current party leaders",
          "Current party leaders",
          "Current party leaders",
          "Current party leaders",
          "Current party leaders",
          "DNC members",
          "DNC members",
          "DNC members",
          "DNC members",
          "DNC members",
          "DNC members",
          "DNC members",
          "DNC members",
          "DNC members",
          "DNC members",
          "DNC members",
          "DNC members",
          "DNC members",
          "DNC members",
          "DNC members",
          "DNC members",
          "DNC members",
          "DNC members",
          "DNC members",
          "DNC members",
          "DNC members",
          "DNC members",
          "DNC members",
          "DNC members",
          "DNC members",
          "DNC members",
          "DNC members",
          "DNC members",
          "DNC members",
          "DNC members",
          "DNC members",
          "DNC members",
          "DNC members",
          "DNC members",
          "DNC members",
          "DNC members",
          "DNC members",
          "DNC members",
          "DNC members",
          "DNC members",
          "DNC members",
          "DNC members",
          "DNC members",
          "DNC members",
          "DNC members",
          "DNC members",
          "DNC members",
          "DNC members",
          "DNC members",
          "DNC members",
          "DNC members",
          "DNC members",
          "DNC members",
          "DNC members",
          "DNC members",
          "DNC members",
          "DNC members",
          "Former party leaders",
          "Former party leaders",
          "Former party leaders",
          "Former party leaders",
          "Former party leaders",
          "Former party leaders",
          "Former party leaders",
          "Former party leaders",
          "Former party leaders",
          "Former party leaders",
          "Former party leaders",
          "Former party leaders",
          "Former party leaders",
          "Governors",
          "Governors",
          "Governors",
          "Governors",
          "Governors",
          "Governors",
          "Governors",
          "Governors",
          "Governors",
          "Governors",
          "Governors",
          "Governors",
          "Governors",
          "Governors",
          "Governors",
          "Governors",
          "Governors",
          "Governors",
          "Governors",
          "Governors",
          "Governors",
          "Governors",
          "Mayors",
          "Mayors",
          "Mayors",
          "Mayors",
          "Mayors",
          "Mayors",
          "Mayors",
          "Mayors",
          "Mayors",
          "Mayors",
          "Mayors",
          "Mayors",
          "Mayors",
          "Mayors",
          "Mayors",
          "Mayors",
          "Mayors",
          "Mayors",
          "Mayors",
          "Mayors",
          "Mayors",
          "Past nominees",
          "Past nominees",
          "Past nominees",
          "Past presidents and vice presidents",
          "Past presidents and vice presidents",
          "Past presidents and vice presidents",
          "Past presidents and vice presidents",
          "Representatives",
          "Representatives",
          "Representatives",
          "Representatives",
          "Representatives",
          "Representatives",
          "Representatives",
          "Representatives",
          "Representatives",
          "Representatives",
          "Representatives",
          "Representatives",
          "Representatives",
          "Representatives",
          "Representatives",
          "Representatives",
          "Representatives",
          "Representatives",
          "Representatives",
          "Representatives",
          "Representatives",
          "Representatives",
          "Representatives",
          "Representatives",
          "Representatives",
          "Representatives",
          "Representatives",
          "Representatives",
          "Representatives",
          "Representatives",
          "Representatives",
          "Representatives",
          "Representatives",
          "Representatives",
          "Representatives",
          "Senators",
          "Senators",
          "Senators",
          "Senators",
          "Senators",
          "Senators",
          "Senators",
          "Senators",
          "Senators",
          "Senators",
          "Senators",
          "Senators",
          "Senators",
          "Senators",
          "Senators",
          "Senators",
          "Senators",
          "Senators",
          "Senators",
          "Senators",
          "State legislative leaders",
          "State legislative leaders",
          "State legislative leaders",
          "State legislative leaders",
          "State legislative leaders",
          "State legislative leaders",
          "State legislative leaders",
          "State legislative leaders",
          "State legislative leaders",
          "State legislative leaders",
          "State legislative leaders",
          "State legislative leaders",
          "State legislative leaders",
          "State legislative leaders",
          "State legislative leaders",
          "State legislative leaders",
          "State legislative leaders",
          "State legislative leaders",
          "State legislative leaders",
          "State legislative leaders",
          "State legislative leaders",
          "State legislative leaders",
          "State legislative leaders",
          "State legislative leaders",
          "State legislative leaders",
          "State legislative leaders",
          "State legislative leaders",
          "State legislative leaders",
          "State legislative leaders",
          "State legislative leaders",
          "State legislative leaders",
          "State legislative leaders",
          "State legislative leaders",
          "State legislative leaders",
          "State legislative leaders",
          "State legislative leaders",
          "State legislative leaders",
          "State legislative leaders",
          "State legislative leaders",
          "State legislative leaders",
          "State legislative leaders",
          "State legislative leaders",
          "State legislative leaders",
          "State legislative leaders",
          "State legislative leaders",
          "State legislative leaders",
          "State legislative leaders",
          "State legislative leaders",
          "State legislative leaders",
          "State legislative leaders",
          "State legislative leaders",
          "Statewide officeholders",
          "Statewide officeholders",
          "Statewide officeholders",
          "Statewide officeholders",
          "Statewide officeholders",
          "Statewide officeholders",
          "Statewide officeholders",
          "Statewide officeholders",
          "Statewide officeholders",
          "Statewide officeholders",
          "Statewide officeholders",
          "Statewide officeholders",
          "Statewide officeholders",
          "Statewide officeholders",
          "Statewide officeholders",
          "Statewide officeholders",
          "Statewide officeholders",
          "Statewide officeholders",
          "Statewide officeholders",
          "Statewide officeholders",
          "Statewide officeholders",
          "Statewide officeholders",
          "Statewide officeholders",
          "Statewide officeholders",
          "Statewide officeholders",
          "Statewide officeholders",
          "Statewide officeholders",
          "Statewide officeholders",
          "Statewide officeholders",
          "Statewide officeholders",
          "Statewide officeholders",
          "Statewide officeholders",
          "Statewide officeholders"
         ],
         "y": [
          "CA",
          "MD",
          "NY",
          "TX",
          "CA",
          "IL",
          "MD",
          "NY",
          "SC",
          "AK",
          "AL",
          "AR",
          "AS",
          "AZ",
          "CA",
          "CO",
          "CT",
          "DA",
          "DC",
          "DE",
          "FL",
          "GA",
          "GU",
          "HI",
          "IA",
          "ID",
          "IL",
          "IN",
          "KS",
          "KY",
          "LA",
          "MA",
          "MD",
          "ME",
          "MI",
          "MN",
          "MO",
          "MP",
          "MS",
          "MT",
          "NC",
          "ND",
          "NE",
          "NH",
          "NJ",
          "NM",
          "NV",
          "NY",
          "OH",
          "OK",
          "OR",
          "PA",
          "PR",
          "RI",
          "SC",
          "SD",
          "TN",
          "TX",
          "UT",
          "VA",
          "VI",
          "VT",
          "WA",
          "WI",
          "WV",
          "WY",
          "DC",
          "DE",
          "FL",
          "MA",
          "MD",
          "MO",
          "NM",
          "NV",
          "NY",
          "OH",
          "SC",
          "VA",
          "VT",
          "AS",
          "CO",
          "GU",
          "HI",
          "IL",
          "KS",
          "KY",
          "LA",
          "ME",
          "MI",
          "MT",
          "NC",
          "NM",
          "NV",
          "OR",
          "PA",
          "PR",
          "RI",
          "VA",
          "VI",
          "WA",
          "WI",
          "AZ",
          "CA",
          "FL",
          "HI",
          "IL",
          "IN",
          "KS",
          "LA",
          "MA",
          "MD",
          "MO",
          "NC",
          "NM",
          "NV",
          "OH",
          "OR",
          "PA",
          "TN",
          "TX",
          "WA",
          "WI",
          "CT",
          "NC",
          "NY",
          "GA",
          "IL",
          "NY",
          "TN",
          "AZ",
          "CA",
          "CO",
          "CT",
          "DC",
          "FL",
          "GA",
          "GU",
          "HI",
          "IL",
          "IN",
          "KS",
          "KY",
          "MA",
          "MD",
          "ME",
          "MI",
          "MP",
          "MS",
          "NC",
          "NH",
          "NM",
          "NV",
          "NY",
          "OH",
          "OK",
          "OR",
          "PA",
          "RI",
          "SC",
          "TN",
          "TX",
          "VA",
          "WA",
          "WI",
          "AZ",
          "CA",
          "CT",
          "HI",
          "IL",
          "MD",
          "ME",
          "MI",
          "NH",
          "NJ",
          "NM",
          "NV",
          "NY",
          "OH",
          "OR",
          "RI",
          "VA",
          "WA",
          "WI",
          "WV",
          "AK",
          "AL",
          "AR",
          "AS",
          "AZ",
          "CO",
          "CT",
          "DC",
          "DE",
          "FL",
          "GA",
          "GU",
          "HI",
          "IA",
          "ID",
          "IL",
          "IN",
          "KS",
          "KY",
          "LA",
          "MA",
          "MD",
          "ME",
          "MI",
          "MO",
          "MS",
          "MT",
          "NC",
          "ND",
          "NE",
          "NH",
          "NM",
          "NV",
          "NY",
          "OH",
          "OK",
          "OR",
          "PA",
          "PR",
          "RI",
          "SC",
          "SD",
          "TN",
          "UT",
          "VA",
          "VI",
          "VT",
          "WA",
          "WI",
          "WV",
          "WY",
          "AS",
          "AZ",
          "CA",
          "CO",
          "CT",
          "DE",
          "FL",
          "GU",
          "HI",
          "IA",
          "IL",
          "KS",
          "KY",
          "MA",
          "MD",
          "MI",
          "MN",
          "MO",
          "MP",
          "MT",
          "NC",
          "NM",
          "NV",
          "NY",
          "OR",
          "PA",
          "RI",
          "VA",
          "VI",
          "VT",
          "WA",
          "WI",
          "WV"
         ]
        },
        {
         "marker": {
          "color": [
           1,
           358,
           1,
           1,
           1,
           5,
           1,
           1,
           1,
           1,
           1,
           14,
           1,
           1,
           1,
           1,
           1,
           2,
           3,
           10,
           1,
           1,
           2,
           1,
           21,
           1,
           18,
           1,
           26,
           2,
           44,
           3,
           1,
           1,
           2,
           8,
           5,
           1,
           122,
           10,
           1,
           30,
           15,
           1,
           6,
           3,
           1,
           9,
           1,
           3,
           1,
           1,
           1,
           1,
           1,
           2,
           1,
           1,
           1
          ],
          "colorscale": [
           [
            0.0,
            "rgb(0, 128, 128)"
           ],
           [
            0.16666666666666666,
            "rgb(112, 164, 148)"
           ],
           [
            0.3333333333333333,
            "rgb(180, 200, 168)"
           ],
           [
            0.5,
            "rgb(246, 237, 189)"
           ],
           [
            0.6666666666666666,
            "rgb(237, 187, 138)"
           ],
           [
            0.8333333333333334,
            "rgb(222, 138, 90)"
           ],
           [
            1.0,
            "rgb(202, 86, 44)"
           ]
          ],
          "opacity": 0.7,
          "showscale": false,
          "size": [
           30,
           60,
           22,
           22,
           22,
           45,
           30,
           30,
           30,
           30,
           30,
           48,
           22,
           22,
           22,
           22,
           22,
           24,
           29,
           60,
           25,
           25,
           30,
           22,
           60,
           22,
           56,
           22,
           60,
           24,
           60,
           50,
           25,
           30,
           30,
           36,
           30,
           22,
           60,
           40,
           22,
           60,
           50,
           22,
           32,
           26,
           22,
           38,
           22,
           26,
           23,
           26,
           22,
           22,
           22,
           24,
           28,
           23,
           22
          ]
         },
         "mode": "markers+text",
         "text": [
          10.0,
          358.0,
          2.0,
          2.0,
          2.0,
          25.0,
          10.0,
          10.0,
          10.0,
          10.0,
          10.0,
          28.0,
          2.0,
          2.0,
          2.0,
          2.0,
          2.0,
          4.0,
          9.0,
          50.0,
          5.0,
          5.0,
          10.0,
          2.0,
          168.0,
          2.0,
          36.0,
          2.0,
          78.0,
          4.0,
          88.0,
          30.0,
          5.0,
          10.0,
          10.0,
          16.0,
          10.0,
          2.0,
          366.0,
          20.0,
          2.0,
          180.0,
          30.0,
          2.0,
          12.0,
          6.0,
          2.0,
          18.0,
          2.0,
          6.0,
          3.0,
          6.0,
          2.0,
          2.0,
          2.0,
          4.0,
          8.0,
          3.0,
          2.0
         ],
         "textposition": "middle center",
         "type": "scatter",
         "visible": false,
         "x": [
          "D",
          "D",
          "D",
          "D",
          "D",
          "D",
          "D",
          "D",
          "D",
          "D",
          "D",
          "D",
          "D",
          "D",
          "D",
          "D",
          "D",
          "D",
          "D",
          "D",
          "D",
          "D",
          "D",
          "D",
          "D",
          "D",
          "D",
          "D",
          "D",
          "D",
          "D",
          "D",
          "D",
          "D",
          "D",
          "D",
          "D",
          "D",
          "D",
          "D",
          "D",
          "D",
          "D",
          "D",
          "D",
          "D",
          "D",
          "D",
          "D",
          "D",
          "I",
          "I",
          "I",
          "NPP",
          "NPP",
          "None",
          "None",
          "None",
          "None"
         ],
         "y": [
          "DNC chair",
          "DNC member",
          "Democratic caucus chairman",
          "Executive Board chairman",
          "Executive Board member",
          "Former 2020 candidate",
          "U.S. House Democratic whip",
          "U.S. House majority leader",
          "U.S. House speaker",
          "U.S. Senate Democratic whip",
          "U.S. Senate minority leader",
          "attorney general",
          "auditor general",
          "auditor of accounts",
          "chairman",
          "commissioner of agriculture and consumer services",
          "commissioner of insurance",
          "commissioner of public lands",
          "delegate",
          "former DNC chair",
          "former U.S. House Democratic whip",
          "former U.S. House majority leader",
          "former U.S. Senate majority leader",
          "general treasurer",
          "governor",
          "insurance commissioner",
          "lieutenant governor",
          "majority leader",
          "mayor",
          "minority floor leader",
          "minority leader",
          "past president",
          "past presidential nominee",
          "past vice president",
          "past vice-presidential nominee",
          "president",
          "president pro tem",
          "public auditor",
          "representative",
          "secretary of state",
          "secretary of the commonwealth",
          "senator",
          "speaker",
          "speaker pro tem",
          "state auditor",
          "state comptroller",
          "state controller",
          "state treasurer",
          "state treasurer and receiver-general",
          "superintendent of public instruction",
          "representative",
          "senator",
          "speaker",
          "president",
          "speaker",
          "attorney general",
          "governor",
          "mayor",
          "president"
         ]
        },
        {
         "marker": {
          "color": [
           5,
           8,
           6,
           6,
           17,
           56,
           12,
           15,
           8,
           25,
           12,
           27,
           14,
           9,
           11,
           5,
           7,
           29,
           9,
           10,
           10,
           8,
           15,
           23,
           7,
           20,
           8,
           12,
           4,
           6,
           8,
           17,
           4,
           6,
           5,
           3,
           19,
           15,
           41,
           17,
           7,
           15,
           23,
           6,
           13,
           10,
           6,
           10,
           21,
           6,
           24,
           7,
           6,
           22,
           18,
           8,
           6,
           1,
           1,
           1,
           2,
           1,
           1,
           1,
           1,
           1
          ],
          "colorscale": [
           [
            0.0,
            "rgb(0, 128, 128)"
           ],
           [
            0.16666666666666666,
            "rgb(112, 164, 148)"
           ],
           [
            0.3333333333333333,
            "rgb(180, 200, 168)"
           ],
           [
            0.5,
            "rgb(246, 237, 189)"
           ],
           [
            0.6666666666666666,
            "rgb(237, 187, 138)"
           ],
           [
            0.8333333333333334,
            "rgb(222, 138, 90)"
           ],
           [
            1.0,
            "rgb(202, 86, 44)"
           ]
          ],
          "opacity": 0.7,
          "showscale": false,
          "size": [
           26,
           30,
           27,
           34,
           56,
           60,
           51,
           61,
           28,
           52,
           42,
           60,
           52,
           41,
           55,
           27,
           29,
           60,
           35,
           44,
           42,
           39,
           49,
           60,
           39,
           60,
           29,
           43,
           26,
           29,
           38,
           59,
           25,
           28,
           38,
           28,
           60,
           67,
           60,
           56,
           31,
           63,
           66,
           26,
           58,
           47,
           28,
           46,
           59,
           28,
           60,
           36,
           32,
           60,
           63,
           36,
           28,
           22,
           26,
           23,
           24,
           22,
           22,
           22,
           23,
           28
          ]
         },
         "mode": "markers+text",
         "text": [
          6.0,
          10.0,
          7.0,
          14.0,
          36.0,
          134.0,
          31.0,
          41.0,
          8.0,
          32.0,
          22.0,
          53.0,
          32.0,
          21.0,
          35.0,
          7.0,
          9.0,
          85.0,
          15.0,
          24.0,
          22.0,
          19.0,
          29.0,
          69.0,
          19.0,
          50.0,
          9.0,
          23.0,
          6.0,
          9.0,
          18.0,
          39.0,
          5.0,
          8.0,
          18.0,
          8.0,
          54.0,
          47.0,
          111.0,
          36.0,
          11.0,
          43.0,
          46.0,
          6.0,
          38.0,
          27.0,
          8.0,
          26.0,
          39.0,
          8.0,
          57.0,
          16.0,
          12.0,
          54.0,
          43.0,
          16.0,
          8.0,
          2.0,
          6.0,
          3.0,
          4.0,
          2.0,
          2.0,
          2.0,
          3.0,
          8.0
         ],
         "textposition": "middle center",
         "type": "scatter",
         "visible": false,
         "x": [
          "D",
          "D",
          "D",
          "D",
          "D",
          "D",
          "D",
          "D",
          "D",
          "D",
          "D",
          "D",
          "D",
          "D",
          "D",
          "D",
          "D",
          "D",
          "D",
          "D",
          "D",
          "D",
          "D",
          "D",
          "D",
          "D",
          "D",
          "D",
          "D",
          "D",
          "D",
          "D",
          "D",
          "D",
          "D",
          "D",
          "D",
          "D",
          "D",
          "D",
          "D",
          "D",
          "D",
          "D",
          "D",
          "D",
          "D",
          "D",
          "D",
          "D",
          "D",
          "D",
          "D",
          "D",
          "D",
          "D",
          "D",
          "I",
          "I",
          "I",
          "NPP",
          "None",
          "None",
          "None",
          "None",
          "None"
         ],
         "y": [
          "AK",
          "AL",
          "AR",
          "AS",
          "AZ",
          "CA",
          "CO",
          "CT",
          "DA",
          "DC",
          "DE",
          "FL",
          "GA",
          "GU",
          "HI",
          "IA",
          "ID",
          "IL",
          "IN",
          "KS",
          "KY",
          "LA",
          "MA",
          "MD",
          "ME",
          "MI",
          "MN",
          "MO",
          "MP",
          "MS",
          "MT",
          "NC",
          "ND",
          "NE",
          "NH",
          "NJ",
          "NM",
          "NV",
          "NY",
          "OH",
          "OK",
          "OR",
          "PA",
          "PR",
          "RI",
          "SC",
          "SD",
          "TN",
          "TX",
          "UT",
          "VA",
          "VI",
          "VT",
          "WA",
          "WI",
          "WV",
          "WY",
          "AK",
          "ME",
          "MI",
          "PR",
          "AS",
          "GU",
          "MP",
          "NV",
          "PR"
         ]
        },
        {
         "marker": {
          "color": [
           1,
           4,
           6,
           5,
           4,
           7,
           23,
           3,
           4,
           8,
           22,
           5,
           15,
           8,
           4,
           3,
           3,
           5,
           9,
           5,
           4,
           5,
           4,
           7,
           10,
           3,
           8,
           7,
           6,
           3,
           4,
           4,
           7,
           3,
           4,
           1,
           2,
           4,
           3,
           15,
           9,
           4,
           5,
           11,
           6,
           4,
           5,
           4,
           5,
           13,
           4,
           12,
           4,
           3,
           8,
           6,
           4,
           4,
           1,
           1,
           1,
           2,
           1,
           1,
           1,
           1,
           1,
           1,
           1,
           1,
           1,
           1,
           1,
           1,
           1,
           1,
           1,
           1,
           1,
           1,
           1,
           1,
           1,
           1,
           1,
           1,
           1,
           1,
           1,
           1,
           1,
           1,
           1,
           1,
           1,
           1,
           1,
           2,
           1,
           1,
           1,
           1,
           1,
           1,
           1,
           1,
           1,
           1,
           1,
           1,
           1,
           1,
           1,
           1,
           1,
           1,
           1,
           1,
           1,
           1,
           1,
           1,
           1,
           1,
           1,
           1,
           1,
           1,
           1,
           1,
           1,
           1,
           1,
           1,
           1,
           1,
           1,
           1,
           1,
           1,
           1,
           1,
           1,
           1,
           1,
           1,
           1,
           1,
           1,
           1,
           1,
           1,
           2,
           1,
           1,
           1,
           1,
           1,
           1,
           1,
           1,
           1,
           2,
           2,
           1,
           2,
           2,
           1,
           1,
           1,
           2,
           1,
           1,
           2,
           1,
           2,
           1,
           2,
           1,
           1,
           1,
           2,
           2,
           2,
           2,
           2,
           1,
           2,
           2,
           1,
           2,
           2,
           2,
           2,
           2,
           1,
           2,
           2,
           2,
           2,
           1,
           1,
           1,
           1,
           1,
           1,
           1,
           1,
           1,
           1,
           1,
           1,
           1,
           1,
           1,
           1,
           1,
           1,
           1,
           1,
           1,
           1,
           1,
           3,
           26,
           4,
           4,
           7,
           4,
           1,
           9,
           1,
           1,
           1,
           2,
           2,
           2,
           5,
           1,
           1,
           1,
           2,
           2,
           15,
           2,
           1,
           3,
           4,
           2,
           1,
           2,
           5,
           4,
           3,
           2,
           1,
           1,
           1,
           1,
           1,
           1,
           1,
           1,
           1,
           1,
           1,
           1,
           1,
           2,
           2,
           1,
           2,
           1,
           2,
           2,
           1,
           2,
           2,
           1,
           1,
           2,
           2,
           2,
           2,
           1,
           1,
           1,
           1,
           1,
           1,
           1,
           1,
           1,
           1,
           1,
           1,
           1,
           1,
           1,
           1,
           1,
           1,
           1,
           1,
           1,
           1,
           1,
           1,
           1,
           1,
           1,
           1,
           1,
           1,
           1,
           1,
           1,
           1,
           1,
           1,
           1,
           1,
           1,
           1,
           1,
           1,
           1
          ],
          "colorscale": [
           [
            0.0,
            "rgb(0, 128, 128)"
           ],
           [
            0.16666666666666666,
            "rgb(112, 164, 148)"
           ],
           [
            0.3333333333333333,
            "rgb(180, 200, 168)"
           ],
           [
            0.5,
            "rgb(246, 237, 189)"
           ],
           [
            0.6666666666666666,
            "rgb(237, 187, 138)"
           ],
           [
            0.8333333333333334,
            "rgb(222, 138, 90)"
           ],
           [
            1.0,
            "rgb(202, 86, 44)"
           ]
          ],
          "opacity": 0.7,
          "showscale": false,
          "size": [
           30,
           24,
           26,
           25,
           24,
           27,
           43,
           23,
           24,
           28,
           42,
           25,
           35,
           28,
           24,
           23,
           23,
           25,
           29,
           25,
           24,
           25,
           24,
           27,
           30,
           23,
           28,
           27,
           26,
           23,
           24,
           24,
           27,
           23,
           24,
           21,
           22,
           24,
           23,
           35,
           29,
           24,
           25,
           31,
           26,
           24,
           25,
           24,
           25,
           33,
           24,
           32,
           24,
           23,
           28,
           26,
           24,
           24,
           22,
           22,
           22,
           30,
           25,
           25,
           25,
           30,
           30,
           30,
           30,
           30,
           22,
           22,
           22,
           22,
           22,
           22,
           22,
           22,
           22,
           22,
           22,
           22,
           22,
           22,
           22,
           22,
           22,
           22,
           22,
           22,
           22,
           22,
           22,
           23,
           23,
           23,
           25,
           30,
           25,
           25,
           25,
           25,
           25,
           25,
           25,
           25,
           25,
           25,
           25,
           22,
           28,
           28,
           28,
           28,
           28,
           28,
           28,
           28,
           28,
           28,
           28,
           28,
           28,
           28,
           28,
           28,
           28,
           28,
           28,
           28,
           28,
           28,
           22,
           22,
           22,
           22,
           22,
           22,
           22,
           22,
           22,
           22,
           22,
           22,
           22,
           22,
           22,
           22,
           22,
           22,
           22,
           22,
           26,
           23,
           23,
           23,
           23,
           23,
           23,
           23,
           23,
           23,
           26,
           26,
           23,
           26,
           26,
           23,
           23,
           23,
           26,
           23,
           23,
           24,
           22,
           24,
           22,
           24,
           22,
           22,
           22,
           24,
           24,
           24,
           24,
           24,
           22,
           24,
           24,
           22,
           24,
           24,
           24,
           24,
           24,
           22,
           24,
           24,
           24,
           24,
           30,
           30,
           30,
           25,
           30,
           25,
           25,
           22,
           22,
           22,
           22,
           22,
           22,
           22,
           22,
           22,
           22,
           22,
           22,
           22,
           22,
           22,
           22,
           29,
           60,
           32,
           32,
           41,
           32,
           23,
           47,
           23,
           23,
           23,
           26,
           26,
           26,
           35,
           23,
           23,
           23,
           26,
           26,
           65,
           26,
           23,
           29,
           32,
           26,
           23,
           26,
           35,
           32,
           29,
           26,
           22,
           22,
           22,
           22,
           22,
           22,
           22,
           22,
           22,
           22,
           22,
           26,
           26,
           32,
           32,
           26,
           32,
           26,
           32,
           32,
           26,
           32,
           32,
           26,
           26,
           32,
           32,
           32,
           32,
           26,
           26,
           22,
           22,
           22,
           22,
           22,
           22,
           22,
           22,
           22,
           22,
           22,
           22,
           22,
           22,
           22,
           22,
           22,
           22,
           22,
           22,
           22,
           22,
           22,
           22,
           22,
           22,
           22,
           22,
           22,
           22,
           22,
           22,
           22,
           22,
           22,
           22,
           22,
           22,
           22,
           22,
           22
          ]
         },
         "mode": "markers+text",
         "text": [
          10.0,
          4.0,
          6.0,
          5.0,
          4.0,
          7.0,
          23.0,
          3.0,
          4.0,
          8.0,
          22.0,
          5.0,
          15.0,
          8.0,
          4.0,
          3.0,
          3.0,
          5.0,
          9.0,
          5.0,
          4.0,
          5.0,
          4.0,
          7.0,
          10.0,
          3.0,
          8.0,
          7.0,
          6.0,
          3.0,
          4.0,
          4.0,
          7.0,
          3.0,
          4.0,
          1.0,
          2.0,
          4.0,
          3.0,
          15.0,
          9.0,
          4.0,
          5.0,
          11.0,
          6.0,
          4.0,
          5.0,
          4.0,
          5.0,
          13.0,
          4.0,
          12.0,
          4.0,
          3.0,
          8.0,
          6.0,
          4.0,
          4.0,
          2.0,
          2.0,
          2.0,
          10.0,
          5.0,
          5.0,
          5.0,
          10.0,
          10.0,
          10.0,
          10.0,
          10.0,
          2.0,
          2.0,
          2.0,
          2.0,
          2.0,
          2.0,
          2.0,
          2.0,
          2.0,
          2.0,
          2.0,
          2.0,
          2.0,
          2.0,
          2.0,
          2.0,
          2.0,
          2.0,
          2.0,
          2.0,
          2.0,
          2.0,
          2.0,
          3.0,
          3.0,
          3.0,
          5.0,
          10.0,
          5.0,
          5.0,
          5.0,
          5.0,
          5.0,
          5.0,
          5.0,
          5.0,
          5.0,
          5.0,
          5.0,
          2.0,
          8.0,
          8.0,
          8.0,
          8.0,
          8.0,
          8.0,
          8.0,
          8.0,
          8.0,
          8.0,
          8.0,
          8.0,
          8.0,
          8.0,
          8.0,
          8.0,
          8.0,
          8.0,
          8.0,
          8.0,
          8.0,
          8.0,
          2.0,
          2.0,
          2.0,
          2.0,
          2.0,
          2.0,
          2.0,
          2.0,
          2.0,
          2.0,
          2.0,
          2.0,
          2.0,
          2.0,
          2.0,
          2.0,
          2.0,
          2.0,
          2.0,
          2.0,
          6.0,
          3.0,
          3.0,
          3.0,
          3.0,
          3.0,
          3.0,
          3.0,
          3.0,
          3.0,
          6.0,
          6.0,
          3.0,
          6.0,
          6.0,
          3.0,
          3.0,
          3.0,
          6.0,
          3.0,
          3.0,
          4.0,
          2.0,
          4.0,
          2.0,
          4.0,
          2.0,
          2.0,
          2.0,
          4.0,
          4.0,
          4.0,
          4.0,
          4.0,
          2.0,
          4.0,
          4.0,
          2.0,
          4.0,
          4.0,
          4.0,
          4.0,
          4.0,
          2.0,
          4.0,
          4.0,
          4.0,
          4.0,
          10.0,
          10.0,
          10.0,
          5.0,
          10.0,
          5.0,
          5.0,
          2.0,
          2.0,
          2.0,
          2.0,
          2.0,
          2.0,
          2.0,
          2.0,
          2.0,
          2.0,
          2.0,
          2.0,
          2.0,
          2.0,
          2.0,
          2.0,
          9.0,
          78.0,
          12.0,
          12.0,
          21.0,
          12.0,
          3.0,
          27.0,
          3.0,
          3.0,
          3.0,
          6.0,
          6.0,
          6.0,
          15.0,
          3.0,
          3.0,
          3.0,
          6.0,
          6.0,
          45.0,
          6.0,
          3.0,
          9.0,
          12.0,
          6.0,
          3.0,
          6.0,
          15.0,
          12.0,
          9.0,
          6.0,
          2.0,
          2.0,
          2.0,
          2.0,
          2.0,
          2.0,
          2.0,
          2.0,
          2.0,
          2.0,
          2.0,
          6.0,
          6.0,
          12.0,
          12.0,
          6.0,
          12.0,
          6.0,
          12.0,
          12.0,
          6.0,
          12.0,
          12.0,
          6.0,
          6.0,
          12.0,
          12.0,
          12.0,
          12.0,
          6.0,
          6.0,
          2.0,
          2.0,
          2.0,
          2.0,
          2.0,
          2.0,
          2.0,
          2.0,
          2.0,
          2.0,
          2.0,
          2.0,
          2.0,
          2.0,
          2.0,
          2.0,
          2.0,
          2.0,
          2.0,
          2.0,
          2.0,
          2.0,
          2.0,
          2.0,
          2.0,
          2.0,
          2.0,
          2.0,
          2.0,
          2.0,
          2.0,
          2.0,
          2.0,
          2.0,
          2.0,
          2.0,
          2.0,
          2.0,
          2.0,
          2.0,
          2.0
         ],
         "textposition": "middle center",
         "type": "scatter",
         "visible": false,
         "x": [
          "DNC chair",
          "DNC member",
          "DNC member",
          "DNC member",
          "DNC member",
          "DNC member",
          "DNC member",
          "DNC member",
          "DNC member",
          "DNC member",
          "DNC member",
          "DNC member",
          "DNC member",
          "DNC member",
          "DNC member",
          "DNC member",
          "DNC member",
          "DNC member",
          "DNC member",
          "DNC member",
          "DNC member",
          "DNC member",
          "DNC member",
          "DNC member",
          "DNC member",
          "DNC member",
          "DNC member",
          "DNC member",
          "DNC member",
          "DNC member",
          "DNC member",
          "DNC member",
          "DNC member",
          "DNC member",
          "DNC member",
          "DNC member",
          "DNC member",
          "DNC member",
          "DNC member",
          "DNC member",
          "DNC member",
          "DNC member",
          "DNC member",
          "DNC member",
          "DNC member",
          "DNC member",
          "DNC member",
          "DNC member",
          "DNC member",
          "DNC member",
          "DNC member",
          "DNC member",
          "DNC member",
          "DNC member",
          "DNC member",
          "DNC member",
          "DNC member",
          "DNC member",
          "Democratic caucus chairman",
          "Executive Board chairman",
          "Executive Board member",
          "Former 2020 candidate",
          "Former 2020 candidate",
          "Former 2020 candidate",
          "Former 2020 candidate",
          "U.S. House Democratic whip",
          "U.S. House majority leader",
          "U.S. House speaker",
          "U.S. Senate Democratic whip",
          "U.S. Senate minority leader",
          "attorney general",
          "attorney general",
          "attorney general",
          "attorney general",
          "attorney general",
          "attorney general",
          "attorney general",
          "attorney general",
          "attorney general",
          "attorney general",
          "attorney general",
          "attorney general",
          "attorney general",
          "attorney general",
          "attorney general",
          "attorney general",
          "auditor general",
          "auditor of accounts",
          "chairman",
          "commissioner of agriculture and consumer services",
          "commissioner of insurance",
          "commissioner of public lands",
          "commissioner of public lands",
          "delegate",
          "delegate",
          "delegate",
          "former DNC chair",
          "former DNC chair",
          "former DNC chair",
          "former DNC chair",
          "former DNC chair",
          "former DNC chair",
          "former DNC chair",
          "former DNC chair",
          "former DNC chair",
          "former U.S. House Democratic whip",
          "former U.S. House majority leader",
          "former U.S. Senate majority leader",
          "former U.S. Senate majority leader",
          "general treasurer",
          "governor",
          "governor",
          "governor",
          "governor",
          "governor",
          "governor",
          "governor",
          "governor",
          "governor",
          "governor",
          "governor",
          "governor",
          "governor",
          "governor",
          "governor",
          "governor",
          "governor",
          "governor",
          "governor",
          "governor",
          "governor",
          "governor",
          "insurance commissioner",
          "lieutenant governor",
          "lieutenant governor",
          "lieutenant governor",
          "lieutenant governor",
          "lieutenant governor",
          "lieutenant governor",
          "lieutenant governor",
          "lieutenant governor",
          "lieutenant governor",
          "lieutenant governor",
          "lieutenant governor",
          "lieutenant governor",
          "lieutenant governor",
          "lieutenant governor",
          "lieutenant governor",
          "lieutenant governor",
          "lieutenant governor",
          "lieutenant governor",
          "majority leader",
          "mayor",
          "mayor",
          "mayor",
          "mayor",
          "mayor",
          "mayor",
          "mayor",
          "mayor",
          "mayor",
          "mayor",
          "mayor",
          "mayor",
          "mayor",
          "mayor",
          "mayor",
          "mayor",
          "mayor",
          "mayor",
          "mayor",
          "mayor",
          "mayor",
          "minority floor leader",
          "minority leader",
          "minority leader",
          "minority leader",
          "minority leader",
          "minority leader",
          "minority leader",
          "minority leader",
          "minority leader",
          "minority leader",
          "minority leader",
          "minority leader",
          "minority leader",
          "minority leader",
          "minority leader",
          "minority leader",
          "minority leader",
          "minority leader",
          "minority leader",
          "minority leader",
          "minority leader",
          "minority leader",
          "minority leader",
          "minority leader",
          "minority leader",
          "minority leader",
          "minority leader",
          "past president",
          "past president",
          "past president",
          "past presidential nominee",
          "past vice president",
          "past vice-presidential nominee",
          "past vice-presidential nominee",
          "president",
          "president",
          "president",
          "president",
          "president",
          "president",
          "president",
          "president",
          "president",
          "president",
          "president pro tem",
          "president pro tem",
          "president pro tem",
          "president pro tem",
          "president pro tem",
          "public auditor",
          "representative",
          "representative",
          "representative",
          "representative",
          "representative",
          "representative",
          "representative",
          "representative",
          "representative",
          "representative",
          "representative",
          "representative",
          "representative",
          "representative",
          "representative",
          "representative",
          "representative",
          "representative",
          "representative",
          "representative",
          "representative",
          "representative",
          "representative",
          "representative",
          "representative",
          "representative",
          "representative",
          "representative",
          "representative",
          "representative",
          "representative",
          "representative",
          "secretary of state",
          "secretary of state",
          "secretary of state",
          "secretary of state",
          "secretary of state",
          "secretary of state",
          "secretary of state",
          "secretary of state",
          "secretary of state",
          "secretary of state",
          "secretary of the commonwealth",
          "senator",
          "senator",
          "senator",
          "senator",
          "senator",
          "senator",
          "senator",
          "senator",
          "senator",
          "senator",
          "senator",
          "senator",
          "senator",
          "senator",
          "senator",
          "senator",
          "senator",
          "senator",
          "senator",
          "senator",
          "speaker",
          "speaker",
          "speaker",
          "speaker",
          "speaker",
          "speaker",
          "speaker",
          "speaker",
          "speaker",
          "speaker",
          "speaker",
          "speaker",
          "speaker",
          "speaker",
          "speaker",
          "speaker",
          "speaker",
          "speaker pro tem",
          "state auditor",
          "state auditor",
          "state auditor",
          "state auditor",
          "state auditor",
          "state auditor",
          "state comptroller",
          "state comptroller",
          "state comptroller",
          "state controller",
          "state treasurer",
          "state treasurer",
          "state treasurer",
          "state treasurer",
          "state treasurer",
          "state treasurer",
          "state treasurer",
          "state treasurer",
          "state treasurer",
          "state treasurer and receiver-general",
          "superintendent of public instruction",
          "superintendent of public instruction",
          "superintendent of public instruction"
         ],
         "y": [
          "MD",
          "AK",
          "AL",
          "AR",
          "AS",
          "AZ",
          "CA",
          "CO",
          "CT",
          "DA",
          "DC",
          "DE",
          "FL",
          "GA",
          "GU",
          "HI",
          "IA",
          "ID",
          "IL",
          "IN",
          "KS",
          "KY",
          "LA",
          "MA",
          "MD",
          "ME",
          "MI",
          "MN",
          "MO",
          "MP",
          "MS",
          "MT",
          "NC",
          "ND",
          "NE",
          "NH",
          "NJ",
          "NM",
          "NV",
          "NY",
          "OH",
          "OK",
          "OR",
          "PA",
          "PR",
          "RI",
          "SC",
          "SD",
          "TN",
          "TX",
          "UT",
          "VA",
          "VI",
          "VT",
          "WA",
          "WI",
          "WV",
          "WY",
          "LA",
          "NE",
          "NE",
          "CA",
          "MD",
          "NY",
          "TX",
          "SC",
          "MD",
          "CA",
          "IL",
          "NY",
          "CA",
          "CT",
          "GU",
          "IL",
          "MD",
          "MI",
          "MP",
          "NC",
          "NM",
          "NV",
          "NY",
          "OR",
          "PA",
          "RI",
          "VA",
          "WI",
          "PA",
          "DE",
          "DC",
          "FL",
          "DE",
          "NM",
          "WA",
          "DC",
          "GU",
          "MP",
          "DC",
          "FL",
          "MA",
          "MD",
          "NM",
          "OH",
          "SC",
          "VA",
          "VT",
          "DE",
          "MO",
          "NV",
          "NY",
          "RI",
          "AS",
          "CO",
          "GU",
          "HI",
          "IL",
          "KS",
          "KY",
          "LA",
          "ME",
          "MI",
          "MT",
          "NC",
          "NM",
          "NV",
          "OR",
          "PA",
          "PR",
          "RI",
          "VA",
          "VI",
          "WA",
          "WI",
          "WA",
          "AS",
          "CO",
          "DE",
          "GU",
          "HI",
          "IL",
          "KS",
          "KY",
          "MI",
          "MT",
          "NM",
          "NV",
          "NY",
          "PA",
          "VA",
          "VI",
          "WA",
          "WI",
          "VA",
          "AZ",
          "CA",
          "FL",
          "HI",
          "IL",
          "IN",
          "KS",
          "LA",
          "MA",
          "MD",
          "MO",
          "NC",
          "NM",
          "NV",
          "OH",
          "OR",
          "PA",
          "TN",
          "TX",
          "WA",
          "WI",
          "KY",
          "AK",
          "AL",
          "AR",
          "AZ",
          "FL",
          "GA",
          "IA",
          "ID",
          "IN",
          "KS",
          "MI",
          "MO",
          "MS",
          "MT",
          "NC",
          "ND",
          "OH",
          "OK",
          "PA",
          "SC",
          "SD",
          "TN",
          "UT",
          "WI",
          "WV",
          "WY",
          "GA",
          "IL",
          "NY",
          "NY",
          "TN",
          "CT",
          "NC",
          "AS",
          "HI",
          "IL",
          "MD",
          "NH",
          "NY",
          "OR",
          "PR",
          "RI",
          "VI",
          "CT",
          "DE",
          "NM",
          "NV",
          "WA",
          "GU",
          "AZ",
          "CA",
          "CO",
          "CT",
          "FL",
          "GA",
          "HI",
          "IL",
          "IN",
          "KS",
          "KY",
          "MA",
          "MD",
          "ME",
          "MI",
          "MS",
          "NC",
          "NH",
          "NM",
          "NV",
          "NY",
          "OH",
          "OK",
          "OR",
          "PA",
          "RI",
          "SC",
          "TN",
          "TX",
          "VA",
          "WA",
          "WI",
          "AZ",
          "CO",
          "IL",
          "MI",
          "MN",
          "NC",
          "NM",
          "RI",
          "VT",
          "WI",
          "MA",
          "AZ",
          "CA",
          "CT",
          "HI",
          "IL",
          "MD",
          "ME",
          "MI",
          "NH",
          "NJ",
          "NM",
          "NV",
          "NY",
          "OH",
          "OR",
          "RI",
          "VA",
          "WA",
          "WI",
          "WV",
          "AK",
          "CO",
          "CT",
          "DE",
          "GU",
          "HI",
          "IL",
          "MA",
          "MD",
          "ME",
          "NM",
          "NV",
          "NY",
          "PR",
          "VA",
          "VT",
          "WA",
          "LA",
          "IA",
          "MA",
          "MO",
          "NC",
          "NM",
          "WA",
          "IL",
          "MD",
          "NY",
          "CA",
          "CO",
          "CT",
          "DE",
          "NM",
          "NV",
          "OR",
          "PA",
          "WI",
          "WV",
          "MA",
          "AZ",
          "WA",
          "WI"
         ]
        }
       ],
       "layout": {
        "annotations": [
         {
          "align": "left",
          "showarrow": false,
          "text": "Select Columns",
          "x": 0.02,
          "xref": "paper",
          "y": 1.12,
          "yref": "paper"
         }
        ],
        "height": 1150,
        "margin": {
         "l": 120,
         "t": 200
        },
        "showlegend": false,
        "template": {
         "data": {
          "bar": [
           {
            "error_x": {
             "color": "#2a3f5f"
            },
            "error_y": {
             "color": "#2a3f5f"
            },
            "marker": {
             "line": {
              "color": "#E5ECF6",
              "width": 0.5
             }
            },
            "type": "bar"
           }
          ],
          "barpolar": [
           {
            "marker": {
             "line": {
              "color": "#E5ECF6",
              "width": 0.5
             }
            },
            "type": "barpolar"
           }
          ],
          "carpet": [
           {
            "aaxis": {
             "endlinecolor": "#2a3f5f",
             "gridcolor": "white",
             "linecolor": "white",
             "minorgridcolor": "white",
             "startlinecolor": "#2a3f5f"
            },
            "baxis": {
             "endlinecolor": "#2a3f5f",
             "gridcolor": "white",
             "linecolor": "white",
             "minorgridcolor": "white",
             "startlinecolor": "#2a3f5f"
            },
            "type": "carpet"
           }
          ],
          "choropleth": [
           {
            "colorbar": {
             "outlinewidth": 0,
             "ticks": ""
            },
            "type": "choropleth"
           }
          ],
          "contour": [
           {
            "colorbar": {
             "outlinewidth": 0,
             "ticks": ""
            },
            "colorscale": [
             [
              0.0,
              "#0d0887"
             ],
             [
              0.1111111111111111,
              "#46039f"
             ],
             [
              0.2222222222222222,
              "#7201a8"
             ],
             [
              0.3333333333333333,
              "#9c179e"
             ],
             [
              0.4444444444444444,
              "#bd3786"
             ],
             [
              0.5555555555555556,
              "#d8576b"
             ],
             [
              0.6666666666666666,
              "#ed7953"
             ],
             [
              0.7777777777777778,
              "#fb9f3a"
             ],
             [
              0.8888888888888888,
              "#fdca26"
             ],
             [
              1.0,
              "#f0f921"
             ]
            ],
            "type": "contour"
           }
          ],
          "contourcarpet": [
           {
            "colorbar": {
             "outlinewidth": 0,
             "ticks": ""
            },
            "type": "contourcarpet"
           }
          ],
          "heatmap": [
           {
            "colorbar": {
             "outlinewidth": 0,
             "ticks": ""
            },
            "colorscale": [
             [
              0.0,
              "#0d0887"
             ],
             [
              0.1111111111111111,
              "#46039f"
             ],
             [
              0.2222222222222222,
              "#7201a8"
             ],
             [
              0.3333333333333333,
              "#9c179e"
             ],
             [
              0.4444444444444444,
              "#bd3786"
             ],
             [
              0.5555555555555556,
              "#d8576b"
             ],
             [
              0.6666666666666666,
              "#ed7953"
             ],
             [
              0.7777777777777778,
              "#fb9f3a"
             ],
             [
              0.8888888888888888,
              "#fdca26"
             ],
             [
              1.0,
              "#f0f921"
             ]
            ],
            "type": "heatmap"
           }
          ],
          "heatmapgl": [
           {
            "colorbar": {
             "outlinewidth": 0,
             "ticks": ""
            },
            "colorscale": [
             [
              0.0,
              "#0d0887"
             ],
             [
              0.1111111111111111,
              "#46039f"
             ],
             [
              0.2222222222222222,
              "#7201a8"
             ],
             [
              0.3333333333333333,
              "#9c179e"
             ],
             [
              0.4444444444444444,
              "#bd3786"
             ],
             [
              0.5555555555555556,
              "#d8576b"
             ],
             [
              0.6666666666666666,
              "#ed7953"
             ],
             [
              0.7777777777777778,
              "#fb9f3a"
             ],
             [
              0.8888888888888888,
              "#fdca26"
             ],
             [
              1.0,
              "#f0f921"
             ]
            ],
            "type": "heatmapgl"
           }
          ],
          "histogram": [
           {
            "marker": {
             "colorbar": {
              "outlinewidth": 0,
              "ticks": ""
             }
            },
            "type": "histogram"
           }
          ],
          "histogram2d": [
           {
            "colorbar": {
             "outlinewidth": 0,
             "ticks": ""
            },
            "colorscale": [
             [
              0.0,
              "#0d0887"
             ],
             [
              0.1111111111111111,
              "#46039f"
             ],
             [
              0.2222222222222222,
              "#7201a8"
             ],
             [
              0.3333333333333333,
              "#9c179e"
             ],
             [
              0.4444444444444444,
              "#bd3786"
             ],
             [
              0.5555555555555556,
              "#d8576b"
             ],
             [
              0.6666666666666666,
              "#ed7953"
             ],
             [
              0.7777777777777778,
              "#fb9f3a"
             ],
             [
              0.8888888888888888,
              "#fdca26"
             ],
             [
              1.0,
              "#f0f921"
             ]
            ],
            "type": "histogram2d"
           }
          ],
          "histogram2dcontour": [
           {
            "colorbar": {
             "outlinewidth": 0,
             "ticks": ""
            },
            "colorscale": [
             [
              0.0,
              "#0d0887"
             ],
             [
              0.1111111111111111,
              "#46039f"
             ],
             [
              0.2222222222222222,
              "#7201a8"
             ],
             [
              0.3333333333333333,
              "#9c179e"
             ],
             [
              0.4444444444444444,
              "#bd3786"
             ],
             [
              0.5555555555555556,
              "#d8576b"
             ],
             [
              0.6666666666666666,
              "#ed7953"
             ],
             [
              0.7777777777777778,
              "#fb9f3a"
             ],
             [
              0.8888888888888888,
              "#fdca26"
             ],
             [
              1.0,
              "#f0f921"
             ]
            ],
            "type": "histogram2dcontour"
           }
          ],
          "mesh3d": [
           {
            "colorbar": {
             "outlinewidth": 0,
             "ticks": ""
            },
            "type": "mesh3d"
           }
          ],
          "parcoords": [
           {
            "line": {
             "colorbar": {
              "outlinewidth": 0,
              "ticks": ""
             }
            },
            "type": "parcoords"
           }
          ],
          "pie": [
           {
            "automargin": true,
            "type": "pie"
           }
          ],
          "scatter": [
           {
            "marker": {
             "colorbar": {
              "outlinewidth": 0,
              "ticks": ""
             }
            },
            "type": "scatter"
           }
          ],
          "scatter3d": [
           {
            "line": {
             "colorbar": {
              "outlinewidth": 0,
              "ticks": ""
             }
            },
            "marker": {
             "colorbar": {
              "outlinewidth": 0,
              "ticks": ""
             }
            },
            "type": "scatter3d"
           }
          ],
          "scattercarpet": [
           {
            "marker": {
             "colorbar": {
              "outlinewidth": 0,
              "ticks": ""
             }
            },
            "type": "scattercarpet"
           }
          ],
          "scattergeo": [
           {
            "marker": {
             "colorbar": {
              "outlinewidth": 0,
              "ticks": ""
             }
            },
            "type": "scattergeo"
           }
          ],
          "scattergl": [
           {
            "marker": {
             "colorbar": {
              "outlinewidth": 0,
              "ticks": ""
             }
            },
            "type": "scattergl"
           }
          ],
          "scattermapbox": [
           {
            "marker": {
             "colorbar": {
              "outlinewidth": 0,
              "ticks": ""
             }
            },
            "type": "scattermapbox"
           }
          ],
          "scatterpolar": [
           {
            "marker": {
             "colorbar": {
              "outlinewidth": 0,
              "ticks": ""
             }
            },
            "type": "scatterpolar"
           }
          ],
          "scatterpolargl": [
           {
            "marker": {
             "colorbar": {
              "outlinewidth": 0,
              "ticks": ""
             }
            },
            "type": "scatterpolargl"
           }
          ],
          "scatterternary": [
           {
            "marker": {
             "colorbar": {
              "outlinewidth": 0,
              "ticks": ""
             }
            },
            "type": "scatterternary"
           }
          ],
          "surface": [
           {
            "colorbar": {
             "outlinewidth": 0,
             "ticks": ""
            },
            "colorscale": [
             [
              0.0,
              "#0d0887"
             ],
             [
              0.1111111111111111,
              "#46039f"
             ],
             [
              0.2222222222222222,
              "#7201a8"
             ],
             [
              0.3333333333333333,
              "#9c179e"
             ],
             [
              0.4444444444444444,
              "#bd3786"
             ],
             [
              0.5555555555555556,
              "#d8576b"
             ],
             [
              0.6666666666666666,
              "#ed7953"
             ],
             [
              0.7777777777777778,
              "#fb9f3a"
             ],
             [
              0.8888888888888888,
              "#fdca26"
             ],
             [
              1.0,
              "#f0f921"
             ]
            ],
            "type": "surface"
           }
          ],
          "table": [
           {
            "cells": {
             "fill": {
              "color": "#EBF0F8"
             },
             "line": {
              "color": "white"
             }
            },
            "header": {
             "fill": {
              "color": "#C8D4E3"
             },
             "line": {
              "color": "white"
             }
            },
            "type": "table"
           }
          ]
         },
         "layout": {
          "annotationdefaults": {
           "arrowcolor": "#2a3f5f",
           "arrowhead": 0,
           "arrowwidth": 1
          },
          "coloraxis": {
           "colorbar": {
            "outlinewidth": 0,
            "ticks": ""
           }
          },
          "colorscale": {
           "diverging": [
            [
             0,
             "#8e0152"
            ],
            [
             0.1,
             "#c51b7d"
            ],
            [
             0.2,
             "#de77ae"
            ],
            [
             0.3,
             "#f1b6da"
            ],
            [
             0.4,
             "#fde0ef"
            ],
            [
             0.5,
             "#f7f7f7"
            ],
            [
             0.6,
             "#e6f5d0"
            ],
            [
             0.7,
             "#b8e186"
            ],
            [
             0.8,
             "#7fbc41"
            ],
            [
             0.9,
             "#4d9221"
            ],
            [
             1,
             "#276419"
            ]
           ],
           "sequential": [
            [
             0.0,
             "#0d0887"
            ],
            [
             0.1111111111111111,
             "#46039f"
            ],
            [
             0.2222222222222222,
             "#7201a8"
            ],
            [
             0.3333333333333333,
             "#9c179e"
            ],
            [
             0.4444444444444444,
             "#bd3786"
            ],
            [
             0.5555555555555556,
             "#d8576b"
            ],
            [
             0.6666666666666666,
             "#ed7953"
            ],
            [
             0.7777777777777778,
             "#fb9f3a"
            ],
            [
             0.8888888888888888,
             "#fdca26"
            ],
            [
             1.0,
             "#f0f921"
            ]
           ],
           "sequentialminus": [
            [
             0.0,
             "#0d0887"
            ],
            [
             0.1111111111111111,
             "#46039f"
            ],
            [
             0.2222222222222222,
             "#7201a8"
            ],
            [
             0.3333333333333333,
             "#9c179e"
            ],
            [
             0.4444444444444444,
             "#bd3786"
            ],
            [
             0.5555555555555556,
             "#d8576b"
            ],
            [
             0.6666666666666666,
             "#ed7953"
            ],
            [
             0.7777777777777778,
             "#fb9f3a"
            ],
            [
             0.8888888888888888,
             "#fdca26"
            ],
            [
             1.0,
             "#f0f921"
            ]
           ]
          },
          "colorway": [
           "#636efa",
           "#EF553B",
           "#00cc96",
           "#ab63fa",
           "#FFA15A",
           "#19d3f3",
           "#FF6692",
           "#B6E880",
           "#FF97FF",
           "#FECB52"
          ],
          "font": {
           "color": "#2a3f5f"
          },
          "geo": {
           "bgcolor": "white",
           "lakecolor": "white",
           "landcolor": "#E5ECF6",
           "showlakes": true,
           "showland": true,
           "subunitcolor": "white"
          },
          "hoverlabel": {
           "align": "left"
          },
          "hovermode": "closest",
          "mapbox": {
           "style": "light"
          },
          "paper_bgcolor": "white",
          "plot_bgcolor": "#E5ECF6",
          "polar": {
           "angularaxis": {
            "gridcolor": "white",
            "linecolor": "white",
            "ticks": ""
           },
           "bgcolor": "#E5ECF6",
           "radialaxis": {
            "gridcolor": "white",
            "linecolor": "white",
            "ticks": ""
           }
          },
          "scene": {
           "xaxis": {
            "backgroundcolor": "#E5ECF6",
            "gridcolor": "white",
            "gridwidth": 2,
            "linecolor": "white",
            "showbackground": true,
            "ticks": "",
            "zerolinecolor": "white"
           },
           "yaxis": {
            "backgroundcolor": "#E5ECF6",
            "gridcolor": "white",
            "gridwidth": 2,
            "linecolor": "white",
            "showbackground": true,
            "ticks": "",
            "zerolinecolor": "white"
           },
           "zaxis": {
            "backgroundcolor": "#E5ECF6",
            "gridcolor": "white",
            "gridwidth": 2,
            "linecolor": "white",
            "showbackground": true,
            "ticks": "",
            "zerolinecolor": "white"
           }
          },
          "shapedefaults": {
           "line": {
            "color": "#2a3f5f"
           }
          },
          "ternary": {
           "aaxis": {
            "gridcolor": "white",
            "linecolor": "white",
            "ticks": ""
           },
           "baxis": {
            "gridcolor": "white",
            "linecolor": "white",
            "ticks": ""
           },
           "bgcolor": "#E5ECF6",
           "caxis": {
            "gridcolor": "white",
            "linecolor": "white",
            "ticks": ""
           }
          },
          "title": {
           "x": 0.05
          },
          "xaxis": {
           "automargin": true,
           "gridcolor": "white",
           "linecolor": "white",
           "ticks": "",
           "title": {
            "standoff": 15
           },
           "zerolinecolor": "white",
           "zerolinewidth": 2
          },
          "yaxis": {
           "automargin": true,
           "gridcolor": "white",
           "linecolor": "white",
           "ticks": "",
           "title": {
            "standoff": 15
           },
           "zerolinecolor": "white",
           "zerolinewidth": 2
          }
         }
        },
        "title": {
         "text": "Votes by <b>Category<b> &  <b>Party<b>",
         "x": 0.5,
         "xanchor": "center",
         "y": 0.95,
         "yanchor": "top"
        },
        "updatemenus": [
         {
          "active": 0,
          "buttons": [
           {
            "args": [
             {
              "visible": [
               true,
               false,
               false,
               false,
               false,
               false
              ]
             },
             {
              "title": {
               "text": "Votes by <b>Category<b> &  <b>Party<b>",
               "x": 0.5,
               "xanchor": "center",
               "y": 0.95,
               "yanchor": "top"
              },
              "xaxis": {
               "tickangle": 45,
               "title": "Category"
              },
              "yaxis": {
               "title": "Party"
              }
             }
            ],
            "label": "Category-Party",
            "method": "update"
           },
           {
            "args": [
             {
              "visible": [
               false,
               true,
               false,
               false,
               false,
               false
              ]
             },
             {
              "title": {
               "text": "Votes by <b>Category<b> &  <b>Position<b>",
               "x": 0.5,
               "xanchor": "center",
               "y": 0.95,
               "yanchor": "top"
              },
              "xaxis": {
               "tickangle": 45,
               "title": "Category"
              },
              "yaxis": {
               "title": "Position"
              }
             }
            ],
            "label": "Category-Position",
            "method": "update"
           },
           {
            "args": [
             {
              "visible": [
               false,
               false,
               true,
               false,
               false,
               false
              ]
             },
             {
              "title": {
               "text": "Votes by <b>Category<b> &  <b>State<b>",
               "x": 0.5,
               "xanchor": "center",
               "y": 0.95,
               "yanchor": "top"
              },
              "xaxis": {
               "tickangle": 45,
               "title": "Category"
              },
              "yaxis": {
               "title": "State"
              }
             }
            ],
            "label": "Category-State",
            "method": "update"
           },
           {
            "args": [
             {
              "visible": [
               false,
               false,
               false,
               true,
               false,
               false
              ]
             },
             {
              "title": {
               "text": "Votes by <b>Party<b> &  <b>Position<b>",
               "x": 0.5,
               "xanchor": "center",
               "y": 0.95,
               "yanchor": "top"
              },
              "xaxis": {
               "tickangle": 45,
               "title": "Party"
              },
              "yaxis": {
               "title": "Position"
              }
             }
            ],
            "label": "Party-Position",
            "method": "update"
           },
           {
            "args": [
             {
              "visible": [
               false,
               false,
               false,
               false,
               true,
               false
              ]
             },
             {
              "title": {
               "text": "Votes by <b>Party<b> &  <b>State<b>",
               "x": 0.5,
               "xanchor": "center",
               "y": 0.95,
               "yanchor": "top"
              },
              "xaxis": {
               "tickangle": 45,
               "title": "Party"
              },
              "yaxis": {
               "title": "State"
              }
             }
            ],
            "label": "Party-State",
            "method": "update"
           },
           {
            "args": [
             {
              "visible": [
               false,
               false,
               false,
               false,
               false,
               true
              ]
             },
             {
              "title": {
               "text": "Votes by <b>Position<b> &  <b>State<b>",
               "x": 0.5,
               "xanchor": "center",
               "y": 0.95,
               "yanchor": "top"
              },
              "xaxis": {
               "tickangle": 45,
               "title": "Position"
              },
              "yaxis": {
               "title": "State"
              }
             }
            ],
            "label": "Position-State",
            "method": "update"
           }
          ],
          "direction": "down",
          "pad": {
           "r": 10,
           "t": 10
          },
          "x": 0,
          "xanchor": "left",
          "y": 1.1,
          "yanchor": "top"
         }
        ],
        "xaxis": {
         "tickangle": 45,
         "title": {
          "text": "Category"
         }
        },
        "yaxis": {
         "title": {
          "text": "Party"
         }
        }
       }
      },
      "text/html": [
       "<div>\n",
       "        \n",
       "        \n",
       "            <div id=\"04162ebd-c730-46b1-8770-868b24c6e8b2\" class=\"plotly-graph-div\" style=\"height:1150px; width:100%;\"></div>\n",
       "            <script type=\"text/javascript\">\n",
       "                require([\"plotly\"], function(Plotly) {\n",
       "                    window.PLOTLYENV=window.PLOTLYENV || {};\n",
       "                    \n",
       "                if (document.getElementById(\"04162ebd-c730-46b1-8770-868b24c6e8b2\")) {\n",
       "                    Plotly.newPlot(\n",
       "                        '04162ebd-c730-46b1-8770-868b24c6e8b2',\n",
       "                        [{\"marker\": {\"color\": [5, 6, 358, 14, 21, 1, 26, 1, 3, 4, 125, 1, 30, 1, 80, 1, 2, 1, 75, 2], \"colorscale\": [[0.0, \"rgb(0, 128, 128)\"], [0.16666666666666666, \"rgb(112, 164, 148)\"], [0.3333333333333333, \"rgb(180, 200, 168)\"], [0.5, \"rgb(246, 237, 189)\"], [0.6666666666666666, \"rgb(237, 187, 138)\"], [0.8333333333333334, \"rgb(222, 138, 90)\"], [1.0, \"rgb(202, 86, 44)\"]], \"opacity\": 0.7, \"showscale\": false, \"size\": [45, 60, 60, 60, 60, 28, 60, 23, 35, 60, 60, 23, 60, 26, 60, 22, 24, 22, 60, 24]}, \"mode\": \"markers+text\", \"text\": [25.0, 60.0, 358.0, 70.0, 168.0, 8.0, 78.0, 3.0, 15.0, 40.0, 375.0, 3.0, 180.0, 6.0, 160.0, 2.0, 4.0, 2.0, 150.0, 4.0], \"textposition\": \"middle center\", \"type\": \"scatter\", \"visible\": true, \"x\": [\"Candidates who have dropped out\", \"Current party leaders\", \"DNC members\", \"Former party leaders\", \"Governors\", \"Governors\", \"Mayors\", \"Mayors\", \"Past nominees\", \"Past presidents and vice presidents\", \"Representatives\", \"Representatives\", \"Senators\", \"Senators\", \"State legislative leaders\", \"State legislative leaders\", \"State legislative leaders\", \"State legislative leaders\", \"Statewide officeholders\", \"Statewide officeholders\"], \"y\": [\"D\", \"D\", \"D\", \"D\", \"D\", \"None\", \"D\", \"None\", \"D\", \"D\", \"D\", \"I\", \"D\", \"I\", \"D\", \"I\", \"NPP\", \"None\", \"D\", \"None\"]}, {\"marker\": {\"color\": [5, 1, 1, 1, 1, 1, 1, 358, 10, 1, 1, 2, 22, 27, 1, 2, 3, 1, 3, 123, 31, 1, 1, 1, 1, 1, 2, 44, 10, 5, 17, 1, 16, 1, 1, 1, 1, 2, 1, 1, 18, 1, 10, 1, 6, 3, 1, 9, 1, 3], \"colorscale\": [[0.0, \"rgb(0, 128, 128)\"], [0.16666666666666666, \"rgb(112, 164, 148)\"], [0.3333333333333333, \"rgb(180, 200, 168)\"], [0.5, \"rgb(246, 237, 189)\"], [0.6666666666666666, \"rgb(237, 187, 138)\"], [0.8333333333333334, \"rgb(222, 138, 90)\"], [1.0, \"rgb(202, 86, 44)\"]], \"opacity\": 0.7, \"showscale\": false, \"size\": [45, 30, 30, 30, 30, 30, 30, 60, 60, 25, 25, 30, 60, 60, 25, 30, 50, 30, 29, 60, 60, 22, 22, 22, 22, 22, 24, 60, 40, 30, 54, 22, 52, 22, 22, 22, 22, 24, 22, 22, 56, 22, 40, 22, 32, 26, 22, 38, 22, 26]}, \"mode\": \"markers+text\", \"text\": [25.0, 10.0, 10.0, 10.0, 10.0, 10.0, 10.0, 358.0, 50.0, 5.0, 5.0, 10.0, 176.0, 81.0, 5.0, 10.0, 30.0, 10.0, 9.0, 369.0, 186.0, 2.0, 2.0, 2.0, 2.0, 2.0, 4.0, 88.0, 20.0, 10.0, 34.0, 2.0, 32.0, 2.0, 2.0, 2.0, 2.0, 4.0, 2.0, 2.0, 36.0, 2.0, 20.0, 2.0, 12.0, 6.0, 2.0, 18.0, 2.0, 6.0], \"textposition\": \"middle center\", \"type\": \"scatter\", \"visible\": false, \"x\": [\"Candidates who have dropped out\", \"Current party leaders\", \"Current party leaders\", \"Current party leaders\", \"Current party leaders\", \"Current party leaders\", \"Current party leaders\", \"DNC members\", \"Former party leaders\", \"Former party leaders\", \"Former party leaders\", \"Former party leaders\", \"Governors\", \"Mayors\", \"Past nominees\", \"Past nominees\", \"Past presidents and vice presidents\", \"Past presidents and vice presidents\", \"Representatives\", \"Representatives\", \"Senators\", \"State legislative leaders\", \"State legislative leaders\", \"State legislative leaders\", \"State legislative leaders\", \"State legislative leaders\", \"State legislative leaders\", \"State legislative leaders\", \"State legislative leaders\", \"State legislative leaders\", \"State legislative leaders\", \"State legislative leaders\", \"Statewide officeholders\", \"Statewide officeholders\", \"Statewide officeholders\", \"Statewide officeholders\", \"Statewide officeholders\", \"Statewide officeholders\", \"Statewide officeholders\", \"Statewide officeholders\", \"Statewide officeholders\", \"Statewide officeholders\", \"Statewide officeholders\", \"Statewide officeholders\", \"Statewide officeholders\", \"Statewide officeholders\", \"Statewide officeholders\", \"Statewide officeholders\", \"Statewide officeholders\", \"Statewide officeholders\"], \"y\": [\"Former 2020 candidate\", \"DNC chair\", \"U.S. House Democratic whip\", \"U.S. House majority leader\", \"U.S. House speaker\", \"U.S. Senate Democratic whip\", \"U.S. Senate minority leader\", \"DNC member\", \"former DNC chair\", \"former U.S. House Democratic whip\", \"former U.S. House majority leader\", \"former U.S. Senate majority leader\", \"governor\", \"mayor\", \"past presidential nominee\", \"past vice-presidential nominee\", \"past president\", \"past vice president\", \"delegate\", \"representative\", \"senator\", \"Democratic caucus chairman\", \"Executive Board chairman\", \"Executive Board member\", \"chairman\", \"majority leader\", \"minority floor leader\", \"minority leader\", \"president\", \"president pro tem\", \"speaker\", \"speaker pro tem\", \"attorney general\", \"auditor general\", \"auditor of accounts\", \"commissioner of agriculture and consumer services\", \"commissioner of insurance\", \"commissioner of public lands\", \"general treasurer\", \"insurance commissioner\", \"lieutenant governor\", \"public auditor\", \"secretary of state\", \"secretary of the commonwealth\", \"state auditor\", \"state comptroller\", \"state controller\", \"state treasurer\", \"state treasurer and receiver-general\", \"superintendent of public instruction\"]}, {\"marker\": {\"color\": [2, 1, 1, 1, 1, 1, 2, 1, 1, 4, 6, 5, 4, 7, 23, 3, 4, 8, 22, 5, 15, 8, 4, 3, 3, 5, 9, 5, 4, 5, 4, 7, 10, 3, 8, 7, 6, 3, 4, 4, 7, 3, 4, 1, 2, 4, 3, 15, 9, 4, 5, 11, 6, 4, 5, 4, 5, 13, 4, 12, 4, 3, 8, 6, 4, 4, 1, 1, 2, 1, 1, 1, 1, 1, 1, 1, 1, 1, 1, 1, 1, 1, 1, 1, 1, 1, 1, 1, 1, 1, 1, 1, 1, 1, 1, 1, 1, 1, 1, 1, 1, 2, 1, 1, 1, 1, 1, 1, 1, 1, 1, 2, 2, 1, 2, 2, 1, 1, 1, 2, 1, 1, 1, 1, 1, 1, 1, 1, 1, 3, 26, 4, 4, 1, 7, 4, 1, 1, 9, 1, 1, 1, 2, 2, 2, 5, 1, 1, 1, 1, 2, 2, 15, 2, 1, 3, 4, 2, 1, 2, 5, 4, 3, 2, 1, 1, 2, 2, 1, 2, 1, 2, 2, 1, 2, 2, 1, 1, 2, 2, 2, 2, 1, 1, 2, 2, 1, 1, 2, 1, 2, 1, 2, 1, 1, 1, 2, 1, 2, 2, 2, 2, 2, 2, 1, 2, 1, 2, 2, 1, 2, 2, 1, 2, 1, 2, 2, 2, 2, 2, 1, 2, 2, 1, 2, 2, 1, 2, 2, 1, 1, 2, 2, 2, 2, 1, 2, 2, 3, 2, 4, 1, 3, 1, 1, 4, 1, 1, 3, 2, 3, 1, 1, 1, 1, 3, 6, 3, 3, 2, 4, 3, 2, 1, 1, 5, 5, 1], \"colorscale\": [[0.0, \"rgb(0, 128, 128)\"], [0.16666666666666666, \"rgb(112, 164, 148)\"], [0.3333333333333333, \"rgb(180, 200, 168)\"], [0.5, \"rgb(246, 237, 189)\"], [0.6666666666666666, \"rgb(237, 187, 138)\"], [0.8333333333333334, \"rgb(222, 138, 90)\"], [1.0, \"rgb(202, 86, 44)\"]], \"opacity\": 0.7, \"showscale\": false, \"size\": [30, 25, 25, 25, 30, 30, 40, 30, 30, 24, 26, 25, 24, 27, 43, 23, 24, 28, 42, 25, 35, 28, 24, 23, 23, 25, 29, 25, 24, 25, 24, 27, 30, 23, 28, 27, 26, 23, 24, 24, 27, 23, 24, 21, 22, 24, 23, 35, 29, 24, 25, 31, 26, 24, 25, 24, 25, 33, 24, 32, 24, 23, 28, 26, 24, 24, 25, 25, 30, 25, 25, 25, 25, 25, 25, 25, 25, 25, 25, 28, 28, 28, 28, 28, 28, 28, 28, 28, 28, 28, 28, 28, 28, 28, 28, 28, 28, 28, 28, 28, 28, 26, 23, 23, 23, 23, 23, 23, 23, 23, 23, 26, 26, 23, 26, 26, 23, 23, 23, 26, 23, 23, 25, 25, 25, 30, 30, 30, 30, 29, 60, 32, 32, 23, 41, 32, 23, 23, 47, 23, 23, 23, 26, 26, 26, 35, 23, 23, 23, 23, 26, 26, 65, 26, 23, 29, 32, 26, 23, 26, 35, 32, 29, 26, 26, 26, 32, 32, 26, 32, 26, 32, 32, 26, 32, 32, 26, 26, 32, 32, 32, 32, 26, 26, 24, 24, 22, 22, 24, 22, 24, 22, 24, 22, 22, 22, 24, 22, 24, 24, 24, 24, 24, 24, 22, 24, 22, 24, 24, 22, 24, 24, 22, 24, 22, 24, 24, 24, 24, 24, 22, 24, 24, 22, 24, 24, 22, 24, 24, 22, 22, 24, 24, 24, 24, 22, 24, 24, 26, 24, 28, 22, 26, 22, 22, 28, 22, 22, 26, 24, 26, 22, 22, 22, 22, 26, 32, 26, 26, 24, 28, 26, 24, 22, 22, 30, 30, 22]}, \"mode\": \"markers+text\", \"text\": [10.0, 5.0, 5.0, 5.0, 10.0, 10.0, 20.0, 10.0, 10.0, 4.0, 6.0, 5.0, 4.0, 7.0, 23.0, 3.0, 4.0, 8.0, 22.0, 5.0, 15.0, 8.0, 4.0, 3.0, 3.0, 5.0, 9.0, 5.0, 4.0, 5.0, 4.0, 7.0, 10.0, 3.0, 8.0, 7.0, 6.0, 3.0, 4.0, 4.0, 7.0, 3.0, 4.0, 1.0, 2.0, 4.0, 3.0, 15.0, 9.0, 4.0, 5.0, 11.0, 6.0, 4.0, 5.0, 4.0, 5.0, 13.0, 4.0, 12.0, 4.0, 3.0, 8.0, 6.0, 4.0, 4.0, 5.0, 5.0, 10.0, 5.0, 5.0, 5.0, 5.0, 5.0, 5.0, 5.0, 5.0, 5.0, 5.0, 8.0, 8.0, 8.0, 8.0, 8.0, 8.0, 8.0, 8.0, 8.0, 8.0, 8.0, 8.0, 8.0, 8.0, 8.0, 8.0, 8.0, 8.0, 8.0, 8.0, 8.0, 8.0, 6.0, 3.0, 3.0, 3.0, 3.0, 3.0, 3.0, 3.0, 3.0, 3.0, 6.0, 6.0, 3.0, 6.0, 6.0, 3.0, 3.0, 3.0, 6.0, 3.0, 3.0, 5.0, 5.0, 5.0, 10.0, 10.0, 10.0, 10.0, 9.0, 78.0, 12.0, 12.0, 3.0, 21.0, 12.0, 3.0, 3.0, 27.0, 3.0, 3.0, 3.0, 6.0, 6.0, 6.0, 15.0, 3.0, 3.0, 3.0, 3.0, 6.0, 6.0, 45.0, 6.0, 3.0, 9.0, 12.0, 6.0, 3.0, 6.0, 15.0, 12.0, 9.0, 6.0, 6.0, 6.0, 12.0, 12.0, 6.0, 12.0, 6.0, 12.0, 12.0, 6.0, 12.0, 12.0, 6.0, 6.0, 12.0, 12.0, 12.0, 12.0, 6.0, 6.0, 4.0, 4.0, 2.0, 2.0, 4.0, 2.0, 4.0, 2.0, 4.0, 2.0, 2.0, 2.0, 4.0, 2.0, 4.0, 4.0, 4.0, 4.0, 4.0, 4.0, 2.0, 4.0, 2.0, 4.0, 4.0, 2.0, 4.0, 4.0, 2.0, 4.0, 2.0, 4.0, 4.0, 4.0, 4.0, 4.0, 2.0, 4.0, 4.0, 2.0, 4.0, 4.0, 2.0, 4.0, 4.0, 2.0, 2.0, 4.0, 4.0, 4.0, 4.0, 2.0, 4.0, 4.0, 6.0, 4.0, 8.0, 2.0, 6.0, 2.0, 2.0, 8.0, 2.0, 2.0, 6.0, 4.0, 6.0, 2.0, 2.0, 2.0, 2.0, 6.0, 12.0, 6.0, 6.0, 4.0, 8.0, 6.0, 4.0, 2.0, 2.0, 10.0, 10.0, 2.0], \"textposition\": \"middle center\", \"type\": \"scatter\", \"visible\": false, \"x\": [\"Candidates who have dropped out\", \"Candidates who have dropped out\", \"Candidates who have dropped out\", \"Candidates who have dropped out\", \"Current party leaders\", \"Current party leaders\", \"Current party leaders\", \"Current party leaders\", \"Current party leaders\", \"DNC members\", \"DNC members\", \"DNC members\", \"DNC members\", \"DNC members\", \"DNC members\", \"DNC members\", \"DNC members\", \"DNC members\", \"DNC members\", \"DNC members\", \"DNC members\", \"DNC members\", \"DNC members\", \"DNC members\", \"DNC members\", \"DNC members\", \"DNC members\", \"DNC members\", \"DNC members\", \"DNC members\", \"DNC members\", \"DNC members\", \"DNC members\", \"DNC members\", \"DNC members\", \"DNC members\", \"DNC members\", \"DNC members\", \"DNC members\", \"DNC members\", \"DNC members\", \"DNC members\", \"DNC members\", \"DNC members\", \"DNC members\", \"DNC members\", \"DNC members\", \"DNC members\", \"DNC members\", \"DNC members\", \"DNC members\", \"DNC members\", \"DNC members\", \"DNC members\", \"DNC members\", \"DNC members\", \"DNC members\", \"DNC members\", \"DNC members\", \"DNC members\", \"DNC members\", \"DNC members\", \"DNC members\", \"DNC members\", \"DNC members\", \"DNC members\", \"Former party leaders\", \"Former party leaders\", \"Former party leaders\", \"Former party leaders\", \"Former party leaders\", \"Former party leaders\", \"Former party leaders\", \"Former party leaders\", \"Former party leaders\", \"Former party leaders\", \"Former party leaders\", \"Former party leaders\", \"Former party leaders\", \"Governors\", \"Governors\", \"Governors\", \"Governors\", \"Governors\", \"Governors\", \"Governors\", \"Governors\", \"Governors\", \"Governors\", \"Governors\", \"Governors\", \"Governors\", \"Governors\", \"Governors\", \"Governors\", \"Governors\", \"Governors\", \"Governors\", \"Governors\", \"Governors\", \"Governors\", \"Mayors\", \"Mayors\", \"Mayors\", \"Mayors\", \"Mayors\", \"Mayors\", \"Mayors\", \"Mayors\", \"Mayors\", \"Mayors\", \"Mayors\", \"Mayors\", \"Mayors\", \"Mayors\", \"Mayors\", \"Mayors\", \"Mayors\", \"Mayors\", \"Mayors\", \"Mayors\", \"Mayors\", \"Past nominees\", \"Past nominees\", \"Past nominees\", \"Past presidents and vice presidents\", \"Past presidents and vice presidents\", \"Past presidents and vice presidents\", \"Past presidents and vice presidents\", \"Representatives\", \"Representatives\", \"Representatives\", \"Representatives\", \"Representatives\", \"Representatives\", \"Representatives\", \"Representatives\", \"Representatives\", \"Representatives\", \"Representatives\", \"Representatives\", \"Representatives\", \"Representatives\", \"Representatives\", \"Representatives\", \"Representatives\", \"Representatives\", \"Representatives\", \"Representatives\", \"Representatives\", \"Representatives\", \"Representatives\", \"Representatives\", \"Representatives\", \"Representatives\", \"Representatives\", \"Representatives\", \"Representatives\", \"Representatives\", \"Representatives\", \"Representatives\", \"Representatives\", \"Representatives\", \"Representatives\", \"Senators\", \"Senators\", \"Senators\", \"Senators\", \"Senators\", \"Senators\", \"Senators\", \"Senators\", \"Senators\", \"Senators\", \"Senators\", \"Senators\", \"Senators\", \"Senators\", \"Senators\", \"Senators\", \"Senators\", \"Senators\", \"Senators\", \"Senators\", \"State legislative leaders\", \"State legislative leaders\", \"State legislative leaders\", \"State legislative leaders\", \"State legislative leaders\", \"State legislative leaders\", \"State legislative leaders\", \"State legislative leaders\", \"State legislative leaders\", \"State legislative leaders\", \"State legislative leaders\", \"State legislative leaders\", \"State legislative leaders\", \"State legislative leaders\", \"State legislative leaders\", \"State legislative leaders\", \"State legislative leaders\", \"State legislative leaders\", \"State legislative leaders\", \"State legislative leaders\", \"State legislative leaders\", \"State legislative leaders\", \"State legislative leaders\", \"State legislative leaders\", \"State legislative leaders\", \"State legislative leaders\", \"State legislative leaders\", \"State legislative leaders\", \"State legislative leaders\", \"State legislative leaders\", \"State legislative leaders\", \"State legislative leaders\", \"State legislative leaders\", \"State legislative leaders\", \"State legislative leaders\", \"State legislative leaders\", \"State legislative leaders\", \"State legislative leaders\", \"State legislative leaders\", \"State legislative leaders\", \"State legislative leaders\", \"State legislative leaders\", \"State legislative leaders\", \"State legislative leaders\", \"State legislative leaders\", \"State legislative leaders\", \"State legislative leaders\", \"State legislative leaders\", \"State legislative leaders\", \"State legislative leaders\", \"State legislative leaders\", \"Statewide officeholders\", \"Statewide officeholders\", \"Statewide officeholders\", \"Statewide officeholders\", \"Statewide officeholders\", \"Statewide officeholders\", \"Statewide officeholders\", \"Statewide officeholders\", \"Statewide officeholders\", \"Statewide officeholders\", \"Statewide officeholders\", \"Statewide officeholders\", \"Statewide officeholders\", \"Statewide officeholders\", \"Statewide officeholders\", \"Statewide officeholders\", \"Statewide officeholders\", \"Statewide officeholders\", \"Statewide officeholders\", \"Statewide officeholders\", \"Statewide officeholders\", \"Statewide officeholders\", \"Statewide officeholders\", \"Statewide officeholders\", \"Statewide officeholders\", \"Statewide officeholders\", \"Statewide officeholders\", \"Statewide officeholders\", \"Statewide officeholders\", \"Statewide officeholders\", \"Statewide officeholders\", \"Statewide officeholders\", \"Statewide officeholders\"], \"y\": [\"CA\", \"MD\", \"NY\", \"TX\", \"CA\", \"IL\", \"MD\", \"NY\", \"SC\", \"AK\", \"AL\", \"AR\", \"AS\", \"AZ\", \"CA\", \"CO\", \"CT\", \"DA\", \"DC\", \"DE\", \"FL\", \"GA\", \"GU\", \"HI\", \"IA\", \"ID\", \"IL\", \"IN\", \"KS\", \"KY\", \"LA\", \"MA\", \"MD\", \"ME\", \"MI\", \"MN\", \"MO\", \"MP\", \"MS\", \"MT\", \"NC\", \"ND\", \"NE\", \"NH\", \"NJ\", \"NM\", \"NV\", \"NY\", \"OH\", \"OK\", \"OR\", \"PA\", \"PR\", \"RI\", \"SC\", \"SD\", \"TN\", \"TX\", \"UT\", \"VA\", \"VI\", \"VT\", \"WA\", \"WI\", \"WV\", \"WY\", \"DC\", \"DE\", \"FL\", \"MA\", \"MD\", \"MO\", \"NM\", \"NV\", \"NY\", \"OH\", \"SC\", \"VA\", \"VT\", \"AS\", \"CO\", \"GU\", \"HI\", \"IL\", \"KS\", \"KY\", \"LA\", \"ME\", \"MI\", \"MT\", \"NC\", \"NM\", \"NV\", \"OR\", \"PA\", \"PR\", \"RI\", \"VA\", \"VI\", \"WA\", \"WI\", \"AZ\", \"CA\", \"FL\", \"HI\", \"IL\", \"IN\", \"KS\", \"LA\", \"MA\", \"MD\", \"MO\", \"NC\", \"NM\", \"NV\", \"OH\", \"OR\", \"PA\", \"TN\", \"TX\", \"WA\", \"WI\", \"CT\", \"NC\", \"NY\", \"GA\", \"IL\", \"NY\", \"TN\", \"AZ\", \"CA\", \"CO\", \"CT\", \"DC\", \"FL\", \"GA\", \"GU\", \"HI\", \"IL\", \"IN\", \"KS\", \"KY\", \"MA\", \"MD\", \"ME\", \"MI\", \"MP\", \"MS\", \"NC\", \"NH\", \"NM\", \"NV\", \"NY\", \"OH\", \"OK\", \"OR\", \"PA\", \"RI\", \"SC\", \"TN\", \"TX\", \"VA\", \"WA\", \"WI\", \"AZ\", \"CA\", \"CT\", \"HI\", \"IL\", \"MD\", \"ME\", \"MI\", \"NH\", \"NJ\", \"NM\", \"NV\", \"NY\", \"OH\", \"OR\", \"RI\", \"VA\", \"WA\", \"WI\", \"WV\", \"AK\", \"AL\", \"AR\", \"AS\", \"AZ\", \"CO\", \"CT\", \"DC\", \"DE\", \"FL\", \"GA\", \"GU\", \"HI\", \"IA\", \"ID\", \"IL\", \"IN\", \"KS\", \"KY\", \"LA\", \"MA\", \"MD\", \"ME\", \"MI\", \"MO\", \"MS\", \"MT\", \"NC\", \"ND\", \"NE\", \"NH\", \"NM\", \"NV\", \"NY\", \"OH\", \"OK\", \"OR\", \"PA\", \"PR\", \"RI\", \"SC\", \"SD\", \"TN\", \"UT\", \"VA\", \"VI\", \"VT\", \"WA\", \"WI\", \"WV\", \"WY\", \"AS\", \"AZ\", \"CA\", \"CO\", \"CT\", \"DE\", \"FL\", \"GU\", \"HI\", \"IA\", \"IL\", \"KS\", \"KY\", \"MA\", \"MD\", \"MI\", \"MN\", \"MO\", \"MP\", \"MT\", \"NC\", \"NM\", \"NV\", \"NY\", \"OR\", \"PA\", \"RI\", \"VA\", \"VI\", \"VT\", \"WA\", \"WI\", \"WV\"]}, {\"marker\": {\"color\": [1, 358, 1, 1, 1, 5, 1, 1, 1, 1, 1, 14, 1, 1, 1, 1, 1, 2, 3, 10, 1, 1, 2, 1, 21, 1, 18, 1, 26, 2, 44, 3, 1, 1, 2, 8, 5, 1, 122, 10, 1, 30, 15, 1, 6, 3, 1, 9, 1, 3, 1, 1, 1, 1, 1, 2, 1, 1, 1], \"colorscale\": [[0.0, \"rgb(0, 128, 128)\"], [0.16666666666666666, \"rgb(112, 164, 148)\"], [0.3333333333333333, \"rgb(180, 200, 168)\"], [0.5, \"rgb(246, 237, 189)\"], [0.6666666666666666, \"rgb(237, 187, 138)\"], [0.8333333333333334, \"rgb(222, 138, 90)\"], [1.0, \"rgb(202, 86, 44)\"]], \"opacity\": 0.7, \"showscale\": false, \"size\": [30, 60, 22, 22, 22, 45, 30, 30, 30, 30, 30, 48, 22, 22, 22, 22, 22, 24, 29, 60, 25, 25, 30, 22, 60, 22, 56, 22, 60, 24, 60, 50, 25, 30, 30, 36, 30, 22, 60, 40, 22, 60, 50, 22, 32, 26, 22, 38, 22, 26, 23, 26, 22, 22, 22, 24, 28, 23, 22]}, \"mode\": \"markers+text\", \"text\": [10.0, 358.0, 2.0, 2.0, 2.0, 25.0, 10.0, 10.0, 10.0, 10.0, 10.0, 28.0, 2.0, 2.0, 2.0, 2.0, 2.0, 4.0, 9.0, 50.0, 5.0, 5.0, 10.0, 2.0, 168.0, 2.0, 36.0, 2.0, 78.0, 4.0, 88.0, 30.0, 5.0, 10.0, 10.0, 16.0, 10.0, 2.0, 366.0, 20.0, 2.0, 180.0, 30.0, 2.0, 12.0, 6.0, 2.0, 18.0, 2.0, 6.0, 3.0, 6.0, 2.0, 2.0, 2.0, 4.0, 8.0, 3.0, 2.0], \"textposition\": \"middle center\", \"type\": \"scatter\", \"visible\": false, \"x\": [\"D\", \"D\", \"D\", \"D\", \"D\", \"D\", \"D\", \"D\", \"D\", \"D\", \"D\", \"D\", \"D\", \"D\", \"D\", \"D\", \"D\", \"D\", \"D\", \"D\", \"D\", \"D\", \"D\", \"D\", \"D\", \"D\", \"D\", \"D\", \"D\", \"D\", \"D\", \"D\", \"D\", \"D\", \"D\", \"D\", \"D\", \"D\", \"D\", \"D\", \"D\", \"D\", \"D\", \"D\", \"D\", \"D\", \"D\", \"D\", \"D\", \"D\", \"I\", \"I\", \"I\", \"NPP\", \"NPP\", \"None\", \"None\", \"None\", \"None\"], \"y\": [\"DNC chair\", \"DNC member\", \"Democratic caucus chairman\", \"Executive Board chairman\", \"Executive Board member\", \"Former 2020 candidate\", \"U.S. House Democratic whip\", \"U.S. House majority leader\", \"U.S. House speaker\", \"U.S. Senate Democratic whip\", \"U.S. Senate minority leader\", \"attorney general\", \"auditor general\", \"auditor of accounts\", \"chairman\", \"commissioner of agriculture and consumer services\", \"commissioner of insurance\", \"commissioner of public lands\", \"delegate\", \"former DNC chair\", \"former U.S. House Democratic whip\", \"former U.S. House majority leader\", \"former U.S. Senate majority leader\", \"general treasurer\", \"governor\", \"insurance commissioner\", \"lieutenant governor\", \"majority leader\", \"mayor\", \"minority floor leader\", \"minority leader\", \"past president\", \"past presidential nominee\", \"past vice president\", \"past vice-presidential nominee\", \"president\", \"president pro tem\", \"public auditor\", \"representative\", \"secretary of state\", \"secretary of the commonwealth\", \"senator\", \"speaker\", \"speaker pro tem\", \"state auditor\", \"state comptroller\", \"state controller\", \"state treasurer\", \"state treasurer and receiver-general\", \"superintendent of public instruction\", \"representative\", \"senator\", \"speaker\", \"president\", \"speaker\", \"attorney general\", \"governor\", \"mayor\", \"president\"]}, {\"marker\": {\"color\": [5, 8, 6, 6, 17, 56, 12, 15, 8, 25, 12, 27, 14, 9, 11, 5, 7, 29, 9, 10, 10, 8, 15, 23, 7, 20, 8, 12, 4, 6, 8, 17, 4, 6, 5, 3, 19, 15, 41, 17, 7, 15, 23, 6, 13, 10, 6, 10, 21, 6, 24, 7, 6, 22, 18, 8, 6, 1, 1, 1, 2, 1, 1, 1, 1, 1], \"colorscale\": [[0.0, \"rgb(0, 128, 128)\"], [0.16666666666666666, \"rgb(112, 164, 148)\"], [0.3333333333333333, \"rgb(180, 200, 168)\"], [0.5, \"rgb(246, 237, 189)\"], [0.6666666666666666, \"rgb(237, 187, 138)\"], [0.8333333333333334, \"rgb(222, 138, 90)\"], [1.0, \"rgb(202, 86, 44)\"]], \"opacity\": 0.7, \"showscale\": false, \"size\": [26, 30, 27, 34, 56, 60, 51, 61, 28, 52, 42, 60, 52, 41, 55, 27, 29, 60, 35, 44, 42, 39, 49, 60, 39, 60, 29, 43, 26, 29, 38, 59, 25, 28, 38, 28, 60, 67, 60, 56, 31, 63, 66, 26, 58, 47, 28, 46, 59, 28, 60, 36, 32, 60, 63, 36, 28, 22, 26, 23, 24, 22, 22, 22, 23, 28]}, \"mode\": \"markers+text\", \"text\": [6.0, 10.0, 7.0, 14.0, 36.0, 134.0, 31.0, 41.0, 8.0, 32.0, 22.0, 53.0, 32.0, 21.0, 35.0, 7.0, 9.0, 85.0, 15.0, 24.0, 22.0, 19.0, 29.0, 69.0, 19.0, 50.0, 9.0, 23.0, 6.0, 9.0, 18.0, 39.0, 5.0, 8.0, 18.0, 8.0, 54.0, 47.0, 111.0, 36.0, 11.0, 43.0, 46.0, 6.0, 38.0, 27.0, 8.0, 26.0, 39.0, 8.0, 57.0, 16.0, 12.0, 54.0, 43.0, 16.0, 8.0, 2.0, 6.0, 3.0, 4.0, 2.0, 2.0, 2.0, 3.0, 8.0], \"textposition\": \"middle center\", \"type\": \"scatter\", \"visible\": false, \"x\": [\"D\", \"D\", \"D\", \"D\", \"D\", \"D\", \"D\", \"D\", \"D\", \"D\", \"D\", \"D\", \"D\", \"D\", \"D\", \"D\", \"D\", \"D\", \"D\", \"D\", \"D\", \"D\", \"D\", \"D\", \"D\", \"D\", \"D\", \"D\", \"D\", \"D\", \"D\", \"D\", \"D\", \"D\", \"D\", \"D\", \"D\", \"D\", \"D\", \"D\", \"D\", \"D\", \"D\", \"D\", \"D\", \"D\", \"D\", \"D\", \"D\", \"D\", \"D\", \"D\", \"D\", \"D\", \"D\", \"D\", \"D\", \"I\", \"I\", \"I\", \"NPP\", \"None\", \"None\", \"None\", \"None\", \"None\"], \"y\": [\"AK\", \"AL\", \"AR\", \"AS\", \"AZ\", \"CA\", \"CO\", \"CT\", \"DA\", \"DC\", \"DE\", \"FL\", \"GA\", \"GU\", \"HI\", \"IA\", \"ID\", \"IL\", \"IN\", \"KS\", \"KY\", \"LA\", \"MA\", \"MD\", \"ME\", \"MI\", \"MN\", \"MO\", \"MP\", \"MS\", \"MT\", \"NC\", \"ND\", \"NE\", \"NH\", \"NJ\", \"NM\", \"NV\", \"NY\", \"OH\", \"OK\", \"OR\", \"PA\", \"PR\", \"RI\", \"SC\", \"SD\", \"TN\", \"TX\", \"UT\", \"VA\", \"VI\", \"VT\", \"WA\", \"WI\", \"WV\", \"WY\", \"AK\", \"ME\", \"MI\", \"PR\", \"AS\", \"GU\", \"MP\", \"NV\", \"PR\"]}, {\"marker\": {\"color\": [1, 4, 6, 5, 4, 7, 23, 3, 4, 8, 22, 5, 15, 8, 4, 3, 3, 5, 9, 5, 4, 5, 4, 7, 10, 3, 8, 7, 6, 3, 4, 4, 7, 3, 4, 1, 2, 4, 3, 15, 9, 4, 5, 11, 6, 4, 5, 4, 5, 13, 4, 12, 4, 3, 8, 6, 4, 4, 1, 1, 1, 2, 1, 1, 1, 1, 1, 1, 1, 1, 1, 1, 1, 1, 1, 1, 1, 1, 1, 1, 1, 1, 1, 1, 1, 1, 1, 1, 1, 1, 1, 1, 1, 1, 1, 1, 1, 2, 1, 1, 1, 1, 1, 1, 1, 1, 1, 1, 1, 1, 1, 1, 1, 1, 1, 1, 1, 1, 1, 1, 1, 1, 1, 1, 1, 1, 1, 1, 1, 1, 1, 1, 1, 1, 1, 1, 1, 1, 1, 1, 1, 1, 1, 1, 1, 1, 1, 1, 1, 1, 1, 1, 2, 1, 1, 1, 1, 1, 1, 1, 1, 1, 2, 2, 1, 2, 2, 1, 1, 1, 2, 1, 1, 2, 1, 2, 1, 2, 1, 1, 1, 2, 2, 2, 2, 2, 1, 2, 2, 1, 2, 2, 2, 2, 2, 1, 2, 2, 2, 2, 1, 1, 1, 1, 1, 1, 1, 1, 1, 1, 1, 1, 1, 1, 1, 1, 1, 1, 1, 1, 1, 1, 1, 3, 26, 4, 4, 7, 4, 1, 9, 1, 1, 1, 2, 2, 2, 5, 1, 1, 1, 2, 2, 15, 2, 1, 3, 4, 2, 1, 2, 5, 4, 3, 2, 1, 1, 1, 1, 1, 1, 1, 1, 1, 1, 1, 1, 1, 2, 2, 1, 2, 1, 2, 2, 1, 2, 2, 1, 1, 2, 2, 2, 2, 1, 1, 1, 1, 1, 1, 1, 1, 1, 1, 1, 1, 1, 1, 1, 1, 1, 1, 1, 1, 1, 1, 1, 1, 1, 1, 1, 1, 1, 1, 1, 1, 1, 1, 1, 1, 1, 1, 1, 1, 1, 1, 1], \"colorscale\": [[0.0, \"rgb(0, 128, 128)\"], [0.16666666666666666, \"rgb(112, 164, 148)\"], [0.3333333333333333, \"rgb(180, 200, 168)\"], [0.5, \"rgb(246, 237, 189)\"], [0.6666666666666666, \"rgb(237, 187, 138)\"], [0.8333333333333334, \"rgb(222, 138, 90)\"], [1.0, \"rgb(202, 86, 44)\"]], \"opacity\": 0.7, \"showscale\": false, \"size\": [30, 24, 26, 25, 24, 27, 43, 23, 24, 28, 42, 25, 35, 28, 24, 23, 23, 25, 29, 25, 24, 25, 24, 27, 30, 23, 28, 27, 26, 23, 24, 24, 27, 23, 24, 21, 22, 24, 23, 35, 29, 24, 25, 31, 26, 24, 25, 24, 25, 33, 24, 32, 24, 23, 28, 26, 24, 24, 22, 22, 22, 30, 25, 25, 25, 30, 30, 30, 30, 30, 22, 22, 22, 22, 22, 22, 22, 22, 22, 22, 22, 22, 22, 22, 22, 22, 22, 22, 22, 22, 22, 22, 22, 23, 23, 23, 25, 30, 25, 25, 25, 25, 25, 25, 25, 25, 25, 25, 25, 22, 28, 28, 28, 28, 28, 28, 28, 28, 28, 28, 28, 28, 28, 28, 28, 28, 28, 28, 28, 28, 28, 28, 22, 22, 22, 22, 22, 22, 22, 22, 22, 22, 22, 22, 22, 22, 22, 22, 22, 22, 22, 22, 26, 23, 23, 23, 23, 23, 23, 23, 23, 23, 26, 26, 23, 26, 26, 23, 23, 23, 26, 23, 23, 24, 22, 24, 22, 24, 22, 22, 22, 24, 24, 24, 24, 24, 22, 24, 24, 22, 24, 24, 24, 24, 24, 22, 24, 24, 24, 24, 30, 30, 30, 25, 30, 25, 25, 22, 22, 22, 22, 22, 22, 22, 22, 22, 22, 22, 22, 22, 22, 22, 22, 29, 60, 32, 32, 41, 32, 23, 47, 23, 23, 23, 26, 26, 26, 35, 23, 23, 23, 26, 26, 65, 26, 23, 29, 32, 26, 23, 26, 35, 32, 29, 26, 22, 22, 22, 22, 22, 22, 22, 22, 22, 22, 22, 26, 26, 32, 32, 26, 32, 26, 32, 32, 26, 32, 32, 26, 26, 32, 32, 32, 32, 26, 26, 22, 22, 22, 22, 22, 22, 22, 22, 22, 22, 22, 22, 22, 22, 22, 22, 22, 22, 22, 22, 22, 22, 22, 22, 22, 22, 22, 22, 22, 22, 22, 22, 22, 22, 22, 22, 22, 22, 22, 22, 22]}, \"mode\": \"markers+text\", \"text\": [10.0, 4.0, 6.0, 5.0, 4.0, 7.0, 23.0, 3.0, 4.0, 8.0, 22.0, 5.0, 15.0, 8.0, 4.0, 3.0, 3.0, 5.0, 9.0, 5.0, 4.0, 5.0, 4.0, 7.0, 10.0, 3.0, 8.0, 7.0, 6.0, 3.0, 4.0, 4.0, 7.0, 3.0, 4.0, 1.0, 2.0, 4.0, 3.0, 15.0, 9.0, 4.0, 5.0, 11.0, 6.0, 4.0, 5.0, 4.0, 5.0, 13.0, 4.0, 12.0, 4.0, 3.0, 8.0, 6.0, 4.0, 4.0, 2.0, 2.0, 2.0, 10.0, 5.0, 5.0, 5.0, 10.0, 10.0, 10.0, 10.0, 10.0, 2.0, 2.0, 2.0, 2.0, 2.0, 2.0, 2.0, 2.0, 2.0, 2.0, 2.0, 2.0, 2.0, 2.0, 2.0, 2.0, 2.0, 2.0, 2.0, 2.0, 2.0, 2.0, 2.0, 3.0, 3.0, 3.0, 5.0, 10.0, 5.0, 5.0, 5.0, 5.0, 5.0, 5.0, 5.0, 5.0, 5.0, 5.0, 5.0, 2.0, 8.0, 8.0, 8.0, 8.0, 8.0, 8.0, 8.0, 8.0, 8.0, 8.0, 8.0, 8.0, 8.0, 8.0, 8.0, 8.0, 8.0, 8.0, 8.0, 8.0, 8.0, 8.0, 2.0, 2.0, 2.0, 2.0, 2.0, 2.0, 2.0, 2.0, 2.0, 2.0, 2.0, 2.0, 2.0, 2.0, 2.0, 2.0, 2.0, 2.0, 2.0, 2.0, 6.0, 3.0, 3.0, 3.0, 3.0, 3.0, 3.0, 3.0, 3.0, 3.0, 6.0, 6.0, 3.0, 6.0, 6.0, 3.0, 3.0, 3.0, 6.0, 3.0, 3.0, 4.0, 2.0, 4.0, 2.0, 4.0, 2.0, 2.0, 2.0, 4.0, 4.0, 4.0, 4.0, 4.0, 2.0, 4.0, 4.0, 2.0, 4.0, 4.0, 4.0, 4.0, 4.0, 2.0, 4.0, 4.0, 4.0, 4.0, 10.0, 10.0, 10.0, 5.0, 10.0, 5.0, 5.0, 2.0, 2.0, 2.0, 2.0, 2.0, 2.0, 2.0, 2.0, 2.0, 2.0, 2.0, 2.0, 2.0, 2.0, 2.0, 2.0, 9.0, 78.0, 12.0, 12.0, 21.0, 12.0, 3.0, 27.0, 3.0, 3.0, 3.0, 6.0, 6.0, 6.0, 15.0, 3.0, 3.0, 3.0, 6.0, 6.0, 45.0, 6.0, 3.0, 9.0, 12.0, 6.0, 3.0, 6.0, 15.0, 12.0, 9.0, 6.0, 2.0, 2.0, 2.0, 2.0, 2.0, 2.0, 2.0, 2.0, 2.0, 2.0, 2.0, 6.0, 6.0, 12.0, 12.0, 6.0, 12.0, 6.0, 12.0, 12.0, 6.0, 12.0, 12.0, 6.0, 6.0, 12.0, 12.0, 12.0, 12.0, 6.0, 6.0, 2.0, 2.0, 2.0, 2.0, 2.0, 2.0, 2.0, 2.0, 2.0, 2.0, 2.0, 2.0, 2.0, 2.0, 2.0, 2.0, 2.0, 2.0, 2.0, 2.0, 2.0, 2.0, 2.0, 2.0, 2.0, 2.0, 2.0, 2.0, 2.0, 2.0, 2.0, 2.0, 2.0, 2.0, 2.0, 2.0, 2.0, 2.0, 2.0, 2.0, 2.0], \"textposition\": \"middle center\", \"type\": \"scatter\", \"visible\": false, \"x\": [\"DNC chair\", \"DNC member\", \"DNC member\", \"DNC member\", \"DNC member\", \"DNC member\", \"DNC member\", \"DNC member\", \"DNC member\", \"DNC member\", \"DNC member\", \"DNC member\", \"DNC member\", \"DNC member\", \"DNC member\", \"DNC member\", \"DNC member\", \"DNC member\", \"DNC member\", \"DNC member\", \"DNC member\", \"DNC member\", \"DNC member\", \"DNC member\", \"DNC member\", \"DNC member\", \"DNC member\", \"DNC member\", \"DNC member\", \"DNC member\", \"DNC member\", \"DNC member\", \"DNC member\", \"DNC member\", \"DNC member\", \"DNC member\", \"DNC member\", \"DNC member\", \"DNC member\", \"DNC member\", \"DNC member\", \"DNC member\", \"DNC member\", \"DNC member\", \"DNC member\", \"DNC member\", \"DNC member\", \"DNC member\", \"DNC member\", \"DNC member\", \"DNC member\", \"DNC member\", \"DNC member\", \"DNC member\", \"DNC member\", \"DNC member\", \"DNC member\", \"DNC member\", \"Democratic caucus chairman\", \"Executive Board chairman\", \"Executive Board member\", \"Former 2020 candidate\", \"Former 2020 candidate\", \"Former 2020 candidate\", \"Former 2020 candidate\", \"U.S. House Democratic whip\", \"U.S. House majority leader\", \"U.S. House speaker\", \"U.S. Senate Democratic whip\", \"U.S. Senate minority leader\", \"attorney general\", \"attorney general\", \"attorney general\", \"attorney general\", \"attorney general\", \"attorney general\", \"attorney general\", \"attorney general\", \"attorney general\", \"attorney general\", \"attorney general\", \"attorney general\", \"attorney general\", \"attorney general\", \"attorney general\", \"attorney general\", \"auditor general\", \"auditor of accounts\", \"chairman\", \"commissioner of agriculture and consumer services\", \"commissioner of insurance\", \"commissioner of public lands\", \"commissioner of public lands\", \"delegate\", \"delegate\", \"delegate\", \"former DNC chair\", \"former DNC chair\", \"former DNC chair\", \"former DNC chair\", \"former DNC chair\", \"former DNC chair\", \"former DNC chair\", \"former DNC chair\", \"former DNC chair\", \"former U.S. House Democratic whip\", \"former U.S. House majority leader\", \"former U.S. Senate majority leader\", \"former U.S. Senate majority leader\", \"general treasurer\", \"governor\", \"governor\", \"governor\", \"governor\", \"governor\", \"governor\", \"governor\", \"governor\", \"governor\", \"governor\", \"governor\", \"governor\", \"governor\", \"governor\", \"governor\", \"governor\", \"governor\", \"governor\", \"governor\", \"governor\", \"governor\", \"governor\", \"insurance commissioner\", \"lieutenant governor\", \"lieutenant governor\", \"lieutenant governor\", \"lieutenant governor\", \"lieutenant governor\", \"lieutenant governor\", \"lieutenant governor\", \"lieutenant governor\", \"lieutenant governor\", \"lieutenant governor\", \"lieutenant governor\", \"lieutenant governor\", \"lieutenant governor\", \"lieutenant governor\", \"lieutenant governor\", \"lieutenant governor\", \"lieutenant governor\", \"lieutenant governor\", \"majority leader\", \"mayor\", \"mayor\", \"mayor\", \"mayor\", \"mayor\", \"mayor\", \"mayor\", \"mayor\", \"mayor\", \"mayor\", \"mayor\", \"mayor\", \"mayor\", \"mayor\", \"mayor\", \"mayor\", \"mayor\", \"mayor\", \"mayor\", \"mayor\", \"mayor\", \"minority floor leader\", \"minority leader\", \"minority leader\", \"minority leader\", \"minority leader\", \"minority leader\", \"minority leader\", \"minority leader\", \"minority leader\", \"minority leader\", \"minority leader\", \"minority leader\", \"minority leader\", \"minority leader\", \"minority leader\", \"minority leader\", \"minority leader\", \"minority leader\", \"minority leader\", \"minority leader\", \"minority leader\", \"minority leader\", \"minority leader\", \"minority leader\", \"minority leader\", \"minority leader\", \"minority leader\", \"past president\", \"past president\", \"past president\", \"past presidential nominee\", \"past vice president\", \"past vice-presidential nominee\", \"past vice-presidential nominee\", \"president\", \"president\", \"president\", \"president\", \"president\", \"president\", \"president\", \"president\", \"president\", \"president\", \"president pro tem\", \"president pro tem\", \"president pro tem\", \"president pro tem\", \"president pro tem\", \"public auditor\", \"representative\", \"representative\", \"representative\", \"representative\", \"representative\", \"representative\", \"representative\", \"representative\", \"representative\", \"representative\", \"representative\", \"representative\", \"representative\", \"representative\", \"representative\", \"representative\", \"representative\", \"representative\", \"representative\", \"representative\", \"representative\", \"representative\", \"representative\", \"representative\", \"representative\", \"representative\", \"representative\", \"representative\", \"representative\", \"representative\", \"representative\", \"representative\", \"secretary of state\", \"secretary of state\", \"secretary of state\", \"secretary of state\", \"secretary of state\", \"secretary of state\", \"secretary of state\", \"secretary of state\", \"secretary of state\", \"secretary of state\", \"secretary of the commonwealth\", \"senator\", \"senator\", \"senator\", \"senator\", \"senator\", \"senator\", \"senator\", \"senator\", \"senator\", \"senator\", \"senator\", \"senator\", \"senator\", \"senator\", \"senator\", \"senator\", \"senator\", \"senator\", \"senator\", \"senator\", \"speaker\", \"speaker\", \"speaker\", \"speaker\", \"speaker\", \"speaker\", \"speaker\", \"speaker\", \"speaker\", \"speaker\", \"speaker\", \"speaker\", \"speaker\", \"speaker\", \"speaker\", \"speaker\", \"speaker\", \"speaker pro tem\", \"state auditor\", \"state auditor\", \"state auditor\", \"state auditor\", \"state auditor\", \"state auditor\", \"state comptroller\", \"state comptroller\", \"state comptroller\", \"state controller\", \"state treasurer\", \"state treasurer\", \"state treasurer\", \"state treasurer\", \"state treasurer\", \"state treasurer\", \"state treasurer\", \"state treasurer\", \"state treasurer\", \"state treasurer and receiver-general\", \"superintendent of public instruction\", \"superintendent of public instruction\", \"superintendent of public instruction\"], \"y\": [\"MD\", \"AK\", \"AL\", \"AR\", \"AS\", \"AZ\", \"CA\", \"CO\", \"CT\", \"DA\", \"DC\", \"DE\", \"FL\", \"GA\", \"GU\", \"HI\", \"IA\", \"ID\", \"IL\", \"IN\", \"KS\", \"KY\", \"LA\", \"MA\", \"MD\", \"ME\", \"MI\", \"MN\", \"MO\", \"MP\", \"MS\", \"MT\", \"NC\", \"ND\", \"NE\", \"NH\", \"NJ\", \"NM\", \"NV\", \"NY\", \"OH\", \"OK\", \"OR\", \"PA\", \"PR\", \"RI\", \"SC\", \"SD\", \"TN\", \"TX\", \"UT\", \"VA\", \"VI\", \"VT\", \"WA\", \"WI\", \"WV\", \"WY\", \"LA\", \"NE\", \"NE\", \"CA\", \"MD\", \"NY\", \"TX\", \"SC\", \"MD\", \"CA\", \"IL\", \"NY\", \"CA\", \"CT\", \"GU\", \"IL\", \"MD\", \"MI\", \"MP\", \"NC\", \"NM\", \"NV\", \"NY\", \"OR\", \"PA\", \"RI\", \"VA\", \"WI\", \"PA\", \"DE\", \"DC\", \"FL\", \"DE\", \"NM\", \"WA\", \"DC\", \"GU\", \"MP\", \"DC\", \"FL\", \"MA\", \"MD\", \"NM\", \"OH\", \"SC\", \"VA\", \"VT\", \"DE\", \"MO\", \"NV\", \"NY\", \"RI\", \"AS\", \"CO\", \"GU\", \"HI\", \"IL\", \"KS\", \"KY\", \"LA\", \"ME\", \"MI\", \"MT\", \"NC\", \"NM\", \"NV\", \"OR\", \"PA\", \"PR\", \"RI\", \"VA\", \"VI\", \"WA\", \"WI\", \"WA\", \"AS\", \"CO\", \"DE\", \"GU\", \"HI\", \"IL\", \"KS\", \"KY\", \"MI\", \"MT\", \"NM\", \"NV\", \"NY\", \"PA\", \"VA\", \"VI\", \"WA\", \"WI\", \"VA\", \"AZ\", \"CA\", \"FL\", \"HI\", \"IL\", \"IN\", \"KS\", \"LA\", \"MA\", \"MD\", \"MO\", \"NC\", \"NM\", \"NV\", \"OH\", \"OR\", \"PA\", \"TN\", \"TX\", \"WA\", \"WI\", \"KY\", \"AK\", \"AL\", \"AR\", \"AZ\", \"FL\", \"GA\", \"IA\", \"ID\", \"IN\", \"KS\", \"MI\", \"MO\", \"MS\", \"MT\", \"NC\", \"ND\", \"OH\", \"OK\", \"PA\", \"SC\", \"SD\", \"TN\", \"UT\", \"WI\", \"WV\", \"WY\", \"GA\", \"IL\", \"NY\", \"NY\", \"TN\", \"CT\", \"NC\", \"AS\", \"HI\", \"IL\", \"MD\", \"NH\", \"NY\", \"OR\", \"PR\", \"RI\", \"VI\", \"CT\", \"DE\", \"NM\", \"NV\", \"WA\", \"GU\", \"AZ\", \"CA\", \"CO\", \"CT\", \"FL\", \"GA\", \"HI\", \"IL\", \"IN\", \"KS\", \"KY\", \"MA\", \"MD\", \"ME\", \"MI\", \"MS\", \"NC\", \"NH\", \"NM\", \"NV\", \"NY\", \"OH\", \"OK\", \"OR\", \"PA\", \"RI\", \"SC\", \"TN\", \"TX\", \"VA\", \"WA\", \"WI\", \"AZ\", \"CO\", \"IL\", \"MI\", \"MN\", \"NC\", \"NM\", \"RI\", \"VT\", \"WI\", \"MA\", \"AZ\", \"CA\", \"CT\", \"HI\", \"IL\", \"MD\", \"ME\", \"MI\", \"NH\", \"NJ\", \"NM\", \"NV\", \"NY\", \"OH\", \"OR\", \"RI\", \"VA\", \"WA\", \"WI\", \"WV\", \"AK\", \"CO\", \"CT\", \"DE\", \"GU\", \"HI\", \"IL\", \"MA\", \"MD\", \"ME\", \"NM\", \"NV\", \"NY\", \"PR\", \"VA\", \"VT\", \"WA\", \"LA\", \"IA\", \"MA\", \"MO\", \"NC\", \"NM\", \"WA\", \"IL\", \"MD\", \"NY\", \"CA\", \"CO\", \"CT\", \"DE\", \"NM\", \"NV\", \"OR\", \"PA\", \"WI\", \"WV\", \"MA\", \"AZ\", \"WA\", \"WI\"]}],\n",
       "                        {\"annotations\": [{\"align\": \"left\", \"showarrow\": false, \"text\": \"Select Columns\", \"x\": 0.02, \"xref\": \"paper\", \"y\": 1.12, \"yref\": \"paper\"}], \"height\": 1150, \"margin\": {\"l\": 120, \"t\": 200}, \"showlegend\": false, \"template\": {\"data\": {\"bar\": [{\"error_x\": {\"color\": \"#2a3f5f\"}, \"error_y\": {\"color\": \"#2a3f5f\"}, \"marker\": {\"line\": {\"color\": \"#E5ECF6\", \"width\": 0.5}}, \"type\": \"bar\"}], \"barpolar\": [{\"marker\": {\"line\": {\"color\": \"#E5ECF6\", \"width\": 0.5}}, \"type\": \"barpolar\"}], \"carpet\": [{\"aaxis\": {\"endlinecolor\": \"#2a3f5f\", \"gridcolor\": \"white\", \"linecolor\": \"white\", \"minorgridcolor\": \"white\", \"startlinecolor\": \"#2a3f5f\"}, \"baxis\": {\"endlinecolor\": \"#2a3f5f\", \"gridcolor\": \"white\", \"linecolor\": \"white\", \"minorgridcolor\": \"white\", \"startlinecolor\": \"#2a3f5f\"}, \"type\": \"carpet\"}], \"choropleth\": [{\"colorbar\": {\"outlinewidth\": 0, \"ticks\": \"\"}, \"type\": \"choropleth\"}], \"contour\": [{\"colorbar\": {\"outlinewidth\": 0, \"ticks\": \"\"}, \"colorscale\": [[0.0, \"#0d0887\"], [0.1111111111111111, \"#46039f\"], [0.2222222222222222, \"#7201a8\"], [0.3333333333333333, \"#9c179e\"], [0.4444444444444444, \"#bd3786\"], [0.5555555555555556, \"#d8576b\"], [0.6666666666666666, \"#ed7953\"], [0.7777777777777778, \"#fb9f3a\"], [0.8888888888888888, \"#fdca26\"], [1.0, \"#f0f921\"]], \"type\": \"contour\"}], \"contourcarpet\": [{\"colorbar\": {\"outlinewidth\": 0, \"ticks\": \"\"}, \"type\": \"contourcarpet\"}], \"heatmap\": [{\"colorbar\": {\"outlinewidth\": 0, \"ticks\": \"\"}, \"colorscale\": [[0.0, \"#0d0887\"], [0.1111111111111111, \"#46039f\"], [0.2222222222222222, \"#7201a8\"], [0.3333333333333333, \"#9c179e\"], [0.4444444444444444, \"#bd3786\"], [0.5555555555555556, \"#d8576b\"], [0.6666666666666666, \"#ed7953\"], [0.7777777777777778, \"#fb9f3a\"], [0.8888888888888888, \"#fdca26\"], [1.0, \"#f0f921\"]], \"type\": \"heatmap\"}], \"heatmapgl\": [{\"colorbar\": {\"outlinewidth\": 0, \"ticks\": \"\"}, \"colorscale\": [[0.0, \"#0d0887\"], [0.1111111111111111, \"#46039f\"], [0.2222222222222222, \"#7201a8\"], [0.3333333333333333, \"#9c179e\"], [0.4444444444444444, \"#bd3786\"], [0.5555555555555556, \"#d8576b\"], [0.6666666666666666, \"#ed7953\"], [0.7777777777777778, \"#fb9f3a\"], [0.8888888888888888, \"#fdca26\"], [1.0, \"#f0f921\"]], \"type\": \"heatmapgl\"}], \"histogram\": [{\"marker\": {\"colorbar\": {\"outlinewidth\": 0, \"ticks\": \"\"}}, \"type\": \"histogram\"}], \"histogram2d\": [{\"colorbar\": {\"outlinewidth\": 0, \"ticks\": \"\"}, \"colorscale\": [[0.0, \"#0d0887\"], [0.1111111111111111, \"#46039f\"], [0.2222222222222222, \"#7201a8\"], [0.3333333333333333, \"#9c179e\"], [0.4444444444444444, \"#bd3786\"], [0.5555555555555556, \"#d8576b\"], [0.6666666666666666, \"#ed7953\"], [0.7777777777777778, \"#fb9f3a\"], [0.8888888888888888, \"#fdca26\"], [1.0, \"#f0f921\"]], \"type\": \"histogram2d\"}], \"histogram2dcontour\": [{\"colorbar\": {\"outlinewidth\": 0, \"ticks\": \"\"}, \"colorscale\": [[0.0, \"#0d0887\"], [0.1111111111111111, \"#46039f\"], [0.2222222222222222, \"#7201a8\"], [0.3333333333333333, \"#9c179e\"], [0.4444444444444444, \"#bd3786\"], [0.5555555555555556, \"#d8576b\"], [0.6666666666666666, \"#ed7953\"], [0.7777777777777778, \"#fb9f3a\"], [0.8888888888888888, \"#fdca26\"], [1.0, \"#f0f921\"]], \"type\": \"histogram2dcontour\"}], \"mesh3d\": [{\"colorbar\": {\"outlinewidth\": 0, \"ticks\": \"\"}, \"type\": \"mesh3d\"}], \"parcoords\": [{\"line\": {\"colorbar\": {\"outlinewidth\": 0, \"ticks\": \"\"}}, \"type\": \"parcoords\"}], \"pie\": [{\"automargin\": true, \"type\": \"pie\"}], \"scatter\": [{\"marker\": {\"colorbar\": {\"outlinewidth\": 0, \"ticks\": \"\"}}, \"type\": \"scatter\"}], \"scatter3d\": [{\"line\": {\"colorbar\": {\"outlinewidth\": 0, \"ticks\": \"\"}}, \"marker\": {\"colorbar\": {\"outlinewidth\": 0, \"ticks\": \"\"}}, \"type\": \"scatter3d\"}], \"scattercarpet\": [{\"marker\": {\"colorbar\": {\"outlinewidth\": 0, \"ticks\": \"\"}}, \"type\": \"scattercarpet\"}], \"scattergeo\": [{\"marker\": {\"colorbar\": {\"outlinewidth\": 0, \"ticks\": \"\"}}, \"type\": \"scattergeo\"}], \"scattergl\": [{\"marker\": {\"colorbar\": {\"outlinewidth\": 0, \"ticks\": \"\"}}, \"type\": \"scattergl\"}], \"scattermapbox\": [{\"marker\": {\"colorbar\": {\"outlinewidth\": 0, \"ticks\": \"\"}}, \"type\": \"scattermapbox\"}], \"scatterpolar\": [{\"marker\": {\"colorbar\": {\"outlinewidth\": 0, \"ticks\": \"\"}}, \"type\": \"scatterpolar\"}], \"scatterpolargl\": [{\"marker\": {\"colorbar\": {\"outlinewidth\": 0, \"ticks\": \"\"}}, \"type\": \"scatterpolargl\"}], \"scatterternary\": [{\"marker\": {\"colorbar\": {\"outlinewidth\": 0, \"ticks\": \"\"}}, \"type\": \"scatterternary\"}], \"surface\": [{\"colorbar\": {\"outlinewidth\": 0, \"ticks\": \"\"}, \"colorscale\": [[0.0, \"#0d0887\"], [0.1111111111111111, \"#46039f\"], [0.2222222222222222, \"#7201a8\"], [0.3333333333333333, \"#9c179e\"], [0.4444444444444444, \"#bd3786\"], [0.5555555555555556, \"#d8576b\"], [0.6666666666666666, \"#ed7953\"], [0.7777777777777778, \"#fb9f3a\"], [0.8888888888888888, \"#fdca26\"], [1.0, \"#f0f921\"]], \"type\": \"surface\"}], \"table\": [{\"cells\": {\"fill\": {\"color\": \"#EBF0F8\"}, \"line\": {\"color\": \"white\"}}, \"header\": {\"fill\": {\"color\": \"#C8D4E3\"}, \"line\": {\"color\": \"white\"}}, \"type\": \"table\"}]}, \"layout\": {\"annotationdefaults\": {\"arrowcolor\": \"#2a3f5f\", \"arrowhead\": 0, \"arrowwidth\": 1}, \"coloraxis\": {\"colorbar\": {\"outlinewidth\": 0, \"ticks\": \"\"}}, \"colorscale\": {\"diverging\": [[0, \"#8e0152\"], [0.1, \"#c51b7d\"], [0.2, \"#de77ae\"], [0.3, \"#f1b6da\"], [0.4, \"#fde0ef\"], [0.5, \"#f7f7f7\"], [0.6, \"#e6f5d0\"], [0.7, \"#b8e186\"], [0.8, \"#7fbc41\"], [0.9, \"#4d9221\"], [1, \"#276419\"]], \"sequential\": [[0.0, \"#0d0887\"], [0.1111111111111111, \"#46039f\"], [0.2222222222222222, \"#7201a8\"], [0.3333333333333333, \"#9c179e\"], [0.4444444444444444, \"#bd3786\"], [0.5555555555555556, \"#d8576b\"], [0.6666666666666666, \"#ed7953\"], [0.7777777777777778, \"#fb9f3a\"], [0.8888888888888888, \"#fdca26\"], [1.0, \"#f0f921\"]], \"sequentialminus\": [[0.0, \"#0d0887\"], [0.1111111111111111, \"#46039f\"], [0.2222222222222222, \"#7201a8\"], [0.3333333333333333, \"#9c179e\"], [0.4444444444444444, \"#bd3786\"], [0.5555555555555556, \"#d8576b\"], [0.6666666666666666, \"#ed7953\"], [0.7777777777777778, \"#fb9f3a\"], [0.8888888888888888, \"#fdca26\"], [1.0, \"#f0f921\"]]}, \"colorway\": [\"#636efa\", \"#EF553B\", \"#00cc96\", \"#ab63fa\", \"#FFA15A\", \"#19d3f3\", \"#FF6692\", \"#B6E880\", \"#FF97FF\", \"#FECB52\"], \"font\": {\"color\": \"#2a3f5f\"}, \"geo\": {\"bgcolor\": \"white\", \"lakecolor\": \"white\", \"landcolor\": \"#E5ECF6\", \"showlakes\": true, \"showland\": true, \"subunitcolor\": \"white\"}, \"hoverlabel\": {\"align\": \"left\"}, \"hovermode\": \"closest\", \"mapbox\": {\"style\": \"light\"}, \"paper_bgcolor\": \"white\", \"plot_bgcolor\": \"#E5ECF6\", \"polar\": {\"angularaxis\": {\"gridcolor\": \"white\", \"linecolor\": \"white\", \"ticks\": \"\"}, \"bgcolor\": \"#E5ECF6\", \"radialaxis\": {\"gridcolor\": \"white\", \"linecolor\": \"white\", \"ticks\": \"\"}}, \"scene\": {\"xaxis\": {\"backgroundcolor\": \"#E5ECF6\", \"gridcolor\": \"white\", \"gridwidth\": 2, \"linecolor\": \"white\", \"showbackground\": true, \"ticks\": \"\", \"zerolinecolor\": \"white\"}, \"yaxis\": {\"backgroundcolor\": \"#E5ECF6\", \"gridcolor\": \"white\", \"gridwidth\": 2, \"linecolor\": \"white\", \"showbackground\": true, \"ticks\": \"\", \"zerolinecolor\": \"white\"}, \"zaxis\": {\"backgroundcolor\": \"#E5ECF6\", \"gridcolor\": \"white\", \"gridwidth\": 2, \"linecolor\": \"white\", \"showbackground\": true, \"ticks\": \"\", \"zerolinecolor\": \"white\"}}, \"shapedefaults\": {\"line\": {\"color\": \"#2a3f5f\"}}, \"ternary\": {\"aaxis\": {\"gridcolor\": \"white\", \"linecolor\": \"white\", \"ticks\": \"\"}, \"baxis\": {\"gridcolor\": \"white\", \"linecolor\": \"white\", \"ticks\": \"\"}, \"bgcolor\": \"#E5ECF6\", \"caxis\": {\"gridcolor\": \"white\", \"linecolor\": \"white\", \"ticks\": \"\"}}, \"title\": {\"x\": 0.05}, \"xaxis\": {\"automargin\": true, \"gridcolor\": \"white\", \"linecolor\": \"white\", \"ticks\": \"\", \"title\": {\"standoff\": 15}, \"zerolinecolor\": \"white\", \"zerolinewidth\": 2}, \"yaxis\": {\"automargin\": true, \"gridcolor\": \"white\", \"linecolor\": \"white\", \"ticks\": \"\", \"title\": {\"standoff\": 15}, \"zerolinecolor\": \"white\", \"zerolinewidth\": 2}}}, \"title\": {\"text\": \"Votes by <b>Category<b> &  <b>Party<b>\", \"x\": 0.5, \"xanchor\": \"center\", \"y\": 0.95, \"yanchor\": \"top\"}, \"updatemenus\": [{\"active\": 0, \"buttons\": [{\"args\": [{\"visible\": [true, false, false, false, false, false]}, {\"title\": {\"text\": \"Votes by <b>Category<b> &  <b>Party<b>\", \"x\": 0.5, \"xanchor\": \"center\", \"y\": 0.95, \"yanchor\": \"top\"}, \"xaxis\": {\"tickangle\": 45, \"title\": \"Category\"}, \"yaxis\": {\"title\": \"Party\"}}], \"label\": \"Category-Party\", \"method\": \"update\"}, {\"args\": [{\"visible\": [false, true, false, false, false, false]}, {\"title\": {\"text\": \"Votes by <b>Category<b> &  <b>Position<b>\", \"x\": 0.5, \"xanchor\": \"center\", \"y\": 0.95, \"yanchor\": \"top\"}, \"xaxis\": {\"tickangle\": 45, \"title\": \"Category\"}, \"yaxis\": {\"title\": \"Position\"}}], \"label\": \"Category-Position\", \"method\": \"update\"}, {\"args\": [{\"visible\": [false, false, true, false, false, false]}, {\"title\": {\"text\": \"Votes by <b>Category<b> &  <b>State<b>\", \"x\": 0.5, \"xanchor\": \"center\", \"y\": 0.95, \"yanchor\": \"top\"}, \"xaxis\": {\"tickangle\": 45, \"title\": \"Category\"}, \"yaxis\": {\"title\": \"State\"}}], \"label\": \"Category-State\", \"method\": \"update\"}, {\"args\": [{\"visible\": [false, false, false, true, false, false]}, {\"title\": {\"text\": \"Votes by <b>Party<b> &  <b>Position<b>\", \"x\": 0.5, \"xanchor\": \"center\", \"y\": 0.95, \"yanchor\": \"top\"}, \"xaxis\": {\"tickangle\": 45, \"title\": \"Party\"}, \"yaxis\": {\"title\": \"Position\"}}], \"label\": \"Party-Position\", \"method\": \"update\"}, {\"args\": [{\"visible\": [false, false, false, false, true, false]}, {\"title\": {\"text\": \"Votes by <b>Party<b> &  <b>State<b>\", \"x\": 0.5, \"xanchor\": \"center\", \"y\": 0.95, \"yanchor\": \"top\"}, \"xaxis\": {\"tickangle\": 45, \"title\": \"Party\"}, \"yaxis\": {\"title\": \"State\"}}], \"label\": \"Party-State\", \"method\": \"update\"}, {\"args\": [{\"visible\": [false, false, false, false, false, true]}, {\"title\": {\"text\": \"Votes by <b>Position<b> &  <b>State<b>\", \"x\": 0.5, \"xanchor\": \"center\", \"y\": 0.95, \"yanchor\": \"top\"}, \"xaxis\": {\"tickangle\": 45, \"title\": \"Position\"}, \"yaxis\": {\"title\": \"State\"}}], \"label\": \"Position-State\", \"method\": \"update\"}], \"direction\": \"down\", \"pad\": {\"r\": 10, \"t\": 10}, \"x\": 0, \"xanchor\": \"left\", \"y\": 1.1, \"yanchor\": \"top\"}], \"xaxis\": {\"tickangle\": 45, \"title\": {\"text\": \"Category\"}}, \"yaxis\": {\"title\": {\"text\": \"Party\"}}},\n",
       "                        {\"responsive\": true}\n",
       "                    ).then(function(){\n",
       "                            \n",
       "var gd = document.getElementById('04162ebd-c730-46b1-8770-868b24c6e8b2');\n",
       "var x = new MutationObserver(function (mutations, observer) {{\n",
       "        var display = window.getComputedStyle(gd).display;\n",
       "        if (!display || display === 'none') {{\n",
       "            console.log([gd, 'removed!']);\n",
       "            Plotly.purge(gd);\n",
       "            observer.disconnect();\n",
       "        }}\n",
       "}});\n",
       "\n",
       "// Listen for the removal of the full notebook cells\n",
       "var notebookContainer = gd.closest('#notebook-container');\n",
       "if (notebookContainer) {{\n",
       "    x.observe(notebookContainer, {childList: true});\n",
       "}}\n",
       "\n",
       "// Listen for the clearing of the current output cell\n",
       "var outputEl = gd.closest('.output');\n",
       "if (outputEl) {{\n",
       "    x.observe(outputEl, {childList: true});\n",
       "}}\n",
       "\n",
       "                        })\n",
       "                };\n",
       "                });\n",
       "            </script>\n",
       "        </div>"
      ]
     },
     "metadata": {},
     "output_type": "display_data"
    }
   ],
   "source": [
    "l=len(col_pairs)\n",
    "buttons=[]\n",
    "\n",
    "fig = go.Figure()\n",
    "\n",
    "for j, (c1,c2) in enumerate(col_pairs):\n",
    "    \n",
    "    col_pair = c1.capitalize() + '-' + c2.capitalize()\n",
    "    visible = [False]*l\n",
    "    visible[j] = True\n",
    "\n",
    "    tmp = d[col_pair]\n",
    "    \n",
    "    fig.add_trace( \n",
    "        go.Scatter(\n",
    "            x=tmp[c1],\n",
    "            y=tmp[c2],\n",
    "            mode='markers+text',\n",
    "            marker=dict(\n",
    "                size=np.where(tmp[f'pt_by_{col_pair}']<50, tmp[f'pt_by_{col_pair}']+20, 60),\n",
    "                color=tmp[f'votes_by_{col_pair}'],\n",
    "                colorscale='geyser',\n",
    "                showscale=False,\n",
    "                opacity = 0.7),\n",
    "            text=tmp[f'pt_by_{col_pair}'],\n",
    "            visible=True if j==0 else False,\n",
    "            textposition='middle center'))\n",
    "\n",
    "    buttons.append(\n",
    "        dict(label=col_pair,\n",
    "             method='update',\n",
    "             args=[{'visible': visible},\n",
    "                   {'title': {'text': f'Votes by <b>{c1.capitalize()}<b> &  <b>{c2.capitalize()}<b>',\n",
    "                              'y':0.95, 'x':0.5, 'xanchor': 'center', 'yanchor': 'top'},\n",
    "                   'xaxis': {'title': c1.capitalize(), 'tickangle': 45},\n",
    "                   'yaxis': {'title': c2.capitalize()}\n",
    "                   }]\n",
    "            )\n",
    "        )\n",
    "  \n",
    "\n",
    "    \n",
    "fig.update_layout(\n",
    "      margin=dict(l=120, t=200),\n",
    "      height=1150,\n",
    "      showlegend=False,\n",
    "      title = {'text': f'Votes by <b>{col_pairs[0][0].capitalize()}<b> &  <b>{col_pairs[0][1].capitalize()}<b>',\n",
    "                              'y':0.95, 'x':0.5, 'xanchor': 'center', 'yanchor': 'top'},\n",
    "      xaxis={'title': col_pairs[0][0].capitalize(), 'tickangle':45},\n",
    "      yaxis={'title': col_pairs[0][1].capitalize()},\n",
    "      updatemenus = [\n",
    "          go.layout.Updatemenu(\n",
    "             active=0,\n",
    "             buttons=buttons,\n",
    "             direction=\"down\",\n",
    "             pad={\"r\": 10, \"t\": 10},\n",
    "             #showactive=True,\n",
    "             x=0,\n",
    "             xanchor=\"left\",\n",
    "             y=1.1,\n",
    "             yanchor=\"top\"\n",
    "         )\n",
    "     ],\n",
    "    annotations=[\n",
    "        go.layout.Annotation(text=\"Select Columns\", x=0.02, xref=\"paper\", y=1.12, yref=\"paper\",\n",
    "                             align=\"left\", showarrow=False),\n",
    "    ])\n",
    "    \n",
    "\n",
    "fig.show()"
   ]
  },
  {
   "cell_type": "markdown",
   "metadata": {},
   "source": [
    "<a id=\"next\"></a>\n",
    "### Where to go from here?\n",
    "\n",
    "As I mentioned at the beginning I have no domain knowledge, I think it is possible to cluster values in the *position* columns, and maybe also *state* based on some understanding of their political situation.\n",
    "\n",
    "Another interesting analysis would be to confront *endorsers* behaviour with respect to 2016 Democratic Primary Endorsements data.\n",
    "\n",
    "As always, any feedback is more than welcomed :)"
   ]
  }
 ],
 "metadata": {
  "kernelspec": {
   "display_name": "Python 3",
   "language": "python",
   "name": "python3"
  },
  "language_info": {
   "codemirror_mode": {
    "name": "ipython",
    "version": 3
   },
   "file_extension": ".py",
   "mimetype": "text/x-python",
   "name": "python",
   "nbconvert_exporter": "python",
   "pygments_lexer": "ipython3",
   "version": "3.6.6"
  }
 },
 "nbformat": 4,
 "nbformat_minor": 1
}
